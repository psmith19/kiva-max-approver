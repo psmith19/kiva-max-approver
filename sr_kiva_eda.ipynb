{
 "cells": [
  {
   "cell_type": "code",
   "execution_count": 1,
   "metadata": {},
   "outputs": [],
   "source": [
    "import pandas as pd\n",
    "import numpy as np\n",
    "import matplotlib.pyplot as plt\n",
    "import seaborn as sns\n",
    "\n",
    "#modeling\n",
    "from sklearn.preprocessing import StandardScaler\n",
    "from sklearn.pipeline import Pipeline\n",
    "from sklearn.metrics import accuracy_score, precision_score, f1_score, confusion_matrix, ConfusionMatrixDisplay, roc_auc_score\n",
    "from sklearn.model_selection import train_test_split, cross_val_score, GridSearchCV\n",
    "from sklearn.linear_model import LogisticRegression, LinearRegression\n",
    "from sklearn.neighbors import KNeighborsClassifier\n",
    "from sklearn.tree import DecisionTreeClassifier\n",
    "from sklearn.ensemble import BaggingClassifier, RandomForestClassifier, AdaBoostClassifier, ExtraTreesClassifier, GradientBoostingClassifier\n",
    "from sklearn.svm import SVC"
   ]
  },
  {
   "cell_type": "code",
   "execution_count": 2,
   "metadata": {},
   "outputs": [],
   "source": [
    "kiva = pd.read_csv('kivamix.csv')"
   ]
  },
  {
   "cell_type": "code",
   "execution_count": 3,
   "metadata": {},
   "outputs": [
    {
     "data": {
      "text/plain": [
       "(419156, 35)"
      ]
     },
     "execution_count": 3,
     "metadata": {},
     "output_type": "execute_result"
    }
   ],
   "source": [
    "kiva.shape"
   ]
  },
  {
   "cell_type": "markdown",
   "metadata": {},
   "source": [
    "Variables of interest: \n",
    "\n"
   ]
  },
  {
   "cell_type": "code",
   "execution_count": 4,
   "metadata": {},
   "outputs": [],
   "source": [
    "#Drop unrequired columns\n",
    "kiva['month'] = kiva['POSTED_TIME'].str[6:7]\n",
    "kiva.drop(columns = ['LOAN_ID','LOAN_NAME', 'FUNDED_AMOUNT', 'DESCRIPTION', 'TOWN_NAME', 'CURRENCY_EXCHANGE_COVERAGE_RATE', 'CURRENCY', 'PARTNER_ID', 'PLANNED_EXPIRATION_TIME', 'DISBURSE_TIME', 'POSTED_TIME', 'RAISED_TIME', 'NUM_LENDERS_TOTAL', 'NUM_JOURNAL_ENTRIES', 'NUM_BULK_ENTRIES', 'BORROWER_NAMES', 'COUNTRY_NAME', 'CURRENCY_POLICY','year'], inplace=True)\n"
   ]
  },
  {
   "cell_type": "code",
   "execution_count": 5,
   "metadata": {},
   "outputs": [
    {
     "data": {
      "text/plain": [
       "(419156, 17)"
      ]
     },
     "execution_count": 5,
     "metadata": {},
     "output_type": "execute_result"
    }
   ],
   "source": [
    "kiva.shape"
   ]
  },
  {
   "cell_type": "code",
   "execution_count": 6,
   "metadata": {},
   "outputs": [],
   "source": [
    "#Converting long text columns to length of words and count of characters\n",
    "#Step1 is to drop nulls\n",
    "kiva = kiva.drop(kiva[(kiva['DESCRIPTION_TRANSLATED'].isnull()==True)].index)\n",
    "kiva = kiva.drop(kiva[(kiva['TAGS'].isnull()==True)].index)\n",
    "kiva = kiva.drop(kiva[(kiva['LOAN_USE'].isnull()==True)].index)\n",
    "\n"
   ]
  },
  {
   "cell_type": "code",
   "execution_count": 7,
   "metadata": {},
   "outputs": [],
   "source": [
    "#Step 2 is to update new columns\n",
    "def word_len_count(column):\n",
    "    word_count = len(column.split())\n",
    "    return word_count\n",
    "\n",
    "def char_len_count(column):\n",
    "    char_count = column.replace(' ','')\n",
    "    char_count = len(char_count[:])\n",
    "    return char_count\n",
    "\n",
    "kiva['word_count_DT'] = kiva['DESCRIPTION_TRANSLATED'].apply(word_len_count)\n",
    "kiva['word_count_TAGS'] = kiva['TAGS'].apply(word_len_count)\n",
    "kiva['word_count_LU'] = kiva['LOAN_USE'].apply(word_len_count)\n",
    "\n",
    "kiva['char_count_DT'] = kiva['DESCRIPTION_TRANSLATED'].apply(char_len_count)\n",
    "kiva['char_count_TAGS'] = kiva['TAGS'].apply(char_len_count)\n",
    "kiva['char_count_LU'] = kiva['LOAN_USE'].apply(char_len_count)\n"
   ]
  },
  {
   "cell_type": "code",
   "execution_count": 8,
   "metadata": {},
   "outputs": [
    {
     "data": {
      "text/html": [
       "<div>\n",
       "<style scoped>\n",
       "    .dataframe tbody tr th:only-of-type {\n",
       "        vertical-align: middle;\n",
       "    }\n",
       "\n",
       "    .dataframe tbody tr th {\n",
       "        vertical-align: top;\n",
       "    }\n",
       "\n",
       "    .dataframe thead th {\n",
       "        text-align: right;\n",
       "    }\n",
       "</style>\n",
       "<table border=\"1\" class=\"dataframe\">\n",
       "  <thead>\n",
       "    <tr style=\"text-align: right;\">\n",
       "      <th></th>\n",
       "      <th>ORIGINAL_LANGUAGE</th>\n",
       "      <th>DESCRIPTION_TRANSLATED</th>\n",
       "      <th>LOAN_AMOUNT</th>\n",
       "      <th>STATUS</th>\n",
       "      <th>IMAGE_ID</th>\n",
       "      <th>VIDEO_ID</th>\n",
       "      <th>ACTIVITY_NAME</th>\n",
       "      <th>SECTOR_NAME</th>\n",
       "      <th>LOAN_USE</th>\n",
       "      <th>COUNTRY_CODE</th>\n",
       "      <th>...</th>\n",
       "      <th>BORROWER_PICTURED</th>\n",
       "      <th>REPAYMENT_INTERVAL</th>\n",
       "      <th>DISTRIBUTION_MODEL</th>\n",
       "      <th>month</th>\n",
       "      <th>word_count_DT</th>\n",
       "      <th>word_count_TAGS</th>\n",
       "      <th>word_count_LU</th>\n",
       "      <th>char_count_DT</th>\n",
       "      <th>char_count_TAGS</th>\n",
       "      <th>char_count_LU</th>\n",
       "    </tr>\n",
       "  </thead>\n",
       "  <tbody>\n",
       "    <tr>\n",
       "      <th>0</th>\n",
       "      <td>Spanish</td>\n",
       "      <td>The city of Portoviejo is located in the valle...</td>\n",
       "      <td>1075.0</td>\n",
       "      <td>1</td>\n",
       "      <td>2638561.0</td>\n",
       "      <td>NaN</td>\n",
       "      <td>Natural Medicines</td>\n",
       "      <td>Health</td>\n",
       "      <td>to purchase natural products.</td>\n",
       "      <td>EC</td>\n",
       "      <td>...</td>\n",
       "      <td>true</td>\n",
       "      <td>monthly</td>\n",
       "      <td>field_partner</td>\n",
       "      <td>1</td>\n",
       "      <td>192</td>\n",
       "      <td>5</td>\n",
       "      <td>4</td>\n",
       "      <td>924</td>\n",
       "      <td>36</td>\n",
       "      <td>26</td>\n",
       "    </tr>\n",
       "    <tr>\n",
       "      <th>1</th>\n",
       "      <td>English</td>\n",
       "      <td>Lorna is a married woman, 39 years old with fi...</td>\n",
       "      <td>400.0</td>\n",
       "      <td>0</td>\n",
       "      <td>3108106.0</td>\n",
       "      <td>NaN</td>\n",
       "      <td>Personal Products Sales</td>\n",
       "      <td>Retail</td>\n",
       "      <td>to purchase additional stocks of Avon, Natasha...</td>\n",
       "      <td>PH</td>\n",
       "      <td>...</td>\n",
       "      <td>true</td>\n",
       "      <td>monthly</td>\n",
       "      <td>field_partner</td>\n",
       "      <td>3</td>\n",
       "      <td>75</td>\n",
       "      <td>3</td>\n",
       "      <td>12</td>\n",
       "      <td>371</td>\n",
       "      <td>28</td>\n",
       "      <td>69</td>\n",
       "    </tr>\n",
       "  </tbody>\n",
       "</table>\n",
       "<p>2 rows × 23 columns</p>\n",
       "</div>"
      ],
      "text/plain": [
       "  ORIGINAL_LANGUAGE                             DESCRIPTION_TRANSLATED  \\\n",
       "0           Spanish  The city of Portoviejo is located in the valle...   \n",
       "1           English  Lorna is a married woman, 39 years old with fi...   \n",
       "\n",
       "   LOAN_AMOUNT  STATUS   IMAGE_ID  VIDEO_ID            ACTIVITY_NAME  \\\n",
       "0       1075.0       1  2638561.0       NaN        Natural Medicines   \n",
       "1        400.0       0  3108106.0       NaN  Personal Products Sales   \n",
       "\n",
       "  SECTOR_NAME                                           LOAN_USE COUNTRY_CODE  \\\n",
       "0      Health                      to purchase natural products.           EC   \n",
       "1      Retail  to purchase additional stocks of Avon, Natasha...           PH   \n",
       "\n",
       "   ...  BORROWER_PICTURED REPAYMENT_INTERVAL DISTRIBUTION_MODEL month  \\\n",
       "0  ...               true            monthly      field_partner     1   \n",
       "1  ...               true            monthly      field_partner     3   \n",
       "\n",
       "  word_count_DT word_count_TAGS word_count_LU  char_count_DT  char_count_TAGS  \\\n",
       "0           192               5             4            924               36   \n",
       "1            75               3            12            371               28   \n",
       "\n",
       "   char_count_LU  \n",
       "0             26  \n",
       "1             69  \n",
       "\n",
       "[2 rows x 23 columns]"
      ]
     },
     "execution_count": 8,
     "metadata": {},
     "output_type": "execute_result"
    }
   ],
   "source": [
    "kiva.head(2)"
   ]
  },
  {
   "cell_type": "code",
   "execution_count": null,
   "metadata": {},
   "outputs": [],
   "source": [
    "kiva.drop(columns = ['DESCRIPTION_TRANSLATED', 'LOAN_USE', 'TAGS'], inplace=True)\n"
   ]
  },
  {
   "cell_type": "code",
   "execution_count": 11,
   "metadata": {},
   "outputs": [
    {
     "data": {
      "text/html": [
       "<div>\n",
       "<style scoped>\n",
       "    .dataframe tbody tr th:only-of-type {\n",
       "        vertical-align: middle;\n",
       "    }\n",
       "\n",
       "    .dataframe tbody tr th {\n",
       "        vertical-align: top;\n",
       "    }\n",
       "\n",
       "    .dataframe thead th {\n",
       "        text-align: right;\n",
       "    }\n",
       "</style>\n",
       "<table border=\"1\" class=\"dataframe\">\n",
       "  <thead>\n",
       "    <tr style=\"text-align: right;\">\n",
       "      <th></th>\n",
       "      <th>ORIGINAL_LANGUAGE</th>\n",
       "      <th>LOAN_AMOUNT</th>\n",
       "      <th>STATUS</th>\n",
       "      <th>IMAGE_ID</th>\n",
       "      <th>VIDEO_ID</th>\n",
       "      <th>ACTIVITY_NAME</th>\n",
       "      <th>SECTOR_NAME</th>\n",
       "      <th>COUNTRY_CODE</th>\n",
       "      <th>LENDER_TERM</th>\n",
       "      <th>BORROWER_GENDERS</th>\n",
       "      <th>BORROWER_PICTURED</th>\n",
       "      <th>REPAYMENT_INTERVAL</th>\n",
       "      <th>DISTRIBUTION_MODEL</th>\n",
       "      <th>month</th>\n",
       "      <th>word_count_DT</th>\n",
       "      <th>word_count_TAGS</th>\n",
       "      <th>word_count_LU</th>\n",
       "      <th>char_count_DT</th>\n",
       "      <th>char_count_TAGS</th>\n",
       "      <th>char_count_LU</th>\n",
       "    </tr>\n",
       "  </thead>\n",
       "  <tbody>\n",
       "    <tr>\n",
       "      <th>0</th>\n",
       "      <td>Spanish</td>\n",
       "      <td>1075.0</td>\n",
       "      <td>1</td>\n",
       "      <td>2638561.0</td>\n",
       "      <td>NaN</td>\n",
       "      <td>Natural Medicines</td>\n",
       "      <td>Health</td>\n",
       "      <td>EC</td>\n",
       "      <td>6.0</td>\n",
       "      <td>female</td>\n",
       "      <td>true</td>\n",
       "      <td>monthly</td>\n",
       "      <td>field_partner</td>\n",
       "      <td>1</td>\n",
       "      <td>192</td>\n",
       "      <td>5</td>\n",
       "      <td>4</td>\n",
       "      <td>924</td>\n",
       "      <td>36</td>\n",
       "      <td>26</td>\n",
       "    </tr>\n",
       "    <tr>\n",
       "      <th>1</th>\n",
       "      <td>English</td>\n",
       "      <td>400.0</td>\n",
       "      <td>0</td>\n",
       "      <td>3108106.0</td>\n",
       "      <td>NaN</td>\n",
       "      <td>Personal Products Sales</td>\n",
       "      <td>Retail</td>\n",
       "      <td>PH</td>\n",
       "      <td>14.0</td>\n",
       "      <td>female</td>\n",
       "      <td>true</td>\n",
       "      <td>monthly</td>\n",
       "      <td>field_partner</td>\n",
       "      <td>3</td>\n",
       "      <td>75</td>\n",
       "      <td>3</td>\n",
       "      <td>12</td>\n",
       "      <td>371</td>\n",
       "      <td>28</td>\n",
       "      <td>69</td>\n",
       "    </tr>\n",
       "  </tbody>\n",
       "</table>\n",
       "</div>"
      ],
      "text/plain": [
       "  ORIGINAL_LANGUAGE  LOAN_AMOUNT  STATUS   IMAGE_ID  VIDEO_ID  \\\n",
       "0           Spanish       1075.0       1  2638561.0       NaN   \n",
       "1           English        400.0       0  3108106.0       NaN   \n",
       "\n",
       "             ACTIVITY_NAME SECTOR_NAME COUNTRY_CODE  LENDER_TERM  \\\n",
       "0        Natural Medicines      Health           EC          6.0   \n",
       "1  Personal Products Sales      Retail           PH         14.0   \n",
       "\n",
       "  BORROWER_GENDERS BORROWER_PICTURED REPAYMENT_INTERVAL DISTRIBUTION_MODEL  \\\n",
       "0           female              true            monthly      field_partner   \n",
       "1           female              true            monthly      field_partner   \n",
       "\n",
       "  month  word_count_DT  word_count_TAGS  word_count_LU  char_count_DT  \\\n",
       "0     1            192                5              4            924   \n",
       "1     3             75                3             12            371   \n",
       "\n",
       "   char_count_TAGS  char_count_LU  \n",
       "0               36             26  \n",
       "1               28             69  "
      ]
     },
     "execution_count": 11,
     "metadata": {},
     "output_type": "execute_result"
    }
   ],
   "source": [
    "kiva.head(2)"
   ]
  },
  {
   "cell_type": "code",
   "execution_count": 12,
   "metadata": {},
   "outputs": [
    {
     "data": {
      "text/plain": [
       "(344588, 20)"
      ]
     },
     "execution_count": 12,
     "metadata": {},
     "output_type": "execute_result"
    }
   ],
   "source": [
    "kiva.shape"
   ]
  },
  {
   "cell_type": "code",
   "execution_count": 13,
   "metadata": {},
   "outputs": [
    {
     "data": {
      "text/plain": [
       "ORIGINAL_LANGUAGE          0\n",
       "LOAN_AMOUNT                0\n",
       "STATUS                     0\n",
       "IMAGE_ID                   0\n",
       "VIDEO_ID              344447\n",
       "ACTIVITY_NAME              0\n",
       "SECTOR_NAME                0\n",
       "COUNTRY_CODE              11\n",
       "LENDER_TERM                0\n",
       "BORROWER_GENDERS           0\n",
       "BORROWER_PICTURED          0\n",
       "REPAYMENT_INTERVAL         0\n",
       "DISTRIBUTION_MODEL         0\n",
       "month                      0\n",
       "word_count_DT              0\n",
       "word_count_TAGS            0\n",
       "word_count_LU              0\n",
       "char_count_DT              0\n",
       "char_count_TAGS            0\n",
       "char_count_LU              0\n",
       "dtype: int64"
      ]
     },
     "execution_count": 13,
     "metadata": {},
     "output_type": "execute_result"
    }
   ],
   "source": [
    "kiva.isnull().sum()"
   ]
  },
  {
   "cell_type": "code",
   "execution_count": 14,
   "metadata": {},
   "outputs": [],
   "source": [
    "fill_values = {'ORIGINAL_LANGUAGE' : 'MISSING', 'BORROWER_GENDERS' : 'MISSING', 'BORROWER_PICTURED' : 'MISSING', 'COUNTRY_CODE':'MISSING' }\n",
    "kiva .fillna(value = fill_values, inplace=True)"
   ]
  },
  {
   "cell_type": "code",
   "execution_count": 15,
   "metadata": {},
   "outputs": [
    {
     "data": {
      "text/plain": [
       "ORIGINAL_LANGUAGE          0\n",
       "LOAN_AMOUNT                0\n",
       "STATUS                     0\n",
       "IMAGE_ID                   0\n",
       "VIDEO_ID              344447\n",
       "ACTIVITY_NAME              0\n",
       "SECTOR_NAME                0\n",
       "COUNTRY_CODE               0\n",
       "LENDER_TERM                0\n",
       "BORROWER_GENDERS           0\n",
       "BORROWER_PICTURED          0\n",
       "REPAYMENT_INTERVAL         0\n",
       "DISTRIBUTION_MODEL         0\n",
       "month                      0\n",
       "word_count_DT              0\n",
       "word_count_TAGS            0\n",
       "word_count_LU              0\n",
       "char_count_DT              0\n",
       "char_count_TAGS            0\n",
       "char_count_LU              0\n",
       "dtype: int64"
      ]
     },
     "execution_count": 15,
     "metadata": {},
     "output_type": "execute_result"
    }
   ],
   "source": [
    "kiva.isnull().sum()"
   ]
  },
  {
   "cell_type": "code",
   "execution_count": null,
   "metadata": {},
   "outputs": [],
   "source": []
  },
  {
   "cell_type": "code",
   "execution_count": 16,
   "metadata": {},
   "outputs": [],
   "source": [
    "#Mark whether Image and Video was provided\n",
    "kiva['IMAGE_ID'] = np.where(kiva['IMAGE_ID'].isnull(), 0, 1)\n",
    "kiva['VIDEO_ID'] = np.where(kiva['VIDEO_ID'].isnull(), 0, 1)"
   ]
  },
  {
   "cell_type": "code",
   "execution_count": 17,
   "metadata": {},
   "outputs": [],
   "source": [
    "## Parse out borrower genders\n",
    "kiva['FEM_COUNT'] = kiva['BORROWER_GENDERS'].str.count(\"female\")\n",
    "kiva['MALE_COUNT'] = kiva['BORROWER_GENDERS'].str.count(\"male\")"
   ]
  },
  {
   "cell_type": "code",
   "execution_count": 18,
   "metadata": {},
   "outputs": [
    {
     "data": {
      "text/plain": [
       "1     290804\n",
       "2       8030\n",
       "3       7982\n",
       "4       6486\n",
       "5       6426\n",
       "8       2799\n",
       "6       2565\n",
       "10      2494\n",
       "7       2151\n",
       "9       2094\n",
       "11      1613\n",
       "12      1491\n",
       "15      1277\n",
       "13      1256\n",
       "14      1053\n",
       "16      1003\n",
       "17       733\n",
       "20       661\n",
       "18       574\n",
       "19       540\n",
       "21       406\n",
       "22       343\n",
       "23       308\n",
       "25       256\n",
       "24       236\n",
       "26       196\n",
       "30       141\n",
       "27       139\n",
       "28       113\n",
       "29       103\n",
       "31        67\n",
       "32        37\n",
       "35        35\n",
       "34        33\n",
       "33        32\n",
       "37        23\n",
       "38        20\n",
       "36        16\n",
       "40        10\n",
       "41         7\n",
       "39         6\n",
       "42         6\n",
       "43         6\n",
       "44         6\n",
       "50         4\n",
       "45         2\n",
       "48         2\n",
       "49         1\n",
       "46         1\n",
       "47         1\n",
       "Name: MALE_COUNT, dtype: int64"
      ]
     },
     "execution_count": 18,
     "metadata": {},
     "output_type": "execute_result"
    }
   ],
   "source": [
    "kiva['MALE_COUNT'].value_counts()"
   ]
  },
  {
   "cell_type": "code",
   "execution_count": 19,
   "metadata": {},
   "outputs": [
    {
     "data": {
      "text/plain": [
       "Index(['ORIGINAL_LANGUAGE', 'LOAN_AMOUNT', 'STATUS', 'IMAGE_ID', 'VIDEO_ID',\n",
       "       'ACTIVITY_NAME', 'SECTOR_NAME', 'COUNTRY_CODE', 'LENDER_TERM',\n",
       "       'BORROWER_GENDERS', 'BORROWER_PICTURED', 'REPAYMENT_INTERVAL',\n",
       "       'DISTRIBUTION_MODEL', 'month', 'word_count_DT', 'word_count_TAGS',\n",
       "       'word_count_LU', 'char_count_DT', 'char_count_TAGS', 'char_count_LU',\n",
       "       'FEM_COUNT', 'MALE_COUNT'],\n",
       "      dtype='object')"
      ]
     },
     "execution_count": 19,
     "metadata": {},
     "output_type": "execute_result"
    }
   ],
   "source": [
    "kiva.columns"
   ]
  },
  {
   "cell_type": "code",
   "execution_count": 20,
   "metadata": {},
   "outputs": [],
   "source": [
    "kiva = kiva.drop(columns = ['BORROWER_GENDERS', 'BORROWER_PICTURED'])"
   ]
  },
  {
   "cell_type": "code",
   "execution_count": 21,
   "metadata": {},
   "outputs": [
    {
     "data": {
      "text/plain": [
       "ORIGINAL_LANGUAGE      object\n",
       "LOAN_AMOUNT           float64\n",
       "STATUS                  int64\n",
       "IMAGE_ID                int32\n",
       "VIDEO_ID                int32\n",
       "ACTIVITY_NAME          object\n",
       "SECTOR_NAME            object\n",
       "COUNTRY_CODE           object\n",
       "LENDER_TERM           float64\n",
       "REPAYMENT_INTERVAL     object\n",
       "DISTRIBUTION_MODEL     object\n",
       "month                  object\n",
       "word_count_DT           int64\n",
       "word_count_TAGS         int64\n",
       "word_count_LU           int64\n",
       "char_count_DT           int64\n",
       "char_count_TAGS         int64\n",
       "char_count_LU           int64\n",
       "FEM_COUNT               int64\n",
       "MALE_COUNT              int64\n",
       "dtype: object"
      ]
     },
     "execution_count": 21,
     "metadata": {},
     "output_type": "execute_result"
    }
   ],
   "source": [
    "kiva.dtypes"
   ]
  },
  {
   "cell_type": "code",
   "execution_count": 22,
   "metadata": {},
   "outputs": [
    {
     "data": {
      "text/plain": [
       "(344588, 20)"
      ]
     },
     "execution_count": 22,
     "metadata": {},
     "output_type": "execute_result"
    }
   ],
   "source": [
    "kiva.shape"
   ]
  },
  {
   "cell_type": "code",
   "execution_count": 24,
   "metadata": {},
   "outputs": [
    {
     "name": "stdout",
     "output_type": "stream",
     "text": [
      "                    count      mean\n",
      "ACTIVITY_NAME                      \n",
      "Adult Care              3  1.000000\n",
      "Agriculture         11207  0.749353\n",
      "Air Conditioning       16  1.000000\n",
      "Animal Sales         4121  0.801747\n",
      "Aquaculture           250  0.920000\n",
      "...                   ...       ...\n",
      "Water Distribution    246  0.947154\n",
      "Weaving              1529  0.998692\n",
      "Wedding Expenses      251  0.478088\n",
      "Well digging           17  1.000000\n",
      "Wholesale             171  0.865497\n",
      "\n",
      "[163 rows x 2 columns]\n",
      "                count      mean\n",
      "SECTOR_NAME                    \n",
      "Agriculture     96871  0.791558\n",
      "Arts             6383  0.978067\n",
      "Clothing        16964  0.761318\n",
      "Construction     3080  0.828247\n",
      "Education       16442  0.954203\n",
      "Entertainment     304  0.898026\n",
      "Food            64776  0.813851\n",
      "Health           7387  0.770407\n",
      "Housing         22534  0.832076\n",
      "Manufacturing    2361  0.991953\n",
      "Personal Use    18302  0.919462\n",
      "Retail          56794  0.756559\n",
      "Services        23953  0.792594\n",
      "Transportation   8161  0.653964\n",
      "Wholesale         276  0.873188\n",
      "              count      mean\n",
      "COUNTRY_CODE                 \n",
      "AF                1  1.000000\n",
      "AL             1406  0.632290\n",
      "AM             4961  0.536585\n",
      "AZ              368  0.619565\n",
      "BD                1  1.000000\n",
      "...             ...       ...\n",
      "XK              772  0.568653\n",
      "YE              215  0.860465\n",
      "ZA               98  1.000000\n",
      "ZM              456  0.914474\n",
      "ZW             2405  0.945114\n",
      "\n",
      "[84 rows x 2 columns]\n",
      "                     count      mean\n",
      "REPAYMENT_INTERVAL                  \n",
      "bullet               37198  0.762165\n",
      "irregular            16873  0.755586\n",
      "monthly             290517  0.816166\n",
      "                     count      mean\n",
      "DISTRIBUTION_MODEL                  \n",
      "direct                1979  0.702375\n",
      "field_partner       342609  0.807976\n",
      "       count      mean\n",
      "month                 \n",
      "0      31823  0.781856\n",
      "1      55338  0.816148\n",
      "2      49545  0.881078\n",
      "3      29950  0.852721\n",
      "4      28101  0.791431\n",
      "5      31845  0.749129\n",
      "6      28846  0.769327\n",
      "7      31126  0.739285\n",
      "8      28666  0.817414\n",
      "9      29348  0.826019\n"
     ]
    }
   ],
   "source": [
    "catcols = ['ORIGINAL_LANGUAGE', 'ACTIVITY_NAME', 'SECTOR_NAME', 'COUNTRY_CODE', 'REPAYMENT_INTERVAL', 'DISTRIBUTION_MODEL', 'month']\n",
    "\n",
    "for i in range(1,len(catcols)):\n",
    "    print(kiva.groupby(catcols[i], dropna=False)['STATUS'].agg(['count', 'mean']))\n",
    "    #print(pd.pivot_table(df, columns = totcols[i], aggfunc=np.count))"
   ]
  },
  {
   "cell_type": "code",
   "execution_count": 25,
   "metadata": {},
   "outputs": [],
   "source": [
    "kiva_dummies = pd.get_dummies(kiva, drop_first=True)"
   ]
  },
  {
   "cell_type": "code",
   "execution_count": 26,
   "metadata": {},
   "outputs": [
    {
     "data": {
      "text/plain": [
       "(344588, 288)"
      ]
     },
     "execution_count": 26,
     "metadata": {},
     "output_type": "execute_result"
    }
   ],
   "source": [
    "kiva_dummies.shape"
   ]
  },
  {
   "cell_type": "code",
   "execution_count": 28,
   "metadata": {},
   "outputs": [],
   "source": [
    "kiva_dummies_small = kiva_dummies.sample(200_000)"
   ]
  },
  {
   "cell_type": "code",
   "execution_count": 29,
   "metadata": {},
   "outputs": [],
   "source": [
    "X = kiva_dummies_small.drop(columns = ['STATUS'])\n",
    "y = kiva_dummies_small['STATUS']"
   ]
  },
  {
   "cell_type": "code",
   "execution_count": 30,
   "metadata": {},
   "outputs": [
    {
     "name": "stderr",
     "output_type": "stream",
     "text": [
      "C:\\Users\\shash\\anaconda3\\lib\\site-packages\\sklearn\\linear_model\\_logistic.py:763: ConvergenceWarning: lbfgs failed to converge (status=1):\n",
      "STOP: TOTAL NO. of ITERATIONS REACHED LIMIT.\n",
      "\n",
      "Increase the number of iterations (max_iter) or scale the data as shown in:\n",
      "    https://scikit-learn.org/stable/modules/preprocessing.html\n",
      "Please also refer to the documentation for alternative solver options:\n",
      "    https://scikit-learn.org/stable/modules/linear_model.html#logistic-regression\n",
      "  n_iter_i = _check_optimize_result(\n"
     ]
    },
    {
     "name": "stdout",
     "output_type": "stream",
     "text": [
      "0.8089133333333334 0.80836\n"
     ]
    }
   ],
   "source": [
    "X_train, X_test, y_train, y_test = train_test_split(X, y, random_state =42, stratify=y)\n",
    "logreg = LogisticRegression()\n",
    "logreg.fit(X_train, y_train)\n",
    "print(logreg.score(X_train,y_train), logreg.score(X_test,y_test))"
   ]
  },
  {
   "cell_type": "code",
   "execution_count": 31,
   "metadata": {},
   "outputs": [
    {
     "data": {
      "text/html": [
       "<div>\n",
       "<style scoped>\n",
       "    .dataframe tbody tr th:only-of-type {\n",
       "        vertical-align: middle;\n",
       "    }\n",
       "\n",
       "    .dataframe tbody tr th {\n",
       "        vertical-align: top;\n",
       "    }\n",
       "\n",
       "    .dataframe thead th {\n",
       "        text-align: right;\n",
       "    }\n",
       "</style>\n",
       "<table border=\"1\" class=\"dataframe\">\n",
       "  <thead>\n",
       "    <tr style=\"text-align: right;\">\n",
       "      <th></th>\n",
       "      <th>coefficients</th>\n",
       "      <th>features</th>\n",
       "    </tr>\n",
       "  </thead>\n",
       "  <tbody>\n",
       "    <tr>\n",
       "      <th>10</th>\n",
       "      <td>0.214432</td>\n",
       "      <td>FEM_COUNT</td>\n",
       "    </tr>\n",
       "    <tr>\n",
       "      <th>5</th>\n",
       "      <td>-0.091377</td>\n",
       "      <td>word_count_TAGS</td>\n",
       "    </tr>\n",
       "    <tr>\n",
       "      <th>11</th>\n",
       "      <td>0.088758</td>\n",
       "      <td>MALE_COUNT</td>\n",
       "    </tr>\n",
       "    <tr>\n",
       "      <th>276</th>\n",
       "      <td>0.074409</td>\n",
       "      <td>REPAYMENT_INTERVAL_monthly</td>\n",
       "    </tr>\n",
       "    <tr>\n",
       "      <th>244</th>\n",
       "      <td>0.068664</td>\n",
       "      <td>COUNTRY_CODE_PH</td>\n",
       "    </tr>\n",
       "    <tr>\n",
       "      <th>6</th>\n",
       "      <td>0.068260</td>\n",
       "      <td>word_count_LU</td>\n",
       "    </tr>\n",
       "    <tr>\n",
       "      <th>1</th>\n",
       "      <td>0.060826</td>\n",
       "      <td>IMAGE_ID</td>\n",
       "    </tr>\n",
       "    <tr>\n",
       "      <th>277</th>\n",
       "      <td>0.059115</td>\n",
       "      <td>DISTRIBUTION_MODEL_field_partner</td>\n",
       "    </tr>\n",
       "    <tr>\n",
       "      <th>279</th>\n",
       "      <td>0.034510</td>\n",
       "      <td>month_2</td>\n",
       "    </tr>\n",
       "    <tr>\n",
       "      <th>222</th>\n",
       "      <td>-0.027032</td>\n",
       "      <td>COUNTRY_CODE_KE</td>\n",
       "    </tr>\n",
       "    <tr>\n",
       "      <th>181</th>\n",
       "      <td>0.025502</td>\n",
       "      <td>SECTOR_NAME_Education</td>\n",
       "    </tr>\n",
       "    <tr>\n",
       "      <th>206</th>\n",
       "      <td>-0.023060</td>\n",
       "      <td>COUNTRY_CODE_CO</td>\n",
       "    </tr>\n",
       "    <tr>\n",
       "      <th>8</th>\n",
       "      <td>0.019384</td>\n",
       "      <td>char_count_TAGS</td>\n",
       "    </tr>\n",
       "    <tr>\n",
       "      <th>4</th>\n",
       "      <td>-0.018716</td>\n",
       "      <td>word_count_DT</td>\n",
       "    </tr>\n",
       "    <tr>\n",
       "      <th>12</th>\n",
       "      <td>0.016174</td>\n",
       "      <td>ORIGINAL_LANGUAGE_French</td>\n",
       "    </tr>\n",
       "    <tr>\n",
       "      <th>92</th>\n",
       "      <td>0.015716</td>\n",
       "      <td>ACTIVITY_NAME_Higher education costs</td>\n",
       "    </tr>\n",
       "    <tr>\n",
       "      <th>72</th>\n",
       "      <td>-0.014486</td>\n",
       "      <td>ACTIVITY_NAME_Farming</td>\n",
       "    </tr>\n",
       "    <tr>\n",
       "      <th>256</th>\n",
       "      <td>-0.013923</td>\n",
       "      <td>COUNTRY_CODE_SV</td>\n",
       "    </tr>\n",
       "    <tr>\n",
       "      <th>183</th>\n",
       "      <td>0.013685</td>\n",
       "      <td>SECTOR_NAME_Food</td>\n",
       "    </tr>\n",
       "    <tr>\n",
       "      <th>280</th>\n",
       "      <td>0.013574</td>\n",
       "      <td>month_3</td>\n",
       "    </tr>\n",
       "    <tr>\n",
       "      <th>187</th>\n",
       "      <td>0.013223</td>\n",
       "      <td>SECTOR_NAME_Personal Use</td>\n",
       "    </tr>\n",
       "    <tr>\n",
       "      <th>135</th>\n",
       "      <td>0.012554</td>\n",
       "      <td>ACTIVITY_NAME_Pigs</td>\n",
       "    </tr>\n",
       "    <tr>\n",
       "      <th>278</th>\n",
       "      <td>0.011856</td>\n",
       "      <td>month_1</td>\n",
       "    </tr>\n",
       "    <tr>\n",
       "      <th>265</th>\n",
       "      <td>-0.011007</td>\n",
       "      <td>COUNTRY_CODE_UG</td>\n",
       "    </tr>\n",
       "    <tr>\n",
       "      <th>15</th>\n",
       "      <td>-0.010920</td>\n",
       "      <td>ORIGINAL_LANGUAGE_Spanish</td>\n",
       "    </tr>\n",
       "  </tbody>\n",
       "</table>\n",
       "</div>"
      ],
      "text/plain": [
       "     coefficients                              features\n",
       "10       0.214432                             FEM_COUNT\n",
       "5       -0.091377                       word_count_TAGS\n",
       "11       0.088758                            MALE_COUNT\n",
       "276      0.074409            REPAYMENT_INTERVAL_monthly\n",
       "244      0.068664                       COUNTRY_CODE_PH\n",
       "6        0.068260                         word_count_LU\n",
       "1        0.060826                              IMAGE_ID\n",
       "277      0.059115      DISTRIBUTION_MODEL_field_partner\n",
       "279      0.034510                               month_2\n",
       "222     -0.027032                       COUNTRY_CODE_KE\n",
       "181      0.025502                 SECTOR_NAME_Education\n",
       "206     -0.023060                       COUNTRY_CODE_CO\n",
       "8        0.019384                       char_count_TAGS\n",
       "4       -0.018716                         word_count_DT\n",
       "12       0.016174              ORIGINAL_LANGUAGE_French\n",
       "92       0.015716  ACTIVITY_NAME_Higher education costs\n",
       "72      -0.014486                 ACTIVITY_NAME_Farming\n",
       "256     -0.013923                       COUNTRY_CODE_SV\n",
       "183      0.013685                      SECTOR_NAME_Food\n",
       "280      0.013574                               month_3\n",
       "187      0.013223              SECTOR_NAME_Personal Use\n",
       "135      0.012554                    ACTIVITY_NAME_Pigs\n",
       "278      0.011856                               month_1\n",
       "265     -0.011007                       COUNTRY_CODE_UG\n",
       "15      -0.010920             ORIGINAL_LANGUAGE_Spanish"
      ]
     },
     "execution_count": 31,
     "metadata": {},
     "output_type": "execute_result"
    }
   ],
   "source": [
    "coef= logreg.coef_[0]\n",
    "coef_df = pd.DataFrame({'coefficients': coef, 'features': X_train.columns}).sort_values(by = 'coefficients', ascending = False, key = abs).head(25)\n",
    "coef_df"
   ]
  },
  {
   "cell_type": "code",
   "execution_count": 32,
   "metadata": {},
   "outputs": [
    {
     "data": {
      "image/png": "[encoded data removed]",
      "text/plain": [
       "<Figure size 432x288 with 2 Axes>"
      ]
     },
     "metadata": {
      "needs_background": "light"
     },
     "output_type": "display_data"
    }
   ],
   "source": [
    "#get predictions \n",
    "preds = logreg.predict(X_test)\n",
    "\n",
    "#plot confusion matrix\n",
    "cm = confusion_matrix(y_test, preds)\n",
    "ConfusionMatrixDisplay(cm).plot();"
   ]
  },
  {
   "cell_type": "code",
   "execution_count": 34,
   "metadata": {},
   "outputs": [
    {
     "name": "stdout",
     "output_type": "stream",
     "text": [
      "Various scores:  AUROC: 0.5227641183737617, ACC_SCORE: 0.80836, F1: 0.8926867510359502\n"
     ]
    }
   ],
   "source": [
    "print(f'Various scores:  AUROC: {roc_auc_score(y_test, preds)}, ACC_SCORE: {accuracy_score(y_test, preds)}, F1: {f1_score(y_test, preds)}')\n"
   ]
  },
  {
   "cell_type": "code",
   "execution_count": 35,
   "metadata": {},
   "outputs": [],
   "source": [
    "#create a list of the model classes to test\n",
    "model_list = [\n",
    "    #LogisticRegression(),\n",
    "    #DecisionTreeClassifier(),\n",
    "    #BaggingClassifier(),\n",
    "    RandomForestClassifier(),\n",
    "    #ExtraTreesClassifier(),\n",
    "    #AdaBoostClassifier(),\n",
    "    GradientBoostingClassifier()\n",
    "]"
   ]
  },
  {
   "cell_type": "code",
   "execution_count": 36,
   "metadata": {},
   "outputs": [],
   "source": [
    "#scale features\n",
    "sc = StandardScaler()\n",
    "X_train_sc = sc.fit_transform(X_train)\n",
    "X_test_sc = sc.transform(X_test)\n",
    "\n",
    "#create a list to store each model's results in a dictionary\n",
    "classifier_list = []\n",
    "\n",
    "for model_obj in model_list:\n",
    "    #instantiate each model \n",
    "    model = model_obj\n",
    "\n",
    "    #fit the model\n",
    "    model.fit(X_train_sc, y_train) \n",
    "  \n",
    "    #create a dictionary with scores and evaluation metrics for each model\n",
    "    results_dict = {}    \n",
    "    results_dict['model_name'] = str(model_obj)\n",
    "    results_dict['train_score'] = model.score(X_train_sc, y_train)\n",
    "    results_dict['test_score'] = model.score(X_test_sc, y_test)\n",
    "    results_dict['cv_score'] = cross_val_score(model, X_train_sc, y_train, cv = 5).mean()\n",
    "        \n",
    "    #add the dictionary to the list\n",
    "    classifier_list.append(results_dict)"
   ]
  },
  {
   "cell_type": "code",
   "execution_count": 37,
   "metadata": {},
   "outputs": [
    {
     "data": {
      "text/html": [
       "<div>\n",
       "<style scoped>\n",
       "    .dataframe tbody tr th:only-of-type {\n",
       "        vertical-align: middle;\n",
       "    }\n",
       "\n",
       "    .dataframe tbody tr th {\n",
       "        vertical-align: top;\n",
       "    }\n",
       "\n",
       "    .dataframe thead th {\n",
       "        text-align: right;\n",
       "    }\n",
       "</style>\n",
       "<table border=\"1\" class=\"dataframe\">\n",
       "  <thead>\n",
       "    <tr style=\"text-align: right;\">\n",
       "      <th></th>\n",
       "      <th>model_name</th>\n",
       "      <th>train_score</th>\n",
       "      <th>test_score</th>\n",
       "      <th>cv_score</th>\n",
       "    </tr>\n",
       "  </thead>\n",
       "  <tbody>\n",
       "    <tr>\n",
       "      <th>0</th>\n",
       "      <td>RandomForestClassifier()</td>\n",
       "      <td>0.999993</td>\n",
       "      <td>0.86312</td>\n",
       "      <td>0.861067</td>\n",
       "    </tr>\n",
       "    <tr>\n",
       "      <th>1</th>\n",
       "      <td>GradientBoostingClassifier()</td>\n",
       "      <td>0.849187</td>\n",
       "      <td>0.84690</td>\n",
       "      <td>0.848207</td>\n",
       "    </tr>\n",
       "  </tbody>\n",
       "</table>\n",
       "</div>"
      ],
      "text/plain": [
       "                     model_name  train_score  test_score  cv_score\n",
       "0      RandomForestClassifier()     0.999993     0.86312  0.861067\n",
       "1  GradientBoostingClassifier()     0.849187     0.84690  0.848207"
      ]
     },
     "execution_count": 37,
     "metadata": {},
     "output_type": "execute_result"
    }
   ],
   "source": [
    "clf_results = pd.DataFrame(classifier_list)\n",
    "clf_results"
   ]
  },
  {
   "cell_type": "code",
   "execution_count": 36,
   "metadata": {},
   "outputs": [
    {
     "data": {
      "text/html": [
       "<div>\n",
       "<style scoped>\n",
       "    .dataframe tbody tr th:only-of-type {\n",
       "        vertical-align: middle;\n",
       "    }\n",
       "\n",
       "    .dataframe tbody tr th {\n",
       "        vertical-align: top;\n",
       "    }\n",
       "\n",
       "    .dataframe thead th {\n",
       "        text-align: right;\n",
       "    }\n",
       "</style>\n",
       "<table border=\"1\" class=\"dataframe\">\n",
       "  <thead>\n",
       "    <tr style=\"text-align: right;\">\n",
       "      <th></th>\n",
       "      <th>model_name</th>\n",
       "      <th>train_score</th>\n",
       "      <th>test_score</th>\n",
       "      <th>cv_score</th>\n",
       "    </tr>\n",
       "  </thead>\n",
       "  <tbody>\n",
       "    <tr>\n",
       "      <th>0</th>\n",
       "      <td>LogisticRegression()</td>\n",
       "      <td>0.852340</td>\n",
       "      <td>0.85158</td>\n",
       "      <td>0.852060</td>\n",
       "    </tr>\n",
       "    <tr>\n",
       "      <th>1</th>\n",
       "      <td>DecisionTreeClassifier()</td>\n",
       "      <td>0.971040</td>\n",
       "      <td>0.85248</td>\n",
       "      <td>0.850940</td>\n",
       "    </tr>\n",
       "    <tr>\n",
       "      <th>2</th>\n",
       "      <td>BaggingClassifier()</td>\n",
       "      <td>0.965067</td>\n",
       "      <td>0.86543</td>\n",
       "      <td>0.864090</td>\n",
       "    </tr>\n",
       "    <tr>\n",
       "      <th>3</th>\n",
       "      <td>RandomForestClassifier()</td>\n",
       "      <td>0.971033</td>\n",
       "      <td>0.87157</td>\n",
       "      <td>0.872913</td>\n",
       "    </tr>\n",
       "    <tr>\n",
       "      <th>4</th>\n",
       "      <td>ExtraTreesClassifier()</td>\n",
       "      <td>0.971040</td>\n",
       "      <td>0.86230</td>\n",
       "      <td>0.861563</td>\n",
       "    </tr>\n",
       "    <tr>\n",
       "      <th>5</th>\n",
       "      <td>AdaBoostClassifier()</td>\n",
       "      <td>0.861270</td>\n",
       "      <td>0.86063</td>\n",
       "      <td>0.861053</td>\n",
       "    </tr>\n",
       "    <tr>\n",
       "      <th>6</th>\n",
       "      <td>GradientBoostingClassifier()</td>\n",
       "      <td>0.865297</td>\n",
       "      <td>0.86416</td>\n",
       "      <td>0.864963</td>\n",
       "    </tr>\n",
       "  </tbody>\n",
       "</table>\n",
       "</div>"
      ],
      "text/plain": [
       "                     model_name  train_score  test_score  cv_score\n",
       "0          LogisticRegression()     0.852340     0.85158  0.852060\n",
       "1      DecisionTreeClassifier()     0.971040     0.85248  0.850940\n",
       "2           BaggingClassifier()     0.965067     0.86543  0.864090\n",
       "3      RandomForestClassifier()     0.971033     0.87157  0.872913\n",
       "4        ExtraTreesClassifier()     0.971040     0.86230  0.861563\n",
       "5          AdaBoostClassifier()     0.861270     0.86063  0.861053\n",
       "6  GradientBoostingClassifier()     0.865297     0.86416  0.864963"
      ]
     },
     "execution_count": 36,
     "metadata": {},
     "output_type": "execute_result"
    }
   ],
   "source": [
    "#Results before number of words and characters were added\n",
    "clf_results = pd.DataFrame(classifier_list)\n",
    "clf_results"
   ]
  },
  {
   "cell_type": "markdown",
   "metadata": {},
   "source": [
    "### Random Forest"
   ]
  },
  {
   "cell_type": "code",
   "execution_count": null,
   "metadata": {},
   "outputs": [],
   "source": [
    "rf = RandomForestClassifier(n_estimators = 300, max_features=50)"
   ]
  },
  {
   "cell_type": "code",
   "execution_count": null,
   "metadata": {},
   "outputs": [],
   "source": [
    "rf.fit(X_train,y_train)"
   ]
  },
  {
   "cell_type": "code",
   "execution_count": null,
   "metadata": {},
   "outputs": [],
   "source": [
    "print(rf.score(X_train, y_train), rf.score(X_test, y_test))"
   ]
  },
  {
   "cell_type": "code",
   "execution_count": null,
   "metadata": {},
   "outputs": [],
   "source": [
    "rf = RandomForestClassifier(n_estimators = 300, max_depth=10, min_samples_leaf=2)\n",
    "rf.fit(X_train,y_train)\n",
    "print(rf.score(X_train, y_train), rf.score(X_test, y_test))"
   ]
  },
  {
   "cell_type": "code",
   "execution_count": null,
   "metadata": {},
   "outputs": [],
   "source": [
    "rf = RandomForestClassifier(n_estimators = 300, max_depth=10, min_samples_leaf=3, bootstrap=True)\n",
    "rf.fit(X_train,y_train)\n",
    "print(rf.score(X_train, y_train), rf.score(X_test, y_test))"
   ]
  },
  {
   "cell_type": "code",
   "execution_count": null,
   "metadata": {},
   "outputs": [],
   "source": [
    "rf = RandomForestClassifier(n_estimators = 300, max_depth=10, min_samples_leaf=3, bootstrap=False)\n",
    "rf.fit(X_train,y_train)\n",
    "print(rf.score(X_train, y_train), rf.score(X_test, y_test))"
   ]
  },
  {
   "cell_type": "markdown",
   "metadata": {},
   "source": [
    "### Extra Trees?"
   ]
  },
  {
   "cell_type": "code",
   "execution_count": null,
   "metadata": {},
   "outputs": [],
   "source": [
    "et = ExtraTreesClassifier(n_estimators = 300, max_depth=10, min_samples_leaf=2, bootstrap = True)\n",
    "et.fit(X_train,y_train)\n",
    "print(et.score(X_train, y_train), et.score(X_test, y_test))"
   ]
  },
  {
   "cell_type": "code",
   "execution_count": null,
   "metadata": {},
   "outputs": [],
   "source": [
    "et = ExtraTreesClassifier(n_estimators = 300, max_depth=10, min_samples_leaf=2, bootstrap = False)\n",
    "et.fit(X_train,y_train)\n",
    "print(et.score(X_train, y_train), et.score(X_test, y_test))"
   ]
  },
  {
   "cell_type": "markdown",
   "metadata": {},
   "source": [
    "### Gradient Boosting Classifier"
   ]
  },
  {
   "cell_type": "code",
   "execution_count": null,
   "metadata": {},
   "outputs": [],
   "source": []
  },
  {
   "cell_type": "code",
   "execution_count": null,
   "metadata": {},
   "outputs": [],
   "source": []
  },
  {
   "cell_type": "code",
   "execution_count": null,
   "metadata": {},
   "outputs": [],
   "source": [
    "gb = GradientBoostingClassifier(n_estimators=300)\n",
    "gb.fit(X_train, y_train)\n",
    "print(gb.score(X_train, y_train), gb.score(X_test, y_test),  \n",
    "      cross_val_score(gb, X_train, y_train, cv = 5).mean())"
   ]
  },
  {
   "cell_type": "code",
   "execution_count": null,
   "metadata": {},
   "outputs": [],
   "source": [
    "#get predictions \n",
    "preds_gb = gb.predict(X_test)\n",
    "\n",
    "#plot confusion matrix\n",
    "cm = confusion_matrix(y_test, preds_gb)\n",
    "ConfusionMatrixDisplay(cm, display_labels=['0','1','2','3']).plot();"
   ]
  },
  {
   "cell_type": "code",
   "execution_count": null,
   "metadata": {},
   "outputs": [],
   "source": [
    "pd.DataFrame({'importance' : gb.feature_importances_, 'feature_names' : X_train.columns}).sort_values(by='importance', ascending=False).head(25)"
   ]
  },
  {
   "cell_type": "code",
   "execution_count": null,
   "metadata": {},
   "outputs": [],
   "source": [
    "gb2 = GradientBoostingClassifier(n_estimators=500)\n",
    "gb2.fit(X_train, y_train)\n",
    "print(gb2.score(X_train, y_train), gb2.score(X_test, y_test),  \n",
    "      cross_val_score(gb2, X_train, y_train, cv = 5).mean())"
   ]
  },
  {
   "cell_type": "code",
   "execution_count": null,
   "metadata": {},
   "outputs": [],
   "source": [
    "gb3 = GradientBoostingClassifier(n_estimators=500, \n",
    "                        min_samples_split = 100, \n",
    "                        min_samples_leaf = 50, \n",
    "                        max_depth=8,\n",
    "                        max_features='sqrt',\n",
    "                        subsample=0.8)\n",
    "gb3.fit(X_train, y_train)\n",
    "print(gb3.score(X_train, y_train), gb3.score(X_test, y_test),  \n",
    "      cross_val_score(gb3, X_train, y_train, cv = 5).mean())"
   ]
  },
  {
   "cell_type": "code",
   "execution_count": null,
   "metadata": {},
   "outputs": [],
   "source": []
  }
 ],
 "metadata": {
  "kernelspec": {
   "display_name": "Python 3",
   "language": "python",
   "name": "python3"
  },
  "language_info": {
   "codemirror_mode": {
    "name": "ipython",
    "version": 3
   },
   "file_extension": ".py",
   "mimetype": "text/x-python",
   "name": "python",
   "nbconvert_exporter": "python",
   "pygments_lexer": "ipython3",
   "version": "3.8.5"
  }
 },
 "nbformat": 4,
 "nbformat_minor": 4
}
