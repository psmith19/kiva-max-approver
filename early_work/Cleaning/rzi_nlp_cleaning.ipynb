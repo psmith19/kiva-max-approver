{
 "cells": [
  {
   "cell_type": "markdown",
   "metadata": {
    "id": "R-9EHCqvRv9Z"
   },
   "source": [
    "# Cleaning\n",
    "\n",
    "This notebook creates a five-column dataframe with no null values for NLP pre-processing for the KivaMaxApprover project"
   ]
  },
  {
   "cell_type": "code",
   "execution_count": 1,
   "metadata": {
    "id": "McTKsthNHdrO"
   },
   "outputs": [],
   "source": [
    "import pandas as pd\n",
    "import numpy as np"
   ]
  },
  {
   "cell_type": "code",
   "execution_count": 5,
   "metadata": {},
   "outputs": [],
   "source": [
    "# set input and output filenames\n",
    "\n",
    "filename = ('./data/kivamix.csv')\n",
    "op_filename = ('./data/cleaned_nlp.csv')"
   ]
  },
  {
   "cell_type": "code",
   "execution_count": 2,
   "metadata": {
    "id": "DIF5JQ-XHqxC"
   },
   "outputs": [
    {
     "data": {
      "text/html": [
       "<div>\n",
       "<style scoped>\n",
       "    .dataframe tbody tr th:only-of-type {\n",
       "        vertical-align: middle;\n",
       "    }\n",
       "\n",
       "    .dataframe tbody tr th {\n",
       "        vertical-align: top;\n",
       "    }\n",
       "\n",
       "    .dataframe thead th {\n",
       "        text-align: right;\n",
       "    }\n",
       "</style>\n",
       "<table border=\"1\" class=\"dataframe\">\n",
       "  <thead>\n",
       "    <tr style=\"text-align: right;\">\n",
       "      <th></th>\n",
       "      <th>LOAN_ID</th>\n",
       "      <th>LOAN_NAME</th>\n",
       "      <th>ORIGINAL_LANGUAGE</th>\n",
       "      <th>DESCRIPTION</th>\n",
       "      <th>DESCRIPTION_TRANSLATED</th>\n",
       "      <th>FUNDED_AMOUNT</th>\n",
       "      <th>LOAN_AMOUNT</th>\n",
       "      <th>STATUS</th>\n",
       "      <th>IMAGE_ID</th>\n",
       "      <th>VIDEO_ID</th>\n",
       "      <th>...</th>\n",
       "      <th>NUM_LENDERS_TOTAL</th>\n",
       "      <th>NUM_JOURNAL_ENTRIES</th>\n",
       "      <th>NUM_BULK_ENTRIES</th>\n",
       "      <th>TAGS</th>\n",
       "      <th>BORROWER_NAMES</th>\n",
       "      <th>BORROWER_GENDERS</th>\n",
       "      <th>BORROWER_PICTURED</th>\n",
       "      <th>REPAYMENT_INTERVAL</th>\n",
       "      <th>DISTRIBUTION_MODEL</th>\n",
       "      <th>year</th>\n",
       "    </tr>\n",
       "  </thead>\n",
       "  <tbody>\n",
       "    <tr>\n",
       "      <th>0</th>\n",
       "      <td>1455352</td>\n",
       "      <td>Raisa Jokasta</td>\n",
       "      <td>Spanish</td>\n",
       "      <td>En la ciudad de Portoviejo, conocida como la c...</td>\n",
       "      <td>The city of Portoviejo is located in the valle...</td>\n",
       "      <td>1075.0</td>\n",
       "      <td>1075.0</td>\n",
       "      <td>1</td>\n",
       "      <td>2638561.0</td>\n",
       "      <td>NaN</td>\n",
       "      <td>...</td>\n",
       "      <td>12</td>\n",
       "      <td>1</td>\n",
       "      <td>1</td>\n",
       "      <td>#Repeat Borrower, #Health and Sanitation</td>\n",
       "      <td>Raisa Jokasta</td>\n",
       "      <td>female</td>\n",
       "      <td>true</td>\n",
       "      <td>monthly</td>\n",
       "      <td>field_partner</td>\n",
       "      <td>2018</td>\n",
       "    </tr>\n",
       "    <tr>\n",
       "      <th>1</th>\n",
       "      <td>1727469</td>\n",
       "      <td>Lorna</td>\n",
       "      <td>English</td>\n",
       "      <td>Lorna is a married woman, 39 years old with fi...</td>\n",
       "      <td>Lorna is a married woman, 39 years old with fi...</td>\n",
       "      <td>225.0</td>\n",
       "      <td>400.0</td>\n",
       "      <td>0</td>\n",
       "      <td>3108106.0</td>\n",
       "      <td>NaN</td>\n",
       "      <td>...</td>\n",
       "      <td>8</td>\n",
       "      <td>1</td>\n",
       "      <td>1</td>\n",
       "      <td>#Woman-Owned Business, #Parent</td>\n",
       "      <td>Lorna</td>\n",
       "      <td>female</td>\n",
       "      <td>true</td>\n",
       "      <td>monthly</td>\n",
       "      <td>field_partner</td>\n",
       "      <td>2019</td>\n",
       "    </tr>\n",
       "    <tr>\n",
       "      <th>2</th>\n",
       "      <td>1747998</td>\n",
       "      <td>Anita</td>\n",
       "      <td>English</td>\n",
       "      <td>Anita is a 32-year-old married woman residing ...</td>\n",
       "      <td>Anita is a 32-year-old married woman residing ...</td>\n",
       "      <td>300.0</td>\n",
       "      <td>300.0</td>\n",
       "      <td>1</td>\n",
       "      <td>3134774.0</td>\n",
       "      <td>NaN</td>\n",
       "      <td>...</td>\n",
       "      <td>9</td>\n",
       "      <td>1</td>\n",
       "      <td>1</td>\n",
       "      <td>#Woman-Owned Business</td>\n",
       "      <td>Anita</td>\n",
       "      <td>female</td>\n",
       "      <td>true</td>\n",
       "      <td>monthly</td>\n",
       "      <td>field_partner</td>\n",
       "      <td>2019</td>\n",
       "    </tr>\n",
       "    <tr>\n",
       "      <th>3</th>\n",
       "      <td>1342372</td>\n",
       "      <td>Saeeda</td>\n",
       "      <td>English</td>\n",
       "      <td>Saeeda is a 45-year-old woman, living with her...</td>\n",
       "      <td>Saeeda is a 45-year-old woman, living with her...</td>\n",
       "      <td>300.0</td>\n",
       "      <td>300.0</td>\n",
       "      <td>1</td>\n",
       "      <td>2588292.0</td>\n",
       "      <td>NaN</td>\n",
       "      <td>...</td>\n",
       "      <td>9</td>\n",
       "      <td>2</td>\n",
       "      <td>1</td>\n",
       "      <td>#Fabrics, #Woman-Owned Business, user_favorite...</td>\n",
       "      <td>Saeeda</td>\n",
       "      <td>female</td>\n",
       "      <td>true</td>\n",
       "      <td>monthly</td>\n",
       "      <td>field_partner</td>\n",
       "      <td>2017</td>\n",
       "    </tr>\n",
       "    <tr>\n",
       "      <th>4</th>\n",
       "      <td>1632606</td>\n",
       "      <td>JUAN PABLO</td>\n",
       "      <td>Spanish</td>\n",
       "      <td>Pablo es un joven muy emprendedor y con muchas...</td>\n",
       "      <td>Pablo is an enterprising young man who has the...</td>\n",
       "      <td>225.0</td>\n",
       "      <td>850.0</td>\n",
       "      <td>0</td>\n",
       "      <td>2981723.0</td>\n",
       "      <td>NaN</td>\n",
       "      <td>...</td>\n",
       "      <td>8</td>\n",
       "      <td>1</td>\n",
       "      <td>1</td>\n",
       "      <td>#Single, #Technology, #Biz Durable Asset</td>\n",
       "      <td>JUAN PABLO</td>\n",
       "      <td>male</td>\n",
       "      <td>true</td>\n",
       "      <td>monthly</td>\n",
       "      <td>field_partner</td>\n",
       "      <td>2018</td>\n",
       "    </tr>\n",
       "  </tbody>\n",
       "</table>\n",
       "<p>5 rows × 35 columns</p>\n",
       "</div>"
      ],
      "text/plain": [
       "   LOAN_ID      LOAN_NAME ORIGINAL_LANGUAGE  \\\n",
       "0  1455352  Raisa Jokasta           Spanish   \n",
       "1  1727469          Lorna           English   \n",
       "2  1747998          Anita           English   \n",
       "3  1342372         Saeeda           English   \n",
       "4  1632606     JUAN PABLO           Spanish   \n",
       "\n",
       "                                         DESCRIPTION  \\\n",
       "0  En la ciudad de Portoviejo, conocida como la c...   \n",
       "1  Lorna is a married woman, 39 years old with fi...   \n",
       "2  Anita is a 32-year-old married woman residing ...   \n",
       "3  Saeeda is a 45-year-old woman, living with her...   \n",
       "4  Pablo es un joven muy emprendedor y con muchas...   \n",
       "\n",
       "                              DESCRIPTION_TRANSLATED  FUNDED_AMOUNT  \\\n",
       "0  The city of Portoviejo is located in the valle...         1075.0   \n",
       "1  Lorna is a married woman, 39 years old with fi...          225.0   \n",
       "2  Anita is a 32-year-old married woman residing ...          300.0   \n",
       "3  Saeeda is a 45-year-old woman, living with her...          300.0   \n",
       "4  Pablo is an enterprising young man who has the...          225.0   \n",
       "\n",
       "   LOAN_AMOUNT  STATUS   IMAGE_ID  VIDEO_ID  ... NUM_LENDERS_TOTAL  \\\n",
       "0       1075.0       1  2638561.0       NaN  ...                12   \n",
       "1        400.0       0  3108106.0       NaN  ...                 8   \n",
       "2        300.0       1  3134774.0       NaN  ...                 9   \n",
       "3        300.0       1  2588292.0       NaN  ...                 9   \n",
       "4        850.0       0  2981723.0       NaN  ...                 8   \n",
       "\n",
       "  NUM_JOURNAL_ENTRIES NUM_BULK_ENTRIES  \\\n",
       "0                   1                1   \n",
       "1                   1                1   \n",
       "2                   1                1   \n",
       "3                   2                1   \n",
       "4                   1                1   \n",
       "\n",
       "                                                TAGS BORROWER_NAMES  \\\n",
       "0           #Repeat Borrower, #Health and Sanitation  Raisa Jokasta   \n",
       "1                     #Woman-Owned Business, #Parent          Lorna   \n",
       "2                              #Woman-Owned Business          Anita   \n",
       "3  #Fabrics, #Woman-Owned Business, user_favorite...         Saeeda   \n",
       "4           #Single, #Technology, #Biz Durable Asset     JUAN PABLO   \n",
       "\n",
       "  BORROWER_GENDERS BORROWER_PICTURED  REPAYMENT_INTERVAL DISTRIBUTION_MODEL  \\\n",
       "0           female              true             monthly      field_partner   \n",
       "1           female              true             monthly      field_partner   \n",
       "2           female              true             monthly      field_partner   \n",
       "3           female              true             monthly      field_partner   \n",
       "4             male              true             monthly      field_partner   \n",
       "\n",
       "   year  \n",
       "0  2018  \n",
       "1  2019  \n",
       "2  2019  \n",
       "3  2017  \n",
       "4  2018  \n",
       "\n",
       "[5 rows x 35 columns]"
      ]
     },
     "execution_count": 2,
     "metadata": {},
     "output_type": "execute_result"
    }
   ],
   "source": [
    "#read in csv\n",
    "kiva_large = pd.read_csv(filename)\n",
    "\n",
    "kiva_large.head(5)"
   ]
  },
  {
   "cell_type": "code",
   "execution_count": null,
   "metadata": {
    "colab": {
     "base_uri": "https://localhost:8080/",
     "height": 235
    },
    "executionInfo": {
     "elapsed": 11849,
     "status": "ok",
     "timestamp": 1618354018323,
     "user": {
      "displayName": "Rachel Zoe Insler",
      "photoUrl": "https://lh3.googleusercontent.com/a-/AOh14GhmK2r7xxWnYN1Ct_QTmn12EjwUhd--V_NCFfbtLw=s64",
      "userId": "07749460636815525214"
     },
     "user_tz": 240
    },
    "id": "6tv7IASIIaNq",
    "outputId": "8d3de469-c555-450e-9966-0e2c35c19280"
   },
   "outputs": [
    {
     "data": {
      "text/html": [
       "<div>\n",
       "<style scoped>\n",
       "    .dataframe tbody tr th:only-of-type {\n",
       "        vertical-align: middle;\n",
       "    }\n",
       "\n",
       "    .dataframe tbody tr th {\n",
       "        vertical-align: top;\n",
       "    }\n",
       "\n",
       "    .dataframe thead th {\n",
       "        text-align: right;\n",
       "    }\n",
       "</style>\n",
       "<table border=\"1\" class=\"dataframe\">\n",
       "  <thead>\n",
       "    <tr style=\"text-align: right;\">\n",
       "      <th></th>\n",
       "      <th>DESCRIPTION_TRANSLATED</th>\n",
       "      <th>LOAN_USE</th>\n",
       "      <th>TAGS</th>\n",
       "      <th>STATUS</th>\n",
       "    </tr>\n",
       "    <tr>\n",
       "      <th>LOAN_ID</th>\n",
       "      <th></th>\n",
       "      <th></th>\n",
       "      <th></th>\n",
       "      <th></th>\n",
       "    </tr>\n",
       "  </thead>\n",
       "  <tbody>\n",
       "    <tr>\n",
       "      <th>1455352</th>\n",
       "      <td>The city of Portoviejo is located in the valle...</td>\n",
       "      <td>to purchase natural products.</td>\n",
       "      <td>#Repeat Borrower, #Health and Sanitation</td>\n",
       "      <td>1</td>\n",
       "    </tr>\n",
       "    <tr>\n",
       "      <th>1727469</th>\n",
       "      <td>Lorna is a married woman, 39 years old with fi...</td>\n",
       "      <td>to purchase additional stocks of Avon, Natasha...</td>\n",
       "      <td>#Woman-Owned Business, #Parent</td>\n",
       "      <td>0</td>\n",
       "    </tr>\n",
       "    <tr>\n",
       "      <th>1747998</th>\n",
       "      <td>Anita is a 32-year-old married woman residing ...</td>\n",
       "      <td>to purchase lentils, oil, salt, etc. in bulk i...</td>\n",
       "      <td>#Woman-Owned Business</td>\n",
       "      <td>1</td>\n",
       "    </tr>\n",
       "    <tr>\n",
       "      <th>1342372</th>\n",
       "      <td>Saeeda is a 45-year-old woman, living with her...</td>\n",
       "      <td>to buy embroidery raw materials such as thread...</td>\n",
       "      <td>#Fabrics, #Woman-Owned Business, user_favorite...</td>\n",
       "      <td>1</td>\n",
       "    </tr>\n",
       "    <tr>\n",
       "      <th>1632606</th>\n",
       "      <td>Pablo is an enterprising young man who has the...</td>\n",
       "      <td>to buy a POS (point of sale) terminal that wil...</td>\n",
       "      <td>#Single, #Technology, #Biz Durable Asset</td>\n",
       "      <td>0</td>\n",
       "    </tr>\n",
       "  </tbody>\n",
       "</table>\n",
       "</div>"
      ],
      "text/plain": [
       "                                    DESCRIPTION_TRANSLATED  ... STATUS\n",
       "LOAN_ID                                                     ...       \n",
       "1455352  The city of Portoviejo is located in the valle...  ...      1\n",
       "1727469  Lorna is a married woman, 39 years old with fi...  ...      0\n",
       "1747998  Anita is a 32-year-old married woman residing ...  ...      1\n",
       "1342372  Saeeda is a 45-year-old woman, living with her...  ...      1\n",
       "1632606  Pablo is an enterprising young man who has the...  ...      0\n",
       "\n",
       "[5 rows x 4 columns]"
      ]
     },
     "execution_count": 3,
     "metadata": {
      "tags": []
     },
     "output_type": "execute_result"
    }
   ],
   "source": [
    "#create a dataframe with only columns relevant to NLP and set index = LOAN_ID\n",
    "kiva = kiva_large[['LOAN_ID', 'DESCRIPTION_TRANSLATED','LOAN_USE','TAGS', 'STATUS']].set_index('LOAN_ID', drop=True)\n",
    "kiva.head()"
   ]
  },
  {
   "cell_type": "code",
   "execution_count": null,
   "metadata": {
    "colab": {
     "base_uri": "https://localhost:8080/"
    },
    "executionInfo": {
     "elapsed": 11987,
     "status": "ok",
     "timestamp": 1618354018463,
     "user": {
      "displayName": "Rachel Zoe Insler",
      "photoUrl": "https://lh3.googleusercontent.com/a-/AOh14GhmK2r7xxWnYN1Ct_QTmn12EjwUhd--V_NCFfbtLw=s64",
      "userId": "07749460636815525214"
     },
     "user_tz": 240
    },
    "id": "lkC5Z0wHJi-1",
    "outputId": "0c7a145d-9eb3-4621-f8bf-607734465897"
   },
   "outputs": [
    {
     "data": {
      "text/plain": [
       "DESCRIPTION_TRANSLATED     3253\n",
       "LOAN_USE                   3246\n",
       "TAGS                      71842\n",
       "STATUS                        0\n",
       "dtype: int64"
      ]
     },
     "execution_count": 4,
     "metadata": {
      "tags": []
     },
     "output_type": "execute_result"
    }
   ],
   "source": [
    "kiva.isnull().sum()"
   ]
  },
  {
   "cell_type": "code",
   "execution_count": null,
   "metadata": {
    "colab": {
     "base_uri": "https://localhost:8080/"
    },
    "executionInfo": {
     "elapsed": 11985,
     "status": "ok",
     "timestamp": 1618354018463,
     "user": {
      "displayName": "Rachel Zoe Insler",
      "photoUrl": "https://lh3.googleusercontent.com/a-/AOh14GhmK2r7xxWnYN1Ct_QTmn12EjwUhd--V_NCFfbtLw=s64",
      "userId": "07749460636815525214"
     },
     "user_tz": 240
    },
    "id": "e7BNv9VXKo3N",
    "outputId": "7e9b5865-e21d-4260-b123-6c288669f8d5"
   },
   "outputs": [
    {
     "data": {
      "text/plain": [
       "(419156, 4)"
      ]
     },
     "execution_count": 5,
     "metadata": {
      "tags": []
     },
     "output_type": "execute_result"
    }
   ],
   "source": [
    "kiva.shape"
   ]
  },
  {
   "cell_type": "code",
   "execution_count": null,
   "metadata": {
    "colab": {
     "base_uri": "https://localhost:8080/"
    },
    "executionInfo": {
     "elapsed": 12250,
     "status": "ok",
     "timestamp": 1618354018730,
     "user": {
      "displayName": "Rachel Zoe Insler",
      "photoUrl": "https://lh3.googleusercontent.com/a-/AOh14GhmK2r7xxWnYN1Ct_QTmn12EjwUhd--V_NCFfbtLw=s64",
      "userId": "07749460636815525214"
     },
     "user_tz": 240
    },
    "id": "utXihC6QKEsn",
    "outputId": "7746d536-0903-45b0-d8e3-faac61a8c2e0"
   },
   "outputs": [
    {
     "data": {
      "text/plain": [
       "(418635, 4)"
      ]
     },
     "execution_count": 6,
     "metadata": {
      "tags": []
     },
     "output_type": "execute_result"
    }
   ],
   "source": [
    "#there are a few hundred rows with null values in all three columns (i.e. no text at all)\n",
    "#drop these rows with no language data\n",
    "#note to self/team - i assume this will be captured in the numerical model?\n",
    "kiva = kiva.dropna(axis = 0, how = 'all', subset = ['DESCRIPTION_TRANSLATED', 'LOAN_USE', 'TAGS'])\n",
    "kiva.shape"
   ]
  },
  {
   "cell_type": "code",
   "execution_count": null,
   "metadata": {
    "colab": {
     "base_uri": "https://localhost:8080/"
    },
    "executionInfo": {
     "elapsed": 13096,
     "status": "ok",
     "timestamp": 1618354019578,
     "user": {
      "displayName": "Rachel Zoe Insler",
      "photoUrl": "https://lh3.googleusercontent.com/a-/AOh14GhmK2r7xxWnYN1Ct_QTmn12EjwUhd--V_NCFfbtLw=s64",
      "userId": "07749460636815525214"
     },
     "user_tz": 240
    },
    "id": "JJfvHbUSKkbi",
    "outputId": "00a4dfd1-236d-427a-ff0a-b189f84a4fef"
   },
   "outputs": [
    {
     "data": {
      "text/plain": [
       "1095"
      ]
     },
     "execution_count": 7,
     "metadata": {
      "tags": []
     },
     "output_type": "execute_result"
    }
   ],
   "source": [
    "#check for duplicate entries\n",
    "kiva.duplicated(subset = ['DESCRIPTION_TRANSLATED', 'LOAN_USE', 'TAGS'], keep='last').sum()"
   ]
  },
  {
   "cell_type": "code",
   "execution_count": null,
   "metadata": {
    "colab": {
     "base_uri": "https://localhost:8080/"
    },
    "executionInfo": {
     "elapsed": 13817,
     "status": "ok",
     "timestamp": 1618354020301,
     "user": {
      "displayName": "Rachel Zoe Insler",
      "photoUrl": "https://lh3.googleusercontent.com/a-/AOh14GhmK2r7xxWnYN1Ct_QTmn12EjwUhd--V_NCFfbtLw=s64",
      "userId": "07749460636815525214"
     },
     "user_tz": 240
    },
    "id": "gBvdIFFJLIsG",
    "outputId": "782fab37-55da-4823-f3b0-b882d2b3bc9d"
   },
   "outputs": [
    {
     "data": {
      "text/plain": [
       "(417540, 4)"
      ]
     },
     "execution_count": 8,
     "metadata": {
      "tags": []
     },
     "output_type": "execute_result"
    }
   ],
   "source": [
    "#remove duplicates\n",
    "kiva = kiva.drop_duplicates(subset = ['DESCRIPTION_TRANSLATED', 'LOAN_USE', 'TAGS'], keep = 'last')\n",
    "kiva.shape"
   ]
  },
  {
   "cell_type": "code",
   "execution_count": null,
   "metadata": {
    "colab": {
     "base_uri": "https://localhost:8080/"
    },
    "executionInfo": {
     "elapsed": 14051,
     "status": "ok",
     "timestamp": 1618354020537,
     "user": {
      "displayName": "Rachel Zoe Insler",
      "photoUrl": "https://lh3.googleusercontent.com/a-/AOh14GhmK2r7xxWnYN1Ct_QTmn12EjwUhd--V_NCFfbtLw=s64",
      "userId": "07749460636815525214"
     },
     "user_tz": 240
    },
    "id": "qc_5CiTXMjDc",
    "outputId": "0e60efaa-efa6-422d-d215-1f516d20bccc"
   },
   "outputs": [
    {
     "data": {
      "text/plain": [
       "DESCRIPTION_TRANSLATED    0\n",
       "LOAN_USE                  0\n",
       "TAGS                      0\n",
       "STATUS                    0\n",
       "dtype: int64"
      ]
     },
     "execution_count": 9,
     "metadata": {
      "tags": []
     },
     "output_type": "execute_result"
    }
   ],
   "source": [
    "#handle null values \n",
    "kiva = kiva.fillna('')\n",
    "kiva.isnull().sum()"
   ]
  },
  {
   "cell_type": "code",
   "execution_count": null,
   "metadata": {
    "id": "M8peAwgeZraW"
   },
   "outputs": [],
   "source": [
    "kiva['DESCRIPTION_TRANSLATED'] = kiva['DESCRIPTION_TRANSLATED'].astype(str)\n",
    "kiva['LOAN_USE'] = kiva['LOAN_USE'].astype(str)\n",
    "kiva['TAGS'] = kiva['TAGS'].astype(str)"
   ]
  },
  {
   "cell_type": "code",
   "execution_count": 4,
   "metadata": {
    "id": "F3FTuQCbMp94"
   },
   "outputs": [],
   "source": [
    "\n",
    "\n",
    "#local machine\n",
    "kiva.to_csv(op_filename)"
   ]
  }
 ],
 "metadata": {
  "colab": {
   "authorship_tag": "ABX9TyOlvE0ftGalCyol1XTawz3L",
   "collapsed_sections": [],
   "mount_file_id": "1m4kmzHIz91ZWCVCXmykn9PtLFLRnTzr-",
   "name": "rzi_nlp_cleaning.ipynb",
   "provenance": [],
   "toc_visible": true
  },
  "kernelspec": {
   "display_name": "Python 3",
   "language": "python",
   "name": "python3"
  },
  "language_info": {
   "codemirror_mode": {
    "name": "ipython",
    "version": 3
   },
   "file_extension": ".py",
   "mimetype": "text/x-python",
   "name": "python",
   "nbconvert_exporter": "python",
   "pygments_lexer": "ipython3",
   "version": "3.8.5"
  }
 },
 "nbformat": 4,
 "nbformat_minor": 4
}
