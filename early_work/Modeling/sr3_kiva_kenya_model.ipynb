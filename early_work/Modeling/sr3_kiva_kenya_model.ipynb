{
 "cells": [
  {
   "cell_type": "code",
   "execution_count": 1,
   "metadata": {},
   "outputs": [],
   "source": [
    "import pandas as pd\n",
    "import numpy as np\n",
    "import matplotlib.pyplot as plt\n",
    "import seaborn as sns\n",
    "\n",
    "#modeling\n",
    "from sklearn.preprocessing import StandardScaler\n",
    "from sklearn.pipeline import Pipeline\n",
    "from sklearn.metrics import accuracy_score, recall_score, precision_score, f1_score, confusion_matrix, ConfusionMatrixDisplay, roc_auc_score\n",
    "from sklearn.model_selection import train_test_split, cross_val_score, GridSearchCV\n",
    "from sklearn.linear_model import LogisticRegression, LinearRegression\n",
    "from sklearn.neighbors import KNeighborsClassifier\n",
    "from sklearn.tree import DecisionTreeClassifier\n",
    "from sklearn.ensemble import BaggingClassifier, RandomForestClassifier, AdaBoostClassifier, ExtraTreesClassifier, GradientBoostingClassifier\n",
    "from sklearn.svm import SVC\n",
    "\n",
    "from tensorflow.keras.models import Sequential\n",
    "from tensorflow.keras.layers import Dense\n"
   ]
  },
  {
   "cell_type": "code",
   "execution_count": 2,
   "metadata": {},
   "outputs": [],
   "source": [
    "kiva = pd.read_csv('kivasmall.csv')"
   ]
  },
  {
   "cell_type": "code",
   "execution_count": 3,
   "metadata": {},
   "outputs": [
    {
     "data": {
      "text/plain": [
       "(419156, 28)"
      ]
     },
     "execution_count": 3,
     "metadata": {},
     "output_type": "execute_result"
    }
   ],
   "source": [
    "kiva.shape"
   ]
  },
  {
   "cell_type": "markdown",
   "metadata": {},
   "source": [
    "Variables of interest: \n",
    "\n"
   ]
  },
  {
   "cell_type": "code",
   "execution_count": 4,
   "metadata": {},
   "outputs": [
    {
     "data": {
      "text/plain": [
       "(51170, 28)"
      ]
     },
     "execution_count": 4,
     "metadata": {},
     "output_type": "execute_result"
    }
   ],
   "source": [
    "kivake = kiva[kiva['COUNTRY_CODE']=='KE']\n",
    "kivake.shape"
   ]
  },
  {
   "cell_type": "code",
   "execution_count": 5,
   "metadata": {},
   "outputs": [
    {
     "data": {
      "text/plain": [
       "ORIGINAL_LANGUAGE     1144\n",
       "LOAN_AMOUNT              0\n",
       "STATUS                   0\n",
       "ACTIVITY_NAME            0\n",
       "SECTOR_NAME              0\n",
       "COUNTRY_CODE             0\n",
       "LENDER_TERM              0\n",
       "REPAYMENT_INTERVAL       0\n",
       "DISTRIBUTION_MODEL       0\n",
       "word_count_DT            0\n",
       "word_count_TAGS          0\n",
       "word_count_LU            0\n",
       "char_count_DT            0\n",
       "char_count_TAGS          0\n",
       "char_count_LU            0\n",
       "month                    0\n",
       "FEM_COUNT             1144\n",
       "MALE_COUNT            1144\n",
       "PIC_TRUE_COUNT        1144\n",
       "PIC_FALSE_COUNT       1144\n",
       "ANY_FEM               1144\n",
       "ANY_MALE              1144\n",
       "word_char_DT             0\n",
       "word_char_TAGS           0\n",
       "word_char_LU             0\n",
       "MALE_FEM              1144\n",
       "MALE_PIC              1144\n",
       "FEM_PIC               1144\n",
       "dtype: int64"
      ]
     },
     "execution_count": 5,
     "metadata": {},
     "output_type": "execute_result"
    }
   ],
   "source": [
    "kivake.isnull().sum()"
   ]
  },
  {
   "cell_type": "code",
   "execution_count": 6,
   "metadata": {},
   "outputs": [
    {
     "name": "stderr",
     "output_type": "stream",
     "text": [
      "C:\\Users\\shash\\anaconda3\\lib\\site-packages\\pandas\\core\\series.py:4517: SettingWithCopyWarning: \n",
      "A value is trying to be set on a copy of a slice from a DataFrame\n",
      "\n",
      "See the caveats in the documentation: https://pandas.pydata.org/pandas-docs/stable/user_guide/indexing.html#returning-a-view-versus-a-copy\n",
      "  return super().fillna(\n"
     ]
    }
   ],
   "source": [
    "fill_values = {'ORIGINAL_LANGUAGE' : 'MISSING', 'FEM_COUNT' : 0, 'MALE_COUNT' : 0,'PIC_TRUE_COUNT' : 0, 'PIC_FALSE_COUNT' : 0,'ANY_FEM' : 0,'ANY_MALE' : 0,'COUNTRY_CODE':'MISSING', 'MALE_FEM':0,'MALE_PIC':0,'FEM_PIC':0}\n",
    "kivake.fillna(value = fill_values, inplace=True)"
   ]
  },
  {
   "cell_type": "code",
   "execution_count": 7,
   "metadata": {},
   "outputs": [
    {
     "data": {
      "text/plain": [
       "ORIGINAL_LANGUAGE     0\n",
       "LOAN_AMOUNT           0\n",
       "STATUS                0\n",
       "ACTIVITY_NAME         0\n",
       "SECTOR_NAME           0\n",
       "COUNTRY_CODE          0\n",
       "LENDER_TERM           0\n",
       "REPAYMENT_INTERVAL    0\n",
       "DISTRIBUTION_MODEL    0\n",
       "word_count_DT         0\n",
       "word_count_TAGS       0\n",
       "word_count_LU         0\n",
       "char_count_DT         0\n",
       "char_count_TAGS       0\n",
       "char_count_LU         0\n",
       "month                 0\n",
       "FEM_COUNT             0\n",
       "MALE_COUNT            0\n",
       "PIC_TRUE_COUNT        0\n",
       "PIC_FALSE_COUNT       0\n",
       "ANY_FEM               0\n",
       "ANY_MALE              0\n",
       "word_char_DT          0\n",
       "word_char_TAGS        0\n",
       "word_char_LU          0\n",
       "MALE_FEM              0\n",
       "MALE_PIC              0\n",
       "FEM_PIC               0\n",
       "dtype: int64"
      ]
     },
     "execution_count": 7,
     "metadata": {},
     "output_type": "execute_result"
    }
   ],
   "source": [
    "kivake.isnull().sum()"
   ]
  },
  {
   "cell_type": "code",
   "execution_count": 8,
   "metadata": {},
   "outputs": [
    {
     "data": {
      "text/plain": [
       "Index(['ORIGINAL_LANGUAGE', 'LOAN_AMOUNT', 'STATUS', 'ACTIVITY_NAME',\n",
       "       'SECTOR_NAME', 'COUNTRY_CODE', 'LENDER_TERM', 'REPAYMENT_INTERVAL',\n",
       "       'DISTRIBUTION_MODEL', 'word_count_DT', 'word_count_TAGS',\n",
       "       'word_count_LU', 'char_count_DT', 'char_count_TAGS', 'char_count_LU',\n",
       "       'month', 'FEM_COUNT', 'MALE_COUNT', 'PIC_TRUE_COUNT', 'PIC_FALSE_COUNT',\n",
       "       'ANY_FEM', 'ANY_MALE', 'word_char_DT', 'word_char_TAGS', 'word_char_LU',\n",
       "       'MALE_FEM', 'MALE_PIC', 'FEM_PIC'],\n",
       "      dtype='object')"
      ]
     },
     "execution_count": 8,
     "metadata": {},
     "output_type": "execute_result"
    }
   ],
   "source": [
    "kivake.columns"
   ]
  },
  {
   "cell_type": "code",
   "execution_count": 9,
   "metadata": {},
   "outputs": [
    {
     "data": {
      "text/plain": [
       "ORIGINAL_LANGUAGE      object\n",
       "LOAN_AMOUNT           float64\n",
       "STATUS                  int64\n",
       "ACTIVITY_NAME          object\n",
       "SECTOR_NAME            object\n",
       "COUNTRY_CODE           object\n",
       "LENDER_TERM           float64\n",
       "REPAYMENT_INTERVAL     object\n",
       "DISTRIBUTION_MODEL     object\n",
       "word_count_DT           int64\n",
       "word_count_TAGS         int64\n",
       "word_count_LU           int64\n",
       "char_count_DT           int64\n",
       "char_count_TAGS         int64\n",
       "char_count_LU           int64\n",
       "month                   int64\n",
       "FEM_COUNT             float64\n",
       "MALE_COUNT            float64\n",
       "PIC_TRUE_COUNT        float64\n",
       "PIC_FALSE_COUNT       float64\n",
       "ANY_FEM               float64\n",
       "ANY_MALE              float64\n",
       "word_char_DT            int64\n",
       "word_char_TAGS          int64\n",
       "word_char_LU            int64\n",
       "MALE_FEM              float64\n",
       "MALE_PIC              float64\n",
       "FEM_PIC               float64\n",
       "dtype: object"
      ]
     },
     "execution_count": 9,
     "metadata": {},
     "output_type": "execute_result"
    }
   ],
   "source": [
    "kivake.dtypes"
   ]
  },
  {
   "cell_type": "code",
   "execution_count": 10,
   "metadata": {},
   "outputs": [
    {
     "data": {
      "text/plain": [
       "(51170, 28)"
      ]
     },
     "execution_count": 10,
     "metadata": {},
     "output_type": "execute_result"
    }
   ],
   "source": [
    "kivake.shape"
   ]
  },
  {
   "cell_type": "code",
   "execution_count": 11,
   "metadata": {},
   "outputs": [
    {
     "name": "stdout",
     "output_type": "stream",
     "text": [
      "                                count      mean\n",
      "ACTIVITY_NAME                                  \n",
      "Agriculture                      2283  0.833552\n",
      "Animal Sales                      179  0.743017\n",
      "Bakery                             52  0.653846\n",
      "Beauty Salon                      700  0.652857\n",
      "Beverages                          68  0.735294\n",
      "Cattle                            113  0.769912\n",
      "Cereals                          2689  0.732614\n",
      "Charcoal Sales                    343  0.760933\n",
      "Clothing                          342  0.903509\n",
      "Clothing Sales                   1457  0.636925\n",
      "Cosmetics Sales                   208  0.634615\n",
      "Crafts                             45  0.977778\n",
      "Dairy                            2669  0.826527\n",
      "Education provider                 69  1.000000\n",
      "Farm Supplies                     230  0.756522\n",
      "Farming                         19741  0.822197\n",
      "Fish Selling                      407  0.778870\n",
      "Fishing                             6  0.833333\n",
      "Food                              552  0.798913\n",
      "Food Market                       183  0.830601\n",
      "Food Production/Sales             352  0.823864\n",
      "Food Stall                        434  0.829493\n",
      "Fruits & Vegetables              1532  0.845953\n",
      "General Store                    2511  0.586619\n",
      "Grocery Store                     891  0.809203\n",
      "Higher education costs            191  0.926702\n",
      "Home Appliances                   199  1.000000\n",
      "Home Energy                      1786  1.000000\n",
      "Home Products Sales               171  0.619883\n",
      "Livestock                         314  0.856688\n",
      "Motorcycle Transport             1417  0.474947\n",
      "Personal Expenses                  33  0.939394\n",
      "Personal Housing Expenses          49  0.959184\n",
      "Personal Medical Expenses          32  1.000000\n",
      "Personal Products Sales            19  0.684211\n",
      "Pigs                               50  0.800000\n",
      "Poultry                          1164  0.909794\n",
      "Primary/secondary school costs    668  1.000000\n",
      "Restaurant                        260  0.626923\n",
      "Retail                           1628  0.653563\n",
      "Services                          466  0.742489\n",
      "Sewing                             23  0.869565\n",
      "Tailoring                         679  0.837997\n",
      "Transportation                    146  0.595890\n",
      "Used Clothing                     389  0.789203\n",
      "Weaving                            44  1.000000\n",
      "miscellaneous                    3386  0.711164\n",
      "                count      mean\n",
      "SECTOR_NAME                    \n",
      "Agriculture     26810  0.826632\n",
      "Arts              121  0.983471\n",
      "Clothing         2232  0.707437\n",
      "Construction      372  0.854839\n",
      "Education         929  0.984930\n",
      "Entertainment      17  1.000000\n",
      "Food             7956  0.772247\n",
      "Health            167  1.000000\n",
      "Housing           201  0.656716\n",
      "Manufacturing     189  0.989418\n",
      "Personal Use     2033  0.997541\n",
      "Retail           5849  0.618396\n",
      "Services         2616  0.740443\n",
      "Transportation   1662  0.489771\n",
      "Wholesale          16  0.937500\n",
      "              count      mean\n",
      "COUNTRY_CODE                 \n",
      "KE            51170  0.784659\n",
      "                    count      mean\n",
      "REPAYMENT_INTERVAL                 \n",
      "bullet               7903  0.839048\n",
      "irregular             400  0.930000\n",
      "monthly             42867  0.773275\n",
      "                    count      mean\n",
      "DISTRIBUTION_MODEL                 \n",
      "direct                907  1.000000\n",
      "field_partner       50263  0.780773\n",
      "       count      mean\n",
      "month                 \n",
      "0       4379  0.755195\n",
      "1       9213  0.789645\n",
      "2       7693  0.878591\n",
      "3       4907  0.835949\n",
      "4       4682  0.715933\n",
      "5       4623  0.724854\n",
      "6       4180  0.738038\n",
      "7       4062  0.726243\n",
      "8       3610  0.778116\n",
      "9       3821  0.827270\n"
     ]
    }
   ],
   "source": [
    "catcols = ['ORIGINAL_LANGUAGE', 'ACTIVITY_NAME', 'SECTOR_NAME', 'COUNTRY_CODE', 'REPAYMENT_INTERVAL', 'DISTRIBUTION_MODEL', 'month']\n",
    "\n",
    "for i in range(1,len(catcols)):\n",
    "    print(kivake.groupby(catcols[i], dropna=False)['STATUS'].agg(['count', 'mean']))\n",
    "    #print(pd.pivot_table(df, columns = totcols[i], aggfunc=np.count))"
   ]
  },
  {
   "cell_type": "code",
   "execution_count": 12,
   "metadata": {},
   "outputs": [],
   "source": [
    "kivake_dummies = pd.get_dummies(kivake, drop_first=True)"
   ]
  },
  {
   "cell_type": "code",
   "execution_count": 13,
   "metadata": {},
   "outputs": [
    {
     "data": {
      "text/plain": [
       "(51170, 88)"
      ]
     },
     "execution_count": 13,
     "metadata": {},
     "output_type": "execute_result"
    }
   ],
   "source": [
    "kivake_dummies.shape"
   ]
  },
  {
   "cell_type": "code",
   "execution_count": 14,
   "metadata": {},
   "outputs": [],
   "source": [
    "kivake_dummies_small = kivake_dummies.sample(51170)"
   ]
  },
  {
   "cell_type": "code",
   "execution_count": 15,
   "metadata": {},
   "outputs": [
    {
     "data": {
      "text/plain": [
       "1    40151\n",
       "0    11019\n",
       "Name: STATUS, dtype: int64"
      ]
     },
     "execution_count": 15,
     "metadata": {},
     "output_type": "execute_result"
    }
   ],
   "source": [
    "kivake_dummies_small['STATUS'].value_counts()"
   ]
  },
  {
   "cell_type": "code",
   "execution_count": 16,
   "metadata": {},
   "outputs": [],
   "source": [
    "#Creating X, y and test-train split\n",
    "X = kivake_dummies_small.drop(columns = ['STATUS'])\n",
    "y = kivake_dummies_small['STATUS']\n",
    "\n",
    "#Perform test-train split\n",
    "X_train, X_test, y_train, y_test = train_test_split(X, y, random_state =42, stratify=y)\n",
    "\n",
    "#Scale features\n",
    "sc = StandardScaler()\n",
    "X_train_sc = sc.fit_transform(X_train)\n",
    "X_test_sc = sc.transform(X_test)"
   ]
  },
  {
   "cell_type": "code",
   "execution_count": 18,
   "metadata": {},
   "outputs": [
    {
     "name": "stdout",
     "output_type": "stream",
     "text": [
      "0.8296375433202179 0.830219651371844\n"
     ]
    }
   ],
   "source": [
    "#Building out logistic regressoin with higher max-iter\n",
    "logreg = LogisticRegression(solver='liblinear', max_iter=1500)\n",
    "logreg.fit(X_train_sc, y_train)\n",
    "print(logreg.score(X_train_sc,y_train), logreg.score(X_test_sc,y_test))"
   ]
  },
  {
   "cell_type": "code",
   "execution_count": 19,
   "metadata": {},
   "outputs": [
    {
     "data": {
      "text/html": [
       "<div>\n",
       "<style scoped>\n",
       "    .dataframe tbody tr th:only-of-type {\n",
       "        vertical-align: middle;\n",
       "    }\n",
       "\n",
       "    .dataframe tbody tr th {\n",
       "        vertical-align: top;\n",
       "    }\n",
       "\n",
       "    .dataframe thead th {\n",
       "        text-align: right;\n",
       "    }\n",
       "</style>\n",
       "<table border=\"1\" class=\"dataframe\">\n",
       "  <thead>\n",
       "    <tr style=\"text-align: right;\">\n",
       "      <th></th>\n",
       "      <th>coefficients</th>\n",
       "      <th>features</th>\n",
       "    </tr>\n",
       "  </thead>\n",
       "  <tbody>\n",
       "    <tr>\n",
       "      <th>16</th>\n",
       "      <td>3.413107</td>\n",
       "      <td>word_char_TAGS</td>\n",
       "    </tr>\n",
       "    <tr>\n",
       "      <th>0</th>\n",
       "      <td>-2.261731</td>\n",
       "      <td>LOAN_AMOUNT</td>\n",
       "    </tr>\n",
       "    <tr>\n",
       "      <th>21</th>\n",
       "      <td>2.161144</td>\n",
       "      <td>ORIGINAL_LANGUAGE_MISSING</td>\n",
       "    </tr>\n",
       "    <tr>\n",
       "      <th>14</th>\n",
       "      <td>-2.161144</td>\n",
       "      <td>ANY_MALE</td>\n",
       "    </tr>\n",
       "    <tr>\n",
       "      <th>3</th>\n",
       "      <td>-1.895456</td>\n",
       "      <td>word_count_TAGS</td>\n",
       "    </tr>\n",
       "    <tr>\n",
       "      <th>9</th>\n",
       "      <td>1.221999</td>\n",
       "      <td>FEM_COUNT</td>\n",
       "    </tr>\n",
       "    <tr>\n",
       "      <th>50</th>\n",
       "      <td>1.054129</td>\n",
       "      <td>ACTIVITY_NAME_Home Energy</td>\n",
       "    </tr>\n",
       "    <tr>\n",
       "      <th>2</th>\n",
       "      <td>-0.670857</td>\n",
       "      <td>word_count_DT</td>\n",
       "    </tr>\n",
       "    <tr>\n",
       "      <th>86</th>\n",
       "      <td>-0.625551</td>\n",
       "      <td>DISTRIBUTION_MODEL_field_partner</td>\n",
       "    </tr>\n",
       "    <tr>\n",
       "      <th>11</th>\n",
       "      <td>-0.604179</td>\n",
       "      <td>PIC_TRUE_COUNT</td>\n",
       "    </tr>\n",
       "    <tr>\n",
       "      <th>10</th>\n",
       "      <td>-0.602990</td>\n",
       "      <td>MALE_COUNT</td>\n",
       "    </tr>\n",
       "    <tr>\n",
       "      <th>75</th>\n",
       "      <td>-0.588951</td>\n",
       "      <td>SECTOR_NAME_Food</td>\n",
       "    </tr>\n",
       "    <tr>\n",
       "      <th>19</th>\n",
       "      <td>0.585755</td>\n",
       "      <td>MALE_PIC</td>\n",
       "    </tr>\n",
       "    <tr>\n",
       "      <th>80</th>\n",
       "      <td>-0.550403</td>\n",
       "      <td>SECTOR_NAME_Retail</td>\n",
       "    </tr>\n",
       "    <tr>\n",
       "      <th>76</th>\n",
       "      <td>0.507749</td>\n",
       "      <td>SECTOR_NAME_Health</td>\n",
       "    </tr>\n",
       "    <tr>\n",
       "      <th>73</th>\n",
       "      <td>0.475214</td>\n",
       "      <td>SECTOR_NAME_Education</td>\n",
       "    </tr>\n",
       "    <tr>\n",
       "      <th>5</th>\n",
       "      <td>0.412526</td>\n",
       "      <td>char_count_DT</td>\n",
       "    </tr>\n",
       "    <tr>\n",
       "      <th>7</th>\n",
       "      <td>-0.412306</td>\n",
       "      <td>char_count_LU</td>\n",
       "    </tr>\n",
       "    <tr>\n",
       "      <th>71</th>\n",
       "      <td>-0.380835</td>\n",
       "      <td>SECTOR_NAME_Clothing</td>\n",
       "    </tr>\n",
       "    <tr>\n",
       "      <th>13</th>\n",
       "      <td>0.377570</td>\n",
       "      <td>ANY_FEM</td>\n",
       "    </tr>\n",
       "    <tr>\n",
       "      <th>85</th>\n",
       "      <td>-0.375100</td>\n",
       "      <td>REPAYMENT_INTERVAL_monthly</td>\n",
       "    </tr>\n",
       "    <tr>\n",
       "      <th>60</th>\n",
       "      <td>0.337077</td>\n",
       "      <td>ACTIVITY_NAME_Primary/secondary school costs</td>\n",
       "    </tr>\n",
       "    <tr>\n",
       "      <th>49</th>\n",
       "      <td>0.329072</td>\n",
       "      <td>ACTIVITY_NAME_Home Appliances</td>\n",
       "    </tr>\n",
       "    <tr>\n",
       "      <th>20</th>\n",
       "      <td>-0.323106</td>\n",
       "      <td>FEM_PIC</td>\n",
       "    </tr>\n",
       "    <tr>\n",
       "      <th>18</th>\n",
       "      <td>-0.322263</td>\n",
       "      <td>MALE_FEM</td>\n",
       "    </tr>\n",
       "  </tbody>\n",
       "</table>\n",
       "</div>"
      ],
      "text/plain": [
       "    coefficients                                      features\n",
       "16      3.413107                                word_char_TAGS\n",
       "0      -2.261731                                   LOAN_AMOUNT\n",
       "21      2.161144                     ORIGINAL_LANGUAGE_MISSING\n",
       "14     -2.161144                                      ANY_MALE\n",
       "3      -1.895456                               word_count_TAGS\n",
       "9       1.221999                                     FEM_COUNT\n",
       "50      1.054129                     ACTIVITY_NAME_Home Energy\n",
       "2      -0.670857                                 word_count_DT\n",
       "86     -0.625551              DISTRIBUTION_MODEL_field_partner\n",
       "11     -0.604179                                PIC_TRUE_COUNT\n",
       "10     -0.602990                                    MALE_COUNT\n",
       "75     -0.588951                              SECTOR_NAME_Food\n",
       "19      0.585755                                      MALE_PIC\n",
       "80     -0.550403                            SECTOR_NAME_Retail\n",
       "76      0.507749                            SECTOR_NAME_Health\n",
       "73      0.475214                         SECTOR_NAME_Education\n",
       "5       0.412526                                 char_count_DT\n",
       "7      -0.412306                                 char_count_LU\n",
       "71     -0.380835                          SECTOR_NAME_Clothing\n",
       "13      0.377570                                       ANY_FEM\n",
       "85     -0.375100                    REPAYMENT_INTERVAL_monthly\n",
       "60      0.337077  ACTIVITY_NAME_Primary/secondary school costs\n",
       "49      0.329072                 ACTIVITY_NAME_Home Appliances\n",
       "20     -0.323106                                       FEM_PIC\n",
       "18     -0.322263                                      MALE_FEM"
      ]
     },
     "execution_count": 19,
     "metadata": {},
     "output_type": "execute_result"
    }
   ],
   "source": [
    "#See what coefficients came out strong\n",
    "coef= logreg.coef_[0]\n",
    "coef_df = pd.DataFrame({'coefficients': coef, 'features': X_train.columns}).sort_values(by = 'coefficients', ascending = False, key = abs).head(25)\n",
    "coef_df"
   ]
  },
  {
   "cell_type": "code",
   "execution_count": 20,
   "metadata": {},
   "outputs": [
    {
     "data": {
      "image/png": "[encoded data removed]",
      "text/plain": [
       "<Figure size 432x288 with 2 Axes>"
      ]
     },
     "metadata": {
      "needs_background": "light"
     },
     "output_type": "display_data"
    }
   ],
   "source": [
    "#get predictions \n",
    "preds = logreg.predict(X_test_sc)\n",
    "\n",
    "#plot confusion matrix\n",
    "cm = confusion_matrix(y_test, preds)\n",
    "ConfusionMatrixDisplay(cm).plot();"
   ]
  },
  {
   "cell_type": "code",
   "execution_count": 21,
   "metadata": {},
   "outputs": [
    {
     "name": "stdout",
     "output_type": "stream",
     "text": [
      "Various scores:  AUROC: 0.677966883736538, ACC_SCORE: 0.830219651371844, REC_SCORE: 0.9454074516836023, PREC_SCORE: 0.8538779917221523,F1: 0.8973146747352497\n"
     ]
    }
   ],
   "source": [
    "print(f'Various scores:  AUROC: {roc_auc_score(y_test, preds)}, ACC_SCORE: {accuracy_score(y_test, preds)}, REC_SCORE: {recall_score(y_test, preds)}, PREC_SCORE: {precision_score(y_test, preds)},F1: {f1_score(y_test, preds)}')\n"
   ]
  },
  {
   "cell_type": "code",
   "execution_count": 80,
   "metadata": {},
   "outputs": [],
   "source": [
    "#create a list of the model classes to test\n",
    "model_list = [\n",
    "    LogisticRegression(max_iter=1200),\n",
    "    #DecisionTreeClassifier(),\n",
    "    #BaggingClassifier(),\n",
    "    RandomForestClassifier(),\n",
    "    #ExtraTreesClassifier(),\n",
    "    AdaBoostClassifier(),\n",
    "    GradientBoostingClassifier(),\n",
    "    SVC()\n",
    "]"
   ]
  },
  {
   "cell_type": "code",
   "execution_count": 79,
   "metadata": {},
   "outputs": [],
   "source": [
    "#create a list to store each model's results in a dictionary\n",
    "classifier_list = []\n",
    "\n",
    "for model_obj in model_list:\n",
    "    #instantiate each model \n",
    "    model = model_obj\n",
    "\n",
    "    #fit the model\n",
    "    model.fit(X_train_sc, y_train) \n",
    "  \n",
    "    #create a dictionary with scores and evaluation metrics for each model\n",
    "    results_dict = {}    \n",
    "    results_dict['model_name'] = str(model_obj)\n",
    "    results_dict['train_score'] = model.score(X_train_sc, y_train)\n",
    "    results_dict['test_score'] = model.score(X_test_sc, y_test)\n",
    "    results_dict['cv_score'] = cross_val_score(model, X_train_sc, y_train, cv = 5).mean()\n",
    "        \n",
    "    #add the dictionary to the list\n",
    "    classifier_list.append(results_dict)"
   ]
  },
  {
   "cell_type": "code",
   "execution_count": 81,
   "metadata": {},
   "outputs": [
    {
     "data": {
      "text/html": [
       "<div>\n",
       "<style scoped>\n",
       "    .dataframe tbody tr th:only-of-type {\n",
       "        vertical-align: middle;\n",
       "    }\n",
       "\n",
       "    .dataframe tbody tr th {\n",
       "        vertical-align: top;\n",
       "    }\n",
       "\n",
       "    .dataframe thead th {\n",
       "        text-align: right;\n",
       "    }\n",
       "</style>\n",
       "<table border=\"1\" class=\"dataframe\">\n",
       "  <thead>\n",
       "    <tr style=\"text-align: right;\">\n",
       "      <th></th>\n",
       "      <th>model_name</th>\n",
       "      <th>train_score</th>\n",
       "      <th>test_score</th>\n",
       "      <th>cv_score</th>\n",
       "    </tr>\n",
       "  </thead>\n",
       "  <tbody>\n",
       "    <tr>\n",
       "      <th>0</th>\n",
       "      <td>LogisticRegression(max_iter=1200)</td>\n",
       "      <td>0.829638</td>\n",
       "      <td>0.830376</td>\n",
       "      <td>0.829012</td>\n",
       "    </tr>\n",
       "    <tr>\n",
       "      <th>1</th>\n",
       "      <td>RandomForestClassifier()</td>\n",
       "      <td>1.000000</td>\n",
       "      <td>0.846244</td>\n",
       "      <td>0.848216</td>\n",
       "    </tr>\n",
       "    <tr>\n",
       "      <th>2</th>\n",
       "      <td>AdaBoostClassifier()</td>\n",
       "      <td>0.843031</td>\n",
       "      <td>0.840303</td>\n",
       "      <td>0.842275</td>\n",
       "    </tr>\n",
       "    <tr>\n",
       "      <th>3</th>\n",
       "      <td>GradientBoostingClassifier()</td>\n",
       "      <td>0.848998</td>\n",
       "      <td>0.843430</td>\n",
       "      <td>0.846028</td>\n",
       "    </tr>\n",
       "    <tr>\n",
       "      <th>4</th>\n",
       "      <td>SVC()</td>\n",
       "      <td>0.832817</td>\n",
       "      <td>0.827875</td>\n",
       "      <td>0.828282</td>\n",
       "    </tr>\n",
       "  </tbody>\n",
       "</table>\n",
       "</div>"
      ],
      "text/plain": [
       "                          model_name  train_score  test_score  cv_score\n",
       "0  LogisticRegression(max_iter=1200)     0.829638    0.830376  0.829012\n",
       "1           RandomForestClassifier()     1.000000    0.846244  0.848216\n",
       "2               AdaBoostClassifier()     0.843031    0.840303  0.842275\n",
       "3       GradientBoostingClassifier()     0.848998    0.843430  0.846028\n",
       "4                              SVC()     0.832817    0.827875  0.828282"
      ]
     },
     "execution_count": 81,
     "metadata": {},
     "output_type": "execute_result"
    }
   ],
   "source": [
    "#To get just RF model scores\n",
    "clf_results = pd.DataFrame(classifier_list)\n",
    "clf_results"
   ]
  },
  {
   "cell_type": "code",
   "execution_count": 46,
   "metadata": {},
   "outputs": [
    {
     "name": "stdout",
     "output_type": "stream",
     "text": [
      "{'n_estimators': [10, 14, 19, 23, 28], 'max_features': ['auto', 'sqrt'], 'max_depth': [10, 20, 30, 40, 50, None], 'min_samples_split': [5, 10, 15], 'min_samples_leaf': [2, 4, 8], 'bootstrap': [True, False]}\n"
     ]
    }
   ],
   "source": [
    "from sklearn.model_selection import RandomizedSearchCV\n",
    "# Number of trees in random forest\n",
    "n_estimators = [int(x) for x in np.linspace(start = 10, stop = 28, num = 5)]\n",
    "# Number of features to consider at every split\n",
    "max_features = ['auto', 'sqrt']\n",
    "# Maximum number of levels in tree\n",
    "max_depth = [int(x) for x in np.linspace(10, 50, num = 5)]\n",
    "max_depth.append(None)\n",
    "# Minimum number of samples required to split a node\n",
    "min_samples_split = [5, 10, 15]\n",
    "# Minimum number of samples required at each leaf node\n",
    "min_samples_leaf = [2, 4, 8]\n",
    "# Method of selecting samples for training each tree\n",
    "bootstrap = [True, False]\n",
    "# Create the random grid\n",
    "random_grid = {'n_estimators': n_estimators,\n",
    "               'max_features': max_features,\n",
    "               'max_depth': max_depth,\n",
    "               'min_samples_split': min_samples_split,\n",
    "               'min_samples_leaf': min_samples_leaf,\n",
    "               'bootstrap': bootstrap}\n",
    "print(random_grid)"
   ]
  },
  {
   "cell_type": "code",
   "execution_count": 47,
   "metadata": {},
   "outputs": [
    {
     "name": "stdout",
     "output_type": "stream",
     "text": [
      "Fitting 3 folds for each of 100 candidates, totalling 300 fits\n"
     ]
    },
    {
     "data": {
      "text/plain": [
       "RandomizedSearchCV(cv=3, estimator=RandomForestClassifier(), n_iter=100,\n",
       "                   n_jobs=-1,\n",
       "                   param_distributions={'bootstrap': [True, False],\n",
       "                                        'max_depth': [10, 20, 30, 40, 50, None],\n",
       "                                        'max_features': ['auto', 'sqrt'],\n",
       "                                        'min_samples_leaf': [2, 4, 8],\n",
       "                                        'min_samples_split': [5, 10, 15],\n",
       "                                        'n_estimators': [10, 14, 19, 23, 28]},\n",
       "                   random_state=42, verbose=12)"
      ]
     },
     "execution_count": 47,
     "metadata": {},
     "output_type": "execute_result"
    }
   ],
   "source": [
    "# Use the random grid to search for best hyperparameters\n",
    "# First create the base model to tune\n",
    "rf = RandomForestClassifier()\n",
    "# Random search of parameters, using 3 fold cross validation, \n",
    "# search across 100 different combinations, and use all available cores\n",
    "rf_random = RandomizedSearchCV(estimator = rf, param_distributions = random_grid, n_iter = 100, cv = 3, verbose=12, random_state=42, n_jobs = -1)\n",
    "# Fit the random search model\n",
    "rf_random.fit(X_train_sc, y_train)"
   ]
  },
  {
   "cell_type": "code",
   "execution_count": 48,
   "metadata": {},
   "outputs": [
    {
     "data": {
      "text/plain": [
       "RandomForestClassifier(bootstrap=False, max_features='sqrt', min_samples_leaf=2,\n",
       "                       min_samples_split=15, n_estimators=23)"
      ]
     },
     "execution_count": 48,
     "metadata": {},
     "output_type": "execute_result"
    }
   ],
   "source": [
    "rf_random.best_estimator_"
   ]
  },
  {
   "cell_type": "code",
   "execution_count": 51,
   "metadata": {},
   "outputs": [
    {
     "data": {
      "text/plain": [
       "0.8477473450708146"
      ]
     },
     "execution_count": 51,
     "metadata": {},
     "output_type": "execute_result"
    }
   ],
   "source": [
    "rf_random.best_score_"
   ]
  },
  {
   "cell_type": "code",
   "execution_count": 50,
   "metadata": {},
   "outputs": [
    {
     "data": {
      "text/plain": [
       "0.8481982334088954"
      ]
     },
     "execution_count": 50,
     "metadata": {},
     "output_type": "execute_result"
    }
   ],
   "source": [
    "preds = rf_random.predict(X_test_sc)\n",
    "accuracy_score(y_test, preds)"
   ]
  },
  {
   "cell_type": "code",
   "execution_count": 61,
   "metadata": {},
   "outputs": [
    {
     "data": {
      "text/html": [
       "<div>\n",
       "<style scoped>\n",
       "    .dataframe tbody tr th:only-of-type {\n",
       "        vertical-align: middle;\n",
       "    }\n",
       "\n",
       "    .dataframe tbody tr th {\n",
       "        vertical-align: top;\n",
       "    }\n",
       "\n",
       "    .dataframe thead th {\n",
       "        text-align: right;\n",
       "    }\n",
       "</style>\n",
       "<table border=\"1\" class=\"dataframe\">\n",
       "  <thead>\n",
       "    <tr style=\"text-align: right;\">\n",
       "      <th></th>\n",
       "      <th>features</th>\n",
       "      <th>coef</th>\n",
       "    </tr>\n",
       "  </thead>\n",
       "  <tbody>\n",
       "    <tr>\n",
       "      <th>0</th>\n",
       "      <td>LOAN_AMOUNT</td>\n",
       "      <td>0.259488</td>\n",
       "    </tr>\n",
       "    <tr>\n",
       "      <th>1</th>\n",
       "      <td>LENDER_TERM</td>\n",
       "      <td>0.065497</td>\n",
       "    </tr>\n",
       "    <tr>\n",
       "      <th>2</th>\n",
       "      <td>word_count_DT</td>\n",
       "      <td>0.039675</td>\n",
       "    </tr>\n",
       "    <tr>\n",
       "      <th>3</th>\n",
       "      <td>word_count_TAGS</td>\n",
       "      <td>0.037076</td>\n",
       "    </tr>\n",
       "    <tr>\n",
       "      <th>4</th>\n",
       "      <td>word_count_LU</td>\n",
       "      <td>0.025931</td>\n",
       "    </tr>\n",
       "    <tr>\n",
       "      <th>5</th>\n",
       "      <td>char_count_DT</td>\n",
       "      <td>0.045880</td>\n",
       "    </tr>\n",
       "    <tr>\n",
       "      <th>6</th>\n",
       "      <td>char_count_TAGS</td>\n",
       "      <td>0.063637</td>\n",
       "    </tr>\n",
       "    <tr>\n",
       "      <th>7</th>\n",
       "      <td>char_count_LU</td>\n",
       "      <td>0.037687</td>\n",
       "    </tr>\n",
       "    <tr>\n",
       "      <th>8</th>\n",
       "      <td>month</td>\n",
       "      <td>0.050101</td>\n",
       "    </tr>\n",
       "    <tr>\n",
       "      <th>9</th>\n",
       "      <td>FEM_COUNT</td>\n",
       "      <td>0.016624</td>\n",
       "    </tr>\n",
       "    <tr>\n",
       "      <th>10</th>\n",
       "      <td>MALE_COUNT</td>\n",
       "      <td>0.006767</td>\n",
       "    </tr>\n",
       "    <tr>\n",
       "      <th>11</th>\n",
       "      <td>PIC_TRUE_COUNT</td>\n",
       "      <td>0.006618</td>\n",
       "    </tr>\n",
       "    <tr>\n",
       "      <th>12</th>\n",
       "      <td>PIC_FALSE_COUNT</td>\n",
       "      <td>0.000000</td>\n",
       "    </tr>\n",
       "    <tr>\n",
       "      <th>13</th>\n",
       "      <td>ANY_FEM</td>\n",
       "      <td>0.030720</td>\n",
       "    </tr>\n",
       "    <tr>\n",
       "      <th>14</th>\n",
       "      <td>ANY_MALE</td>\n",
       "      <td>0.001792</td>\n",
       "    </tr>\n",
       "    <tr>\n",
       "      <th>15</th>\n",
       "      <td>word_char_DT</td>\n",
       "      <td>0.042969</td>\n",
       "    </tr>\n",
       "    <tr>\n",
       "      <th>16</th>\n",
       "      <td>word_char_TAGS</td>\n",
       "      <td>0.062136</td>\n",
       "    </tr>\n",
       "    <tr>\n",
       "      <th>17</th>\n",
       "      <td>word_char_LU</td>\n",
       "      <td>0.039034</td>\n",
       "    </tr>\n",
       "    <tr>\n",
       "      <th>18</th>\n",
       "      <td>MALE_FEM</td>\n",
       "      <td>0.036377</td>\n",
       "    </tr>\n",
       "    <tr>\n",
       "      <th>19</th>\n",
       "      <td>MALE_PIC</td>\n",
       "      <td>0.008089</td>\n",
       "    </tr>\n",
       "    <tr>\n",
       "      <th>20</th>\n",
       "      <td>FEM_PIC</td>\n",
       "      <td>0.021446</td>\n",
       "    </tr>\n",
       "    <tr>\n",
       "      <th>21</th>\n",
       "      <td>ORIGINAL_LANGUAGE_MISSING</td>\n",
       "      <td>0.000229</td>\n",
       "    </tr>\n",
       "    <tr>\n",
       "      <th>22</th>\n",
       "      <td>ORIGINAL_LANGUAGE_Russian</td>\n",
       "      <td>0.000000</td>\n",
       "    </tr>\n",
       "    <tr>\n",
       "      <th>23</th>\n",
       "      <td>ORIGINAL_LANGUAGE_Spanish</td>\n",
       "      <td>0.000000</td>\n",
       "    </tr>\n",
       "    <tr>\n",
       "      <th>24</th>\n",
       "      <td>ACTIVITY_NAME_Animal Sales</td>\n",
       "      <td>0.000240</td>\n",
       "    </tr>\n",
       "    <tr>\n",
       "      <th>25</th>\n",
       "      <td>ACTIVITY_NAME_Bakery</td>\n",
       "      <td>0.000100</td>\n",
       "    </tr>\n",
       "    <tr>\n",
       "      <th>26</th>\n",
       "      <td>ACTIVITY_NAME_Beauty Salon</td>\n",
       "      <td>0.003015</td>\n",
       "    </tr>\n",
       "    <tr>\n",
       "      <th>27</th>\n",
       "      <td>ACTIVITY_NAME_Beverages</td>\n",
       "      <td>0.000121</td>\n",
       "    </tr>\n",
       "  </tbody>\n",
       "</table>\n",
       "</div>"
      ],
      "text/plain": [
       "                      features      coef\n",
       "0                  LOAN_AMOUNT  0.259488\n",
       "1                  LENDER_TERM  0.065497\n",
       "2                word_count_DT  0.039675\n",
       "3              word_count_TAGS  0.037076\n",
       "4                word_count_LU  0.025931\n",
       "5                char_count_DT  0.045880\n",
       "6              char_count_TAGS  0.063637\n",
       "7                char_count_LU  0.037687\n",
       "8                        month  0.050101\n",
       "9                    FEM_COUNT  0.016624\n",
       "10                  MALE_COUNT  0.006767\n",
       "11              PIC_TRUE_COUNT  0.006618\n",
       "12             PIC_FALSE_COUNT  0.000000\n",
       "13                     ANY_FEM  0.030720\n",
       "14                    ANY_MALE  0.001792\n",
       "15                word_char_DT  0.042969\n",
       "16              word_char_TAGS  0.062136\n",
       "17                word_char_LU  0.039034\n",
       "18                    MALE_FEM  0.036377\n",
       "19                    MALE_PIC  0.008089\n",
       "20                     FEM_PIC  0.021446\n",
       "21   ORIGINAL_LANGUAGE_MISSING  0.000229\n",
       "22   ORIGINAL_LANGUAGE_Russian  0.000000\n",
       "23   ORIGINAL_LANGUAGE_Spanish  0.000000\n",
       "24  ACTIVITY_NAME_Animal Sales  0.000240\n",
       "25        ACTIVITY_NAME_Bakery  0.000100\n",
       "26  ACTIVITY_NAME_Beauty Salon  0.003015\n",
       "27     ACTIVITY_NAME_Beverages  0.000121"
      ]
     },
     "execution_count": 61,
     "metadata": {},
     "output_type": "execute_result"
    }
   ],
   "source": [
    "rf_var = pd.DataFrame({'features':X_train.columns, 'coef':rf_random.best_estimator_.feature_importances_})\n",
    "rf_var.head(28)"
   ]
  },
  {
   "cell_type": "code",
   "execution_count": 62,
   "metadata": {},
   "outputs": [
    {
     "data": {
      "image/png": "[encoded data removed]",
      "text/plain": [
       "<Figure size 432x288 with 2 Axes>"
      ]
     },
     "metadata": {
      "needs_background": "light"
     },
     "output_type": "display_data"
    }
   ],
   "source": [
    "#plot confusion matrix\n",
    "cm = confusion_matrix(y_test, preds)\n",
    "ConfusionMatrixDisplay(cm).plot();"
   ]
  },
  {
   "cell_type": "code",
   "execution_count": 63,
   "metadata": {},
   "outputs": [
    {
     "name": "stdout",
     "output_type": "stream",
     "text": [
      "Various scores:  AUROC: 0.7285315619158993, ACC_SCORE: 0.8481982334088954, REC_SCORE: 0.9387328153018529, PREC_SCORE: 0.8765581395348837,F1: 0.9065807196459496\n"
     ]
    }
   ],
   "source": [
    "print(f'Various scores:  AUROC: {roc_auc_score(y_test, preds)}, ACC_SCORE: {accuracy_score(y_test, preds)}, REC_SCORE: {recall_score(y_test, preds)}, PREC_SCORE: {precision_score(y_test, preds)},F1: {f1_score(y_test, preds)}')\n"
   ]
  },
  {
   "cell_type": "code",
   "execution_count": 33,
   "metadata": {},
   "outputs": [
    {
     "data": {
      "text/plain": [
       "RandomForestClassifier(max_depth=5)"
      ]
     },
     "execution_count": 33,
     "metadata": {},
     "output_type": "execute_result"
    }
   ],
   "source": [
    "# params and grid search \n",
    "params = {\n",
    "    'n_estimators': [25, 50, 100],\n",
    "    'max_depth':[3, 5]\n",
    "}\n",
    "\n",
    "rf=RandomForestClassifier()\n",
    "\n",
    "gs_rf = GridSearchCV(rf, param_grid = params, cv=5)\n",
    "gs_rf.fit(X_train_sc, y_train)\n",
    "\n",
    "gs_rf.best_estimator_\n",
    "\n",
    "print(gb3.score(X_train_sc, y_train), gb3.score(X_test_sc, y_test),  \n",
    "      cross_val_score(gb3, X_train_sc, y_train, cv = 5).mean())"
   ]
  },
  {
   "cell_type": "code",
   "execution_count": 44,
   "metadata": {},
   "outputs": [
    {
     "data": {
      "text/plain": [
       "0.8170874697099977"
      ]
     },
     "execution_count": 44,
     "metadata": {},
     "output_type": "execute_result"
    }
   ],
   "source": [
    "preds = gs_rf.predict(X_test_sc)\n",
    "accuracy_score(y_test, preds)"
   ]
  },
  {
   "cell_type": "code",
   "execution_count": 64,
   "metadata": {
    "scrolled": true
   },
   "outputs": [
    {
     "name": "stdout",
     "output_type": "stream",
     "text": [
      "Epoch 1/100\n",
      "5/5 - 1s - loss: 0.8273 - acc: 0.5012 - val_loss: 0.5936 - val_acc: 0.7700\n",
      "Epoch 2/100\n",
      "5/5 - 0s - loss: 0.6609 - acc: 0.6592 - val_loss: 0.5321 - val_acc: 0.7847\n",
      "Epoch 3/100\n",
      "5/5 - 0s - loss: 0.5983 - acc: 0.7406 - val_loss: 0.5234 - val_acc: 0.7846\n",
      "Epoch 4/100\n",
      "5/5 - 0s - loss: 0.5812 - acc: 0.7661 - val_loss: 0.5158 - val_acc: 0.7846\n",
      "Epoch 5/100\n",
      "5/5 - 0s - loss: 0.5671 - acc: 0.7745 - val_loss: 0.5001 - val_acc: 0.7846\n",
      "Epoch 6/100\n",
      "5/5 - 0s - loss: 0.5533 - acc: 0.7737 - val_loss: 0.4834 - val_acc: 0.7846\n",
      "Epoch 7/100\n",
      "5/5 - 0s - loss: 0.5334 - acc: 0.7734 - val_loss: 0.4715 - val_acc: 0.7852\n",
      "Epoch 8/100\n",
      "5/5 - 0s - loss: 0.5241 - acc: 0.7729 - val_loss: 0.4639 - val_acc: 0.7918\n",
      "Epoch 9/100\n",
      "5/5 - 0s - loss: 0.5120 - acc: 0.7727 - val_loss: 0.4578 - val_acc: 0.7921\n",
      "Epoch 10/100\n",
      "5/5 - 0s - loss: 0.5062 - acc: 0.7767 - val_loss: 0.4515 - val_acc: 0.7919\n",
      "Epoch 11/100\n",
      "5/5 - 0s - loss: 0.4997 - acc: 0.7766 - val_loss: 0.4451 - val_acc: 0.7922\n",
      "Epoch 12/100\n",
      "5/5 - 0s - loss: 0.4898 - acc: 0.7800 - val_loss: 0.4391 - val_acc: 0.7925\n",
      "Epoch 13/100\n",
      "5/5 - 0s - loss: 0.4833 - acc: 0.7813 - val_loss: 0.4338 - val_acc: 0.7927\n",
      "Epoch 14/100\n",
      "5/5 - 0s - loss: 0.4750 - acc: 0.7860 - val_loss: 0.4289 - val_acc: 0.7936\n",
      "Epoch 15/100\n",
      "5/5 - 0s - loss: 0.4681 - acc: 0.7855 - val_loss: 0.4244 - val_acc: 0.7960\n",
      "Epoch 16/100\n",
      "5/5 - 0s - loss: 0.4638 - acc: 0.7876 - val_loss: 0.4202 - val_acc: 0.7976\n",
      "Epoch 17/100\n",
      "5/5 - 0s - loss: 0.4606 - acc: 0.7874 - val_loss: 0.4164 - val_acc: 0.8009\n",
      "Epoch 18/100\n",
      "5/5 - 0s - loss: 0.4523 - acc: 0.7910 - val_loss: 0.4126 - val_acc: 0.8032\n",
      "Epoch 19/100\n",
      "5/5 - 0s - loss: 0.4502 - acc: 0.7933 - val_loss: 0.4089 - val_acc: 0.8041\n",
      "Epoch 20/100\n",
      "5/5 - 0s - loss: 0.4464 - acc: 0.7921 - val_loss: 0.4055 - val_acc: 0.8047\n",
      "Epoch 21/100\n",
      "5/5 - 0s - loss: 0.4426 - acc: 0.7938 - val_loss: 0.4025 - val_acc: 0.8059\n",
      "Epoch 22/100\n",
      "5/5 - 0s - loss: 0.4406 - acc: 0.7944 - val_loss: 0.3996 - val_acc: 0.8069\n",
      "Epoch 23/100\n",
      "5/5 - 0s - loss: 0.4330 - acc: 0.7959 - val_loss: 0.3971 - val_acc: 0.8081\n",
      "Epoch 24/100\n",
      "5/5 - 0s - loss: 0.4302 - acc: 0.7984 - val_loss: 0.3947 - val_acc: 0.8093\n",
      "Epoch 25/100\n",
      "5/5 - 0s - loss: 0.4298 - acc: 0.7991 - val_loss: 0.3927 - val_acc: 0.8104\n",
      "Epoch 26/100\n",
      "5/5 - 0s - loss: 0.4246 - acc: 0.8007 - val_loss: 0.3906 - val_acc: 0.8111\n",
      "Epoch 27/100\n",
      "5/5 - 0s - loss: 0.4210 - acc: 0.8019 - val_loss: 0.3885 - val_acc: 0.8112\n",
      "Epoch 28/100\n",
      "5/5 - 0s - loss: 0.4211 - acc: 0.8017 - val_loss: 0.3867 - val_acc: 0.8120\n",
      "Epoch 29/100\n",
      "5/5 - 0s - loss: 0.4160 - acc: 0.8032 - val_loss: 0.3849 - val_acc: 0.8135\n",
      "Epoch 30/100\n",
      "5/5 - 0s - loss: 0.4155 - acc: 0.8051 - val_loss: 0.3833 - val_acc: 0.8141\n",
      "Epoch 31/100\n",
      "5/5 - 0s - loss: 0.4100 - acc: 0.8064 - val_loss: 0.3818 - val_acc: 0.8149\n",
      "Epoch 32/100\n",
      "5/5 - 0s - loss: 0.4081 - acc: 0.8079 - val_loss: 0.3803 - val_acc: 0.8158\n",
      "Epoch 33/100\n",
      "5/5 - 0s - loss: 0.4066 - acc: 0.8070 - val_loss: 0.3789 - val_acc: 0.8172\n",
      "Epoch 34/100\n",
      "5/5 - 0s - loss: 0.4053 - acc: 0.8100 - val_loss: 0.3774 - val_acc: 0.8183\n",
      "Epoch 35/100\n",
      "5/5 - 0s - loss: 0.4039 - acc: 0.8098 - val_loss: 0.3761 - val_acc: 0.8181\n",
      "Epoch 36/100\n",
      "5/5 - 0s - loss: 0.4033 - acc: 0.8102 - val_loss: 0.3751 - val_acc: 0.8192\n",
      "Epoch 37/100\n",
      "5/5 - 0s - loss: 0.4015 - acc: 0.8108 - val_loss: 0.3741 - val_acc: 0.8185\n",
      "Epoch 38/100\n",
      "5/5 - 0s - loss: 0.3979 - acc: 0.8123 - val_loss: 0.3728 - val_acc: 0.8190\n",
      "Epoch 39/100\n",
      "5/5 - 0s - loss: 0.3977 - acc: 0.8112 - val_loss: 0.3715 - val_acc: 0.8189\n",
      "Epoch 40/100\n",
      "5/5 - 0s - loss: 0.3945 - acc: 0.8135 - val_loss: 0.3702 - val_acc: 0.8198\n",
      "Epoch 41/100\n",
      "5/5 - 0s - loss: 0.3933 - acc: 0.8145 - val_loss: 0.3691 - val_acc: 0.8195\n",
      "Epoch 42/100\n",
      "5/5 - 0s - loss: 0.3947 - acc: 0.8125 - val_loss: 0.3681 - val_acc: 0.8212\n",
      "Epoch 43/100\n",
      "5/5 - 0s - loss: 0.3908 - acc: 0.8155 - val_loss: 0.3672 - val_acc: 0.8220\n",
      "Epoch 44/100\n",
      "5/5 - 0s - loss: 0.3894 - acc: 0.8164 - val_loss: 0.3662 - val_acc: 0.8239\n",
      "Epoch 45/100\n",
      "5/5 - 0s - loss: 0.3886 - acc: 0.8176 - val_loss: 0.3651 - val_acc: 0.8250\n",
      "Epoch 46/100\n",
      "5/5 - 0s - loss: 0.3876 - acc: 0.8177 - val_loss: 0.3641 - val_acc: 0.8253\n",
      "Epoch 47/100\n",
      "5/5 - 0s - loss: 0.3852 - acc: 0.8181 - val_loss: 0.3635 - val_acc: 0.8255\n",
      "Epoch 48/100\n",
      "5/5 - 0s - loss: 0.3831 - acc: 0.8185 - val_loss: 0.3625 - val_acc: 0.8263\n",
      "Epoch 49/100\n",
      "5/5 - 0s - loss: 0.3826 - acc: 0.8191 - val_loss: 0.3613 - val_acc: 0.8268\n",
      "Epoch 50/100\n",
      "5/5 - 0s - loss: 0.3791 - acc: 0.8204 - val_loss: 0.3602 - val_acc: 0.8263\n",
      "Epoch 51/100\n",
      "5/5 - 0s - loss: 0.3814 - acc: 0.8210 - val_loss: 0.3591 - val_acc: 0.8272\n",
      "Epoch 52/100\n",
      "5/5 - 0s - loss: 0.3773 - acc: 0.8218 - val_loss: 0.3580 - val_acc: 0.8273\n",
      "Epoch 53/100\n",
      "5/5 - 0s - loss: 0.3777 - acc: 0.8234 - val_loss: 0.3572 - val_acc: 0.8283\n",
      "Epoch 54/100\n",
      "5/5 - 0s - loss: 0.3777 - acc: 0.8217 - val_loss: 0.3565 - val_acc: 0.8289\n",
      "Epoch 55/100\n",
      "5/5 - 0s - loss: 0.3755 - acc: 0.8228 - val_loss: 0.3561 - val_acc: 0.8287\n",
      "Epoch 56/100\n",
      "5/5 - 0s - loss: 0.3781 - acc: 0.8243 - val_loss: 0.3553 - val_acc: 0.8290\n",
      "Epoch 57/100\n",
      "5/5 - 0s - loss: 0.3742 - acc: 0.8225 - val_loss: 0.3546 - val_acc: 0.8299\n",
      "Epoch 58/100\n",
      "5/5 - 0s - loss: 0.3715 - acc: 0.8230 - val_loss: 0.3539 - val_acc: 0.8306\n",
      "Epoch 59/100\n",
      "5/5 - 0s - loss: 0.3732 - acc: 0.8244 - val_loss: 0.3531 - val_acc: 0.8308\n",
      "Epoch 60/100\n",
      "5/5 - 0s - loss: 0.3723 - acc: 0.8254 - val_loss: 0.3524 - val_acc: 0.8311\n",
      "Epoch 61/100\n",
      "5/5 - 0s - loss: 0.3691 - acc: 0.8263 - val_loss: 0.3519 - val_acc: 0.8309\n",
      "Epoch 62/100\n",
      "5/5 - 0s - loss: 0.3704 - acc: 0.8258 - val_loss: 0.3514 - val_acc: 0.8308\n",
      "Epoch 63/100\n",
      "5/5 - 0s - loss: 0.3683 - acc: 0.8267 - val_loss: 0.3507 - val_acc: 0.8308\n",
      "Epoch 64/100\n",
      "5/5 - 0s - loss: 0.3670 - acc: 0.8274 - val_loss: 0.3498 - val_acc: 0.8312\n",
      "Epoch 65/100\n",
      "5/5 - 0s - loss: 0.3664 - acc: 0.8262 - val_loss: 0.3492 - val_acc: 0.8315\n",
      "Epoch 66/100\n",
      "5/5 - 0s - loss: 0.3668 - acc: 0.8265 - val_loss: 0.3487 - val_acc: 0.8315\n",
      "Epoch 67/100\n",
      "5/5 - 0s - loss: 0.3658 - acc: 0.8284 - val_loss: 0.3482 - val_acc: 0.8323\n",
      "Epoch 68/100\n",
      "5/5 - 0s - loss: 0.3665 - acc: 0.8272 - val_loss: 0.3478 - val_acc: 0.8329\n",
      "Epoch 69/100\n",
      "5/5 - 0s - loss: 0.3639 - acc: 0.8281 - val_loss: 0.3472 - val_acc: 0.8336\n",
      "Epoch 70/100\n",
      "5/5 - 0s - loss: 0.3648 - acc: 0.8284 - val_loss: 0.3466 - val_acc: 0.8338\n",
      "Epoch 71/100\n",
      "5/5 - 0s - loss: 0.3642 - acc: 0.8295 - val_loss: 0.3459 - val_acc: 0.8339\n",
      "Epoch 72/100\n",
      "5/5 - 0s - loss: 0.3617 - acc: 0.8290 - val_loss: 0.3456 - val_acc: 0.8339\n",
      "Epoch 73/100\n",
      "5/5 - 0s - loss: 0.3609 - acc: 0.8312 - val_loss: 0.3450 - val_acc: 0.8333\n",
      "Epoch 74/100\n",
      "5/5 - 0s - loss: 0.3624 - acc: 0.8304 - val_loss: 0.3444 - val_acc: 0.8344\n",
      "Epoch 75/100\n",
      "5/5 - 0s - loss: 0.3589 - acc: 0.8311 - val_loss: 0.3441 - val_acc: 0.8339\n",
      "Epoch 76/100\n",
      "5/5 - 0s - loss: 0.3606 - acc: 0.8313 - val_loss: 0.3437 - val_acc: 0.8348\n",
      "Epoch 77/100\n",
      "5/5 - 0s - loss: 0.3592 - acc: 0.8317 - val_loss: 0.3432 - val_acc: 0.8345\n",
      "Epoch 78/100\n",
      "5/5 - 0s - loss: 0.3589 - acc: 0.8314 - val_loss: 0.3429 - val_acc: 0.8348\n",
      "Epoch 79/100\n",
      "5/5 - 0s - loss: 0.3571 - acc: 0.8300 - val_loss: 0.3426 - val_acc: 0.8356\n",
      "Epoch 80/100\n",
      "5/5 - 0s - loss: 0.3583 - acc: 0.8298 - val_loss: 0.3422 - val_acc: 0.8358\n",
      "Epoch 81/100\n",
      "5/5 - 0s - loss: 0.3560 - acc: 0.8317 - val_loss: 0.3419 - val_acc: 0.8358\n",
      "Epoch 82/100\n",
      "5/5 - 0s - loss: 0.3586 - acc: 0.8331 - val_loss: 0.3416 - val_acc: 0.8370\n",
      "Epoch 83/100\n",
      "5/5 - 0s - loss: 0.3560 - acc: 0.8329 - val_loss: 0.3411 - val_acc: 0.8367\n",
      "Epoch 84/100\n",
      "5/5 - 0s - loss: 0.3563 - acc: 0.8316 - val_loss: 0.3408 - val_acc: 0.8366\n",
      "Epoch 85/100\n",
      "5/5 - 0s - loss: 0.3551 - acc: 0.8323 - val_loss: 0.3405 - val_acc: 0.8371\n",
      "Epoch 86/100\n",
      "5/5 - 0s - loss: 0.3538 - acc: 0.8329 - val_loss: 0.3401 - val_acc: 0.8374\n",
      "Epoch 87/100\n",
      "5/5 - 0s - loss: 0.3520 - acc: 0.8326 - val_loss: 0.3396 - val_acc: 0.8381\n",
      "Epoch 88/100\n",
      "5/5 - 0s - loss: 0.3545 - acc: 0.8325 - val_loss: 0.3392 - val_acc: 0.8387\n",
      "Epoch 89/100\n",
      "5/5 - 0s - loss: 0.3532 - acc: 0.8333 - val_loss: 0.3388 - val_acc: 0.8383\n",
      "Epoch 90/100\n",
      "5/5 - 0s - loss: 0.3521 - acc: 0.8339 - val_loss: 0.3383 - val_acc: 0.8385\n",
      "Epoch 91/100\n",
      "5/5 - 0s - loss: 0.3519 - acc: 0.8345 - val_loss: 0.3374 - val_acc: 0.8391\n",
      "Epoch 92/100\n",
      "5/5 - 0s - loss: 0.3508 - acc: 0.8338 - val_loss: 0.3369 - val_acc: 0.8391\n",
      "Epoch 93/100\n",
      "5/5 - 0s - loss: 0.3505 - acc: 0.8366 - val_loss: 0.3367 - val_acc: 0.8399\n",
      "Epoch 94/100\n",
      "5/5 - 0s - loss: 0.3478 - acc: 0.8345 - val_loss: 0.3365 - val_acc: 0.8401\n",
      "Epoch 95/100\n",
      "5/5 - 0s - loss: 0.3498 - acc: 0.8348 - val_loss: 0.3364 - val_acc: 0.8393\n",
      "Epoch 96/100\n",
      "5/5 - 0s - loss: 0.3488 - acc: 0.8349 - val_loss: 0.3367 - val_acc: 0.8397\n",
      "Epoch 97/100\n",
      "5/5 - 0s - loss: 0.3499 - acc: 0.8356 - val_loss: 0.3367 - val_acc: 0.8401\n",
      "Epoch 98/100\n",
      "5/5 - 0s - loss: 0.3489 - acc: 0.8352 - val_loss: 0.3363 - val_acc: 0.8399\n",
      "Epoch 99/100\n",
      "5/5 - 0s - loss: 0.3468 - acc: 0.8367 - val_loss: 0.3358 - val_acc: 0.8400\n",
      "Epoch 100/100\n",
      "5/5 - 0s - loss: 0.3474 - acc: 0.8356 - val_loss: 0.3351 - val_acc: 0.8401\n"
     ]
    }
   ],
   "source": [
    "# Build a model using Dropout\n",
    "from tensorflow.keras.layers import Dropout\n",
    "\n",
    "model_dropout = Sequential()\n",
    "\n",
    "#First layer\n",
    "model_dropout.add(Dense(64, activation='relu', input_shape=(X_train_sc.shape[1],)))\n",
    "model_dropout.add(Dropout(0.5))\n",
    "\n",
    "#Second layer\n",
    "model_dropout.add(Dense(64, activation='relu'))\n",
    "model_dropout.add(Dropout(0.5))\n",
    "\n",
    "#Output layer\n",
    "model_dropout.add(Dense(1, activation='sigmoid'))\n",
    "\n",
    "#COmpile the model\n",
    "model_dropout.compile(loss='bce', optimizer='adam', metrics=['acc'])\n",
    "\n",
    "results_dropout = model_dropout.fit(X_train_sc, y_train,\n",
    "                                   validation_data=(X_test_sc, y_test),\n",
    "                                   batch_size=9192,\n",
    "                                   epochs=100,\n",
    "                                   verbose=2)"
   ]
  },
  {
   "cell_type": "code",
   "execution_count": 65,
   "metadata": {
    "scrolled": true
   },
   "outputs": [
    {
     "name": "stdout",
     "output_type": "stream",
     "text": [
      "Epoch 1/100\n",
      "8/8 - 0s - loss: 0.3465 - acc: 0.8352 - val_loss: 0.3346 - val_acc: 0.8405\n",
      "Epoch 2/100\n",
      "8/8 - 0s - loss: 0.3453 - acc: 0.8355 - val_loss: 0.3344 - val_acc: 0.8411\n",
      "Epoch 3/100\n",
      "8/8 - 0s - loss: 0.3452 - acc: 0.8364 - val_loss: 0.3345 - val_acc: 0.8403\n",
      "Epoch 4/100\n",
      "8/8 - 0s - loss: 0.3455 - acc: 0.8364 - val_loss: 0.3341 - val_acc: 0.8412\n",
      "Epoch 5/100\n",
      "8/8 - 0s - loss: 0.3456 - acc: 0.8365 - val_loss: 0.3337 - val_acc: 0.8411\n",
      "Epoch 6/100\n",
      "8/8 - 0s - loss: 0.3456 - acc: 0.8377 - val_loss: 0.3333 - val_acc: 0.8411\n",
      "Epoch 7/100\n",
      "8/8 - 0s - loss: 0.3456 - acc: 0.8351 - val_loss: 0.3327 - val_acc: 0.8405\n",
      "Epoch 8/100\n",
      "8/8 - 0s - loss: 0.3427 - acc: 0.8369 - val_loss: 0.3321 - val_acc: 0.8412\n",
      "Epoch 9/100\n",
      "8/8 - 0s - loss: 0.3430 - acc: 0.8378 - val_loss: 0.3319 - val_acc: 0.8412\n",
      "Epoch 10/100\n",
      "8/8 - 0s - loss: 0.3429 - acc: 0.8387 - val_loss: 0.3317 - val_acc: 0.8409\n",
      "Epoch 11/100\n",
      "8/8 - 0s - loss: 0.3399 - acc: 0.8381 - val_loss: 0.3319 - val_acc: 0.8411\n",
      "Epoch 12/100\n",
      "8/8 - 0s - loss: 0.3424 - acc: 0.8381 - val_loss: 0.3317 - val_acc: 0.8406\n",
      "Epoch 13/100\n",
      "8/8 - 0s - loss: 0.3391 - acc: 0.8371 - val_loss: 0.3309 - val_acc: 0.8408\n",
      "Epoch 14/100\n",
      "8/8 - 0s - loss: 0.3398 - acc: 0.8374 - val_loss: 0.3308 - val_acc: 0.8409\n",
      "Epoch 15/100\n",
      "8/8 - 0s - loss: 0.3388 - acc: 0.8388 - val_loss: 0.3307 - val_acc: 0.8419\n",
      "Epoch 16/100\n",
      "8/8 - 0s - loss: 0.3382 - acc: 0.8394 - val_loss: 0.3307 - val_acc: 0.8419\n",
      "Epoch 17/100\n",
      "8/8 - 0s - loss: 0.3412 - acc: 0.8381 - val_loss: 0.3302 - val_acc: 0.8416\n",
      "Epoch 18/100\n",
      "8/8 - 0s - loss: 0.3388 - acc: 0.8393 - val_loss: 0.3302 - val_acc: 0.8417\n",
      "Epoch 19/100\n",
      "8/8 - 0s - loss: 0.3387 - acc: 0.8387 - val_loss: 0.3299 - val_acc: 0.8423\n",
      "Epoch 20/100\n",
      "8/8 - 0s - loss: 0.3383 - acc: 0.8402 - val_loss: 0.3293 - val_acc: 0.8426\n",
      "Epoch 21/100\n",
      "8/8 - 0s - loss: 0.3388 - acc: 0.8392 - val_loss: 0.3294 - val_acc: 0.8426\n",
      "Epoch 22/100\n",
      "8/8 - 0s - loss: 0.3374 - acc: 0.8390 - val_loss: 0.3294 - val_acc: 0.8410\n",
      "Epoch 23/100\n",
      "8/8 - 0s - loss: 0.3360 - acc: 0.8413 - val_loss: 0.3290 - val_acc: 0.8425\n",
      "Epoch 24/100\n",
      "8/8 - 0s - loss: 0.3377 - acc: 0.8383 - val_loss: 0.3291 - val_acc: 0.8430\n",
      "Epoch 25/100\n",
      "8/8 - 0s - loss: 0.3352 - acc: 0.8395 - val_loss: 0.3291 - val_acc: 0.8427\n",
      "Epoch 26/100\n",
      "8/8 - 0s - loss: 0.3347 - acc: 0.8418 - val_loss: 0.3290 - val_acc: 0.8425\n",
      "Epoch 27/100\n",
      "8/8 - 0s - loss: 0.3345 - acc: 0.8411 - val_loss: 0.3290 - val_acc: 0.8439\n",
      "Epoch 28/100\n",
      "8/8 - 0s - loss: 0.3351 - acc: 0.8399 - val_loss: 0.3286 - val_acc: 0.8440\n",
      "Epoch 29/100\n",
      "8/8 - 0s - loss: 0.3344 - acc: 0.8389 - val_loss: 0.3281 - val_acc: 0.8434\n",
      "Epoch 30/100\n",
      "8/8 - 0s - loss: 0.3333 - acc: 0.8400 - val_loss: 0.3283 - val_acc: 0.8427\n",
      "Epoch 31/100\n",
      "8/8 - 0s - loss: 0.3346 - acc: 0.8403 - val_loss: 0.3283 - val_acc: 0.8434\n",
      "Epoch 32/100\n",
      "8/8 - 0s - loss: 0.3334 - acc: 0.8398 - val_loss: 0.3281 - val_acc: 0.8434\n",
      "Epoch 33/100\n",
      "8/8 - 0s - loss: 0.3347 - acc: 0.8401 - val_loss: 0.3276 - val_acc: 0.8447\n",
      "Epoch 34/100\n",
      "8/8 - 0s - loss: 0.3339 - acc: 0.8400 - val_loss: 0.3277 - val_acc: 0.8442\n",
      "Epoch 35/100\n",
      "8/8 - 0s - loss: 0.3337 - acc: 0.8406 - val_loss: 0.3279 - val_acc: 0.8437\n",
      "Epoch 36/100\n",
      "8/8 - 0s - loss: 0.3314 - acc: 0.8436 - val_loss: 0.3277 - val_acc: 0.8434\n",
      "Epoch 37/100\n",
      "8/8 - 0s - loss: 0.3316 - acc: 0.8413 - val_loss: 0.3274 - val_acc: 0.8427\n",
      "Epoch 38/100\n",
      "8/8 - 0s - loss: 0.3322 - acc: 0.8426 - val_loss: 0.3273 - val_acc: 0.8430\n",
      "Epoch 39/100\n",
      "8/8 - 0s - loss: 0.3317 - acc: 0.8407 - val_loss: 0.3274 - val_acc: 0.8435\n",
      "Epoch 40/100\n",
      "8/8 - 0s - loss: 0.3310 - acc: 0.8411 - val_loss: 0.3275 - val_acc: 0.8438\n",
      "Epoch 41/100\n",
      "8/8 - 0s - loss: 0.3303 - acc: 0.8402 - val_loss: 0.3276 - val_acc: 0.8434\n",
      "Epoch 42/100\n",
      "8/8 - 0s - loss: 0.3326 - acc: 0.8403 - val_loss: 0.3274 - val_acc: 0.8430\n",
      "Epoch 43/100\n",
      "8/8 - 0s - loss: 0.3325 - acc: 0.8417 - val_loss: 0.3273 - val_acc: 0.8435\n",
      "Epoch 44/100\n",
      "8/8 - 0s - loss: 0.3313 - acc: 0.8409 - val_loss: 0.3272 - val_acc: 0.8436\n",
      "Epoch 45/100\n",
      "8/8 - 0s - loss: 0.3299 - acc: 0.8433 - val_loss: 0.3269 - val_acc: 0.8434\n",
      "Epoch 46/100\n",
      "8/8 - 0s - loss: 0.3298 - acc: 0.8419 - val_loss: 0.3266 - val_acc: 0.8433\n",
      "Epoch 47/100\n",
      "8/8 - 0s - loss: 0.3302 - acc: 0.8417 - val_loss: 0.3264 - val_acc: 0.8439\n",
      "Epoch 48/100\n",
      "8/8 - 0s - loss: 0.3308 - acc: 0.8416 - val_loss: 0.3266 - val_acc: 0.8437\n",
      "Epoch 49/100\n",
      "8/8 - 0s - loss: 0.3303 - acc: 0.8408 - val_loss: 0.3266 - val_acc: 0.8434\n",
      "Epoch 50/100\n",
      "8/8 - 0s - loss: 0.3303 - acc: 0.8407 - val_loss: 0.3264 - val_acc: 0.8441\n",
      "Epoch 51/100\n",
      "8/8 - 0s - loss: 0.3295 - acc: 0.8420 - val_loss: 0.3262 - val_acc: 0.8441\n",
      "Epoch 52/100\n",
      "8/8 - 0s - loss: 0.3303 - acc: 0.8414 - val_loss: 0.3262 - val_acc: 0.8432\n",
      "Epoch 53/100\n",
      "8/8 - 0s - loss: 0.3295 - acc: 0.8412 - val_loss: 0.3264 - val_acc: 0.8436\n",
      "Epoch 54/100\n",
      "8/8 - 0s - loss: 0.3297 - acc: 0.8429 - val_loss: 0.3263 - val_acc: 0.8446\n",
      "Epoch 55/100\n",
      "8/8 - 0s - loss: 0.3305 - acc: 0.8425 - val_loss: 0.3265 - val_acc: 0.8424\n",
      "Epoch 56/100\n",
      "8/8 - 0s - loss: 0.3286 - acc: 0.8422 - val_loss: 0.3267 - val_acc: 0.8434\n",
      "Epoch 57/100\n",
      "8/8 - 0s - loss: 0.3285 - acc: 0.8435 - val_loss: 0.3263 - val_acc: 0.8438\n",
      "Epoch 58/100\n",
      "8/8 - 0s - loss: 0.3265 - acc: 0.8439 - val_loss: 0.3258 - val_acc: 0.8441\n",
      "Epoch 59/100\n",
      "8/8 - 0s - loss: 0.3289 - acc: 0.8417 - val_loss: 0.3261 - val_acc: 0.8434\n",
      "Epoch 60/100\n",
      "8/8 - 0s - loss: 0.3288 - acc: 0.8418 - val_loss: 0.3259 - val_acc: 0.8433\n",
      "Epoch 61/100\n",
      "8/8 - 0s - loss: 0.3273 - acc: 0.8437 - val_loss: 0.3258 - val_acc: 0.8437\n",
      "Epoch 62/100\n",
      "8/8 - 0s - loss: 0.3268 - acc: 0.8424 - val_loss: 0.3252 - val_acc: 0.8438\n",
      "Epoch 63/100\n",
      "8/8 - 0s - loss: 0.3271 - acc: 0.8431 - val_loss: 0.3250 - val_acc: 0.8433\n",
      "Epoch 64/100\n",
      "8/8 - 0s - loss: 0.3277 - acc: 0.8421 - val_loss: 0.3248 - val_acc: 0.8440\n",
      "Epoch 65/100\n",
      "8/8 - 0s - loss: 0.3274 - acc: 0.8430 - val_loss: 0.3248 - val_acc: 0.8438\n",
      "Epoch 66/100\n",
      "8/8 - 0s - loss: 0.3270 - acc: 0.8439 - val_loss: 0.3248 - val_acc: 0.8441\n",
      "Epoch 67/100\n",
      "8/8 - 0s - loss: 0.3270 - acc: 0.8442 - val_loss: 0.3251 - val_acc: 0.8441\n",
      "Epoch 68/100\n",
      "8/8 - 0s - loss: 0.3258 - acc: 0.8439 - val_loss: 0.3250 - val_acc: 0.8437\n",
      "Epoch 69/100\n",
      "8/8 - 0s - loss: 0.3250 - acc: 0.8446 - val_loss: 0.3247 - val_acc: 0.8436\n",
      "Epoch 70/100\n",
      "8/8 - 0s - loss: 0.3252 - acc: 0.8461 - val_loss: 0.3249 - val_acc: 0.8429\n",
      "Epoch 71/100\n",
      "8/8 - 0s - loss: 0.3260 - acc: 0.8455 - val_loss: 0.3249 - val_acc: 0.8432\n",
      "Epoch 72/100\n",
      "8/8 - 0s - loss: 0.3257 - acc: 0.8441 - val_loss: 0.3247 - val_acc: 0.8440\n",
      "Epoch 73/100\n",
      "8/8 - 0s - loss: 0.3249 - acc: 0.8436 - val_loss: 0.3246 - val_acc: 0.8440\n",
      "Epoch 74/100\n",
      "8/8 - 0s - loss: 0.3253 - acc: 0.8440 - val_loss: 0.3245 - val_acc: 0.8432\n",
      "Epoch 75/100\n",
      "8/8 - 0s - loss: 0.3245 - acc: 0.8454 - val_loss: 0.3246 - val_acc: 0.8434\n",
      "Epoch 76/100\n",
      "8/8 - 0s - loss: 0.3257 - acc: 0.8444 - val_loss: 0.3248 - val_acc: 0.8452\n",
      "Epoch 77/100\n",
      "8/8 - 0s - loss: 0.3240 - acc: 0.8448 - val_loss: 0.3248 - val_acc: 0.8448\n",
      "Epoch 78/100\n",
      "8/8 - 0s - loss: 0.3233 - acc: 0.8436 - val_loss: 0.3244 - val_acc: 0.8446\n",
      "Epoch 79/100\n",
      "8/8 - 0s - loss: 0.3249 - acc: 0.8455 - val_loss: 0.3244 - val_acc: 0.8444\n",
      "Epoch 80/100\n",
      "8/8 - 0s - loss: 0.3247 - acc: 0.8446 - val_loss: 0.3244 - val_acc: 0.8442\n",
      "Epoch 81/100\n",
      "8/8 - 0s - loss: 0.3223 - acc: 0.8450 - val_loss: 0.3242 - val_acc: 0.8445\n",
      "Epoch 82/100\n",
      "8/8 - 0s - loss: 0.3235 - acc: 0.8451 - val_loss: 0.3240 - val_acc: 0.8450\n",
      "Epoch 83/100\n",
      "8/8 - 0s - loss: 0.3238 - acc: 0.8433 - val_loss: 0.3243 - val_acc: 0.8453\n",
      "Epoch 84/100\n",
      "8/8 - 0s - loss: 0.3238 - acc: 0.8447 - val_loss: 0.3246 - val_acc: 0.8456\n",
      "Epoch 85/100\n",
      "8/8 - 0s - loss: 0.3234 - acc: 0.8451 - val_loss: 0.3244 - val_acc: 0.8449\n",
      "Epoch 86/100\n",
      "8/8 - 0s - loss: 0.3223 - acc: 0.8455 - val_loss: 0.3242 - val_acc: 0.8437\n",
      "Epoch 87/100\n",
      "8/8 - 0s - loss: 0.3235 - acc: 0.8445 - val_loss: 0.3241 - val_acc: 0.8441\n",
      "Epoch 88/100\n",
      "8/8 - 0s - loss: 0.3243 - acc: 0.8445 - val_loss: 0.3241 - val_acc: 0.8448\n",
      "Epoch 89/100\n",
      "8/8 - 0s - loss: 0.3226 - acc: 0.8466 - val_loss: 0.3241 - val_acc: 0.8446\n",
      "Epoch 90/100\n",
      "8/8 - 0s - loss: 0.3228 - acc: 0.8452 - val_loss: 0.3243 - val_acc: 0.8452\n",
      "Epoch 91/100\n",
      "8/8 - 0s - loss: 0.3213 - acc: 0.8450 - val_loss: 0.3242 - val_acc: 0.8452\n",
      "Epoch 92/100\n",
      "8/8 - 0s - loss: 0.3219 - acc: 0.8462 - val_loss: 0.3242 - val_acc: 0.8461\n",
      "Epoch 93/100\n",
      "8/8 - 0s - loss: 0.3227 - acc: 0.8437 - val_loss: 0.3240 - val_acc: 0.8455\n",
      "Epoch 94/100\n",
      "8/8 - 0s - loss: 0.3216 - acc: 0.8447 - val_loss: 0.3243 - val_acc: 0.8447\n",
      "Epoch 95/100\n",
      "8/8 - 0s - loss: 0.3218 - acc: 0.8462 - val_loss: 0.3242 - val_acc: 0.8450\n",
      "Epoch 96/100\n",
      "8/8 - 0s - loss: 0.3234 - acc: 0.8458 - val_loss: 0.3239 - val_acc: 0.8459\n",
      "Epoch 97/100\n",
      "8/8 - 0s - loss: 0.3228 - acc: 0.8464 - val_loss: 0.3237 - val_acc: 0.8442\n",
      "Epoch 98/100\n",
      "8/8 - 0s - loss: 0.3215 - acc: 0.8460 - val_loss: 0.3236 - val_acc: 0.8443\n",
      "Epoch 99/100\n",
      "8/8 - 0s - loss: 0.3222 - acc: 0.8455 - val_loss: 0.3239 - val_acc: 0.8437\n",
      "Epoch 100/100\n",
      "8/8 - 0s - loss: 0.3205 - acc: 0.8451 - val_loss: 0.3236 - val_acc: 0.8436\n"
     ]
    }
   ],
   "source": [
    "results_dropout = model_dropout.fit(X_train_sc, y_train,\n",
    "                                   validation_data=(X_test_sc, y_test),\n",
    "                                   batch_size=5000,\n",
    "                                   epochs=100,\n",
    "                                   verbose=2)"
   ]
  },
  {
   "cell_type": "markdown",
   "metadata": {},
   "source": [
    "### Gradient Boosting Classifier"
   ]
  },
  {
   "cell_type": "code",
   "execution_count": 67,
   "metadata": {},
   "outputs": [],
   "source": [
    "# Set up a pipeline with Random Forest\n",
    "pipe_gbc = Pipeline([\n",
    "    ('gb', GradientBoostingClassifier())\n",
    "])"
   ]
  },
  {
   "cell_type": "code",
   "execution_count": 68,
   "metadata": {},
   "outputs": [
    {
     "name": "stdout",
     "output_type": "stream",
     "text": [
      " Best Score from Grid Search is 0.851760156025889\n"
     ]
    },
    {
     "data": {
      "text/plain": [
       "{'gb__learning_rate': 0.1, 'gb__max_depth': 5, 'gb__n_estimators': 100}"
      ]
     },
     "execution_count": 68,
     "metadata": {},
     "output_type": "execute_result"
    }
   ],
   "source": [
    "# params and grid search \n",
    "gbc_params = {\n",
    "    'gb__n_estimators': [25, 50, 100],\n",
    "    'gb__max_depth' : [3,4,5],\n",
    "    'gb__learning_rate': [0.05, 0.1]\n",
    "}\n",
    "\n",
    "gs_gbc = GridSearchCV(pipe_gbc, param_grid = gbc_params, cv=5)\n",
    "gs_gbc.fit(X_train_sc, y_train)\n",
    "print(f' Best Score from Grid Search is {gs_gbc.best_score_}')\n",
    "gs_gbc.best_params_"
   ]
  },
  {
   "cell_type": "code",
   "execution_count": 71,
   "metadata": {},
   "outputs": [
    {
     "data": {
      "image/png": "[encoded data removed]",
      "text/plain": [
       "<Figure size 432x288 with 2 Axes>"
      ]
     },
     "metadata": {
      "needs_background": "light"
     },
     "output_type": "display_data"
    }
   ],
   "source": [
    "#get predictions \n",
    "preds_gb = gs_gbc.predict(X_test_sc)\n",
    "\n",
    "#plot confusion matrix\n",
    "cm = confusion_matrix(y_test, preds_gb)\n",
    "ConfusionMatrixDisplay(cm).plot();"
   ]
  },
  {
   "cell_type": "code",
   "execution_count": 72,
   "metadata": {},
   "outputs": [
    {
     "name": "stdout",
     "output_type": "stream",
     "text": [
      "Various scores:  AUROC: 0.7285315619158993, ACC_SCORE: 0.8481982334088954, REC_SCORE: 0.9387328153018529, PREC_SCORE: 0.8765581395348837,F1: 0.9065807196459496\n"
     ]
    }
   ],
   "source": [
    "print(f'Various scores:  AUROC: {roc_auc_score(y_test, preds)}, ACC_SCORE: {accuracy_score(y_test, preds)}, REC_SCORE: {recall_score(y_test, preds)}, PREC_SCORE: {precision_score(y_test, preds)},F1: {f1_score(y_test, preds)}')\n"
   ]
  },
  {
   "cell_type": "code",
   "execution_count": 76,
   "metadata": {},
   "outputs": [
    {
     "name": "stdout",
     "output_type": "stream",
     "text": [
      "0.8553300153737916 0.8491362463847416 0.8487114047252489\n"
     ]
    }
   ],
   "source": [
    "gb2 = GradientBoostingClassifier(n_estimators=100, \n",
    "                        min_samples_split = 100, \n",
    "                        min_samples_leaf = 50, \n",
    "                        max_depth=5,\n",
    "                        max_features='sqrt',\n",
    "                        learning_rate = 0.1)\n",
    "gb2.fit(X_train_sc, y_train)\n",
    "print(gb2.score(X_train_sc, y_train), gb2.score(X_test_sc, y_test),  \n",
    "      cross_val_score(gb2, X_train_sc, y_train, cv = 5).mean())"
   ]
  },
  {
   "cell_type": "code",
   "execution_count": 77,
   "metadata": {},
   "outputs": [
    {
     "data": {
      "text/html": [
       "<div>\n",
       "<style scoped>\n",
       "    .dataframe tbody tr th:only-of-type {\n",
       "        vertical-align: middle;\n",
       "    }\n",
       "\n",
       "    .dataframe tbody tr th {\n",
       "        vertical-align: top;\n",
       "    }\n",
       "\n",
       "    .dataframe thead th {\n",
       "        text-align: right;\n",
       "    }\n",
       "</style>\n",
       "<table border=\"1\" class=\"dataframe\">\n",
       "  <thead>\n",
       "    <tr style=\"text-align: right;\">\n",
       "      <th></th>\n",
       "      <th>importance</th>\n",
       "      <th>feature_names</th>\n",
       "    </tr>\n",
       "  </thead>\n",
       "  <tbody>\n",
       "    <tr>\n",
       "      <th>0</th>\n",
       "      <td>0.406740</td>\n",
       "      <td>LOAN_AMOUNT</td>\n",
       "    </tr>\n",
       "    <tr>\n",
       "      <th>1</th>\n",
       "      <td>0.063692</td>\n",
       "      <td>LENDER_TERM</td>\n",
       "    </tr>\n",
       "    <tr>\n",
       "      <th>6</th>\n",
       "      <td>0.056521</td>\n",
       "      <td>char_count_TAGS</td>\n",
       "    </tr>\n",
       "    <tr>\n",
       "      <th>8</th>\n",
       "      <td>0.055282</td>\n",
       "      <td>month</td>\n",
       "    </tr>\n",
       "    <tr>\n",
       "      <th>16</th>\n",
       "      <td>0.044822</td>\n",
       "      <td>word_char_TAGS</td>\n",
       "    </tr>\n",
       "    <tr>\n",
       "      <th>9</th>\n",
       "      <td>0.039004</td>\n",
       "      <td>FEM_COUNT</td>\n",
       "    </tr>\n",
       "    <tr>\n",
       "      <th>20</th>\n",
       "      <td>0.038258</td>\n",
       "      <td>FEM_PIC</td>\n",
       "    </tr>\n",
       "    <tr>\n",
       "      <th>3</th>\n",
       "      <td>0.036420</td>\n",
       "      <td>word_count_TAGS</td>\n",
       "    </tr>\n",
       "    <tr>\n",
       "      <th>13</th>\n",
       "      <td>0.033659</td>\n",
       "      <td>ANY_FEM</td>\n",
       "    </tr>\n",
       "    <tr>\n",
       "      <th>15</th>\n",
       "      <td>0.027852</td>\n",
       "      <td>word_char_DT</td>\n",
       "    </tr>\n",
       "    <tr>\n",
       "      <th>18</th>\n",
       "      <td>0.018545</td>\n",
       "      <td>MALE_FEM</td>\n",
       "    </tr>\n",
       "    <tr>\n",
       "      <th>80</th>\n",
       "      <td>0.017523</td>\n",
       "      <td>SECTOR_NAME_Retail</td>\n",
       "    </tr>\n",
       "    <tr>\n",
       "      <th>2</th>\n",
       "      <td>0.016787</td>\n",
       "      <td>word_count_DT</td>\n",
       "    </tr>\n",
       "    <tr>\n",
       "      <th>85</th>\n",
       "      <td>0.016298</td>\n",
       "      <td>REPAYMENT_INTERVAL_monthly</td>\n",
       "    </tr>\n",
       "    <tr>\n",
       "      <th>11</th>\n",
       "      <td>0.015447</td>\n",
       "      <td>PIC_TRUE_COUNT</td>\n",
       "    </tr>\n",
       "    <tr>\n",
       "      <th>79</th>\n",
       "      <td>0.010275</td>\n",
       "      <td>SECTOR_NAME_Personal Use</td>\n",
       "    </tr>\n",
       "    <tr>\n",
       "      <th>5</th>\n",
       "      <td>0.009595</td>\n",
       "      <td>char_count_DT</td>\n",
       "    </tr>\n",
       "    <tr>\n",
       "      <th>53</th>\n",
       "      <td>0.008608</td>\n",
       "      <td>ACTIVITY_NAME_Motorcycle Transport</td>\n",
       "    </tr>\n",
       "    <tr>\n",
       "      <th>7</th>\n",
       "      <td>0.007836</td>\n",
       "      <td>char_count_LU</td>\n",
       "    </tr>\n",
       "    <tr>\n",
       "      <th>10</th>\n",
       "      <td>0.006817</td>\n",
       "      <td>MALE_COUNT</td>\n",
       "    </tr>\n",
       "    <tr>\n",
       "      <th>46</th>\n",
       "      <td>0.006441</td>\n",
       "      <td>ACTIVITY_NAME_General Store</td>\n",
       "    </tr>\n",
       "    <tr>\n",
       "      <th>17</th>\n",
       "      <td>0.006285</td>\n",
       "      <td>word_char_LU</td>\n",
       "    </tr>\n",
       "    <tr>\n",
       "      <th>78</th>\n",
       "      <td>0.005926</td>\n",
       "      <td>SECTOR_NAME_Manufacturing</td>\n",
       "    </tr>\n",
       "    <tr>\n",
       "      <th>73</th>\n",
       "      <td>0.005625</td>\n",
       "      <td>SECTOR_NAME_Education</td>\n",
       "    </tr>\n",
       "    <tr>\n",
       "      <th>32</th>\n",
       "      <td>0.004955</td>\n",
       "      <td>ACTIVITY_NAME_Clothing Sales</td>\n",
       "    </tr>\n",
       "  </tbody>\n",
       "</table>\n",
       "</div>"
      ],
      "text/plain": [
       "    importance                       feature_names\n",
       "0     0.406740                         LOAN_AMOUNT\n",
       "1     0.063692                         LENDER_TERM\n",
       "6     0.056521                     char_count_TAGS\n",
       "8     0.055282                               month\n",
       "16    0.044822                      word_char_TAGS\n",
       "9     0.039004                           FEM_COUNT\n",
       "20    0.038258                             FEM_PIC\n",
       "3     0.036420                     word_count_TAGS\n",
       "13    0.033659                             ANY_FEM\n",
       "15    0.027852                        word_char_DT\n",
       "18    0.018545                            MALE_FEM\n",
       "80    0.017523                  SECTOR_NAME_Retail\n",
       "2     0.016787                       word_count_DT\n",
       "85    0.016298          REPAYMENT_INTERVAL_monthly\n",
       "11    0.015447                      PIC_TRUE_COUNT\n",
       "79    0.010275            SECTOR_NAME_Personal Use\n",
       "5     0.009595                       char_count_DT\n",
       "53    0.008608  ACTIVITY_NAME_Motorcycle Transport\n",
       "7     0.007836                       char_count_LU\n",
       "10    0.006817                          MALE_COUNT\n",
       "46    0.006441         ACTIVITY_NAME_General Store\n",
       "17    0.006285                        word_char_LU\n",
       "78    0.005926           SECTOR_NAME_Manufacturing\n",
       "73    0.005625               SECTOR_NAME_Education\n",
       "32    0.004955        ACTIVITY_NAME_Clothing Sales"
      ]
     },
     "execution_count": 77,
     "metadata": {},
     "output_type": "execute_result"
    }
   ],
   "source": [
    "pd.DataFrame({'importance' : gb2.feature_importances_, 'feature_names' : X_train.columns}).sort_values(by='importance', ascending=False).head(25)"
   ]
  },
  {
   "cell_type": "code",
   "execution_count": null,
   "metadata": {},
   "outputs": [],
   "source": []
  }
 ],
 "metadata": {
  "kernelspec": {
   "display_name": "Python 3",
   "language": "python",
   "name": "python3"
  },
  "language_info": {
   "codemirror_mode": {
    "name": "ipython",
    "version": 3
   },
   "file_extension": ".py",
   "mimetype": "text/x-python",
   "name": "python",
   "nbconvert_exporter": "python",
   "pygments_lexer": "ipython3",
   "version": "3.8.5"
  }
 },
 "nbformat": 4,
 "nbformat_minor": 4
}
