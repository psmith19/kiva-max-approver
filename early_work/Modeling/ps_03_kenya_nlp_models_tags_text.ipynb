{
 "cells": [
  {
   "cell_type": "markdown",
   "metadata": {},
   "source": [
    "# TAG and Text Models for Kenya Only\n",
    "This notebook has models for the TAGS column only and for all text columns combined for the country of Kenya only. "
   ]
  },
  {
   "cell_type": "code",
   "execution_count": 1,
   "metadata": {},
   "outputs": [],
   "source": [
    "import pandas as pd\n",
    "import numpy as np\n",
    "import matplotlib.pyplot as plt\n",
    "import seaborn as sns\n",
    "\n",
    "from nltk.corpus import stopwords\n",
    "from nltk.sentiment.vader import SentimentIntensityAnalyzer\n",
    "from nltk import FreqDist\n",
    "from nltk.tokenize import RegexpTokenizer\n",
    "from nltk.stem import WordNetLemmatizer\n",
    "\n",
    "from sklearn.preprocessing import StandardScaler\n",
    "from sklearn.neighbors import KNeighborsClassifier\n",
    "from sklearn.model_selection import train_test_split, GridSearchCV, cross_val_score\n",
    "from sklearn.pipeline import Pipeline\n",
    "from sklearn.naive_bayes import MultinomialNB, BernoulliNB\n",
    "from sklearn.linear_model import LogisticRegression\n",
    "from sklearn.metrics import confusion_matrix, ConfusionMatrixDisplay, classification_report, roc_auc_score\n",
    "from sklearn.feature_extraction.text import CountVectorizer, TfidfVectorizer\n",
    "\n",
    "from sklearn.tree import DecisionTreeClassifier, plot_tree, export_text\n",
    "from sklearn.ensemble import BaggingClassifier, AdaBoostClassifier, RandomForestClassifier, ExtraTreesClassifier, GradientBoostingClassifier"
   ]
  },
  {
   "cell_type": "code",
   "execution_count": 49,
   "metadata": {},
   "outputs": [],
   "source": [
    "full_kiva = pd.read_csv('/Users/precious/dsi/Group-Project/kivamix.csv')"
   ]
  },
  {
   "cell_type": "code",
   "execution_count": 4,
   "metadata": {},
   "outputs": [
    {
     "data": {
      "text/html": [
       "<div>\n",
       "<style scoped>\n",
       "    .dataframe tbody tr th:only-of-type {\n",
       "        vertical-align: middle;\n",
       "    }\n",
       "\n",
       "    .dataframe tbody tr th {\n",
       "        vertical-align: top;\n",
       "    }\n",
       "\n",
       "    .dataframe thead th {\n",
       "        text-align: right;\n",
       "    }\n",
       "</style>\n",
       "<table border=\"1\" class=\"dataframe\">\n",
       "  <thead>\n",
       "    <tr style=\"text-align: right;\">\n",
       "      <th></th>\n",
       "      <th>LOAN_ID</th>\n",
       "      <th>LOAN_NAME</th>\n",
       "      <th>ORIGINAL_LANGUAGE</th>\n",
       "      <th>DESCRIPTION</th>\n",
       "      <th>DESCRIPTION_TRANSLATED</th>\n",
       "      <th>FUNDED_AMOUNT</th>\n",
       "      <th>LOAN_AMOUNT</th>\n",
       "      <th>STATUS</th>\n",
       "      <th>IMAGE_ID</th>\n",
       "      <th>VIDEO_ID</th>\n",
       "      <th>...</th>\n",
       "      <th>NUM_LENDERS_TOTAL</th>\n",
       "      <th>NUM_JOURNAL_ENTRIES</th>\n",
       "      <th>NUM_BULK_ENTRIES</th>\n",
       "      <th>TAGS</th>\n",
       "      <th>BORROWER_NAMES</th>\n",
       "      <th>BORROWER_GENDERS</th>\n",
       "      <th>BORROWER_PICTURED</th>\n",
       "      <th>REPAYMENT_INTERVAL</th>\n",
       "      <th>DISTRIBUTION_MODEL</th>\n",
       "      <th>year</th>\n",
       "    </tr>\n",
       "  </thead>\n",
       "  <tbody>\n",
       "    <tr>\n",
       "      <th>0</th>\n",
       "      <td>1455352</td>\n",
       "      <td>Raisa Jokasta</td>\n",
       "      <td>Spanish</td>\n",
       "      <td>En la ciudad de Portoviejo, conocida como la c...</td>\n",
       "      <td>The city of Portoviejo is located in the valle...</td>\n",
       "      <td>1075.0</td>\n",
       "      <td>1075.0</td>\n",
       "      <td>1</td>\n",
       "      <td>2638561.0</td>\n",
       "      <td>NaN</td>\n",
       "      <td>...</td>\n",
       "      <td>12</td>\n",
       "      <td>1</td>\n",
       "      <td>1</td>\n",
       "      <td>#Repeat Borrower, #Health and Sanitation</td>\n",
       "      <td>Raisa Jokasta</td>\n",
       "      <td>female</td>\n",
       "      <td>true</td>\n",
       "      <td>monthly</td>\n",
       "      <td>field_partner</td>\n",
       "      <td>2018</td>\n",
       "    </tr>\n",
       "    <tr>\n",
       "      <th>1</th>\n",
       "      <td>1727469</td>\n",
       "      <td>Lorna</td>\n",
       "      <td>English</td>\n",
       "      <td>Lorna is a married woman, 39 years old with fi...</td>\n",
       "      <td>Lorna is a married woman, 39 years old with fi...</td>\n",
       "      <td>225.0</td>\n",
       "      <td>400.0</td>\n",
       "      <td>0</td>\n",
       "      <td>3108106.0</td>\n",
       "      <td>NaN</td>\n",
       "      <td>...</td>\n",
       "      <td>8</td>\n",
       "      <td>1</td>\n",
       "      <td>1</td>\n",
       "      <td>#Woman-Owned Business, #Parent</td>\n",
       "      <td>Lorna</td>\n",
       "      <td>female</td>\n",
       "      <td>true</td>\n",
       "      <td>monthly</td>\n",
       "      <td>field_partner</td>\n",
       "      <td>2019</td>\n",
       "    </tr>\n",
       "  </tbody>\n",
       "</table>\n",
       "<p>2 rows × 35 columns</p>\n",
       "</div>"
      ],
      "text/plain": [
       "   LOAN_ID      LOAN_NAME ORIGINAL_LANGUAGE  \\\n",
       "0  1455352  Raisa Jokasta           Spanish   \n",
       "1  1727469          Lorna           English   \n",
       "\n",
       "                                         DESCRIPTION  \\\n",
       "0  En la ciudad de Portoviejo, conocida como la c...   \n",
       "1  Lorna is a married woman, 39 years old with fi...   \n",
       "\n",
       "                              DESCRIPTION_TRANSLATED  FUNDED_AMOUNT  \\\n",
       "0  The city of Portoviejo is located in the valle...         1075.0   \n",
       "1  Lorna is a married woman, 39 years old with fi...          225.0   \n",
       "\n",
       "   LOAN_AMOUNT  STATUS   IMAGE_ID  VIDEO_ID  ... NUM_LENDERS_TOTAL  \\\n",
       "0       1075.0       1  2638561.0       NaN  ...                12   \n",
       "1        400.0       0  3108106.0       NaN  ...                 8   \n",
       "\n",
       "  NUM_JOURNAL_ENTRIES NUM_BULK_ENTRIES  \\\n",
       "0                   1                1   \n",
       "1                   1                1   \n",
       "\n",
       "                                       TAGS BORROWER_NAMES BORROWER_GENDERS  \\\n",
       "0  #Repeat Borrower, #Health and Sanitation  Raisa Jokasta           female   \n",
       "1            #Woman-Owned Business, #Parent          Lorna           female   \n",
       "\n",
       "  BORROWER_PICTURED  REPAYMENT_INTERVAL DISTRIBUTION_MODEL  year  \n",
       "0              true             monthly      field_partner  2018  \n",
       "1              true             monthly      field_partner  2019  \n",
       "\n",
       "[2 rows x 35 columns]"
      ]
     },
     "execution_count": 4,
     "metadata": {},
     "output_type": "execute_result"
    }
   ],
   "source": [
    "full_kiva.head(2)"
   ]
  },
  {
   "cell_type": "code",
   "execution_count": 22,
   "metadata": {},
   "outputs": [
    {
     "data": {
      "text/plain": [
       "1    0.835011\n",
       "0    0.164989\n",
       "Name: STATUS, dtype: float64"
      ]
     },
     "execution_count": 22,
     "metadata": {},
     "output_type": "execute_result"
    }
   ],
   "source": [
    "full_kiva['STATUS'].value_counts(normalize=True)"
   ]
  },
  {
   "cell_type": "code",
   "execution_count": 8,
   "metadata": {},
   "outputs": [
    {
     "data": {
      "text/plain": [
       "Philippines                         88691\n",
       "Kenya                               51170\n",
       "El Salvador                         21840\n",
       "Cambodia                            19196\n",
       "Colombia                            18590\n",
       "                                    ...  \n",
       "Iraq                                    4\n",
       "Saint Vincent and the Grenadines        3\n",
       "Bangladesh                              1\n",
       "Afghanistan                             1\n",
       "Benin                                   1\n",
       "Name: COUNTRY_NAME, Length: 84, dtype: int64"
      ]
     },
     "execution_count": 8,
     "metadata": {},
     "output_type": "execute_result"
    }
   ],
   "source": [
    "full_kiva['COUNTRY_NAME'].value_counts()"
   ]
  },
  {
   "cell_type": "code",
   "execution_count": 71,
   "metadata": {},
   "outputs": [],
   "source": [
    "# creating dataframe with only columns I want to keep for nlp\n",
    "kiva = full_kiva[['LOAN_ID', 'COUNTRY_NAME', 'STATUS', 'DESCRIPTION_TRANSLATED', 'LOAN_USE', 'TAGS']]"
   ]
  },
  {
   "cell_type": "code",
   "execution_count": 51,
   "metadata": {},
   "outputs": [
    {
     "data": {
      "text/html": [
       "<div>\n",
       "<style scoped>\n",
       "    .dataframe tbody tr th:only-of-type {\n",
       "        vertical-align: middle;\n",
       "    }\n",
       "\n",
       "    .dataframe tbody tr th {\n",
       "        vertical-align: top;\n",
       "    }\n",
       "\n",
       "    .dataframe thead th {\n",
       "        text-align: right;\n",
       "    }\n",
       "</style>\n",
       "<table border=\"1\" class=\"dataframe\">\n",
       "  <thead>\n",
       "    <tr style=\"text-align: right;\">\n",
       "      <th></th>\n",
       "      <th>LOAN_ID</th>\n",
       "      <th>COUNTRY_NAME</th>\n",
       "      <th>STATUS</th>\n",
       "      <th>DESCRIPTION_TRANSLATED</th>\n",
       "      <th>LOAN_USE</th>\n",
       "      <th>TAGS</th>\n",
       "    </tr>\n",
       "  </thead>\n",
       "  <tbody>\n",
       "    <tr>\n",
       "      <th>0</th>\n",
       "      <td>1455352</td>\n",
       "      <td>Ecuador</td>\n",
       "      <td>1</td>\n",
       "      <td>The city of Portoviejo is located in the valle...</td>\n",
       "      <td>to purchase natural products.</td>\n",
       "      <td>#Repeat Borrower, #Health and Sanitation</td>\n",
       "    </tr>\n",
       "    <tr>\n",
       "      <th>1</th>\n",
       "      <td>1727469</td>\n",
       "      <td>Philippines</td>\n",
       "      <td>0</td>\n",
       "      <td>Lorna is a married woman, 39 years old with fi...</td>\n",
       "      <td>to purchase additional stocks of Avon, Natasha...</td>\n",
       "      <td>#Woman-Owned Business, #Parent</td>\n",
       "    </tr>\n",
       "  </tbody>\n",
       "</table>\n",
       "</div>"
      ],
      "text/plain": [
       "   LOAN_ID COUNTRY_NAME  STATUS  \\\n",
       "0  1455352      Ecuador       1   \n",
       "1  1727469  Philippines       0   \n",
       "\n",
       "                              DESCRIPTION_TRANSLATED  \\\n",
       "0  The city of Portoviejo is located in the valle...   \n",
       "1  Lorna is a married woman, 39 years old with fi...   \n",
       "\n",
       "                                            LOAN_USE  \\\n",
       "0                      to purchase natural products.   \n",
       "1  to purchase additional stocks of Avon, Natasha...   \n",
       "\n",
       "                                       TAGS  \n",
       "0  #Repeat Borrower, #Health and Sanitation  \n",
       "1            #Woman-Owned Business, #Parent  "
      ]
     },
     "execution_count": 51,
     "metadata": {},
     "output_type": "execute_result"
    }
   ],
   "source": [
    "kiva.head(2)"
   ]
  },
  {
   "cell_type": "code",
   "execution_count": 72,
   "metadata": {},
   "outputs": [],
   "source": [
    "# creating dataframe of data only from Kenya\n",
    "kiva = kiva[kiva['COUNTRY_NAME']=='Kenya']"
   ]
  },
  {
   "cell_type": "code",
   "execution_count": 73,
   "metadata": {},
   "outputs": [
    {
     "name": "stdout",
     "output_type": "stream",
     "text": [
      "<class 'pandas.core.frame.DataFrame'>\n",
      "Int64Index: 51170 entries, 7 to 419149\n",
      "Data columns (total 6 columns):\n",
      " #   Column                  Non-Null Count  Dtype \n",
      "---  ------                  --------------  ----- \n",
      " 0   LOAN_ID                 51170 non-null  int64 \n",
      " 1   COUNTRY_NAME            51170 non-null  object\n",
      " 2   STATUS                  51170 non-null  int64 \n",
      " 3   DESCRIPTION_TRANSLATED  50025 non-null  object\n",
      " 4   LOAN_USE                50025 non-null  object\n",
      " 5   TAGS                    43157 non-null  object\n",
      "dtypes: int64(2), object(4)\n",
      "memory usage: 2.7+ MB\n"
     ]
    }
   ],
   "source": [
    "kiva.info()"
   ]
  },
  {
   "cell_type": "code",
   "execution_count": 74,
   "metadata": {},
   "outputs": [
    {
     "data": {
      "text/plain": [
       "1    0.784659\n",
       "0    0.215341\n",
       "Name: STATUS, dtype: float64"
      ]
     },
     "execution_count": 74,
     "metadata": {},
     "output_type": "execute_result"
    }
   ],
   "source": [
    "kiva['STATUS'].value_counts(normalize=True)"
   ]
  },
  {
   "cell_type": "code",
   "execution_count": 75,
   "metadata": {},
   "outputs": [],
   "source": [
    "# creating dataframe only for Tags to perform modeling\n",
    "kiva_tags = kiva[['LOAN_ID', 'STATUS', 'TAGS']]"
   ]
  },
  {
   "cell_type": "code",
   "execution_count": 78,
   "metadata": {},
   "outputs": [
    {
     "data": {
      "text/plain": [
       "1    0.746762\n",
       "0    0.253238\n",
       "Name: STATUS, dtype: float64"
      ]
     },
     "execution_count": 78,
     "metadata": {},
     "output_type": "execute_result"
    }
   ],
   "source": [
    "kiva_tags['STATUS'].value_counts(normalize=True)"
   ]
  },
  {
   "cell_type": "code",
   "execution_count": 77,
   "metadata": {},
   "outputs": [
    {
     "name": "stderr",
     "output_type": "stream",
     "text": [
      "<ipython-input-77-4c77679f4007>:1: SettingWithCopyWarning: \n",
      "A value is trying to be set on a copy of a slice from a DataFrame\n",
      "\n",
      "See the caveats in the documentation: https://pandas.pydata.org/pandas-docs/stable/user_guide/indexing.html#returning-a-view-versus-a-copy\n",
      "  kiva_tags.dropna(inplace=True)\n"
     ]
    }
   ],
   "source": [
    "kiva_tags.dropna(inplace=True)"
   ]
  },
  {
   "cell_type": "code",
   "execution_count": 79,
   "metadata": {},
   "outputs": [
    {
     "data": {
      "text/html": [
       "<div>\n",
       "<style scoped>\n",
       "    .dataframe tbody tr th:only-of-type {\n",
       "        vertical-align: middle;\n",
       "    }\n",
       "\n",
       "    .dataframe tbody tr th {\n",
       "        vertical-align: top;\n",
       "    }\n",
       "\n",
       "    .dataframe thead th {\n",
       "        text-align: right;\n",
       "    }\n",
       "</style>\n",
       "<table border=\"1\" class=\"dataframe\">\n",
       "  <thead>\n",
       "    <tr style=\"text-align: right;\">\n",
       "      <th></th>\n",
       "      <th>LOAN_ID</th>\n",
       "      <th>STATUS</th>\n",
       "      <th>TAGS</th>\n",
       "    </tr>\n",
       "  </thead>\n",
       "  <tbody>\n",
       "    <tr>\n",
       "      <th>7</th>\n",
       "      <td>1799331</td>\n",
       "      <td>1</td>\n",
       "      <td>#Parent</td>\n",
       "    </tr>\n",
       "    <tr>\n",
       "      <th>16</th>\n",
       "      <td>1294719</td>\n",
       "      <td>1</td>\n",
       "      <td>#Animals, #Woman-Owned Business, volunteer_pic...</td>\n",
       "    </tr>\n",
       "    <tr>\n",
       "      <th>21</th>\n",
       "      <td>1595847</td>\n",
       "      <td>0</td>\n",
       "      <td>user_favorite, #Parent, #Woman-Owned Business</td>\n",
       "    </tr>\n",
       "    <tr>\n",
       "      <th>41</th>\n",
       "      <td>1139606</td>\n",
       "      <td>1</td>\n",
       "      <td>#Repeat Borrower, #Woman-Owned Business</td>\n",
       "    </tr>\n",
       "    <tr>\n",
       "      <th>72</th>\n",
       "      <td>1018040</td>\n",
       "      <td>1</td>\n",
       "      <td>user_favorite</td>\n",
       "    </tr>\n",
       "  </tbody>\n",
       "</table>\n",
       "</div>"
      ],
      "text/plain": [
       "    LOAN_ID  STATUS                                               TAGS\n",
       "7   1799331       1                                            #Parent\n",
       "16  1294719       1  #Animals, #Woman-Owned Business, volunteer_pic...\n",
       "21  1595847       0      user_favorite, #Parent, #Woman-Owned Business\n",
       "41  1139606       1            #Repeat Borrower, #Woman-Owned Business\n",
       "72  1018040       1                                      user_favorite"
      ]
     },
     "execution_count": 79,
     "metadata": {},
     "output_type": "execute_result"
    }
   ],
   "source": [
    "kiva_tags.head()"
   ]
  },
  {
   "cell_type": "markdown",
   "metadata": {},
   "source": [
    "### Preprocessing Tags to keep them joined instead of vectorizing each word"
   ]
  },
  {
   "cell_type": "code",
   "execution_count": 86,
   "metadata": {},
   "outputs": [
    {
     "data": {
      "text/html": [
       "<div>\n",
       "<style scoped>\n",
       "    .dataframe tbody tr th:only-of-type {\n",
       "        vertical-align: middle;\n",
       "    }\n",
       "\n",
       "    .dataframe tbody tr th {\n",
       "        vertical-align: top;\n",
       "    }\n",
       "\n",
       "    .dataframe thead th {\n",
       "        text-align: right;\n",
       "    }\n",
       "</style>\n",
       "<table border=\"1\" class=\"dataframe\">\n",
       "  <thead>\n",
       "    <tr style=\"text-align: right;\">\n",
       "      <th></th>\n",
       "      <th>LOAN_ID</th>\n",
       "      <th>STATUS</th>\n",
       "      <th>TAGS</th>\n",
       "      <th>processed_TAGS</th>\n",
       "    </tr>\n",
       "  </thead>\n",
       "  <tbody>\n",
       "    <tr>\n",
       "      <th>7</th>\n",
       "      <td>1799331</td>\n",
       "      <td>1</td>\n",
       "      <td>#Parent</td>\n",
       "      <td>#Parent</td>\n",
       "    </tr>\n",
       "    <tr>\n",
       "      <th>16</th>\n",
       "      <td>1294719</td>\n",
       "      <td>1</td>\n",
       "      <td>#Animals, #Woman-Owned Business, volunteer_pic...</td>\n",
       "      <td>#Animals,#Woman-OwnedBusiness,volunteer_pick,#...</td>\n",
       "    </tr>\n",
       "  </tbody>\n",
       "</table>\n",
       "</div>"
      ],
      "text/plain": [
       "    LOAN_ID  STATUS                                               TAGS  \\\n",
       "7   1799331       1                                            #Parent   \n",
       "16  1294719       1  #Animals, #Woman-Owned Business, volunteer_pic...   \n",
       "\n",
       "                                       processed_TAGS  \n",
       "7                                             #Parent  \n",
       "16  #Animals,#Woman-OwnedBusiness,volunteer_pick,#...  "
      ]
     },
     "execution_count": 86,
     "metadata": {},
     "output_type": "execute_result"
    }
   ],
   "source": [
    "kiva_tags.head(2)"
   ]
  },
  {
   "cell_type": "code",
   "execution_count": 82,
   "metadata": {},
   "outputs": [
    {
     "name": "stderr",
     "output_type": "stream",
     "text": [
      "<ipython-input-82-831cc37a277f>:2: SettingWithCopyWarning: \n",
      "A value is trying to be set on a copy of a slice from a DataFrame.\n",
      "Try using .loc[row_indexer,col_indexer] = value instead\n",
      "\n",
      "See the caveats in the documentation: https://pandas.pydata.org/pandas-docs/stable/user_guide/indexing.html#returning-a-view-versus-a-copy\n",
      "  kiva_tags['TAGS'] = kiva_tags['TAGS'].astype(str)\n"
     ]
    }
   ],
   "source": [
    "# casting TAGS column to string to avoid erros in processing\n",
    "kiva_tags['TAGS'] = kiva_tags['TAGS'].astype(str)"
   ]
  },
  {
   "cell_type": "code",
   "execution_count": 45,
   "metadata": {},
   "outputs": [
    {
     "data": {
      "text/plain": [
       "dtype('O')"
      ]
     },
     "execution_count": 45,
     "metadata": {},
     "output_type": "execute_result"
    }
   ],
   "source": [
    "# casting TAGS column to string to avoid erros in processing\n",
    "kiva_tags['TAGS'].dtypes"
   ]
  },
  {
   "cell_type": "code",
   "execution_count": 83,
   "metadata": {},
   "outputs": [
    {
     "name": "stderr",
     "output_type": "stream",
     "text": [
      "<ipython-input-83-865f64f52653>:2: SettingWithCopyWarning: \n",
      "A value is trying to be set on a copy of a slice from a DataFrame.\n",
      "Try using .loc[row_indexer,col_indexer] = value instead\n",
      "\n",
      "See the caveats in the documentation: https://pandas.pydata.org/pandas-docs/stable/user_guide/indexing.html#returning-a-view-versus-a-copy\n",
      "  kiva_tags['processed_TAGS'] = [row.replace(' ', '') for row in kiva_tags['TAGS']]\n"
     ]
    }
   ],
   "source": [
    "# removing spaces within tags and creating new column w/changes to TAGS\n",
    "kiva_tags['processed_TAGS'] = [row.replace(' ', '') for row in kiva_tags['TAGS']]"
   ]
  },
  {
   "cell_type": "code",
   "execution_count": 89,
   "metadata": {},
   "outputs": [
    {
     "name": "stderr",
     "output_type": "stream",
     "text": [
      "<ipython-input-89-c7221758a1e8>:2: SettingWithCopyWarning: \n",
      "A value is trying to be set on a copy of a slice from a DataFrame.\n",
      "Try using .loc[row_indexer,col_indexer] = value instead\n",
      "\n",
      "See the caveats in the documentation: https://pandas.pydata.org/pandas-docs/stable/user_guide/indexing.html#returning-a-view-versus-a-copy\n",
      "  kiva_tags['processed_TAGS'] = [row.replace('-', '') for row in kiva_tags['processed_TAGS']]\n"
     ]
    }
   ],
   "source": [
    "# removing dashes within tags \n",
    "kiva_tags['processed_TAGS'] = [row.replace('-', '') for row in kiva_tags['processed_TAGS']]"
   ]
  },
  {
   "cell_type": "code",
   "execution_count": 93,
   "metadata": {},
   "outputs": [
    {
     "name": "stderr",
     "output_type": "stream",
     "text": [
      "<ipython-input-93-8572c3180860>:3: SettingWithCopyWarning: \n",
      "A value is trying to be set on a copy of a slice from a DataFrame.\n",
      "Try using .loc[row_indexer,col_indexer] = value instead\n",
      "\n",
      "See the caveats in the documentation: https://pandas.pydata.org/pandas-docs/stable/user_guide/indexing.html#returning-a-view-versus-a-copy\n",
      "  kiva_tags['processed_TAGS'] = [tokenizer.tokenize(row.lower()) for row in kiva_tags['processed_TAGS']]\n"
     ]
    }
   ],
   "source": [
    "# tokenizing all rows\n",
    "tokenizer = RegexpTokenizer('\\w+|\\$[\\d.]+|S+')\n",
    "kiva_tags['processed_TAGS'] = [tokenizer.tokenize(row.lower()) for row in kiva_tags['processed_TAGS']] "
   ]
  },
  {
   "cell_type": "code",
   "execution_count": 95,
   "metadata": {},
   "outputs": [
    {
     "name": "stderr",
     "output_type": "stream",
     "text": [
      "<ipython-input-95-f35482f25909>:2: SettingWithCopyWarning: \n",
      "A value is trying to be set on a copy of a slice from a DataFrame.\n",
      "Try using .loc[row_indexer,col_indexer] = value instead\n",
      "\n",
      "See the caveats in the documentation: https://pandas.pydata.org/pandas-docs/stable/user_guide/indexing.html#returning-a-view-versus-a-copy\n",
      "  kiva_tags['processed_TAGS'] = [' '.join(row) for row in kiva_tags['processed_TAGS']]\n"
     ]
    }
   ],
   "source": [
    "# rejoining list of words in each row\n",
    "kiva_tags['processed_TAGS'] = [' '.join(row) for row in kiva_tags['processed_TAGS']]"
   ]
  },
  {
   "cell_type": "code",
   "execution_count": 96,
   "metadata": {},
   "outputs": [
    {
     "data": {
      "text/html": [
       "<div>\n",
       "<style scoped>\n",
       "    .dataframe tbody tr th:only-of-type {\n",
       "        vertical-align: middle;\n",
       "    }\n",
       "\n",
       "    .dataframe tbody tr th {\n",
       "        vertical-align: top;\n",
       "    }\n",
       "\n",
       "    .dataframe thead th {\n",
       "        text-align: right;\n",
       "    }\n",
       "</style>\n",
       "<table border=\"1\" class=\"dataframe\">\n",
       "  <thead>\n",
       "    <tr style=\"text-align: right;\">\n",
       "      <th></th>\n",
       "      <th>LOAN_ID</th>\n",
       "      <th>STATUS</th>\n",
       "      <th>TAGS</th>\n",
       "      <th>processed_TAGS</th>\n",
       "    </tr>\n",
       "  </thead>\n",
       "  <tbody>\n",
       "    <tr>\n",
       "      <th>7</th>\n",
       "      <td>1799331</td>\n",
       "      <td>1</td>\n",
       "      <td>#Parent</td>\n",
       "      <td>parent</td>\n",
       "    </tr>\n",
       "    <tr>\n",
       "      <th>16</th>\n",
       "      <td>1294719</td>\n",
       "      <td>1</td>\n",
       "      <td>#Animals, #Woman-Owned Business, volunteer_pic...</td>\n",
       "      <td>animals womanownedbusiness volunteer_pick parent</td>\n",
       "    </tr>\n",
       "    <tr>\n",
       "      <th>21</th>\n",
       "      <td>1595847</td>\n",
       "      <td>0</td>\n",
       "      <td>user_favorite, #Parent, #Woman-Owned Business</td>\n",
       "      <td>user_favorite parent womanownedbusiness</td>\n",
       "    </tr>\n",
       "    <tr>\n",
       "      <th>41</th>\n",
       "      <td>1139606</td>\n",
       "      <td>1</td>\n",
       "      <td>#Repeat Borrower, #Woman-Owned Business</td>\n",
       "      <td>repeatborrower womanownedbusiness</td>\n",
       "    </tr>\n",
       "    <tr>\n",
       "      <th>72</th>\n",
       "      <td>1018040</td>\n",
       "      <td>1</td>\n",
       "      <td>user_favorite</td>\n",
       "      <td>user_favorite</td>\n",
       "    </tr>\n",
       "  </tbody>\n",
       "</table>\n",
       "</div>"
      ],
      "text/plain": [
       "    LOAN_ID  STATUS                                               TAGS  \\\n",
       "7   1799331       1                                            #Parent   \n",
       "16  1294719       1  #Animals, #Woman-Owned Business, volunteer_pic...   \n",
       "21  1595847       0      user_favorite, #Parent, #Woman-Owned Business   \n",
       "41  1139606       1            #Repeat Borrower, #Woman-Owned Business   \n",
       "72  1018040       1                                      user_favorite   \n",
       "\n",
       "                                      processed_TAGS  \n",
       "7                                             parent  \n",
       "16  animals womanownedbusiness volunteer_pick parent  \n",
       "21           user_favorite parent womanownedbusiness  \n",
       "41                 repeatborrower womanownedbusiness  \n",
       "72                                     user_favorite  "
      ]
     },
     "execution_count": 96,
     "metadata": {},
     "output_type": "execute_result"
    }
   ],
   "source": [
    "kiva_tags.head()"
   ]
  },
  {
   "cell_type": "markdown",
   "metadata": {},
   "source": [
    "### Modeling processed_Tags"
   ]
  },
  {
   "cell_type": "code",
   "execution_count": 97,
   "metadata": {},
   "outputs": [],
   "source": [
    "X = kiva_tags['processed_TAGS']\n",
    "y = kiva_tags['STATUS']"
   ]
  },
  {
   "cell_type": "code",
   "execution_count": 98,
   "metadata": {},
   "outputs": [],
   "source": [
    "X_train, X_test, y_train, y_test = train_test_split(X, y, stratify=y, random_state=42)"
   ]
  },
  {
   "cell_type": "code",
   "execution_count": 99,
   "metadata": {},
   "outputs": [
    {
     "data": {
      "text/plain": [
       "1    0.746762\n",
       "0    0.253238\n",
       "Name: STATUS, dtype: float64"
      ]
     },
     "execution_count": 99,
     "metadata": {},
     "output_type": "execute_result"
    }
   ],
   "source": [
    "# null model values\n",
    "y.value_counts(normalize=True)"
   ]
  },
  {
   "cell_type": "code",
   "execution_count": 142,
   "metadata": {},
   "outputs": [],
   "source": [
    "# vectorizing tags w/default params\n",
    "tvec = TfidfVectorizer()\n",
    "X_train_tvec = tvec.fit_transform(X_train)\n",
    "X_test_tvec = tvec.transform(X_test)"
   ]
  },
  {
   "cell_type": "code",
   "execution_count": 126,
   "metadata": {},
   "outputs": [],
   "source": [
    "# vectorizing w/different tuning to compare models to default\n",
    "tv = TfidfVectorizer(ngram_range=(1,2), max_df=2.0, min_df=5)\n",
    "X_train_tv = tv.fit_transform(X_train)\n",
    "X_test_tv = tv.transform(X_test)"
   ]
  },
  {
   "cell_type": "markdown",
   "metadata": {},
   "source": [
    "#### Logistic Regression"
   ]
  },
  {
   "cell_type": "code",
   "execution_count": 127,
   "metadata": {},
   "outputs": [
    {
     "data": {
      "text/plain": [
       "LogisticRegression(C=100, max_iter=1000, solver='liblinear')"
      ]
     },
     "execution_count": 127,
     "metadata": {},
     "output_type": "execute_result"
    }
   ],
   "source": [
    "# logistic regression w/tuned vectorizer\n",
    "lr = LogisticRegression(max_iter = 1000, solver= 'liblinear', C=100)\n",
    "lr.fit(X_train_tv, y_train)"
   ]
  },
  {
   "cell_type": "code",
   "execution_count": 128,
   "metadata": {},
   "outputs": [
    {
     "name": "stdout",
     "output_type": "stream",
     "text": [
      "Train score: 0.7655019000834183\n",
      "Test score: 0.7534754402224282\n"
     ]
    }
   ],
   "source": [
    "# scoring logistic regression\n",
    "print(f'Train score: {lr.score(X_train_tv, y_train)}')\n",
    "print(f'Test score: {lr.score(X_test_tv, y_test)}')"
   ]
  },
  {
   "cell_type": "markdown",
   "metadata": {},
   "source": [
    "This was the best logistic regression score with all variations of hypertuning including vectorizer. The score only improved by 1 point over the null model."
   ]
  },
  {
   "cell_type": "markdown",
   "metadata": {},
   "source": [
    "#### MultinomialNB"
   ]
  },
  {
   "cell_type": "code",
   "execution_count": 146,
   "metadata": {},
   "outputs": [
    {
     "data": {
      "text/plain": [
       "MultinomialNB()"
      ]
     },
     "execution_count": 146,
     "metadata": {},
     "output_type": "execute_result"
    }
   ],
   "source": [
    "# multinomialNB model w/default vectorizer\n",
    "mnb = MultinomialNB()\n",
    "mnb.fit(X_train_tvec, y_train)"
   ]
  },
  {
   "cell_type": "code",
   "execution_count": 130,
   "metadata": {},
   "outputs": [
    {
     "name": "stdout",
     "output_type": "stream",
     "text": [
      "Train score: 0.7627830815336608\n",
      "Test score: 0.7518999073215941\n"
     ]
    }
   ],
   "source": [
    "# scoring for hypertuned vectorizer\n",
    "print(f'Train score: {mnb.score(X_train_tv, y_train)}')\n",
    "print(f'Test score: {mnb.score(X_test_tv, y_test)}')"
   ]
  },
  {
   "cell_type": "code",
   "execution_count": 147,
   "metadata": {},
   "outputs": [
    {
     "name": "stdout",
     "output_type": "stream",
     "text": [
      "Train score: 0.7486019711434486\n",
      "Test score: 0.7490268767377201\n"
     ]
    }
   ],
   "source": [
    "# scoring for default vectorizer\n",
    "print(f'Train score: {mnb.score(X_train_tvec, y_train)}')\n",
    "print(f'Test score: {mnb.score(X_test_tvec, y_test)}')"
   ]
  },
  {
   "cell_type": "markdown",
   "metadata": {},
   "source": [
    "The hypertuned vectorizer scored better than the default with the MultinomialNB. However, the score is still very close to the null scores."
   ]
  },
  {
   "cell_type": "markdown",
   "metadata": {},
   "source": [
    "#### AdaBoost"
   ]
  },
  {
   "cell_type": "code",
   "execution_count": 154,
   "metadata": {},
   "outputs": [
    {
     "data": {
      "text/plain": [
       "AdaBoostClassifier(n_estimators=100)"
      ]
     },
     "execution_count": 154,
     "metadata": {},
     "output_type": "execute_result"
    }
   ],
   "source": [
    "ada = AdaBoostClassifier(n_estimators=100)\n",
    "ada.fit(X_train_tvec, y_train)"
   ]
  },
  {
   "cell_type": "code",
   "execution_count": 149,
   "metadata": {},
   "outputs": [
    {
     "name": "stdout",
     "output_type": "stream",
     "text": [
      "Train score: 0.7664287700435629\n",
      "Test score: 0.758758109360519\n"
     ]
    }
   ],
   "source": [
    "# scoring\n",
    "print(f'Train score: {ada.score(X_train_tvec, y_train)}')\n",
    "print(f'Test score: {ada.score(X_test_tvec, y_test)}')"
   ]
  },
  {
   "cell_type": "code",
   "execution_count": 155,
   "metadata": {},
   "outputs": [
    {
     "name": "stdout",
     "output_type": "stream",
     "text": [
      "Train score: 0.766459665708901\n",
      "Test score: 0.7574606116774791\n"
     ]
    }
   ],
   "source": [
    "# scoring \n",
    "print(f'Train score: {ada.score(X_train_tvec, y_train)}')\n",
    "print(f'Test score: {ada.score(X_test_tvec, y_test)}')"
   ]
  },
  {
   "cell_type": "code",
   "execution_count": 153,
   "metadata": {},
   "outputs": [
    {
     "name": "stdout",
     "output_type": "stream",
     "text": [
      "Train score: 0.7660889177248432\n",
      "Test score: 0.7524559777571825\n"
     ]
    }
   ],
   "source": [
    "# scoring \n",
    "print(f'Train score: {ada.score(X_train_tv, y_train)}')\n",
    "print(f'Test score: {ada.score(X_test_tv, y_test)}')"
   ]
  },
  {
   "cell_type": "markdown",
   "metadata": {},
   "source": [
    "The AdaBoost model w/100 estimators scored higher than the previous models using the default vectorizer. It's still not the improvement over the null model we're looking for. "
   ]
  },
  {
   "cell_type": "markdown",
   "metadata": {},
   "source": [
    "# Combining all text columns for Modeling\n",
    "This was supposed to be with joined tags, but they're not. There's not much of a difference between scores with joined or unjoined tags; however, see next notebook for the scoring of those models which were ultimately used for the final nlp model and the streamlit app."
   ]
  },
  {
   "cell_type": "code",
   "execution_count": 162,
   "metadata": {},
   "outputs": [
    {
     "data": {
      "text/html": [
       "<div>\n",
       "<style scoped>\n",
       "    .dataframe tbody tr th:only-of-type {\n",
       "        vertical-align: middle;\n",
       "    }\n",
       "\n",
       "    .dataframe tbody tr th {\n",
       "        vertical-align: top;\n",
       "    }\n",
       "\n",
       "    .dataframe thead th {\n",
       "        text-align: right;\n",
       "    }\n",
       "</style>\n",
       "<table border=\"1\" class=\"dataframe\">\n",
       "  <thead>\n",
       "    <tr style=\"text-align: right;\">\n",
       "      <th></th>\n",
       "      <th>LOAN_ID</th>\n",
       "      <th>COUNTRY_NAME</th>\n",
       "      <th>STATUS</th>\n",
       "      <th>DESCRIPTION_TRANSLATED</th>\n",
       "      <th>LOAN_USE</th>\n",
       "      <th>TAGS</th>\n",
       "    </tr>\n",
       "  </thead>\n",
       "  <tbody>\n",
       "    <tr>\n",
       "      <th>7</th>\n",
       "      <td>1799331</td>\n",
       "      <td>Kenya</td>\n",
       "      <td>1</td>\n",
       "      <td>Dinnah is 43 years of age and a proud mother o...</td>\n",
       "      <td>to buy farm inputs such as seeds and fertilize...</td>\n",
       "      <td>#Parent</td>\n",
       "    </tr>\n",
       "    <tr>\n",
       "      <th>16</th>\n",
       "      <td>1294719</td>\n",
       "      <td>Kenya</td>\n",
       "      <td>1</td>\n",
       "      <td>Resy is a married woman and has been blessed w...</td>\n",
       "      <td>to purchase chicks and poultry feed.</td>\n",
       "      <td>#Animals, #Woman-Owned Business, volunteer_pic...</td>\n",
       "    </tr>\n",
       "    <tr>\n",
       "      <th>21</th>\n",
       "      <td>1595847</td>\n",
       "      <td>Kenya</td>\n",
       "      <td>0</td>\n",
       "      <td>Lavenda is happily married and has been blesse...</td>\n",
       "      <td>to add stock of beauty products to her salon</td>\n",
       "      <td>user_favorite, #Parent, #Woman-Owned Business</td>\n",
       "    </tr>\n",
       "    <tr>\n",
       "      <th>41</th>\n",
       "      <td>1139606</td>\n",
       "      <td>Kenya</td>\n",
       "      <td>1</td>\n",
       "      <td>Hadija is a Kiva borrower. She describes herse...</td>\n",
       "      <td>to buy more stock of vegetables, flour, sugar,...</td>\n",
       "      <td>#Repeat Borrower, #Woman-Owned Business</td>\n",
       "    </tr>\n",
       "    <tr>\n",
       "      <th>57</th>\n",
       "      <td>1813411</td>\n",
       "      <td>Kenya</td>\n",
       "      <td>1</td>\n",
       "      <td>Purity, aged 28, is a lovely mother of two chi...</td>\n",
       "      <td>to purchase high-quality seeds and nutrient-ri...</td>\n",
       "      <td>NaN</td>\n",
       "    </tr>\n",
       "  </tbody>\n",
       "</table>\n",
       "</div>"
      ],
      "text/plain": [
       "    LOAN_ID COUNTRY_NAME  STATUS  \\\n",
       "7   1799331        Kenya       1   \n",
       "16  1294719        Kenya       1   \n",
       "21  1595847        Kenya       0   \n",
       "41  1139606        Kenya       1   \n",
       "57  1813411        Kenya       1   \n",
       "\n",
       "                               DESCRIPTION_TRANSLATED  \\\n",
       "7   Dinnah is 43 years of age and a proud mother o...   \n",
       "16  Resy is a married woman and has been blessed w...   \n",
       "21  Lavenda is happily married and has been blesse...   \n",
       "41  Hadija is a Kiva borrower. She describes herse...   \n",
       "57  Purity, aged 28, is a lovely mother of two chi...   \n",
       "\n",
       "                                             LOAN_USE  \\\n",
       "7   to buy farm inputs such as seeds and fertilize...   \n",
       "16               to purchase chicks and poultry feed.   \n",
       "21       to add stock of beauty products to her salon   \n",
       "41  to buy more stock of vegetables, flour, sugar,...   \n",
       "57  to purchase high-quality seeds and nutrient-ri...   \n",
       "\n",
       "                                                 TAGS  \n",
       "7                                             #Parent  \n",
       "16  #Animals, #Woman-Owned Business, volunteer_pic...  \n",
       "21      user_favorite, #Parent, #Woman-Owned Business  \n",
       "41            #Repeat Borrower, #Woman-Owned Business  \n",
       "57                                                NaN  "
      ]
     },
     "execution_count": 162,
     "metadata": {},
     "output_type": "execute_result"
    }
   ],
   "source": [
    "kiva.head()"
   ]
  },
  {
   "cell_type": "code",
   "execution_count": 163,
   "metadata": {},
   "outputs": [
    {
     "name": "stdout",
     "output_type": "stream",
     "text": [
      "<class 'pandas.core.frame.DataFrame'>\n",
      "Int64Index: 51170 entries, 7 to 419149\n",
      "Data columns (total 6 columns):\n",
      " #   Column                  Non-Null Count  Dtype \n",
      "---  ------                  --------------  ----- \n",
      " 0   LOAN_ID                 51170 non-null  int64 \n",
      " 1   COUNTRY_NAME            51170 non-null  object\n",
      " 2   STATUS                  51170 non-null  int64 \n",
      " 3   DESCRIPTION_TRANSLATED  50025 non-null  object\n",
      " 4   LOAN_USE                50025 non-null  object\n",
      " 5   TAGS                    43157 non-null  object\n",
      "dtypes: int64(2), object(4)\n",
      "memory usage: 2.7+ MB\n"
     ]
    }
   ],
   "source": [
    "kiva.info()"
   ]
  },
  {
   "cell_type": "code",
   "execution_count": 164,
   "metadata": {},
   "outputs": [],
   "source": [
    "# filling nulls with blank spaces so they aren't erased\n",
    "kiva['DESCRIPTION_TRANSLATED'] = kiva['DESCRIPTION_TRANSLATED'].fillna(' ')\n",
    "kiva['LOAN_USE'] = kiva['LOAN_USE'].fillna(' ')\n",
    "kiva['TAGS'] = kiva['TAGS'].fillna(' ')"
   ]
  },
  {
   "cell_type": "code",
   "execution_count": 165,
   "metadata": {},
   "outputs": [],
   "source": [
    "# creating column with all text included\n",
    "kiva['all_text'] = (kiva['DESCRIPTION_TRANSLATED']+kiva['LOAN_USE']+kiva['TAGS'])"
   ]
  },
  {
   "cell_type": "code",
   "execution_count": 166,
   "metadata": {},
   "outputs": [
    {
     "data": {
      "text/html": [
       "<div>\n",
       "<style scoped>\n",
       "    .dataframe tbody tr th:only-of-type {\n",
       "        vertical-align: middle;\n",
       "    }\n",
       "\n",
       "    .dataframe tbody tr th {\n",
       "        vertical-align: top;\n",
       "    }\n",
       "\n",
       "    .dataframe thead th {\n",
       "        text-align: right;\n",
       "    }\n",
       "</style>\n",
       "<table border=\"1\" class=\"dataframe\">\n",
       "  <thead>\n",
       "    <tr style=\"text-align: right;\">\n",
       "      <th></th>\n",
       "      <th>LOAN_ID</th>\n",
       "      <th>COUNTRY_NAME</th>\n",
       "      <th>STATUS</th>\n",
       "      <th>DESCRIPTION_TRANSLATED</th>\n",
       "      <th>LOAN_USE</th>\n",
       "      <th>TAGS</th>\n",
       "      <th>all_text</th>\n",
       "    </tr>\n",
       "  </thead>\n",
       "  <tbody>\n",
       "    <tr>\n",
       "      <th>7</th>\n",
       "      <td>1799331</td>\n",
       "      <td>Kenya</td>\n",
       "      <td>1</td>\n",
       "      <td>Dinnah is 43 years of age and a proud mother o...</td>\n",
       "      <td>to buy farm inputs such as seeds and fertilize...</td>\n",
       "      <td>#Parent</td>\n",
       "      <td>Dinnah is 43 years of age and a proud mother o...</td>\n",
       "    </tr>\n",
       "    <tr>\n",
       "      <th>16</th>\n",
       "      <td>1294719</td>\n",
       "      <td>Kenya</td>\n",
       "      <td>1</td>\n",
       "      <td>Resy is a married woman and has been blessed w...</td>\n",
       "      <td>to purchase chicks and poultry feed.</td>\n",
       "      <td>#Animals, #Woman-Owned Business, volunteer_pic...</td>\n",
       "      <td>Resy is a married woman and has been blessed w...</td>\n",
       "    </tr>\n",
       "  </tbody>\n",
       "</table>\n",
       "</div>"
      ],
      "text/plain": [
       "    LOAN_ID COUNTRY_NAME  STATUS  \\\n",
       "7   1799331        Kenya       1   \n",
       "16  1294719        Kenya       1   \n",
       "\n",
       "                               DESCRIPTION_TRANSLATED  \\\n",
       "7   Dinnah is 43 years of age and a proud mother o...   \n",
       "16  Resy is a married woman and has been blessed w...   \n",
       "\n",
       "                                             LOAN_USE  \\\n",
       "7   to buy farm inputs such as seeds and fertilize...   \n",
       "16               to purchase chicks and poultry feed.   \n",
       "\n",
       "                                                 TAGS  \\\n",
       "7                                             #Parent   \n",
       "16  #Animals, #Woman-Owned Business, volunteer_pic...   \n",
       "\n",
       "                                             all_text  \n",
       "7   Dinnah is 43 years of age and a proud mother o...  \n",
       "16  Resy is a married woman and has been blessed w...  "
      ]
     },
     "execution_count": 166,
     "metadata": {},
     "output_type": "execute_result"
    }
   ],
   "source": [
    "kiva.head(2)"
   ]
  },
  {
   "cell_type": "code",
   "execution_count": 167,
   "metadata": {},
   "outputs": [],
   "source": [
    "# removing html breaks\n",
    "kiva['all_text'] = kiva['all_text'].str.replace('<br />', ' ')"
   ]
  },
  {
   "cell_type": "code",
   "execution_count": 168,
   "metadata": {},
   "outputs": [],
   "source": [
    "# Removing punctuation from text\n",
    "tokenizer = RegexpTokenizer('\\w+|\\$[\\d.]+|S+')\n",
    "kiva['all_text'] = [tokenizer.tokenize(row.lower()) for row in kiva['all_text']]"
   ]
  },
  {
   "cell_type": "code",
   "execution_count": 169,
   "metadata": {},
   "outputs": [],
   "source": [
    "# removing s's from ends of words to be able to count singulars and plurals together\n",
    "lemmatizer = WordNetLemmatizer()\n",
    "kiva['all_text'] = [[lemmatizer.lemmatize(token) for token in token_list] for token_list in kiva['all_text']]"
   ]
  },
  {
   "cell_type": "code",
   "execution_count": 170,
   "metadata": {},
   "outputs": [],
   "source": [
    "# removing most common english words from text\n",
    "kiva['all_text'] = [[token for token in token_list if token not in stopwords.words('english')] for token_list in kiva['all_text']]"
   ]
  },
  {
   "cell_type": "code",
   "execution_count": 171,
   "metadata": {},
   "outputs": [],
   "source": [
    "# rejoining list of words in each row\n",
    "kiva['joined_text'] = [' '.join(row) for row in kiva['all_text']]"
   ]
  },
  {
   "cell_type": "code",
   "execution_count": 172,
   "metadata": {},
   "outputs": [],
   "source": [
    "# saving csv of preprocessed texts for Kenya\n",
    "kiva.to_csv('/Users/precious/dsi/Group-Project/kiva_kenya.csv', index=False)"
   ]
  },
  {
   "cell_type": "markdown",
   "metadata": {},
   "source": [
    "### Modeling Combined Text Columns for Kenya "
   ]
  },
  {
   "cell_type": "code",
   "execution_count": 177,
   "metadata": {},
   "outputs": [],
   "source": [
    "X2 = kiva['joined_text']\n",
    "y2 = kiva['STATUS']"
   ]
  },
  {
   "cell_type": "code",
   "execution_count": 180,
   "metadata": {},
   "outputs": [
    {
     "data": {
      "text/plain": [
       "1    0.784659\n",
       "0    0.215341\n",
       "Name: STATUS, dtype: float64"
      ]
     },
     "execution_count": 180,
     "metadata": {},
     "output_type": "execute_result"
    }
   ],
   "source": [
    "y2.value_counts(normalize=True)"
   ]
  },
  {
   "cell_type": "code",
   "execution_count": 184,
   "metadata": {},
   "outputs": [],
   "source": [
    "X_train, X_test, y_train, y_test = train_test_split(X2, y2, stratify=y2, random_state=42)"
   ]
  },
  {
   "cell_type": "code",
   "execution_count": 264,
   "metadata": {},
   "outputs": [],
   "source": [
    "# vectorizing joined_text data using 1 and 2 grams\n",
    "tdvec = TfidfVectorizer(ngram_range=(1,2))\n",
    "X_train_tdvec = tdvec.fit_transform(X_train)\n",
    "X_test_tdvec = tdvec.transform(X_test)"
   ]
  },
  {
   "cell_type": "markdown",
   "metadata": {},
   "source": [
    "### Logistic Regression"
   ]
  },
  {
   "cell_type": "code",
   "execution_count": 266,
   "metadata": {},
   "outputs": [
    {
     "data": {
      "text/plain": [
       "LogisticRegression(max_iter=1000)"
      ]
     },
     "execution_count": 266,
     "metadata": {},
     "output_type": "execute_result"
    }
   ],
   "source": [
    "logreg = LogisticRegression(max_iter=1000)\n",
    "logreg.fit(X_train_tdvec, y_train)"
   ]
  },
  {
   "cell_type": "code",
   "execution_count": 202,
   "metadata": {},
   "outputs": [
    {
     "name": "stdout",
     "output_type": "stream",
     "text": [
      "Train score: 0.83013263152409\n",
      "Test score: 0.818103650433831\n"
     ]
    }
   ],
   "source": [
    "# scoring logistic regression\n",
    "print(f'Train score: {logreg.score(X_train_tdvec, y_train)}')\n",
    "print(f'Test score: {logreg.score(X_test_tdvec, y_test)}')"
   ]
  },
  {
   "cell_type": "code",
   "execution_count": 270,
   "metadata": {},
   "outputs": [
    {
     "name": "stdout",
     "output_type": "stream",
     "text": [
      "Train score: 0.848216379602366\n",
      "Test score: 0.8210740248573438\n"
     ]
    }
   ],
   "source": [
    "# scoring logistic regression (ngram 1,2, max_iter1000)\n",
    "print(f'Train score: {logreg.score(X_train_tdvec, y_train)}')\n",
    "print(f'Test score: {logreg.score(X_test_tdvec, y_test)}')"
   ]
  },
  {
   "cell_type": "markdown",
   "metadata": {},
   "source": [
    "Using 1 and 2 ngrams for the vectorizer and max iterations of 1000 for the logistic regression produced our best scores out of all the models with an improvement of 4 points over the null scores. "
   ]
  },
  {
   "cell_type": "code",
   "execution_count": 268,
   "metadata": {},
   "outputs": [],
   "source": [
    "# creating predictions for logreg\n",
    "logreg_preds = logreg.predict(X_test_tdvec)"
   ]
  },
  {
   "cell_type": "code",
   "execution_count": 273,
   "metadata": {},
   "outputs": [
    {
     "name": "stdout",
     "output_type": "stream",
     "text": [
      "ROC AUC: 0.6407997883903236\n"
     ]
    }
   ],
   "source": [
    "print(f'ROC AUC: {roc_auc_score(y_test, logreg_preds)}')"
   ]
  },
  {
   "cell_type": "code",
   "execution_count": 269,
   "metadata": {},
   "outputs": [
    {
     "data": {
      "image/png": "[encoded data removed]",
      "text/plain": [
       "<Figure size 432x288 with 2 Axes>"
      ]
     },
     "metadata": {
      "needs_background": "light"
     },
     "output_type": "display_data"
    }
   ],
   "source": [
    "logreg_cm = confusion_matrix(y_test, logreg_preds)\n",
    "ConfusionMatrixDisplay(logreg_cm).plot();"
   ]
  },
  {
   "cell_type": "code",
   "execution_count": 271,
   "metadata": {},
   "outputs": [
    {
     "name": "stdout",
     "output_type": "stream",
     "text": [
      "              precision    recall  f1-score   support\n",
      "\n",
      "           0       0.68      0.32      0.44      2755\n",
      "           1       0.84      0.96      0.89     10038\n",
      "\n",
      "    accuracy                           0.82     12793\n",
      "   macro avg       0.76      0.64      0.67     12793\n",
      "weighted avg       0.80      0.82      0.80     12793\n",
      "\n"
     ]
    }
   ],
   "source": [
    "print(classification_report(y_test, logreg_preds))"
   ]
  },
  {
   "cell_type": "markdown",
   "metadata": {},
   "source": [
    "Although our logistic regression model is scoring well overall with 82% accuracy, it's not performing well with the expired text data (0). The funded data (1) has low false negatives and predicts 96% correctly (recall score). However, it's only predicting 32% correctly for the expired loans which gives us a high false positive score. With this model we are predicting most loans to be funded and giving those whose text information for their loans are not good enough for funding false hope that they are likely to be funded when they are not for whatever reason. "
   ]
  },
  {
   "cell_type": "markdown",
   "metadata": {},
   "source": [
    "### Random Forest"
   ]
  },
  {
   "cell_type": "code",
   "execution_count": 245,
   "metadata": {},
   "outputs": [],
   "source": [
    "rfc = RandomForestClassifier()\n",
    "rfc.fit(X_train_tdvec, y_train)"
   ]
  },
  {
   "cell_type": "code",
   "execution_count": 227,
   "metadata": {},
   "outputs": [
    {
     "name": "stdout",
     "output_type": "stream",
     "text": [
      "Train score: 0.999973942726112\n",
      "Test score: 0.8070038302196514\n"
     ]
    }
   ],
   "source": [
    "# scoring with default random forest and default vectorizer\n",
    "print(f'Train score: {rfc.score(X_train_tdvec, y_train)}')\n",
    "print(f'Test score: {rfc.score(X_test_tdvec, y_test)}')"
   ]
  },
  {
   "cell_type": "code",
   "execution_count": 243,
   "metadata": {},
   "outputs": [
    {
     "name": "stdout",
     "output_type": "stream",
     "text": [
      "Train score: 0.7846626885895198\n",
      "Test score: 0.7846478542953178\n"
     ]
    }
   ],
   "source": [
    "# scoring with ngrams range of 1,2 in vectorizer\n",
    "print(f'Train score: {rfc.score(X_train_tdvec, y_train)}')\n",
    "print(f'Test score: {rfc.score(X_test_tdvec, y_test)}')"
   ]
  },
  {
   "cell_type": "markdown",
   "metadata": {},
   "source": [
    "The Random Forest model is overfit for the default parameters. The increased ngrams in the vectorizer provide a better fit but the score hasn't improved over the null scores."
   ]
  },
  {
   "cell_type": "markdown",
   "metadata": {},
   "source": [
    "### AdaBoost"
   ]
  },
  {
   "cell_type": "code",
   "execution_count": 237,
   "metadata": {},
   "outputs": [
    {
     "data": {
      "text/plain": [
       "AdaBoostClassifier(n_estimators=250)"
      ]
     },
     "execution_count": 237,
     "metadata": {},
     "output_type": "execute_result"
    }
   ],
   "source": [
    "abc = AdaBoostClassifier(n_estimators=250)\n",
    "abc.fit(X_train_tdvec, y_train)"
   ]
  },
  {
   "cell_type": "code",
   "execution_count": 233,
   "metadata": {},
   "outputs": [
    {
     "name": "stdout",
     "output_type": "stream",
     "text": [
      "Train score: 0.8086874951142612\n",
      "Test score: 0.8070819979676386\n"
     ]
    }
   ],
   "source": [
    "# scoring w/default vectorizer and default adaboost\n",
    "print(f'Train score: {abc.score(X_train_tdvec, y_train)}')\n",
    "print(f'Test score: {abc.score(X_test_tdvec, y_test)}')"
   ]
  },
  {
   "cell_type": "code",
   "execution_count": 236,
   "metadata": {},
   "outputs": [
    {
     "name": "stdout",
     "output_type": "stream",
     "text": [
      "Train score: 0.8097297860697814\n",
      "Test score: 0.8113812241069335\n"
     ]
    }
   ],
   "source": [
    "# scoring with increased estimators of 250 from 50\n",
    "print(f'Train score: {abc.score(X_train_tdvec, y_train)}')\n",
    "print(f'Test score: {abc.score(X_test_tdvec, y_test)}')"
   ]
  },
  {
   "cell_type": "markdown",
   "metadata": {},
   "source": [
    "This score improved over the null model but not as well as the logistic regression."
   ]
  },
  {
   "cell_type": "markdown",
   "metadata": {},
   "source": [
    "### GradientBoost"
   ]
  },
  {
   "cell_type": "code",
   "execution_count": 262,
   "metadata": {},
   "outputs": [
    {
     "data": {
      "text/plain": [
       "GradientBoostingClassifier(min_samples_split=3)"
      ]
     },
     "execution_count": 262,
     "metadata": {},
     "output_type": "execute_result"
    }
   ],
   "source": [
    "gb = GradientBoostingClassifier()\n",
    "gb.fit(X_train_tdvec, y_train)"
   ]
  },
  {
   "cell_type": "code",
   "execution_count": 263,
   "metadata": {},
   "outputs": [
    {
     "name": "stdout",
     "output_type": "stream",
     "text": [
      "Train score: 0.8228105375615603\n",
      "Test score: 0.8174783084499335\n"
     ]
    }
   ],
   "source": [
    "# scoring \n",
    "print(f'Train score: {gb.score(X_train_tdvec, y_train)}')\n",
    "print(f'Test score: {gb.score(X_test_tdvec, y_test)}')"
   ]
  },
  {
   "cell_type": "markdown",
   "metadata": {},
   "source": [
    "This model is also an improvement over the null model but not as well as the logistic regression."
   ]
  },
  {
   "cell_type": "markdown",
   "metadata": {},
   "source": [
    "# Reproducing logreg score from above to extract features and complete interpretations."
   ]
  },
  {
   "cell_type": "code",
   "execution_count": 19,
   "metadata": {},
   "outputs": [],
   "source": [
    "# rereading in data\n",
    "kiva_kenya = pd.read_csv('/Users/precious/dsi/Group-Project/kiva_kenya.csv')"
   ]
  },
  {
   "cell_type": "code",
   "execution_count": 20,
   "metadata": {},
   "outputs": [
    {
     "name": "stdout",
     "output_type": "stream",
     "text": [
      "<class 'pandas.core.frame.DataFrame'>\n",
      "RangeIndex: 51170 entries, 0 to 51169\n",
      "Data columns (total 8 columns):\n",
      " #   Column                  Non-Null Count  Dtype \n",
      "---  ------                  --------------  ----- \n",
      " 0   LOAN_ID                 51170 non-null  int64 \n",
      " 1   COUNTRY_NAME            51170 non-null  object\n",
      " 2   STATUS                  51170 non-null  int64 \n",
      " 3   DESCRIPTION_TRANSLATED  51170 non-null  object\n",
      " 4   LOAN_USE                51170 non-null  object\n",
      " 5   TAGS                    51170 non-null  object\n",
      " 6   all_text                51170 non-null  object\n",
      " 7   joined_text             51019 non-null  object\n",
      "dtypes: int64(2), object(6)\n",
      "memory usage: 3.1+ MB\n"
     ]
    }
   ],
   "source": [
    "kiva_kenya.info()"
   ]
  },
  {
   "cell_type": "markdown",
   "metadata": {},
   "source": [
    "Noticed null rows not taken into consideration in above models. Will check original data to be sure they were always null and not as result of saving data to new csv."
   ]
  },
  {
   "cell_type": "code",
   "execution_count": 6,
   "metadata": {},
   "outputs": [
    {
     "data": {
      "text/html": [
       "<div>\n",
       "<style scoped>\n",
       "    .dataframe tbody tr th:only-of-type {\n",
       "        vertical-align: middle;\n",
       "    }\n",
       "\n",
       "    .dataframe tbody tr th {\n",
       "        vertical-align: top;\n",
       "    }\n",
       "\n",
       "    .dataframe thead th {\n",
       "        text-align: right;\n",
       "    }\n",
       "</style>\n",
       "<table border=\"1\" class=\"dataframe\">\n",
       "  <thead>\n",
       "    <tr style=\"text-align: right;\">\n",
       "      <th></th>\n",
       "      <th>LOAN_ID</th>\n",
       "      <th>COUNTRY_NAME</th>\n",
       "      <th>STATUS</th>\n",
       "      <th>DESCRIPTION_TRANSLATED</th>\n",
       "      <th>LOAN_USE</th>\n",
       "      <th>TAGS</th>\n",
       "      <th>all_text</th>\n",
       "      <th>joined_text</th>\n",
       "    </tr>\n",
       "  </thead>\n",
       "  <tbody>\n",
       "    <tr>\n",
       "      <th>1003</th>\n",
       "      <td>826815</td>\n",
       "      <td>Kenya</td>\n",
       "      <td>1</td>\n",
       "      <td></td>\n",
       "      <td></td>\n",
       "      <td></td>\n",
       "      <td>[]</td>\n",
       "      <td>NaN</td>\n",
       "    </tr>\n",
       "    <tr>\n",
       "      <th>1228</th>\n",
       "      <td>882956</td>\n",
       "      <td>Kenya</td>\n",
       "      <td>1</td>\n",
       "      <td></td>\n",
       "      <td></td>\n",
       "      <td></td>\n",
       "      <td>[]</td>\n",
       "      <td>NaN</td>\n",
       "    </tr>\n",
       "    <tr>\n",
       "      <th>1416</th>\n",
       "      <td>1119019</td>\n",
       "      <td>Kenya</td>\n",
       "      <td>1</td>\n",
       "      <td></td>\n",
       "      <td></td>\n",
       "      <td></td>\n",
       "      <td>[]</td>\n",
       "      <td>NaN</td>\n",
       "    </tr>\n",
       "    <tr>\n",
       "      <th>1773</th>\n",
       "      <td>921931</td>\n",
       "      <td>Kenya</td>\n",
       "      <td>1</td>\n",
       "      <td></td>\n",
       "      <td></td>\n",
       "      <td></td>\n",
       "      <td>[]</td>\n",
       "      <td>NaN</td>\n",
       "    </tr>\n",
       "    <tr>\n",
       "      <th>2156</th>\n",
       "      <td>937491</td>\n",
       "      <td>Kenya</td>\n",
       "      <td>1</td>\n",
       "      <td></td>\n",
       "      <td></td>\n",
       "      <td></td>\n",
       "      <td>[]</td>\n",
       "      <td>NaN</td>\n",
       "    </tr>\n",
       "    <tr>\n",
       "      <th>...</th>\n",
       "      <td>...</td>\n",
       "      <td>...</td>\n",
       "      <td>...</td>\n",
       "      <td>...</td>\n",
       "      <td>...</td>\n",
       "      <td>...</td>\n",
       "      <td>...</td>\n",
       "      <td>...</td>\n",
       "    </tr>\n",
       "    <tr>\n",
       "      <th>48433</th>\n",
       "      <td>993758</td>\n",
       "      <td>Kenya</td>\n",
       "      <td>1</td>\n",
       "      <td></td>\n",
       "      <td></td>\n",
       "      <td></td>\n",
       "      <td>[]</td>\n",
       "      <td>NaN</td>\n",
       "    </tr>\n",
       "    <tr>\n",
       "      <th>49010</th>\n",
       "      <td>877307</td>\n",
       "      <td>Kenya</td>\n",
       "      <td>1</td>\n",
       "      <td></td>\n",
       "      <td></td>\n",
       "      <td></td>\n",
       "      <td>[]</td>\n",
       "      <td>NaN</td>\n",
       "    </tr>\n",
       "    <tr>\n",
       "      <th>49294</th>\n",
       "      <td>920528</td>\n",
       "      <td>Kenya</td>\n",
       "      <td>1</td>\n",
       "      <td></td>\n",
       "      <td></td>\n",
       "      <td></td>\n",
       "      <td>[]</td>\n",
       "      <td>NaN</td>\n",
       "    </tr>\n",
       "    <tr>\n",
       "      <th>49521</th>\n",
       "      <td>880729</td>\n",
       "      <td>Kenya</td>\n",
       "      <td>1</td>\n",
       "      <td></td>\n",
       "      <td></td>\n",
       "      <td></td>\n",
       "      <td>[]</td>\n",
       "      <td>NaN</td>\n",
       "    </tr>\n",
       "    <tr>\n",
       "      <th>49899</th>\n",
       "      <td>877280</td>\n",
       "      <td>Kenya</td>\n",
       "      <td>1</td>\n",
       "      <td></td>\n",
       "      <td></td>\n",
       "      <td></td>\n",
       "      <td>[]</td>\n",
       "      <td>NaN</td>\n",
       "    </tr>\n",
       "  </tbody>\n",
       "</table>\n",
       "<p>151 rows × 8 columns</p>\n",
       "</div>"
      ],
      "text/plain": [
       "       LOAN_ID COUNTRY_NAME  STATUS DESCRIPTION_TRANSLATED LOAN_USE TAGS  \\\n",
       "1003    826815        Kenya       1                                        \n",
       "1228    882956        Kenya       1                                        \n",
       "1416   1119019        Kenya       1                                        \n",
       "1773    921931        Kenya       1                                        \n",
       "2156    937491        Kenya       1                                        \n",
       "...        ...          ...     ...                    ...      ...  ...   \n",
       "48433   993758        Kenya       1                                        \n",
       "49010   877307        Kenya       1                                        \n",
       "49294   920528        Kenya       1                                        \n",
       "49521   880729        Kenya       1                                        \n",
       "49899   877280        Kenya       1                                        \n",
       "\n",
       "      all_text joined_text  \n",
       "1003        []         NaN  \n",
       "1228        []         NaN  \n",
       "1416        []         NaN  \n",
       "1773        []         NaN  \n",
       "2156        []         NaN  \n",
       "...        ...         ...  \n",
       "48433       []         NaN  \n",
       "49010       []         NaN  \n",
       "49294       []         NaN  \n",
       "49521       []         NaN  \n",
       "49899       []         NaN  \n",
       "\n",
       "[151 rows x 8 columns]"
      ]
     },
     "execution_count": 6,
     "metadata": {},
     "output_type": "execute_result"
    }
   ],
   "source": [
    "kiva_kenya[kiva_kenya['joined_text'].isnull()]"
   ]
  },
  {
   "cell_type": "code",
   "execution_count": 7,
   "metadata": {},
   "outputs": [
    {
     "data": {
      "text/plain": [
       "' '"
      ]
     },
     "execution_count": 7,
     "metadata": {},
     "output_type": "execute_result"
    }
   ],
   "source": [
    "# checking empty rows for content\n",
    "kiva_kenya['DESCRIPTION_TRANSLATED'][1003]"
   ]
  },
  {
   "cell_type": "code",
   "execution_count": 8,
   "metadata": {},
   "outputs": [],
   "source": [
    "# reading in original dataset to check content\n",
    "old_kiva = pd.read_csv('/Users/precious/dsi/Group-Project/kivamix.csv')"
   ]
  },
  {
   "cell_type": "code",
   "execution_count": 10,
   "metadata": {},
   "outputs": [
    {
     "data": {
      "text/html": [
       "<div>\n",
       "<style scoped>\n",
       "    .dataframe tbody tr th:only-of-type {\n",
       "        vertical-align: middle;\n",
       "    }\n",
       "\n",
       "    .dataframe tbody tr th {\n",
       "        vertical-align: top;\n",
       "    }\n",
       "\n",
       "    .dataframe thead th {\n",
       "        text-align: right;\n",
       "    }\n",
       "</style>\n",
       "<table border=\"1\" class=\"dataframe\">\n",
       "  <thead>\n",
       "    <tr style=\"text-align: right;\">\n",
       "      <th></th>\n",
       "      <th>LOAN_ID</th>\n",
       "      <th>LOAN_NAME</th>\n",
       "      <th>ORIGINAL_LANGUAGE</th>\n",
       "      <th>DESCRIPTION</th>\n",
       "      <th>DESCRIPTION_TRANSLATED</th>\n",
       "      <th>FUNDED_AMOUNT</th>\n",
       "      <th>LOAN_AMOUNT</th>\n",
       "      <th>STATUS</th>\n",
       "      <th>IMAGE_ID</th>\n",
       "      <th>VIDEO_ID</th>\n",
       "      <th>...</th>\n",
       "      <th>NUM_LENDERS_TOTAL</th>\n",
       "      <th>NUM_JOURNAL_ENTRIES</th>\n",
       "      <th>NUM_BULK_ENTRIES</th>\n",
       "      <th>TAGS</th>\n",
       "      <th>BORROWER_NAMES</th>\n",
       "      <th>BORROWER_GENDERS</th>\n",
       "      <th>BORROWER_PICTURED</th>\n",
       "      <th>REPAYMENT_INTERVAL</th>\n",
       "      <th>DISTRIBUTION_MODEL</th>\n",
       "      <th>year</th>\n",
       "    </tr>\n",
       "  </thead>\n",
       "  <tbody>\n",
       "    <tr>\n",
       "      <th>408679</th>\n",
       "      <td>877280</td>\n",
       "      <td>NaN</td>\n",
       "      <td>NaN</td>\n",
       "      <td>NaN</td>\n",
       "      <td>NaN</td>\n",
       "      <td>275.0</td>\n",
       "      <td>275.0</td>\n",
       "      <td>1</td>\n",
       "      <td>NaN</td>\n",
       "      <td>NaN</td>\n",
       "      <td>...</td>\n",
       "      <td>7</td>\n",
       "      <td>4</td>\n",
       "      <td>3</td>\n",
       "      <td>NaN</td>\n",
       "      <td>NaN</td>\n",
       "      <td>NaN</td>\n",
       "      <td>NaN</td>\n",
       "      <td>monthly</td>\n",
       "      <td>field_partner</td>\n",
       "      <td>2015</td>\n",
       "    </tr>\n",
       "  </tbody>\n",
       "</table>\n",
       "<p>1 rows × 35 columns</p>\n",
       "</div>"
      ],
      "text/plain": [
       "        LOAN_ID LOAN_NAME ORIGINAL_LANGUAGE DESCRIPTION  \\\n",
       "408679   877280       NaN               NaN         NaN   \n",
       "\n",
       "       DESCRIPTION_TRANSLATED  FUNDED_AMOUNT  LOAN_AMOUNT  STATUS  IMAGE_ID  \\\n",
       "408679                    NaN          275.0        275.0       1       NaN   \n",
       "\n",
       "        VIDEO_ID  ... NUM_LENDERS_TOTAL NUM_JOURNAL_ENTRIES NUM_BULK_ENTRIES  \\\n",
       "408679       NaN  ...                 7                   4                3   \n",
       "\n",
       "       TAGS BORROWER_NAMES BORROWER_GENDERS BORROWER_PICTURED  \\\n",
       "408679  NaN            NaN              NaN               NaN   \n",
       "\n",
       "        REPAYMENT_INTERVAL DISTRIBUTION_MODEL  year  \n",
       "408679             monthly      field_partner  2015  \n",
       "\n",
       "[1 rows x 35 columns]"
      ]
     },
     "execution_count": 10,
     "metadata": {},
     "output_type": "execute_result"
    }
   ],
   "source": [
    "# verifying empty rows were always empty\n",
    "old_kiva[old_kiva['LOAN_ID']==877280]"
   ]
  },
  {
   "cell_type": "code",
   "execution_count": 21,
   "metadata": {},
   "outputs": [],
   "source": [
    "# dropping empty rows\n",
    "kiva_kenya.dropna(inplace=True)"
   ]
  },
  {
   "cell_type": "code",
   "execution_count": 22,
   "metadata": {},
   "outputs": [
    {
     "name": "stdout",
     "output_type": "stream",
     "text": [
      "<class 'pandas.core.frame.DataFrame'>\n",
      "Int64Index: 51019 entries, 0 to 51169\n",
      "Data columns (total 8 columns):\n",
      " #   Column                  Non-Null Count  Dtype \n",
      "---  ------                  --------------  ----- \n",
      " 0   LOAN_ID                 51019 non-null  int64 \n",
      " 1   COUNTRY_NAME            51019 non-null  object\n",
      " 2   STATUS                  51019 non-null  int64 \n",
      " 3   DESCRIPTION_TRANSLATED  51019 non-null  object\n",
      " 4   LOAN_USE                51019 non-null  object\n",
      " 5   TAGS                    51019 non-null  object\n",
      " 6   all_text                51019 non-null  object\n",
      " 7   joined_text             51019 non-null  object\n",
      "dtypes: int64(2), object(6)\n",
      "memory usage: 3.5+ MB\n"
     ]
    }
   ],
   "source": [
    "kiva_kenya.info()"
   ]
  },
  {
   "cell_type": "markdown",
   "metadata": {},
   "source": [
    "### Modeling Combined Text Data to Reproduce Logistic Regression Model from Above Section"
   ]
  },
  {
   "cell_type": "code",
   "execution_count": 24,
   "metadata": {},
   "outputs": [],
   "source": [
    "# defining variables for models\n",
    "X = kiva_kenya['joined_text']\n",
    "y = kiva_kenya['STATUS']"
   ]
  },
  {
   "cell_type": "code",
   "execution_count": 25,
   "metadata": {},
   "outputs": [
    {
     "data": {
      "text/plain": [
       "1    0.784041\n",
       "0    0.215959\n",
       "Name: STATUS, dtype: float64"
      ]
     },
     "execution_count": 25,
     "metadata": {},
     "output_type": "execute_result"
    }
   ],
   "source": [
    "# null model values\n",
    "y.value_counts(normalize=True)"
   ]
  },
  {
   "cell_type": "code",
   "execution_count": 26,
   "metadata": {},
   "outputs": [],
   "source": [
    "X_train, X_test, y_train, y_test = train_test_split(X, y, stratify=y, random_state=42)"
   ]
  },
  {
   "cell_type": "code",
   "execution_count": 79,
   "metadata": {},
   "outputs": [
    {
     "data": {
      "text/plain": [
       "(38264, 292840)"
      ]
     },
     "execution_count": 79,
     "metadata": {},
     "output_type": "execute_result"
    }
   ],
   "source": [
    "# checking number of features\n",
    "X_train_tdvec.shape"
   ]
  },
  {
   "cell_type": "code",
   "execution_count": 138,
   "metadata": {},
   "outputs": [],
   "source": [
    "# vectorizing data added max_features to improve score and produced same results as earlier\n",
    "tdvec = TfidfVectorizer(ngram_range=(1,2), max_features=20_000)\n",
    "X_train_tdvec = tdvec.fit_transform(X_train)\n",
    "X_test_tdvec = tdvec.transform(X_test)"
   ]
  },
  {
   "cell_type": "code",
   "execution_count": 139,
   "metadata": {},
   "outputs": [
    {
     "data": {
      "text/plain": [
       "LogisticRegression(max_iter=1000)"
      ]
     },
     "execution_count": 139,
     "metadata": {},
     "output_type": "execute_result"
    }
   ],
   "source": [
    "# instantiating and fitting logestic regression model\n",
    "logreg = LogisticRegression(max_iter=1000)\n",
    "logreg.fit(X_train_tdvec, y_train)"
   ]
  },
  {
   "cell_type": "code",
   "execution_count": 140,
   "metadata": {},
   "outputs": [
    {
     "name": "stdout",
     "output_type": "stream",
     "text": [
      "Train score: 0.8421231444699979\n",
      "Test score: 0.8210113680909448\n"
     ]
    }
   ],
   "source": [
    "# scoring logistic regression\n",
    "print(f'Train score: {logreg.score(X_train_tdvec, y_train)}')\n",
    "print(f'Test score: {logreg.score(X_test_tdvec, y_test)}')"
   ]
  },
  {
   "cell_type": "code",
   "execution_count": 141,
   "metadata": {},
   "outputs": [],
   "source": [
    "# creating predictions from test data\n",
    "logreg_preds = logreg.predict(X_test_tdvec)"
   ]
  },
  {
   "cell_type": "code",
   "execution_count": 142,
   "metadata": {},
   "outputs": [
    {
     "data": {
      "image/png": "[encoded data removed]",
      "text/plain": [
       "<Figure size 432x288 with 2 Axes>"
      ]
     },
     "metadata": {
      "needs_background": "light"
     },
     "output_type": "display_data"
    }
   ],
   "source": [
    "# showing predictions vs true status where 0=expired and 1=funded\n",
    "logreg_cm = confusion_matrix(y_test, logreg_preds)\n",
    "ConfusionMatrixDisplay(logreg_cm).plot();"
   ]
  },
  {
   "cell_type": "code",
   "execution_count": 143,
   "metadata": {},
   "outputs": [
    {
     "name": "stdout",
     "output_type": "stream",
     "text": [
      "ROC AUC: 0.6391781306715063\n"
     ]
    }
   ],
   "source": [
    "print(f'ROC AUC: {roc_auc_score(y_test, logreg_preds)}')"
   ]
  },
  {
   "cell_type": "code",
   "execution_count": 144,
   "metadata": {},
   "outputs": [
    {
     "name": "stdout",
     "output_type": "stream",
     "text": [
      "              precision    recall  f1-score   support\n",
      "\n",
      "           0       0.68      0.32      0.44      2755\n",
      "           1       0.84      0.96      0.89     10000\n",
      "\n",
      "    accuracy                           0.82     12755\n",
      "   macro avg       0.76      0.64      0.66     12755\n",
      "weighted avg       0.80      0.82      0.79     12755\n",
      "\n"
     ]
    }
   ],
   "source": [
    "print(classification_report(y_test, logreg_preds))"
   ]
  },
  {
   "cell_type": "markdown",
   "metadata": {},
   "source": [
    "I used NLP (natural language processing) to see if we could determine whether or not a Kiva loan would be funded based off the words used in the loan request. My independent variable was a combination of the loan description translated into English, the tags associated with the loan and a short description of what the loan will be used for. My dependent variable is whether a loan was funded or expired. For my model, I only focused on loans from Kenya. \\\n",
    "\\\n",
    "To preprocess the data, I removed punctuation from the text and plural forms of words to make the words more uniform. I also removed common english words that don't lend much to predictions. I turned my text into a structured numeric dataframe using Tf-IDF Vectorizer which scores words on their importance when used in one document relative to all other documents and gives more weight to words used often in one document but not used in others. I used an ngram range of (1,2) looking at not only single words but also words combined with one of their adjacent words. I also used a max of the top 20,000 features when creating the corpus. \\\n",
    "\\\n",
    "For modeling, I used a logistic regression model to predict the outcome of a loan and classify it as either funded or expired. On the training data we received a score of .84 and on testing data we have a score of .82. This shows that our model has a good fit on the data. It's also an improvement of 4pts above our null model which had a score of .78. This tells us there are word combinations in the data that aren't impacting the dependent variable, but the model is performing at a decent rate where 1.0 is perfect. \\\n",
    "\\\n",
    "We have an accuracy rate of .82 when predicting whether a loan will be funded or expired. Our model performs well when predicting funded models but not so much when predicting a loan will expire without being funded. For our funded predictions, we have a precision score of .84 which tells us out of all the loans we predicted to be funded 84% actually were. Our recall score is .96, which tells us that out of all the loans that were funded we predicted 96% of those correctly. Our f1-score of .89 is a weighted average of the precision and recall scores and tells us how well we did when predicting a loan will be funded. \\\n",
    "\\\n",
    "Unfortunately, the model does not perform as well for expired loans. Only 68% of our predictions for expired loans were correct, and out of all the loans that were expired, we only predicted 32% of those correctly. Our weighted average for expired loans, or f1-score is .44. \\\n",
    "\\\n",
    "Since we are more interested in finding words that improve the chances of a loan being funded, I created a dataframe showing how each word impacts the prediction. From the dataframe, we can see that smaller loans are more likely to be funded, specifically loan with kes 20,000 (with kes meaning Kenyan Shillings) and kes 30,000 in the description are more likely to be funded than any other amount, and requests for kes 60,000 or more negatively impact your chances of funding. Also, women borrowers are more likely to receive full funding than men. Specifically the following word combinations have a positive impact on funding: single parent, single mother/mom, widow, group farmer and the user_favorite tag. Some word combinations that negatively impact funding are mentioning man, married man or father. Mentioning motorcycle or shop also negatively impact the likelihood of funding. Something else to take note of is that parent by itself negatively impacts funding but single parent has one of the 6th highest positive impact score. "
   ]
  },
  {
   "cell_type": "code",
   "execution_count": 145,
   "metadata": {},
   "outputs": [],
   "source": [
    "# creating dataframe of coefs\n",
    "word_coef_df = pd.DataFrame({'coefs': logreg.coef_[0], 'features': tdvec.get_feature_names()})\n",
    "# word_coef_df.sort_values(by='coefs',ascending=False,inplace=True)"
   ]
  },
  {
   "cell_type": "code",
   "execution_count": 151,
   "metadata": {},
   "outputs": [
    {
     "data": {
      "text/html": [
       "<div>\n",
       "<style scoped>\n",
       "    .dataframe tbody tr th:only-of-type {\n",
       "        vertical-align: middle;\n",
       "    }\n",
       "\n",
       "    .dataframe tbody tr th {\n",
       "        vertical-align: top;\n",
       "    }\n",
       "\n",
       "    .dataframe thead th {\n",
       "        text-align: right;\n",
       "    }\n",
       "</style>\n",
       "<table border=\"1\" class=\"dataframe\">\n",
       "  <thead>\n",
       "    <tr style=\"text-align: right;\">\n",
       "      <th></th>\n",
       "      <th>coefs</th>\n",
       "      <th>features</th>\n",
       "    </tr>\n",
       "  </thead>\n",
       "  <tbody>\n",
       "    <tr>\n",
       "      <th>95</th>\n",
       "      <td>5.657314</td>\n",
       "      <td>20 000</td>\n",
       "    </tr>\n",
       "    <tr>\n",
       "      <th>178</th>\n",
       "      <td>3.543666</td>\n",
       "      <td>30 000</td>\n",
       "    </tr>\n",
       "    <tr>\n",
       "      <th>10362</th>\n",
       "      <td>3.511416</td>\n",
       "      <td>kes 20</td>\n",
       "    </tr>\n",
       "    <tr>\n",
       "      <th>94</th>\n",
       "      <td>3.492091</td>\n",
       "      <td>20</td>\n",
       "    </tr>\n",
       "    <tr>\n",
       "      <th>18866</th>\n",
       "      <td>3.455082</td>\n",
       "      <td>user_favorite</td>\n",
       "    </tr>\n",
       "    <tr>\n",
       "      <th>17068</th>\n",
       "      <td>3.174807</td>\n",
       "      <td>single parent</td>\n",
       "    </tr>\n",
       "    <tr>\n",
       "      <th>17065</th>\n",
       "      <td>2.825557</td>\n",
       "      <td>single mother</td>\n",
       "    </tr>\n",
       "    <tr>\n",
       "      <th>19509</th>\n",
       "      <td>2.508753</td>\n",
       "      <td>widowed</td>\n",
       "    </tr>\n",
       "    <tr>\n",
       "      <th>177</th>\n",
       "      <td>2.384389</td>\n",
       "      <td>30</td>\n",
       "    </tr>\n",
       "    <tr>\n",
       "      <th>19505</th>\n",
       "      <td>2.325668</td>\n",
       "      <td>widow</td>\n",
       "    </tr>\n",
       "    <tr>\n",
       "      <th>74</th>\n",
       "      <td>2.314914</td>\n",
       "      <td>15 000</td>\n",
       "    </tr>\n",
       "    <tr>\n",
       "      <th>30</th>\n",
       "      <td>2.199607</td>\n",
       "      <td>10 000</td>\n",
       "    </tr>\n",
       "    <tr>\n",
       "      <th>10349</th>\n",
       "      <td>2.174054</td>\n",
       "      <td>kes 000</td>\n",
       "    </tr>\n",
       "    <tr>\n",
       "      <th>10365</th>\n",
       "      <td>2.149991</td>\n",
       "      <td>kes 30</td>\n",
       "    </tr>\n",
       "    <tr>\n",
       "      <th>17064</th>\n",
       "      <td>2.109488</td>\n",
       "      <td>single mom</td>\n",
       "    </tr>\n",
       "    <tr>\n",
       "      <th>19192</th>\n",
       "      <td>2.097418</td>\n",
       "      <td>wa</td>\n",
       "    </tr>\n",
       "    <tr>\n",
       "      <th>18883</th>\n",
       "      <td>2.078606</td>\n",
       "      <td>user_favorite user_favorite</td>\n",
       "    </tr>\n",
       "    <tr>\n",
       "      <th>8055</th>\n",
       "      <td>2.044095</td>\n",
       "      <td>group farmer</td>\n",
       "    </tr>\n",
       "    <tr>\n",
       "      <th>8022</th>\n",
       "      <td>2.039109</td>\n",
       "      <td>grew</td>\n",
       "    </tr>\n",
       "    <tr>\n",
       "      <th>19328</th>\n",
       "      <td>1.925584</td>\n",
       "      <td>water</td>\n",
       "    </tr>\n",
       "  </tbody>\n",
       "</table>\n",
       "</div>"
      ],
      "text/plain": [
       "          coefs                     features\n",
       "95     5.657314                       20 000\n",
       "178    3.543666                       30 000\n",
       "10362  3.511416                       kes 20\n",
       "94     3.492091                           20\n",
       "18866  3.455082                user_favorite\n",
       "17068  3.174807                single parent\n",
       "17065  2.825557                single mother\n",
       "19509  2.508753                      widowed\n",
       "177    2.384389                           30\n",
       "19505  2.325668                        widow\n",
       "74     2.314914                       15 000\n",
       "30     2.199607                       10 000\n",
       "10349  2.174054                      kes 000\n",
       "10365  2.149991                       kes 30\n",
       "17064  2.109488                   single mom\n",
       "19192  2.097418                           wa\n",
       "18883  2.078606  user_favorite user_favorite\n",
       "8055   2.044095                 group farmer\n",
       "8022   2.039109                         grew\n",
       "19328  1.925584                        water"
      ]
     },
     "execution_count": 151,
     "metadata": {},
     "output_type": "execute_result"
    }
   ],
   "source": [
    "# top 20 features and their coefficients\n",
    "word_coef_df.nlargest(20, 'coefs')"
   ]
  },
  {
   "cell_type": "code",
   "execution_count": 149,
   "metadata": {},
   "outputs": [
    {
     "data": {
      "text/html": [
       "<div>\n",
       "<style scoped>\n",
       "    .dataframe tbody tr th:only-of-type {\n",
       "        vertical-align: middle;\n",
       "    }\n",
       "\n",
       "    .dataframe tbody tr th {\n",
       "        vertical-align: top;\n",
       "    }\n",
       "\n",
       "    .dataframe thead th {\n",
       "        text-align: right;\n",
       "    }\n",
       "</style>\n",
       "<table border=\"1\" class=\"dataframe\">\n",
       "  <thead>\n",
       "    <tr style=\"text-align: right;\">\n",
       "      <th></th>\n",
       "      <th>coefs</th>\n",
       "      <th>features</th>\n",
       "    </tr>\n",
       "  </thead>\n",
       "  <tbody>\n",
       "    <tr>\n",
       "      <th>42</th>\n",
       "      <td>-4.469611</td>\n",
       "      <td>100 000</td>\n",
       "    </tr>\n",
       "    <tr>\n",
       "      <th>41</th>\n",
       "      <td>-4.370316</td>\n",
       "      <td>100</td>\n",
       "    </tr>\n",
       "    <tr>\n",
       "      <th>11990</th>\n",
       "      <td>-4.066097</td>\n",
       "      <td>man</td>\n",
       "    </tr>\n",
       "    <tr>\n",
       "      <th>81</th>\n",
       "      <td>-2.806446</td>\n",
       "      <td>150 000</td>\n",
       "    </tr>\n",
       "    <tr>\n",
       "      <th>80</th>\n",
       "      <td>-2.754315</td>\n",
       "      <td>150</td>\n",
       "    </tr>\n",
       "    <tr>\n",
       "      <th>289</th>\n",
       "      <td>-2.738951</td>\n",
       "      <td>80 000</td>\n",
       "    </tr>\n",
       "    <tr>\n",
       "      <th>60</th>\n",
       "      <td>-2.732628</td>\n",
       "      <td>120 000</td>\n",
       "    </tr>\n",
       "    <tr>\n",
       "      <th>16941</th>\n",
       "      <td>-2.706685</td>\n",
       "      <td>shop</td>\n",
       "    </tr>\n",
       "    <tr>\n",
       "      <th>13195</th>\n",
       "      <td>-2.685128</td>\n",
       "      <td>nhe</td>\n",
       "    </tr>\n",
       "    <tr>\n",
       "      <th>10351</th>\n",
       "      <td>-2.659260</td>\n",
       "      <td>kes 100</td>\n",
       "    </tr>\n",
       "    <tr>\n",
       "      <th>288</th>\n",
       "      <td>-2.604753</td>\n",
       "      <td>80</td>\n",
       "    </tr>\n",
       "    <tr>\n",
       "      <th>59</th>\n",
       "      <td>-2.534121</td>\n",
       "      <td>120</td>\n",
       "    </tr>\n",
       "    <tr>\n",
       "      <th>13837</th>\n",
       "      <td>-2.485459</td>\n",
       "      <td>parent</td>\n",
       "    </tr>\n",
       "    <tr>\n",
       "      <th>274</th>\n",
       "      <td>-2.353263</td>\n",
       "      <td>70</td>\n",
       "    </tr>\n",
       "    <tr>\n",
       "      <th>6690</th>\n",
       "      <td>-2.320343</td>\n",
       "      <td>father</td>\n",
       "    </tr>\n",
       "    <tr>\n",
       "      <th>248</th>\n",
       "      <td>-2.308350</td>\n",
       "      <td>60 000</td>\n",
       "    </tr>\n",
       "    <tr>\n",
       "      <th>12219</th>\n",
       "      <td>-2.267372</td>\n",
       "      <td>married man</td>\n",
       "    </tr>\n",
       "    <tr>\n",
       "      <th>12874</th>\n",
       "      <td>-2.260192</td>\n",
       "      <td>motorcycle</td>\n",
       "    </tr>\n",
       "    <tr>\n",
       "      <th>10355</th>\n",
       "      <td>-2.257945</td>\n",
       "      <td>kes 120</td>\n",
       "    </tr>\n",
       "    <tr>\n",
       "      <th>11347</th>\n",
       "      <td>-2.192215</td>\n",
       "      <td>loan</td>\n",
       "    </tr>\n",
       "  </tbody>\n",
       "</table>\n",
       "</div>"
      ],
      "text/plain": [
       "          coefs     features\n",
       "42    -4.469611      100 000\n",
       "41    -4.370316          100\n",
       "11990 -4.066097          man\n",
       "81    -2.806446      150 000\n",
       "80    -2.754315          150\n",
       "289   -2.738951       80 000\n",
       "60    -2.732628      120 000\n",
       "16941 -2.706685         shop\n",
       "13195 -2.685128          nhe\n",
       "10351 -2.659260      kes 100\n",
       "288   -2.604753           80\n",
       "59    -2.534121          120\n",
       "13837 -2.485459       parent\n",
       "274   -2.353263           70\n",
       "6690  -2.320343       father\n",
       "248   -2.308350       60 000\n",
       "12219 -2.267372  married man\n",
       "12874 -2.260192   motorcycle\n",
       "10355 -2.257945      kes 120\n",
       "11347 -2.192215         loan"
      ]
     },
     "execution_count": 149,
     "metadata": {},
     "output_type": "execute_result"
    }
   ],
   "source": [
    "# lowest 20 features and their coefficients\n",
    "word_coef_df.nsmallest(20, 'coefs')"
   ]
  },
  {
   "cell_type": "code",
   "execution_count": null,
   "metadata": {},
   "outputs": [],
   "source": []
  }
 ],
 "metadata": {
  "kernelspec": {
   "display_name": "Python 3",
   "language": "python",
   "name": "python3"
  },
  "language_info": {
   "codemirror_mode": {
    "name": "ipython",
    "version": 3
   },
   "file_extension": ".py",
   "mimetype": "text/x-python",
   "name": "python",
   "nbconvert_exporter": "python",
   "pygments_lexer": "ipython3",
   "version": "3.8.5"
  }
 },
 "nbformat": 4,
 "nbformat_minor": 4
}
