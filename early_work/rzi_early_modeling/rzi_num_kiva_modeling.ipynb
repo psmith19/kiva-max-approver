{
 "cells": [
  {
   "cell_type": "markdown",
   "metadata": {},
   "source": [
    "#"
   ]
  },
  {
   "cell_type": "code",
   "execution_count": 1,
   "metadata": {},
   "outputs": [],
   "source": [
    "import pandas as pd\n",
    "import numpy as np\n",
    "import matplotlib.pyplot as plt\n",
    "import seaborn as sns\n",
    "\n",
    "#modeling\n",
    "from sklearn.preprocessing import StandardScaler\n",
    "from sklearn.pipeline import Pipeline\n",
    "from sklearn.metrics import accuracy_score, precision_score, f1_score, confusion_matrix, ConfusionMatrixDisplay, roc_auc_score\n",
    "from sklearn.model_selection import train_test_split, cross_val_score, GridSearchCV, RandomizedSearchCV\n",
    "from sklearn.linear_model import LogisticRegression\n",
    "from sklearn.neighbors import KNeighborsClassifier\n",
    "from sklearn.tree import DecisionTreeClassifier\n",
    "from sklearn.ensemble import BaggingClassifier, RandomForestClassifier, AdaBoostClassifier, ExtraTreesClassifier, GradientBoostingClassifier\n",
    "from sklearn.svm import SVC"
   ]
  },
  {
   "cell_type": "code",
   "execution_count": 2,
   "metadata": {},
   "outputs": [],
   "source": [
    "kiva = pd.read_csv('data/kivasmall.csv')"
   ]
  },
  {
   "cell_type": "code",
   "execution_count": 3,
   "metadata": {},
   "outputs": [
    {
     "data": {
      "text/plain": [
       "(344588, 22)"
      ]
     },
     "execution_count": 3,
     "metadata": {},
     "output_type": "execute_result"
    }
   ],
   "source": [
    "kiva.shape"
   ]
  },
  {
   "cell_type": "markdown",
   "metadata": {},
   "source": [
    "Variables of interest: \n",
    "\n"
   ]
  },
  {
   "cell_type": "code",
   "execution_count": 4,
   "metadata": {},
   "outputs": [
    {
     "data": {
      "text/html": [
       "<div>\n",
       "<style scoped>\n",
       "    .dataframe tbody tr th:only-of-type {\n",
       "        vertical-align: middle;\n",
       "    }\n",
       "\n",
       "    .dataframe tbody tr th {\n",
       "        vertical-align: top;\n",
       "    }\n",
       "\n",
       "    .dataframe thead th {\n",
       "        text-align: right;\n",
       "    }\n",
       "</style>\n",
       "<table border=\"1\" class=\"dataframe\">\n",
       "  <thead>\n",
       "    <tr style=\"text-align: right;\">\n",
       "      <th></th>\n",
       "      <th>ORIGINAL_LANGUAGE</th>\n",
       "      <th>LOAN_AMOUNT</th>\n",
       "      <th>STATUS</th>\n",
       "      <th>ACTIVITY_NAME</th>\n",
       "      <th>SECTOR_NAME</th>\n",
       "      <th>COUNTRY_CODE</th>\n",
       "      <th>LENDER_TERM</th>\n",
       "      <th>REPAYMENT_INTERVAL</th>\n",
       "      <th>DISTRIBUTION_MODEL</th>\n",
       "      <th>word_count_DT</th>\n",
       "      <th>...</th>\n",
       "      <th>char_count_DT</th>\n",
       "      <th>char_count_TAGS</th>\n",
       "      <th>char_count_LU</th>\n",
       "      <th>month</th>\n",
       "      <th>FEM_COUNT</th>\n",
       "      <th>MALE_COUNT</th>\n",
       "      <th>PIC_TRUE_COUNT</th>\n",
       "      <th>PIC_FALSE_COUNT</th>\n",
       "      <th>ANY_FEM</th>\n",
       "      <th>ANY_MALE</th>\n",
       "    </tr>\n",
       "  </thead>\n",
       "  <tbody>\n",
       "    <tr>\n",
       "      <th>0</th>\n",
       "      <td>Spanish</td>\n",
       "      <td>1075.0</td>\n",
       "      <td>1</td>\n",
       "      <td>Natural Medicines</td>\n",
       "      <td>Health</td>\n",
       "      <td>EC</td>\n",
       "      <td>6.0</td>\n",
       "      <td>monthly</td>\n",
       "      <td>field_partner</td>\n",
       "      <td>192</td>\n",
       "      <td>...</td>\n",
       "      <td>924</td>\n",
       "      <td>36</td>\n",
       "      <td>26</td>\n",
       "      <td>1</td>\n",
       "      <td>1</td>\n",
       "      <td>1</td>\n",
       "      <td>1</td>\n",
       "      <td>0</td>\n",
       "      <td>1</td>\n",
       "      <td>1</td>\n",
       "    </tr>\n",
       "    <tr>\n",
       "      <th>1</th>\n",
       "      <td>English</td>\n",
       "      <td>400.0</td>\n",
       "      <td>0</td>\n",
       "      <td>Personal Products Sales</td>\n",
       "      <td>Retail</td>\n",
       "      <td>PH</td>\n",
       "      <td>14.0</td>\n",
       "      <td>monthly</td>\n",
       "      <td>field_partner</td>\n",
       "      <td>75</td>\n",
       "      <td>...</td>\n",
       "      <td>371</td>\n",
       "      <td>28</td>\n",
       "      <td>69</td>\n",
       "      <td>3</td>\n",
       "      <td>1</td>\n",
       "      <td>1</td>\n",
       "      <td>1</td>\n",
       "      <td>0</td>\n",
       "      <td>1</td>\n",
       "      <td>1</td>\n",
       "    </tr>\n",
       "  </tbody>\n",
       "</table>\n",
       "<p>2 rows × 22 columns</p>\n",
       "</div>"
      ],
      "text/plain": [
       "  ORIGINAL_LANGUAGE  LOAN_AMOUNT  STATUS            ACTIVITY_NAME SECTOR_NAME  \\\n",
       "0           Spanish       1075.0       1        Natural Medicines      Health   \n",
       "1           English        400.0       0  Personal Products Sales      Retail   \n",
       "\n",
       "  COUNTRY_CODE  LENDER_TERM REPAYMENT_INTERVAL DISTRIBUTION_MODEL  \\\n",
       "0           EC          6.0            monthly      field_partner   \n",
       "1           PH         14.0            monthly      field_partner   \n",
       "\n",
       "   word_count_DT  ...  char_count_DT  char_count_TAGS  char_count_LU  month  \\\n",
       "0            192  ...            924               36             26      1   \n",
       "1             75  ...            371               28             69      3   \n",
       "\n",
       "   FEM_COUNT  MALE_COUNT  PIC_TRUE_COUNT  PIC_FALSE_COUNT  ANY_FEM  ANY_MALE  \n",
       "0          1           1               1                0        1         1  \n",
       "1          1           1               1                0        1         1  \n",
       "\n",
       "[2 rows x 22 columns]"
      ]
     },
     "execution_count": 4,
     "metadata": {},
     "output_type": "execute_result"
    }
   ],
   "source": [
    "kiva.head(2)"
   ]
  },
  {
   "cell_type": "code",
   "execution_count": 5,
   "metadata": {},
   "outputs": [
    {
     "data": {
      "text/plain": [
       "ORIGINAL_LANGUAGE      0\n",
       "LOAN_AMOUNT            0\n",
       "STATUS                 0\n",
       "ACTIVITY_NAME          0\n",
       "SECTOR_NAME            0\n",
       "COUNTRY_CODE          11\n",
       "LENDER_TERM            0\n",
       "REPAYMENT_INTERVAL     0\n",
       "DISTRIBUTION_MODEL     0\n",
       "word_count_DT          0\n",
       "word_count_TAGS        0\n",
       "word_count_LU          0\n",
       "char_count_DT          0\n",
       "char_count_TAGS        0\n",
       "char_count_LU          0\n",
       "month                  0\n",
       "FEM_COUNT              0\n",
       "MALE_COUNT             0\n",
       "PIC_TRUE_COUNT         0\n",
       "PIC_FALSE_COUNT        0\n",
       "ANY_FEM                0\n",
       "ANY_MALE               0\n",
       "dtype: int64"
      ]
     },
     "execution_count": 5,
     "metadata": {},
     "output_type": "execute_result"
    }
   ],
   "source": [
    "kiva.isnull().sum()"
   ]
  },
  {
   "cell_type": "code",
   "execution_count": 6,
   "metadata": {},
   "outputs": [],
   "source": [
    "fill_values = {'ORIGINAL_LANGUAGE' : 'MISSING', 'BORROWER_GENDERS' : 'MISSING', 'BORROWER_PICTURED' : 'MISSING', 'COUNTRY_CODE':'MISSING' }\n",
    "kiva .fillna(value = fill_values, inplace=True)"
   ]
  },
  {
   "cell_type": "code",
   "execution_count": 7,
   "metadata": {},
   "outputs": [
    {
     "data": {
      "text/plain": [
       "ORIGINAL_LANGUAGE     0\n",
       "LOAN_AMOUNT           0\n",
       "STATUS                0\n",
       "ACTIVITY_NAME         0\n",
       "SECTOR_NAME           0\n",
       "COUNTRY_CODE          0\n",
       "LENDER_TERM           0\n",
       "REPAYMENT_INTERVAL    0\n",
       "DISTRIBUTION_MODEL    0\n",
       "word_count_DT         0\n",
       "word_count_TAGS       0\n",
       "word_count_LU         0\n",
       "char_count_DT         0\n",
       "char_count_TAGS       0\n",
       "char_count_LU         0\n",
       "month                 0\n",
       "FEM_COUNT             0\n",
       "MALE_COUNT            0\n",
       "PIC_TRUE_COUNT        0\n",
       "PIC_FALSE_COUNT       0\n",
       "ANY_FEM               0\n",
       "ANY_MALE              0\n",
       "dtype: int64"
      ]
     },
     "execution_count": 7,
     "metadata": {},
     "output_type": "execute_result"
    }
   ],
   "source": [
    "kiva.isnull().sum()"
   ]
  },
  {
   "cell_type": "code",
   "execution_count": 8,
   "metadata": {},
   "outputs": [
    {
     "data": {
      "text/plain": [
       "1     290804\n",
       "2       8030\n",
       "3       7982\n",
       "4       6486\n",
       "5       6426\n",
       "8       2799\n",
       "6       2565\n",
       "10      2494\n",
       "7       2151\n",
       "9       2094\n",
       "11      1613\n",
       "12      1491\n",
       "15      1277\n",
       "13      1256\n",
       "14      1053\n",
       "16      1003\n",
       "17       733\n",
       "20       661\n",
       "18       574\n",
       "19       540\n",
       "21       406\n",
       "22       343\n",
       "23       308\n",
       "25       256\n",
       "24       236\n",
       "26       196\n",
       "30       141\n",
       "27       139\n",
       "28       113\n",
       "29       103\n",
       "31        67\n",
       "32        37\n",
       "35        35\n",
       "34        33\n",
       "33        32\n",
       "37        23\n",
       "38        20\n",
       "36        16\n",
       "40        10\n",
       "41         7\n",
       "43         6\n",
       "44         6\n",
       "39         6\n",
       "42         6\n",
       "50         4\n",
       "45         2\n",
       "48         2\n",
       "46         1\n",
       "47         1\n",
       "49         1\n",
       "Name: MALE_COUNT, dtype: int64"
      ]
     },
     "execution_count": 8,
     "metadata": {},
     "output_type": "execute_result"
    }
   ],
   "source": [
    "kiva['MALE_COUNT'].value_counts()"
   ]
  },
  {
   "cell_type": "code",
   "execution_count": 9,
   "metadata": {},
   "outputs": [
    {
     "data": {
      "text/plain": [
       "Index(['ORIGINAL_LANGUAGE', 'LOAN_AMOUNT', 'STATUS', 'ACTIVITY_NAME',\n",
       "       'SECTOR_NAME', 'COUNTRY_CODE', 'LENDER_TERM', 'REPAYMENT_INTERVAL',\n",
       "       'DISTRIBUTION_MODEL', 'word_count_DT', 'word_count_TAGS',\n",
       "       'word_count_LU', 'char_count_DT', 'char_count_TAGS', 'char_count_LU',\n",
       "       'month', 'FEM_COUNT', 'MALE_COUNT', 'PIC_TRUE_COUNT', 'PIC_FALSE_COUNT',\n",
       "       'ANY_FEM', 'ANY_MALE'],\n",
       "      dtype='object')"
      ]
     },
     "execution_count": 9,
     "metadata": {},
     "output_type": "execute_result"
    }
   ],
   "source": [
    "kiva.columns"
   ]
  },
  {
   "cell_type": "code",
   "execution_count": 10,
   "metadata": {},
   "outputs": [
    {
     "data": {
      "text/plain": [
       "ORIGINAL_LANGUAGE      object\n",
       "LOAN_AMOUNT           float64\n",
       "STATUS                  int64\n",
       "ACTIVITY_NAME          object\n",
       "SECTOR_NAME            object\n",
       "COUNTRY_CODE           object\n",
       "LENDER_TERM           float64\n",
       "REPAYMENT_INTERVAL     object\n",
       "DISTRIBUTION_MODEL     object\n",
       "word_count_DT           int64\n",
       "word_count_TAGS         int64\n",
       "word_count_LU           int64\n",
       "char_count_DT           int64\n",
       "char_count_TAGS         int64\n",
       "char_count_LU           int64\n",
       "month                   int64\n",
       "FEM_COUNT               int64\n",
       "MALE_COUNT              int64\n",
       "PIC_TRUE_COUNT          int64\n",
       "PIC_FALSE_COUNT         int64\n",
       "ANY_FEM                 int64\n",
       "ANY_MALE                int64\n",
       "dtype: object"
      ]
     },
     "execution_count": 10,
     "metadata": {},
     "output_type": "execute_result"
    }
   ],
   "source": [
    "kiva.dtypes"
   ]
  },
  {
   "cell_type": "code",
   "execution_count": 11,
   "metadata": {},
   "outputs": [
    {
     "data": {
      "text/plain": [
       "(344588, 22)"
      ]
     },
     "execution_count": 11,
     "metadata": {},
     "output_type": "execute_result"
    }
   ],
   "source": [
    "kiva.shape"
   ]
  },
  {
   "cell_type": "code",
   "execution_count": 12,
   "metadata": {},
   "outputs": [
    {
     "name": "stdout",
     "output_type": "stream",
     "text": [
      "                    count      mean\n",
      "ACTIVITY_NAME                      \n",
      "Adult Care              3  1.000000\n",
      "Agriculture         11207  0.749353\n",
      "Air Conditioning       16  1.000000\n",
      "Animal Sales         4121  0.801747\n",
      "Aquaculture           250  0.920000\n",
      "...                   ...       ...\n",
      "Water Distribution    246  0.947154\n",
      "Weaving              1529  0.998692\n",
      "Wedding Expenses      251  0.478088\n",
      "Well digging           17  1.000000\n",
      "Wholesale             171  0.865497\n",
      "\n",
      "[163 rows x 2 columns]\n",
      "                count      mean\n",
      "SECTOR_NAME                    \n",
      "Agriculture     96871  0.791558\n",
      "Arts             6383  0.978067\n",
      "Clothing        16964  0.761318\n",
      "Construction     3080  0.828247\n",
      "Education       16442  0.954203\n",
      "Entertainment     304  0.898026\n",
      "Food            64776  0.813851\n",
      "Health           7387  0.770407\n",
      "Housing         22534  0.832076\n",
      "Manufacturing    2361  0.991953\n",
      "Personal Use    18302  0.919462\n",
      "Retail          56794  0.756559\n",
      "Services        23953  0.792594\n",
      "Transportation   8161  0.653964\n",
      "Wholesale         276  0.873188\n",
      "              count      mean\n",
      "COUNTRY_CODE                 \n",
      "AF                1  1.000000\n",
      "AL             1406  0.632290\n",
      "AM             4961  0.536585\n",
      "AZ              368  0.619565\n",
      "BD                1  1.000000\n",
      "...             ...       ...\n",
      "XK              772  0.568653\n",
      "YE              215  0.860465\n",
      "ZA               98  1.000000\n",
      "ZM              456  0.914474\n",
      "ZW             2405  0.945114\n",
      "\n",
      "[84 rows x 2 columns]\n",
      "                     count      mean\n",
      "REPAYMENT_INTERVAL                  \n",
      "bullet               37198  0.762165\n",
      "irregular            16873  0.755586\n",
      "monthly             290517  0.816166\n",
      "                     count      mean\n",
      "DISTRIBUTION_MODEL                  \n",
      "direct                1979  0.702375\n",
      "field_partner       342609  0.807976\n",
      "       count      mean\n",
      "month                 \n",
      "0      31823  0.781856\n",
      "1      55338  0.816148\n",
      "2      49545  0.881078\n",
      "3      29950  0.852721\n",
      "4      28101  0.791431\n",
      "5      31845  0.749129\n",
      "6      28846  0.769327\n",
      "7      31126  0.739285\n",
      "8      28666  0.817414\n",
      "9      29348  0.826019\n"
     ]
    }
   ],
   "source": [
    "catcols = ['ORIGINAL_LANGUAGE', 'ACTIVITY_NAME', 'SECTOR_NAME', 'COUNTRY_CODE', 'REPAYMENT_INTERVAL', 'DISTRIBUTION_MODEL', 'month']\n",
    "\n",
    "for i in range(1,len(catcols)):\n",
    "    print(kiva.groupby(catcols[i], dropna=False)['STATUS'].agg(['count', 'mean']))\n",
    "    #print(pd.pivot_table(df, columns = totcols[i], aggfunc=np.count))"
   ]
  },
  {
   "cell_type": "code",
   "execution_count": 13,
   "metadata": {},
   "outputs": [],
   "source": [
    "kiva_dummies = pd.get_dummies(kiva, drop_first=True)"
   ]
  },
  {
   "cell_type": "code",
   "execution_count": 14,
   "metadata": {},
   "outputs": [
    {
     "data": {
      "text/plain": [
       "(344588, 282)"
      ]
     },
     "execution_count": 14,
     "metadata": {},
     "output_type": "execute_result"
    }
   ],
   "source": [
    "kiva_dummies.shape"
   ]
  },
  {
   "cell_type": "code",
   "execution_count": 15,
   "metadata": {},
   "outputs": [],
   "source": [
    "kiva_dummies_small = kiva_dummies.sample(340_000)"
   ]
  },
  {
   "cell_type": "code",
   "execution_count": 16,
   "metadata": {},
   "outputs": [
    {
     "data": {
      "text/plain": [
       "1    274522\n",
       "0     65478\n",
       "Name: STATUS, dtype: int64"
      ]
     },
     "execution_count": 16,
     "metadata": {},
     "output_type": "execute_result"
    }
   ],
   "source": [
    "kiva_dummies_small['STATUS'].value_counts()"
   ]
  },
  {
   "cell_type": "code",
   "execution_count": 17,
   "metadata": {},
   "outputs": [],
   "source": [
    "X = kiva_dummies_small.drop(columns = ['STATUS'])\n",
    "y = kiva_dummies_small['STATUS']"
   ]
  },
  {
   "cell_type": "code",
   "execution_count": 18,
   "metadata": {},
   "outputs": [],
   "source": [
    "#train-test split\n",
    "X_train, X_test, y_train, y_test = train_test_split(X, y, random_state =42, stratify=y)"
   ]
  },
  {
   "cell_type": "code",
   "execution_count": 18,
   "metadata": {},
   "outputs": [
    {
     "name": "stdout",
     "output_type": "stream",
     "text": [
      "0.8331254901960784 0.8341058823529411\n"
     ]
    }
   ],
   "source": [
    "\n",
    "logreg = LogisticRegression(solver='liblinear', max_iter=800)\n",
    "logreg.fit(X_train, y_train)\n",
    "print(logreg.score(X_train,y_train), logreg.score(X_test,y_test))"
   ]
  },
  {
   "cell_type": "code",
   "execution_count": 19,
   "metadata": {},
   "outputs": [
    {
     "data": {
      "text/html": [
       "<div>\n",
       "<style scoped>\n",
       "    .dataframe tbody tr th:only-of-type {\n",
       "        vertical-align: middle;\n",
       "    }\n",
       "\n",
       "    .dataframe tbody tr th {\n",
       "        vertical-align: top;\n",
       "    }\n",
       "\n",
       "    .dataframe thead th {\n",
       "        text-align: right;\n",
       "    }\n",
       "</style>\n",
       "<table border=\"1\" class=\"dataframe\">\n",
       "  <thead>\n",
       "    <tr style=\"text-align: right;\">\n",
       "      <th></th>\n",
       "      <th>coefficients</th>\n",
       "      <th>features</th>\n",
       "    </tr>\n",
       "  </thead>\n",
       "  <tbody>\n",
       "    <tr>\n",
       "      <th>269</th>\n",
       "      <td>2.125907</td>\n",
       "      <td>COUNTRY_CODE_US</td>\n",
       "    </tr>\n",
       "    <tr>\n",
       "      <th>222</th>\n",
       "      <td>2.013579</td>\n",
       "      <td>COUNTRY_CODE_IN</td>\n",
       "    </tr>\n",
       "    <tr>\n",
       "      <th>14</th>\n",
       "      <td>1.795609</td>\n",
       "      <td>ANY_MALE</td>\n",
       "    </tr>\n",
       "    <tr>\n",
       "      <th>189</th>\n",
       "      <td>1.662438</td>\n",
       "      <td>SECTOR_NAME_Manufacturing</td>\n",
       "    </tr>\n",
       "    <tr>\n",
       "      <th>184</th>\n",
       "      <td>1.637020</td>\n",
       "      <td>SECTOR_NAME_Education</td>\n",
       "    </tr>\n",
       "    <tr>\n",
       "      <th>272</th>\n",
       "      <td>-1.465355</td>\n",
       "      <td>COUNTRY_CODE_WS</td>\n",
       "    </tr>\n",
       "    <tr>\n",
       "      <th>210</th>\n",
       "      <td>1.445520</td>\n",
       "      <td>COUNTRY_CODE_CR</td>\n",
       "    </tr>\n",
       "    <tr>\n",
       "      <th>181</th>\n",
       "      <td>1.416751</td>\n",
       "      <td>SECTOR_NAME_Arts</td>\n",
       "    </tr>\n",
       "    <tr>\n",
       "      <th>97</th>\n",
       "      <td>1.296119</td>\n",
       "      <td>ACTIVITY_NAME_Home Energy</td>\n",
       "    </tr>\n",
       "    <tr>\n",
       "      <th>96</th>\n",
       "      <td>1.233513</td>\n",
       "      <td>ACTIVITY_NAME_Home Appliances</td>\n",
       "    </tr>\n",
       "    <tr>\n",
       "      <th>213</th>\n",
       "      <td>1.186396</td>\n",
       "      <td>COUNTRY_CODE_EG</td>\n",
       "    </tr>\n",
       "    <tr>\n",
       "      <th>225</th>\n",
       "      <td>-1.103885</td>\n",
       "      <td>COUNTRY_CODE_KE</td>\n",
       "    </tr>\n",
       "    <tr>\n",
       "      <th>236</th>\n",
       "      <td>-1.086240</td>\n",
       "      <td>COUNTRY_CODE_MM</td>\n",
       "    </tr>\n",
       "    <tr>\n",
       "      <th>191</th>\n",
       "      <td>-1.058171</td>\n",
       "      <td>SECTOR_NAME_Retail</td>\n",
       "    </tr>\n",
       "    <tr>\n",
       "      <th>28</th>\n",
       "      <td>-1.039952</td>\n",
       "      <td>ACTIVITY_NAME_Beauty Salon</td>\n",
       "    </tr>\n",
       "    <tr>\n",
       "      <th>268</th>\n",
       "      <td>-1.024266</td>\n",
       "      <td>COUNTRY_CODE_UG</td>\n",
       "    </tr>\n",
       "    <tr>\n",
       "      <th>230</th>\n",
       "      <td>0.987964</td>\n",
       "      <td>COUNTRY_CODE_LR</td>\n",
       "    </tr>\n",
       "    <tr>\n",
       "      <th>233</th>\n",
       "      <td>0.986463</td>\n",
       "      <td>COUNTRY_CODE_MG</td>\n",
       "    </tr>\n",
       "    <tr>\n",
       "      <th>95</th>\n",
       "      <td>0.980429</td>\n",
       "      <td>ACTIVITY_NAME_Higher education costs</td>\n",
       "    </tr>\n",
       "    <tr>\n",
       "      <th>235</th>\n",
       "      <td>-0.955708</td>\n",
       "      <td>COUNTRY_CODE_ML</td>\n",
       "    </tr>\n",
       "    <tr>\n",
       "      <th>13</th>\n",
       "      <td>0.931769</td>\n",
       "      <td>ANY_FEM</td>\n",
       "    </tr>\n",
       "    <tr>\n",
       "      <th>226</th>\n",
       "      <td>-0.909905</td>\n",
       "      <td>COUNTRY_CODE_KG</td>\n",
       "    </tr>\n",
       "    <tr>\n",
       "      <th>209</th>\n",
       "      <td>-0.883104</td>\n",
       "      <td>COUNTRY_CODE_CO</td>\n",
       "    </tr>\n",
       "    <tr>\n",
       "      <th>172</th>\n",
       "      <td>-0.867936</td>\n",
       "      <td>ACTIVITY_NAME_Vehicle</td>\n",
       "    </tr>\n",
       "    <tr>\n",
       "      <th>215</th>\n",
       "      <td>0.847014</td>\n",
       "      <td>COUNTRY_CODE_GE</td>\n",
       "    </tr>\n",
       "  </tbody>\n",
       "</table>\n",
       "</div>"
      ],
      "text/plain": [
       "     coefficients                              features\n",
       "269      2.125907                       COUNTRY_CODE_US\n",
       "222      2.013579                       COUNTRY_CODE_IN\n",
       "14       1.795609                              ANY_MALE\n",
       "189      1.662438             SECTOR_NAME_Manufacturing\n",
       "184      1.637020                 SECTOR_NAME_Education\n",
       "272     -1.465355                       COUNTRY_CODE_WS\n",
       "210      1.445520                       COUNTRY_CODE_CR\n",
       "181      1.416751                      SECTOR_NAME_Arts\n",
       "97       1.296119             ACTIVITY_NAME_Home Energy\n",
       "96       1.233513         ACTIVITY_NAME_Home Appliances\n",
       "213      1.186396                       COUNTRY_CODE_EG\n",
       "225     -1.103885                       COUNTRY_CODE_KE\n",
       "236     -1.086240                       COUNTRY_CODE_MM\n",
       "191     -1.058171                    SECTOR_NAME_Retail\n",
       "28      -1.039952            ACTIVITY_NAME_Beauty Salon\n",
       "268     -1.024266                       COUNTRY_CODE_UG\n",
       "230      0.987964                       COUNTRY_CODE_LR\n",
       "233      0.986463                       COUNTRY_CODE_MG\n",
       "95       0.980429  ACTIVITY_NAME_Higher education costs\n",
       "235     -0.955708                       COUNTRY_CODE_ML\n",
       "13       0.931769                               ANY_FEM\n",
       "226     -0.909905                       COUNTRY_CODE_KG\n",
       "209     -0.883104                       COUNTRY_CODE_CO\n",
       "172     -0.867936                 ACTIVITY_NAME_Vehicle\n",
       "215      0.847014                       COUNTRY_CODE_GE"
      ]
     },
     "execution_count": 19,
     "metadata": {},
     "output_type": "execute_result"
    }
   ],
   "source": [
    "coef= logreg.coef_[0]\n",
    "coef_df = pd.DataFrame({'coefficients': coef, 'features': X_train.columns}).sort_values(by = 'coefficients', ascending = False, key = abs).head(25)\n",
    "coef_df"
   ]
  },
  {
   "cell_type": "code",
   "execution_count": 20,
   "metadata": {},
   "outputs": [
    {
     "data": {
      "image/png": "[encoded data removed]",
      "text/plain": [
       "<Figure size 432x288 with 2 Axes>"
      ]
     },
     "metadata": {
      "needs_background": "light"
     },
     "output_type": "display_data"
    }
   ],
   "source": [
    "#get predictions \n",
    "preds = logreg.predict(X_test)\n",
    "\n",
    "#plot confusion matrix\n",
    "cm = confusion_matrix(y_test, preds)\n",
    "ConfusionMatrixDisplay(cm).plot();"
   ]
  },
  {
   "cell_type": "code",
   "execution_count": 21,
   "metadata": {},
   "outputs": [
    {
     "name": "stdout",
     "output_type": "stream",
     "text": [
      "Various scores:  AUROC: 0.6337353155139265, ACC_SCORE: 0.8341058823529411, F1: 0.9032979241388296\n"
     ]
    }
   ],
   "source": [
    "print(f'Various scores:  AUROC: {roc_auc_score(y_test, preds)}, ACC_SCORE: {accuracy_score(y_test, preds)}, F1: {f1_score(y_test, preds)}')\n"
   ]
  },
  {
   "cell_type": "code",
   "execution_count": 28,
   "metadata": {},
   "outputs": [],
   "source": [
    "#create a list of the model classes to test\n",
    "model_list = [\n",
    "    LogisticRegression(),\n",
    "    BaggingClassifier(),\n",
    "    RandomForestClassifier(),\n",
    "    ExtraTreesClassifier(),\n",
    "    AdaBoostClassifier(),\n",
    "    GradientBoostingClassifier()\n",
    "]"
   ]
  },
  {
   "cell_type": "code",
   "execution_count": 29,
   "metadata": {},
   "outputs": [
    {
     "name": "stderr",
     "output_type": "stream",
     "text": [
      "/Users/rachelinsler/ENTER/lib/python3.8/site-packages/sklearn/linear_model/_logistic.py:762: ConvergenceWarning: lbfgs failed to converge (status=1):\n",
      "STOP: TOTAL NO. of ITERATIONS REACHED LIMIT.\n",
      "\n",
      "Increase the number of iterations (max_iter) or scale the data as shown in:\n",
      "    https://scikit-learn.org/stable/modules/preprocessing.html\n",
      "Please also refer to the documentation for alternative solver options:\n",
      "    https://scikit-learn.org/stable/modules/linear_model.html#logistic-regression\n",
      "  n_iter_i = _check_optimize_result(\n",
      "/Users/rachelinsler/ENTER/lib/python3.8/site-packages/sklearn/linear_model/_logistic.py:762: ConvergenceWarning: lbfgs failed to converge (status=1):\n",
      "STOP: TOTAL NO. of ITERATIONS REACHED LIMIT.\n",
      "\n",
      "Increase the number of iterations (max_iter) or scale the data as shown in:\n",
      "    https://scikit-learn.org/stable/modules/preprocessing.html\n",
      "Please also refer to the documentation for alternative solver options:\n",
      "    https://scikit-learn.org/stable/modules/linear_model.html#logistic-regression\n",
      "  n_iter_i = _check_optimize_result(\n",
      "/Users/rachelinsler/ENTER/lib/python3.8/site-packages/sklearn/linear_model/_logistic.py:762: ConvergenceWarning: lbfgs failed to converge (status=1):\n",
      "STOP: TOTAL NO. of ITERATIONS REACHED LIMIT.\n",
      "\n",
      "Increase the number of iterations (max_iter) or scale the data as shown in:\n",
      "    https://scikit-learn.org/stable/modules/preprocessing.html\n",
      "Please also refer to the documentation for alternative solver options:\n",
      "    https://scikit-learn.org/stable/modules/linear_model.html#logistic-regression\n",
      "  n_iter_i = _check_optimize_result(\n",
      "/Users/rachelinsler/ENTER/lib/python3.8/site-packages/sklearn/linear_model/_logistic.py:762: ConvergenceWarning: lbfgs failed to converge (status=1):\n",
      "STOP: TOTAL NO. of ITERATIONS REACHED LIMIT.\n",
      "\n",
      "Increase the number of iterations (max_iter) or scale the data as shown in:\n",
      "    https://scikit-learn.org/stable/modules/preprocessing.html\n",
      "Please also refer to the documentation for alternative solver options:\n",
      "    https://scikit-learn.org/stable/modules/linear_model.html#logistic-regression\n",
      "  n_iter_i = _check_optimize_result(\n",
      "/Users/rachelinsler/ENTER/lib/python3.8/site-packages/sklearn/linear_model/_logistic.py:762: ConvergenceWarning: lbfgs failed to converge (status=1):\n",
      "STOP: TOTAL NO. of ITERATIONS REACHED LIMIT.\n",
      "\n",
      "Increase the number of iterations (max_iter) or scale the data as shown in:\n",
      "    https://scikit-learn.org/stable/modules/preprocessing.html\n",
      "Please also refer to the documentation for alternative solver options:\n",
      "    https://scikit-learn.org/stable/modules/linear_model.html#logistic-regression\n",
      "  n_iter_i = _check_optimize_result(\n",
      "/Users/rachelinsler/ENTER/lib/python3.8/site-packages/sklearn/linear_model/_logistic.py:762: ConvergenceWarning: lbfgs failed to converge (status=1):\n",
      "STOP: TOTAL NO. of ITERATIONS REACHED LIMIT.\n",
      "\n",
      "Increase the number of iterations (max_iter) or scale the data as shown in:\n",
      "    https://scikit-learn.org/stable/modules/preprocessing.html\n",
      "Please also refer to the documentation for alternative solver options:\n",
      "    https://scikit-learn.org/stable/modules/linear_model.html#logistic-regression\n",
      "  n_iter_i = _check_optimize_result(\n"
     ]
    }
   ],
   "source": [
    "#scale features\n",
    "sc = StandardScaler()\n",
    "X_train_sc = sc.fit_transform(X_train)\n",
    "X_test_sc = sc.transform(X_test)"
   ]
  },
  {
   "cell_type": "code",
   "execution_count": null,
   "metadata": {},
   "outputs": [],
   "source": [
    "#create a list to store each model's results in a dictionary\n",
    "classifier_list = []\n",
    "\n",
    "for model_obj in model_list:\n",
    "    #instantiate each model \n",
    "    model = model_obj\n",
    "\n",
    "    #fit the model\n",
    "    model.fit(X_train_sc, y_train) \n",
    "  \n",
    "    #create a dictionary with scores and evaluation metrics for each model\n",
    "    results_dict = {}    \n",
    "    results_dict['model_name'] = str(model_obj)\n",
    "    results_dict['train_score'] = model.score(X_train_sc, y_train)\n",
    "    results_dict['test_score'] = model.score(X_test_sc, y_test)\n",
    "    results_dict['cv_score'] = cross_val_score(model, X_train_sc, y_train, cv = 5).mean()\n",
    "        \n",
    "    #add the dictionary to the list\n",
    "    classifier_list.append(results_dict)"
   ]
  },
  {
   "cell_type": "code",
   "execution_count": 30,
   "metadata": {},
   "outputs": [
    {
     "data": {
      "text/html": [
       "<div>\n",
       "<style scoped>\n",
       "    .dataframe tbody tr th:only-of-type {\n",
       "        vertical-align: middle;\n",
       "    }\n",
       "\n",
       "    .dataframe tbody tr th {\n",
       "        vertical-align: top;\n",
       "    }\n",
       "\n",
       "    .dataframe thead th {\n",
       "        text-align: right;\n",
       "    }\n",
       "</style>\n",
       "<table border=\"1\" class=\"dataframe\">\n",
       "  <thead>\n",
       "    <tr style=\"text-align: right;\">\n",
       "      <th></th>\n",
       "      <th>model_name</th>\n",
       "      <th>train_score</th>\n",
       "      <th>test_score</th>\n",
       "      <th>cv_score</th>\n",
       "    </tr>\n",
       "  </thead>\n",
       "  <tbody>\n",
       "    <tr>\n",
       "      <th>0</th>\n",
       "      <td>LogisticRegression()</td>\n",
       "      <td>0.834953</td>\n",
       "      <td>0.835541</td>\n",
       "      <td>0.834612</td>\n",
       "    </tr>\n",
       "    <tr>\n",
       "      <th>1</th>\n",
       "      <td>BaggingClassifier()</td>\n",
       "      <td>0.992522</td>\n",
       "      <td>0.846400</td>\n",
       "      <td>0.847086</td>\n",
       "    </tr>\n",
       "    <tr>\n",
       "      <th>2</th>\n",
       "      <td>RandomForestClassifier()</td>\n",
       "      <td>0.999988</td>\n",
       "      <td>0.864318</td>\n",
       "      <td>0.863255</td>\n",
       "    </tr>\n",
       "    <tr>\n",
       "      <th>3</th>\n",
       "      <td>ExtraTreesClassifier()</td>\n",
       "      <td>0.999996</td>\n",
       "      <td>0.856094</td>\n",
       "      <td>0.855639</td>\n",
       "    </tr>\n",
       "    <tr>\n",
       "      <th>4</th>\n",
       "      <td>AdaBoostClassifier()</td>\n",
       "      <td>0.842957</td>\n",
       "      <td>0.843788</td>\n",
       "      <td>0.842075</td>\n",
       "    </tr>\n",
       "    <tr>\n",
       "      <th>5</th>\n",
       "      <td>GradientBoostingClassifier()</td>\n",
       "      <td>0.847902</td>\n",
       "      <td>0.847906</td>\n",
       "      <td>0.847733</td>\n",
       "    </tr>\n",
       "  </tbody>\n",
       "</table>\n",
       "</div>"
      ],
      "text/plain": [
       "                     model_name  train_score  test_score  cv_score\n",
       "0          LogisticRegression()     0.834953    0.835541  0.834612\n",
       "1           BaggingClassifier()     0.992522    0.846400  0.847086\n",
       "2      RandomForestClassifier()     0.999988    0.864318  0.863255\n",
       "3        ExtraTreesClassifier()     0.999996    0.856094  0.855639\n",
       "4          AdaBoostClassifier()     0.842957    0.843788  0.842075\n",
       "5  GradientBoostingClassifier()     0.847902    0.847906  0.847733"
      ]
     },
     "execution_count": 30,
     "metadata": {},
     "output_type": "execute_result"
    }
   ],
   "source": [
    "clf_results = pd.DataFrame(classifier_list)\n",
    "clf_results"
   ]
  },
  {
   "cell_type": "markdown",
   "metadata": {},
   "source": [
    "### Logistic Regression"
   ]
  },
  {
   "cell_type": "code",
   "execution_count": null,
   "metadata": {},
   "outputs": [],
   "source": []
  },
  {
   "cell_type": "code",
   "execution_count": null,
   "metadata": {},
   "outputs": [],
   "source": []
  },
  {
   "cell_type": "code",
   "execution_count": null,
   "metadata": {},
   "outputs": [],
   "source": []
  },
  {
   "cell_type": "markdown",
   "metadata": {},
   "source": [
    "### Random Forest"
   ]
  },
  {
   "cell_type": "code",
   "execution_count": 32,
   "metadata": {},
   "outputs": [
    {
     "name": "stdout",
     "output_type": "stream",
     "text": [
      "0.8105176470588236 0.8099294117647059\n"
     ]
    }
   ],
   "source": [
    "rf = RandomForestClassifier(n_estimators = 300, max_depth=10, min_samples_leaf=3, bootstrap=True)\n",
    "rf.fit(X_train,y_train)\n",
    "print(rf.score(X_train, y_train), rf.score(X_test, y_test))"
   ]
  },
  {
   "cell_type": "markdown",
   "metadata": {},
   "source": [
    "#### Hypertune Random Forest with GridSearch"
   ]
  },
  {
   "cell_type": "code",
   "execution_count": 21,
   "metadata": {},
   "outputs": [
    {
     "name": "stdout",
     "output_type": "stream",
     "text": [
      "Training Score is:  0.9999960784313725\n",
      "Testing Score is:  0.8644941176470589\n",
      "Cross-val score is: 0.8630705882352941.\n",
      "{'rf__bootstrap': True, 'rf__min_samples_leaf': 1, 'rf__n_estimators': 200}\n"
     ]
    }
   ],
   "source": [
    "pipe_rf = Pipeline([\n",
    "    ('rf', RandomForestClassifier())\n",
    "])\n",
    "\n",
    "pipe_rf_params = {\n",
    "    'rf__n_estimators': [200, 300],\n",
    "    'rf__min_samples_leaf': [1, 2],\n",
    "    'rf__bootstrap' : [True]\n",
    "}\n",
    "\n",
    "gs_rf = GridSearchCV(pipe_rf,\n",
    "                 param_grid=pipe_rf_params,\n",
    "                 cv=3)\n",
    "\n",
    "gs_rf.fit(X_train, y_train)\n",
    "\n",
    "training_score = gs_rf.score(X_train, y_train)\n",
    "testing_score = gs_rf.score(X_test, y_test)\n",
    "cv_score = cross_val_score(gs_rf, X_train, y_train, cv=3).mean()\n",
    "print(f'Training Score is:  {training_score}')\n",
    "print(f'Testing Score is:  {testing_score}')\n",
    "print(f'Cross-val score is: {cv_score}.')\n",
    "\n",
    "print(gs_rf.best_params_)"
   ]
  },
  {
   "cell_type": "code",
   "execution_count": 22,
   "metadata": {},
   "outputs": [
    {
     "name": "stdout",
     "output_type": "stream",
     "text": [
      "Training Score is:  0.9176980392156863\n",
      "Testing Score is:  0.8591529411764706\n",
      "Cross-val score is: 0.8576509803921569.\n",
      "{'rf__max_depth': None, 'rf__min_samples_leaf': 2, 'rf__n_estimators': 300}\n"
     ]
    }
   ],
   "source": [
    "pipe_rf2 = Pipeline([\n",
    "    ('rf', RandomForestClassifier())\n",
    "])\n",
    "\n",
    "pipe_rf2_params = {\n",
    "    'rf__n_estimators': [300],\n",
    "    'rf__min_samples_leaf': [2, 3],\n",
    "    'rf__max_depth' : [15, None]\n",
    "}\n",
    "\n",
    "gs_rf2 = GridSearchCV(pipe_rf2,\n",
    "                 param_grid=pipe_rf2_params,\n",
    "                 cv=3)\n",
    "\n",
    "gs_rf2.fit(X_train, y_train)\n",
    "\n",
    "training_score = gs_rf2.score(X_train, y_train)\n",
    "testing_score = gs_rf2.score(X_test, y_test)\n",
    "cv_score = cross_val_score(gs_rf2, X_train, y_train, cv=3).mean()\n",
    "print(f'Training Score is:  {training_score}')\n",
    "print(f'Testing Score is:  {testing_score}')\n",
    "print(f'Cross-val score is: {cv_score}.')\n",
    "\n",
    "print(gs_rf2.best_params_)"
   ]
  },
  {
   "cell_type": "markdown",
   "metadata": {},
   "source": [
    "### Extra Trees?"
   ]
  },
  {
   "cell_type": "code",
   "execution_count": null,
   "metadata": {},
   "outputs": [],
   "source": [
    "et = ExtraTreesClassifier(n_estimators = 300, max_depth=10, min_samples_leaf=2, bootstrap = True)\n",
    "et.fit(X_train,y_train)\n",
    "print(et.score(X_train, y_train), et.score(X_test, y_test))"
   ]
  },
  {
   "cell_type": "code",
   "execution_count": null,
   "metadata": {},
   "outputs": [],
   "source": [
    "et = ExtraTreesClassifier(n_estimators = 300, max_depth=10, min_samples_leaf=2, bootstrap = False)\n",
    "et.fit(X_train,y_train)\n",
    "print(et.score(X_train, y_train), et.score(X_test, y_test))"
   ]
  },
  {
   "cell_type": "markdown",
   "metadata": {},
   "source": [
    "### Gradient Boosting Classifier"
   ]
  },
  {
   "cell_type": "code",
   "execution_count": 23,
   "metadata": {},
   "outputs": [
    {
     "name": "stdout",
     "output_type": "stream",
     "text": [
      "0.8595764705882353 0.8564941176470589 0.857721568627451\n"
     ]
    }
   ],
   "source": [
    "gb = GradientBoostingClassifier(n_estimators=300)\n",
    "gb.fit(X_train, y_train)\n",
    "print(gb.score(X_train, y_train), gb.score(X_test, y_test),  \n",
    "      cross_val_score(gb, X_train, y_train, cv = 5).mean())"
   ]
  },
  {
   "cell_type": "code",
   "execution_count": 24,
   "metadata": {},
   "outputs": [
    {
     "data": {
      "image/png": "[encoded data removed]",
      "text/plain": [
       "<Figure size 432x288 with 2 Axes>"
      ]
     },
     "metadata": {
      "needs_background": "light"
     },
     "output_type": "display_data"
    }
   ],
   "source": [
    "#get predictions \n",
    "preds_gb = gb.predict(X_test)\n",
    "\n",
    "#plot confusion matrix\n",
    "cm = confusion_matrix(y_test, preds_gb)\n",
    "ConfusionMatrixDisplay(cm, display_labels=['0','1']).plot();"
   ]
  },
  {
   "cell_type": "code",
   "execution_count": 25,
   "metadata": {},
   "outputs": [
    {
     "data": {
      "text/html": [
       "<div>\n",
       "<style scoped>\n",
       "    .dataframe tbody tr th:only-of-type {\n",
       "        vertical-align: middle;\n",
       "    }\n",
       "\n",
       "    .dataframe tbody tr th {\n",
       "        vertical-align: top;\n",
       "    }\n",
       "\n",
       "    .dataframe thead th {\n",
       "        text-align: right;\n",
       "    }\n",
       "</style>\n",
       "<table border=\"1\" class=\"dataframe\">\n",
       "  <thead>\n",
       "    <tr style=\"text-align: right;\">\n",
       "      <th></th>\n",
       "      <th>importance</th>\n",
       "      <th>feature_names</th>\n",
       "    </tr>\n",
       "  </thead>\n",
       "  <tbody>\n",
       "    <tr>\n",
       "      <th>0</th>\n",
       "      <td>0.367430</td>\n",
       "      <td>LOAN_AMOUNT</td>\n",
       "    </tr>\n",
       "    <tr>\n",
       "      <th>1</th>\n",
       "      <td>0.153437</td>\n",
       "      <td>LENDER_TERM</td>\n",
       "    </tr>\n",
       "    <tr>\n",
       "      <th>9</th>\n",
       "      <td>0.067157</td>\n",
       "      <td>FEM_COUNT</td>\n",
       "    </tr>\n",
       "    <tr>\n",
       "      <th>6</th>\n",
       "      <td>0.058239</td>\n",
       "      <td>char_count_TAGS</td>\n",
       "    </tr>\n",
       "    <tr>\n",
       "      <th>13</th>\n",
       "      <td>0.047014</td>\n",
       "      <td>ANY_FEM</td>\n",
       "    </tr>\n",
       "    <tr>\n",
       "      <th>184</th>\n",
       "      <td>0.045510</td>\n",
       "      <td>SECTOR_NAME_Education</td>\n",
       "    </tr>\n",
       "    <tr>\n",
       "      <th>8</th>\n",
       "      <td>0.033784</td>\n",
       "      <td>month</td>\n",
       "    </tr>\n",
       "    <tr>\n",
       "      <th>225</th>\n",
       "      <td>0.029492</td>\n",
       "      <td>COUNTRY_CODE_KE</td>\n",
       "    </tr>\n",
       "    <tr>\n",
       "      <th>191</th>\n",
       "      <td>0.026877</td>\n",
       "      <td>SECTOR_NAME_Retail</td>\n",
       "    </tr>\n",
       "    <tr>\n",
       "      <th>209</th>\n",
       "      <td>0.018379</td>\n",
       "      <td>COUNTRY_CODE_CO</td>\n",
       "    </tr>\n",
       "    <tr>\n",
       "      <th>268</th>\n",
       "      <td>0.009724</td>\n",
       "      <td>COUNTRY_CODE_UG</td>\n",
       "    </tr>\n",
       "    <tr>\n",
       "      <th>5</th>\n",
       "      <td>0.008566</td>\n",
       "      <td>char_count_DT</td>\n",
       "    </tr>\n",
       "    <tr>\n",
       "      <th>252</th>\n",
       "      <td>0.008386</td>\n",
       "      <td>COUNTRY_CODE_RW</td>\n",
       "    </tr>\n",
       "    <tr>\n",
       "      <th>250</th>\n",
       "      <td>0.008147</td>\n",
       "      <td>COUNTRY_CODE_PS</td>\n",
       "    </tr>\n",
       "    <tr>\n",
       "      <th>189</th>\n",
       "      <td>0.007077</td>\n",
       "      <td>SECTOR_NAME_Manufacturing</td>\n",
       "    </tr>\n",
       "    <tr>\n",
       "      <th>3</th>\n",
       "      <td>0.006889</td>\n",
       "      <td>word_count_TAGS</td>\n",
       "    </tr>\n",
       "    <tr>\n",
       "      <th>272</th>\n",
       "      <td>0.006855</td>\n",
       "      <td>COUNTRY_CODE_WS</td>\n",
       "    </tr>\n",
       "    <tr>\n",
       "      <th>271</th>\n",
       "      <td>0.006232</td>\n",
       "      <td>COUNTRY_CODE_VN</td>\n",
       "    </tr>\n",
       "    <tr>\n",
       "      <th>241</th>\n",
       "      <td>0.006061</td>\n",
       "      <td>COUNTRY_CODE_NG</td>\n",
       "    </tr>\n",
       "    <tr>\n",
       "      <th>181</th>\n",
       "      <td>0.005899</td>\n",
       "      <td>SECTOR_NAME_Arts</td>\n",
       "    </tr>\n",
       "    <tr>\n",
       "      <th>259</th>\n",
       "      <td>0.004299</td>\n",
       "      <td>COUNTRY_CODE_SV</td>\n",
       "    </tr>\n",
       "    <tr>\n",
       "      <th>186</th>\n",
       "      <td>0.003666</td>\n",
       "      <td>SECTOR_NAME_Food</td>\n",
       "    </tr>\n",
       "    <tr>\n",
       "      <th>52</th>\n",
       "      <td>0.003362</td>\n",
       "      <td>ACTIVITY_NAME_Clothing Sales</td>\n",
       "    </tr>\n",
       "    <tr>\n",
       "      <th>213</th>\n",
       "      <td>0.002804</td>\n",
       "      <td>COUNTRY_CODE_EG</td>\n",
       "    </tr>\n",
       "    <tr>\n",
       "      <th>248</th>\n",
       "      <td>0.002795</td>\n",
       "      <td>COUNTRY_CODE_PK</td>\n",
       "    </tr>\n",
       "  </tbody>\n",
       "</table>\n",
       "</div>"
      ],
      "text/plain": [
       "     importance                 feature_names\n",
       "0      0.367430                   LOAN_AMOUNT\n",
       "1      0.153437                   LENDER_TERM\n",
       "9      0.067157                     FEM_COUNT\n",
       "6      0.058239               char_count_TAGS\n",
       "13     0.047014                       ANY_FEM\n",
       "184    0.045510         SECTOR_NAME_Education\n",
       "8      0.033784                         month\n",
       "225    0.029492               COUNTRY_CODE_KE\n",
       "191    0.026877            SECTOR_NAME_Retail\n",
       "209    0.018379               COUNTRY_CODE_CO\n",
       "268    0.009724               COUNTRY_CODE_UG\n",
       "5      0.008566                 char_count_DT\n",
       "252    0.008386               COUNTRY_CODE_RW\n",
       "250    0.008147               COUNTRY_CODE_PS\n",
       "189    0.007077     SECTOR_NAME_Manufacturing\n",
       "3      0.006889               word_count_TAGS\n",
       "272    0.006855               COUNTRY_CODE_WS\n",
       "271    0.006232               COUNTRY_CODE_VN\n",
       "241    0.006061               COUNTRY_CODE_NG\n",
       "181    0.005899              SECTOR_NAME_Arts\n",
       "259    0.004299               COUNTRY_CODE_SV\n",
       "186    0.003666              SECTOR_NAME_Food\n",
       "52     0.003362  ACTIVITY_NAME_Clothing Sales\n",
       "213    0.002804               COUNTRY_CODE_EG\n",
       "248    0.002795               COUNTRY_CODE_PK"
      ]
     },
     "execution_count": 25,
     "metadata": {},
     "output_type": "execute_result"
    }
   ],
   "source": [
    "pd.DataFrame({'importance' : gb.feature_importances_, 'feature_names' : X_train.columns}).sort_values(by='importance', ascending=False).head(25)"
   ]
  },
  {
   "cell_type": "code",
   "execution_count": null,
   "metadata": {},
   "outputs": [],
   "source": [
    "# gb2 = GradientBoostingClassifier(n_estimators=500)\n",
    "# gb2.fit(X_train, y_train)\n",
    "# print(gb2.score(X_train, y_train), gb2.score(X_test, y_test),  \n",
    "#       cross_val_score(gb2, X_train, y_train, cv = 5).mean())"
   ]
  },
  {
   "cell_type": "code",
   "execution_count": null,
   "metadata": {},
   "outputs": [],
   "source": [
    "# gb3 = GradientBoostingClassifier(n_estimators=500, \n",
    "#                         min_samples_split = 100, \n",
    "#                         min_samples_leaf = 50, \n",
    "#                         max_depth=8,\n",
    "#                         max_features='sqrt',\n",
    "#                         subsample=0.8)\n",
    "# gb3.fit(X_train, y_train)\n",
    "# print(gb3.score(X_train, y_train), gb3.score(X_test, y_test),  \n",
    "#       cross_val_score(gb3, X_train, y_train, cv = 5).mean())"
   ]
  },
  {
   "cell_type": "code",
   "execution_count": null,
   "metadata": {},
   "outputs": [],
   "source": []
  }
 ],
 "metadata": {
  "kernelspec": {
   "display_name": "Python 3",
   "language": "python",
   "name": "python3"
  },
  "language_info": {
   "codemirror_mode": {
    "name": "ipython",
    "version": 3
   },
   "file_extension": ".py",
   "mimetype": "text/x-python",
   "name": "python",
   "nbconvert_exporter": "python",
   "pygments_lexer": "ipython3",
   "version": "3.8.5"
  }
 },
 "nbformat": 4,
 "nbformat_minor": 4
}
