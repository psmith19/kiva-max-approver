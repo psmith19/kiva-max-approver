{
 "cells": [
  {
   "cell_type": "code",
   "execution_count": 154,
   "metadata": {},
   "outputs": [],
   "source": [
    "import pandas as pd\n",
    "import matplotlib.pyplot as plt\n",
    "import seaborn as sns\n",
    "import numpy as np"
   ]
  },
  {
   "cell_type": "code",
   "execution_count": 155,
   "metadata": {},
   "outputs": [],
   "source": [
    "kiva = pd.read_csv('~/dsi/Submissions/Projects/project-5-group-project-master/kivamix.csv')"
   ]
  },
  {
   "cell_type": "code",
   "execution_count": 156,
   "metadata": {},
   "outputs": [
    {
     "data": {
      "text/plain": [
       "(419156, 35)"
      ]
     },
     "execution_count": 156,
     "metadata": {},
     "output_type": "execute_result"
    }
   ],
   "source": [
    "kiva.shape"
   ]
  },
  {
   "cell_type": "code",
   "execution_count": 157,
   "metadata": {},
   "outputs": [
    {
     "data": {
      "text/plain": [
       "(51170, 35)"
      ]
     },
     "execution_count": 157,
     "metadata": {},
     "output_type": "execute_result"
    }
   ],
   "source": [
    "kivake = kiva[kiva['COUNTRY_CODE']=='KE']\n",
    "kivake.shape"
   ]
  },
  {
   "cell_type": "code",
   "execution_count": 158,
   "metadata": {},
   "outputs": [],
   "source": [
    "#Converting long text columns to length of words and count of characters\n",
    "#Step1 is to replace nulls\n",
    "kiva['DESCRIPTION_TRANSLATED'].fillna(' ', inplace=True)\n",
    "kiva['TAGS'].fillna(' ', inplace=True)\n",
    "kiva['LOAN_USE'].fillna(' ', inplace=True)\n",
    "\n",
    "\n",
    "#Step 2 is to update new columns\n",
    "def word_len_count(column):\n",
    "    word_count = len(column.split())\n",
    "    return word_count\n",
    "\n",
    "def char_len_count(column):\n",
    "    char_count = column.replace(' ','')\n",
    "    char_count = len(char_count[:])\n",
    "    return char_count\n",
    "\n",
    "kiva['word_count_DT'] = kiva['DESCRIPTION_TRANSLATED'].apply(word_len_count)\n",
    "kiva['word_count_TAGS'] = kiva['TAGS'].apply(word_len_count)\n",
    "kiva['word_count_LU'] = kiva['LOAN_USE'].apply(word_len_count)\n",
    "\n",
    "kiva['char_count_DT'] = kiva['DESCRIPTION_TRANSLATED'].apply(char_len_count)\n",
    "kiva['char_count_TAGS'] = kiva['TAGS'].apply(char_len_count)\n",
    "kiva['char_count_LU'] = kiva['LOAN_USE'].apply(char_len_count)\n",
    "\n",
    "\n",
    "#Mark whether Image and Video was provided\n",
    "kiva['IMAGE_ID'] = np.where(kiva['IMAGE_ID'].isnull(), 0, 1)\n",
    "kiva['VIDEO_ID'] = np.where(kiva['VIDEO_ID'].isnull(), 0, 1)\n",
    "\n",
    "## Parse out borrower genders & borrower pictured\n",
    "kiva['FEM_COUNT'] = kiva['BORROWER_GENDERS'].str.count(\"female\")\n",
    "kiva['MALE_COUNT'] = kiva['BORROWER_GENDERS'].str.count(\"male\")\n",
    "kiva['PIC_TRUE_COUNT'] = kiva['BORROWER_PICTURED'].str.count(\"true\")\n",
    "kiva['PIC_FALSE_COUNT'] = kiva['BORROWER_PICTURED'].str.count(\"false\")\n",
    "\n",
    "kiva['ANY_FEM'] = kiva['BORROWER_GENDERS'].str.contains('female').map({True:1, False:0})\n",
    "kiva['ANY_MALE'] = kiva['BORROWER_GENDERS'].str.contains('male').map({True:1, False:0})\n",
    "kiva['month'] = kiva['POSTED_TIME'].str[5:7]\n",
    "\n",
    "#Drop unrequired columns\n",
    "\n",
    "kiva.drop(columns = ['DESCRIPTION_TRANSLATED', 'LOAN_USE', 'TAGS', 'DESCRIPTION','LOAN_ID','LOAN_NAME', 'FUNDED_AMOUNT',\n",
    "                     'DESCRIPTION', 'TOWN_NAME', 'CURRENCY_EXCHANGE_COVERAGE_RATE', 'CURRENCY', 'PARTNER_ID', 'PLANNED_EXPIRATION_TIME',\n",
    "                     'DISBURSE_TIME', 'POSTED_TIME', 'RAISED_TIME', 'NUM_LENDERS_TOTAL', 'NUM_JOURNAL_ENTRIES', 'NUM_BULK_ENTRIES', 'BORROWER_NAMES',\n",
    "                     'COUNTRY_NAME', 'CURRENCY_POLICY','year', 'BORROWER_GENDERS', 'BORROWER_PICTURED', 'IMAGE_ID', 'VIDEO_ID'], inplace=True)"
   ]
  },
  {
   "cell_type": "code",
   "execution_count": 159,
   "metadata": {},
   "outputs": [
    {
     "data": {
      "text/plain": [
       "(51170, 22)"
      ]
     },
     "execution_count": 159,
     "metadata": {},
     "output_type": "execute_result"
    }
   ],
   "source": [
    "kivake = kiva[kiva['COUNTRY_CODE']=='KE']\n",
    "kivake.shape"
   ]
  },
  {
   "cell_type": "code",
   "execution_count": 144,
   "metadata": {},
   "outputs": [
    {
     "name": "stderr",
     "output_type": "stream",
     "text": [
      "<ipython-input-144-3a105783a465>:3: SettingWithCopyWarning: \n",
      "A value is trying to be set on a copy of a slice from a DataFrame.\n",
      "Try using .loc[row_indexer,col_indexer] = value instead\n",
      "\n",
      "See the caveats in the documentation: https://pandas.pydata.org/pandas-docs/stable/user_guide/indexing.html#returning-a-view-versus-a-copy\n",
      "  kivake['ACTIVITY_NAME'] = np.where(kivake['ACTIVITY_NAME'].isin(cond.index[cond >= threshold ]), kivake['ACTIVITY_NAME'], 'misc_activity_name')\n"
     ]
    }
   ],
   "source": [
    "# cond = kivake['ACTIVITY_NAME'].value_counts()\n",
    "# threshold = 2000\n",
    "# kivake['ACTIVITY_NAME'] = np.where(kivake['ACTIVITY_NAME'].isin(cond.index[cond >= threshold ]), kivake['ACTIVITY_NAME'], 'misc_activity_name')"
   ]
  },
  {
   "cell_type": "code",
   "execution_count": 145,
   "metadata": {},
   "outputs": [
    {
     "name": "stderr",
     "output_type": "stream",
     "text": [
      "<ipython-input-145-6dff09e14fea>:3: SettingWithCopyWarning: \n",
      "A value is trying to be set on a copy of a slice from a DataFrame.\n",
      "Try using .loc[row_indexer,col_indexer] = value instead\n",
      "\n",
      "See the caveats in the documentation: https://pandas.pydata.org/pandas-docs/stable/user_guide/indexing.html#returning-a-view-versus-a-copy\n",
      "  kivake['COUNTRY_CODE'] = np.where(kivake['COUNTRY_CODE'].isin(cond.index[cond >= threshold ]), kivake['COUNTRY_CODE'], 'misc_country_code')\n"
     ]
    }
   ],
   "source": [
    "# cond = kivake['COUNTRY_CODE'].value_counts()\n",
    "# threshold = 2000\n",
    "# kivake['COUNTRY_CODE'] = np.where(kivake['COUNTRY_CODE'].isin(cond.index[cond >= threshold ]), kivake['COUNTRY_CODE'], 'misc_country_code')"
   ]
  },
  {
   "cell_type": "code",
   "execution_count": 146,
   "metadata": {},
   "outputs": [
    {
     "data": {
      "text/plain": [
       "Index(['ORIGINAL_LANGUAGE', 'LOAN_AMOUNT', 'STATUS', 'ACTIVITY_NAME',\n",
       "       'SECTOR_NAME', 'COUNTRY_CODE', 'LENDER_TERM', 'REPAYMENT_INTERVAL',\n",
       "       'DISTRIBUTION_MODEL', 'word_count_DT', 'word_count_TAGS',\n",
       "       'word_count_LU', 'char_count_DT', 'char_count_TAGS', 'char_count_LU',\n",
       "       'FEM_COUNT', 'MALE_COUNT', 'PIC_TRUE_COUNT', 'PIC_FALSE_COUNT',\n",
       "       'ANY_FEM', 'ANY_MALE', 'month'],\n",
       "      dtype='object')"
      ]
     },
     "execution_count": 146,
     "metadata": {},
     "output_type": "execute_result"
    }
   ],
   "source": [
    "kivake.columns"
   ]
  },
  {
   "cell_type": "code",
   "execution_count": 153,
   "metadata": {},
   "outputs": [
    {
     "data": {
      "text/plain": [
       "misc_activity_name    21277\n",
       "Farming               19741\n",
       "Cereals                2689\n",
       "Dairy                  2669\n",
       "General Store          2511\n",
       "Agriculture            2283\n",
       "Name: ACTIVITY_NAME, dtype: int64"
      ]
     },
     "execution_count": 153,
     "metadata": {},
     "output_type": "execute_result"
    }
   ],
   "source": [
    "kivake['ACTIVITY_NAME'].value_counts()"
   ]
  },
  {
   "cell_type": "code",
   "execution_count": 174,
   "metadata": {},
   "outputs": [
    {
     "data": {
      "text/plain": [
       "Farming                 19741\n",
       "Cereals                  2689\n",
       "Dairy                    2669\n",
       "General Store            2511\n",
       "Agriculture              2283\n",
       "                        ...  \n",
       "Computer                    1\n",
       "Event Planning              1\n",
       "Secretarial Services        1\n",
       "Music Discs & Tapes         1\n",
       "Machinery Rental            1\n",
       "Name: ACTIVITY_NAME, Length: 139, dtype: int64"
      ]
     },
     "execution_count": 174,
     "metadata": {},
     "output_type": "execute_result"
    }
   ],
   "source": [
    "kivake['ACTIVITY_NAME'].value_counts()"
   ]
  },
  {
   "cell_type": "code",
   "execution_count": 175,
   "metadata": {
    "collapsed": true,
    "jupyter": {
     "outputs_hidden": true
    }
   },
   "outputs": [
    {
     "data": {
      "text/plain": [
       "array(['Farming', 'Poultry', 'Beauty Salon', 'Retail', 'Agriculture',\n",
       "       'General Store', 'Tailoring', 'Clothing Sales', 'Food',\n",
       "       'Motorcycle Transport', 'Dairy', 'Restaurant', 'Hotel',\n",
       "       'Home Energy', 'Used Clothing', 'Charcoal Sales',\n",
       "       'Primary/secondary school costs', 'Waste Management',\n",
       "       'Fish Selling', 'Cosmetics Sales', 'Food Market',\n",
       "       'Fruits & Vegetables', 'Timber Sales', 'Cereals', 'Taxi', 'Arts',\n",
       "       'Grocery Store', 'Higher education costs', 'Energy', 'Food Stall',\n",
       "       'Services', 'Butcher Shop', 'Beverages', 'Mobile Transactions',\n",
       "       'Weaving', 'Fuel/Firewood', 'Bakery', 'Milk Sales', 'Construction',\n",
       "       'Quarrying', 'Laundry', 'Cattle', 'Water Distribution',\n",
       "       'Movie Tapes & DVDs', 'Farm Supplies', 'Metal Shop',\n",
       "       'Personal Housing Expenses', 'Crafts', 'Vehicle Repairs',\n",
       "       'Spare Parts', 'Clothing', 'Livestock', 'Home Appliances',\n",
       "       'Wholesale', 'Veterinary Sales', 'Motorcycle Repair', 'Hardware',\n",
       "       'Electronics Sales', 'Shoe Sales', 'Phone Accessories',\n",
       "       'Food Production/Sales', 'Construction Supplies', 'Animal Sales',\n",
       "       'Internet Cafe', 'Home Products Sales', 'Flowers',\n",
       "       'Plastics Sales', 'Education provider', 'Recycled Materials',\n",
       "       'Health', 'Pharmacy', 'Carpentry', 'Sewing', 'Transportation',\n",
       "       'Rickshaw', 'Goods Distribution', 'Furniture Making', 'Bookstore',\n",
       "       'Property', 'Photography', 'Pigs', 'Bicycle Repair',\n",
       "       'Renewable Energy Products', 'Pub', 'Cafe', 'Personal Expenses',\n",
       "       'Personal Medical Expenses', 'Barber Shop', 'Used Shoes',\n",
       "       'Electrician', 'Printing', 'Cloth & Dressmaking Supplies',\n",
       "       'Electrical Goods', 'Entertainment', 'Games', 'Traveling Sales',\n",
       "       'Phone Repair', 'Mobile Phones', 'Bricks', 'Medical Clinic',\n",
       "       'Manufacturing', 'Textiles', 'Recycling', 'Electronics Repair',\n",
       "       'Cement', 'Vehicle', 'Cobbler', 'Aquaculture', 'Paper Sales',\n",
       "       'Computers', 'Auto Repair', 'Knitting', 'Office Supplies',\n",
       "       'Phone Use Sales', 'Blacksmith', 'Embroidery', 'Jewelry',\n",
       "       'Machinery Rental', 'Child Care', 'Musical Performance',\n",
       "       'Personal Products Sales', 'Catering', 'Beekeeping',\n",
       "       'Natural Medicines', 'Land Rental', 'Personal Care Products',\n",
       "       'Cleaning Services', 'Sporting Good Sales',\n",
       "       'Liquor Store / Off-License', 'Communications', 'Fishing',\n",
       "       'Celebrations', 'Consumer Goods', 'Secretarial Services',\n",
       "       'Decorations Sales', 'Call Center', 'Event Planning',\n",
       "       'Music Discs & Tapes', 'Computer'], dtype=object)"
      ]
     },
     "execution_count": 175,
     "metadata": {},
     "output_type": "execute_result"
    }
   ],
   "source": [
    "kivake['ACTIVITY_NAME'].unique()"
   ]
  },
  {
   "cell_type": "code",
   "execution_count": 201,
   "metadata": {
    "collapsed": true,
    "jupyter": {
     "outputs_hidden": true
    }
   },
   "outputs": [
    {
     "data": {
      "image/png": "[encoded data removed]",
      "text/plain": [
       "<Figure size 648x432 with 1 Axes>"
      ]
     },
     "metadata": {
      "needs_background": "light"
     },
     "output_type": "display_data"
    },
    {
     "data": {
      "image/png": "[encoded data removed]",
      "text/plain": [
       "<Figure size 648x432 with 1 Axes>"
      ]
     },
     "metadata": {
      "needs_background": "light"
     },
     "output_type": "display_data"
    },
    {
     "data": {
      "image/png": "[encoded data removed]",
      "text/plain": [
       "<Figure size 648x432 with 1 Axes>"
      ]
     },
     "metadata": {
      "needs_background": "light"
     },
     "output_type": "display_data"
    },
    {
     "data": {
      "image/png": "[encoded data removed]",
      "text/plain": [
       "<Figure size 648x432 with 1 Axes>"
      ]
     },
     "metadata": {
      "needs_background": "light"
     },
     "output_type": "display_data"
    },
    {
     "data": {
      "image/png": "[encoded data removed]",
      "text/plain": [
       "<Figure size 648x432 with 1 Axes>"
      ]
     },
     "metadata": {
      "needs_background": "light"
     },
     "output_type": "display_data"
    },
    {
     "data": {
      "image/png": "[encoded data removed]",
      "text/plain": [
       "<Figure size 648x432 with 1 Axes>"
      ]
     },
     "metadata": {
      "needs_background": "light"
     },
     "output_type": "display_data"
    },
    {
     "data": {
      "image/png": "[encoded data removed]",
      "text/plain": [
       "<Figure size 648x432 with 1 Axes>"
      ]
     },
     "metadata": {
      "needs_background": "light"
     },
     "output_type": "display_data"
    },
    {
     "data": {
      "image/png": "[encoded data removed]",
      "text/plain": [
       "<Figure size 648x432 with 1 Axes>"
      ]
     },
     "metadata": {
      "needs_background": "light"
     },
     "output_type": "display_data"
    },
    {
     "data": {
      "image/png": "[encoded data removed]",
      "text/plain": [
       "<Figure size 648x432 with 1 Axes>"
      ]
     },
     "metadata": {
      "needs_background": "light"
     },
     "output_type": "display_data"
    },
    {
     "data": {
      "image/png": "[encoded data removed]",
      "text/plain": [
       "<Figure size 648x432 with 1 Axes>"
      ]
     },
     "metadata": {
      "needs_background": "light"
     },
     "output_type": "display_data"
    }
   ],
   "source": [
    "#Plotting histograms for numeric variables\n",
    "\n",
    "def plot_hist(dataset, variable):\n",
    "    plt.figure(figsize=(9,6))\n",
    "    plt.hist(dataset[variable], bins=50,color='darkolivegreen')\n",
    "    plt.xlabel(variable)\n",
    "    plt.ylabel(\"frequency\")\n",
    "    plt.title(\"{} Distribution\".format(variable))\n",
    "    plt.show()\n",
    "    \n",
    "numericVar = [\"LOAN_AMOUNT\",\"LENDER_TERM\",\"word_count_DT\", \"char_count_DT\", \"word_count_LU\", \"char_count_LU\", \"word_count_TAGS\", \"char_count_TAGS\", \"FEM_COUNT\", \"MALE_COUNT\"]\n",
    "for n in numericVar:\n",
    "    plot_hist(kivake, n)"
   ]
  },
  {
   "cell_type": "code",
   "execution_count": 252,
   "metadata": {},
   "outputs": [
    {
     "data": {
      "text/html": [
       "<div>\n",
       "<style scoped>\n",
       "    .dataframe tbody tr th:only-of-type {\n",
       "        vertical-align: middle;\n",
       "    }\n",
       "\n",
       "    .dataframe tbody tr th {\n",
       "        vertical-align: top;\n",
       "    }\n",
       "\n",
       "    .dataframe thead th {\n",
       "        text-align: right;\n",
       "    }\n",
       "</style>\n",
       "<table border=\"1\" class=\"dataframe\">\n",
       "  <thead>\n",
       "    <tr style=\"text-align: right;\">\n",
       "      <th></th>\n",
       "      <th>LOAN_AMOUNT</th>\n",
       "    </tr>\n",
       "  </thead>\n",
       "  <tbody>\n",
       "    <tr>\n",
       "      <th>7</th>\n",
       "      <td>600.0</td>\n",
       "    </tr>\n",
       "    <tr>\n",
       "      <th>16</th>\n",
       "      <td>200.0</td>\n",
       "    </tr>\n",
       "    <tr>\n",
       "      <th>21</th>\n",
       "      <td>500.0</td>\n",
       "    </tr>\n",
       "    <tr>\n",
       "      <th>41</th>\n",
       "      <td>500.0</td>\n",
       "    </tr>\n",
       "    <tr>\n",
       "      <th>57</th>\n",
       "      <td>250.0</td>\n",
       "    </tr>\n",
       "    <tr>\n",
       "      <th>...</th>\n",
       "      <td>...</td>\n",
       "    </tr>\n",
       "    <tr>\n",
       "      <th>419104</th>\n",
       "      <td>500.0</td>\n",
       "    </tr>\n",
       "    <tr>\n",
       "      <th>419106</th>\n",
       "      <td>300.0</td>\n",
       "    </tr>\n",
       "    <tr>\n",
       "      <th>419117</th>\n",
       "      <td>300.0</td>\n",
       "    </tr>\n",
       "    <tr>\n",
       "      <th>419137</th>\n",
       "      <td>875.0</td>\n",
       "    </tr>\n",
       "    <tr>\n",
       "      <th>419149</th>\n",
       "      <td>200.0</td>\n",
       "    </tr>\n",
       "  </tbody>\n",
       "</table>\n",
       "<p>51170 rows × 1 columns</p>\n",
       "</div>"
      ],
      "text/plain": [
       "        LOAN_AMOUNT\n",
       "7             600.0\n",
       "16            200.0\n",
       "21            500.0\n",
       "41            500.0\n",
       "57            250.0\n",
       "...             ...\n",
       "419104        500.0\n",
       "419106        300.0\n",
       "419117        300.0\n",
       "419137        875.0\n",
       "419149        200.0\n",
       "\n",
       "[51170 rows x 1 columns]"
      ]
     },
     "execution_count": 252,
     "metadata": {},
     "output_type": "execute_result"
    }
   ],
   "source": [
    "kivake[['LOAN_AMOUNT']]"
   ]
  },
  {
   "cell_type": "code",
   "execution_count": 263,
   "metadata": {},
   "outputs": [],
   "source": [
    "kivake = pd.DataFrame(kiva[kiva['COUNTRY_CODE']=='KE'])\n",
    "kivake = kivake.reset_index(drop=True)"
   ]
  },
  {
   "cell_type": "code",
   "execution_count": 264,
   "metadata": {},
   "outputs": [
    {
     "data": {
      "text/html": [
       "<div>\n",
       "<style scoped>\n",
       "    .dataframe tbody tr th:only-of-type {\n",
       "        vertical-align: middle;\n",
       "    }\n",
       "\n",
       "    .dataframe tbody tr th {\n",
       "        vertical-align: top;\n",
       "    }\n",
       "\n",
       "    .dataframe thead th {\n",
       "        text-align: right;\n",
       "    }\n",
       "</style>\n",
       "<table border=\"1\" class=\"dataframe\">\n",
       "  <thead>\n",
       "    <tr style=\"text-align: right;\">\n",
       "      <th></th>\n",
       "      <th>ORIGINAL_LANGUAGE</th>\n",
       "      <th>LOAN_AMOUNT</th>\n",
       "      <th>STATUS</th>\n",
       "      <th>ACTIVITY_NAME</th>\n",
       "      <th>SECTOR_NAME</th>\n",
       "      <th>COUNTRY_CODE</th>\n",
       "      <th>LENDER_TERM</th>\n",
       "      <th>REPAYMENT_INTERVAL</th>\n",
       "      <th>DISTRIBUTION_MODEL</th>\n",
       "      <th>word_count_DT</th>\n",
       "      <th>...</th>\n",
       "      <th>char_count_DT</th>\n",
       "      <th>char_count_TAGS</th>\n",
       "      <th>char_count_LU</th>\n",
       "      <th>FEM_COUNT</th>\n",
       "      <th>MALE_COUNT</th>\n",
       "      <th>PIC_TRUE_COUNT</th>\n",
       "      <th>PIC_FALSE_COUNT</th>\n",
       "      <th>ANY_FEM</th>\n",
       "      <th>ANY_MALE</th>\n",
       "      <th>month</th>\n",
       "    </tr>\n",
       "  </thead>\n",
       "  <tbody>\n",
       "    <tr>\n",
       "      <th>0</th>\n",
       "      <td>English</td>\n",
       "      <td>600.0</td>\n",
       "      <td>1</td>\n",
       "      <td>Farming</td>\n",
       "      <td>Agriculture</td>\n",
       "      <td>KE</td>\n",
       "      <td>20.0</td>\n",
       "      <td>monthly</td>\n",
       "      <td>field_partner</td>\n",
       "      <td>208</td>\n",
       "      <td>...</td>\n",
       "      <td>936</td>\n",
       "      <td>7</td>\n",
       "      <td>109</td>\n",
       "      <td>1.0</td>\n",
       "      <td>1.0</td>\n",
       "      <td>1.0</td>\n",
       "      <td>0.0</td>\n",
       "      <td>1.0</td>\n",
       "      <td>1.0</td>\n",
       "      <td>07</td>\n",
       "    </tr>\n",
       "    <tr>\n",
       "      <th>1</th>\n",
       "      <td>English</td>\n",
       "      <td>200.0</td>\n",
       "      <td>1</td>\n",
       "      <td>Poultry</td>\n",
       "      <td>Agriculture</td>\n",
       "      <td>KE</td>\n",
       "      <td>11.0</td>\n",
       "      <td>monthly</td>\n",
       "      <td>field_partner</td>\n",
       "      <td>103</td>\n",
       "      <td>...</td>\n",
       "      <td>516</td>\n",
       "      <td>52</td>\n",
       "      <td>31</td>\n",
       "      <td>1.0</td>\n",
       "      <td>1.0</td>\n",
       "      <td>1.0</td>\n",
       "      <td>0.0</td>\n",
       "      <td>1.0</td>\n",
       "      <td>1.0</td>\n",
       "      <td>05</td>\n",
       "    </tr>\n",
       "    <tr>\n",
       "      <th>2</th>\n",
       "      <td>English</td>\n",
       "      <td>500.0</td>\n",
       "      <td>0</td>\n",
       "      <td>Beauty Salon</td>\n",
       "      <td>Services</td>\n",
       "      <td>KE</td>\n",
       "      <td>15.0</td>\n",
       "      <td>monthly</td>\n",
       "      <td>field_partner</td>\n",
       "      <td>74</td>\n",
       "      <td>...</td>\n",
       "      <td>331</td>\n",
       "      <td>42</td>\n",
       "      <td>36</td>\n",
       "      <td>1.0</td>\n",
       "      <td>1.0</td>\n",
       "      <td>1.0</td>\n",
       "      <td>0.0</td>\n",
       "      <td>1.0</td>\n",
       "      <td>1.0</td>\n",
       "      <td>08</td>\n",
       "    </tr>\n",
       "    <tr>\n",
       "      <th>3</th>\n",
       "      <td>English</td>\n",
       "      <td>500.0</td>\n",
       "      <td>1</td>\n",
       "      <td>Retail</td>\n",
       "      <td>Retail</td>\n",
       "      <td>KE</td>\n",
       "      <td>14.0</td>\n",
       "      <td>monthly</td>\n",
       "      <td>field_partner</td>\n",
       "      <td>108</td>\n",
       "      <td>...</td>\n",
       "      <td>541</td>\n",
       "      <td>36</td>\n",
       "      <td>56</td>\n",
       "      <td>1.0</td>\n",
       "      <td>1.0</td>\n",
       "      <td>1.0</td>\n",
       "      <td>0.0</td>\n",
       "      <td>1.0</td>\n",
       "      <td>1.0</td>\n",
       "      <td>08</td>\n",
       "    </tr>\n",
       "    <tr>\n",
       "      <th>4</th>\n",
       "      <td>English</td>\n",
       "      <td>250.0</td>\n",
       "      <td>1</td>\n",
       "      <td>Farming</td>\n",
       "      <td>Agriculture</td>\n",
       "      <td>KE</td>\n",
       "      <td>14.0</td>\n",
       "      <td>monthly</td>\n",
       "      <td>field_partner</td>\n",
       "      <td>220</td>\n",
       "      <td>...</td>\n",
       "      <td>1054</td>\n",
       "      <td>0</td>\n",
       "      <td>91</td>\n",
       "      <td>1.0</td>\n",
       "      <td>1.0</td>\n",
       "      <td>1.0</td>\n",
       "      <td>0.0</td>\n",
       "      <td>1.0</td>\n",
       "      <td>1.0</td>\n",
       "      <td>08</td>\n",
       "    </tr>\n",
       "  </tbody>\n",
       "</table>\n",
       "<p>5 rows × 22 columns</p>\n",
       "</div>"
      ],
      "text/plain": [
       "  ORIGINAL_LANGUAGE  LOAN_AMOUNT  STATUS ACTIVITY_NAME  SECTOR_NAME  \\\n",
       "0           English        600.0       1       Farming  Agriculture   \n",
       "1           English        200.0       1       Poultry  Agriculture   \n",
       "2           English        500.0       0  Beauty Salon     Services   \n",
       "3           English        500.0       1        Retail       Retail   \n",
       "4           English        250.0       1       Farming  Agriculture   \n",
       "\n",
       "  COUNTRY_CODE  LENDER_TERM REPAYMENT_INTERVAL DISTRIBUTION_MODEL  \\\n",
       "0           KE         20.0            monthly      field_partner   \n",
       "1           KE         11.0            monthly      field_partner   \n",
       "2           KE         15.0            monthly      field_partner   \n",
       "3           KE         14.0            monthly      field_partner   \n",
       "4           KE         14.0            monthly      field_partner   \n",
       "\n",
       "   word_count_DT  ...  char_count_DT  char_count_TAGS  char_count_LU  \\\n",
       "0            208  ...            936                7            109   \n",
       "1            103  ...            516               52             31   \n",
       "2             74  ...            331               42             36   \n",
       "3            108  ...            541               36             56   \n",
       "4            220  ...           1054                0             91   \n",
       "\n",
       "   FEM_COUNT  MALE_COUNT  PIC_TRUE_COUNT  PIC_FALSE_COUNT  ANY_FEM  ANY_MALE  \\\n",
       "0        1.0         1.0             1.0              0.0      1.0       1.0   \n",
       "1        1.0         1.0             1.0              0.0      1.0       1.0   \n",
       "2        1.0         1.0             1.0              0.0      1.0       1.0   \n",
       "3        1.0         1.0             1.0              0.0      1.0       1.0   \n",
       "4        1.0         1.0             1.0              0.0      1.0       1.0   \n",
       "\n",
       "   month  \n",
       "0     07  \n",
       "1     05  \n",
       "2     08  \n",
       "3     08  \n",
       "4     08  \n",
       "\n",
       "[5 rows x 22 columns]"
      ]
     },
     "execution_count": 264,
     "metadata": {},
     "output_type": "execute_result"
    }
   ],
   "source": [
    "kivake.head()"
   ]
  },
  {
   "cell_type": "code",
   "execution_count": 324,
   "metadata": {},
   "outputs": [
    {
     "data": {
      "text/plain": [
       "500.0       True\n",
       "300.0       True\n",
       "200.0       True\n",
       "400.0       True\n",
       "100.0       True\n",
       "           ...  \n",
       "80000.0    False\n",
       "2550.0     False\n",
       "3475.0     False\n",
       "36000.0    False\n",
       "2200.0     False\n",
       "Name: LOAN_AMOUNT, Length: 125, dtype: bool"
      ]
     },
     "execution_count": 324,
     "metadata": {},
     "output_type": "execute_result"
    }
   ],
   "source": [
    "(kivake['LOAN_AMOUNT'].value_counts())>1000"
   ]
  },
  {
   "cell_type": "code",
   "execution_count": 342,
   "metadata": {},
   "outputs": [
    {
     "data": {
      "text/plain": [
       "(51131, 22)"
      ]
     },
     "execution_count": 342,
     "metadata": {},
     "output_type": "execute_result"
    }
   ],
   "source": [
    "x = kivake[kivake['LOAN_AMOUNT']<3000]\n",
    "x.shape"
   ]
  },
  {
   "cell_type": "code",
   "execution_count": 354,
   "metadata": {},
   "outputs": [
    {
     "data": {
      "image/png": "[encoded data removed]",
      "text/plain": [
       "<Figure size 432x288 with 1 Axes>"
      ]
     },
     "metadata": {
      "needs_background": "light"
     },
     "output_type": "display_data"
    }
   ],
   "source": [
    "plt.hist(x=x[\"LOAN_AMOUNT\"], color='darkolivegreen', bins=15)\n",
    "plt.xlabel('Loan Amount')\n",
    "plt.ylabel('Count')\n",
    "plt.title('Loan Amount Distribution');"
   ]
  },
  {
   "cell_type": "code",
   "execution_count": null,
   "metadata": {},
   "outputs": [],
   "source": []
  },
  {
   "cell_type": "code",
   "execution_count": 391,
   "metadata": {},
   "outputs": [],
   "source": [
    "y = kivake[26>kivake['LENDER_TERM'] ]"
   ]
  },
  {
   "cell_type": "code",
   "execution_count": 405,
   "metadata": {},
   "outputs": [
    {
     "data": {
      "image/png": "[encoded data removed]",
      "text/plain": [
       "<Figure size 432x288 with 1 Axes>"
      ]
     },
     "metadata": {
      "needs_background": "light"
     },
     "output_type": "display_data"
    }
   ],
   "source": [
    "plt.hist(x=y['LENDER_TERM'], bins=5, color='darkolivegreen')\n",
    "plt.xlabel('Lender Term')\n",
    "plt.ylabel('Count')\n",
    "plt.title('Lender Term Distribution');"
   ]
  },
  {
   "cell_type": "code",
   "execution_count": 407,
   "metadata": {
    "collapsed": true,
    "jupyter": {
     "outputs_hidden": true
    }
   },
   "outputs": [
    {
     "data": {
      "text/plain": [
       "14.0     26932\n",
       "11.0      5769\n",
       "8.0       4645\n",
       "13.0      2986\n",
       "20.0      2441\n",
       "9.0       1674\n",
       "12.0      1510\n",
       "15.0      1003\n",
       "7.0        776\n",
       "10.0       767\n",
       "26.0       533\n",
       "16.0       393\n",
       "3.0        380\n",
       "17.0       319\n",
       "5.0        235\n",
       "6.0        223\n",
       "21.0        81\n",
       "19.0        55\n",
       "40.0        46\n",
       "24.0        43\n",
       "2.0         42\n",
       "39.0        32\n",
       "28.0        31\n",
       "4.0         28\n",
       "27.0        24\n",
       "72.0        23\n",
       "18.0        23\n",
       "33.0        20\n",
       "25.0        18\n",
       "31.0        15\n",
       "49.0        12\n",
       "22.0        11\n",
       "73.0        11\n",
       "32.0        10\n",
       "29.0        10\n",
       "41.0         9\n",
       "23.0         7\n",
       "45.0         4\n",
       "121.0        4\n",
       "133.0        3\n",
       "110.0        3\n",
       "38.0         3\n",
       "1.0          2\n",
       "37.0         2\n",
       "122.0        2\n",
       "50.0         2\n",
       "43.0         2\n",
       "62.0         2\n",
       "47.0         1\n",
       "46.0         1\n",
       "60.0         1\n",
       "36.0         1\n",
       "Name: LENDER_TERM, dtype: int64"
      ]
     },
     "execution_count": 407,
     "metadata": {},
     "output_type": "execute_result"
    }
   ],
   "source": [
    "kivake['LENDER_TERM'].value_counts()"
   ]
  },
  {
   "cell_type": "code",
   "execution_count": 432,
   "metadata": {},
   "outputs": [],
   "source": [
    "month_count = kivake['month'].value_counts()"
   ]
  },
  {
   "cell_type": "code",
   "execution_count": 435,
   "metadata": {},
   "outputs": [
    {
     "data": {
      "image/png": "[encoded data removed]",
      "text/plain": [
       "<Figure size 432x288 with 1 Axes>"
      ]
     },
     "metadata": {
      "needs_background": "light"
     },
     "output_type": "display_data"
    }
   ],
   "source": [
    "plt.bar(height=month_count, x=kivake['month'].unique(), color='darkolivegreen')\n",
    "plt.xlabel('Month')\n",
    "plt.ylabel('Count')\n",
    "plt.title('Month Distribution');"
   ]
  },
  {
   "cell_type": "code",
   "execution_count": 270,
   "metadata": {
    "collapsed": true,
    "jupyter": {
     "outputs_hidden": true
    }
   },
   "outputs": [
    {
     "name": "stdout",
     "output_type": "stream",
     "text": [
      "<class 'pandas.core.frame.DataFrame'>\n",
      "RangeIndex: 51170 entries, 0 to 51169\n",
      "Data columns (total 22 columns):\n",
      " #   Column              Non-Null Count  Dtype  \n",
      "---  ------              --------------  -----  \n",
      " 0   ORIGINAL_LANGUAGE   50026 non-null  object \n",
      " 1   LOAN_AMOUNT         51170 non-null  float64\n",
      " 2   STATUS              51170 non-null  int64  \n",
      " 3   ACTIVITY_NAME       51170 non-null  object \n",
      " 4   SECTOR_NAME         51170 non-null  object \n",
      " 5   COUNTRY_CODE        51170 non-null  object \n",
      " 6   LENDER_TERM         51170 non-null  float64\n",
      " 7   REPAYMENT_INTERVAL  51170 non-null  object \n",
      " 8   DISTRIBUTION_MODEL  51170 non-null  object \n",
      " 9   word_count_DT       51170 non-null  int64  \n",
      " 10  word_count_TAGS     51170 non-null  int64  \n",
      " 11  word_count_LU       51170 non-null  int64  \n",
      " 12  char_count_DT       51170 non-null  int64  \n",
      " 13  char_count_TAGS     51170 non-null  int64  \n",
      " 14  char_count_LU       51170 non-null  int64  \n",
      " 15  FEM_COUNT           50026 non-null  float64\n",
      " 16  MALE_COUNT          50026 non-null  float64\n",
      " 17  PIC_TRUE_COUNT      50026 non-null  float64\n",
      " 18  PIC_FALSE_COUNT     50026 non-null  float64\n",
      " 19  ANY_FEM             50026 non-null  float64\n",
      " 20  ANY_MALE            50026 non-null  float64\n",
      " 21  month               51170 non-null  object \n",
      "dtypes: float64(8), int64(7), object(7)\n",
      "memory usage: 8.6+ MB\n"
     ]
    }
   ],
   "source": [
    "kivake.info()"
   ]
  },
  {
   "cell_type": "code",
   "execution_count": 457,
   "metadata": {},
   "outputs": [
    {
     "data": {
      "image/png": "[encoded data removed]",
      "text/plain": [
       "<Figure size 432x288 with 1 Axes>"
      ]
     },
     "metadata": {
      "needs_background": "light"
     },
     "output_type": "display_data"
    }
   ],
   "source": [
    "plt.hist(x = val_tags['char_count_TAGS'], color='darkolivegreen', bins=10)\n",
    "plt.xlabel('Character Count')\n",
    "plt.ylabel('Count')\n",
    "plt.title('Character Count Distribution');"
   ]
  },
  {
   "cell_type": "code",
   "execution_count": 453,
   "metadata": {},
   "outputs": [],
   "source": [
    "val_tags =kivake[ kivake['char_count_TAGS']<100]"
   ]
  },
  {
   "cell_type": "code",
   "execution_count": 466,
   "metadata": {},
   "outputs": [
    {
     "data": {
      "text/plain": [
       "'Wholesale'"
      ]
     },
     "execution_count": 466,
     "metadata": {},
     "output_type": "execute_result"
    }
   ],
   "source": [
    "kivake['ACTIVITY_NAME'].max()"
   ]
  },
  {
   "cell_type": "code",
   "execution_count": 470,
   "metadata": {},
   "outputs": [
    {
     "data": {
      "text/plain": [
       "Farming                 19741\n",
       "Cereals                  2689\n",
       "Dairy                    2669\n",
       "General Store            2511\n",
       "Agriculture              2283\n",
       "Home Energy              1786\n",
       "Retail                   1628\n",
       "Fruits & Vegetables      1532\n",
       "Clothing Sales           1457\n",
       "Motorcycle Transport     1417\n",
       "Name: ACTIVITY_NAME, dtype: int64"
      ]
     },
     "execution_count": 470,
     "metadata": {},
     "output_type": "execute_result"
    }
   ],
   "source": [
    "kivake['ACTIVITY_NAME'].value_counts().head(10)"
   ]
  },
  {
   "cell_type": "code",
   "execution_count": 476,
   "metadata": {},
   "outputs": [
    {
     "data": {
      "text/html": [
       "<div>\n",
       "<style scoped>\n",
       "    .dataframe tbody tr th:only-of-type {\n",
       "        vertical-align: middle;\n",
       "    }\n",
       "\n",
       "    .dataframe tbody tr th {\n",
       "        vertical-align: top;\n",
       "    }\n",
       "\n",
       "    .dataframe thead th {\n",
       "        text-align: right;\n",
       "    }\n",
       "</style>\n",
       "<table border=\"1\" class=\"dataframe\">\n",
       "  <thead>\n",
       "    <tr style=\"text-align: right;\">\n",
       "      <th></th>\n",
       "      <th>ORIGINAL_LANGUAGE</th>\n",
       "      <th>LOAN_AMOUNT</th>\n",
       "      <th>STATUS</th>\n",
       "      <th>ACTIVITY_NAME</th>\n",
       "      <th>SECTOR_NAME</th>\n",
       "      <th>COUNTRY_CODE</th>\n",
       "      <th>LENDER_TERM</th>\n",
       "      <th>REPAYMENT_INTERVAL</th>\n",
       "      <th>DISTRIBUTION_MODEL</th>\n",
       "      <th>word_count_DT</th>\n",
       "      <th>...</th>\n",
       "      <th>char_count_DT</th>\n",
       "      <th>char_count_TAGS</th>\n",
       "      <th>char_count_LU</th>\n",
       "      <th>FEM_COUNT</th>\n",
       "      <th>MALE_COUNT</th>\n",
       "      <th>PIC_TRUE_COUNT</th>\n",
       "      <th>PIC_FALSE_COUNT</th>\n",
       "      <th>ANY_FEM</th>\n",
       "      <th>ANY_MALE</th>\n",
       "      <th>month</th>\n",
       "    </tr>\n",
       "  </thead>\n",
       "  <tbody>\n",
       "    <tr>\n",
       "      <th>0</th>\n",
       "      <td>English</td>\n",
       "      <td>600.0</td>\n",
       "      <td>1</td>\n",
       "      <td>Farming</td>\n",
       "      <td>Agriculture</td>\n",
       "      <td>KE</td>\n",
       "      <td>20.0</td>\n",
       "      <td>monthly</td>\n",
       "      <td>field_partner</td>\n",
       "      <td>208</td>\n",
       "      <td>...</td>\n",
       "      <td>936</td>\n",
       "      <td>7</td>\n",
       "      <td>109</td>\n",
       "      <td>1.0</td>\n",
       "      <td>1.0</td>\n",
       "      <td>1.0</td>\n",
       "      <td>0.0</td>\n",
       "      <td>1.0</td>\n",
       "      <td>1.0</td>\n",
       "      <td>07</td>\n",
       "    </tr>\n",
       "    <tr>\n",
       "      <th>4</th>\n",
       "      <td>English</td>\n",
       "      <td>250.0</td>\n",
       "      <td>1</td>\n",
       "      <td>Farming</td>\n",
       "      <td>Agriculture</td>\n",
       "      <td>KE</td>\n",
       "      <td>14.0</td>\n",
       "      <td>monthly</td>\n",
       "      <td>field_partner</td>\n",
       "      <td>220</td>\n",
       "      <td>...</td>\n",
       "      <td>1054</td>\n",
       "      <td>0</td>\n",
       "      <td>91</td>\n",
       "      <td>1.0</td>\n",
       "      <td>1.0</td>\n",
       "      <td>1.0</td>\n",
       "      <td>0.0</td>\n",
       "      <td>1.0</td>\n",
       "      <td>1.0</td>\n",
       "      <td>08</td>\n",
       "    </tr>\n",
       "    <tr>\n",
       "      <th>5</th>\n",
       "      <td>English</td>\n",
       "      <td>200.0</td>\n",
       "      <td>1</td>\n",
       "      <td>Farming</td>\n",
       "      <td>Agriculture</td>\n",
       "      <td>KE</td>\n",
       "      <td>14.0</td>\n",
       "      <td>monthly</td>\n",
       "      <td>field_partner</td>\n",
       "      <td>97</td>\n",
       "      <td>...</td>\n",
       "      <td>456</td>\n",
       "      <td>13</td>\n",
       "      <td>98</td>\n",
       "      <td>0.0</td>\n",
       "      <td>1.0</td>\n",
       "      <td>1.0</td>\n",
       "      <td>0.0</td>\n",
       "      <td>0.0</td>\n",
       "      <td>1.0</td>\n",
       "      <td>02</td>\n",
       "    </tr>\n",
       "    <tr>\n",
       "      <th>10</th>\n",
       "      <td>English</td>\n",
       "      <td>750.0</td>\n",
       "      <td>1</td>\n",
       "      <td>Farming</td>\n",
       "      <td>Agriculture</td>\n",
       "      <td>KE</td>\n",
       "      <td>11.0</td>\n",
       "      <td>bullet</td>\n",
       "      <td>field_partner</td>\n",
       "      <td>167</td>\n",
       "      <td>...</td>\n",
       "      <td>735</td>\n",
       "      <td>57</td>\n",
       "      <td>92</td>\n",
       "      <td>1.0</td>\n",
       "      <td>7.0</td>\n",
       "      <td>7.0</td>\n",
       "      <td>0.0</td>\n",
       "      <td>1.0</td>\n",
       "      <td>1.0</td>\n",
       "      <td>02</td>\n",
       "    </tr>\n",
       "    <tr>\n",
       "      <th>17</th>\n",
       "      <td>English</td>\n",
       "      <td>200.0</td>\n",
       "      <td>1</td>\n",
       "      <td>Farming</td>\n",
       "      <td>Agriculture</td>\n",
       "      <td>KE</td>\n",
       "      <td>14.0</td>\n",
       "      <td>monthly</td>\n",
       "      <td>field_partner</td>\n",
       "      <td>208</td>\n",
       "      <td>...</td>\n",
       "      <td>1035</td>\n",
       "      <td>0</td>\n",
       "      <td>124</td>\n",
       "      <td>1.0</td>\n",
       "      <td>1.0</td>\n",
       "      <td>1.0</td>\n",
       "      <td>0.0</td>\n",
       "      <td>1.0</td>\n",
       "      <td>1.0</td>\n",
       "      <td>06</td>\n",
       "    </tr>\n",
       "    <tr>\n",
       "      <th>...</th>\n",
       "      <td>...</td>\n",
       "      <td>...</td>\n",
       "      <td>...</td>\n",
       "      <td>...</td>\n",
       "      <td>...</td>\n",
       "      <td>...</td>\n",
       "      <td>...</td>\n",
       "      <td>...</td>\n",
       "      <td>...</td>\n",
       "      <td>...</td>\n",
       "      <td>...</td>\n",
       "      <td>...</td>\n",
       "      <td>...</td>\n",
       "      <td>...</td>\n",
       "      <td>...</td>\n",
       "      <td>...</td>\n",
       "      <td>...</td>\n",
       "      <td>...</td>\n",
       "      <td>...</td>\n",
       "      <td>...</td>\n",
       "      <td>...</td>\n",
       "    </tr>\n",
       "    <tr>\n",
       "      <th>51160</th>\n",
       "      <td>English</td>\n",
       "      <td>275.0</td>\n",
       "      <td>1</td>\n",
       "      <td>Farming</td>\n",
       "      <td>Agriculture</td>\n",
       "      <td>KE</td>\n",
       "      <td>11.0</td>\n",
       "      <td>bullet</td>\n",
       "      <td>field_partner</td>\n",
       "      <td>151</td>\n",
       "      <td>...</td>\n",
       "      <td>730</td>\n",
       "      <td>71</td>\n",
       "      <td>42</td>\n",
       "      <td>2.0</td>\n",
       "      <td>5.0</td>\n",
       "      <td>5.0</td>\n",
       "      <td>0.0</td>\n",
       "      <td>1.0</td>\n",
       "      <td>1.0</td>\n",
       "      <td>12</td>\n",
       "    </tr>\n",
       "    <tr>\n",
       "      <th>51161</th>\n",
       "      <td>English</td>\n",
       "      <td>575.0</td>\n",
       "      <td>1</td>\n",
       "      <td>Farming</td>\n",
       "      <td>Agriculture</td>\n",
       "      <td>KE</td>\n",
       "      <td>11.0</td>\n",
       "      <td>bullet</td>\n",
       "      <td>field_partner</td>\n",
       "      <td>174</td>\n",
       "      <td>...</td>\n",
       "      <td>802</td>\n",
       "      <td>56</td>\n",
       "      <td>72</td>\n",
       "      <td>7.0</td>\n",
       "      <td>9.0</td>\n",
       "      <td>9.0</td>\n",
       "      <td>0.0</td>\n",
       "      <td>1.0</td>\n",
       "      <td>1.0</td>\n",
       "      <td>01</td>\n",
       "    </tr>\n",
       "    <tr>\n",
       "      <th>51165</th>\n",
       "      <td>English</td>\n",
       "      <td>500.0</td>\n",
       "      <td>1</td>\n",
       "      <td>Farming</td>\n",
       "      <td>Agriculture</td>\n",
       "      <td>KE</td>\n",
       "      <td>14.0</td>\n",
       "      <td>monthly</td>\n",
       "      <td>field_partner</td>\n",
       "      <td>170</td>\n",
       "      <td>...</td>\n",
       "      <td>837</td>\n",
       "      <td>28</td>\n",
       "      <td>133</td>\n",
       "      <td>1.0</td>\n",
       "      <td>1.0</td>\n",
       "      <td>1.0</td>\n",
       "      <td>0.0</td>\n",
       "      <td>1.0</td>\n",
       "      <td>1.0</td>\n",
       "      <td>09</td>\n",
       "    </tr>\n",
       "    <tr>\n",
       "      <th>51168</th>\n",
       "      <td>English</td>\n",
       "      <td>875.0</td>\n",
       "      <td>0</td>\n",
       "      <td>Farming</td>\n",
       "      <td>Agriculture</td>\n",
       "      <td>KE</td>\n",
       "      <td>11.0</td>\n",
       "      <td>bullet</td>\n",
       "      <td>field_partner</td>\n",
       "      <td>173</td>\n",
       "      <td>...</td>\n",
       "      <td>789</td>\n",
       "      <td>105</td>\n",
       "      <td>66</td>\n",
       "      <td>4.0</td>\n",
       "      <td>11.0</td>\n",
       "      <td>11.0</td>\n",
       "      <td>0.0</td>\n",
       "      <td>1.0</td>\n",
       "      <td>1.0</td>\n",
       "      <td>01</td>\n",
       "    </tr>\n",
       "    <tr>\n",
       "      <th>51169</th>\n",
       "      <td>English</td>\n",
       "      <td>200.0</td>\n",
       "      <td>1</td>\n",
       "      <td>Farming</td>\n",
       "      <td>Agriculture</td>\n",
       "      <td>KE</td>\n",
       "      <td>14.0</td>\n",
       "      <td>monthly</td>\n",
       "      <td>field_partner</td>\n",
       "      <td>220</td>\n",
       "      <td>...</td>\n",
       "      <td>1079</td>\n",
       "      <td>13</td>\n",
       "      <td>93</td>\n",
       "      <td>0.0</td>\n",
       "      <td>1.0</td>\n",
       "      <td>1.0</td>\n",
       "      <td>0.0</td>\n",
       "      <td>0.0</td>\n",
       "      <td>1.0</td>\n",
       "      <td>05</td>\n",
       "    </tr>\n",
       "  </tbody>\n",
       "</table>\n",
       "<p>19741 rows × 22 columns</p>\n",
       "</div>"
      ],
      "text/plain": [
       "      ORIGINAL_LANGUAGE  LOAN_AMOUNT  STATUS ACTIVITY_NAME  SECTOR_NAME  \\\n",
       "0               English        600.0       1       Farming  Agriculture   \n",
       "4               English        250.0       1       Farming  Agriculture   \n",
       "5               English        200.0       1       Farming  Agriculture   \n",
       "10              English        750.0       1       Farming  Agriculture   \n",
       "17              English        200.0       1       Farming  Agriculture   \n",
       "...                 ...          ...     ...           ...          ...   \n",
       "51160           English        275.0       1       Farming  Agriculture   \n",
       "51161           English        575.0       1       Farming  Agriculture   \n",
       "51165           English        500.0       1       Farming  Agriculture   \n",
       "51168           English        875.0       0       Farming  Agriculture   \n",
       "51169           English        200.0       1       Farming  Agriculture   \n",
       "\n",
       "      COUNTRY_CODE  LENDER_TERM REPAYMENT_INTERVAL DISTRIBUTION_MODEL  \\\n",
       "0               KE         20.0            monthly      field_partner   \n",
       "4               KE         14.0            monthly      field_partner   \n",
       "5               KE         14.0            monthly      field_partner   \n",
       "10              KE         11.0             bullet      field_partner   \n",
       "17              KE         14.0            monthly      field_partner   \n",
       "...            ...          ...                ...                ...   \n",
       "51160           KE         11.0             bullet      field_partner   \n",
       "51161           KE         11.0             bullet      field_partner   \n",
       "51165           KE         14.0            monthly      field_partner   \n",
       "51168           KE         11.0             bullet      field_partner   \n",
       "51169           KE         14.0            monthly      field_partner   \n",
       "\n",
       "       word_count_DT  ...  char_count_DT  char_count_TAGS  char_count_LU  \\\n",
       "0                208  ...            936                7            109   \n",
       "4                220  ...           1054                0             91   \n",
       "5                 97  ...            456               13             98   \n",
       "10               167  ...            735               57             92   \n",
       "17               208  ...           1035                0            124   \n",
       "...              ...  ...            ...              ...            ...   \n",
       "51160            151  ...            730               71             42   \n",
       "51161            174  ...            802               56             72   \n",
       "51165            170  ...            837               28            133   \n",
       "51168            173  ...            789              105             66   \n",
       "51169            220  ...           1079               13             93   \n",
       "\n",
       "       FEM_COUNT  MALE_COUNT  PIC_TRUE_COUNT  PIC_FALSE_COUNT  ANY_FEM  \\\n",
       "0            1.0         1.0             1.0              0.0      1.0   \n",
       "4            1.0         1.0             1.0              0.0      1.0   \n",
       "5            0.0         1.0             1.0              0.0      0.0   \n",
       "10           1.0         7.0             7.0              0.0      1.0   \n",
       "17           1.0         1.0             1.0              0.0      1.0   \n",
       "...          ...         ...             ...              ...      ...   \n",
       "51160        2.0         5.0             5.0              0.0      1.0   \n",
       "51161        7.0         9.0             9.0              0.0      1.0   \n",
       "51165        1.0         1.0             1.0              0.0      1.0   \n",
       "51168        4.0        11.0            11.0              0.0      1.0   \n",
       "51169        0.0         1.0             1.0              0.0      0.0   \n",
       "\n",
       "       ANY_MALE  month  \n",
       "0           1.0     07  \n",
       "4           1.0     08  \n",
       "5           1.0     02  \n",
       "10          1.0     02  \n",
       "17          1.0     06  \n",
       "...         ...    ...  \n",
       "51160       1.0     12  \n",
       "51161       1.0     01  \n",
       "51165       1.0     09  \n",
       "51168       1.0     01  \n",
       "51169       1.0     05  \n",
       "\n",
       "[19741 rows x 22 columns]"
      ]
     },
     "execution_count": 476,
     "metadata": {},
     "output_type": "execute_result"
    }
   ],
   "source": [
    "kivake[kivake['ACTIVITY_NAME']=='Farming']"
   ]
  },
  {
   "cell_type": "code",
   "execution_count": null,
   "metadata": {},
   "outputs": [],
   "source": []
  }
 ],
 "metadata": {
  "kernelspec": {
   "display_name": "Python 3",
   "language": "python",
   "name": "python3"
  },
  "language_info": {
   "codemirror_mode": {
    "name": "ipython",
    "version": 3
   },
   "file_extension": ".py",
   "mimetype": "text/x-python",
   "name": "python",
   "nbconvert_exporter": "python",
   "pygments_lexer": "ipython3",
   "version": "3.8.5"
  }
 },
 "nbformat": 4,
 "nbformat_minor": 4
}
