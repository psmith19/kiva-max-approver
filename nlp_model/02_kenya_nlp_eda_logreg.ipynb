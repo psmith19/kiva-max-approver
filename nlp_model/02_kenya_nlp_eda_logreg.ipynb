{
 "cells": [
  {
   "cell_type": "markdown",
   "metadata": {},
   "source": [
    "# This notebook is a recreation of the previous notebook with joined tags. Instead of vectorizing each word in a single tag each tag is counted as a single word. \n",
    "The following steps were taken to process and model the text data: combined tags, combined text columns, regex, lemmatize, stopwords, saved to csv, reread csv and dropped nulls, modeling."
   ]
  },
  {
   "cell_type": "code",
   "execution_count": 3,
   "metadata": {},
   "outputs": [],
   "source": [
    "import pandas as pd\n",
    "import numpy as np\n",
    "import matplotlib.pyplot as plt\n",
    "import seaborn as sns\n",
    "\n",
    "from nltk.corpus import stopwords\n",
    "from nltk.sentiment.vader import SentimentIntensityAnalyzer\n",
    "from nltk import FreqDist\n",
    "from nltk.tokenize import RegexpTokenizer\n",
    "from nltk.stem import WordNetLemmatizer\n",
    "from nltk.stem.porter import PorterStemmer\n",
    "\n",
    "from sklearn.preprocessing import StandardScaler\n",
    "from sklearn.neighbors import KNeighborsClassifier\n",
    "from sklearn.model_selection import train_test_split, GridSearchCV, cross_val_score\n",
    "from sklearn.pipeline import Pipeline\n",
    "from sklearn.naive_bayes import MultinomialNB, BernoulliNB\n",
    "from sklearn.linear_model import LogisticRegression\n",
    "from sklearn.metrics import confusion_matrix, ConfusionMatrixDisplay, classification_report, roc_auc_score\n",
    "from sklearn.feature_extraction.text import CountVectorizer, TfidfVectorizer\n",
    "\n",
    "from sklearn.tree import DecisionTreeClassifier, plot_tree, export_text\n",
    "from sklearn.ensemble import BaggingClassifier, AdaBoostClassifier, RandomForestClassifier, ExtraTreesClassifier, GradientBoostingClassifier"
   ]
  },
  {
   "cell_type": "code",
   "execution_count": 2,
   "metadata": {},
   "outputs": [],
   "source": [
    "# reading in original dataset\n",
    "full_kiva = pd.read_csv('/Users/precious/dsi/Group-Project/kivamix.csv')"
   ]
  },
  {
   "cell_type": "code",
   "execution_count": 3,
   "metadata": {},
   "outputs": [],
   "source": [
    "# keeping only columns I want\n",
    "full_kiva = full_kiva[['LOAN_ID', 'COUNTRY_NAME', 'STATUS', 'DESCRIPTION_TRANSLATED', 'LOAN_USE', 'TAGS']]"
   ]
  },
  {
   "cell_type": "code",
   "execution_count": 4,
   "metadata": {},
   "outputs": [],
   "source": [
    "# creating dataframe of only loans from Kenya\n",
    "kiva = full_kiva[full_kiva['COUNTRY_NAME']=='Kenya']"
   ]
  },
  {
   "cell_type": "code",
   "execution_count": 5,
   "metadata": {},
   "outputs": [
    {
     "name": "stdout",
     "output_type": "stream",
     "text": [
      "<class 'pandas.core.frame.DataFrame'>\n",
      "Int64Index: 51170 entries, 7 to 419149\n",
      "Data columns (total 6 columns):\n",
      " #   Column                  Non-Null Count  Dtype \n",
      "---  ------                  --------------  ----- \n",
      " 0   LOAN_ID                 51170 non-null  int64 \n",
      " 1   COUNTRY_NAME            51170 non-null  object\n",
      " 2   STATUS                  51170 non-null  int64 \n",
      " 3   DESCRIPTION_TRANSLATED  50025 non-null  object\n",
      " 4   LOAN_USE                50025 non-null  object\n",
      " 5   TAGS                    43157 non-null  object\n",
      "dtypes: int64(2), object(4)\n",
      "memory usage: 2.7+ MB\n"
     ]
    }
   ],
   "source": [
    "kiva.info()"
   ]
  },
  {
   "cell_type": "code",
   "execution_count": 6,
   "metadata": {},
   "outputs": [
    {
     "data": {
      "text/plain": [
       "1    0.784659\n",
       "0    0.215341\n",
       "Name: STATUS, dtype: float64"
      ]
     },
     "execution_count": 6,
     "metadata": {},
     "output_type": "execute_result"
    }
   ],
   "source": [
    "# null scores\n",
    "kiva['STATUS'].value_counts(normalize=True)"
   ]
  },
  {
   "cell_type": "markdown",
   "metadata": {},
   "source": [
    "### Cleaning and preprocessing text data."
   ]
  },
  {
   "cell_type": "code",
   "execution_count": 7,
   "metadata": {},
   "outputs": [],
   "source": [
    "# filling nulls with blank spaces so they aren't erased when combined\n",
    "kiva = kiva.fillna(' ')"
   ]
  },
  {
   "cell_type": "code",
   "execution_count": 8,
   "metadata": {},
   "outputs": [
    {
     "name": "stdout",
     "output_type": "stream",
     "text": [
      "<class 'pandas.core.frame.DataFrame'>\n",
      "Int64Index: 51170 entries, 7 to 419149\n",
      "Data columns (total 6 columns):\n",
      " #   Column                  Non-Null Count  Dtype \n",
      "---  ------                  --------------  ----- \n",
      " 0   LOAN_ID                 51170 non-null  int64 \n",
      " 1   COUNTRY_NAME            51170 non-null  object\n",
      " 2   STATUS                  51170 non-null  int64 \n",
      " 3   DESCRIPTION_TRANSLATED  51170 non-null  object\n",
      " 4   LOAN_USE                51170 non-null  object\n",
      " 5   TAGS                    51170 non-null  object\n",
      "dtypes: int64(2), object(4)\n",
      "memory usage: 2.7+ MB\n"
     ]
    }
   ],
   "source": [
    "kiva.info()"
   ]
  },
  {
   "cell_type": "code",
   "execution_count": 9,
   "metadata": {},
   "outputs": [],
   "source": [
    "# removing spaces within tags and creating new column w/changes to TAGS\n",
    "kiva['processed_TAGS'] = [row.replace(' ', '') for row in kiva['TAGS']]"
   ]
  },
  {
   "cell_type": "code",
   "execution_count": 10,
   "metadata": {},
   "outputs": [],
   "source": [
    "# removing dashes within tags \n",
    "kiva['processed_TAGS'] = [row.replace('-', '') for row in kiva['processed_TAGS']]"
   ]
  },
  {
   "cell_type": "code",
   "execution_count": 11,
   "metadata": {},
   "outputs": [],
   "source": [
    "# creating column with all text included\n",
    "kiva['all_text'] = (kiva['DESCRIPTION_TRANSLATED']+kiva['LOAN_USE']+kiva['processed_TAGS'])"
   ]
  },
  {
   "cell_type": "code",
   "execution_count": 12,
   "metadata": {},
   "outputs": [],
   "source": [
    "# removing html breaks\n",
    "kiva['all_text'] = kiva['all_text'].str.replace('<br />', ' ')"
   ]
  },
  {
   "cell_type": "code",
   "execution_count": 16,
   "metadata": {},
   "outputs": [
    {
     "data": {
      "text/plain": [
       "7     Dinnah is 43 years of age and a proud mother o...\n",
       "16    Resy is a married woman and has been blessed w...\n",
       "21    Lavenda is happily married and has been blesse...\n",
       "41    Hadija is a Kiva borrower. She describes herse...\n",
       "57    Purity, aged 28, is a lovely mother of two chi...\n",
       "Name: all_text, dtype: object"
      ]
     },
     "execution_count": 16,
     "metadata": {},
     "output_type": "execute_result"
    }
   ],
   "source": [
    "kiva['all_text'].head()"
   ]
  },
  {
   "cell_type": "code",
   "execution_count": 17,
   "metadata": {},
   "outputs": [],
   "source": [
    "# Removing punctuation from text\n",
    "tokenizer = RegexpTokenizer('\\w+|\\$[\\d.]+|S+')\n",
    "kiva['all_text'] = [tokenizer.tokenize(row.lower()) for row in kiva['all_text']]"
   ]
  },
  {
   "cell_type": "code",
   "execution_count": 18,
   "metadata": {},
   "outputs": [],
   "source": [
    "# removing s's from ends of words to be able to count singulars and plurals together\n",
    "lemmatizer = WordNetLemmatizer()\n",
    "kiva['all_text'] = [[lemmatizer.lemmatize(token) for token in token_list] for token_list in kiva['all_text']]"
   ]
  },
  {
   "cell_type": "code",
   "execution_count": 19,
   "metadata": {},
   "outputs": [],
   "source": [
    "# removing most common english words from text\n",
    "kiva['all_text'] = [[token for token in token_list if token not in stopwords.words('english')] for token_list in kiva['all_text']]"
   ]
  },
  {
   "cell_type": "code",
   "execution_count": 20,
   "metadata": {},
   "outputs": [
    {
     "data": {
      "text/plain": [
       "LOAN_ID                   0\n",
       "COUNTRY_NAME              0\n",
       "STATUS                    0\n",
       "DESCRIPTION_TRANSLATED    0\n",
       "LOAN_USE                  0\n",
       "TAGS                      0\n",
       "processed_TAGS            0\n",
       "all_text                  0\n",
       "dtype: int64"
      ]
     },
     "execution_count": 20,
     "metadata": {},
     "output_type": "execute_result"
    }
   ],
   "source": [
    "kiva.isnull().sum()"
   ]
  },
  {
   "cell_type": "code",
   "execution_count": 26,
   "metadata": {},
   "outputs": [],
   "source": [
    "# rejoining list of words in each row\n",
    "kiva['joined_text'] = [' '.join(row) for row in kiva['all_text']]"
   ]
  },
  {
   "cell_type": "code",
   "execution_count": 28,
   "metadata": {},
   "outputs": [],
   "source": [
    "# saving processed dataset to new csv for later use\n",
    "kiva.to_csv('/Users/precious/dsi/Group-Project/kenya_joined_tags_full_text.csv', index=False)"
   ]
  },
  {
   "cell_type": "code",
   "execution_count": 105,
   "metadata": {},
   "outputs": [],
   "source": [
    "# new_kiva = pd.read_csv('/Users/precious/dsi/Group-Project/kiva_kenya_processed.csv')"
   ]
  },
  {
   "cell_type": "code",
   "execution_count": 29,
   "metadata": {},
   "outputs": [
    {
     "data": {
      "text/plain": [
       "LOAN_ID                   0\n",
       "COUNTRY_NAME              0\n",
       "STATUS                    0\n",
       "DESCRIPTION_TRANSLATED    0\n",
       "LOAN_USE                  0\n",
       "TAGS                      0\n",
       "processed_TAGS            0\n",
       "all_text                  0\n",
       "joined_text               0\n",
       "dtype: int64"
      ]
     },
     "execution_count": 29,
     "metadata": {},
     "output_type": "execute_result"
    }
   ],
   "source": [
    "kiva.isnull().sum()"
   ]
  },
  {
   "cell_type": "code",
   "execution_count": 27,
   "metadata": {},
   "outputs": [
    {
     "data": {
      "text/html": [
       "<div>\n",
       "<style scoped>\n",
       "    .dataframe tbody tr th:only-of-type {\n",
       "        vertical-align: middle;\n",
       "    }\n",
       "\n",
       "    .dataframe tbody tr th {\n",
       "        vertical-align: top;\n",
       "    }\n",
       "\n",
       "    .dataframe thead th {\n",
       "        text-align: right;\n",
       "    }\n",
       "</style>\n",
       "<table border=\"1\" class=\"dataframe\">\n",
       "  <thead>\n",
       "    <tr style=\"text-align: right;\">\n",
       "      <th></th>\n",
       "      <th>LOAN_ID</th>\n",
       "      <th>COUNTRY_NAME</th>\n",
       "      <th>STATUS</th>\n",
       "      <th>DESCRIPTION_TRANSLATED</th>\n",
       "      <th>LOAN_USE</th>\n",
       "      <th>TAGS</th>\n",
       "      <th>processed_TAGS</th>\n",
       "      <th>all_text</th>\n",
       "      <th>joined_text</th>\n",
       "    </tr>\n",
       "  </thead>\n",
       "  <tbody>\n",
       "    <tr>\n",
       "      <th>7</th>\n",
       "      <td>1799331</td>\n",
       "      <td>Kenya</td>\n",
       "      <td>1</td>\n",
       "      <td>Dinnah is 43 years of age and a proud mother o...</td>\n",
       "      <td>to buy farm inputs such as seeds and fertilize...</td>\n",
       "      <td>#Parent</td>\n",
       "      <td>#Parent</td>\n",
       "      <td>[dinnah, 43, year, age, proud, mother, 5, 4, s...</td>\n",
       "      <td>dinnah 43 year age proud mother 5 4 school goi...</td>\n",
       "    </tr>\n",
       "  </tbody>\n",
       "</table>\n",
       "</div>"
      ],
      "text/plain": [
       "   LOAN_ID COUNTRY_NAME  STATUS  \\\n",
       "7  1799331        Kenya       1   \n",
       "\n",
       "                              DESCRIPTION_TRANSLATED  \\\n",
       "7  Dinnah is 43 years of age and a proud mother o...   \n",
       "\n",
       "                                            LOAN_USE     TAGS processed_TAGS  \\\n",
       "7  to buy farm inputs such as seeds and fertilize...  #Parent        #Parent   \n",
       "\n",
       "                                            all_text  \\\n",
       "7  [dinnah, 43, year, age, proud, mother, 5, 4, s...   \n",
       "\n",
       "                                         joined_text  \n",
       "7  dinnah 43 year age proud mother 5 4 school goi...  "
      ]
     },
     "execution_count": 27,
     "metadata": {},
     "output_type": "execute_result"
    }
   ],
   "source": [
    "kiva.head(1)"
   ]
  },
  {
   "cell_type": "code",
   "execution_count": 4,
   "metadata": {},
   "outputs": [],
   "source": [
    "# rereading in data to remove nulls\n",
    "processed_kiva = pd.read_csv('/Users/precious/dsi/Group-Project/kenya_joined_tags_full_text.csv')"
   ]
  },
  {
   "cell_type": "code",
   "execution_count": 5,
   "metadata": {},
   "outputs": [
    {
     "name": "stdout",
     "output_type": "stream",
     "text": [
      "<class 'pandas.core.frame.DataFrame'>\n",
      "RangeIndex: 51170 entries, 0 to 51169\n",
      "Data columns (total 9 columns):\n",
      " #   Column                  Non-Null Count  Dtype \n",
      "---  ------                  --------------  ----- \n",
      " 0   LOAN_ID                 51170 non-null  int64 \n",
      " 1   COUNTRY_NAME            51170 non-null  object\n",
      " 2   STATUS                  51170 non-null  int64 \n",
      " 3   DESCRIPTION_TRANSLATED  51170 non-null  object\n",
      " 4   LOAN_USE                51170 non-null  object\n",
      " 5   TAGS                    51170 non-null  object\n",
      " 6   processed_TAGS          43157 non-null  object\n",
      " 7   all_text                51170 non-null  object\n",
      " 8   joined_text             51019 non-null  object\n",
      "dtypes: int64(2), object(7)\n",
      "memory usage: 3.5+ MB\n"
     ]
    }
   ],
   "source": [
    "processed_kiva.info()"
   ]
  },
  {
   "cell_type": "code",
   "execution_count": 6,
   "metadata": {},
   "outputs": [],
   "source": [
    "# dropping nulls from column being used for modeling\n",
    "processed_kiva.dropna(subset=['joined_text'], axis=0, inplace=True)"
   ]
  },
  {
   "cell_type": "code",
   "execution_count": 7,
   "metadata": {},
   "outputs": [
    {
     "name": "stdout",
     "output_type": "stream",
     "text": [
      "<class 'pandas.core.frame.DataFrame'>\n",
      "Int64Index: 51019 entries, 0 to 51169\n",
      "Data columns (total 9 columns):\n",
      " #   Column                  Non-Null Count  Dtype \n",
      "---  ------                  --------------  ----- \n",
      " 0   LOAN_ID                 51019 non-null  int64 \n",
      " 1   COUNTRY_NAME            51019 non-null  object\n",
      " 2   STATUS                  51019 non-null  int64 \n",
      " 3   DESCRIPTION_TRANSLATED  51019 non-null  object\n",
      " 4   LOAN_USE                51019 non-null  object\n",
      " 5   TAGS                    51019 non-null  object\n",
      " 6   processed_TAGS          43157 non-null  object\n",
      " 7   all_text                51019 non-null  object\n",
      " 8   joined_text             51019 non-null  object\n",
      "dtypes: int64(2), object(7)\n",
      "memory usage: 3.9+ MB\n"
     ]
    }
   ],
   "source": [
    "processed_kiva.info()"
   ]
  },
  {
   "cell_type": "markdown",
   "metadata": {},
   "source": [
    "### EDA and Modeling Joined Text w/Joined Tags"
   ]
  },
  {
   "cell_type": "code",
   "execution_count": 10,
   "metadata": {},
   "outputs": [],
   "source": [
    "X = processed_kiva['joined_text']\n",
    "y = processed_kiva['STATUS']"
   ]
  },
  {
   "cell_type": "code",
   "execution_count": 11,
   "metadata": {},
   "outputs": [],
   "source": [
    "X_train, X_test, y_train, y_test = train_test_split(X, y, stratify=y, random_state=42)"
   ]
  },
  {
   "cell_type": "code",
   "execution_count": 12,
   "metadata": {},
   "outputs": [
    {
     "data": {
      "text/plain": [
       "1    0.784041\n",
       "0    0.215959\n",
       "Name: STATUS, dtype: float64"
      ]
     },
     "execution_count": 12,
     "metadata": {},
     "output_type": "execute_result"
    }
   ],
   "source": [
    "# null model scores\n",
    "y.value_counts(normalize=True)"
   ]
  },
  {
   "cell_type": "code",
   "execution_count": 15,
   "metadata": {},
   "outputs": [],
   "source": [
    "# vectorizing text with 1,2 ngrams and 10,000 max features instead of 20,000 from previous notebook\n",
    "tvec = TfidfVectorizer(ngram_range=(1,2), max_features=10_000)\n",
    "X_train_tvec = tvec.fit_transform(X_train)\n",
    "X_test_tvec = tvec.transform(X_test)"
   ]
  },
  {
   "cell_type": "code",
   "execution_count": 16,
   "metadata": {},
   "outputs": [
    {
     "data": {
      "text/plain": [
       "(38264, 10000)"
      ]
     },
     "execution_count": 16,
     "metadata": {},
     "output_type": "execute_result"
    }
   ],
   "source": [
    "X_train_tvec.shape"
   ]
  },
  {
   "cell_type": "code",
   "execution_count": 17,
   "metadata": {},
   "outputs": [
    {
     "data": {
      "image/png": "[encoded data removed]",
      "text/plain": [
       "<Figure size 432x288 with 1 Axes>"
      ]
     },
     "metadata": {
      "needs_background": "light"
     },
     "output_type": "display_data"
    }
   ],
   "source": [
    "# top-occurring words\n",
    "X_train_tvec_df = pd.DataFrame(X_train_tvec.todense(),\n",
    "                         columns=tvec.get_feature_names())\n",
    "\n",
    "X_train_tvec_df.sum().sort_values(ascending = False).head(10).plot(kind='barh');"
   ]
  },
  {
   "cell_type": "markdown",
   "metadata": {},
   "source": [
    "The above chart shows the most occuring words in all of the combined text for both funded and expired loans. We can interpret this as most loan requests are to purchase or buy things for a business that includes a farm or farming. "
   ]
  },
  {
   "cell_type": "code",
   "execution_count": 27,
   "metadata": {},
   "outputs": [],
   "source": [
    "# top-occurring words separated by status\n",
    "success_df = pd.DataFrame(tvec.fit_transform(processed_kiva['joined_text'][processed_kiva['STATUS'] == 1]).todense(),\n",
    "                         columns=tvec.get_feature_names())\n",
    "\n",
    "expired_df = pd.DataFrame(tvec.fit_transform(processed_kiva['joined_text'][processed_kiva['STATUS'] == 0]).todense(),\n",
    "                         columns=tvec.get_feature_names())"
   ]
  },
  {
   "cell_type": "code",
   "execution_count": 28,
   "metadata": {},
   "outputs": [],
   "source": [
    "# creating dataframes of top 15 words for either funded or expired \n",
    "top_success = success_df.sum().sort_values(ascending = False).head(15)\n",
    "top_expired = expired_df.sum().sort_values(ascending = False).head(15)"
   ]
  },
  {
   "cell_type": "code",
   "execution_count": 30,
   "metadata": {},
   "outputs": [
    {
     "data": {
      "image/png": "[encoded data removed]",
      "text/plain": [
       "<Figure size 1440x360 with 2 Axes>"
      ]
     },
     "metadata": {
      "needs_background": "light"
     },
     "output_type": "display_data"
    }
   ],
   "source": [
    "fig, (ax1, ax2) = plt.subplots(nrows=1, ncols=2, figsize=(20,5));\n",
    "fig.tight_layout(pad =3)\n",
    "\n",
    "ax1.bar(top_success.index, top_success);\n",
    "ax1.set(title='Successful Loans', ylabel='doc. frequency');\n",
    "ax1.tick_params('x', labelrotation=-45); \n",
    "ax1.set_ylim([0, 2000]);\n",
    "ax2.bar(top_expired.index, top_expired);\n",
    "ax2.set(title='Expired Loans', ylabel = 'doc. frequency');\n",
    "ax2.tick_params('x', labelrotation=-45); \n",
    "ax2.set_ylim([0, 2000]);\n"
   ]
  },
  {
   "cell_type": "markdown",
   "metadata": {},
   "source": [
    "The above charts show us the most frequently used words for funded/successful loans and expired loans. Most of the words are the same for both categories. Mentioning a child, family or group is common. Also mentioning business, farm, farming or farmer. This tells me that most of the people in Kenya who are using kiva.org for loan funding are using it to help their agricultural businesses."
   ]
  },
  {
   "cell_type": "code",
   "execution_count": 31,
   "metadata": {},
   "outputs": [
    {
     "data": {
      "text/plain": [
       "LogisticRegression(max_iter=1000)"
      ]
     },
     "execution_count": 31,
     "metadata": {},
     "output_type": "execute_result"
    }
   ],
   "source": [
    "logreg = LogisticRegression(max_iter=1000)\n",
    "logreg.fit(X_train_tvec, y_train)"
   ]
  },
  {
   "cell_type": "code",
   "execution_count": 32,
   "metadata": {},
   "outputs": [
    {
     "name": "stdout",
     "output_type": "stream",
     "text": [
      "Train score: 0.8373928496759356\n",
      "Test score: 0.8214817718541748\n"
     ]
    }
   ],
   "source": [
    "# scoring logistic regression (ngram1,2, max_feat10_000\n",
    "print(f'Train score: {logreg.score(X_train_tvec, y_train)}')\n",
    "print(f'Test score: {logreg.score(X_test_tvec, y_test)}')"
   ]
  },
  {
   "cell_type": "code",
   "execution_count": 33,
   "metadata": {},
   "outputs": [],
   "source": [
    "# creating predictions from test data\n",
    "logreg_preds = logreg.predict(X_test_tvec)"
   ]
  },
  {
   "cell_type": "code",
   "execution_count": 34,
   "metadata": {},
   "outputs": [
    {
     "data": {
      "image/png": "[encoded data removed]",
      "text/plain": [
       "<Figure size 432x288 with 2 Axes>"
      ]
     },
     "metadata": {
      "needs_background": "light"
     },
     "output_type": "display_data"
    }
   ],
   "source": [
    "# showing predictions vs true status where 0=expired and 1=funded\n",
    "logreg_cm = confusion_matrix(y_test, logreg_preds)\n",
    "ConfusionMatrixDisplay(logreg_cm).plot();"
   ]
  },
  {
   "cell_type": "code",
   "execution_count": 41,
   "metadata": {},
   "outputs": [
    {
     "name": "stdout",
     "output_type": "stream",
     "text": [
      "ROC AUC: 0.6386892014519057\n",
      "Cross Val Score: 0.8163809445126128\n"
     ]
    }
   ],
   "source": [
    "print(f'ROC AUC: {roc_auc_score(y_test, logreg_preds)}')\n",
    "print(f'Cross Val Score: {cross_val_score(logreg, X_train_tvec, y_train, cv=3).mean()}')"
   ]
  },
  {
   "cell_type": "code",
   "execution_count": 36,
   "metadata": {},
   "outputs": [
    {
     "name": "stdout",
     "output_type": "stream",
     "text": [
      "              precision    recall  f1-score   support\n",
      "\n",
      "           0       0.69      0.32      0.43      2755\n",
      "           1       0.84      0.96      0.89     10000\n",
      "\n",
      "    accuracy                           0.82     12755\n",
      "   macro avg       0.76      0.64      0.66     12755\n",
      "weighted avg       0.80      0.82      0.79     12755\n",
      "\n"
     ]
    }
   ],
   "source": [
    "print(classification_report(y_test, logreg_preds))"
   ]
  },
  {
   "cell_type": "code",
   "execution_count": 37,
   "metadata": {},
   "outputs": [],
   "source": [
    "# creating dataframe of coefs\n",
    "word_coef_df = pd.DataFrame({'coefs': logreg.coef_[0], 'features': tvec.get_feature_names()})"
   ]
  },
  {
   "cell_type": "code",
   "execution_count": 39,
   "metadata": {},
   "outputs": [
    {
     "data": {
      "text/html": [
       "<div>\n",
       "<style scoped>\n",
       "    .dataframe tbody tr th:only-of-type {\n",
       "        vertical-align: middle;\n",
       "    }\n",
       "\n",
       "    .dataframe tbody tr th {\n",
       "        vertical-align: top;\n",
       "    }\n",
       "\n",
       "    .dataframe thead th {\n",
       "        text-align: right;\n",
       "    }\n",
       "</style>\n",
       "<table border=\"1\" class=\"dataframe\">\n",
       "  <thead>\n",
       "    <tr style=\"text-align: right;\">\n",
       "      <th></th>\n",
       "      <th>coefs</th>\n",
       "      <th>features</th>\n",
       "    </tr>\n",
       "  </thead>\n",
       "  <tbody>\n",
       "    <tr>\n",
       "      <th>63</th>\n",
       "      <td>5.614132</td>\n",
       "      <td>150</td>\n",
       "    </tr>\n",
       "    <tr>\n",
       "      <th>125</th>\n",
       "      <td>3.470010</td>\n",
       "      <td>26</td>\n",
       "    </tr>\n",
       "    <tr>\n",
       "      <th>5237</th>\n",
       "      <td>3.381368</td>\n",
       "      <td>kilimo microfinance</td>\n",
       "    </tr>\n",
       "    <tr>\n",
       "      <th>8565</th>\n",
       "      <td>3.338394</td>\n",
       "      <td>sirisia district</td>\n",
       "    </tr>\n",
       "    <tr>\n",
       "      <th>62</th>\n",
       "      <td>3.326476</td>\n",
       "      <td>15 year</td>\n",
       "    </tr>\n",
       "    <tr>\n",
       "      <th>9441</th>\n",
       "      <td>3.211537</td>\n",
       "      <td>use part</td>\n",
       "    </tr>\n",
       "    <tr>\n",
       "      <th>8558</th>\n",
       "      <td>3.091468</td>\n",
       "      <td>singleparent</td>\n",
       "    </tr>\n",
       "    <tr>\n",
       "      <th>9743</th>\n",
       "      <td>2.488434</td>\n",
       "      <td>wheat barley</td>\n",
       "    </tr>\n",
       "    <tr>\n",
       "      <th>47</th>\n",
       "      <td>2.448559</td>\n",
       "      <td>120 000</td>\n",
       "    </tr>\n",
       "    <tr>\n",
       "      <th>5230</th>\n",
       "      <td>2.440288</td>\n",
       "      <td>kilimo construct</td>\n",
       "    </tr>\n",
       "    <tr>\n",
       "      <th>9742</th>\n",
       "      <td>2.439046</td>\n",
       "      <td>wheat</td>\n",
       "    </tr>\n",
       "    <tr>\n",
       "      <th>8557</th>\n",
       "      <td>2.396601</td>\n",
       "      <td>single womanownedbusiness</td>\n",
       "    </tr>\n",
       "    <tr>\n",
       "      <th>17</th>\n",
       "      <td>2.304716</td>\n",
       "      <td>000 visionfund</td>\n",
       "    </tr>\n",
       "    <tr>\n",
       "      <th>124</th>\n",
       "      <td>2.266018</td>\n",
       "      <td>25 year</td>\n",
       "    </tr>\n",
       "    <tr>\n",
       "      <th>4028</th>\n",
       "      <td>2.167488</td>\n",
       "      <td>grow vegetable</td>\n",
       "    </tr>\n",
       "    <tr>\n",
       "      <th>9603</th>\n",
       "      <td>2.104467</td>\n",
       "      <td>violence</td>\n",
       "    </tr>\n",
       "    <tr>\n",
       "      <th>8563</th>\n",
       "      <td>2.094023</td>\n",
       "      <td>siongiroi area</td>\n",
       "    </tr>\n",
       "    <tr>\n",
       "      <th>5239</th>\n",
       "      <td>2.063477</td>\n",
       "      <td>kilimo partnered</td>\n",
       "    </tr>\n",
       "    <tr>\n",
       "      <th>4051</th>\n",
       "      <td>2.048536</td>\n",
       "      <td>ha</td>\n",
       "    </tr>\n",
       "    <tr>\n",
       "      <th>9457</th>\n",
       "      <td>1.980387</td>\n",
       "      <td>used meet</td>\n",
       "    </tr>\n",
       "  </tbody>\n",
       "</table>\n",
       "</div>"
      ],
      "text/plain": [
       "         coefs                   features\n",
       "63    5.614132                        150\n",
       "125   3.470010                         26\n",
       "5237  3.381368        kilimo microfinance\n",
       "8565  3.338394           sirisia district\n",
       "62    3.326476                    15 year\n",
       "9441  3.211537                   use part\n",
       "8558  3.091468               singleparent\n",
       "9743  2.488434               wheat barley\n",
       "47    2.448559                    120 000\n",
       "5230  2.440288           kilimo construct\n",
       "9742  2.439046                      wheat\n",
       "8557  2.396601  single womanownedbusiness\n",
       "17    2.304716             000 visionfund\n",
       "124   2.266018                    25 year\n",
       "4028  2.167488             grow vegetable\n",
       "9603  2.104467                   violence\n",
       "8563  2.094023             siongiroi area\n",
       "5239  2.063477           kilimo partnered\n",
       "4051  2.048536                         ha\n",
       "9457  1.980387                  used meet"
      ]
     },
     "execution_count": 39,
     "metadata": {},
     "output_type": "execute_result"
    }
   ],
   "source": [
    "# top 20 features and their coefficients\n",
    "word_coef_df.nlargest(20, 'coefs')"
   ]
  },
  {
   "cell_type": "code",
   "execution_count": 40,
   "metadata": {},
   "outputs": [
    {
     "data": {
      "text/html": [
       "<div>\n",
       "<style scoped>\n",
       "    .dataframe tbody tr th:only-of-type {\n",
       "        vertical-align: middle;\n",
       "    }\n",
       "\n",
       "    .dataframe tbody tr th {\n",
       "        vertical-align: top;\n",
       "    }\n",
       "\n",
       "    .dataframe thead th {\n",
       "        text-align: right;\n",
       "    }\n",
       "</style>\n",
       "<table border=\"1\" class=\"dataframe\">\n",
       "  <thead>\n",
       "    <tr style=\"text-align: right;\">\n",
       "      <th></th>\n",
       "      <th>coefs</th>\n",
       "      <th>features</th>\n",
       "    </tr>\n",
       "  </thead>\n",
       "  <tbody>\n",
       "    <tr>\n",
       "      <th>27</th>\n",
       "      <td>-4.320953</td>\n",
       "      <td>10 solar</td>\n",
       "    </tr>\n",
       "    <tr>\n",
       "      <th>26</th>\n",
       "      <td>-4.180876</td>\n",
       "      <td>10 liter</td>\n",
       "    </tr>\n",
       "    <tr>\n",
       "      <th>6045</th>\n",
       "      <td>-3.664855</td>\n",
       "      <td>mark</td>\n",
       "    </tr>\n",
       "    <tr>\n",
       "      <th>7910</th>\n",
       "      <td>-3.484908</td>\n",
       "      <td>respect</td>\n",
       "    </tr>\n",
       "    <tr>\n",
       "      <th>7893</th>\n",
       "      <td>-3.371616</td>\n",
       "      <td>residence since</td>\n",
       "    </tr>\n",
       "    <tr>\n",
       "      <th>954</th>\n",
       "      <td>-3.265535</td>\n",
       "      <td>bondo</td>\n",
       "    </tr>\n",
       "    <tr>\n",
       "      <th>6921</th>\n",
       "      <td>-3.145058</td>\n",
       "      <td>part one</td>\n",
       "    </tr>\n",
       "    <tr>\n",
       "      <th>52</th>\n",
       "      <td>-2.864306</td>\n",
       "      <td>130</td>\n",
       "    </tr>\n",
       "    <tr>\n",
       "      <th>51</th>\n",
       "      <td>-2.810579</td>\n",
       "      <td>13 year</td>\n",
       "    </tr>\n",
       "    <tr>\n",
       "      <th>38</th>\n",
       "      <td>-2.748698</td>\n",
       "      <td>110</td>\n",
       "    </tr>\n",
       "    <tr>\n",
       "      <th>216</th>\n",
       "      <td>-2.706491</td>\n",
       "      <td>67</td>\n",
       "    </tr>\n",
       "    <tr>\n",
       "      <th>6607</th>\n",
       "      <td>-2.569605</td>\n",
       "      <td>npeter</td>\n",
       "    </tr>\n",
       "    <tr>\n",
       "      <th>215</th>\n",
       "      <td>-2.551535</td>\n",
       "      <td>66 year</td>\n",
       "    </tr>\n",
       "    <tr>\n",
       "      <th>37</th>\n",
       "      <td>-2.547320</td>\n",
       "      <td>11 year</td>\n",
       "    </tr>\n",
       "    <tr>\n",
       "      <th>8497</th>\n",
       "      <td>-2.531583</td>\n",
       "      <td>shop womanownedbusiness</td>\n",
       "    </tr>\n",
       "    <tr>\n",
       "      <th>5232</th>\n",
       "      <td>-2.498800</td>\n",
       "      <td>kilimo expanding</td>\n",
       "    </tr>\n",
       "    <tr>\n",
       "      <th>5708</th>\n",
       "      <td>-2.426545</td>\n",
       "      <td>loan investment</td>\n",
       "    </tr>\n",
       "    <tr>\n",
       "      <th>6449</th>\n",
       "      <td>-2.410269</td>\n",
       "      <td>na</td>\n",
       "    </tr>\n",
       "    <tr>\n",
       "      <th>210</th>\n",
       "      <td>-2.361104</td>\n",
       "      <td>64 year</td>\n",
       "    </tr>\n",
       "    <tr>\n",
       "      <th>3369</th>\n",
       "      <td>-2.278040</td>\n",
       "      <td>feed livestock</td>\n",
       "    </tr>\n",
       "  </tbody>\n",
       "</table>\n",
       "</div>"
      ],
      "text/plain": [
       "         coefs                 features\n",
       "27   -4.320953                 10 solar\n",
       "26   -4.180876                 10 liter\n",
       "6045 -3.664855                     mark\n",
       "7910 -3.484908                  respect\n",
       "7893 -3.371616          residence since\n",
       "954  -3.265535                    bondo\n",
       "6921 -3.145058                 part one\n",
       "52   -2.864306                      130\n",
       "51   -2.810579                  13 year\n",
       "38   -2.748698                      110\n",
       "216  -2.706491                       67\n",
       "6607 -2.569605                   npeter\n",
       "215  -2.551535                  66 year\n",
       "37   -2.547320                  11 year\n",
       "8497 -2.531583  shop womanownedbusiness\n",
       "5232 -2.498800         kilimo expanding\n",
       "5708 -2.426545          loan investment\n",
       "6449 -2.410269                       na\n",
       "210  -2.361104                  64 year\n",
       "3369 -2.278040           feed livestock"
      ]
     },
     "execution_count": 40,
     "metadata": {},
     "output_type": "execute_result"
    }
   ],
   "source": [
    "# lowest 20 features and their coefficients\n",
    "word_coef_df.nsmallest(20, 'coefs')"
   ]
  },
  {
   "cell_type": "markdown",
   "metadata": {},
   "source": [
    "### Exploring Where and When Classification Errors Occur (Adapted from Rachel Insler's Code)"
   ]
  },
  {
   "cell_type": "code",
   "execution_count": 42,
   "metadata": {},
   "outputs": [
    {
     "data": {
      "text/html": [
       "<div>\n",
       "<style scoped>\n",
       "    .dataframe tbody tr th:only-of-type {\n",
       "        vertical-align: middle;\n",
       "    }\n",
       "\n",
       "    .dataframe tbody tr th {\n",
       "        vertical-align: top;\n",
       "    }\n",
       "\n",
       "    .dataframe thead th {\n",
       "        text-align: right;\n",
       "    }\n",
       "</style>\n",
       "<table border=\"1\" class=\"dataframe\">\n",
       "  <thead>\n",
       "    <tr style=\"text-align: right;\">\n",
       "      <th></th>\n",
       "      <th>STATUS</th>\n",
       "      <th>preds</th>\n",
       "    </tr>\n",
       "  </thead>\n",
       "  <tbody>\n",
       "    <tr>\n",
       "      <th>16990</th>\n",
       "      <td>1</td>\n",
       "      <td>1</td>\n",
       "    </tr>\n",
       "    <tr>\n",
       "      <th>31018</th>\n",
       "      <td>0</td>\n",
       "      <td>0</td>\n",
       "    </tr>\n",
       "    <tr>\n",
       "      <th>18123</th>\n",
       "      <td>1</td>\n",
       "      <td>1</td>\n",
       "    </tr>\n",
       "    <tr>\n",
       "      <th>7946</th>\n",
       "      <td>1</td>\n",
       "      <td>1</td>\n",
       "    </tr>\n",
       "    <tr>\n",
       "      <th>28</th>\n",
       "      <td>1</td>\n",
       "      <td>1</td>\n",
       "    </tr>\n",
       "  </tbody>\n",
       "</table>\n",
       "</div>"
      ],
      "text/plain": [
       "       STATUS  preds\n",
       "16990       1      1\n",
       "31018       0      0\n",
       "18123       1      1\n",
       "7946        1      1\n",
       "28          1      1"
      ]
     },
     "execution_count": 42,
     "metadata": {},
     "output_type": "execute_result"
    }
   ],
   "source": [
    "# Create DataFrame with column for true values.\n",
    "results = pd.DataFrame(y_test)\n",
    "\n",
    "#add in predictions\n",
    "results['preds'] = (logreg.predict(X_test_tvec))\n",
    "results.head()"
   ]
  },
  {
   "cell_type": "code",
   "execution_count": 43,
   "metadata": {},
   "outputs": [
    {
     "name": "stdout",
     "output_type": "stream",
     "text": [
      "Int64Index([12158, 18920, 38469, 24123, 27421, 43418,  9468, 30459, 24915,\n",
      "            41858, 25476,  5192, 14418, 46311, 36241],\n",
      "           dtype='int64')\n"
     ]
    }
   ],
   "source": [
    "# Find all indices where predicted and true results aren't the same, then save in an array.\n",
    "row_ids = results[results['STATUS'] != results['preds']].index\n",
    "print(row_ids[0:15])"
   ]
  },
  {
   "cell_type": "code",
   "execution_count": 77,
   "metadata": {},
   "outputs": [],
   "source": [
    "#Create a dataframe of the misclassified descriptions  \n",
    "misclassified = processed_kiva.loc[row_ids]"
   ]
  },
  {
   "cell_type": "code",
   "execution_count": 78,
   "metadata": {},
   "outputs": [
    {
     "data": {
      "text/plain": [
       "(2277, 9)"
      ]
     },
     "execution_count": 78,
     "metadata": {},
     "output_type": "execute_result"
    }
   ],
   "source": [
    "misclassified.shape"
   ]
  },
  {
   "cell_type": "code",
   "execution_count": 79,
   "metadata": {},
   "outputs": [
    {
     "data": {
      "text/html": [
       "<div>\n",
       "<style scoped>\n",
       "    .dataframe tbody tr th:only-of-type {\n",
       "        vertical-align: middle;\n",
       "    }\n",
       "\n",
       "    .dataframe tbody tr th {\n",
       "        vertical-align: top;\n",
       "    }\n",
       "\n",
       "    .dataframe thead th {\n",
       "        text-align: right;\n",
       "    }\n",
       "</style>\n",
       "<table border=\"1\" class=\"dataframe\">\n",
       "  <thead>\n",
       "    <tr style=\"text-align: right;\">\n",
       "      <th></th>\n",
       "      <th>LOAN_ID</th>\n",
       "      <th>COUNTRY_NAME</th>\n",
       "      <th>STATUS</th>\n",
       "      <th>DESCRIPTION_TRANSLATED</th>\n",
       "      <th>LOAN_USE</th>\n",
       "      <th>TAGS</th>\n",
       "      <th>processed_TAGS</th>\n",
       "      <th>all_text</th>\n",
       "      <th>joined_text</th>\n",
       "    </tr>\n",
       "  </thead>\n",
       "  <tbody>\n",
       "    <tr>\n",
       "      <th>12158</th>\n",
       "      <td>1739103</td>\n",
       "      <td>Kenya</td>\n",
       "      <td>0</td>\n",
       "      <td>Prisca is a 51-year-old mom with three lovely ...</td>\n",
       "      <td>to buy hybrid seeds and nutrient-rich fertiliz...</td>\n",
       "      <td>#Woman-Owned Business, #Parent, #Elderly</td>\n",
       "      <td>#WomanOwnedBusiness,#Parent,#Elderly</td>\n",
       "      <td>['prisca', '51', 'year', 'old', 'mom', 'three'...</td>\n",
       "      <td>prisca 51 year old mom three lovely school goi...</td>\n",
       "    </tr>\n",
       "    <tr>\n",
       "      <th>18920</th>\n",
       "      <td>1456198</td>\n",
       "      <td>Kenya</td>\n",
       "      <td>0</td>\n",
       "      <td>“When you are born in the ghetto and in a poor...</td>\n",
       "      <td>to buy farm inputs such as fertilizer and seed...</td>\n",
       "      <td>user_favorite, #Parent</td>\n",
       "      <td>user_favorite,#Parent</td>\n",
       "      <td>['born', 'ghetto', 'poor', 'family', 'doe', 'l...</td>\n",
       "      <td>born ghetto poor family doe limit achieving go...</td>\n",
       "    </tr>\n",
       "  </tbody>\n",
       "</table>\n",
       "</div>"
      ],
      "text/plain": [
       "       LOAN_ID COUNTRY_NAME  STATUS  \\\n",
       "12158  1739103        Kenya       0   \n",
       "18920  1456198        Kenya       0   \n",
       "\n",
       "                                  DESCRIPTION_TRANSLATED  \\\n",
       "12158  Prisca is a 51-year-old mom with three lovely ...   \n",
       "18920  “When you are born in the ghetto and in a poor...   \n",
       "\n",
       "                                                LOAN_USE  \\\n",
       "12158  to buy hybrid seeds and nutrient-rich fertiliz...   \n",
       "18920  to buy farm inputs such as fertilizer and seed...   \n",
       "\n",
       "                                           TAGS  \\\n",
       "12158  #Woman-Owned Business, #Parent, #Elderly   \n",
       "18920                    user_favorite, #Parent   \n",
       "\n",
       "                             processed_TAGS  \\\n",
       "12158  #WomanOwnedBusiness,#Parent,#Elderly   \n",
       "18920                 user_favorite,#Parent   \n",
       "\n",
       "                                                all_text  \\\n",
       "12158  ['prisca', '51', 'year', 'old', 'mom', 'three'...   \n",
       "18920  ['born', 'ghetto', 'poor', 'family', 'doe', 'l...   \n",
       "\n",
       "                                             joined_text  \n",
       "12158  prisca 51 year old mom three lovely school goi...  \n",
       "18920  born ghetto poor family doe limit achieving go...  "
      ]
     },
     "execution_count": 79,
     "metadata": {},
     "output_type": "execute_result"
    }
   ],
   "source": [
    "misclassified.head(2)"
   ]
  },
  {
   "cell_type": "code",
   "execution_count": 80,
   "metadata": {},
   "outputs": [
    {
     "data": {
      "text/plain": [
       "0    0.826526\n",
       "1    0.173474\n",
       "Name: STATUS, dtype: float64"
      ]
     },
     "execution_count": 80,
     "metadata": {},
     "output_type": "execute_result"
    }
   ],
   "source": [
    "# misclassified by status\n",
    "misclassified['STATUS'].value_counts(normalize=True)"
   ]
  },
  {
   "cell_type": "code",
   "execution_count": 49,
   "metadata": {},
   "outputs": [],
   "source": [
    "#create a dictionary with the probability that a loan will be funded\n",
    "predict_proba_dict = {'probability (success)' : logreg.predict_proba(X_test_tvec)[:,1],\n",
    "                     'prediction' : logreg.predict(X_test_tvec),\n",
    "                     'actual' : y_test,\n",
    "                     'post_text' : X_test}"
   ]
  },
  {
   "cell_type": "code",
   "execution_count": 50,
   "metadata": {},
   "outputs": [],
   "source": [
    "#turn it into a dataframe \n",
    "predict_proba_df = pd.DataFrame(predict_proba_dict)"
   ]
  },
  {
   "cell_type": "markdown",
   "metadata": {},
   "source": [
    "#### False Negatives"
   ]
  },
  {
   "cell_type": "code",
   "execution_count": 51,
   "metadata": {},
   "outputs": [
    {
     "data": {
      "text/html": [
       "<div>\n",
       "<style scoped>\n",
       "    .dataframe tbody tr th:only-of-type {\n",
       "        vertical-align: middle;\n",
       "    }\n",
       "\n",
       "    .dataframe tbody tr th {\n",
       "        vertical-align: top;\n",
       "    }\n",
       "\n",
       "    .dataframe thead th {\n",
       "        text-align: right;\n",
       "    }\n",
       "</style>\n",
       "<table border=\"1\" class=\"dataframe\">\n",
       "  <thead>\n",
       "    <tr style=\"text-align: right;\">\n",
       "      <th></th>\n",
       "      <th>probability (success)</th>\n",
       "      <th>prediction</th>\n",
       "      <th>actual</th>\n",
       "      <th>post_text</th>\n",
       "    </tr>\n",
       "  </thead>\n",
       "  <tbody>\n",
       "    <tr>\n",
       "      <th>23292</th>\n",
       "      <td>0.053010</td>\n",
       "      <td>0</td>\n",
       "      <td>1</td>\n",
       "      <td>george married man ha two child describes hone...</td>\n",
       "    </tr>\n",
       "    <tr>\n",
       "      <th>10864</th>\n",
       "      <td>0.096266</td>\n",
       "      <td>0</td>\n",
       "      <td>1</td>\n",
       "      <td>peter married man ha three child describes hon...</td>\n",
       "    </tr>\n",
       "    <tr>\n",
       "      <th>29092</th>\n",
       "      <td>0.098941</td>\n",
       "      <td>0</td>\n",
       "      <td>1</td>\n",
       "      <td>william 74 year old retail shop proprietor ken...</td>\n",
       "    </tr>\n",
       "    <tr>\n",
       "      <th>29127</th>\n",
       "      <td>0.102617</td>\n",
       "      <td>0</td>\n",
       "      <td>1</td>\n",
       "      <td>joshua married man ha four child describes hon...</td>\n",
       "    </tr>\n",
       "    <tr>\n",
       "      <th>28398</th>\n",
       "      <td>0.106273</td>\n",
       "      <td>0</td>\n",
       "      <td>1</td>\n",
       "      <td>michael 25 year old married man ha one child d...</td>\n",
       "    </tr>\n",
       "    <tr>\n",
       "      <th>6674</th>\n",
       "      <td>0.135162</td>\n",
       "      <td>0</td>\n",
       "      <td>1</td>\n",
       "      <td>mealii married woman ha 3 child describes ambi...</td>\n",
       "    </tr>\n",
       "    <tr>\n",
       "      <th>25314</th>\n",
       "      <td>0.137802</td>\n",
       "      <td>0</td>\n",
       "      <td>1</td>\n",
       "      <td>simon married man describes honest operates bo...</td>\n",
       "    </tr>\n",
       "    <tr>\n",
       "      <th>35725</th>\n",
       "      <td>0.141321</td>\n",
       "      <td>0</td>\n",
       "      <td>1</td>\n",
       "      <td>david married man one child describes honest o...</td>\n",
       "    </tr>\n",
       "    <tr>\n",
       "      <th>33771</th>\n",
       "      <td>0.143040</td>\n",
       "      <td>0</td>\n",
       "      <td>1</td>\n",
       "      <td>evans 31 year old married two child ha transpo...</td>\n",
       "    </tr>\n",
       "    <tr>\n",
       "      <th>22599</th>\n",
       "      <td>0.146833</td>\n",
       "      <td>0</td>\n",
       "      <td>1</td>\n",
       "      <td>peter married man six child describes goal ori...</td>\n",
       "    </tr>\n",
       "  </tbody>\n",
       "</table>\n",
       "</div>"
      ],
      "text/plain": [
       "       probability (success)  prediction  actual  \\\n",
       "23292               0.053010           0       1   \n",
       "10864               0.096266           0       1   \n",
       "29092               0.098941           0       1   \n",
       "29127               0.102617           0       1   \n",
       "28398               0.106273           0       1   \n",
       "6674                0.135162           0       1   \n",
       "25314               0.137802           0       1   \n",
       "35725               0.141321           0       1   \n",
       "33771               0.143040           0       1   \n",
       "22599               0.146833           0       1   \n",
       "\n",
       "                                               post_text  \n",
       "23292  george married man ha two child describes hone...  \n",
       "10864  peter married man ha three child describes hon...  \n",
       "29092  william 74 year old retail shop proprietor ken...  \n",
       "29127  joshua married man ha four child describes hon...  \n",
       "28398  michael 25 year old married man ha one child d...  \n",
       "6674   mealii married woman ha 3 child describes ambi...  \n",
       "25314  simon married man describes honest operates bo...  \n",
       "35725  david married man one child describes honest o...  \n",
       "33771  evans 31 year old married two child ha transpo...  \n",
       "22599  peter married man six child describes goal ori...  "
      ]
     },
     "execution_count": 51,
     "metadata": {},
     "output_type": "execute_result"
    }
   ],
   "source": [
    "#look at misclassified loans with the lowest probability of being funded\n",
    "predict_proba_df.query('prediction != actual').sort_values(by='probability (success)').head(10)"
   ]
  },
  {
   "cell_type": "code",
   "execution_count": 52,
   "metadata": {},
   "outputs": [],
   "source": [
    "fns = predict_proba_df.query('prediction != actual').sort_values(by='probability (success)').head(10).index"
   ]
  },
  {
   "cell_type": "markdown",
   "metadata": {},
   "source": [
    "#### False Positives"
   ]
  },
  {
   "cell_type": "code",
   "execution_count": 53,
   "metadata": {},
   "outputs": [
    {
     "data": {
      "text/html": [
       "<div>\n",
       "<style scoped>\n",
       "    .dataframe tbody tr th:only-of-type {\n",
       "        vertical-align: middle;\n",
       "    }\n",
       "\n",
       "    .dataframe tbody tr th {\n",
       "        vertical-align: top;\n",
       "    }\n",
       "\n",
       "    .dataframe thead th {\n",
       "        text-align: right;\n",
       "    }\n",
       "</style>\n",
       "<table border=\"1\" class=\"dataframe\">\n",
       "  <thead>\n",
       "    <tr style=\"text-align: right;\">\n",
       "      <th></th>\n",
       "      <th>probability (success)</th>\n",
       "      <th>prediction</th>\n",
       "      <th>actual</th>\n",
       "      <th>post_text</th>\n",
       "    </tr>\n",
       "  </thead>\n",
       "  <tbody>\n",
       "    <tr>\n",
       "      <th>6783</th>\n",
       "      <td>0.959069</td>\n",
       "      <td>1</td>\n",
       "      <td>0</td>\n",
       "      <td>wonderful kiva lender get know alice alice har...</td>\n",
       "    </tr>\n",
       "    <tr>\n",
       "      <th>14208</th>\n",
       "      <td>0.960943</td>\n",
       "      <td>1</td>\n",
       "      <td>0</td>\n",
       "      <td>florence single woman five school going child ...</td>\n",
       "    </tr>\n",
       "    <tr>\n",
       "      <th>40159</th>\n",
       "      <td>0.961394</td>\n",
       "      <td>1</td>\n",
       "      <td>0</td>\n",
       "      <td>hello meet consolata thirty seven year old sin...</td>\n",
       "    </tr>\n",
       "    <tr>\n",
       "      <th>17338</th>\n",
       "      <td>0.962723</td>\n",
       "      <td>1</td>\n",
       "      <td>0</td>\n",
       "      <td>lilian hardworking woman ha defied common thin...</td>\n",
       "    </tr>\n",
       "    <tr>\n",
       "      <th>43839</th>\n",
       "      <td>0.964882</td>\n",
       "      <td>1</td>\n",
       "      <td>0</td>\n",
       "      <td>lady raising hand photo salome 52 year old mar...</td>\n",
       "    </tr>\n",
       "    <tr>\n",
       "      <th>20860</th>\n",
       "      <td>0.965406</td>\n",
       "      <td>1</td>\n",
       "      <td>0</td>\n",
       "      <td>irene farmer remote town nandihills area kenya...</td>\n",
       "    </tr>\n",
       "    <tr>\n",
       "      <th>16862</th>\n",
       "      <td>0.977246</td>\n",
       "      <td>1</td>\n",
       "      <td>0</td>\n",
       "      <td>lilian ha previously benefited kiva loan since...</td>\n",
       "    </tr>\n",
       "    <tr>\n",
       "      <th>34624</th>\n",
       "      <td>0.980640</td>\n",
       "      <td>1</td>\n",
       "      <td>0</td>\n",
       "      <td>santa single woman ha child owns house ha neit...</td>\n",
       "    </tr>\n",
       "    <tr>\n",
       "      <th>13248</th>\n",
       "      <td>0.984920</td>\n",
       "      <td>1</td>\n",
       "      <td>0</td>\n",
       "      <td>person raising hand photo joshua member mornin...</td>\n",
       "    </tr>\n",
       "    <tr>\n",
       "      <th>7756</th>\n",
       "      <td>0.991991</td>\n",
       "      <td>1</td>\n",
       "      <td>0</td>\n",
       "      <td>mike 32 year old married life wife three child...</td>\n",
       "    </tr>\n",
       "  </tbody>\n",
       "</table>\n",
       "</div>"
      ],
      "text/plain": [
       "       probability (success)  prediction  actual  \\\n",
       "6783                0.959069           1       0   \n",
       "14208               0.960943           1       0   \n",
       "40159               0.961394           1       0   \n",
       "17338               0.962723           1       0   \n",
       "43839               0.964882           1       0   \n",
       "20860               0.965406           1       0   \n",
       "16862               0.977246           1       0   \n",
       "34624               0.980640           1       0   \n",
       "13248               0.984920           1       0   \n",
       "7756                0.991991           1       0   \n",
       "\n",
       "                                               post_text  \n",
       "6783   wonderful kiva lender get know alice alice har...  \n",
       "14208  florence single woman five school going child ...  \n",
       "40159  hello meet consolata thirty seven year old sin...  \n",
       "17338  lilian hardworking woman ha defied common thin...  \n",
       "43839  lady raising hand photo salome 52 year old mar...  \n",
       "20860  irene farmer remote town nandihills area kenya...  \n",
       "16862  lilian ha previously benefited kiva loan since...  \n",
       "34624  santa single woman ha child owns house ha neit...  \n",
       "13248  person raising hand photo joshua member mornin...  \n",
       "7756   mike 32 year old married life wife three child...  "
      ]
     },
     "execution_count": 53,
     "metadata": {},
     "output_type": "execute_result"
    }
   ],
   "source": [
    "#look at misclassified loans with the highest probability of being funded\n",
    "predict_proba_df.query('prediction != actual').sort_values(by='probability (success)').tail(10)"
   ]
  },
  {
   "cell_type": "code",
   "execution_count": 54,
   "metadata": {},
   "outputs": [],
   "source": [
    "fps = predict_proba_df.query('prediction != actual').sort_values(by='probability (success)').tail(10).index"
   ]
  },
  {
   "cell_type": "markdown",
   "metadata": {},
   "source": [
    "### Exploring Complete Text of Misclassified Loan Desciptions"
   ]
  },
  {
   "cell_type": "code",
   "execution_count": 81,
   "metadata": {},
   "outputs": [],
   "source": [
    "desc_list = [processed_kiva['DESCRIPTION_TRANSLATED'][i] for i in df.index if  i in  misclassified.index]\n",
    "index_list = [i for i in df.index if i in misclassified.index]\n",
    "status_list = [processed_kiva['STATUS'][i] for i in df.index if  i in  misclassified.index]"
   ]
  },
  {
   "cell_type": "code",
   "execution_count": 82,
   "metadata": {},
   "outputs": [],
   "source": [
    "misclassified_df = pd.DataFrame(list(zip(index_list, desc_list, status_list)),columns=['LOAN_ID','DESCRIPTION_TRANSLATED', 'TRUE_STATUS']).set_index('LOAN_ID')"
   ]
  },
  {
   "cell_type": "code",
   "execution_count": 85,
   "metadata": {},
   "outputs": [
    {
     "data": {
      "text/html": [
       "<div>\n",
       "<style scoped>\n",
       "    .dataframe tbody tr th:only-of-type {\n",
       "        vertical-align: middle;\n",
       "    }\n",
       "\n",
       "    .dataframe tbody tr th {\n",
       "        vertical-align: top;\n",
       "    }\n",
       "\n",
       "    .dataframe thead th {\n",
       "        text-align: right;\n",
       "    }\n",
       "</style>\n",
       "<table border=\"1\" class=\"dataframe\">\n",
       "  <thead>\n",
       "    <tr style=\"text-align: right;\">\n",
       "      <th></th>\n",
       "      <th>DESCRIPTION_TRANSLATED</th>\n",
       "      <th>TRUE_STATUS</th>\n",
       "    </tr>\n",
       "    <tr>\n",
       "      <th>LOAN_ID</th>\n",
       "      <th></th>\n",
       "      <th></th>\n",
       "    </tr>\n",
       "  </thead>\n",
       "  <tbody>\n",
       "    <tr>\n",
       "      <th>20</th>\n",
       "      <td>Constantine is a smallholder farmer residing i...</td>\n",
       "      <td>0</td>\n",
       "    </tr>\n",
       "    <tr>\n",
       "      <th>22</th>\n",
       "      <td>Clinton is 38 years old, and he is married and...</td>\n",
       "      <td>0</td>\n",
       "    </tr>\n",
       "    <tr>\n",
       "      <th>37</th>\n",
       "      <td>Featured in the above picture is Alfred, who h...</td>\n",
       "      <td>0</td>\n",
       "    </tr>\n",
       "    <tr>\n",
       "      <th>93</th>\n",
       "      <td>Victor is in his second year of his studies at...</td>\n",
       "      <td>0</td>\n",
       "    </tr>\n",
       "    <tr>\n",
       "      <th>158</th>\n",
       "      <td>Margaret (51) has always emerged victorious de...</td>\n",
       "      <td>0</td>\n",
       "    </tr>\n",
       "  </tbody>\n",
       "</table>\n",
       "</div>"
      ],
      "text/plain": [
       "                                    DESCRIPTION_TRANSLATED  TRUE_STATUS\n",
       "LOAN_ID                                                                \n",
       "20       Constantine is a smallholder farmer residing i...            0\n",
       "22       Clinton is 38 years old, and he is married and...            0\n",
       "37       Featured in the above picture is Alfred, who h...            0\n",
       "93       Victor is in his second year of his studies at...            0\n",
       "158      Margaret (51) has always emerged victorious de...            0"
      ]
     },
     "execution_count": 85,
     "metadata": {},
     "output_type": "execute_result"
    }
   ],
   "source": [
    "misclassified_df.head()"
   ]
  },
  {
   "cell_type": "markdown",
   "metadata": {},
   "source": [
    "#### Text from Some of the Loans Classified as False Negatives"
   ]
  },
  {
   "cell_type": "code",
   "execution_count": 86,
   "metadata": {},
   "outputs": [
    {
     "name": "stdout",
     "output_type": "stream",
     "text": [
      "George is a married man. He has two children. He describes himself to be honest. He operates a motorcycle where he provides transportation services. He has been involved in this business for four years. His business is located in a good area and his primary customers are locals. He describes his biggest business challenge to be inadequate working capital. <br /><br />He will use the KES 100,000 loan to buy another motorcycle to  boost his services for more incomes. Previous loans were repaid successfully. He will use the anticipated profits to open a spare parts shop\n",
      " \n",
      "Peter is a married man. He has three children. He describes himself to be honest. He operates a motorcycle where he provides transportation services. He has been involved in this business for five years. His business is located in a good area, and his primary customers are locals. <br /><br />He describes his biggest business challenge to be inadequate working capital. He will use the KES 50,000 loan to buy another motorcycle. <br /><br />His business goal is to have a spare parts shop within five years. He hopes that in the future, he will be financially stable. <br /><br />This is his third loan with SMEP Microfinance Bank. He repaid his previous loans successfully. He will use the anticipated profits to open a spare parts shop.\n",
      " \n",
      "William is a 74-year-old retail shop proprietor in Kenya. He is a father of two adults.  His wife provides for additional income, and for the past sixteen years he has been doing well in this business.<br /><br />This is William's fourth loan from VisionFund to finance his asset purchase. He will use the money to purchase a motorcycle for additional profit and use the anticipated profit to repay his loan and purchase a second motorcycle. He hopes to own a fleet of several motorcycles in the future.\n",
      " \n",
      "Joshua is a married man and has four children. He describes himself to be honest. <br /><br />He operates a retail business where he sells utensils. He has been involved in this business for five years. His business is located in a good area and his primary customers are locals. He describes his biggest business challenge to be inadequate working capital. <br /><br />He will use the KES 100,000 loan to purchase additional stock of utensils to generate more sales.  He will use the anticipated profits to add more stock of utensils.\n",
      " \n",
      "Michael is a 25-year-old married man who has one child. He describes himself to be honest. He operates a bodaboda where he provides transportation services. He has been involved in this business for four years. His business is located in a busy area and his primary customers are locals. He describes his biggest business challenge to be inadequate working capital. <br /><br />He will use the KES 100,000 loan to purchase additional motorcycle to increase his daily earnings. This is his second loan with SMEP Microfinance Bank. The previous loan was repaid successfully. He will use the anticipated profits to open a spare parts shop.\n",
      " \n",
      "Mealii is a married woman. She has 3 children. She describes herself to be ambitious. She operates a retail business where she sells cereals and other foodstuff. She has been involved in this business for 10 years. Her business is located in a good area and her primary customers are locals. She describes her biggest business challenge to be inadequate working capital. She will use the Kes 100,000 loan to purchase additional stock of cereals to sell. This is her third loan with SMEP Microfinance Bank. Previous loans were repaid successfully.\n",
      " \n",
      "Simon is a married man. He describes himself to be honest. <br /><br />He operates a bodaboda, where he provides transportation services. He has been involved in this business for seven years. His business is located in a good area, and his primary customers are locals. He describes his biggest business challenge to be inadequate working capital.<br /><br />He will use the KES 65,000 loan to purchase an additional motorcycle to increase his income and enable him to provide for his family.<br /><br />This is his third loan with SMEP Microfinance Bank. Previous loans were repaid successfully. He will use the anticipated profits to open a retail shop.\n",
      " \n",
      "David is a married man with one child.  He describes himself as honest.  He operates a electronic shop where he sells electronic items.  He has been involved in this business for 3 years.  His business is located in a good area and his primary customers are locals.  <br /><br />David describes his biggest business challenge to be inadequate working capital. He will use the 100,000 KES loan to purchase more electronic items to meet demand and earn more.  His business goal is to have a wholesale business within 5 years.  He hopes that in the future, he will be financially stable.  This is his second loan with SMEP Microfinance Bank and his previous loan was repaid successfully.  He will use the anticipated profits to build a permanent house for his family.\n",
      " \n",
      "Evans is 31 years old, and he is married with two children. He has had a transportation business for eight years, transporting goods and passengers to earn 37,000 KES per month. <br /><br />This is his fifth time borrowing to finance his business. Evans will use the loan to purchase another motorcycle to add to his fleet, and he hopes this will help him improve his livelihood with the profit generated from the expanded business. <br /><br />His hopes and dreams for the future are to be financially independent.\n",
      " \n",
      "Peter is a married man, with six children. He describes himself to be goal-oriented. \\r\\n\\r\\nHe operates a retail business where he sells motorcycle spare parts. He has been involved in this business for six years. His business is located in a good area. He describes his biggest business challenge to be low stock. \\r\\n\\r\\nHe will use the Kes 100,000 loan to buy more stock of motorcycle spare parts. His business goal is to be a big supplier within five years. \\r\\n\\r\\nThis is his third loan with SMEP Microfinance bank.  His previous loan was repaid successfully. He will use the anticipated profits to expand the business.\\t\\t\\t\n",
      " \n"
     ]
    }
   ],
   "source": [
    "fn_df = pd.DataFrame(misclassified_df['DESCRIPTION_TRANSLATED'][fns])\n",
    "for i in fn_df['DESCRIPTION_TRANSLATED']:\n",
    "    print(i)\n",
    "    print(\" \")"
   ]
  },
  {
   "cell_type": "markdown",
   "metadata": {},
   "source": [
    "#### Text from Some of the Loans Classified as False Positives"
   ]
  },
  {
   "cell_type": "code",
   "execution_count": 87,
   "metadata": {},
   "outputs": [
    {
     "name": "stdout",
     "output_type": "stream",
     "text": [
      "Wonderful Kiva lenders, <br /><br />Get to know Alice! Alice is very hardworking. She hails from a remote village in the Kericho area of Kenya. This area has tough living conditions and to survive you must have tough skin. Alice, amongst the women of Kericho, has defied the odds and has been engaged in farming for the past six years. Her primary sources of income are poultry, vegetables, crops and animal farming. <br /><br />Alice is content with the farming way of life. The Kericho area has favorable conditions for horticulture farming and that is why Alice is seeking a loan to buy seeds and start horticulture farming. Because of the good roads, a good climate and a good transportation network, she is sure that she will reap maximum profits and be able to increase her business. <br /><br />Alice, together with her family, is so grateful for your help and contribution.\n",
      " \n",
      "Florence is a single woman with five school-going children. They live in a rental house that has electricity and piped water. Her greatest monthly expenses are food and school fees. <br /><br />She has operated a khanga (women's wrap cloth) business, selling from home and door to door to her neighbours and passersby. She faces a major challenge of a lack of capital to expand her business.<br /><br />With the loan she is requesting, she wants to purchase bales of khangas for resale. She decided to join Yehu to access loans to boost her business.\n",
      " \n",
      "Hello! Meet Consolata, a thirty-seven-year-old single mother and hardworking smallholder farmer. She hails from a remote village in the Thika area of Kenya. Her upbringing was challenging and she never went beyond secondary education, but she did not let this defeat her. <br /><br />Consolata's main source of income is milk and crop farming. Through these ventures, she has supported her family as the sole breadwinner. The greatest challenge that farmers in Consolata's village face is access to farming inputs. This has resulted in low-quality yields, which consequently lower the market demand.<br /><br />In Kenya, agriculture is one of the most competitive industries, especially due to the high costs of operations necessary to improve farming. Such costs include the cost of land acquisition and inputs, which have skyrocketed. To meet the high costs of inputs, farmers have been forced to borrow from financial institutions that sometimes impose very complicated procedures on loan distribution. Some farmers, and especially single women, end up being disadvantaged. Consolata has used this loan to purchase farm inputs, such as nutrient-rich fertilizer and certified seeds, which she will use on her farm to boost her yields. <br /><br />Please lend to this industrious single woman so that she can save for her children's education.\n",
      " \n",
      "Lilian is a hardworking woman. She has defied the common thinking among most Kenyans that having proper learning and being born into a wealthy home are the only ways to become successful in life. She is a humble mother of lovely children. Her primary source of income is milk, and she plants different varieties of food crops. <br /><br />Lilian sells eggs and milk to her neighbors, enabling her to earn an income. Of all her enterprises, she loves poultry farming the most because it is the most profitable. Through continuous involvement in poultry farming, she has learned how to make her own chicken feed. Lilian has also learned how to keep poultry farming records and this makes her feel accomplished as a poultry farmer. <br /><br />Lilian's children are very proud of their mother. Lilian lacks funds to increase her poultry business and that is why she is asking for this loan. She will buy quality breeds of poultry to enable her to make more profit and improve her family's living conditions. <br /><br />Lilian has been inspired by the efforts of Juhudi Kilimo and Kiva in improving the lives of rural farmers. She is patiently awaiting your positive response.\n",
      " \n",
      "The lady raising her hand in the photo is Salome. She is 52 years old, married, and the mother of three children. She is a member of Rwema Shg Group, which joined Hand in Hand Eastern Africa in the year 2016, and has benefited from enterprise development and financial management training. <br /><br />Salome does goat farming. She is borrowing a Kiva loan to buy more goats for resale. She hopes this will meet her customers' demands, hence increasing her income. She will therefore use the anticipated income to provide food and clothing for her family.<br /><br />She is grateful to Kiva and its lenders for the financial support and promises to repay promptly.\n",
      " \n",
      "Irene is a farmer from a remote town in the Nandihills area of Kenya. She resides with her husband and family. She has been actively involved in farming for the last five years and has never regretted or looked back. She practices mixed farming and sells milk, eggs, and various food crops at the local market. Irene passionately loves poultry farming, but the biggest challenge she faces is a lack of capital to buy quality breeds of poultry that are resistant to diseases and lay more eggs. <br /><br />Irene is seeking a loan to purchase additional poultry. <br /><br />She will use her excess maize to feed the poultry, and will provide sorghum to give the poultry energy and green grams (beans) for protein. Through better feeding, the poultry will increase their egg production and will lay more eggs that are of good quality, which will translate to more income. <br /><br />Apart from an increase in egg production, she will get increased output from poultry meat, and this will further increase her income and profit margins. Through increased profits, she intends to turn around her living conditions and live a better life. <br /><br />In addition to profits, Irene will benefit from chicken manure. She will be able to save money that would have been spent to buy fertilizer. <br /><br />Thanks to your support, Irene will succeed in making her dreams come true\n",
      " \n",
      "Lilian, has previously benefited from a Kiva Loan. Now, since expanding her business, she has been joined by a co-director to ensure that the business processes are efficient. The businesses is requesting a loan of KES 520,000 that will enable the business to purchase photography equipment to meet the quality outputs demanded by their clients.\n",
      " \n",
      "Santa is a single woman who has no children. She owns a house that has neither electricity nor piped water. Her greatest monthly expense is food.<br /><br />Santa operates a grocery vegetables selling stall. She sells at the market to town dwellers and neighbors. She faces a challenge of seasonality in her place of operation. <br /><br />With the KES 30,000, she wants to purchase green vegetables, two crates of tomatoes, and onions for resale. She decided to join Yehu to access loans to boost her business.\n",
      " \n",
      "The person raising his hand in the photo is Joshua, a member of Morning Star Women Group in Nakuru County. He is 22 years old, married and blessed with two children. Joshua joined Hand in Hand Eastern Africa (HiH EA) in 2014.<br /><br />Joshua raises maize, beans, vegetables and poultry. HiH EA enterprise training has enabled him to manage his enterprise well, and hence earn more profit. He is taking out a Kiva loan to buy fertilizer and seeds that will improve the quality and quantity of his yields, thus maximizing profit. Income from this enterprise will help him meet his family's basic needs, such as education and medical care.<br /><br />He is grateful to Kiva and its lenders and promises to repay promptly.\n",
      " \n",
      "Mike is 32 years old and married. He lives with his wife and three children in the Obwari location of Kenya. He practices dairy, poultry, goat and tree farming on his one acre of land. Mostly, his activities meet subsistence levels.  \\r\\n\\r\\nThrough Juhudi Kilimo, a micro-finance partner that seeks to make Kenyan subsistence farmers more 'commercial minded', Mike is seeking a KES 40,000 loan to start commercial poultry farming.\\r\\n\\r\\nWith your loan, he will move from having six hens on his farm to over 40 of them. He has budgeted KES 20,000 for this move. The remaining KES 20,000 will be used to buy a water tank that will store water for his animals and crops during dry seasons.\\r\\n\\r\\nMike will use the income that he hopes to earn from poultry farming to look after his family’s well-being and his children’s education. He also wants to continue investing in poultry in the future. \\r\\n\n",
      " \n"
     ]
    }
   ],
   "source": [
    "fp_df = pd.DataFrame(misclassified_df['DESCRIPTION_TRANSLATED'][fps])\n",
    "for i in fp_df['DESCRIPTION_TRANSLATED']:\n",
    "    print(i)\n",
    "    print(\" \")"
   ]
  },
  {
   "cell_type": "code",
   "execution_count": null,
   "metadata": {},
   "outputs": [],
   "source": []
  }
 ],
 "metadata": {
  "kernelspec": {
   "display_name": "Python 3",
   "language": "python",
   "name": "python3"
  },
  "language_info": {
   "codemirror_mode": {
    "name": "ipython",
    "version": 3
   },
   "file_extension": ".py",
   "mimetype": "text/x-python",
   "name": "python",
   "nbconvert_exporter": "python",
   "pygments_lexer": "ipython3",
   "version": "3.8.5"
  }
 },
 "nbformat": 4,
 "nbformat_minor": 4
}
