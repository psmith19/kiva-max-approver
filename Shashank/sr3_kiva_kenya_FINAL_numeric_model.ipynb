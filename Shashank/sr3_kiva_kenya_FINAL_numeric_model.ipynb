{
 "cells": [
  {
   "cell_type": "code",
   "execution_count": 97,
   "metadata": {},
   "outputs": [],
   "source": [
    "import pandas as pd\n",
    "import numpy as np\n",
    "import matplotlib.pyplot as plt\n",
    "import seaborn as sns\n",
    "import pickle\n",
    "\n",
    "#modeling\n",
    "from sklearn.preprocessing import StandardScaler\n",
    "from sklearn.pipeline import Pipeline\n",
    "from sklearn.metrics import accuracy_score, recall_score, precision_score, f1_score, confusion_matrix, ConfusionMatrixDisplay, roc_auc_score\n",
    "from sklearn.model_selection import train_test_split, cross_val_score, GridSearchCV\n",
    "from sklearn.linear_model import LogisticRegression\n",
    "from sklearn.ensemble import RandomForestClassifier, GradientBoostingClassifier\n"
   ]
  },
  {
   "cell_type": "code",
   "execution_count": 2,
   "metadata": {},
   "outputs": [],
   "source": [
    "kiva = pd.read_csv('kivasmall.csv')"
   ]
  },
  {
   "cell_type": "code",
   "execution_count": 3,
   "metadata": {},
   "outputs": [
    {
     "data": {
      "text/plain": [
       "(419156, 28)"
      ]
     },
     "execution_count": 3,
     "metadata": {},
     "output_type": "execute_result"
    }
   ],
   "source": [
    "kiva.shape"
   ]
  },
  {
   "cell_type": "markdown",
   "metadata": {},
   "source": [
    "Variables of interest: \n",
    "\n"
   ]
  },
  {
   "cell_type": "code",
   "execution_count": 4,
   "metadata": {},
   "outputs": [
    {
     "data": {
      "text/plain": [
       "(51170, 28)"
      ]
     },
     "execution_count": 4,
     "metadata": {},
     "output_type": "execute_result"
    }
   ],
   "source": [
    "kivake = kiva[kiva['COUNTRY_CODE']=='KE']\n",
    "kivake.shape"
   ]
  },
  {
   "cell_type": "code",
   "execution_count": 5,
   "metadata": {},
   "outputs": [
    {
     "data": {
      "text/plain": [
       "ORIGINAL_LANGUAGE     1144\n",
       "LOAN_AMOUNT              0\n",
       "STATUS                   0\n",
       "ACTIVITY_NAME            0\n",
       "SECTOR_NAME              0\n",
       "COUNTRY_CODE             0\n",
       "LENDER_TERM              0\n",
       "REPAYMENT_INTERVAL       0\n",
       "DISTRIBUTION_MODEL       0\n",
       "word_count_DT            0\n",
       "word_count_TAGS          0\n",
       "word_count_LU            0\n",
       "char_count_DT            0\n",
       "char_count_TAGS          0\n",
       "char_count_LU            0\n",
       "month                    0\n",
       "FEM_COUNT             1144\n",
       "MALE_COUNT            1144\n",
       "PIC_TRUE_COUNT        1144\n",
       "PIC_FALSE_COUNT       1144\n",
       "ANY_FEM               1144\n",
       "ANY_MALE              1144\n",
       "word_char_DT             0\n",
       "word_char_TAGS           0\n",
       "word_char_LU             0\n",
       "MALE_FEM              1144\n",
       "MALE_PIC              1144\n",
       "FEM_PIC               1144\n",
       "dtype: int64"
      ]
     },
     "execution_count": 5,
     "metadata": {},
     "output_type": "execute_result"
    }
   ],
   "source": [
    "kivake.isnull().sum()"
   ]
  },
  {
   "cell_type": "code",
   "execution_count": 6,
   "metadata": {},
   "outputs": [
    {
     "name": "stderr",
     "output_type": "stream",
     "text": [
      "C:\\Users\\shash\\anaconda3\\lib\\site-packages\\pandas\\core\\series.py:4517: SettingWithCopyWarning: \n",
      "A value is trying to be set on a copy of a slice from a DataFrame\n",
      "\n",
      "See the caveats in the documentation: https://pandas.pydata.org/pandas-docs/stable/user_guide/indexing.html#returning-a-view-versus-a-copy\n",
      "  return super().fillna(\n"
     ]
    }
   ],
   "source": [
    "fill_values = {'ORIGINAL_LANGUAGE' : 'MISSING', 'FEM_COUNT' : 0, 'MALE_COUNT' : 0,'PIC_TRUE_COUNT' : 0, 'PIC_FALSE_COUNT' : 0,'ANY_FEM' : 0,'ANY_MALE' : 0,'COUNTRY_CODE':'MISSING', 'MALE_FEM':0,'MALE_PIC':0,'FEM_PIC':0}\n",
    "kivake.fillna(value = fill_values, inplace=True)"
   ]
  },
  {
   "cell_type": "code",
   "execution_count": 7,
   "metadata": {},
   "outputs": [
    {
     "name": "stdout",
     "output_type": "stream",
     "text": [
      "                                count      mean\n",
      "ACTIVITY_NAME                                  \n",
      "Agriculture                      2283  0.833552\n",
      "Animal Sales                      179  0.743017\n",
      "Bakery                             52  0.653846\n",
      "Beauty Salon                      700  0.652857\n",
      "Beverages                          68  0.735294\n",
      "Cattle                            113  0.769912\n",
      "Cereals                          2689  0.732614\n",
      "Charcoal Sales                    343  0.760933\n",
      "Clothing                          342  0.903509\n",
      "Clothing Sales                   1457  0.636925\n",
      "Cosmetics Sales                   208  0.634615\n",
      "Crafts                             45  0.977778\n",
      "Dairy                            2669  0.826527\n",
      "Education provider                 69  1.000000\n",
      "Farm Supplies                     230  0.756522\n",
      "Farming                         19741  0.822197\n",
      "Fish Selling                      407  0.778870\n",
      "Fishing                             6  0.833333\n",
      "Food                              552  0.798913\n",
      "Food Market                       183  0.830601\n",
      "Food Production/Sales             352  0.823864\n",
      "Food Stall                        434  0.829493\n",
      "Fruits & Vegetables              1532  0.845953\n",
      "General Store                    2511  0.586619\n",
      "Grocery Store                     891  0.809203\n",
      "Higher education costs            191  0.926702\n",
      "Home Appliances                   199  1.000000\n",
      "Home Energy                      1786  1.000000\n",
      "Home Products Sales               171  0.619883\n",
      "Livestock                         314  0.856688\n",
      "Motorcycle Transport             1417  0.474947\n",
      "Personal Expenses                  33  0.939394\n",
      "Personal Housing Expenses          49  0.959184\n",
      "Personal Medical Expenses          32  1.000000\n",
      "Personal Products Sales            19  0.684211\n",
      "Pigs                               50  0.800000\n",
      "Poultry                          1164  0.909794\n",
      "Primary/secondary school costs    668  1.000000\n",
      "Restaurant                        260  0.626923\n",
      "Retail                           1628  0.653563\n",
      "Services                          466  0.742489\n",
      "Sewing                             23  0.869565\n",
      "Tailoring                         679  0.837997\n",
      "Transportation                    146  0.595890\n",
      "Used Clothing                     389  0.789203\n",
      "Weaving                            44  1.000000\n",
      "miscellaneous                    3386  0.711164\n",
      "                count      mean\n",
      "SECTOR_NAME                    \n",
      "Agriculture     26810  0.826632\n",
      "Arts              121  0.983471\n",
      "Clothing         2232  0.707437\n",
      "Construction      372  0.854839\n",
      "Education         929  0.984930\n",
      "Entertainment      17  1.000000\n",
      "Food             7956  0.772247\n",
      "Health            167  1.000000\n",
      "Housing           201  0.656716\n",
      "Manufacturing     189  0.989418\n",
      "Personal Use     2033  0.997541\n",
      "Retail           5849  0.618396\n",
      "Services         2616  0.740443\n",
      "Transportation   1662  0.489771\n",
      "Wholesale          16  0.937500\n",
      "              count      mean\n",
      "COUNTRY_CODE                 \n",
      "KE            51170  0.784659\n",
      "                    count      mean\n",
      "REPAYMENT_INTERVAL                 \n",
      "bullet               7903  0.839048\n",
      "irregular             400  0.930000\n",
      "monthly             42867  0.773275\n",
      "                    count      mean\n",
      "DISTRIBUTION_MODEL                 \n",
      "direct                907  1.000000\n",
      "field_partner       50263  0.780773\n",
      "       count      mean\n",
      "month                 \n",
      "0       4379  0.755195\n",
      "1       9213  0.789645\n",
      "2       7693  0.878591\n",
      "3       4907  0.835949\n",
      "4       4682  0.715933\n",
      "5       4623  0.724854\n",
      "6       4180  0.738038\n",
      "7       4062  0.726243\n",
      "8       3610  0.778116\n",
      "9       3821  0.827270\n"
     ]
    }
   ],
   "source": [
    "catcols = ['ORIGINAL_LANGUAGE', 'ACTIVITY_NAME', 'SECTOR_NAME', 'COUNTRY_CODE', 'REPAYMENT_INTERVAL', 'DISTRIBUTION_MODEL', 'month']\n",
    "\n",
    "for i in range(1,len(catcols)):\n",
    "    print(kivake.groupby(catcols[i], dropna=False)['STATUS'].agg(['count', 'mean']))\n",
    "    "
   ]
  },
  {
   "cell_type": "code",
   "execution_count": 8,
   "metadata": {},
   "outputs": [],
   "source": [
    "kivake_dummies = pd.get_dummies(kivake, drop_first=True)"
   ]
  },
  {
   "cell_type": "code",
   "execution_count": 9,
   "metadata": {},
   "outputs": [
    {
     "data": {
      "text/plain": [
       "(51170, 88)"
      ]
     },
     "execution_count": 9,
     "metadata": {},
     "output_type": "execute_result"
    }
   ],
   "source": [
    "kivake_dummies.shape"
   ]
  },
  {
   "cell_type": "code",
   "execution_count": 10,
   "metadata": {},
   "outputs": [
    {
     "data": {
      "text/plain": [
       "1    40151\n",
       "0    11019\n",
       "Name: STATUS, dtype: int64"
      ]
     },
     "execution_count": 10,
     "metadata": {},
     "output_type": "execute_result"
    }
   ],
   "source": [
    "kivake_dummies['STATUS'].value_counts()"
   ]
  },
  {
   "cell_type": "code",
   "execution_count": 76,
   "metadata": {},
   "outputs": [
    {
     "data": {
      "text/plain": [
       "Index(['ORIGINAL_LANGUAGE', 'LOAN_AMOUNT', 'STATUS', 'ACTIVITY_NAME',\n",
       "       'SECTOR_NAME', 'COUNTRY_CODE', 'LENDER_TERM', 'REPAYMENT_INTERVAL',\n",
       "       'DISTRIBUTION_MODEL', 'word_count_DT', 'word_count_TAGS',\n",
       "       'word_count_LU', 'char_count_DT', 'char_count_TAGS', 'char_count_LU',\n",
       "       'month', 'FEM_COUNT', 'MALE_COUNT', 'PIC_TRUE_COUNT', 'PIC_FALSE_COUNT',\n",
       "       'ANY_FEM', 'ANY_MALE', 'word_char_DT', 'word_char_TAGS', 'word_char_LU',\n",
       "       'MALE_FEM', 'MALE_PIC', 'FEM_PIC'],\n",
       "      dtype='object')"
      ]
     },
     "execution_count": 76,
     "metadata": {},
     "output_type": "execute_result"
    }
   ],
   "source": [
    "kivake.columns"
   ]
  },
  {
   "cell_type": "code",
   "execution_count": 99,
   "metadata": {},
   "outputs": [],
   "source": [
    "### USE THIS FOR STREAMLIT WITHOUT DUMMY VARIABLES\n",
    "\n",
    "#Creating X, y and test-train split\n",
    "X = kivake[['LOAN_AMOUNT', 'word_count_TAGS', 'LENDER_TERM',\n",
    "       'word_count_LU', 'char_count_DT', 'char_count_TAGS', 'char_count_LU',\n",
    "       'month', 'FEM_COUNT', 'MALE_COUNT','PIC_TRUE_COUNT', 'PIC_FALSE_COUNT',\n",
    "       'ANY_FEM', 'ANY_MALE', 'word_char_DT', 'word_char_TAGS', 'word_char_LU',\n",
    "       'MALE_FEM', 'MALE_PIC', 'FEM_PIC']]\n",
    "y = kivake['STATUS']\n"
   ]
  },
  {
   "cell_type": "code",
   "execution_count": 100,
   "metadata": {},
   "outputs": [],
   "source": [
    "\n",
    "#Perform test-train split\n",
    "X_train, X_test, y_train, y_test = train_test_split(X, y, random_state =42, stratify=y)\n"
   ]
  },
  {
   "cell_type": "code",
   "execution_count": 101,
   "metadata": {},
   "outputs": [],
   "source": [
    "#NOT FOR STREAMLIT since based on dummies\n",
    "#Creating X, y and test-train split\n",
    "X = kivake_dummies.drop(columns = ['STATUS'])\n",
    "y = kivake_dummies['STATUS']\n",
    "\n",
    "#Perform test-train split\n",
    "X_train, X_test, y_train, y_test = train_test_split(X, y, random_state =42, stratify=y)\n"
   ]
  },
  {
   "cell_type": "code",
   "execution_count": 102,
   "metadata": {},
   "outputs": [],
   "source": [
    "# Set up a pipeline with GB\n",
    "pipe_gb = Pipeline([\n",
    "    (\"sc\", StandardScaler()),\n",
    "    (\"gb\", GradientBoostingClassifier(n_estimators=50, \n",
    "                        min_samples_split = 100, \n",
    "                        min_samples_leaf = 50, \n",
    "                        max_depth=5,\n",
    "                        max_features='sqrt',\n",
    "                        learning_rate = 0.1))\n",
    "])"
   ]
  },
  {
   "cell_type": "code",
   "execution_count": 103,
   "metadata": {},
   "outputs": [
    {
     "name": "stdout",
     "output_type": "stream",
     "text": [
      "0.844021158506397 0.8400687876182287 0.8430048664732752\n"
     ]
    }
   ],
   "source": [
    "#Piping & scoring\n",
    "pipe_gb.fit(X_train, y_train)\n",
    "print(pipe_gb.score(X_train, y_train), pipe_gb.score(X_test, y_test),  \n",
    "      cross_val_score(pipe_gb, X_train, y_train, cv = 5).mean())"
   ]
  },
  {
   "cell_type": "code",
   "execution_count": 104,
   "metadata": {},
   "outputs": [],
   "source": [
    "# put the two functions above together, using 'write binary' permissions\n",
    "pickle.dump(pipe_gb, open('pipe.p', 'wb'))"
   ]
  },
  {
   "cell_type": "code",
   "execution_count": 95,
   "metadata": {},
   "outputs": [
    {
     "data": {
      "text/html": [
       "<div>\n",
       "<style scoped>\n",
       "    .dataframe tbody tr th:only-of-type {\n",
       "        vertical-align: middle;\n",
       "    }\n",
       "\n",
       "    .dataframe tbody tr th {\n",
       "        vertical-align: top;\n",
       "    }\n",
       "\n",
       "    .dataframe thead th {\n",
       "        text-align: right;\n",
       "    }\n",
       "</style>\n",
       "<table border=\"1\" class=\"dataframe\">\n",
       "  <thead>\n",
       "    <tr style=\"text-align: right;\">\n",
       "      <th></th>\n",
       "      <th>importance</th>\n",
       "      <th>feature_names</th>\n",
       "    </tr>\n",
       "  </thead>\n",
       "  <tbody>\n",
       "    <tr>\n",
       "      <th>0</th>\n",
       "      <td>0.504888</td>\n",
       "      <td>LOAN_AMOUNT</td>\n",
       "    </tr>\n",
       "    <tr>\n",
       "      <th>14</th>\n",
       "      <td>0.071043</td>\n",
       "      <td>word_char_TAGS</td>\n",
       "    </tr>\n",
       "    <tr>\n",
       "      <th>11</th>\n",
       "      <td>0.069666</td>\n",
       "      <td>ANY_FEM</td>\n",
       "    </tr>\n",
       "    <tr>\n",
       "      <th>4</th>\n",
       "      <td>0.063530</td>\n",
       "      <td>char_count_TAGS</td>\n",
       "    </tr>\n",
       "    <tr>\n",
       "      <th>6</th>\n",
       "      <td>0.063215</td>\n",
       "      <td>month</td>\n",
       "    </tr>\n",
       "    <tr>\n",
       "      <th>1</th>\n",
       "      <td>0.048923</td>\n",
       "      <td>word_count_TAGS</td>\n",
       "    </tr>\n",
       "    <tr>\n",
       "      <th>16</th>\n",
       "      <td>0.037315</td>\n",
       "      <td>MALE_FEM</td>\n",
       "    </tr>\n",
       "    <tr>\n",
       "      <th>13</th>\n",
       "      <td>0.022252</td>\n",
       "      <td>word_char_DT</td>\n",
       "    </tr>\n",
       "    <tr>\n",
       "      <th>7</th>\n",
       "      <td>0.021068</td>\n",
       "      <td>FEM_COUNT</td>\n",
       "    </tr>\n",
       "    <tr>\n",
       "      <th>3</th>\n",
       "      <td>0.021040</td>\n",
       "      <td>char_count_DT</td>\n",
       "    </tr>\n",
       "    <tr>\n",
       "      <th>18</th>\n",
       "      <td>0.020146</td>\n",
       "      <td>FEM_PIC</td>\n",
       "    </tr>\n",
       "    <tr>\n",
       "      <th>17</th>\n",
       "      <td>0.011163</td>\n",
       "      <td>MALE_PIC</td>\n",
       "    </tr>\n",
       "    <tr>\n",
       "      <th>5</th>\n",
       "      <td>0.011041</td>\n",
       "      <td>char_count_LU</td>\n",
       "    </tr>\n",
       "    <tr>\n",
       "      <th>15</th>\n",
       "      <td>0.010242</td>\n",
       "      <td>word_char_LU</td>\n",
       "    </tr>\n",
       "    <tr>\n",
       "      <th>2</th>\n",
       "      <td>0.008911</td>\n",
       "      <td>word_count_LU</td>\n",
       "    </tr>\n",
       "    <tr>\n",
       "      <th>8</th>\n",
       "      <td>0.006139</td>\n",
       "      <td>MALE_COUNT</td>\n",
       "    </tr>\n",
       "    <tr>\n",
       "      <th>9</th>\n",
       "      <td>0.004940</td>\n",
       "      <td>PIC_TRUE_COUNT</td>\n",
       "    </tr>\n",
       "    <tr>\n",
       "      <th>12</th>\n",
       "      <td>0.004478</td>\n",
       "      <td>ANY_MALE</td>\n",
       "    </tr>\n",
       "    <tr>\n",
       "      <th>10</th>\n",
       "      <td>0.000000</td>\n",
       "      <td>PIC_FALSE_COUNT</td>\n",
       "    </tr>\n",
       "  </tbody>\n",
       "</table>\n",
       "</div>"
      ],
      "text/plain": [
       "    importance    feature_names\n",
       "0     0.504888      LOAN_AMOUNT\n",
       "14    0.071043   word_char_TAGS\n",
       "11    0.069666          ANY_FEM\n",
       "4     0.063530  char_count_TAGS\n",
       "6     0.063215            month\n",
       "1     0.048923  word_count_TAGS\n",
       "16    0.037315         MALE_FEM\n",
       "13    0.022252     word_char_DT\n",
       "7     0.021068        FEM_COUNT\n",
       "3     0.021040    char_count_DT\n",
       "18    0.020146          FEM_PIC\n",
       "17    0.011163         MALE_PIC\n",
       "5     0.011041    char_count_LU\n",
       "15    0.010242     word_char_LU\n",
       "2     0.008911    word_count_LU\n",
       "8     0.006139       MALE_COUNT\n",
       "9     0.004940   PIC_TRUE_COUNT\n",
       "12    0.004478         ANY_MALE\n",
       "10    0.000000  PIC_FALSE_COUNT"
      ]
     },
     "execution_count": 95,
     "metadata": {},
     "output_type": "execute_result"
    }
   ],
   "source": [
    "pd.DataFrame({'importance' : pipe_gb.named_steps['gb'].feature_importances_, 'feature_names' : X_train.columns}).sort_values(by='importance', ascending=False).head(25)"
   ]
  },
  {
   "cell_type": "code",
   "execution_count": 19,
   "metadata": {},
   "outputs": [
    {
     "data": {
      "text/plain": [
       "Index(['LOAN_AMOUNT', 'LENDER_TERM', 'word_count_DT', 'word_count_TAGS',\n",
       "       'word_count_LU', 'char_count_DT', 'char_count_TAGS', 'char_count_LU',\n",
       "       'month', 'FEM_COUNT', 'MALE_COUNT', 'PIC_TRUE_COUNT', 'PIC_FALSE_COUNT',\n",
       "       'ANY_FEM', 'ANY_MALE', 'word_char_DT', 'word_char_TAGS', 'word_char_LU',\n",
       "       'MALE_FEM', 'MALE_PIC', 'FEM_PIC', 'ORIGINAL_LANGUAGE_MISSING',\n",
       "       'ORIGINAL_LANGUAGE_Russian', 'ORIGINAL_LANGUAGE_Spanish',\n",
       "       'ACTIVITY_NAME_Animal Sales', 'ACTIVITY_NAME_Bakery',\n",
       "       'ACTIVITY_NAME_Beauty Salon', 'ACTIVITY_NAME_Beverages',\n",
       "       'ACTIVITY_NAME_Cattle', 'ACTIVITY_NAME_Cereals',\n",
       "       'ACTIVITY_NAME_Charcoal Sales', 'ACTIVITY_NAME_Clothing',\n",
       "       'ACTIVITY_NAME_Clothing Sales', 'ACTIVITY_NAME_Cosmetics Sales',\n",
       "       'ACTIVITY_NAME_Crafts', 'ACTIVITY_NAME_Dairy',\n",
       "       'ACTIVITY_NAME_Education provider', 'ACTIVITY_NAME_Farm Supplies',\n",
       "       'ACTIVITY_NAME_Farming', 'ACTIVITY_NAME_Fish Selling',\n",
       "       'ACTIVITY_NAME_Fishing', 'ACTIVITY_NAME_Food',\n",
       "       'ACTIVITY_NAME_Food Market', 'ACTIVITY_NAME_Food Production/Sales',\n",
       "       'ACTIVITY_NAME_Food Stall', 'ACTIVITY_NAME_Fruits & Vegetables',\n",
       "       'ACTIVITY_NAME_General Store', 'ACTIVITY_NAME_Grocery Store',\n",
       "       'ACTIVITY_NAME_Higher education costs', 'ACTIVITY_NAME_Home Appliances',\n",
       "       'ACTIVITY_NAME_Home Energy', 'ACTIVITY_NAME_Home Products Sales',\n",
       "       'ACTIVITY_NAME_Livestock', 'ACTIVITY_NAME_Motorcycle Transport',\n",
       "       'ACTIVITY_NAME_Personal Expenses',\n",
       "       'ACTIVITY_NAME_Personal Housing Expenses',\n",
       "       'ACTIVITY_NAME_Personal Medical Expenses',\n",
       "       'ACTIVITY_NAME_Personal Products Sales', 'ACTIVITY_NAME_Pigs',\n",
       "       'ACTIVITY_NAME_Poultry', 'ACTIVITY_NAME_Primary/secondary school costs',\n",
       "       'ACTIVITY_NAME_Restaurant', 'ACTIVITY_NAME_Retail',\n",
       "       'ACTIVITY_NAME_Services', 'ACTIVITY_NAME_Sewing',\n",
       "       'ACTIVITY_NAME_Tailoring', 'ACTIVITY_NAME_Transportation',\n",
       "       'ACTIVITY_NAME_Used Clothing', 'ACTIVITY_NAME_Weaving',\n",
       "       'ACTIVITY_NAME_miscellaneous', 'SECTOR_NAME_Arts',\n",
       "       'SECTOR_NAME_Clothing', 'SECTOR_NAME_Construction',\n",
       "       'SECTOR_NAME_Education', 'SECTOR_NAME_Entertainment',\n",
       "       'SECTOR_NAME_Food', 'SECTOR_NAME_Health', 'SECTOR_NAME_Housing',\n",
       "       'SECTOR_NAME_Manufacturing', 'SECTOR_NAME_Personal Use',\n",
       "       'SECTOR_NAME_Retail', 'SECTOR_NAME_Services',\n",
       "       'SECTOR_NAME_Transportation', 'SECTOR_NAME_Wholesale',\n",
       "       'REPAYMENT_INTERVAL_irregular', 'REPAYMENT_INTERVAL_monthly',\n",
       "       'DISTRIBUTION_MODEL_field_partner'],\n",
       "      dtype='object')"
      ]
     },
     "execution_count": 19,
     "metadata": {},
     "output_type": "execute_result"
    }
   ],
   "source": [
    "X_train.columns"
   ]
  },
  {
   "cell_type": "code",
   "execution_count": null,
   "metadata": {},
   "outputs": [],
   "source": [
    "#Scale features\n",
    "sc = StandardScaler()\n",
    "X_train_sc = sc.fit_transform(X_train)\n",
    "X_test_sc = sc.transform(X_test)"
   ]
  },
  {
   "cell_type": "code",
   "execution_count": 28,
   "metadata": {},
   "outputs": [
    {
     "name": "stdout",
     "output_type": "stream",
     "text": [
      "0.8541053235010553 0.8503087626045494 0.8494670133908642\n"
     ]
    }
   ],
   "source": [
    "#RandomForestClassifier(bootstrap=False, max_features='sqrt', min_samples_leaf=2,\n",
    "#                       min_samples_split=15, n_estimators=23)\n",
    "\n",
    "gb = GradientBoostingClassifier(n_estimators=100, \n",
    "                        min_samples_split = 100, \n",
    "                        min_samples_leaf = 50, \n",
    "                        max_depth=5,\n",
    "                        max_features='sqrt',\n",
    "                        learning_rate = 0.1)\n",
    "gb.fit(X_train_sc, y_train)\n",
    "print(gb.score(X_train_sc, y_train), gb.score(X_test_sc, y_test),  \n",
    "      cross_val_score(rf, X_train_sc, y_train, cv = 5).mean())"
   ]
  },
  {
   "cell_type": "code",
   "execution_count": 32,
   "metadata": {},
   "outputs": [],
   "source": [
    "top_cols = pd.DataFrame({'importance' : gb.feature_importances_, 'feature_names' : X_train.columns}).sort_values(by='importance', ascending=False).head(25)"
   ]
  },
  {
   "cell_type": "code",
   "execution_count": 71,
   "metadata": {},
   "outputs": [
    {
     "data": {
      "text/plain": [
       "(25, 2)"
      ]
     },
     "execution_count": 71,
     "metadata": {},
     "output_type": "execute_result"
    }
   ],
   "source": [
    "top_cols.shape"
   ]
  },
  {
   "cell_type": "code",
   "execution_count": 72,
   "metadata": {},
   "outputs": [],
   "source": [
    "bott_cols_df = pd.DataFrame(top_cols.tail(15))"
   ]
  },
  {
   "cell_type": "code",
   "execution_count": 73,
   "metadata": {},
   "outputs": [],
   "source": [
    "bott_col_list = bott_cols_df['feature_names']"
   ]
  },
  {
   "cell_type": "code",
   "execution_count": 74,
   "metadata": {},
   "outputs": [
    {
     "data": {
      "text/plain": [
       "80            SECTOR_NAME_Retail\n",
       "19                      MALE_PIC\n",
       "5                  char_count_DT\n",
       "2                  word_count_DT\n",
       "82    SECTOR_NAME_Transportation\n",
       "15                  word_char_DT\n",
       "7                  char_count_LU\n",
       "50     ACTIVITY_NAME_Home Energy\n",
       "17                  word_char_LU\n",
       "11                PIC_TRUE_COUNT\n",
       "85    REPAYMENT_INTERVAL_monthly\n",
       "4                  word_count_LU\n",
       "73         SECTOR_NAME_Education\n",
       "78     SECTOR_NAME_Manufacturing\n",
       "14                      ANY_MALE\n",
       "Name: feature_names, dtype: object"
      ]
     },
     "execution_count": 74,
     "metadata": {},
     "output_type": "execute_result"
    }
   ],
   "source": [
    "bott_col_list"
   ]
  },
  {
   "cell_type": "code",
   "execution_count": null,
   "metadata": {},
   "outputs": [],
   "source": []
  }
 ],
 "metadata": {
  "kernelspec": {
   "display_name": "Python 3",
   "language": "python",
   "name": "python3"
  },
  "language_info": {
   "codemirror_mode": {
    "name": "ipython",
    "version": 3
   },
   "file_extension": ".py",
   "mimetype": "text/x-python",
   "name": "python",
   "nbconvert_exporter": "python",
   "pygments_lexer": "ipython3",
   "version": "3.8.5"
  }
 },
 "nbformat": 4,
 "nbformat_minor": 4
}
