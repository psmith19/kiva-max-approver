{
 "cells": [
  {
   "cell_type": "code",
   "execution_count": 1,
   "metadata": {},
   "outputs": [],
   "source": [
    "import pandas as pd\n",
    "import numpy as np\n",
    "import matplotlib.pyplot as plt\n",
    "import seaborn as sns"
   ]
  },
  {
   "cell_type": "code",
   "execution_count": 53,
   "metadata": {},
   "outputs": [],
   "source": [
    "kiva = pd.read_csv('kivamix.csv')"
   ]
  },
  {
   "cell_type": "code",
   "execution_count": 54,
   "metadata": {},
   "outputs": [
    {
     "data": {
      "text/plain": [
       "(419156, 35)"
      ]
     },
     "execution_count": 54,
     "metadata": {},
     "output_type": "execute_result"
    }
   ],
   "source": [
    "kiva.shape"
   ]
  },
  {
   "cell_type": "markdown",
   "metadata": {},
   "source": [
    "Variables of interest: \n",
    "\n"
   ]
  },
  {
   "cell_type": "code",
   "execution_count": 43,
   "metadata": {},
   "outputs": [
    {
     "data": {
      "text/plain": [
       "(419156, 35)"
      ]
     },
     "execution_count": 43,
     "metadata": {},
     "output_type": "execute_result"
    }
   ],
   "source": [
    "kiva.shape"
   ]
  },
  {
   "cell_type": "code",
   "execution_count": 55,
   "metadata": {},
   "outputs": [],
   "source": [
    "#Converting long text columns to length of words and count of characters\n",
    "#Step1 is to drop nulls\n",
    "kiva = kiva.drop(kiva[(kiva['DESCRIPTION_TRANSLATED'].isnull()==True)].index)\n",
    "kiva = kiva.drop(kiva[(kiva['TAGS'].isnull()==True)].index)\n",
    "kiva = kiva.drop(kiva[(kiva['LOAN_USE'].isnull()==True)].index)\n",
    "\n"
   ]
  },
  {
   "cell_type": "code",
   "execution_count": 56,
   "metadata": {},
   "outputs": [],
   "source": [
    "#Step 2 is to update new columns\n",
    "def word_len_count(column):\n",
    "    word_count = len(column.split())\n",
    "    return word_count\n",
    "\n",
    "def char_len_count(column):\n",
    "    char_count = column.replace(' ','')\n",
    "    char_count = len(char_count[:])\n",
    "    return char_count\n",
    "\n",
    "kiva['word_count_DT'] = kiva['DESCRIPTION_TRANSLATED'].apply(word_len_count)\n",
    "kiva['word_count_TAGS'] = kiva['TAGS'].apply(word_len_count)\n",
    "kiva['word_count_LU'] = kiva['LOAN_USE'].apply(word_len_count)\n",
    "\n",
    "kiva['char_count_DT'] = kiva['DESCRIPTION_TRANSLATED'].apply(char_len_count)\n",
    "kiva['char_count_TAGS'] = kiva['TAGS'].apply(char_len_count)\n",
    "kiva['char_count_LU'] = kiva['LOAN_USE'].apply(char_len_count)\n"
   ]
  },
  {
   "cell_type": "code",
   "execution_count": 57,
   "metadata": {},
   "outputs": [
    {
     "data": {
      "text/html": [
       "<div>\n",
       "<style scoped>\n",
       "    .dataframe tbody tr th:only-of-type {\n",
       "        vertical-align: middle;\n",
       "    }\n",
       "\n",
       "    .dataframe tbody tr th {\n",
       "        vertical-align: top;\n",
       "    }\n",
       "\n",
       "    .dataframe thead th {\n",
       "        text-align: right;\n",
       "    }\n",
       "</style>\n",
       "<table border=\"1\" class=\"dataframe\">\n",
       "  <thead>\n",
       "    <tr style=\"text-align: right;\">\n",
       "      <th></th>\n",
       "      <th>LOAN_ID</th>\n",
       "      <th>LOAN_NAME</th>\n",
       "      <th>ORIGINAL_LANGUAGE</th>\n",
       "      <th>DESCRIPTION</th>\n",
       "      <th>DESCRIPTION_TRANSLATED</th>\n",
       "      <th>FUNDED_AMOUNT</th>\n",
       "      <th>LOAN_AMOUNT</th>\n",
       "      <th>STATUS</th>\n",
       "      <th>IMAGE_ID</th>\n",
       "      <th>VIDEO_ID</th>\n",
       "      <th>...</th>\n",
       "      <th>BORROWER_PICTURED</th>\n",
       "      <th>REPAYMENT_INTERVAL</th>\n",
       "      <th>DISTRIBUTION_MODEL</th>\n",
       "      <th>year</th>\n",
       "      <th>word_count_DT</th>\n",
       "      <th>word_count_TAGS</th>\n",
       "      <th>word_count_LU</th>\n",
       "      <th>char_count_DT</th>\n",
       "      <th>char_count_TAGS</th>\n",
       "      <th>char_count_LU</th>\n",
       "    </tr>\n",
       "  </thead>\n",
       "  <tbody>\n",
       "    <tr>\n",
       "      <th>0</th>\n",
       "      <td>1455352</td>\n",
       "      <td>Raisa Jokasta</td>\n",
       "      <td>Spanish</td>\n",
       "      <td>En la ciudad de Portoviejo, conocida como la c...</td>\n",
       "      <td>The city of Portoviejo is located in the valle...</td>\n",
       "      <td>1075.0</td>\n",
       "      <td>1075.0</td>\n",
       "      <td>1</td>\n",
       "      <td>2638561.0</td>\n",
       "      <td>NaN</td>\n",
       "      <td>...</td>\n",
       "      <td>true</td>\n",
       "      <td>monthly</td>\n",
       "      <td>field_partner</td>\n",
       "      <td>2018</td>\n",
       "      <td>192</td>\n",
       "      <td>5</td>\n",
       "      <td>4</td>\n",
       "      <td>924</td>\n",
       "      <td>36</td>\n",
       "      <td>26</td>\n",
       "    </tr>\n",
       "    <tr>\n",
       "      <th>1</th>\n",
       "      <td>1727469</td>\n",
       "      <td>Lorna</td>\n",
       "      <td>English</td>\n",
       "      <td>Lorna is a married woman, 39 years old with fi...</td>\n",
       "      <td>Lorna is a married woman, 39 years old with fi...</td>\n",
       "      <td>225.0</td>\n",
       "      <td>400.0</td>\n",
       "      <td>0</td>\n",
       "      <td>3108106.0</td>\n",
       "      <td>NaN</td>\n",
       "      <td>...</td>\n",
       "      <td>true</td>\n",
       "      <td>monthly</td>\n",
       "      <td>field_partner</td>\n",
       "      <td>2019</td>\n",
       "      <td>75</td>\n",
       "      <td>3</td>\n",
       "      <td>12</td>\n",
       "      <td>371</td>\n",
       "      <td>28</td>\n",
       "      <td>69</td>\n",
       "    </tr>\n",
       "  </tbody>\n",
       "</table>\n",
       "<p>2 rows × 41 columns</p>\n",
       "</div>"
      ],
      "text/plain": [
       "   LOAN_ID      LOAN_NAME ORIGINAL_LANGUAGE  \\\n",
       "0  1455352  Raisa Jokasta           Spanish   \n",
       "1  1727469          Lorna           English   \n",
       "\n",
       "                                         DESCRIPTION  \\\n",
       "0  En la ciudad de Portoviejo, conocida como la c...   \n",
       "1  Lorna is a married woman, 39 years old with fi...   \n",
       "\n",
       "                              DESCRIPTION_TRANSLATED  FUNDED_AMOUNT  \\\n",
       "0  The city of Portoviejo is located in the valle...         1075.0   \n",
       "1  Lorna is a married woman, 39 years old with fi...          225.0   \n",
       "\n",
       "   LOAN_AMOUNT  STATUS   IMAGE_ID  VIDEO_ID  ... BORROWER_PICTURED  \\\n",
       "0       1075.0       1  2638561.0       NaN  ...              true   \n",
       "1        400.0       0  3108106.0       NaN  ...              true   \n",
       "\n",
       "  REPAYMENT_INTERVAL DISTRIBUTION_MODEL  year word_count_DT word_count_TAGS  \\\n",
       "0            monthly      field_partner  2018           192               5   \n",
       "1            monthly      field_partner  2019            75               3   \n",
       "\n",
       "  word_count_LU  char_count_DT char_count_TAGS  char_count_LU  \n",
       "0             4            924              36             26  \n",
       "1            12            371              28             69  \n",
       "\n",
       "[2 rows x 41 columns]"
      ]
     },
     "execution_count": 57,
     "metadata": {},
     "output_type": "execute_result"
    }
   ],
   "source": [
    "kiva.head(2)"
   ]
  },
  {
   "cell_type": "code",
   "execution_count": 75,
   "metadata": {},
   "outputs": [],
   "source": [
    "kiva['month'] = kiva['POSTED_TIME'].str[5:7]"
   ]
  },
  {
   "cell_type": "code",
   "execution_count": 76,
   "metadata": {},
   "outputs": [
    {
     "data": {
      "text/plain": [
       "05    31845\n",
       "10    31823\n",
       "07    31126\n",
       "03    29950\n",
       "11    29491\n",
       "09    29348\n",
       "06    28846\n",
       "08    28666\n",
       "04    28101\n",
       "12    25961\n",
       "01    25847\n",
       "02    23584\n",
       "Name: month, dtype: int64"
      ]
     },
     "execution_count": 76,
     "metadata": {},
     "output_type": "execute_result"
    }
   ],
   "source": [
    "kiva['month'].value_counts()"
   ]
  },
  {
   "cell_type": "code",
   "execution_count": 79,
   "metadata": {},
   "outputs": [],
   "source": [
    "#Mark whether Image and Video was provided\n",
    "kiva['IMAGE_ID'] = np.where(kiva['IMAGE_ID'].isnull(), 0, 1)\n",
    "kiva['VIDEO_ID'] = np.where(kiva['VIDEO_ID'].isnull(), 0, 1)"
   ]
  },
  {
   "cell_type": "code",
   "execution_count": 80,
   "metadata": {},
   "outputs": [],
   "source": [
    "## Parse out borrower genders & borrower pictured\n",
    "kiva['FEM_COUNT'] = kiva['BORROWER_GENDERS'].str.count(\"female\")\n",
    "kiva['MALE_COUNT'] = kiva['BORROWER_GENDERS'].str.count(\"male\")\n",
    "kiva['PIC_TRUE_COUNT'] = kiva['BORROWER_PICTURED'].str.count(\"true\")\n",
    "kiva['PIC_FALSE_COUNT'] = kiva['BORROWER_PICTURED'].str.count(\"false\")\n"
   ]
  },
  {
   "cell_type": "code",
   "execution_count": 81,
   "metadata": {},
   "outputs": [],
   "source": [
    "kiva['ANY_FEM'] = kiva['BORROWER_GENDERS'].str.contains('female').map({True:1, False:0})\n",
    "kiva['ANY_MALE'] = kiva['BORROWER_GENDERS'].str.contains('male').map({True:1, False:0})\n",
    "kiva['month'] = kiva['POSTED_TIME'].str[6:7]"
   ]
  },
  {
   "cell_type": "code",
   "execution_count": 82,
   "metadata": {},
   "outputs": [],
   "source": [
    "#Drop unrequired columns\n",
    "\n",
    "kiva.drop(columns = ['DESCRIPTION_TRANSLATED', 'LOAN_USE', 'TAGS', 'DESCRIPTION','LOAN_ID','LOAN_NAME', 'FUNDED_AMOUNT', 'DESCRIPTION', 'TOWN_NAME', 'CURRENCY_EXCHANGE_COVERAGE_RATE', 'CURRENCY', 'PARTNER_ID', 'PLANNED_EXPIRATION_TIME', 'DISBURSE_TIME', 'POSTED_TIME', 'RAISED_TIME', 'NUM_LENDERS_TOTAL', 'NUM_JOURNAL_ENTRIES', 'NUM_BULK_ENTRIES', 'BORROWER_NAMES', 'COUNTRY_NAME', 'CURRENCY_POLICY','year', 'BORROWER_GENDERS', 'BORROWER_PICTURED', 'IMAGE_ID', 'VIDEO_ID'], inplace=True)"
   ]
  },
  {
   "cell_type": "code",
   "execution_count": 83,
   "metadata": {},
   "outputs": [
    {
     "data": {
      "text/html": [
       "<div>\n",
       "<style scoped>\n",
       "    .dataframe tbody tr th:only-of-type {\n",
       "        vertical-align: middle;\n",
       "    }\n",
       "\n",
       "    .dataframe tbody tr th {\n",
       "        vertical-align: top;\n",
       "    }\n",
       "\n",
       "    .dataframe thead th {\n",
       "        text-align: right;\n",
       "    }\n",
       "</style>\n",
       "<table border=\"1\" class=\"dataframe\">\n",
       "  <thead>\n",
       "    <tr style=\"text-align: right;\">\n",
       "      <th></th>\n",
       "      <th>ORIGINAL_LANGUAGE</th>\n",
       "      <th>LOAN_AMOUNT</th>\n",
       "      <th>STATUS</th>\n",
       "      <th>ACTIVITY_NAME</th>\n",
       "      <th>SECTOR_NAME</th>\n",
       "      <th>COUNTRY_CODE</th>\n",
       "      <th>LENDER_TERM</th>\n",
       "      <th>REPAYMENT_INTERVAL</th>\n",
       "      <th>DISTRIBUTION_MODEL</th>\n",
       "      <th>word_count_DT</th>\n",
       "      <th>...</th>\n",
       "      <th>char_count_DT</th>\n",
       "      <th>char_count_TAGS</th>\n",
       "      <th>char_count_LU</th>\n",
       "      <th>month</th>\n",
       "      <th>FEM_COUNT</th>\n",
       "      <th>MALE_COUNT</th>\n",
       "      <th>PIC_TRUE_COUNT</th>\n",
       "      <th>PIC_FALSE_COUNT</th>\n",
       "      <th>ANY_FEM</th>\n",
       "      <th>ANY_MALE</th>\n",
       "    </tr>\n",
       "  </thead>\n",
       "  <tbody>\n",
       "    <tr>\n",
       "      <th>0</th>\n",
       "      <td>Spanish</td>\n",
       "      <td>1075.0</td>\n",
       "      <td>1</td>\n",
       "      <td>Natural Medicines</td>\n",
       "      <td>Health</td>\n",
       "      <td>EC</td>\n",
       "      <td>6.0</td>\n",
       "      <td>monthly</td>\n",
       "      <td>field_partner</td>\n",
       "      <td>192</td>\n",
       "      <td>...</td>\n",
       "      <td>924</td>\n",
       "      <td>36</td>\n",
       "      <td>26</td>\n",
       "      <td>1</td>\n",
       "      <td>1</td>\n",
       "      <td>1</td>\n",
       "      <td>1</td>\n",
       "      <td>0</td>\n",
       "      <td>1</td>\n",
       "      <td>1</td>\n",
       "    </tr>\n",
       "    <tr>\n",
       "      <th>1</th>\n",
       "      <td>English</td>\n",
       "      <td>400.0</td>\n",
       "      <td>0</td>\n",
       "      <td>Personal Products Sales</td>\n",
       "      <td>Retail</td>\n",
       "      <td>PH</td>\n",
       "      <td>14.0</td>\n",
       "      <td>monthly</td>\n",
       "      <td>field_partner</td>\n",
       "      <td>75</td>\n",
       "      <td>...</td>\n",
       "      <td>371</td>\n",
       "      <td>28</td>\n",
       "      <td>69</td>\n",
       "      <td>3</td>\n",
       "      <td>1</td>\n",
       "      <td>1</td>\n",
       "      <td>1</td>\n",
       "      <td>0</td>\n",
       "      <td>1</td>\n",
       "      <td>1</td>\n",
       "    </tr>\n",
       "  </tbody>\n",
       "</table>\n",
       "<p>2 rows × 22 columns</p>\n",
       "</div>"
      ],
      "text/plain": [
       "  ORIGINAL_LANGUAGE  LOAN_AMOUNT  STATUS            ACTIVITY_NAME SECTOR_NAME  \\\n",
       "0           Spanish       1075.0       1        Natural Medicines      Health   \n",
       "1           English        400.0       0  Personal Products Sales      Retail   \n",
       "\n",
       "  COUNTRY_CODE  LENDER_TERM REPAYMENT_INTERVAL DISTRIBUTION_MODEL  \\\n",
       "0           EC          6.0            monthly      field_partner   \n",
       "1           PH         14.0            monthly      field_partner   \n",
       "\n",
       "   word_count_DT  ...  char_count_DT  char_count_TAGS  char_count_LU  month  \\\n",
       "0            192  ...            924               36             26      1   \n",
       "1             75  ...            371               28             69      3   \n",
       "\n",
       "   FEM_COUNT MALE_COUNT  PIC_TRUE_COUNT  PIC_FALSE_COUNT  ANY_FEM  ANY_MALE  \n",
       "0          1          1               1                0        1         1  \n",
       "1          1          1               1                0        1         1  \n",
       "\n",
       "[2 rows x 22 columns]"
      ]
     },
     "execution_count": 83,
     "metadata": {},
     "output_type": "execute_result"
    }
   ],
   "source": [
    "kiva.head(2)"
   ]
  },
  {
   "cell_type": "code",
   "execution_count": 84,
   "metadata": {},
   "outputs": [],
   "source": [
    "kiva.to_csv('kivasmall.csv', index=False)"
   ]
  },
  {
   "cell_type": "code",
   "execution_count": null,
   "metadata": {},
   "outputs": [],
   "source": []
  }
 ],
 "metadata": {
  "kernelspec": {
   "display_name": "Python 3",
   "language": "python",
   "name": "python3"
  },
  "language_info": {
   "codemirror_mode": {
    "name": "ipython",
    "version": 3
   },
   "file_extension": ".py",
   "mimetype": "text/x-python",
   "name": "python",
   "nbconvert_exporter": "python",
   "pygments_lexer": "ipython3",
   "version": "3.8.5"
  }
 },
 "nbformat": 4,
 "nbformat_minor": 4
}
