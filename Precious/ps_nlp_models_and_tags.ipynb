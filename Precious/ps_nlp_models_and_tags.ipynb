{
 "cells": [
  {
   "cell_type": "markdown",
   "metadata": {},
   "source": [
    "# NLP Models with Tf-IDF Vectorizer\n",
    "This notebook has more nlp models with using Tf-IDF Vectorizer. It also has some analysis and models with the TAGS column explicitly."
   ]
  },
  {
   "cell_type": "markdown",
   "metadata": {},
   "source": [
    "### Importing Libraries & Loading Data"
   ]
  },
  {
   "cell_type": "code",
   "execution_count": 144,
   "metadata": {},
   "outputs": [],
   "source": [
    "import pandas as pd\n",
    "import numpy as np\n",
    "import matplotlib.pyplot as plt\n",
    "import seaborn as sns\n",
    "\n",
    "from nltk.corpus import stopwords\n",
    "from nltk.sentiment.vader import SentimentIntensityAnalyzer\n",
    "from nltk import FreqDist\n",
    "from nltk.tokenize import RegexpTokenizer\n",
    "\n",
    "from sklearn.preprocessing import StandardScaler\n",
    "from sklearn.neighbors import KNeighborsClassifier\n",
    "from sklearn.model_selection import train_test_split, GridSearchCV, cross_val_score\n",
    "from sklearn.pipeline import Pipeline\n",
    "from sklearn.naive_bayes import MultinomialNB, BernoulliNB\n",
    "from sklearn.linear_model import LogisticRegression\n",
    "from sklearn.metrics import confusion_matrix, ConfusionMatrixDisplay, classification_report\n",
    "from sklearn.feature_extraction.text import CountVectorizer, TfidfVectorizer\n",
    "\n",
    "from sklearn.tree import DecisionTreeClassifier, plot_tree, export_text\n",
    "from sklearn.ensemble import BaggingClassifier, AdaBoostClassifier, RandomForestClassifier, ExtraTreesClassifier, GradientBoostingClassifier"
   ]
  },
  {
   "cell_type": "code",
   "execution_count": 2,
   "metadata": {},
   "outputs": [],
   "source": [
    "kiva = pd.read_csv('~/dsi/Group-Project/kiva_sample.csv')"
   ]
  },
  {
   "cell_type": "code",
   "execution_count": 3,
   "metadata": {},
   "outputs": [
    {
     "data": {
      "text/html": [
       "<div>\n",
       "<style scoped>\n",
       "    .dataframe tbody tr th:only-of-type {\n",
       "        vertical-align: middle;\n",
       "    }\n",
       "\n",
       "    .dataframe tbody tr th {\n",
       "        vertical-align: top;\n",
       "    }\n",
       "\n",
       "    .dataframe thead th {\n",
       "        text-align: right;\n",
       "    }\n",
       "</style>\n",
       "<table border=\"1\" class=\"dataframe\">\n",
       "  <thead>\n",
       "    <tr style=\"text-align: right;\">\n",
       "      <th></th>\n",
       "      <th>STATUS</th>\n",
       "      <th>DESCRIPTION_TRANSLATED</th>\n",
       "      <th>LOAN_USE</th>\n",
       "      <th>TAGS</th>\n",
       "      <th>all_text</th>\n",
       "    </tr>\n",
       "  </thead>\n",
       "  <tbody>\n",
       "    <tr>\n",
       "      <th>0</th>\n",
       "      <td>1</td>\n",
       "      <td>Nora Luz is 55 years old, is separated from he...</td>\n",
       "      <td>to buy merchandise.</td>\n",
       "      <td>#Single, #Elderly, user_favorite, #Woman-Owned...</td>\n",
       "      <td>nora luz 55 year old separated husband life di...</td>\n",
       "    </tr>\n",
       "    <tr>\n",
       "      <th>1</th>\n",
       "      <td>0</td>\n",
       "      <td>Steven is a married man with four kids and is ...</td>\n",
       "      <td>to add cattle to his farm.</td>\n",
       "      <td>#Parent, #Animals, #Schooling, #Biz Durable Asset</td>\n",
       "      <td>steven married man four kid resident sembabule...</td>\n",
       "    </tr>\n",
       "    <tr>\n",
       "      <th>2</th>\n",
       "      <td>0</td>\n",
       "      <td>María is 32 years old and she lives in a priva...</td>\n",
       "      <td>to buy fresh cheese, pork scratchings, corn, b...</td>\n",
       "      <td>#Parent, #Woman-Owned Business, user_favorite</td>\n",
       "      <td>maría 32 year old life privately owned house h...</td>\n",
       "    </tr>\n",
       "    <tr>\n",
       "      <th>3</th>\n",
       "      <td>0</td>\n",
       "      <td>Benon is a hardworking 47-year-old married man...</td>\n",
       "      <td>to buy pipes, tiles, etc. to complete construc...</td>\n",
       "      <td>user_favorite, #Health and Sanitation, #Repair...</td>\n",
       "      <td>benon hardworking 47 year old married man six ...</td>\n",
       "    </tr>\n",
       "    <tr>\n",
       "      <th>4</th>\n",
       "      <td>1</td>\n",
       "      <td>Kousar is a 37-year-old lady, living with her ...</td>\n",
       "      <td>to buy raw material for embroidery such as thr...</td>\n",
       "      <td>#Fabrics, #Parent, #Woman-Owned Business</td>\n",
       "      <td>kousar 37 year old lady living spouse area mul...</td>\n",
       "    </tr>\n",
       "  </tbody>\n",
       "</table>\n",
       "</div>"
      ],
      "text/plain": [
       "   STATUS                             DESCRIPTION_TRANSLATED  \\\n",
       "0       1  Nora Luz is 55 years old, is separated from he...   \n",
       "1       0  Steven is a married man with four kids and is ...   \n",
       "2       0  María is 32 years old and she lives in a priva...   \n",
       "3       0  Benon is a hardworking 47-year-old married man...   \n",
       "4       1  Kousar is a 37-year-old lady, living with her ...   \n",
       "\n",
       "                                            LOAN_USE  \\\n",
       "0                                to buy merchandise.   \n",
       "1                         to add cattle to his farm.   \n",
       "2  to buy fresh cheese, pork scratchings, corn, b...   \n",
       "3  to buy pipes, tiles, etc. to complete construc...   \n",
       "4  to buy raw material for embroidery such as thr...   \n",
       "\n",
       "                                                TAGS  \\\n",
       "0  #Single, #Elderly, user_favorite, #Woman-Owned...   \n",
       "1  #Parent, #Animals, #Schooling, #Biz Durable Asset   \n",
       "2      #Parent, #Woman-Owned Business, user_favorite   \n",
       "3  user_favorite, #Health and Sanitation, #Repair...   \n",
       "4           #Fabrics, #Parent, #Woman-Owned Business   \n",
       "\n",
       "                                            all_text  \n",
       "0  nora luz 55 year old separated husband life di...  \n",
       "1  steven married man four kid resident sembabule...  \n",
       "2  maría 32 year old life privately owned house h...  \n",
       "3  benon hardworking 47 year old married man six ...  \n",
       "4  kousar 37 year old lady living spouse area mul...  "
      ]
     },
     "execution_count": 3,
     "metadata": {},
     "output_type": "execute_result"
    }
   ],
   "source": [
    "kiva.head()"
   ]
  },
  {
   "cell_type": "code",
   "execution_count": 3,
   "metadata": {},
   "outputs": [
    {
     "data": {
      "text/html": [
       "<div>\n",
       "<style scoped>\n",
       "    .dataframe tbody tr th:only-of-type {\n",
       "        vertical-align: middle;\n",
       "    }\n",
       "\n",
       "    .dataframe tbody tr th {\n",
       "        vertical-align: top;\n",
       "    }\n",
       "\n",
       "    .dataframe thead th {\n",
       "        text-align: right;\n",
       "    }\n",
       "</style>\n",
       "<table border=\"1\" class=\"dataframe\">\n",
       "  <thead>\n",
       "    <tr style=\"text-align: right;\">\n",
       "      <th></th>\n",
       "      <th>STATUS</th>\n",
       "      <th>DESCRIPTION_TRANSLATED</th>\n",
       "      <th>LOAN_USE</th>\n",
       "      <th>TAGS</th>\n",
       "      <th>all_text</th>\n",
       "    </tr>\n",
       "  </thead>\n",
       "  <tbody>\n",
       "    <tr>\n",
       "      <th>1545</th>\n",
       "      <td>1</td>\n",
       "      <td></td>\n",
       "      <td></td>\n",
       "      <td></td>\n",
       "      <td>NaN</td>\n",
       "    </tr>\n",
       "  </tbody>\n",
       "</table>\n",
       "</div>"
      ],
      "text/plain": [
       "      STATUS DESCRIPTION_TRANSLATED LOAN_USE TAGS all_text\n",
       "1545       1                                           NaN"
      ]
     },
     "execution_count": 3,
     "metadata": {},
     "output_type": "execute_result"
    }
   ],
   "source": [
    "# dropping empty row \n",
    "kiva[kiva['all_text'].isnull()]"
   ]
  },
  {
   "cell_type": "code",
   "execution_count": 4,
   "metadata": {},
   "outputs": [],
   "source": [
    "kiva.drop(index=1545, inplace=True)"
   ]
  },
  {
   "cell_type": "code",
   "execution_count": 6,
   "metadata": {},
   "outputs": [
    {
     "name": "stdout",
     "output_type": "stream",
     "text": [
      "<class 'pandas.core.frame.DataFrame'>\n",
      "Int64Index: 199337 entries, 0 to 199337\n",
      "Data columns (total 5 columns):\n",
      " #   Column                  Non-Null Count   Dtype \n",
      "---  ------                  --------------   ----- \n",
      " 0   STATUS                  199337 non-null  int64 \n",
      " 1   DESCRIPTION_TRANSLATED  199337 non-null  object\n",
      " 2   LOAN_USE                199337 non-null  object\n",
      " 3   TAGS                    199337 non-null  object\n",
      " 4   all_text                199337 non-null  object\n",
      "dtypes: int64(1), object(4)\n",
      "memory usage: 9.1+ MB\n"
     ]
    }
   ],
   "source": [
    "kiva.info()"
   ]
  },
  {
   "cell_type": "markdown",
   "metadata": {},
   "source": [
    "## Modeling w/Tf-IDF Vectorizer"
   ]
  },
  {
   "cell_type": "code",
   "execution_count": 5,
   "metadata": {},
   "outputs": [],
   "source": [
    "X = kiva['all_text']\n",
    "y = kiva['STATUS']"
   ]
  },
  {
   "cell_type": "code",
   "execution_count": 7,
   "metadata": {},
   "outputs": [
    {
     "data": {
      "text/plain": [
       "1    0.834672\n",
       "0    0.165328\n",
       "Name: STATUS, dtype: float64"
      ]
     },
     "execution_count": 7,
     "metadata": {},
     "output_type": "execute_result"
    }
   ],
   "source": [
    "y.value_counts(normalize=True)"
   ]
  },
  {
   "cell_type": "code",
   "execution_count": 6,
   "metadata": {},
   "outputs": [],
   "source": [
    "X_train, X_test, y_train, y_test = train_test_split(X, y, stratify=y, random_state=42)"
   ]
  },
  {
   "cell_type": "code",
   "execution_count": 8,
   "metadata": {},
   "outputs": [],
   "source": [
    "tvec = TfidfVectorizer()\n",
    "X_train_tvec = tvec.fit_transform(X_train)\n",
    "X_test_tvec = tvec.transform(X_test)"
   ]
  },
  {
   "cell_type": "code",
   "execution_count": 9,
   "metadata": {},
   "outputs": [
    {
     "data": {
      "text/plain": [
       "(149502, 88097)"
      ]
     },
     "execution_count": 9,
     "metadata": {},
     "output_type": "execute_result"
    }
   ],
   "source": [
    "X_train_tvec.shape"
   ]
  },
  {
   "cell_type": "code",
   "execution_count": 10,
   "metadata": {},
   "outputs": [
    {
     "data": {
      "text/plain": [
       "(49835, 88097)"
      ]
     },
     "execution_count": 10,
     "metadata": {},
     "output_type": "execute_result"
    }
   ],
   "source": [
    "X_test_tvec.shape"
   ]
  },
  {
   "cell_type": "code",
   "execution_count": 19,
   "metadata": {},
   "outputs": [],
   "source": [
    "# setting params for potential gridsearches\n",
    "tv_params = {\n",
    "    'tv__ngram_range': [(1,1), (1,2)],\n",
    "    'tv__max_df': [0.9, 0.95, 1.0],\n",
    "}"
   ]
  },
  {
   "cell_type": "markdown",
   "metadata": {},
   "source": [
    "### Multinomial NB"
   ]
  },
  {
   "cell_type": "code",
   "execution_count": 11,
   "metadata": {},
   "outputs": [
    {
     "data": {
      "text/plain": [
       "MultinomialNB()"
      ]
     },
     "execution_count": 11,
     "metadata": {},
     "output_type": "execute_result"
    }
   ],
   "source": [
    "# instantiating and fitting model\n",
    "nb = MultinomialNB()\n",
    "nb.fit(X_train_tvec, y_train)"
   ]
  },
  {
   "cell_type": "code",
   "execution_count": 13,
   "metadata": {},
   "outputs": [
    {
     "name": "stdout",
     "output_type": "stream",
     "text": [
      "Train score: 0.8381025003009993\n",
      "Test score: 0.8351359486304806\n"
     ]
    }
   ],
   "source": [
    "# scoring model\n",
    "print(f'Train score: {nb.score(X_train_tvec, y_train)}')\n",
    "print(f'Test score: {nb.score(X_test_tvec, y_test)}')"
   ]
  },
  {
   "cell_type": "markdown",
   "metadata": {},
   "source": [
    "### AdaBoost"
   ]
  },
  {
   "cell_type": "code",
   "execution_count": 134,
   "metadata": {},
   "outputs": [
    {
     "data": {
      "text/plain": [
       "AdaBoostClassifier()"
      ]
     },
     "execution_count": 134,
     "metadata": {},
     "output_type": "execute_result"
    }
   ],
   "source": [
    "# instantiating and fitting model\n",
    "ada = AdaBoostClassifier()\n",
    "ada.fit(X_train_tvec, y_train)"
   ]
  },
  {
   "cell_type": "code",
   "execution_count": 135,
   "metadata": {},
   "outputs": [
    {
     "name": "stdout",
     "output_type": "stream",
     "text": [
      "Train score: 0.8323500688953994\n",
      "Test score: 0.8328684659375941\n"
     ]
    }
   ],
   "source": [
    "# scoring model\n",
    "print(f'Train score: {ada.score(X_train_tvec, y_train)}')\n",
    "print(f'Test score: {ada.score(X_test_tvec, y_test)}')"
   ]
  },
  {
   "cell_type": "markdown",
   "metadata": {},
   "source": [
    "### GradientBoost"
   ]
  },
  {
   "cell_type": "code",
   "execution_count": 145,
   "metadata": {},
   "outputs": [
    {
     "data": {
      "text/plain": [
       "GradientBoostingClassifier()"
      ]
     },
     "execution_count": 145,
     "metadata": {},
     "output_type": "execute_result"
    }
   ],
   "source": [
    "# instantiating and fitting model\n",
    "gb = GradientBoostingClassifier()\n",
    "gb.fit(X_train_tvec, y_train)"
   ]
  },
  {
   "cell_type": "code",
   "execution_count": 146,
   "metadata": {},
   "outputs": [
    {
     "name": "stdout",
     "output_type": "stream",
     "text": [
      "Train score: 0.8394670305413975\n",
      "Test score: 0.8386274706531555\n"
     ]
    }
   ],
   "source": [
    "# scoring model\n",
    "print(f'Train score: {gb.score(X_train_tvec, y_train)}')\n",
    "print(f'Test score: {gb.score(X_test_tvec, y_test)}')"
   ]
  },
  {
   "cell_type": "markdown",
   "metadata": {},
   "source": [
    "Each model used with default parameters did not improve the r2_score beyond the null model."
   ]
  },
  {
   "cell_type": "markdown",
   "metadata": {},
   "source": [
    "## Tag Analysis\n",
    "Testing models to see if keeping all words from tag together following vectorizing improves the model."
   ]
  },
  {
   "cell_type": "code",
   "execution_count": 63,
   "metadata": {},
   "outputs": [
    {
     "data": {
      "text/plain": [
       "'#Single, #Elderly, user_favorite, #Woman-Owned Business, user_favorite, #Interesting Photo, #Repeat Borrower'"
      ]
     },
     "execution_count": 63,
     "metadata": {},
     "output_type": "execute_result"
    }
   ],
   "source": [
    "kiva['TAGS'][0]"
   ]
  },
  {
   "cell_type": "code",
   "execution_count": 65,
   "metadata": {},
   "outputs": [
    {
     "data": {
      "text/plain": [
       "'#Single,#Elderly,user_favorite,#Woman-OwnedBusiness,user_favorite,#InterestingPhoto,#RepeatBorrower'"
      ]
     },
     "execution_count": 65,
     "metadata": {},
     "output_type": "execute_result"
    }
   ],
   "source": [
    "# testing process to keep all words from tag following vectorizing\n",
    "test_replace = kiva['TAGS'][0].replace(' ', '')\n",
    "test_replace"
   ]
  },
  {
   "cell_type": "code",
   "execution_count": 66,
   "metadata": {},
   "outputs": [],
   "source": [
    "# tokenizing test\n",
    "tokenizer = RegexpTokenizer('\\w+|\\$[\\d.]+|S+')\n",
    "test_token = [tokenizer.tokenize(test_replace.lower())]"
   ]
  },
  {
   "cell_type": "code",
   "execution_count": 67,
   "metadata": {},
   "outputs": [
    {
     "data": {
      "text/plain": [
       "[['single',\n",
       "  'elderly',\n",
       "  'user_favorite',\n",
       "  'woman',\n",
       "  'ownedbusiness',\n",
       "  'user_favorite',\n",
       "  'interestingphoto',\n",
       "  'repeatborrower']]"
      ]
     },
     "execution_count": 67,
     "metadata": {},
     "output_type": "execute_result"
    }
   ],
   "source": [
    "test_token"
   ]
  },
  {
   "cell_type": "code",
   "execution_count": 74,
   "metadata": {},
   "outputs": [],
   "source": [
    "# casting TAGS column to string to avoid erros in processing\n",
    "kiva['TAGS'] = kiva['TAGS'].astype(str)"
   ]
  },
  {
   "cell_type": "code",
   "execution_count": 85,
   "metadata": {},
   "outputs": [],
   "source": [
    "# removing spaces within tags and creating new column w/changes to TAGS\n",
    "kiva['processed_TAGS'] = [row.replace(' ', '') for row in kiva['TAGS']]"
   ]
  },
  {
   "cell_type": "code",
   "execution_count": 87,
   "metadata": {},
   "outputs": [],
   "source": [
    "# removing dashes within tags \n",
    "kiva['processed_TAGS'] = [row.replace('-', '') for row in kiva['processed_TAGS']]"
   ]
  },
  {
   "cell_type": "code",
   "execution_count": 89,
   "metadata": {},
   "outputs": [],
   "source": [
    "# tokenizing all rows\n",
    "kiva['processed_TAGS'] = [tokenizer.tokenize(row.lower()) for row in kiva['processed_TAGS']] "
   ]
  },
  {
   "cell_type": "code",
   "execution_count": 91,
   "metadata": {},
   "outputs": [
    {
     "data": {
      "text/plain": [
       "0    [single, elderly, user_favorite, womanownedbus...\n",
       "1        [parent, animals, schooling, bizdurableasset]\n",
       "2          [parent, womanownedbusiness, user_favorite]\n",
       "3    [user_favorite, healthandsanitation, repairren...\n",
       "4                [fabrics, parent, womanownedbusiness]\n",
       "Name: processed_TAGS, dtype: object"
      ]
     },
     "execution_count": 91,
     "metadata": {},
     "output_type": "execute_result"
    }
   ],
   "source": [
    "kiva['processed_TAGS'].head()"
   ]
  },
  {
   "cell_type": "code",
   "execution_count": 92,
   "metadata": {},
   "outputs": [],
   "source": [
    "# rejoining list of words in each row\n",
    "kiva['processed_TAGS'] = [' '.join(row) for row in kiva['processed_TAGS']]"
   ]
  },
  {
   "cell_type": "code",
   "execution_count": 93,
   "metadata": {},
   "outputs": [
    {
     "data": {
      "text/plain": [
       "'single elderly user_favorite womanownedbusiness user_favorite interestingphoto repeatborrower'"
      ]
     },
     "execution_count": 93,
     "metadata": {},
     "output_type": "execute_result"
    }
   ],
   "source": [
    "kiva['processed_TAGS'][0]"
   ]
  },
  {
   "cell_type": "markdown",
   "metadata": {},
   "source": [
    "### Tag Modeling"
   ]
  },
  {
   "cell_type": "code",
   "execution_count": 94,
   "metadata": {},
   "outputs": [],
   "source": [
    "# defining data variables\n",
    "X_sk = kiva['processed_TAGS']\n",
    "y_sk = kiva['STATUS']"
   ]
  },
  {
   "cell_type": "code",
   "execution_count": 97,
   "metadata": {},
   "outputs": [
    {
     "data": {
      "text/plain": [
       "1    0.834672\n",
       "0    0.165328\n",
       "Name: STATUS, dtype: float64"
      ]
     },
     "execution_count": 97,
     "metadata": {},
     "output_type": "execute_result"
    }
   ],
   "source": [
    "y.value_counts(normalize=True)"
   ]
  },
  {
   "cell_type": "code",
   "execution_count": 95,
   "metadata": {},
   "outputs": [],
   "source": [
    "X_train, X_test, y_train, y_test = train_test_split(X_sk, y_sk, stratify=y, random_state=42)"
   ]
  },
  {
   "cell_type": "code",
   "execution_count": 119,
   "metadata": {},
   "outputs": [],
   "source": [
    "# vectorizing data\n",
    "tv = TfidfVectorizer()\n",
    "X_train_tv = tv.fit_transform(X_train)\n",
    "X_test_tv = tv.transform(X_test)"
   ]
  },
  {
   "cell_type": "code",
   "execution_count": 103,
   "metadata": {},
   "outputs": [
    {
     "data": {
      "text/plain": [
       "{'tv__ngram_range': [(1, 1), (1, 2)], 'tv__max_df': [0.9, 0.95, 1.0]}"
      ]
     },
     "execution_count": 103,
     "metadata": {},
     "output_type": "execute_result"
    }
   ],
   "source": [
    "tv_params"
   ]
  },
  {
   "cell_type": "code",
   "execution_count": 136,
   "metadata": {},
   "outputs": [
    {
     "data": {
      "text/plain": [
       "LogisticRegression(C=0.1, max_iter=1000)"
      ]
     },
     "execution_count": 136,
     "metadata": {},
     "output_type": "execute_result"
    }
   ],
   "source": [
    "# instantiating and fitting logistic regression model\n",
    "lr = LogisticRegression(max_iter=1000, C=0.1)\n",
    "lr.fit(X_train_tv, y_train)"
   ]
  },
  {
   "cell_type": "code",
   "execution_count": 100,
   "metadata": {},
   "outputs": [
    {
     "name": "stdout",
     "output_type": "stream",
     "text": [
      "Train score: 0.8334069109443352\n",
      "Test score: 0.8333299889635798\n"
     ]
    }
   ],
   "source": [
    "# scoring logistic regression\n",
    "print(f'Train score: {lr.score(X_train_tv, y_train)}')\n",
    "print(f'Test score: {lr.score(X_test_tv, y_test)}')"
   ]
  },
  {
   "cell_type": "code",
   "execution_count": 137,
   "metadata": {},
   "outputs": [
    {
     "name": "stdout",
     "output_type": "stream",
     "text": [
      "Train score: 0.8334804885553371\n",
      "Test score: 0.8337513795525233\n"
     ]
    }
   ],
   "source": [
    "# scoring logistic regression w/changes in C \n",
    "print(f'Train score: {lr.score(X_train_tv, y_train)}')\n",
    "print(f'Test score: {lr.score(X_test_tv, y_test)}')"
   ]
  },
  {
   "cell_type": "markdown",
   "metadata": {},
   "source": [
    "No real changes in scores following change of ngram_range and max_df in the vectorizer as well as changing the C value in lr."
   ]
  },
  {
   "cell_type": "markdown",
   "metadata": {},
   "source": [
    "### MultinomialNB"
   ]
  },
  {
   "cell_type": "code",
   "execution_count": 132,
   "metadata": {},
   "outputs": [
    {
     "data": {
      "text/plain": [
       "MultinomialNB(alpha=100)"
      ]
     },
     "execution_count": 132,
     "metadata": {},
     "output_type": "execute_result"
    }
   ],
   "source": [
    "# instantiating and fitting multinomialNB \n",
    "nb2 = MultinomialNB(alpha=100)\n",
    "nb2.fit(X_train_tv, y_train)"
   ]
  },
  {
   "cell_type": "code",
   "execution_count": 102,
   "metadata": {},
   "outputs": [
    {
     "name": "stdout",
     "output_type": "stream",
     "text": [
      "Train score: 0.8346711080788217\n",
      "Test score: 0.8346744256044948\n"
     ]
    }
   ],
   "source": [
    "# scoring model\n",
    "print(f'Train score: {nb2.score(X_train_tv, y_train)}')\n",
    "print(f'Test score: {nb2.score(X_test_tv, y_test)}')"
   ]
  },
  {
   "cell_type": "code",
   "execution_count": 133,
   "metadata": {},
   "outputs": [
    {
     "name": "stdout",
     "output_type": "stream",
     "text": [
      "Train score: 0.8346711080788217\n",
      "Test score: 0.8346744256044948\n"
     ]
    }
   ],
   "source": [
    "# scoring model\n",
    "print(f'Train score: {nb2.score(X_train_tv, y_train)}')\n",
    "print(f'Test score: {nb2.score(X_test_tv, y_test)}')"
   ]
  },
  {
   "cell_type": "markdown",
   "metadata": {},
   "source": [
    "No real changes in scores even after changing hyperparameters in vectorizer and MultinomialNB. Scores still in line with null model."
   ]
  },
  {
   "cell_type": "markdown",
   "metadata": {},
   "source": [
    "### Bernoulli"
   ]
  },
  {
   "cell_type": "code",
   "execution_count": 138,
   "metadata": {},
   "outputs": [
    {
     "data": {
      "text/plain": [
       "BernoulliNB()"
      ]
     },
     "execution_count": 138,
     "metadata": {},
     "output_type": "execute_result"
    }
   ],
   "source": [
    "bnb = BernoulliNB()\n",
    "bnb.fit(X_train_tv, y_train)"
   ]
  },
  {
   "cell_type": "code",
   "execution_count": 139,
   "metadata": {},
   "outputs": [
    {
     "name": "stdout",
     "output_type": "stream",
     "text": [
      "Train score: 0.8193669649904349\n",
      "Test score: 0.821129728102739\n"
     ]
    }
   ],
   "source": [
    "# scoring model\n",
    "print(f'Train score: {bnb.score(X_train_tv, y_train)}')\n",
    "print(f'Test score: {bnb.score(X_test_tv, y_test)}')"
   ]
  },
  {
   "cell_type": "markdown",
   "metadata": {},
   "source": [
    "### AdaBoost"
   ]
  },
  {
   "cell_type": "code",
   "execution_count": 140,
   "metadata": {},
   "outputs": [
    {
     "data": {
      "text/plain": [
       "AdaBoostClassifier()"
      ]
     },
     "execution_count": 140,
     "metadata": {},
     "output_type": "execute_result"
    }
   ],
   "source": [
    "ada = AdaBoostClassifier()\n",
    "ada.fit(X_train_tv, y_train)"
   ]
  },
  {
   "cell_type": "code",
   "execution_count": 141,
   "metadata": {},
   "outputs": [
    {
     "name": "stdout",
     "output_type": "stream",
     "text": [
      "Train score: 0.8321427138098487\n",
      "Test score: 0.8329085983746363\n"
     ]
    }
   ],
   "source": [
    "# scoring model\n",
    "print(f'Train score: {ada.score(X_train_tv, y_train)}')\n",
    "print(f'Test score: {ada.score(X_test_tv, y_test)}')"
   ]
  },
  {
   "cell_type": "markdown",
   "metadata": {},
   "source": [
    "### Random Forest"
   ]
  },
  {
   "cell_type": "code",
   "execution_count": 143,
   "metadata": {},
   "outputs": [
    {
     "data": {
      "text/plain": [
       "RandomForestClassifier()"
      ]
     },
     "execution_count": 143,
     "metadata": {},
     "output_type": "execute_result"
    }
   ],
   "source": [
    "rfc = RandomForestClassifier()\n",
    "rfc.fit(X_train_tv, y_train)"
   ]
  },
  {
   "cell_type": "code",
   "execution_count": 147,
   "metadata": {},
   "outputs": [
    {
     "name": "stdout",
     "output_type": "stream",
     "text": [
      "Train score: 0.8562159703549116\n",
      "Test score: 0.8299187318149894\n"
     ]
    }
   ],
   "source": [
    "# scoring model\n",
    "print(f'Train score: {rfc.score(X_train_tv, y_train)}')\n",
    "print(f'Test score: {rfc.score(X_test_tv, y_test)}')"
   ]
  },
  {
   "cell_type": "code",
   "execution_count": null,
   "metadata": {},
   "outputs": [],
   "source": []
  }
 ],
 "metadata": {
  "kernelspec": {
   "display_name": "Python 3",
   "language": "python",
   "name": "python3"
  },
  "language_info": {
   "codemirror_mode": {
    "name": "ipython",
    "version": 3
   },
   "file_extension": ".py",
   "mimetype": "text/x-python",
   "name": "python",
   "nbconvert_exporter": "python",
   "pygments_lexer": "ipython3",
   "version": "3.8.5"
  }
 },
 "nbformat": 4,
 "nbformat_minor": 4
}
