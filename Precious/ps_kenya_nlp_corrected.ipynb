{
 "cells": [
  {
   "cell_type": "markdown",
   "metadata": {},
   "source": [
    "##### Combine tags, combine text columns, regex, lemmatize, stem, stopwords, save to csv, reread csv and drop nulls, model"
   ]
  },
  {
   "cell_type": "code",
   "execution_count": null,
   "metadata": {},
   "outputs": [],
   "source": []
  },
  {
   "cell_type": "code",
   "execution_count": 100,
   "metadata": {},
   "outputs": [],
   "source": [
    "import pandas as pd\n",
    "import numpy as np\n",
    "import matplotlib.pyplot as plt\n",
    "import seaborn as sns\n",
    "\n",
    "from nltk.corpus import stopwords\n",
    "from nltk.sentiment.vader import SentimentIntensityAnalyzer\n",
    "from nltk import FreqDist\n",
    "from nltk.tokenize import RegexpTokenizer\n",
    "from nltk.stem import WordNetLemmatizer\n",
    "from nltk.stem.porter import PorterStemmer\n",
    "\n",
    "from sklearn.preprocessing import StandardScaler\n",
    "from sklearn.neighbors import KNeighborsClassifier\n",
    "from sklearn.model_selection import train_test_split, GridSearchCV, cross_val_score\n",
    "from sklearn.pipeline import Pipeline\n",
    "from sklearn.naive_bayes import MultinomialNB, BernoulliNB\n",
    "from sklearn.linear_model import LogisticRegression\n",
    "from sklearn.metrics import confusion_matrix, ConfusionMatrixDisplay, classification_report, roc_auc_score\n",
    "from sklearn.feature_extraction.text import CountVectorizer, TfidfVectorizer\n",
    "\n",
    "from sklearn.tree import DecisionTreeClassifier, plot_tree, export_text\n",
    "from sklearn.ensemble import BaggingClassifier, AdaBoostClassifier, RandomForestClassifier, ExtraTreesClassifier, GradientBoostingClassifier"
   ]
  },
  {
   "cell_type": "code",
   "execution_count": 46,
   "metadata": {},
   "outputs": [],
   "source": [
    "full_kiva = pd.read_csv('/Users/precious/dsi/Group-Project/kivamix.csv')"
   ]
  },
  {
   "cell_type": "code",
   "execution_count": 47,
   "metadata": {},
   "outputs": [],
   "source": [
    "full_kiva = full_kiva[['LOAN_ID', 'COUNTRY_NAME', 'STATUS', 'DESCRIPTION_TRANSLATED', 'LOAN_USE', 'TAGS']]"
   ]
  },
  {
   "cell_type": "code",
   "execution_count": 48,
   "metadata": {},
   "outputs": [],
   "source": [
    "kiva = full_kiva[full_kiva['COUNTRY_NAME']=='Kenya']"
   ]
  },
  {
   "cell_type": "code",
   "execution_count": 49,
   "metadata": {},
   "outputs": [
    {
     "name": "stdout",
     "output_type": "stream",
     "text": [
      "<class 'pandas.core.frame.DataFrame'>\n",
      "Int64Index: 51170 entries, 7 to 419149\n",
      "Data columns (total 6 columns):\n",
      " #   Column                  Non-Null Count  Dtype \n",
      "---  ------                  --------------  ----- \n",
      " 0   LOAN_ID                 51170 non-null  int64 \n",
      " 1   COUNTRY_NAME            51170 non-null  object\n",
      " 2   STATUS                  51170 non-null  int64 \n",
      " 3   DESCRIPTION_TRANSLATED  50025 non-null  object\n",
      " 4   LOAN_USE                50025 non-null  object\n",
      " 5   TAGS                    43157 non-null  object\n",
      "dtypes: int64(2), object(4)\n",
      "memory usage: 2.7+ MB\n"
     ]
    }
   ],
   "source": [
    "kiva.info()"
   ]
  },
  {
   "cell_type": "code",
   "execution_count": 50,
   "metadata": {},
   "outputs": [
    {
     "data": {
      "text/plain": [
       "1    0.784659\n",
       "0    0.215341\n",
       "Name: STATUS, dtype: float64"
      ]
     },
     "execution_count": 50,
     "metadata": {},
     "output_type": "execute_result"
    }
   ],
   "source": [
    "kiva['STATUS'].value_counts(normalize=True)"
   ]
  },
  {
   "cell_type": "code",
   "execution_count": 51,
   "metadata": {},
   "outputs": [],
   "source": [
    "# filling nulls with blank spaces so they aren't erased when combined\n",
    "kiva = kiva.fillna(' ')"
   ]
  },
  {
   "cell_type": "code",
   "execution_count": 52,
   "metadata": {},
   "outputs": [
    {
     "name": "stdout",
     "output_type": "stream",
     "text": [
      "<class 'pandas.core.frame.DataFrame'>\n",
      "Int64Index: 51170 entries, 7 to 419149\n",
      "Data columns (total 6 columns):\n",
      " #   Column                  Non-Null Count  Dtype \n",
      "---  ------                  --------------  ----- \n",
      " 0   LOAN_ID                 51170 non-null  int64 \n",
      " 1   COUNTRY_NAME            51170 non-null  object\n",
      " 2   STATUS                  51170 non-null  int64 \n",
      " 3   DESCRIPTION_TRANSLATED  51170 non-null  object\n",
      " 4   LOAN_USE                51170 non-null  object\n",
      " 5   TAGS                    51170 non-null  object\n",
      "dtypes: int64(2), object(4)\n",
      "memory usage: 2.7+ MB\n"
     ]
    }
   ],
   "source": [
    "kiva.info()"
   ]
  },
  {
   "cell_type": "code",
   "execution_count": 53,
   "metadata": {},
   "outputs": [],
   "source": [
    "# removing spaces within tags and creating new column w/changes to TAGS\n",
    "kiva['processed_TAGS'] = [row.replace(' ', '') for row in kiva['TAGS']]"
   ]
  },
  {
   "cell_type": "code",
   "execution_count": 54,
   "metadata": {},
   "outputs": [],
   "source": [
    "# removing dashes within tags \n",
    "kiva['processed_TAGS'] = [row.replace('-', '') for row in kiva['processed_TAGS']]"
   ]
  },
  {
   "cell_type": "code",
   "execution_count": 55,
   "metadata": {},
   "outputs": [],
   "source": [
    "# creating column with all text included\n",
    "kiva['all_text'] = (kiva['DESCRIPTION_TRANSLATED']+kiva['LOAN_USE']+kiva['processed_TAGS'])"
   ]
  },
  {
   "cell_type": "code",
   "execution_count": 56,
   "metadata": {},
   "outputs": [],
   "source": [
    "# removing html breaks\n",
    "kiva['all_text'] = kiva['all_text'].str.replace('<br />', ' ')"
   ]
  },
  {
   "cell_type": "code",
   "execution_count": 76,
   "metadata": {},
   "outputs": [
    {
     "data": {
      "text/plain": [
       "'Harriet is a married woman and she has three children. She describes herself to be honest. She operates a hotel. She has been involved in this business for 16 years. Her business is located in a good area and her primary customers are locals. She describes her biggest business challenge to be inadequate working capital.   She will use the KES 98,000 loan to buy furniture for the hotel use. She hopes that in the future, she will have more outlets.to buy furniture for the hotel use.#BizDurableAsset,#Parent,#WomanOwnedBusiness'"
      ]
     },
     "execution_count": 76,
     "metadata": {},
     "output_type": "execute_result"
    }
   ],
   "source": [
    "kiva['all_text'][30]"
   ]
  },
  {
   "cell_type": "code",
   "execution_count": 96,
   "metadata": {},
   "outputs": [],
   "source": [
    "# Removing punctuation from text\n",
    "tokenizer = RegexpTokenizer('\\w+|\\$[\\d.]+|S+')\n",
    "kiva['all_text'] = [tokenizer.tokenize(row.lower()) for row in kiva['all_text']]"
   ]
  },
  {
   "cell_type": "code",
   "execution_count": 97,
   "metadata": {},
   "outputs": [],
   "source": [
    "# removing s's from ends of words to be able to count singulars and plurals together\n",
    "lemmatizer = WordNetLemmatizer()\n",
    "kiva['all_text'] = [[lemmatizer.lemmatize(token) for token in token_list] for token_list in kiva['all_text']]"
   ]
  },
  {
   "cell_type": "code",
   "execution_count": 98,
   "metadata": {},
   "outputs": [],
   "source": [
    "# removing most common english words from text\n",
    "kiva['all_text'] = [[token for token in token_list if token not in stopwords.words('english')] for token_list in kiva['all_text']]"
   ]
  },
  {
   "cell_type": "code",
   "execution_count": 101,
   "metadata": {},
   "outputs": [],
   "source": [
    "# Instantiate PorterStemmer.\n",
    "p_stemmer = PorterStemmer()"
   ]
  },
  {
   "cell_type": "code",
   "execution_count": 102,
   "metadata": {},
   "outputs": [],
   "source": [
    "# stemming words in all_text \n",
    "kiva['all_text'] = [[p_stemmer.stem(token) for token in token_list] for token_list in kiva['all_text']]"
   ]
  },
  {
   "cell_type": "code",
   "execution_count": 103,
   "metadata": {},
   "outputs": [
    {
     "data": {
      "text/plain": [
       "index                     0\n",
       "LOAN_ID                   0\n",
       "COUNTRY_NAME              0\n",
       "STATUS                    0\n",
       "DESCRIPTION_TRANSLATED    0\n",
       "LOAN_USE                  0\n",
       "TAGS                      0\n",
       "processed_TAGS            0\n",
       "all_text                  0\n",
       "dtype: int64"
      ]
     },
     "execution_count": 103,
     "metadata": {},
     "output_type": "execute_result"
    }
   ],
   "source": [
    "kiva.isnull().sum()"
   ]
  },
  {
   "cell_type": "code",
   "execution_count": 104,
   "metadata": {},
   "outputs": [],
   "source": [
    "kiva.to_csv('/Users/precious/dsi/Group-Project/kiva_kenya_processed.csv', index=False)"
   ]
  },
  {
   "cell_type": "code",
   "execution_count": 105,
   "metadata": {},
   "outputs": [],
   "source": [
    "new_kiva = pd.read_csv('/Users/precious/dsi/Group-Project/kiva_kenya_processed.csv')"
   ]
  },
  {
   "cell_type": "code",
   "execution_count": 106,
   "metadata": {},
   "outputs": [
    {
     "data": {
      "text/plain": [
       "index                        0\n",
       "LOAN_ID                      0\n",
       "COUNTRY_NAME                 0\n",
       "STATUS                       0\n",
       "DESCRIPTION_TRANSLATED       0\n",
       "LOAN_USE                     0\n",
       "TAGS                         0\n",
       "processed_TAGS            8013\n",
       "all_text                     0\n",
       "dtype: int64"
      ]
     },
     "execution_count": 106,
     "metadata": {},
     "output_type": "execute_result"
    }
   ],
   "source": [
    "new_kiva.isnull().sum()"
   ]
  },
  {
   "cell_type": "code",
   "execution_count": null,
   "metadata": {},
   "outputs": [],
   "source": []
  },
  {
   "cell_type": "code",
   "execution_count": 107,
   "metadata": {},
   "outputs": [],
   "source": [
    "X = new_kiva['all_text']\n",
    "y = new_kiva['STATUS']"
   ]
  },
  {
   "cell_type": "code",
   "execution_count": 108,
   "metadata": {},
   "outputs": [],
   "source": [
    "X_train, X_test, y_train, y_test = train_test_split(X, y, stratify=y, random_state=42)"
   ]
  },
  {
   "cell_type": "code",
   "execution_count": 109,
   "metadata": {},
   "outputs": [
    {
     "data": {
      "text/plain": [
       "1    0.784659\n",
       "0    0.215341\n",
       "Name: STATUS, dtype: float64"
      ]
     },
     "execution_count": 109,
     "metadata": {},
     "output_type": "execute_result"
    }
   ],
   "source": [
    "y.value_counts(normalize=True)"
   ]
  },
  {
   "cell_type": "code",
   "execution_count": 115,
   "metadata": {},
   "outputs": [],
   "source": [
    "tvec = TfidfVectorizer(ngram_range=(1,2))\n",
    "X_train_tvec = tvec.fit_transform(X_train)\n",
    "X_test_tvec = tvec.transform(X_test)"
   ]
  },
  {
   "cell_type": "code",
   "execution_count": 116,
   "metadata": {},
   "outputs": [
    {
     "data": {
      "text/plain": [
       "LogisticRegression(max_iter=1000)"
      ]
     },
     "execution_count": 116,
     "metadata": {},
     "output_type": "execute_result"
    }
   ],
   "source": [
    "logreg = LogisticRegression(max_iter=1000)\n",
    "logreg.fit(X_train_tvec, y_train)"
   ]
  },
  {
   "cell_type": "code",
   "execution_count": 114,
   "metadata": {},
   "outputs": [
    {
     "name": "stdout",
     "output_type": "stream",
     "text": [
      "Train score: 0.8422232066081247\n",
      "Test score: 0.8197451731415618\n"
     ]
    }
   ],
   "source": [
    "# scoring logistic regression (ngram1,2, max_feat20_000\n",
    "print(f'Train score: {logreg.score(X_train_tvec, y_train)}')\n",
    "print(f'Test score: {logreg.score(X_test_tvec, y_test)}')"
   ]
  },
  {
   "cell_type": "code",
   "execution_count": 117,
   "metadata": {},
   "outputs": [
    {
     "name": "stdout",
     "output_type": "stream",
     "text": [
      "Train score: 0.84803397868515\n",
      "Test score: 0.8209176893613696\n"
     ]
    }
   ],
   "source": [
    "# scoring logistic regression (ngram1,2, max_feat20_000\n",
    "print(f'Train score: {logreg.score(X_train_tvec, y_train)}')\n",
    "print(f'Test score: {logreg.score(X_test_tvec, y_test)}')"
   ]
  },
  {
   "cell_type": "code",
   "execution_count": 118,
   "metadata": {},
   "outputs": [],
   "source": [
    "# creating predictions from test data\n",
    "logreg_preds = logreg.predict(X_test_tvec)"
   ]
  },
  {
   "cell_type": "code",
   "execution_count": 119,
   "metadata": {},
   "outputs": [
    {
     "data": {
      "image/png": "[encoded data removed]",
      "text/plain": [
       "<Figure size 432x288 with 2 Axes>"
      ]
     },
     "metadata": {
      "needs_background": "light"
     },
     "output_type": "display_data"
    }
   ],
   "source": [
    "# showing predictions vs true status where 0=expired and 1=funded\n",
    "logreg_cm = confusion_matrix(y_test, logreg_preds)\n",
    "ConfusionMatrixDisplay(logreg_cm).plot();"
   ]
  },
  {
   "cell_type": "code",
   "execution_count": 120,
   "metadata": {},
   "outputs": [
    {
     "name": "stdout",
     "output_type": "stream",
     "text": [
      "ROC AUC: 0.6372765523677901\n"
     ]
    }
   ],
   "source": [
    "print(f'ROC AUC: {roc_auc_score(y_test, logreg_preds)}')"
   ]
  },
  {
   "cell_type": "code",
   "execution_count": 121,
   "metadata": {},
   "outputs": [
    {
     "name": "stdout",
     "output_type": "stream",
     "text": [
      "              precision    recall  f1-score   support\n",
      "\n",
      "           0       0.68      0.31      0.43      2755\n",
      "           1       0.84      0.96      0.89     10038\n",
      "\n",
      "    accuracy                           0.82     12793\n",
      "   macro avg       0.76      0.64      0.66     12793\n",
      "weighted avg       0.80      0.82      0.79     12793\n",
      "\n"
     ]
    }
   ],
   "source": [
    "print(classification_report(y_test, logreg_preds))"
   ]
  },
  {
   "cell_type": "code",
   "execution_count": 122,
   "metadata": {},
   "outputs": [],
   "source": [
    "# creating dataframe of coefs\n",
    "word_coef_df = pd.DataFrame({'coefs': logreg.coef_[0], 'features': tvec.get_feature_names()})"
   ]
  },
  {
   "cell_type": "code",
   "execution_count": 123,
   "metadata": {},
   "outputs": [
    {
     "data": {
      "text/html": [
       "<div>\n",
       "<style scoped>\n",
       "    .dataframe tbody tr th:only-of-type {\n",
       "        vertical-align: middle;\n",
       "    }\n",
       "\n",
       "    .dataframe tbody tr th {\n",
       "        vertical-align: top;\n",
       "    }\n",
       "\n",
       "    .dataframe thead th {\n",
       "        text-align: right;\n",
       "    }\n",
       "</style>\n",
       "<table border=\"1\" class=\"dataframe\">\n",
       "  <thead>\n",
       "    <tr style=\"text-align: right;\">\n",
       "      <th></th>\n",
       "      <th>coefs</th>\n",
       "      <th>features</th>\n",
       "    </tr>\n",
       "  </thead>\n",
       "  <tbody>\n",
       "    <tr>\n",
       "      <th>1089</th>\n",
       "      <td>5.987298</td>\n",
       "      <td>20 000</td>\n",
       "    </tr>\n",
       "    <tr>\n",
       "      <th>253024</th>\n",
       "      <td>3.695260</td>\n",
       "      <td>user_favorit</td>\n",
       "    </tr>\n",
       "    <tr>\n",
       "      <th>1088</th>\n",
       "      <td>3.687187</td>\n",
       "      <td>20</td>\n",
       "    </tr>\n",
       "    <tr>\n",
       "      <th>2519</th>\n",
       "      <td>3.658070</td>\n",
       "      <td>30 000</td>\n",
       "    </tr>\n",
       "    <tr>\n",
       "      <th>128079</th>\n",
       "      <td>3.630529</td>\n",
       "      <td>ke 20</td>\n",
       "    </tr>\n",
       "    <tr>\n",
       "      <th>260573</th>\n",
       "      <td>3.621709</td>\n",
       "      <td>widow</td>\n",
       "    </tr>\n",
       "    <tr>\n",
       "      <th>227839</th>\n",
       "      <td>3.150060</td>\n",
       "      <td>singl mother</td>\n",
       "    </tr>\n",
       "    <tr>\n",
       "      <th>227898</th>\n",
       "      <td>2.943348</td>\n",
       "      <td>singlepar</td>\n",
       "    </tr>\n",
       "    <tr>\n",
       "      <th>2518</th>\n",
       "      <td>2.506864</td>\n",
       "      <td>30</td>\n",
       "    </tr>\n",
       "    <tr>\n",
       "      <th>128095</th>\n",
       "      <td>2.447734</td>\n",
       "      <td>ke 30</td>\n",
       "    </tr>\n",
       "    <tr>\n",
       "      <th>258236</th>\n",
       "      <td>2.308335</td>\n",
       "      <td>water</td>\n",
       "    </tr>\n",
       "    <tr>\n",
       "      <th>253049</th>\n",
       "      <td>2.295301</td>\n",
       "      <td>user_favorit user_favorit</td>\n",
       "    </tr>\n",
       "    <tr>\n",
       "      <th>256973</th>\n",
       "      <td>2.275771</td>\n",
       "      <td>wa</td>\n",
       "    </tr>\n",
       "    <tr>\n",
       "      <th>596</th>\n",
       "      <td>2.227174</td>\n",
       "      <td>15 000</td>\n",
       "    </tr>\n",
       "    <tr>\n",
       "      <th>283</th>\n",
       "      <td>2.189599</td>\n",
       "      <td>10 000</td>\n",
       "    </tr>\n",
       "    <tr>\n",
       "      <th>87020</th>\n",
       "      <td>2.114702</td>\n",
       "      <td>firstloan</td>\n",
       "    </tr>\n",
       "    <tr>\n",
       "      <th>86971</th>\n",
       "      <td>2.111130</td>\n",
       "      <td>first loan</td>\n",
       "    </tr>\n",
       "    <tr>\n",
       "      <th>100026</th>\n",
       "      <td>2.024280</td>\n",
       "      <td>grew</td>\n",
       "    </tr>\n",
       "    <tr>\n",
       "      <th>128045</th>\n",
       "      <td>1.989429</td>\n",
       "      <td>ke 000</td>\n",
       "    </tr>\n",
       "    <tr>\n",
       "      <th>152393</th>\n",
       "      <td>1.942189</td>\n",
       "      <td>margaret</td>\n",
       "    </tr>\n",
       "  </tbody>\n",
       "</table>\n",
       "</div>"
      ],
      "text/plain": [
       "           coefs                   features\n",
       "1089    5.987298                     20 000\n",
       "253024  3.695260               user_favorit\n",
       "1088    3.687187                         20\n",
       "2519    3.658070                     30 000\n",
       "128079  3.630529                      ke 20\n",
       "260573  3.621709                      widow\n",
       "227839  3.150060               singl mother\n",
       "227898  2.943348                  singlepar\n",
       "2518    2.506864                         30\n",
       "128095  2.447734                      ke 30\n",
       "258236  2.308335                      water\n",
       "253049  2.295301  user_favorit user_favorit\n",
       "256973  2.275771                         wa\n",
       "596     2.227174                     15 000\n",
       "283     2.189599                     10 000\n",
       "87020   2.114702                  firstloan\n",
       "86971   2.111130                 first loan\n",
       "100026  2.024280                       grew\n",
       "128045  1.989429                     ke 000\n",
       "152393  1.942189                   margaret"
      ]
     },
     "execution_count": 123,
     "metadata": {},
     "output_type": "execute_result"
    }
   ],
   "source": [
    "# top 20 features and their coefficients\n",
    "word_coef_df.nlargest(20, 'coefs')"
   ]
  },
  {
   "cell_type": "code",
   "execution_count": 124,
   "metadata": {},
   "outputs": [
    {
     "data": {
      "text/html": [
       "<div>\n",
       "<style scoped>\n",
       "    .dataframe tbody tr th:only-of-type {\n",
       "        vertical-align: middle;\n",
       "    }\n",
       "\n",
       "    .dataframe tbody tr th {\n",
       "        vertical-align: top;\n",
       "    }\n",
       "\n",
       "    .dataframe thead th {\n",
       "        text-align: right;\n",
       "    }\n",
       "</style>\n",
       "<table border=\"1\" class=\"dataframe\">\n",
       "  <thead>\n",
       "    <tr style=\"text-align: right;\">\n",
       "      <th></th>\n",
       "      <th>coefs</th>\n",
       "      <th>features</th>\n",
       "    </tr>\n",
       "  </thead>\n",
       "  <tbody>\n",
       "    <tr>\n",
       "      <th>361</th>\n",
       "      <td>-4.711812</td>\n",
       "      <td>100</td>\n",
       "    </tr>\n",
       "    <tr>\n",
       "      <th>362</th>\n",
       "      <td>-4.546071</td>\n",
       "      <td>100 000</td>\n",
       "    </tr>\n",
       "    <tr>\n",
       "      <th>151035</th>\n",
       "      <td>-4.285213</td>\n",
       "      <td>man</td>\n",
       "    </tr>\n",
       "    <tr>\n",
       "      <th>208221</th>\n",
       "      <td>-3.484122</td>\n",
       "      <td>repairrenewreplac</td>\n",
       "    </tr>\n",
       "    <tr>\n",
       "      <th>208382</th>\n",
       "      <td>-3.386652</td>\n",
       "      <td>repeatborrow</td>\n",
       "    </tr>\n",
       "    <tr>\n",
       "      <th>225260</th>\n",
       "      <td>-3.007196</td>\n",
       "      <td>shop</td>\n",
       "    </tr>\n",
       "    <tr>\n",
       "      <th>173654</th>\n",
       "      <td>-2.847293</td>\n",
       "      <td>nhe</td>\n",
       "    </tr>\n",
       "    <tr>\n",
       "      <th>634</th>\n",
       "      <td>-2.812549</td>\n",
       "      <td>150 000</td>\n",
       "    </tr>\n",
       "    <tr>\n",
       "      <th>633</th>\n",
       "      <td>-2.792020</td>\n",
       "      <td>150</td>\n",
       "    </tr>\n",
       "    <tr>\n",
       "      <th>128047</th>\n",
       "      <td>-2.779488</td>\n",
       "      <td>ke 100</td>\n",
       "    </tr>\n",
       "    <tr>\n",
       "      <th>24061</th>\n",
       "      <td>-2.776413</td>\n",
       "      <td>bizdurableasset</td>\n",
       "    </tr>\n",
       "    <tr>\n",
       "      <th>3482</th>\n",
       "      <td>-2.749376</td>\n",
       "      <td>80 000</td>\n",
       "    </tr>\n",
       "    <tr>\n",
       "      <th>3481</th>\n",
       "      <td>-2.701601</td>\n",
       "      <td>80</td>\n",
       "    </tr>\n",
       "    <tr>\n",
       "      <th>165819</th>\n",
       "      <td>-2.575484</td>\n",
       "      <td>motorcycl</td>\n",
       "    </tr>\n",
       "    <tr>\n",
       "      <th>513</th>\n",
       "      <td>-2.566850</td>\n",
       "      <td>120 000</td>\n",
       "    </tr>\n",
       "    <tr>\n",
       "      <th>154728</th>\n",
       "      <td>-2.540254</td>\n",
       "      <td>marri man</td>\n",
       "    </tr>\n",
       "    <tr>\n",
       "      <th>512</th>\n",
       "      <td>-2.512381</td>\n",
       "      <td>120</td>\n",
       "    </tr>\n",
       "    <tr>\n",
       "      <th>3394</th>\n",
       "      <td>-2.412332</td>\n",
       "      <td>70</td>\n",
       "    </tr>\n",
       "    <tr>\n",
       "      <th>179982</th>\n",
       "      <td>-2.264851</td>\n",
       "      <td>old marri</td>\n",
       "    </tr>\n",
       "    <tr>\n",
       "      <th>3240</th>\n",
       "      <td>-2.264054</td>\n",
       "      <td>60 000</td>\n",
       "    </tr>\n",
       "  </tbody>\n",
       "</table>\n",
       "</div>"
      ],
      "text/plain": [
       "           coefs           features\n",
       "361    -4.711812                100\n",
       "362    -4.546071            100 000\n",
       "151035 -4.285213                man\n",
       "208221 -3.484122  repairrenewreplac\n",
       "208382 -3.386652       repeatborrow\n",
       "225260 -3.007196               shop\n",
       "173654 -2.847293                nhe\n",
       "634    -2.812549            150 000\n",
       "633    -2.792020                150\n",
       "128047 -2.779488             ke 100\n",
       "24061  -2.776413    bizdurableasset\n",
       "3482   -2.749376             80 000\n",
       "3481   -2.701601                 80\n",
       "165819 -2.575484          motorcycl\n",
       "513    -2.566850            120 000\n",
       "154728 -2.540254          marri man\n",
       "512    -2.512381                120\n",
       "3394   -2.412332                 70\n",
       "179982 -2.264851          old marri\n",
       "3240   -2.264054             60 000"
      ]
     },
     "execution_count": 124,
     "metadata": {},
     "output_type": "execute_result"
    }
   ],
   "source": [
    "# lowest 20 features and their coefficients\n",
    "word_coef_df.nsmallest(20, 'coefs')"
   ]
  },
  {
   "cell_type": "code",
   "execution_count": null,
   "metadata": {},
   "outputs": [],
   "source": []
  }
 ],
 "metadata": {
  "kernelspec": {
   "display_name": "Python 3",
   "language": "python",
   "name": "python3"
  },
  "language_info": {
   "codemirror_mode": {
    "name": "ipython",
    "version": 3
   },
   "file_extension": ".py",
   "mimetype": "text/x-python",
   "name": "python",
   "nbconvert_exporter": "python",
   "pygments_lexer": "ipython3",
   "version": "3.8.5"
  }
 },
 "nbformat": 4,
 "nbformat_minor": 4
}
