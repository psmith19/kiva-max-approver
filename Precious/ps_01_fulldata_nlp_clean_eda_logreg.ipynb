{
 "cells": [
  {
   "cell_type": "markdown",
   "metadata": {},
   "source": [
    "# NLP Cleaning, EDA and Null Modeling with Tf-IDF Vectorizer\n",
    "\n",
    "This notebook saves text columns for nlp modeling to a new csv and has cleaning, EDA and a basic Logistic Regression model with Tf-IDF Vectorizer."
   ]
  },
  {
   "cell_type": "markdown",
   "metadata": {},
   "source": [
    "### Importing Libraries and Loading Data"
   ]
  },
  {
   "cell_type": "code",
   "execution_count": 2,
   "metadata": {},
   "outputs": [],
   "source": [
    "#importing libraries\n",
    "import pandas as pd\n",
    "import numpy as np\n",
    "import matplotlib.pyplot as plt\n",
    "import seaborn as sns\n",
    "\n",
    "import nltk\n",
    "from nltk.stem import WordNetLemmatizer\n",
    "from nltk.tokenize import RegexpTokenizer\n",
    "from nltk.corpus import stopwords\n",
    "from nltk import FreqDist, pos_tag\n",
    "\n",
    "from sklearn.model_selection import train_test_split, GridSearchCV\n",
    "from sklearn.pipeline import Pipeline\n",
    "from sklearn.neighbors import KNeighborsClassifier\n",
    "from sklearn.naive_bayes import MultinomialNB, BernoulliNB\n",
    "from sklearn.linear_model import LogisticRegression\n",
    "from sklearn.metrics import confusion_matrix, ConfusionMatrixDisplay, classification_report\n",
    "from sklearn.feature_extraction.text import CountVectorizer, TfidfVectorizer\n",
    "from sklearn.tree import DecisionTreeClassifier\n",
    "from sklearn.ensemble import BaggingClassifier, AdaBoostClassifier"
   ]
  },
  {
   "cell_type": "code",
   "execution_count": 3,
   "metadata": {},
   "outputs": [
    {
     "data": {
      "text/html": [
       "<div>\n",
       "<style scoped>\n",
       "    .dataframe tbody tr th:only-of-type {\n",
       "        vertical-align: middle;\n",
       "    }\n",
       "\n",
       "    .dataframe tbody tr th {\n",
       "        vertical-align: top;\n",
       "    }\n",
       "\n",
       "    .dataframe thead th {\n",
       "        text-align: right;\n",
       "    }\n",
       "</style>\n",
       "<table border=\"1\" class=\"dataframe\">\n",
       "  <thead>\n",
       "    <tr style=\"text-align: right;\">\n",
       "      <th></th>\n",
       "      <th>LOAN_ID</th>\n",
       "      <th>LOAN_NAME</th>\n",
       "      <th>ORIGINAL_LANGUAGE</th>\n",
       "      <th>DESCRIPTION</th>\n",
       "      <th>DESCRIPTION_TRANSLATED</th>\n",
       "      <th>FUNDED_AMOUNT</th>\n",
       "      <th>LOAN_AMOUNT</th>\n",
       "      <th>STATUS</th>\n",
       "      <th>IMAGE_ID</th>\n",
       "      <th>VIDEO_ID</th>\n",
       "      <th>...</th>\n",
       "      <th>NUM_LENDERS_TOTAL</th>\n",
       "      <th>NUM_JOURNAL_ENTRIES</th>\n",
       "      <th>NUM_BULK_ENTRIES</th>\n",
       "      <th>TAGS</th>\n",
       "      <th>BORROWER_NAMES</th>\n",
       "      <th>BORROWER_GENDERS</th>\n",
       "      <th>BORROWER_PICTURED</th>\n",
       "      <th>REPAYMENT_INTERVAL</th>\n",
       "      <th>DISTRIBUTION_MODEL</th>\n",
       "      <th>year</th>\n",
       "    </tr>\n",
       "  </thead>\n",
       "  <tbody>\n",
       "    <tr>\n",
       "      <th>0</th>\n",
       "      <td>1455352</td>\n",
       "      <td>Raisa Jokasta</td>\n",
       "      <td>Spanish</td>\n",
       "      <td>En la ciudad de Portoviejo, conocida como la c...</td>\n",
       "      <td>The city of Portoviejo is located in the valle...</td>\n",
       "      <td>1075.0</td>\n",
       "      <td>1075.0</td>\n",
       "      <td>1</td>\n",
       "      <td>2638561.0</td>\n",
       "      <td>NaN</td>\n",
       "      <td>...</td>\n",
       "      <td>12</td>\n",
       "      <td>1</td>\n",
       "      <td>1</td>\n",
       "      <td>#Repeat Borrower, #Health and Sanitation</td>\n",
       "      <td>Raisa Jokasta</td>\n",
       "      <td>female</td>\n",
       "      <td>true</td>\n",
       "      <td>monthly</td>\n",
       "      <td>field_partner</td>\n",
       "      <td>2018</td>\n",
       "    </tr>\n",
       "    <tr>\n",
       "      <th>1</th>\n",
       "      <td>1727469</td>\n",
       "      <td>Lorna</td>\n",
       "      <td>English</td>\n",
       "      <td>Lorna is a married woman, 39 years old with fi...</td>\n",
       "      <td>Lorna is a married woman, 39 years old with fi...</td>\n",
       "      <td>225.0</td>\n",
       "      <td>400.0</td>\n",
       "      <td>0</td>\n",
       "      <td>3108106.0</td>\n",
       "      <td>NaN</td>\n",
       "      <td>...</td>\n",
       "      <td>8</td>\n",
       "      <td>1</td>\n",
       "      <td>1</td>\n",
       "      <td>#Woman-Owned Business, #Parent</td>\n",
       "      <td>Lorna</td>\n",
       "      <td>female</td>\n",
       "      <td>true</td>\n",
       "      <td>monthly</td>\n",
       "      <td>field_partner</td>\n",
       "      <td>2019</td>\n",
       "    </tr>\n",
       "    <tr>\n",
       "      <th>2</th>\n",
       "      <td>1747998</td>\n",
       "      <td>Anita</td>\n",
       "      <td>English</td>\n",
       "      <td>Anita is a 32-year-old married woman residing ...</td>\n",
       "      <td>Anita is a 32-year-old married woman residing ...</td>\n",
       "      <td>300.0</td>\n",
       "      <td>300.0</td>\n",
       "      <td>1</td>\n",
       "      <td>3134774.0</td>\n",
       "      <td>NaN</td>\n",
       "      <td>...</td>\n",
       "      <td>9</td>\n",
       "      <td>1</td>\n",
       "      <td>1</td>\n",
       "      <td>#Woman-Owned Business</td>\n",
       "      <td>Anita</td>\n",
       "      <td>female</td>\n",
       "      <td>true</td>\n",
       "      <td>monthly</td>\n",
       "      <td>field_partner</td>\n",
       "      <td>2019</td>\n",
       "    </tr>\n",
       "    <tr>\n",
       "      <th>3</th>\n",
       "      <td>1342372</td>\n",
       "      <td>Saeeda</td>\n",
       "      <td>English</td>\n",
       "      <td>Saeeda is a 45-year-old woman, living with her...</td>\n",
       "      <td>Saeeda is a 45-year-old woman, living with her...</td>\n",
       "      <td>300.0</td>\n",
       "      <td>300.0</td>\n",
       "      <td>1</td>\n",
       "      <td>2588292.0</td>\n",
       "      <td>NaN</td>\n",
       "      <td>...</td>\n",
       "      <td>9</td>\n",
       "      <td>2</td>\n",
       "      <td>1</td>\n",
       "      <td>#Fabrics, #Woman-Owned Business, user_favorite...</td>\n",
       "      <td>Saeeda</td>\n",
       "      <td>female</td>\n",
       "      <td>true</td>\n",
       "      <td>monthly</td>\n",
       "      <td>field_partner</td>\n",
       "      <td>2017</td>\n",
       "    </tr>\n",
       "    <tr>\n",
       "      <th>4</th>\n",
       "      <td>1632606</td>\n",
       "      <td>JUAN PABLO</td>\n",
       "      <td>Spanish</td>\n",
       "      <td>Pablo es un joven muy emprendedor y con muchas...</td>\n",
       "      <td>Pablo is an enterprising young man who has the...</td>\n",
       "      <td>225.0</td>\n",
       "      <td>850.0</td>\n",
       "      <td>0</td>\n",
       "      <td>2981723.0</td>\n",
       "      <td>NaN</td>\n",
       "      <td>...</td>\n",
       "      <td>8</td>\n",
       "      <td>1</td>\n",
       "      <td>1</td>\n",
       "      <td>#Single, #Technology, #Biz Durable Asset</td>\n",
       "      <td>JUAN PABLO</td>\n",
       "      <td>male</td>\n",
       "      <td>true</td>\n",
       "      <td>monthly</td>\n",
       "      <td>field_partner</td>\n",
       "      <td>2018</td>\n",
       "    </tr>\n",
       "  </tbody>\n",
       "</table>\n",
       "<p>5 rows × 35 columns</p>\n",
       "</div>"
      ],
      "text/plain": [
       "   LOAN_ID      LOAN_NAME ORIGINAL_LANGUAGE  \\\n",
       "0  1455352  Raisa Jokasta           Spanish   \n",
       "1  1727469          Lorna           English   \n",
       "2  1747998          Anita           English   \n",
       "3  1342372         Saeeda           English   \n",
       "4  1632606     JUAN PABLO           Spanish   \n",
       "\n",
       "                                         DESCRIPTION  \\\n",
       "0  En la ciudad de Portoviejo, conocida como la c...   \n",
       "1  Lorna is a married woman, 39 years old with fi...   \n",
       "2  Anita is a 32-year-old married woman residing ...   \n",
       "3  Saeeda is a 45-year-old woman, living with her...   \n",
       "4  Pablo es un joven muy emprendedor y con muchas...   \n",
       "\n",
       "                              DESCRIPTION_TRANSLATED  FUNDED_AMOUNT  \\\n",
       "0  The city of Portoviejo is located in the valle...         1075.0   \n",
       "1  Lorna is a married woman, 39 years old with fi...          225.0   \n",
       "2  Anita is a 32-year-old married woman residing ...          300.0   \n",
       "3  Saeeda is a 45-year-old woman, living with her...          300.0   \n",
       "4  Pablo is an enterprising young man who has the...          225.0   \n",
       "\n",
       "   LOAN_AMOUNT  STATUS   IMAGE_ID  VIDEO_ID  ... NUM_LENDERS_TOTAL  \\\n",
       "0       1075.0       1  2638561.0       NaN  ...                12   \n",
       "1        400.0       0  3108106.0       NaN  ...                 8   \n",
       "2        300.0       1  3134774.0       NaN  ...                 9   \n",
       "3        300.0       1  2588292.0       NaN  ...                 9   \n",
       "4        850.0       0  2981723.0       NaN  ...                 8   \n",
       "\n",
       "  NUM_JOURNAL_ENTRIES NUM_BULK_ENTRIES  \\\n",
       "0                   1                1   \n",
       "1                   1                1   \n",
       "2                   1                1   \n",
       "3                   2                1   \n",
       "4                   1                1   \n",
       "\n",
       "                                                TAGS BORROWER_NAMES  \\\n",
       "0           #Repeat Borrower, #Health and Sanitation  Raisa Jokasta   \n",
       "1                     #Woman-Owned Business, #Parent          Lorna   \n",
       "2                              #Woman-Owned Business          Anita   \n",
       "3  #Fabrics, #Woman-Owned Business, user_favorite...         Saeeda   \n",
       "4           #Single, #Technology, #Biz Durable Asset     JUAN PABLO   \n",
       "\n",
       "  BORROWER_GENDERS BORROWER_PICTURED  REPAYMENT_INTERVAL DISTRIBUTION_MODEL  \\\n",
       "0           female              true             monthly      field_partner   \n",
       "1           female              true             monthly      field_partner   \n",
       "2           female              true             monthly      field_partner   \n",
       "3           female              true             monthly      field_partner   \n",
       "4             male              true             monthly      field_partner   \n",
       "\n",
       "   year  \n",
       "0  2018  \n",
       "1  2019  \n",
       "2  2019  \n",
       "3  2017  \n",
       "4  2018  \n",
       "\n",
       "[5 rows x 35 columns]"
      ]
     },
     "execution_count": 3,
     "metadata": {},
     "output_type": "execute_result"
    }
   ],
   "source": [
    "# loading data and saving as kiva\n",
    "kiva = pd.read_csv('../kivamix.csv')\n",
    "kiva.head()"
   ]
  },
  {
   "cell_type": "code",
   "execution_count": 4,
   "metadata": {},
   "outputs": [
    {
     "name": "stdout",
     "output_type": "stream",
     "text": [
      "<class 'pandas.core.frame.DataFrame'>\n",
      "RangeIndex: 419156 entries, 0 to 419155\n",
      "Data columns (total 35 columns):\n",
      " #   Column                           Non-Null Count   Dtype  \n",
      "---  ------                           --------------   -----  \n",
      " 0   LOAN_ID                          419156 non-null  int64  \n",
      " 1   LOAN_NAME                        415150 non-null  object \n",
      " 2   ORIGINAL_LANGUAGE                415917 non-null  object \n",
      " 3   DESCRIPTION                      415910 non-null  object \n",
      " 4   DESCRIPTION_TRANSLATED           415903 non-null  object \n",
      " 5   FUNDED_AMOUNT                    419156 non-null  float64\n",
      " 6   LOAN_AMOUNT                      419156 non-null  float64\n",
      " 7   STATUS                           419156 non-null  int64  \n",
      " 8   IMAGE_ID                         415917 non-null  float64\n",
      " 9   VIDEO_ID                         206 non-null     float64\n",
      " 10  ACTIVITY_NAME                    419156 non-null  object \n",
      " 11  SECTOR_NAME                      419156 non-null  object \n",
      " 12  LOAN_USE                         415910 non-null  object \n",
      " 13  COUNTRY_CODE                     419145 non-null  object \n",
      " 14  COUNTRY_NAME                     419156 non-null  object \n",
      " 15  TOWN_NAME                        396887 non-null  object \n",
      " 16  CURRENCY_POLICY                  419156 non-null  object \n",
      " 17  CURRENCY_EXCHANGE_COVERAGE_RATE  384503 non-null  float64\n",
      " 18  CURRENCY                         419156 non-null  object \n",
      " 19  PARTNER_ID                       413850 non-null  float64\n",
      " 20  POSTED_TIME                      419156 non-null  object \n",
      " 21  PLANNED_EXPIRATION_TIME          419156 non-null  object \n",
      " 22  DISBURSE_TIME                    416587 non-null  object \n",
      " 23  RAISED_TIME                      350000 non-null  object \n",
      " 24  LENDER_TERM                      419156 non-null  float64\n",
      " 25  NUM_LENDERS_TOTAL                419156 non-null  int64  \n",
      " 26  NUM_JOURNAL_ENTRIES              419156 non-null  int64  \n",
      " 27  NUM_BULK_ENTRIES                 419156 non-null  int64  \n",
      " 28  TAGS                             347314 non-null  object \n",
      " 29  BORROWER_NAMES                   415150 non-null  object \n",
      " 30  BORROWER_GENDERS                 415917 non-null  object \n",
      " 31  BORROWER_PICTURED                415917 non-null  object \n",
      " 32  REPAYMENT_INTERVAL               419156 non-null  object \n",
      " 33  DISTRIBUTION_MODEL               419156 non-null  object \n",
      " 34  year                             419156 non-null  int64  \n",
      "dtypes: float64(7), int64(6), object(22)\n",
      "memory usage: 111.9+ MB\n"
     ]
    }
   ],
   "source": [
    "kiva.info()"
   ]
  },
  {
   "cell_type": "markdown",
   "metadata": {},
   "source": [
    "### Cleaning"
   ]
  },
  {
   "cell_type": "code",
   "execution_count": 5,
   "metadata": {},
   "outputs": [
    {
     "data": {
      "text/html": [
       "<div>\n",
       "<style scoped>\n",
       "    .dataframe tbody tr th:only-of-type {\n",
       "        vertical-align: middle;\n",
       "    }\n",
       "\n",
       "    .dataframe tbody tr th {\n",
       "        vertical-align: top;\n",
       "    }\n",
       "\n",
       "    .dataframe thead th {\n",
       "        text-align: right;\n",
       "    }\n",
       "</style>\n",
       "<table border=\"1\" class=\"dataframe\">\n",
       "  <thead>\n",
       "    <tr style=\"text-align: right;\">\n",
       "      <th></th>\n",
       "      <th>STATUS</th>\n",
       "      <th>DESCRIPTION_TRANSLATED</th>\n",
       "      <th>LOAN_USE</th>\n",
       "      <th>TAGS</th>\n",
       "    </tr>\n",
       "  </thead>\n",
       "  <tbody>\n",
       "    <tr>\n",
       "      <th>0</th>\n",
       "      <td>1</td>\n",
       "      <td>The city of Portoviejo is located in the valle...</td>\n",
       "      <td>to purchase natural products.</td>\n",
       "      <td>#Repeat Borrower, #Health and Sanitation</td>\n",
       "    </tr>\n",
       "    <tr>\n",
       "      <th>1</th>\n",
       "      <td>0</td>\n",
       "      <td>Lorna is a married woman, 39 years old with fi...</td>\n",
       "      <td>to purchase additional stocks of Avon, Natasha...</td>\n",
       "      <td>#Woman-Owned Business, #Parent</td>\n",
       "    </tr>\n",
       "    <tr>\n",
       "      <th>2</th>\n",
       "      <td>1</td>\n",
       "      <td>Anita is a 32-year-old married woman residing ...</td>\n",
       "      <td>to purchase lentils, oil, salt, etc. in bulk i...</td>\n",
       "      <td>#Woman-Owned Business</td>\n",
       "    </tr>\n",
       "    <tr>\n",
       "      <th>3</th>\n",
       "      <td>1</td>\n",
       "      <td>Saeeda is a 45-year-old woman, living with her...</td>\n",
       "      <td>to buy embroidery raw materials such as thread...</td>\n",
       "      <td>#Fabrics, #Woman-Owned Business, user_favorite...</td>\n",
       "    </tr>\n",
       "    <tr>\n",
       "      <th>4</th>\n",
       "      <td>0</td>\n",
       "      <td>Pablo is an enterprising young man who has the...</td>\n",
       "      <td>to buy a POS (point of sale) terminal that wil...</td>\n",
       "      <td>#Single, #Technology, #Biz Durable Asset</td>\n",
       "    </tr>\n",
       "  </tbody>\n",
       "</table>\n",
       "</div>"
      ],
      "text/plain": [
       "   STATUS                             DESCRIPTION_TRANSLATED  \\\n",
       "0       1  The city of Portoviejo is located in the valle...   \n",
       "1       0  Lorna is a married woman, 39 years old with fi...   \n",
       "2       1  Anita is a 32-year-old married woman residing ...   \n",
       "3       1  Saeeda is a 45-year-old woman, living with her...   \n",
       "4       0  Pablo is an enterprising young man who has the...   \n",
       "\n",
       "                                            LOAN_USE  \\\n",
       "0                      to purchase natural products.   \n",
       "1  to purchase additional stocks of Avon, Natasha...   \n",
       "2  to purchase lentils, oil, salt, etc. in bulk i...   \n",
       "3  to buy embroidery raw materials such as thread...   \n",
       "4  to buy a POS (point of sale) terminal that wil...   \n",
       "\n",
       "                                                TAGS  \n",
       "0           #Repeat Borrower, #Health and Sanitation  \n",
       "1                     #Woman-Owned Business, #Parent  \n",
       "2                              #Woman-Owned Business  \n",
       "3  #Fabrics, #Woman-Owned Business, user_favorite...  \n",
       "4           #Single, #Technology, #Biz Durable Asset  "
      ]
     },
     "execution_count": 5,
     "metadata": {},
     "output_type": "execute_result"
    }
   ],
   "source": [
    "# choosing columns to keep for nlp\n",
    "kiva = kiva[['STATUS', 'DESCRIPTION_TRANSLATED', 'LOAN_USE', 'TAGS']]\n",
    "kiva.head()"
   ]
  },
  {
   "cell_type": "code",
   "execution_count": 6,
   "metadata": {},
   "outputs": [
    {
     "data": {
      "text/plain": [
       "1    0.835011\n",
       "0    0.164989\n",
       "Name: STATUS, dtype: float64"
      ]
     },
     "execution_count": 6,
     "metadata": {},
     "output_type": "execute_result"
    }
   ],
   "source": [
    "kiva['STATUS'].value_counts(normalize=True)"
   ]
  },
  {
   "cell_type": "code",
   "execution_count": 7,
   "metadata": {},
   "outputs": [
    {
     "data": {
      "text/plain": [
       "71842"
      ]
     },
     "execution_count": 7,
     "metadata": {},
     "output_type": "execute_result"
    }
   ],
   "source": [
    "kiva['TAGS'].isnull().sum()"
   ]
  },
  {
   "cell_type": "code",
   "execution_count": 8,
   "metadata": {},
   "outputs": [],
   "source": [
    "# filling nulls with blank spaces so they aren't erased\n",
    "kiva['DESCRIPTION_TRANSLATED'] = kiva['DESCRIPTION_TRANSLATED'].fillna(' ')\n",
    "kiva['LOAN_USE'] = kiva['LOAN_USE'].fillna(' ')\n",
    "kiva['TAGS'] = kiva['TAGS'].fillna(' ')"
   ]
  },
  {
   "cell_type": "code",
   "execution_count": 9,
   "metadata": {},
   "outputs": [],
   "source": [
    "# creating column with all text included\n",
    "kiva['all_text'] = (kiva['DESCRIPTION_TRANSLATED']+kiva['LOAN_USE']+kiva['TAGS'])"
   ]
  },
  {
   "cell_type": "code",
   "execution_count": 10,
   "metadata": {},
   "outputs": [
    {
     "data": {
      "text/html": [
       "<div>\n",
       "<style scoped>\n",
       "    .dataframe tbody tr th:only-of-type {\n",
       "        vertical-align: middle;\n",
       "    }\n",
       "\n",
       "    .dataframe tbody tr th {\n",
       "        vertical-align: top;\n",
       "    }\n",
       "\n",
       "    .dataframe thead th {\n",
       "        text-align: right;\n",
       "    }\n",
       "</style>\n",
       "<table border=\"1\" class=\"dataframe\">\n",
       "  <thead>\n",
       "    <tr style=\"text-align: right;\">\n",
       "      <th></th>\n",
       "      <th>STATUS</th>\n",
       "      <th>DESCRIPTION_TRANSLATED</th>\n",
       "      <th>LOAN_USE</th>\n",
       "      <th>TAGS</th>\n",
       "      <th>all_text</th>\n",
       "    </tr>\n",
       "  </thead>\n",
       "  <tbody>\n",
       "    <tr>\n",
       "      <th>0</th>\n",
       "      <td>1</td>\n",
       "      <td>The city of Portoviejo is located in the valle...</td>\n",
       "      <td>to purchase natural products.</td>\n",
       "      <td>#Repeat Borrower, #Health and Sanitation</td>\n",
       "      <td>The city of Portoviejo is located in the valle...</td>\n",
       "    </tr>\n",
       "    <tr>\n",
       "      <th>1</th>\n",
       "      <td>0</td>\n",
       "      <td>Lorna is a married woman, 39 years old with fi...</td>\n",
       "      <td>to purchase additional stocks of Avon, Natasha...</td>\n",
       "      <td>#Woman-Owned Business, #Parent</td>\n",
       "      <td>Lorna is a married woman, 39 years old with fi...</td>\n",
       "    </tr>\n",
       "    <tr>\n",
       "      <th>2</th>\n",
       "      <td>1</td>\n",
       "      <td>Anita is a 32-year-old married woman residing ...</td>\n",
       "      <td>to purchase lentils, oil, salt, etc. in bulk i...</td>\n",
       "      <td>#Woman-Owned Business</td>\n",
       "      <td>Anita is a 32-year-old married woman residing ...</td>\n",
       "    </tr>\n",
       "    <tr>\n",
       "      <th>3</th>\n",
       "      <td>1</td>\n",
       "      <td>Saeeda is a 45-year-old woman, living with her...</td>\n",
       "      <td>to buy embroidery raw materials such as thread...</td>\n",
       "      <td>#Fabrics, #Woman-Owned Business, user_favorite...</td>\n",
       "      <td>Saeeda is a 45-year-old woman, living with her...</td>\n",
       "    </tr>\n",
       "    <tr>\n",
       "      <th>4</th>\n",
       "      <td>0</td>\n",
       "      <td>Pablo is an enterprising young man who has the...</td>\n",
       "      <td>to buy a POS (point of sale) terminal that wil...</td>\n",
       "      <td>#Single, #Technology, #Biz Durable Asset</td>\n",
       "      <td>Pablo is an enterprising young man who has the...</td>\n",
       "    </tr>\n",
       "  </tbody>\n",
       "</table>\n",
       "</div>"
      ],
      "text/plain": [
       "   STATUS                             DESCRIPTION_TRANSLATED  \\\n",
       "0       1  The city of Portoviejo is located in the valle...   \n",
       "1       0  Lorna is a married woman, 39 years old with fi...   \n",
       "2       1  Anita is a 32-year-old married woman residing ...   \n",
       "3       1  Saeeda is a 45-year-old woman, living with her...   \n",
       "4       0  Pablo is an enterprising young man who has the...   \n",
       "\n",
       "                                            LOAN_USE  \\\n",
       "0                      to purchase natural products.   \n",
       "1  to purchase additional stocks of Avon, Natasha...   \n",
       "2  to purchase lentils, oil, salt, etc. in bulk i...   \n",
       "3  to buy embroidery raw materials such as thread...   \n",
       "4  to buy a POS (point of sale) terminal that wil...   \n",
       "\n",
       "                                                TAGS  \\\n",
       "0           #Repeat Borrower, #Health and Sanitation   \n",
       "1                     #Woman-Owned Business, #Parent   \n",
       "2                              #Woman-Owned Business   \n",
       "3  #Fabrics, #Woman-Owned Business, user_favorite...   \n",
       "4           #Single, #Technology, #Biz Durable Asset   \n",
       "\n",
       "                                            all_text  \n",
       "0  The city of Portoviejo is located in the valle...  \n",
       "1  Lorna is a married woman, 39 years old with fi...  \n",
       "2  Anita is a 32-year-old married woman residing ...  \n",
       "3  Saeeda is a 45-year-old woman, living with her...  \n",
       "4  Pablo is an enterprising young man who has the...  "
      ]
     },
     "execution_count": 10,
     "metadata": {},
     "output_type": "execute_result"
    }
   ],
   "source": [
    "kiva.head()"
   ]
  },
  {
   "cell_type": "code",
   "execution_count": 11,
   "metadata": {},
   "outputs": [
    {
     "name": "stdout",
     "output_type": "stream",
     "text": [
      "<class 'pandas.core.frame.DataFrame'>\n",
      "RangeIndex: 419156 entries, 0 to 419155\n",
      "Data columns (total 5 columns):\n",
      " #   Column                  Non-Null Count   Dtype \n",
      "---  ------                  --------------   ----- \n",
      " 0   STATUS                  419156 non-null  int64 \n",
      " 1   DESCRIPTION_TRANSLATED  419156 non-null  object\n",
      " 2   LOAN_USE                419156 non-null  object\n",
      " 3   TAGS                    419156 non-null  object\n",
      " 4   all_text                419156 non-null  object\n",
      "dtypes: int64(1), object(4)\n",
      "memory usage: 16.0+ MB\n"
     ]
    }
   ],
   "source": [
    "kiva.info()"
   ]
  },
  {
   "cell_type": "code",
   "execution_count": 12,
   "metadata": {},
   "outputs": [
    {
     "data": {
      "text/plain": [
       "'The city of Portoviejo is located in the valley of the Portoviejo River.  It is known as the city of the royal tamarinds and was affected by the earthquake on April 16, 2016.  The city is rich in the production of vegetables, legumes, and tropical fruits for local consumption.<br /><br />Raisa is 25 years old.  She is in a common-law relationship and has a four-year-old child, who is in school.  Her partner is a locksmith.  They live in a family home.  <br /><br />Raisa works selling Nature’s Garden natural products (natural health and beauty products).  Together with her father, she goes out to make sales on Saturdays and Sundays.  They go through the low-income neighborhoods, offering their products on credit and collecting payments each week from her customers.  They get around in buses, carrying their merchandise.  <br /><br />They have had this business for four years.  She works Monday to Friday; it is a private business.  With this new loan, she will buy natural products.  <br /><br />She likes the loans because the interest rates are low.  Her dream is to have a vehicle in order to go to more new places.to purchase natural products.#Repeat Borrower, #Health and Sanitation'"
      ]
     },
     "execution_count": 12,
     "metadata": {},
     "output_type": "execute_result"
    }
   ],
   "source": [
    "kiva['all_text'][0]"
   ]
  },
  {
   "cell_type": "code",
   "execution_count": 13,
   "metadata": {},
   "outputs": [],
   "source": [
    "# removing html breaks\n",
    "kiva['all_text'] = kiva['all_text'].str.replace('<br />', ' ')"
   ]
  },
  {
   "cell_type": "code",
   "execution_count": 14,
   "metadata": {},
   "outputs": [
    {
     "data": {
      "text/plain": [
       "'The city of Portoviejo is located in the valley of the Portoviejo River.  It is known as the city of the royal tamarinds and was affected by the earthquake on April 16, 2016.  The city is rich in the production of vegetables, legumes, and tropical fruits for local consumption.  Raisa is 25 years old.  She is in a common-law relationship and has a four-year-old child, who is in school.  Her partner is a locksmith.  They live in a family home.    Raisa works selling Nature’s Garden natural products (natural health and beauty products).  Together with her father, she goes out to make sales on Saturdays and Sundays.  They go through the low-income neighborhoods, offering their products on credit and collecting payments each week from her customers.  They get around in buses, carrying their merchandise.    They have had this business for four years.  She works Monday to Friday; it is a private business.  With this new loan, she will buy natural products.    She likes the loans because the interest rates are low.  Her dream is to have a vehicle in order to go to more new places.to purchase natural products.#Repeat Borrower, #Health and Sanitation'"
      ]
     },
     "execution_count": 14,
     "metadata": {},
     "output_type": "execute_result"
    }
   ],
   "source": [
    "kiva['all_text'][0]"
   ]
  },
  {
   "cell_type": "code",
   "execution_count": 15,
   "metadata": {},
   "outputs": [],
   "source": [
    "# sampling data for easier processing\n",
    "kiva_sample = kiva.sample(200_000, random_state=42)"
   ]
  },
  {
   "cell_type": "code",
   "execution_count": 16,
   "metadata": {},
   "outputs": [
    {
     "data": {
      "text/plain": [
       "1    0.83516\n",
       "0    0.16484\n",
       "Name: STATUS, dtype: float64"
      ]
     },
     "execution_count": 16,
     "metadata": {},
     "output_type": "execute_result"
    }
   ],
   "source": [
    "# making sure split is still the same for STATUS\n",
    "kiva_sample['STATUS'].value_counts(normalize=True)"
   ]
  },
  {
   "cell_type": "markdown",
   "metadata": {},
   "source": [
    "### Preprocessing"
   ]
  },
  {
   "cell_type": "code",
   "execution_count": 18,
   "metadata": {},
   "outputs": [],
   "source": [
    "# Removing punctuation from text\n",
    "tokenizer = RegexpTokenizer('\\w+|\\$[\\d.]+|S+')\n",
    "kiva_sample['all_text'] = [tokenizer.tokenize(row.lower()) for row in kiva_sample['all_text']]"
   ]
  },
  {
   "cell_type": "code",
   "execution_count": 19,
   "metadata": {},
   "outputs": [],
   "source": [
    "# removing s's from ends of words to be able to count singulars and plurals together\n",
    "lemmatizer = WordNetLemmatizer()\n",
    "kiva_sample['all_text'] = [[lemmatizer.lemmatize(token) for token in token_list] for token_list in kiva_sample['all_text']]"
   ]
  },
  {
   "cell_type": "code",
   "execution_count": 21,
   "metadata": {},
   "outputs": [],
   "source": [
    "# removing most common english words from text\n",
    "kiva_sample['all_text'] = [[token for token in token_list if token not in stopwords.words('english')] for token_list in kiva_sample['all_text']]"
   ]
  },
  {
   "cell_type": "code",
   "execution_count": 22,
   "metadata": {},
   "outputs": [],
   "source": [
    "# saving data so I don't have to do that all over again, again\n",
    "kiva_sample.to_csv('../kiva_sample_preprocessed.csv', index=False)"
   ]
  },
  {
   "cell_type": "markdown",
   "metadata": {},
   "source": [
    "### EDA"
   ]
  },
  {
   "cell_type": "code",
   "execution_count": 5,
   "metadata": {},
   "outputs": [],
   "source": [
    "# reloading prejoined data for eda\n",
    "pre_kiva = pd.read_csv('~/dsi/Group-Project/kiva_sample_preprocessed.csv')"
   ]
  },
  {
   "cell_type": "code",
   "execution_count": 6,
   "metadata": {},
   "outputs": [
    {
     "data": {
      "text/html": [
       "<div>\n",
       "<style scoped>\n",
       "    .dataframe tbody tr th:only-of-type {\n",
       "        vertical-align: middle;\n",
       "    }\n",
       "\n",
       "    .dataframe tbody tr th {\n",
       "        vertical-align: top;\n",
       "    }\n",
       "\n",
       "    .dataframe thead th {\n",
       "        text-align: right;\n",
       "    }\n",
       "</style>\n",
       "<table border=\"1\" class=\"dataframe\">\n",
       "  <thead>\n",
       "    <tr style=\"text-align: right;\">\n",
       "      <th></th>\n",
       "      <th>STATUS</th>\n",
       "      <th>DESCRIPTION_TRANSLATED</th>\n",
       "      <th>LOAN_USE</th>\n",
       "      <th>TAGS</th>\n",
       "      <th>all_text</th>\n",
       "    </tr>\n",
       "  </thead>\n",
       "  <tbody>\n",
       "    <tr>\n",
       "      <th>0</th>\n",
       "      <td>1</td>\n",
       "      <td>Nora Luz is 55 years old, is separated from he...</td>\n",
       "      <td>to buy merchandise.</td>\n",
       "      <td>#Single, #Elderly, user_favorite, #Woman-Owned...</td>\n",
       "      <td>['nora', 'luz', '55', 'year', 'old', 'separate...</td>\n",
       "    </tr>\n",
       "    <tr>\n",
       "      <th>1</th>\n",
       "      <td>0</td>\n",
       "      <td>Steven is a married man with four kids and is ...</td>\n",
       "      <td>to add cattle to his farm.</td>\n",
       "      <td>#Parent, #Animals, #Schooling, #Biz Durable Asset</td>\n",
       "      <td>['steven', 'married', 'man', 'four', 'kid', 'r...</td>\n",
       "    </tr>\n",
       "  </tbody>\n",
       "</table>\n",
       "</div>"
      ],
      "text/plain": [
       "   STATUS                             DESCRIPTION_TRANSLATED  \\\n",
       "0       1  Nora Luz is 55 years old, is separated from he...   \n",
       "1       0  Steven is a married man with four kids and is ...   \n",
       "\n",
       "                     LOAN_USE  \\\n",
       "0         to buy merchandise.   \n",
       "1  to add cattle to his farm.   \n",
       "\n",
       "                                                TAGS  \\\n",
       "0  #Single, #Elderly, user_favorite, #Woman-Owned...   \n",
       "1  #Parent, #Animals, #Schooling, #Biz Durable Asset   \n",
       "\n",
       "                                            all_text  \n",
       "0  ['nora', 'luz', '55', 'year', 'old', 'separate...  \n",
       "1  ['steven', 'married', 'man', 'four', 'kid', 'r...  "
      ]
     },
     "execution_count": 6,
     "metadata": {},
     "output_type": "execute_result"
    }
   ],
   "source": [
    "pre_kiva.head(2)"
   ]
  },
  {
   "cell_type": "code",
   "execution_count": 7,
   "metadata": {},
   "outputs": [
    {
     "data": {
      "text/plain": [
       "[('[]', 232),\n",
       " (\"['user_favorite']\", 65),\n",
       " (\"['parent']\", 27),\n",
       " (\"['user_favorite', 'user_favorite']\", 22),\n",
       " (\"['parent', 'woman', 'owned', 'business']\", 18),\n",
       " (\"['woman', 'owned', 'business', 'parent']\", 17),\n",
       " (\"['woman', 'owned', 'business']\", 17),\n",
       " (\"['animal']\", 10),\n",
       " (\"['elderly']\", 8),\n",
       " (\"['parent', 'user_favorite']\", 7)]"
      ]
     },
     "execution_count": 7,
     "metadata": {},
     "output_type": "execute_result"
    }
   ],
   "source": [
    "# frequency of the 10 most common words \n",
    "FreqDist(pre_kiva['all_text']).most_common(10)"
   ]
  },
  {
   "cell_type": "code",
   "execution_count": 8,
   "metadata": {},
   "outputs": [
    {
     "data": {
      "text/plain": [
       "1    223\n",
       "0      9\n",
       "Name: STATUS, dtype: int64"
      ]
     },
     "execution_count": 8,
     "metadata": {},
     "output_type": "execute_result"
    }
   ],
   "source": [
    "# found 232 empty rows\n",
    "empty = pre_kiva[pre_kiva['all_text'] == '[]']\n",
    "empty['STATUS'].value_counts()"
   ]
  },
  {
   "cell_type": "code",
   "execution_count": 9,
   "metadata": {},
   "outputs": [],
   "source": [
    "# dropping empty rows\n",
    "pre_kiva.drop(empty.index, inplace=True)"
   ]
  },
  {
   "cell_type": "code",
   "execution_count": 10,
   "metadata": {},
   "outputs": [
    {
     "data": {
      "text/plain": [
       "[(\"['user_favorite']\", 65),\n",
       " (\"['parent']\", 27),\n",
       " (\"['user_favorite', 'user_favorite']\", 22),\n",
       " (\"['parent', 'woman', 'owned', 'business']\", 18),\n",
       " (\"['woman', 'owned', 'business', 'parent']\", 17),\n",
       " (\"['woman', 'owned', 'business']\", 17),\n",
       " (\"['animal']\", 10),\n",
       " (\"['elderly']\", 8),\n",
       " (\"['parent', 'user_favorite']\", 7),\n",
       " (\"['first', 'loan', 'parent']\", 7),\n",
       " (\"['parent', 'first', 'loan']\", 7),\n",
       " (\"['schooling']\", 7),\n",
       " (\"['eco', 'friendly', 'technology', 'health', 'sanitation']\", 6),\n",
       " (\"['repeat', 'borrower', 'parent']\", 6),\n",
       " (\"['parent', 'schooling', 'first', 'loan']\", 6),\n",
       " (\"['health', 'sanitation']\", 6),\n",
       " (\"['parent', 'animal']\", 6),\n",
       " (\"['parent', 'schooling']\", 6),\n",
       " (\"['volunteer_pick']\", 6),\n",
       " (\"['technology', 'health', 'sanitation', 'eco', 'friendly']\", 5),\n",
       " (\"['parent', 'vegan']\", 5),\n",
       " (\"['schooling', 'parent']\", 5),\n",
       " (\"['parent', 'vegan', 'first', 'loan']\", 5),\n",
       " (\"['parent', 'schooling', 'first', 'loan', 'vegan']\", 5),\n",
       " (\"['first', 'loan', 'woman', 'owned', 'business', 'parent', 'schooling']\", 4)]"
      ]
     },
     "execution_count": 10,
     "metadata": {},
     "output_type": "execute_result"
    }
   ],
   "source": [
    "# frequency of the 10 most common words \n",
    "freq_top10 = FreqDist(pre_kiva['all_text']).most_common(25)\n",
    "freq_top10"
   ]
  },
  {
   "cell_type": "code",
   "execution_count": 11,
   "metadata": {},
   "outputs": [],
   "source": [
    "# creating variables for the plot of word frequencies\n",
    "words = [i[0] for i in freq_top10]\n",
    "count = [i[1] for i in freq_top10]"
   ]
  },
  {
   "cell_type": "code",
   "execution_count": 12,
   "metadata": {},
   "outputs": [
    {
     "data": {
      "image/png": "[encoded data removed]",
      "text/plain": [
       "<Figure size 576x576 with 1 Axes>"
      ]
     },
     "metadata": {
      "needs_background": "light"
     },
     "output_type": "display_data"
    }
   ],
   "source": [
    "# plotting 10 most frequent word combinations\n",
    "plt.figure(figsize=(8,8))\n",
    "plt.title('Ten Most Frequent Word Combinations');\n",
    "plt.barh(y=words, width=count);\n",
    "plt.ylabel('Word Combinations');\n",
    "plt.xlabel('Frequency');"
   ]
  },
  {
   "cell_type": "markdown",
   "metadata": {},
   "source": [
    "**Re-Joining List of Words to Strings**"
   ]
  },
  {
   "cell_type": "code",
   "execution_count": 24,
   "metadata": {},
   "outputs": [],
   "source": [
    "# rejoining list of words in each row\n",
    "kiva_sample['all_text'] = [' '.join(row) for row in kiva_sample['all_text']]"
   ]
  },
  {
   "cell_type": "code",
   "execution_count": 25,
   "metadata": {},
   "outputs": [],
   "source": [
    "# saving data after joining strings back together\n",
    "kiva_sample.to_csv('../kiva_sample.csv', index=False)"
   ]
  },
  {
   "cell_type": "code",
   "execution_count": 26,
   "metadata": {},
   "outputs": [
    {
     "data": {
      "text/plain": [
       "False    199338\n",
       "True        662\n",
       "dtype: int64"
      ]
     },
     "execution_count": 26,
     "metadata": {},
     "output_type": "execute_result"
    }
   ],
   "source": [
    "# looking for duplicate posts\n",
    "kiva_sample.duplicated(subset=['all_text']).value_counts()"
   ]
  },
  {
   "cell_type": "code",
   "execution_count": 27,
   "metadata": {},
   "outputs": [],
   "source": [
    "# dropping duplicates\n",
    "kiva_sample.drop_duplicates(subset=['all_text'], keep='first', inplace=True)"
   ]
  },
  {
   "cell_type": "code",
   "execution_count": 29,
   "metadata": {},
   "outputs": [
    {
     "data": {
      "text/plain": [
       "1    166382\n",
       "0     32956\n",
       "Name: STATUS, dtype: int64"
      ]
     },
     "execution_count": 29,
     "metadata": {},
     "output_type": "execute_result"
    }
   ],
   "source": [
    "kiva_sample['STATUS'].value_counts(normalize=False)"
   ]
  },
  {
   "cell_type": "code",
   "execution_count": 46,
   "metadata": {},
   "outputs": [
    {
     "name": "stdout",
     "output_type": "stream",
     "text": [
      "<class 'pandas.core.frame.DataFrame'>\n",
      "Int64Index: 199338 entries, 317445 to 179120\n",
      "Data columns (total 5 columns):\n",
      " #   Column                  Non-Null Count   Dtype \n",
      "---  ------                  --------------   ----- \n",
      " 0   STATUS                  199338 non-null  int64 \n",
      " 1   DESCRIPTION_TRANSLATED  199338 non-null  object\n",
      " 2   LOAN_USE                199338 non-null  object\n",
      " 3   TAGS                    199338 non-null  object\n",
      " 4   all_text                199338 non-null  object\n",
      "dtypes: int64(1), object(4)\n",
      "memory usage: 9.1+ MB\n"
     ]
    }
   ],
   "source": [
    "kiva_sample.info()"
   ]
  },
  {
   "cell_type": "code",
   "execution_count": 56,
   "metadata": {},
   "outputs": [
    {
     "data": {
      "text/html": [
       "<div>\n",
       "<style scoped>\n",
       "    .dataframe tbody tr th:only-of-type {\n",
       "        vertical-align: middle;\n",
       "    }\n",
       "\n",
       "    .dataframe tbody tr th {\n",
       "        vertical-align: top;\n",
       "    }\n",
       "\n",
       "    .dataframe thead th {\n",
       "        text-align: right;\n",
       "    }\n",
       "</style>\n",
       "<table border=\"1\" class=\"dataframe\">\n",
       "  <thead>\n",
       "    <tr style=\"text-align: right;\">\n",
       "      <th></th>\n",
       "      <th>STATUS</th>\n",
       "      <th>DESCRIPTION_TRANSLATED</th>\n",
       "      <th>LOAN_USE</th>\n",
       "      <th>TAGS</th>\n",
       "      <th>all_text</th>\n",
       "    </tr>\n",
       "  </thead>\n",
       "  <tbody>\n",
       "  </tbody>\n",
       "</table>\n",
       "</div>"
      ],
      "text/plain": [
       "Empty DataFrame\n",
       "Columns: [STATUS, DESCRIPTION_TRANSLATED, LOAN_USE, TAGS, all_text]\n",
       "Index: []"
      ]
     },
     "execution_count": 56,
     "metadata": {},
     "output_type": "execute_result"
    }
   ],
   "source": [
    "# checking for empty rows\n",
    "kiva_sample[kiva_sample['all_text'].isnull()]"
   ]
  },
  {
   "cell_type": "code",
   "execution_count": 30,
   "metadata": {},
   "outputs": [],
   "source": [
    "# saving data after dropping duplicates\n",
    "kiva_sample.to_csv('../kiva_sample.csv', index=False)"
   ]
  },
  {
   "cell_type": "code",
   "execution_count": 31,
   "metadata": {},
   "outputs": [],
   "source": [
    "# reading in data again to check shape/value counts\n",
    "ks = pd.read_csv('../kiva_sample.csv')"
   ]
  },
  {
   "cell_type": "code",
   "execution_count": 33,
   "metadata": {},
   "outputs": [
    {
     "data": {
      "text/plain": [
       "1    166382\n",
       "0     32956\n",
       "Name: STATUS, dtype: int64"
      ]
     },
     "execution_count": 33,
     "metadata": {},
     "output_type": "execute_result"
    }
   ],
   "source": [
    "# value counts still the same\n",
    "ks['STATUS'].value_counts()"
   ]
  },
  {
   "cell_type": "code",
   "execution_count": 57,
   "metadata": {},
   "outputs": [
    {
     "data": {
      "text/html": [
       "<div>\n",
       "<style scoped>\n",
       "    .dataframe tbody tr th:only-of-type {\n",
       "        vertical-align: middle;\n",
       "    }\n",
       "\n",
       "    .dataframe tbody tr th {\n",
       "        vertical-align: top;\n",
       "    }\n",
       "\n",
       "    .dataframe thead th {\n",
       "        text-align: right;\n",
       "    }\n",
       "</style>\n",
       "<table border=\"1\" class=\"dataframe\">\n",
       "  <thead>\n",
       "    <tr style=\"text-align: right;\">\n",
       "      <th></th>\n",
       "      <th>STATUS</th>\n",
       "      <th>DESCRIPTION_TRANSLATED</th>\n",
       "      <th>LOAN_USE</th>\n",
       "      <th>TAGS</th>\n",
       "      <th>all_text</th>\n",
       "    </tr>\n",
       "  </thead>\n",
       "  <tbody>\n",
       "    <tr>\n",
       "      <th>1545</th>\n",
       "      <td>1</td>\n",
       "      <td></td>\n",
       "      <td></td>\n",
       "      <td></td>\n",
       "      <td>NaN</td>\n",
       "    </tr>\n",
       "  </tbody>\n",
       "</table>\n",
       "</div>"
      ],
      "text/plain": [
       "      STATUS DESCRIPTION_TRANSLATED LOAN_USE TAGS all_text\n",
       "1545       1                                           NaN"
      ]
     },
     "execution_count": 57,
     "metadata": {},
     "output_type": "execute_result"
    }
   ],
   "source": [
    "# found 1 empty row \n",
    "ks[ks['all_text'].isnull()]"
   ]
  },
  {
   "cell_type": "code",
   "execution_count": 58,
   "metadata": {},
   "outputs": [],
   "source": [
    "# dropping 1 empty row\n",
    "ks.drop(index=1545, inplace=True)"
   ]
  },
  {
   "cell_type": "markdown",
   "metadata": {},
   "source": [
    "### Modeling"
   ]
  },
  {
   "cell_type": "markdown",
   "metadata": {},
   "source": [
    "#### Defining and Transforming Data"
   ]
  },
  {
   "cell_type": "code",
   "execution_count": 59,
   "metadata": {},
   "outputs": [],
   "source": [
    "# defining variables\n",
    "X = ks['all_text']\n",
    "y = ks['STATUS']"
   ]
  },
  {
   "cell_type": "code",
   "execution_count": 60,
   "metadata": {},
   "outputs": [],
   "source": [
    "# splitting train and test data\n",
    "X_train, X_test, y_train, y_test = train_test_split(X, y, stratify=y, random_state=42)"
   ]
  },
  {
   "cell_type": "code",
   "execution_count": 61,
   "metadata": {},
   "outputs": [
    {
     "data": {
      "text/plain": [
       "1    0.834672\n",
       "0    0.165328\n",
       "Name: STATUS, dtype: float64"
      ]
     },
     "execution_count": 61,
     "metadata": {},
     "output_type": "execute_result"
    }
   ],
   "source": [
    "# null scores\n",
    "y.value_counts(normalize=True)"
   ]
  },
  {
   "cell_type": "markdown",
   "metadata": {},
   "source": [
    "#### Basic TF-IDF & Logistic Regression"
   ]
  },
  {
   "cell_type": "code",
   "execution_count": 62,
   "metadata": {},
   "outputs": [],
   "source": [
    "# transforming data\n",
    "tvec = TfidfVectorizer()\n",
    "X_train_tv = tvec.fit_transform(X_train)\n",
    "X_test_tv = tvec.transform(X_test)"
   ]
  },
  {
   "cell_type": "code",
   "execution_count": 65,
   "metadata": {},
   "outputs": [
    {
     "data": {
      "text/plain": [
       "LogisticRegression(max_iter=1000)"
      ]
     },
     "execution_count": 65,
     "metadata": {},
     "output_type": "execute_result"
    }
   ],
   "source": [
    "# instantiating and fitting logistic regression\n",
    "logreg = LogisticRegression(max_iter=1000)\n",
    "logreg.fit(X_train_tv, y_train)"
   ]
  },
  {
   "cell_type": "code",
   "execution_count": 67,
   "metadata": {},
   "outputs": [
    {
     "name": "stdout",
     "output_type": "stream",
     "text": [
      "Train score: 0.8601088948642828\n",
      "Test score: 0.8448479983947025\n"
     ]
    }
   ],
   "source": [
    "# scoring basic logistic regression\n",
    "print(f'Train score: {logreg.score(X_train_tv, y_train)}')\n",
    "print(f'Test score: {logreg.score(X_test_tv, y_test)}')"
   ]
  },
  {
   "cell_type": "markdown",
   "metadata": {},
   "source": [
    "Tried a grid search that returned with default parameters."
   ]
  },
  {
   "cell_type": "code",
   "execution_count": 107,
   "metadata": {},
   "outputs": [
    {
     "data": {
      "text/plain": [
       "array([2.04876983])"
      ]
     },
     "execution_count": 107,
     "metadata": {},
     "output_type": "execute_result"
    }
   ],
   "source": [
    "logreg.intercept_"
   ]
  },
  {
   "cell_type": "code",
   "execution_count": 83,
   "metadata": {},
   "outputs": [
    {
     "data": {
      "text/plain": [
       "array([[ 0.77570321,  0.09565199, -0.15675799, ..., -0.05887644,\n",
       "         0.0095132 ,  0.01417908]])"
      ]
     },
     "execution_count": 83,
     "metadata": {},
     "output_type": "execute_result"
    }
   ],
   "source": [
    "logreg.coef_"
   ]
  },
  {
   "cell_type": "code",
   "execution_count": 104,
   "metadata": {},
   "outputs": [],
   "source": [
    "logreg_preds = logreg.predict(X_test_tv)"
   ]
  },
  {
   "cell_type": "code",
   "execution_count": 105,
   "metadata": {},
   "outputs": [
    {
     "data": {
      "image/png": "[encoded data removed]",
      "text/plain": [
       "<Figure size 432x288 with 2 Axes>"
      ]
     },
     "metadata": {
      "needs_background": "light"
     },
     "output_type": "display_data"
    }
   ],
   "source": [
    "logreg_cm = confusion_matrix(y_test, logreg_preds)\n",
    "ConfusionMatrixDisplay(logreg_cm).plot();"
   ]
  },
  {
   "cell_type": "code",
   "execution_count": 106,
   "metadata": {},
   "outputs": [
    {
     "name": "stdout",
     "output_type": "stream",
     "text": [
      "              precision    recall  f1-score   support\n",
      "\n",
      "           0       0.58      0.23      0.33      8239\n",
      "           1       0.86      0.97      0.91     41596\n",
      "\n",
      "    accuracy                           0.84     49835\n",
      "   macro avg       0.72      0.60      0.62     49835\n",
      "weighted avg       0.82      0.84      0.82     49835\n",
      "\n"
     ]
    }
   ],
   "source": [
    "print(classification_report(y_test, logreg_preds))"
   ]
  },
  {
   "cell_type": "markdown",
   "metadata": {},
   "source": [
    "The model is performing well on funded text data (1). However, it's performing very poorly on expired text data (0). Most of the predictions are for funding, and 77% of the expired loans are being incorrectly predicted as funded. These are our false positives. If we want to inform people on whether or not their loan will be funded, a high false positive rate (or low recall: 0.23) can lead people to not trust our model and app that helps field partners better support borrowers. What if people decide not to work with Kiva.org or field partners decide to scrap the app altogether? That would mean our model is not beneficial, which is not our aim."
   ]
  },
  {
   "cell_type": "code",
   "execution_count": 100,
   "metadata": {},
   "outputs": [],
   "source": [
    "# creating dataframe of coefs\n",
    "word_coef_df = pd.DataFrame({'coefs': logreg.coef_[0], 'features': tvec.get_feature_names()})\n",
    "word_coef_df.sort_values(by='coefs',ascending=False,inplace=True)"
   ]
  },
  {
   "cell_type": "code",
   "execution_count": 101,
   "metadata": {},
   "outputs": [
    {
     "data": {
      "text/html": [
       "<div>\n",
       "<style scoped>\n",
       "    .dataframe tbody tr th:only-of-type {\n",
       "        vertical-align: middle;\n",
       "    }\n",
       "\n",
       "    .dataframe tbody tr th {\n",
       "        vertical-align: top;\n",
       "    }\n",
       "\n",
       "    .dataframe thead th {\n",
       "        text-align: right;\n",
       "    }\n",
       "</style>\n",
       "<table border=\"1\" class=\"dataframe\">\n",
       "  <thead>\n",
       "    <tr style=\"text-align: right;\">\n",
       "      <th></th>\n",
       "      <th>coefs</th>\n",
       "      <th>features</th>\n",
       "    </tr>\n",
       "  </thead>\n",
       "  <tbody>\n",
       "    <tr>\n",
       "      <th>62449</th>\n",
       "      <td>5.864779</td>\n",
       "      <td>php</td>\n",
       "    </tr>\n",
       "    <tr>\n",
       "      <th>84814</th>\n",
       "      <td>5.319802</td>\n",
       "      <td>widow</td>\n",
       "    </tr>\n",
       "    <tr>\n",
       "      <th>33033</th>\n",
       "      <td>4.852676</td>\n",
       "      <td>inr</td>\n",
       "    </tr>\n",
       "    <tr>\n",
       "      <th>58663</th>\n",
       "      <td>4.848544</td>\n",
       "      <td>nwtf</td>\n",
       "    </tr>\n",
       "    <tr>\n",
       "      <th>62893</th>\n",
       "      <td>4.750692</td>\n",
       "      <td>pkr</td>\n",
       "    </tr>\n",
       "    <tr>\n",
       "      <th>79533</th>\n",
       "      <td>4.337173</td>\n",
       "      <td>toilet</td>\n",
       "    </tr>\n",
       "    <tr>\n",
       "      <th>41231</th>\n",
       "      <td>4.285676</td>\n",
       "      <td>liberia</td>\n",
       "    </tr>\n",
       "    <tr>\n",
       "      <th>82623</th>\n",
       "      <td>4.261581</td>\n",
       "      <td>vahatra</td>\n",
       "    </tr>\n",
       "    <tr>\n",
       "      <th>63429</th>\n",
       "      <td>4.182323</td>\n",
       "      <td>portoviejo</td>\n",
       "    </tr>\n",
       "    <tr>\n",
       "      <th>62320</th>\n",
       "      <td>4.090632</td>\n",
       "      <td>philippine</td>\n",
       "    </tr>\n",
       "  </tbody>\n",
       "</table>\n",
       "</div>"
      ],
      "text/plain": [
       "          coefs    features\n",
       "62449  5.864779         php\n",
       "84814  5.319802       widow\n",
       "33033  4.852676         inr\n",
       "58663  4.848544        nwtf\n",
       "62893  4.750692         pkr\n",
       "79533  4.337173      toilet\n",
       "41231  4.285676     liberia\n",
       "82623  4.261581     vahatra\n",
       "63429  4.182323  portoviejo\n",
       "62320  4.090632  philippine"
      ]
     },
     "execution_count": 101,
     "metadata": {},
     "output_type": "execute_result"
    }
   ],
   "source": [
    "word_coef_df.head(10)"
   ]
  },
  {
   "cell_type": "markdown",
   "metadata": {},
   "source": [
    "These are some of the words that have a highly positive affect on the likelihood that a loan will be funded based on its included text. For example, using the word 'widow' in the text of a loan will increase the likelihood of the loan being predicted as funded by 5.3 points. Likewise, the dataframe below shows the words that have a highly negative affect on the likelihood of a loan being funded based off its included text."
   ]
  },
  {
   "cell_type": "code",
   "execution_count": 102,
   "metadata": {},
   "outputs": [
    {
     "data": {
      "text/html": [
       "<div>\n",
       "<style scoped>\n",
       "    .dataframe tbody tr th:only-of-type {\n",
       "        vertical-align: middle;\n",
       "    }\n",
       "\n",
       "    .dataframe tbody tr th {\n",
       "        vertical-align: top;\n",
       "    }\n",
       "\n",
       "    .dataframe thead th {\n",
       "        text-align: right;\n",
       "    }\n",
       "</style>\n",
       "<table border=\"1\" class=\"dataframe\">\n",
       "  <thead>\n",
       "    <tr style=\"text-align: right;\">\n",
       "      <th></th>\n",
       "      <th>coefs</th>\n",
       "      <th>features</th>\n",
       "    </tr>\n",
       "  </thead>\n",
       "  <tbody>\n",
       "    <tr>\n",
       "      <th>208</th>\n",
       "      <td>-3.533471</td>\n",
       "      <td>120</td>\n",
       "    </tr>\n",
       "    <tr>\n",
       "      <th>69065</th>\n",
       "      <td>-3.578780</td>\n",
       "      <td>rwanda</td>\n",
       "    </tr>\n",
       "    <tr>\n",
       "      <th>40588</th>\n",
       "      <td>-3.638456</td>\n",
       "      <td>leader</td>\n",
       "    </tr>\n",
       "    <tr>\n",
       "      <th>2091</th>\n",
       "      <td>-3.719618</td>\n",
       "      <td>acb</td>\n",
       "    </tr>\n",
       "    <tr>\n",
       "      <th>60402</th>\n",
       "      <td>-3.794685</td>\n",
       "      <td>owned</td>\n",
       "    </tr>\n",
       "    <tr>\n",
       "      <th>44058</th>\n",
       "      <td>-3.794803</td>\n",
       "      <td>man</td>\n",
       "    </tr>\n",
       "    <tr>\n",
       "      <th>39088</th>\n",
       "      <td>-3.827269</td>\n",
       "      <td>kopsyah</td>\n",
       "    </tr>\n",
       "    <tr>\n",
       "      <th>110</th>\n",
       "      <td>-3.878903</td>\n",
       "      <td>100</td>\n",
       "    </tr>\n",
       "    <tr>\n",
       "      <th>288</th>\n",
       "      <td>-4.266251</td>\n",
       "      <td>150</td>\n",
       "    </tr>\n",
       "    <tr>\n",
       "      <th>61091</th>\n",
       "      <td>-6.105532</td>\n",
       "      <td>parent</td>\n",
       "    </tr>\n",
       "  </tbody>\n",
       "</table>\n",
       "</div>"
      ],
      "text/plain": [
       "          coefs features\n",
       "208   -3.533471      120\n",
       "69065 -3.578780   rwanda\n",
       "40588 -3.638456   leader\n",
       "2091  -3.719618      acb\n",
       "60402 -3.794685    owned\n",
       "44058 -3.794803      man\n",
       "39088 -3.827269  kopsyah\n",
       "110   -3.878903      100\n",
       "288   -4.266251      150\n",
       "61091 -6.105532   parent"
      ]
     },
     "execution_count": 102,
     "metadata": {},
     "output_type": "execute_result"
    }
   ],
   "source": [
    "word_coef_df.tail(10)"
   ]
  },
  {
   "cell_type": "code",
   "execution_count": null,
   "metadata": {},
   "outputs": [],
   "source": []
  }
 ],
 "metadata": {
  "kernelspec": {
   "display_name": "Python 3",
   "language": "python",
   "name": "python3"
  },
  "language_info": {
   "codemirror_mode": {
    "name": "ipython",
    "version": 3
   },
   "file_extension": ".py",
   "mimetype": "text/x-python",
   "name": "python",
   "nbconvert_exporter": "python",
   "pygments_lexer": "ipython3",
   "version": "3.8.5"
  }
 },
 "nbformat": 4,
 "nbformat_minor": 4
}
