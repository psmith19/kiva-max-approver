{
 "cells": [
  {
   "cell_type": "markdown",
   "metadata": {},
   "source": [
    "# Final NLP Model\n",
    "This notebook contains the final nlp model for Kenya's loans. The independent variable (X) includes combined text from the Description_Translated, Loan_Use and Tags columns. Also, the Tags column was separated by tags not by individual words. For preprocessing, regular expressions and lemmatizing was used along with the removal of English stopwords. The dependent variable (y) is the status column where 0=expired and 1=funded. For modeling, logistic regression was used alongside a Tf-IDF Vectorizer with 1-2 ngrams and 10,000 max features."
   ]
  },
  {
   "cell_type": "markdown",
   "metadata": {},
   "source": [
    "### Importing Libraries and Loading Data"
   ]
  },
  {
   "cell_type": "code",
   "execution_count": 56,
   "metadata": {},
   "outputs": [],
   "source": [
    "import pandas as pd\n",
    "import numpy as np\n",
    "import matplotlib.pyplot as plt\n",
    "import pickle\n",
    "\n",
    "from nltk.corpus import stopwords\n",
    "from nltk.tokenize import RegexpTokenizer\n",
    "from nltk.stem import WordNetLemmatizer\n",
    "\n",
    "from sklearn.model_selection import train_test_split, cross_val_score\n",
    "from sklearn.pipeline import Pipeline\n",
    "from sklearn.linear_model import LogisticRegression\n",
    "from sklearn.metrics import confusion_matrix, ConfusionMatrixDisplay, classification_report, roc_auc_score\n",
    "from sklearn.feature_extraction.text import TfidfVectorizer"
   ]
  },
  {
   "cell_type": "code",
   "execution_count": 5,
   "metadata": {},
   "outputs": [],
   "source": [
    "kiva = pd.read_csv('/Users/precious/dsi/Group-Project/kenya_joined_tags_full_text.csv')"
   ]
  },
  {
   "cell_type": "code",
   "execution_count": 38,
   "metadata": {},
   "outputs": [
    {
     "data": {
      "text/html": [
       "<div>\n",
       "<style scoped>\n",
       "    .dataframe tbody tr th:only-of-type {\n",
       "        vertical-align: middle;\n",
       "    }\n",
       "\n",
       "    .dataframe tbody tr th {\n",
       "        vertical-align: top;\n",
       "    }\n",
       "\n",
       "    .dataframe thead th {\n",
       "        text-align: right;\n",
       "    }\n",
       "</style>\n",
       "<table border=\"1\" class=\"dataframe\">\n",
       "  <thead>\n",
       "    <tr style=\"text-align: right;\">\n",
       "      <th></th>\n",
       "      <th>LOAN_ID</th>\n",
       "      <th>COUNTRY_NAME</th>\n",
       "      <th>STATUS</th>\n",
       "      <th>DESCRIPTION_TRANSLATED</th>\n",
       "      <th>LOAN_USE</th>\n",
       "      <th>TAGS</th>\n",
       "      <th>processed_TAGS</th>\n",
       "      <th>all_text</th>\n",
       "      <th>joined_text</th>\n",
       "    </tr>\n",
       "  </thead>\n",
       "  <tbody>\n",
       "    <tr>\n",
       "      <th>0</th>\n",
       "      <td>1799331</td>\n",
       "      <td>Kenya</td>\n",
       "      <td>1</td>\n",
       "      <td>Dinnah is 43 years of age and a proud mother o...</td>\n",
       "      <td>to buy farm inputs such as seeds and fertilize...</td>\n",
       "      <td>#Parent</td>\n",
       "      <td>#Parent</td>\n",
       "      <td>['dinnah', '43', 'year', 'age', 'proud', 'moth...</td>\n",
       "      <td>dinnah 43 year age proud mother 5 4 school goi...</td>\n",
       "    </tr>\n",
       "    <tr>\n",
       "      <th>1</th>\n",
       "      <td>1294719</td>\n",
       "      <td>Kenya</td>\n",
       "      <td>1</td>\n",
       "      <td>Resy is a married woman and has been blessed w...</td>\n",
       "      <td>to purchase chicks and poultry feed.</td>\n",
       "      <td>#Animals, #Woman-Owned Business, volunteer_pic...</td>\n",
       "      <td>#Animals,#WomanOwnedBusiness,volunteer_pick,#P...</td>\n",
       "      <td>['resy', 'married', 'woman', 'ha', 'blessed', ...</td>\n",
       "      <td>resy married woman ha blessed three kid attend...</td>\n",
       "    </tr>\n",
       "  </tbody>\n",
       "</table>\n",
       "</div>"
      ],
      "text/plain": [
       "   LOAN_ID COUNTRY_NAME  STATUS  \\\n",
       "0  1799331        Kenya       1   \n",
       "1  1294719        Kenya       1   \n",
       "\n",
       "                              DESCRIPTION_TRANSLATED  \\\n",
       "0  Dinnah is 43 years of age and a proud mother o...   \n",
       "1  Resy is a married woman and has been blessed w...   \n",
       "\n",
       "                                            LOAN_USE  \\\n",
       "0  to buy farm inputs such as seeds and fertilize...   \n",
       "1               to purchase chicks and poultry feed.   \n",
       "\n",
       "                                                TAGS  \\\n",
       "0                                            #Parent   \n",
       "1  #Animals, #Woman-Owned Business, volunteer_pic...   \n",
       "\n",
       "                                      processed_TAGS  \\\n",
       "0                                            #Parent   \n",
       "1  #Animals,#WomanOwnedBusiness,volunteer_pick,#P...   \n",
       "\n",
       "                                            all_text  \\\n",
       "0  ['dinnah', '43', 'year', 'age', 'proud', 'moth...   \n",
       "1  ['resy', 'married', 'woman', 'ha', 'blessed', ...   \n",
       "\n",
       "                                         joined_text  \n",
       "0  dinnah 43 year age proud mother 5 4 school goi...  \n",
       "1  resy married woman ha blessed three kid attend...  "
      ]
     },
     "execution_count": 38,
     "metadata": {},
     "output_type": "execute_result"
    }
   ],
   "source": [
    "kiva.head(2)"
   ]
  },
  {
   "cell_type": "code",
   "execution_count": 3,
   "metadata": {},
   "outputs": [
    {
     "name": "stdout",
     "output_type": "stream",
     "text": [
      "<class 'pandas.core.frame.DataFrame'>\n",
      "RangeIndex: 51019 entries, 0 to 51018\n",
      "Data columns (total 9 columns):\n",
      " #   Column                  Non-Null Count  Dtype \n",
      "---  ------                  --------------  ----- \n",
      " 0   LOAN_ID                 51019 non-null  int64 \n",
      " 1   COUNTRY_NAME            51019 non-null  object\n",
      " 2   STATUS                  51019 non-null  int64 \n",
      " 3   DESCRIPTION_TRANSLATED  51019 non-null  object\n",
      " 4   LOAN_USE                51019 non-null  object\n",
      " 5   TAGS                    51019 non-null  object\n",
      " 6   processed_TAGS          43157 non-null  object\n",
      " 7   all_text                51019 non-null  object\n",
      " 8   joined_text             51019 non-null  object\n",
      "dtypes: int64(2), object(7)\n",
      "memory usage: 3.5+ MB\n"
     ]
    }
   ],
   "source": [
    "kiva.info()"
   ]
  },
  {
   "cell_type": "markdown",
   "metadata": {},
   "source": [
    "### Defining Variables & Splitting Train and Test"
   ]
  },
  {
   "cell_type": "code",
   "execution_count": 6,
   "metadata": {},
   "outputs": [],
   "source": [
    "X = kiva['joined_text']\n",
    "y = kiva['STATUS']"
   ]
  },
  {
   "cell_type": "code",
   "execution_count": 7,
   "metadata": {},
   "outputs": [],
   "source": [
    "X_train, X_test, y_train, y_test = train_test_split(X, y, stratify=y, random_state=42)"
   ]
  },
  {
   "cell_type": "code",
   "execution_count": 8,
   "metadata": {},
   "outputs": [
    {
     "data": {
      "text/plain": [
       "1    40001\n",
       "0    11018\n",
       "Name: STATUS, dtype: int64"
      ]
     },
     "execution_count": 8,
     "metadata": {},
     "output_type": "execute_result"
    }
   ],
   "source": [
    "y.value_counts(normalize=False)"
   ]
  },
  {
   "cell_type": "markdown",
   "metadata": {},
   "source": [
    "### Final NLP Model: Tf-IDF Vectorizer w/Logistic Regression"
   ]
  },
  {
   "cell_type": "code",
   "execution_count": 22,
   "metadata": {},
   "outputs": [],
   "source": [
    "tvec = TfidfVectorizer(ngram_range=(1,2), max_features=10_000)\n",
    "X_train_tvec = tvec.fit_transform(X_train)\n",
    "X_test_tvec = tvec.transform(X_test)"
   ]
  },
  {
   "cell_type": "code",
   "execution_count": 23,
   "metadata": {},
   "outputs": [
    {
     "data": {
      "text/plain": [
       "(38264, 10000)"
      ]
     },
     "execution_count": 23,
     "metadata": {},
     "output_type": "execute_result"
    }
   ],
   "source": [
    "X_train_tvec.shape"
   ]
  },
  {
   "cell_type": "code",
   "execution_count": 24,
   "metadata": {},
   "outputs": [
    {
     "data": {
      "text/plain": [
       "LogisticRegression(max_iter=1000)"
      ]
     },
     "execution_count": 24,
     "metadata": {},
     "output_type": "execute_result"
    }
   ],
   "source": [
    "# instantiating and fitting logistic regression model w/default parameters and 1000 max iterations\n",
    "logreg = LogisticRegression(max_iter=1000)\n",
    "logreg.fit(X_train_tvec, y_train)"
   ]
  },
  {
   "cell_type": "markdown",
   "metadata": {},
   "source": [
    "### Preparing Model for Streamlit"
   ]
  },
  {
   "cell_type": "code",
   "execution_count": 50,
   "metadata": {},
   "outputs": [],
   "source": [
    "#function to process input from user\n",
    "def preprocess_nlp(description, tags):\n",
    "    processed_tags = tags.replace(' ', '')\n",
    "    processed_tags = processed_tags.replace('-', '')\n",
    "    all_text = description + processed_tags\n",
    "    tokenizer = RegexpTokenizer('\\w+|\\$[\\d.]+|S+')\n",
    "    token = tokenizer.tokenize(all_text.lower())\n",
    "    lemmatizer = WordNetLemmatizer()\n",
    "    lem_token = [lemmatizer.lemmatize(word) for word in token]\n",
    "    joined_text = ' '.join(lem_token)\n",
    "    return joined_text"
   ]
  },
  {
   "cell_type": "code",
   "execution_count": 70,
   "metadata": {},
   "outputs": [],
   "source": [
    "# testing function for use w/model pipeline\n",
    "input_text = preprocess_nlp('single mom of 3 requesting kes 20,000 for farming equipment', '#parent, #womanownedbusiness')"
   ]
  },
  {
   "cell_type": "code",
   "execution_count": 39,
   "metadata": {},
   "outputs": [],
   "source": [
    "# creating pipeline for model\n",
    "nlp_pipe = Pipeline([('tvec', TfidfVectorizer(ngram_range=(1,2), \n",
    "                                          max_features=10_000, \n",
    "                                          stop_words={'english'})), \n",
    "                ('logreg', LogisticRegression(max_iter=1000, random_state=42))])"
   ]
  },
  {
   "cell_type": "code",
   "execution_count": 43,
   "metadata": {},
   "outputs": [
    {
     "data": {
      "text/plain": [
       "Pipeline(steps=[('tvec',\n",
       "                 TfidfVectorizer(max_features=10000, ngram_range=(1, 2),\n",
       "                                 stop_words={'english'})),\n",
       "                ('logreg', LogisticRegression(max_iter=1000, random_state=42))])"
      ]
     },
     "execution_count": 43,
     "metadata": {},
     "output_type": "execute_result"
    }
   ],
   "source": [
    "# fitting pipeline\n",
    "nlp_pipe.fit(X_train, y_train)"
   ]
  },
  {
   "cell_type": "code",
   "execution_count": 44,
   "metadata": {},
   "outputs": [
    {
     "data": {
      "text/plain": [
       "(0.8374189839013172, 0.8211681693453547)"
      ]
     },
     "execution_count": 44,
     "metadata": {},
     "output_type": "execute_result"
    }
   ],
   "source": [
    "# scoring pipeline to make sure scores still accurate\n",
    "nlp_pipe.score(X_train, y_train), nlp_pipe.score(X_test, y_test)"
   ]
  },
  {
   "cell_type": "code",
   "execution_count": 71,
   "metadata": {},
   "outputs": [
    {
     "data": {
      "text/plain": [
       "array([1])"
      ]
     },
     "execution_count": 71,
     "metadata": {},
     "output_type": "execute_result"
    }
   ],
   "source": [
    "# testing model on function output and it's performing well\n",
    "nlp_pipe.predict([input_text])"
   ]
  },
  {
   "cell_type": "code",
   "execution_count": 63,
   "metadata": {},
   "outputs": [],
   "source": [
    "# loading model to pickle for usage in streamlit\n",
    "pickle.dump(nlp_pipe, open('../nlp_model.p', 'wb'))"
   ]
  },
  {
   "cell_type": "code",
   "execution_count": 64,
   "metadata": {},
   "outputs": [],
   "source": [
    "# loading model back in to test\n",
    "nlp_model = pickle.load(open('../nlp_model.p', 'rb'))"
   ]
  },
  {
   "cell_type": "code",
   "execution_count": 65,
   "metadata": {},
   "outputs": [
    {
     "data": {
      "text/plain": [
       "{'tvec': TfidfVectorizer(max_features=10000, ngram_range=(1, 2), stop_words={'english'}),\n",
       " 'logreg': LogisticRegression(max_iter=1000, random_state=42)}"
      ]
     },
     "execution_count": 65,
     "metadata": {},
     "output_type": "execute_result"
    }
   ],
   "source": [
    "# all steps saved in pickled model\n",
    "nlp_model.named_steps"
   ]
  },
  {
   "cell_type": "code",
   "execution_count": 66,
   "metadata": {},
   "outputs": [
    {
     "data": {
      "text/plain": [
       "array([0])"
      ]
     },
     "execution_count": 66,
     "metadata": {},
     "output_type": "execute_result"
    }
   ],
   "source": [
    "# testing negative predictions\n",
    "nlp_model.predict(['married man parent of 8 requesting kes 100,000 to shop'])"
   ]
  },
  {
   "cell_type": "code",
   "execution_count": 67,
   "metadata": {},
   "outputs": [
    {
     "data": {
      "text/plain": [
       "array([1])"
      ]
     },
     "execution_count": 67,
     "metadata": {},
     "output_type": "execute_result"
    }
   ],
   "source": [
    "# testing positive predictions\n",
    "nlp_model.predict(['single mom of 3 requesting kes 20,000 for farming equipment'])"
   ]
  },
  {
   "cell_type": "markdown",
   "metadata": {},
   "source": [
    "### Evaluating Model"
   ]
  },
  {
   "cell_type": "code",
   "execution_count": 25,
   "metadata": {},
   "outputs": [
    {
     "name": "stdout",
     "output_type": "stream",
     "text": [
      "Train score: 0.8373928496759356\n",
      "Test score: 0.8214817718541748\n"
     ]
    }
   ],
   "source": [
    "# scoring logistic regression (ngram1,2, max_feat10_000)\n",
    "print(f'Train score: {logreg.score(X_train_tvec, y_train)}')\n",
    "print(f'Test score: {logreg.score(X_test_tvec, y_test)}')"
   ]
  },
  {
   "cell_type": "code",
   "execution_count": 26,
   "metadata": {},
   "outputs": [],
   "source": [
    "# creating predictions from test data\n",
    "logreg_preds = logreg.predict(X_test_tvec)"
   ]
  },
  {
   "cell_type": "code",
   "execution_count": 36,
   "metadata": {},
   "outputs": [
    {
     "data": {
      "image/png": "[encoded data removed]",
      "text/plain": [
       "<Figure size 432x288 with 2 Axes>"
      ]
     },
     "metadata": {
      "needs_background": "light"
     },
     "output_type": "display_data"
    }
   ],
   "source": [
    "# showing predictions vs true status where 0=expired and 1=funded\n",
    "logreg_cm = confusion_matrix(y_test, logreg_preds)\n",
    "ConfusionMatrixDisplay(logreg_cm, display_labels = ['expired', 'funded']).plot();"
   ]
  },
  {
   "cell_type": "code",
   "execution_count": 28,
   "metadata": {},
   "outputs": [
    {
     "name": "stdout",
     "output_type": "stream",
     "text": [
      "ROC AUC: 0.6386892014519057\n",
      "Cross Val Score: 0.8163809445126128\n"
     ]
    }
   ],
   "source": [
    "print(f'ROC AUC: {roc_auc_score(y_test, logreg_preds)}')\n",
    "print(f'Cross Val Score: {cross_val_score(logreg, X_train_tvec, y_train, cv=3).mean()}')"
   ]
  },
  {
   "cell_type": "code",
   "execution_count": 29,
   "metadata": {},
   "outputs": [
    {
     "name": "stdout",
     "output_type": "stream",
     "text": [
      "              precision    recall  f1-score   support\n",
      "\n",
      "           0       0.69      0.32      0.43      2755\n",
      "           1       0.84      0.96      0.89     10000\n",
      "\n",
      "    accuracy                           0.82     12755\n",
      "   macro avg       0.76      0.64      0.66     12755\n",
      "weighted avg       0.80      0.82      0.79     12755\n",
      "\n"
     ]
    }
   ],
   "source": [
    "print(classification_report(y_test, logreg_preds))"
   ]
  },
  {
   "cell_type": "code",
   "execution_count": 33,
   "metadata": {},
   "outputs": [],
   "source": [
    "# creating dataframe of coefs\n",
    "word_coef_df = pd.DataFrame({'coefs': logreg.coef_[0], 'word_combinations': tvec.get_feature_names()})"
   ]
  },
  {
   "cell_type": "code",
   "execution_count": 34,
   "metadata": {},
   "outputs": [
    {
     "data": {
      "text/html": [
       "<div>\n",
       "<style scoped>\n",
       "    .dataframe tbody tr th:only-of-type {\n",
       "        vertical-align: middle;\n",
       "    }\n",
       "\n",
       "    .dataframe tbody tr th {\n",
       "        vertical-align: top;\n",
       "    }\n",
       "\n",
       "    .dataframe thead th {\n",
       "        text-align: right;\n",
       "    }\n",
       "</style>\n",
       "<table border=\"1\" class=\"dataframe\">\n",
       "  <thead>\n",
       "    <tr style=\"text-align: right;\">\n",
       "      <th></th>\n",
       "      <th>coefs</th>\n",
       "      <th>word_combinations</th>\n",
       "    </tr>\n",
       "  </thead>\n",
       "  <tbody>\n",
       "    <tr>\n",
       "      <th>63</th>\n",
       "      <td>5.614132</td>\n",
       "      <td>20 000</td>\n",
       "    </tr>\n",
       "    <tr>\n",
       "      <th>125</th>\n",
       "      <td>3.470010</td>\n",
       "      <td>30 000</td>\n",
       "    </tr>\n",
       "    <tr>\n",
       "      <th>5237</th>\n",
       "      <td>3.381368</td>\n",
       "      <td>kes 20</td>\n",
       "    </tr>\n",
       "    <tr>\n",
       "      <th>8565</th>\n",
       "      <td>3.338394</td>\n",
       "      <td>singleparent</td>\n",
       "    </tr>\n",
       "    <tr>\n",
       "      <th>62</th>\n",
       "      <td>3.326476</td>\n",
       "      <td>20</td>\n",
       "    </tr>\n",
       "    <tr>\n",
       "      <th>9441</th>\n",
       "      <td>3.211537</td>\n",
       "      <td>user_favorite</td>\n",
       "    </tr>\n",
       "    <tr>\n",
       "      <th>8558</th>\n",
       "      <td>3.091468</td>\n",
       "      <td>single mother</td>\n",
       "    </tr>\n",
       "    <tr>\n",
       "      <th>9743</th>\n",
       "      <td>2.488434</td>\n",
       "      <td>widowed</td>\n",
       "    </tr>\n",
       "    <tr>\n",
       "      <th>47</th>\n",
       "      <td>2.448559</td>\n",
       "      <td>15 000</td>\n",
       "    </tr>\n",
       "    <tr>\n",
       "      <th>5230</th>\n",
       "      <td>2.440288</td>\n",
       "      <td>kes 000</td>\n",
       "    </tr>\n",
       "    <tr>\n",
       "      <th>9742</th>\n",
       "      <td>2.439046</td>\n",
       "      <td>widow</td>\n",
       "    </tr>\n",
       "    <tr>\n",
       "      <th>8557</th>\n",
       "      <td>2.396601</td>\n",
       "      <td>single mom</td>\n",
       "    </tr>\n",
       "    <tr>\n",
       "      <th>17</th>\n",
       "      <td>2.304716</td>\n",
       "      <td>10 000</td>\n",
       "    </tr>\n",
       "    <tr>\n",
       "      <th>124</th>\n",
       "      <td>2.266018</td>\n",
       "      <td>30</td>\n",
       "    </tr>\n",
       "    <tr>\n",
       "      <th>4028</th>\n",
       "      <td>2.167488</td>\n",
       "      <td>grew</td>\n",
       "    </tr>\n",
       "  </tbody>\n",
       "</table>\n",
       "</div>"
      ],
      "text/plain": [
       "         coefs word_combinations\n",
       "63    5.614132            20 000\n",
       "125   3.470010            30 000\n",
       "5237  3.381368            kes 20\n",
       "8565  3.338394      singleparent\n",
       "62    3.326476                20\n",
       "9441  3.211537     user_favorite\n",
       "8558  3.091468     single mother\n",
       "9743  2.488434           widowed\n",
       "47    2.448559            15 000\n",
       "5230  2.440288           kes 000\n",
       "9742  2.439046             widow\n",
       "8557  2.396601        single mom\n",
       "17    2.304716            10 000\n",
       "124   2.266018                30\n",
       "4028  2.167488              grew"
      ]
     },
     "execution_count": 34,
     "metadata": {},
     "output_type": "execute_result"
    }
   ],
   "source": [
    "# top 15 word combinations and their coefficients\n",
    "word_coef_df.nlargest(15, 'coefs')"
   ]
  },
  {
   "cell_type": "code",
   "execution_count": 35,
   "metadata": {},
   "outputs": [
    {
     "data": {
      "text/html": [
       "<div>\n",
       "<style scoped>\n",
       "    .dataframe tbody tr th:only-of-type {\n",
       "        vertical-align: middle;\n",
       "    }\n",
       "\n",
       "    .dataframe tbody tr th {\n",
       "        vertical-align: top;\n",
       "    }\n",
       "\n",
       "    .dataframe thead th {\n",
       "        text-align: right;\n",
       "    }\n",
       "</style>\n",
       "<table border=\"1\" class=\"dataframe\">\n",
       "  <thead>\n",
       "    <tr style=\"text-align: right;\">\n",
       "      <th></th>\n",
       "      <th>coefs</th>\n",
       "      <th>word_combinations</th>\n",
       "    </tr>\n",
       "  </thead>\n",
       "  <tbody>\n",
       "    <tr>\n",
       "      <th>27</th>\n",
       "      <td>-4.320953</td>\n",
       "      <td>100 000</td>\n",
       "    </tr>\n",
       "    <tr>\n",
       "      <th>26</th>\n",
       "      <td>-4.180876</td>\n",
       "      <td>100</td>\n",
       "    </tr>\n",
       "    <tr>\n",
       "      <th>6045</th>\n",
       "      <td>-3.664855</td>\n",
       "      <td>man</td>\n",
       "    </tr>\n",
       "    <tr>\n",
       "      <th>7910</th>\n",
       "      <td>-3.484908</td>\n",
       "      <td>repeatborrower</td>\n",
       "    </tr>\n",
       "    <tr>\n",
       "      <th>7893</th>\n",
       "      <td>-3.371616</td>\n",
       "      <td>repairrenewreplace</td>\n",
       "    </tr>\n",
       "    <tr>\n",
       "      <th>954</th>\n",
       "      <td>-3.265535</td>\n",
       "      <td>bizdurableasset</td>\n",
       "    </tr>\n",
       "    <tr>\n",
       "      <th>6921</th>\n",
       "      <td>-3.145058</td>\n",
       "      <td>parent</td>\n",
       "    </tr>\n",
       "    <tr>\n",
       "      <th>52</th>\n",
       "      <td>-2.864306</td>\n",
       "      <td>150 000</td>\n",
       "    </tr>\n",
       "    <tr>\n",
       "      <th>51</th>\n",
       "      <td>-2.810579</td>\n",
       "      <td>150</td>\n",
       "    </tr>\n",
       "    <tr>\n",
       "      <th>38</th>\n",
       "      <td>-2.748698</td>\n",
       "      <td>120 000</td>\n",
       "    </tr>\n",
       "    <tr>\n",
       "      <th>216</th>\n",
       "      <td>-2.706491</td>\n",
       "      <td>80 000</td>\n",
       "    </tr>\n",
       "    <tr>\n",
       "      <th>6607</th>\n",
       "      <td>-2.569605</td>\n",
       "      <td>nhe</td>\n",
       "    </tr>\n",
       "    <tr>\n",
       "      <th>215</th>\n",
       "      <td>-2.551535</td>\n",
       "      <td>80</td>\n",
       "    </tr>\n",
       "    <tr>\n",
       "      <th>37</th>\n",
       "      <td>-2.547320</td>\n",
       "      <td>120</td>\n",
       "    </tr>\n",
       "    <tr>\n",
       "      <th>8497</th>\n",
       "      <td>-2.531583</td>\n",
       "      <td>shop</td>\n",
       "    </tr>\n",
       "  </tbody>\n",
       "</table>\n",
       "</div>"
      ],
      "text/plain": [
       "         coefs   word_combinations\n",
       "27   -4.320953             100 000\n",
       "26   -4.180876                 100\n",
       "6045 -3.664855                 man\n",
       "7910 -3.484908      repeatborrower\n",
       "7893 -3.371616  repairrenewreplace\n",
       "954  -3.265535     bizdurableasset\n",
       "6921 -3.145058              parent\n",
       "52   -2.864306             150 000\n",
       "51   -2.810579                 150\n",
       "38   -2.748698             120 000\n",
       "216  -2.706491              80 000\n",
       "6607 -2.569605                 nhe\n",
       "215  -2.551535                  80\n",
       "37   -2.547320                 120\n",
       "8497 -2.531583                shop"
      ]
     },
     "execution_count": 35,
     "metadata": {},
     "output_type": "execute_result"
    }
   ],
   "source": [
    "# lowest 15 word combinations and their coefficients\n",
    "word_coef_df.nsmallest(15, 'coefs')"
   ]
  },
  {
   "cell_type": "code",
   "execution_count": null,
   "metadata": {},
   "outputs": [],
   "source": [
    "#create a dictionary with the probability that a loan will be funded\n",
    "predict_proba_dict = {'probability (success)' : logreg.predict_proba(X_test_tvec)[:,1],\n",
    "                     'prediction' : logreg.predict(X_test_tvec),\n",
    "                     'actual' : y_test,\n",
    "                     'post_text' : X_test}"
   ]
  }
 ],
 "metadata": {
  "kernelspec": {
   "display_name": "Python 3",
   "language": "python",
   "name": "python3"
  },
  "language_info": {
   "codemirror_mode": {
    "name": "ipython",
    "version": 3
   },
   "file_extension": ".py",
   "mimetype": "text/x-python",
   "name": "python",
   "nbconvert_exporter": "python",
   "pygments_lexer": "ipython3",
   "version": "3.7.10"
  }
 },
 "nbformat": 4,
 "nbformat_minor": 4
}
