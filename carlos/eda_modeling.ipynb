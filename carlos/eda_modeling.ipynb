{
 "cells": [
  {
   "cell_type": "code",
   "execution_count": 2,
   "metadata": {},
   "outputs": [],
   "source": [
    "import pandas as pd\n",
    "\n",
    "from sklearn.model_selection import train_test_split\n",
    "from sklearn.neighbors import KNeighborsClassifier, KNeighborsRegressor\n",
    "from sklearn.naive_bayes import MultinomialNB, BernoulliNB\n",
    "import statsmodels.api as sm\n",
    "from sklearn.svm import LinearSVC, SVC, SVR\n",
    "from sklearn.tree import DecisionTreeClassifier, plot_tree\n",
    "from sklearn.ensemble import AdaBoostClassifier, RandomForestClassifier,BaggingRegressor, RandomForestRegressor, AdaBoostRegressor, BaggingClassifier\n",
    "from sklearn.linear_model import LinearRegression, LogisticRegression\n",
    "from sklearn.metrics import mean_squared_error, r2_score, f1_score\n",
    "from sklearn.tree import DecisionTreeRegressor"
   ]
  },
  {
   "cell_type": "code",
   "execution_count": 3,
   "metadata": {},
   "outputs": [],
   "source": [
    "df = pd.read_csv('~/dsi/Submissions/Projects/project-5-group-project-master/kiva_numeric_models.csv')"
   ]
  },
  {
   "cell_type": "code",
   "execution_count": 4,
   "metadata": {},
   "outputs": [
    {
     "data": {
      "text/html": [
       "<div>\n",
       "<style scoped>\n",
       "    .dataframe tbody tr th:only-of-type {\n",
       "        vertical-align: middle;\n",
       "    }\n",
       "\n",
       "    .dataframe tbody tr th {\n",
       "        vertical-align: top;\n",
       "    }\n",
       "\n",
       "    .dataframe thead th {\n",
       "        text-align: right;\n",
       "    }\n",
       "</style>\n",
       "<table border=\"1\" class=\"dataframe\">\n",
       "  <thead>\n",
       "    <tr style=\"text-align: right;\">\n",
       "      <th></th>\n",
       "      <th>ORIGINAL_LANGUAGE</th>\n",
       "      <th>DESCRIPTION_TRANSLATED</th>\n",
       "      <th>LOAN_AMOUNT</th>\n",
       "      <th>STATUS</th>\n",
       "      <th>IMAGE_ID</th>\n",
       "      <th>VIDEO_ID</th>\n",
       "      <th>ACTIVITY_NAME</th>\n",
       "      <th>SECTOR_NAME</th>\n",
       "      <th>LOAN_USE</th>\n",
       "      <th>COUNTRY_CODE</th>\n",
       "      <th>...</th>\n",
       "      <th>DISTRIBUTION_MODEL</th>\n",
       "      <th>word_count_DT</th>\n",
       "      <th>word_count_LU</th>\n",
       "      <th>word_count_tags</th>\n",
       "      <th>char_count_DT</th>\n",
       "      <th>char_count_LU</th>\n",
       "      <th>char_count_tags</th>\n",
       "      <th>FEM_COUNT</th>\n",
       "      <th>MALE_COUNT</th>\n",
       "      <th>month</th>\n",
       "    </tr>\n",
       "  </thead>\n",
       "  <tbody>\n",
       "    <tr>\n",
       "      <th>0</th>\n",
       "      <td>Spanish</td>\n",
       "      <td>The city of Portoviejo is located in the valle...</td>\n",
       "      <td>1075.0</td>\n",
       "      <td>1</td>\n",
       "      <td>1</td>\n",
       "      <td>0</td>\n",
       "      <td>Natural Medicines</td>\n",
       "      <td>Health</td>\n",
       "      <td>to purchase natural products.</td>\n",
       "      <td>EC</td>\n",
       "      <td>...</td>\n",
       "      <td>field_partner</td>\n",
       "      <td>192</td>\n",
       "      <td>4</td>\n",
       "      <td>5</td>\n",
       "      <td>924</td>\n",
       "      <td>26</td>\n",
       "      <td>36</td>\n",
       "      <td>1</td>\n",
       "      <td>1</td>\n",
       "      <td>1</td>\n",
       "    </tr>\n",
       "    <tr>\n",
       "      <th>1</th>\n",
       "      <td>English</td>\n",
       "      <td>Lorna is a married woman, 39 years old with fi...</td>\n",
       "      <td>400.0</td>\n",
       "      <td>0</td>\n",
       "      <td>1</td>\n",
       "      <td>0</td>\n",
       "      <td>Personal Products Sales</td>\n",
       "      <td>Retail</td>\n",
       "      <td>to purchase additional stocks of Avon, Natasha...</td>\n",
       "      <td>PH</td>\n",
       "      <td>...</td>\n",
       "      <td>field_partner</td>\n",
       "      <td>75</td>\n",
       "      <td>12</td>\n",
       "      <td>3</td>\n",
       "      <td>371</td>\n",
       "      <td>69</td>\n",
       "      <td>28</td>\n",
       "      <td>1</td>\n",
       "      <td>1</td>\n",
       "      <td>3</td>\n",
       "    </tr>\n",
       "  </tbody>\n",
       "</table>\n",
       "<p>2 rows × 23 columns</p>\n",
       "</div>"
      ],
      "text/plain": [
       "  ORIGINAL_LANGUAGE                             DESCRIPTION_TRANSLATED  \\\n",
       "0           Spanish  The city of Portoviejo is located in the valle...   \n",
       "1           English  Lorna is a married woman, 39 years old with fi...   \n",
       "\n",
       "   LOAN_AMOUNT  STATUS  IMAGE_ID  VIDEO_ID            ACTIVITY_NAME  \\\n",
       "0       1075.0       1         1         0        Natural Medicines   \n",
       "1        400.0       0         1         0  Personal Products Sales   \n",
       "\n",
       "  SECTOR_NAME                                           LOAN_USE COUNTRY_CODE  \\\n",
       "0      Health                      to purchase natural products.           EC   \n",
       "1      Retail  to purchase additional stocks of Avon, Natasha...           PH   \n",
       "\n",
       "   ...  DISTRIBUTION_MODEL word_count_DT word_count_LU word_count_tags  \\\n",
       "0  ...       field_partner           192             4               5   \n",
       "1  ...       field_partner            75            12               3   \n",
       "\n",
       "   char_count_DT  char_count_LU  char_count_tags  FEM_COUNT  MALE_COUNT  month  \n",
       "0            924             26               36          1           1      1  \n",
       "1            371             69               28          1           1      3  \n",
       "\n",
       "[2 rows x 23 columns]"
      ]
     },
     "execution_count": 4,
     "metadata": {},
     "output_type": "execute_result"
    }
   ],
   "source": [
    "df.head(2)"
   ]
  },
  {
   "cell_type": "code",
   "execution_count": 5,
   "metadata": {},
   "outputs": [
    {
     "data": {
      "text/plain": [
       "(344588, 23)"
      ]
     },
     "execution_count": 5,
     "metadata": {},
     "output_type": "execute_result"
    }
   ],
   "source": [
    "df.shape"
   ]
  },
  {
   "cell_type": "code",
   "execution_count": 6,
   "metadata": {},
   "outputs": [
    {
     "data": {
      "text/plain": [
       "ORIGINAL_LANGUAGE         0\n",
       "DESCRIPTION_TRANSLATED    0\n",
       "LOAN_AMOUNT               0\n",
       "STATUS                    0\n",
       "IMAGE_ID                  0\n",
       "VIDEO_ID                  0\n",
       "ACTIVITY_NAME             0\n",
       "SECTOR_NAME               0\n",
       "LOAN_USE                  0\n",
       "COUNTRY_CODE              0\n",
       "LENDER_TERM               0\n",
       "TAGS                      0\n",
       "REPAYMENT_INTERVAL        0\n",
       "DISTRIBUTION_MODEL        0\n",
       "word_count_DT             0\n",
       "word_count_LU             0\n",
       "word_count_tags           0\n",
       "char_count_DT             0\n",
       "char_count_LU             0\n",
       "char_count_tags           0\n",
       "FEM_COUNT                 0\n",
       "MALE_COUNT                0\n",
       "month                     0\n",
       "dtype: int64"
      ]
     },
     "execution_count": 6,
     "metadata": {},
     "output_type": "execute_result"
    }
   ],
   "source": [
    "df.isnull().sum()"
   ]
  },
  {
   "cell_type": "code",
   "execution_count": 9,
   "metadata": {},
   "outputs": [
    {
     "data": {
      "text/plain": [
       "ORIGINAL_LANGUAGE          object\n",
       "DESCRIPTION_TRANSLATED     object\n",
       "LOAN_AMOUNT               float64\n",
       "STATUS                      int64\n",
       "IMAGE_ID                    int64\n",
       "VIDEO_ID                    int64\n",
       "ACTIVITY_NAME              object\n",
       "SECTOR_NAME                object\n",
       "LOAN_USE                   object\n",
       "COUNTRY_CODE               object\n",
       "LENDER_TERM               float64\n",
       "TAGS                       object\n",
       "REPAYMENT_INTERVAL         object\n",
       "DISTRIBUTION_MODEL         object\n",
       "word_count_DT               int64\n",
       "word_count_LU               int64\n",
       "word_count_tags             int64\n",
       "char_count_DT               int64\n",
       "char_count_LU               int64\n",
       "char_count_tags             int64\n",
       "FEM_COUNT                   int64\n",
       "MALE_COUNT                  int64\n",
       "month                       int64\n",
       "dtype: object"
      ]
     },
     "execution_count": 9,
     "metadata": {},
     "output_type": "execute_result"
    }
   ],
   "source": [
    "df.dtypes"
   ]
  },
  {
   "cell_type": "code",
   "execution_count": 7,
   "metadata": {},
   "outputs": [
    {
     "data": {
      "text/plain": [
       "['ORIGINAL_LANGUAGE',\n",
       " 'DESCRIPTION_TRANSLATED',\n",
       " 'ACTIVITY_NAME',\n",
       " 'SECTOR_NAME',\n",
       " 'LOAN_USE',\n",
       " 'COUNTRY_CODE',\n",
       " 'TAGS',\n",
       " 'REPAYMENT_INTERVAL',\n",
       " 'DISTRIBUTION_MODEL']"
      ]
     },
     "execution_count": 7,
     "metadata": {},
     "output_type": "execute_result"
    }
   ],
   "source": [
    "## Seperating catigorical features\n",
    "\n",
    "cato_features = [feature for feature in df.columns if df[feature].dtypes=='object']\n",
    "cato_features"
   ]
  },
  {
   "cell_type": "code",
   "execution_count": 6,
   "metadata": {},
   "outputs": [
    {
     "data": {
      "text/plain": [
       "['LOAN_AMOUNT',\n",
       " 'STATUS',\n",
       " 'IMAGE_ID',\n",
       " 'VIDEO_ID',\n",
       " 'LENDER_TERM',\n",
       " 'word_count_DT',\n",
       " 'word_count_LU',\n",
       " 'word_count_tags',\n",
       " 'char_count_DT',\n",
       " 'char_count_LU',\n",
       " 'char_count_tags',\n",
       " 'FEM_COUNT',\n",
       " 'MALE_COUNT',\n",
       " 'month']"
      ]
     },
     "execution_count": 6,
     "metadata": {},
     "output_type": "execute_result"
    }
   ],
   "source": [
    "## Seperating numerical features\n",
    "\n",
    "num_features = [feature for feature in df.columns if df[feature].dtypes!='object']\n",
    "num_features"
   ]
  },
  {
   "cell_type": "code",
   "execution_count": 5,
   "metadata": {},
   "outputs": [
    {
     "data": {
      "text/html": [
       "<div>\n",
       "<style scoped>\n",
       "    .dataframe tbody tr th:only-of-type {\n",
       "        vertical-align: middle;\n",
       "    }\n",
       "\n",
       "    .dataframe tbody tr th {\n",
       "        vertical-align: top;\n",
       "    }\n",
       "\n",
       "    .dataframe thead th {\n",
       "        text-align: right;\n",
       "    }\n",
       "</style>\n",
       "<table border=\"1\" class=\"dataframe\">\n",
       "  <thead>\n",
       "    <tr style=\"text-align: right;\">\n",
       "      <th></th>\n",
       "      <th>DESCRIPTION_TRANSLATED</th>\n",
       "      <th>LOAN_AMOUNT</th>\n",
       "      <th>STATUS</th>\n",
       "      <th>IMAGE_ID</th>\n",
       "      <th>VIDEO_ID</th>\n",
       "      <th>LOAN_USE</th>\n",
       "      <th>LENDER_TERM</th>\n",
       "      <th>TAGS</th>\n",
       "      <th>word_count_DT</th>\n",
       "      <th>word_count_LU</th>\n",
       "      <th>...</th>\n",
       "      <th>SECTOR_NAME_Food</th>\n",
       "      <th>SECTOR_NAME_Health</th>\n",
       "      <th>SECTOR_NAME_Housing</th>\n",
       "      <th>SECTOR_NAME_Manufacturing</th>\n",
       "      <th>SECTOR_NAME_Personal Use</th>\n",
       "      <th>SECTOR_NAME_Retail</th>\n",
       "      <th>SECTOR_NAME_Services</th>\n",
       "      <th>SECTOR_NAME_Transportation</th>\n",
       "      <th>SECTOR_NAME_Wholesale</th>\n",
       "      <th>DISTRIBUTION_MODEL_field_partner</th>\n",
       "    </tr>\n",
       "  </thead>\n",
       "  <tbody>\n",
       "    <tr>\n",
       "      <th>0</th>\n",
       "      <td>The city of Portoviejo is located in the valle...</td>\n",
       "      <td>1075.0</td>\n",
       "      <td>1</td>\n",
       "      <td>1</td>\n",
       "      <td>0</td>\n",
       "      <td>to purchase natural products.</td>\n",
       "      <td>6.0</td>\n",
       "      <td>#Repeat Borrower, #Health and Sanitation</td>\n",
       "      <td>192</td>\n",
       "      <td>4</td>\n",
       "      <td>...</td>\n",
       "      <td>0</td>\n",
       "      <td>1</td>\n",
       "      <td>0</td>\n",
       "      <td>0</td>\n",
       "      <td>0</td>\n",
       "      <td>0</td>\n",
       "      <td>0</td>\n",
       "      <td>0</td>\n",
       "      <td>0</td>\n",
       "      <td>1</td>\n",
       "    </tr>\n",
       "    <tr>\n",
       "      <th>1</th>\n",
       "      <td>Lorna is a married woman, 39 years old with fi...</td>\n",
       "      <td>400.0</td>\n",
       "      <td>0</td>\n",
       "      <td>1</td>\n",
       "      <td>0</td>\n",
       "      <td>to purchase additional stocks of Avon, Natasha...</td>\n",
       "      <td>14.0</td>\n",
       "      <td>#Woman-Owned Business, #Parent</td>\n",
       "      <td>75</td>\n",
       "      <td>12</td>\n",
       "      <td>...</td>\n",
       "      <td>0</td>\n",
       "      <td>0</td>\n",
       "      <td>0</td>\n",
       "      <td>0</td>\n",
       "      <td>0</td>\n",
       "      <td>1</td>\n",
       "      <td>0</td>\n",
       "      <td>0</td>\n",
       "      <td>0</td>\n",
       "      <td>1</td>\n",
       "    </tr>\n",
       "  </tbody>\n",
       "</table>\n",
       "<p>2 rows × 291 columns</p>\n",
       "</div>"
      ],
      "text/plain": [
       "                              DESCRIPTION_TRANSLATED  LOAN_AMOUNT  STATUS  \\\n",
       "0  The city of Portoviejo is located in the valle...       1075.0       1   \n",
       "1  Lorna is a married woman, 39 years old with fi...        400.0       0   \n",
       "\n",
       "   IMAGE_ID  VIDEO_ID                                           LOAN_USE  \\\n",
       "0         1         0                      to purchase natural products.   \n",
       "1         1         0  to purchase additional stocks of Avon, Natasha...   \n",
       "\n",
       "   LENDER_TERM                                      TAGS  word_count_DT  \\\n",
       "0          6.0  #Repeat Borrower, #Health and Sanitation            192   \n",
       "1         14.0            #Woman-Owned Business, #Parent             75   \n",
       "\n",
       "   word_count_LU  ...  SECTOR_NAME_Food  SECTOR_NAME_Health  \\\n",
       "0              4  ...                 0                   1   \n",
       "1             12  ...                 0                   0   \n",
       "\n",
       "   SECTOR_NAME_Housing  SECTOR_NAME_Manufacturing  SECTOR_NAME_Personal Use  \\\n",
       "0                    0                          0                         0   \n",
       "1                    0                          0                         0   \n",
       "\n",
       "   SECTOR_NAME_Retail  SECTOR_NAME_Services  SECTOR_NAME_Transportation  \\\n",
       "0                   0                     0                           0   \n",
       "1                   1                     0                           0   \n",
       "\n",
       "   SECTOR_NAME_Wholesale  DISTRIBUTION_MODEL_field_partner  \n",
       "0                      0                                 1  \n",
       "1                      0                                 1  \n",
       "\n",
       "[2 rows x 291 columns]"
      ]
     },
     "execution_count": 5,
     "metadata": {},
     "output_type": "execute_result"
    }
   ],
   "source": [
    "# Dummies for some of the catigorical\n",
    "\n",
    "df_dummies = pd.get_dummies(df, columns=['month','ORIGINAL_LANGUAGE','ACTIVITY_NAME','COUNTRY_CODE','REPAYMENT_INTERVAL','SECTOR_NAME','DISTRIBUTION_MODEL'],drop_first=True)\n",
    "df_dummies.head(2)"
   ]
  },
  {
   "cell_type": "code",
   "execution_count": 32,
   "metadata": {},
   "outputs": [
    {
     "data": {
      "text/plain": [
       "Farming                      41986\n",
       "General Store                27200\n",
       "Personal Housing Expenses    21719\n",
       "Food Production/Sales        13892\n",
       "Retail                       12806\n",
       "                             ...  \n",
       "Celebrations                    10\n",
       "Bookbinding                      8\n",
       "Patchwork                        6\n",
       "Film                             4\n",
       "Adult Care                       3\n",
       "Name: ACTIVITY_NAME, Length: 163, dtype: int64"
      ]
     },
     "execution_count": 32,
     "metadata": {},
     "output_type": "execute_result"
    }
   ],
   "source": [
    "df['ACTIVITY_NAME'].value_counts()"
   ]
  },
  {
   "cell_type": "code",
   "execution_count": 8,
   "metadata": {},
   "outputs": [
    {
     "data": {
      "text/plain": [
       "(200000, 291)"
      ]
     },
     "execution_count": 8,
     "metadata": {},
     "output_type": "execute_result"
    }
   ],
   "source": [
    "# Small sample of df with dummies columns=['month','ORIGINAL_LANGUAGE','ACTIVITY_NAME','COUNTRY_CODE','REPAYMENT_INTERVAL',\n",
    "# 'SECTOR_NAME','DISTRIBUTION_MODEL']\n",
    "\n",
    "df_dummies_small = df_dummies.sample(200_000)\n",
    "df_dummies_small.shape"
   ]
  },
  {
   "cell_type": "code",
   "execution_count": 9,
   "metadata": {},
   "outputs": [
    {
     "data": {
      "text/plain": [
       "(200000, 14)"
      ]
     },
     "execution_count": 9,
     "metadata": {},
     "output_type": "execute_result"
    }
   ],
   "source": [
    "# Small sample of numerical values\n",
    "\n",
    "df_num_small = df[num_features].sample(200_000)\n",
    "df_num_small.shape"
   ]
  },
  {
   "cell_type": "markdown",
   "metadata": {},
   "source": [
    "`Model 1`\n",
    "---\n",
    "`LogReg parameters: Default`\n",
    "\n",
    "`Data: df_num_small (200,000)`"
   ]
  },
  {
   "cell_type": "code",
   "execution_count": 3,
   "metadata": {},
   "outputs": [
    {
     "ename": "NameError",
     "evalue": "name 'df_num_small' is not defined",
     "output_type": "error",
     "traceback": [
      "\u001b[0;31m---------------------------------------------------------------------------\u001b[0m",
      "\u001b[0;31mNameError\u001b[0m                                 Traceback (most recent call last)",
      "\u001b[0;32m<ipython-input-3-43fca5b151ec>\u001b[0m in \u001b[0;36m<module>\u001b[0;34m\u001b[0m\n\u001b[0;32m----> 1\u001b[0;31m \u001b[0mX\u001b[0m \u001b[0;34m=\u001b[0m \u001b[0mdf_num_small\u001b[0m\u001b[0;34m.\u001b[0m\u001b[0mdrop\u001b[0m\u001b[0;34m(\u001b[0m\u001b[0mcolumns\u001b[0m \u001b[0;34m=\u001b[0m \u001b[0;34m[\u001b[0m\u001b[0;34m'STATUS'\u001b[0m\u001b[0;34m]\u001b[0m\u001b[0;34m)\u001b[0m\u001b[0;34m\u001b[0m\u001b[0;34m\u001b[0m\u001b[0m\n\u001b[0m\u001b[1;32m      2\u001b[0m \u001b[0my\u001b[0m \u001b[0;34m=\u001b[0m \u001b[0mdf_num_small\u001b[0m\u001b[0;34m[\u001b[0m\u001b[0;34m'STATUS'\u001b[0m\u001b[0;34m]\u001b[0m\u001b[0;34m\u001b[0m\u001b[0;34m\u001b[0m\u001b[0m\n",
      "\u001b[0;31mNameError\u001b[0m: name 'df_num_small' is not defined"
     ]
    }
   ],
   "source": [
    "X = df_num_small.drop(columns = ['STATUS'])\n",
    "y = df_num_small['STATUS']"
   ]
  },
  {
   "cell_type": "code",
   "execution_count": 31,
   "metadata": {},
   "outputs": [
    {
     "name": "stdout",
     "output_type": "stream",
     "text": [
      "train acc score: 0.80804\n",
      "test acc score: 0.80712\n"
     ]
    },
    {
     "name": "stderr",
     "output_type": "stream",
     "text": [
      "/Users/crivera/opt/anaconda3/lib/python3.8/site-packages/sklearn/linear_model/_logistic.py:762: ConvergenceWarning: lbfgs failed to converge (status=1):\n",
      "STOP: TOTAL NO. of ITERATIONS REACHED LIMIT.\n",
      "\n",
      "Increase the number of iterations (max_iter) or scale the data as shown in:\n",
      "    https://scikit-learn.org/stable/modules/preprocessing.html\n",
      "Please also refer to the documentation for alternative solver options:\n",
      "    https://scikit-learn.org/stable/modules/linear_model.html#logistic-regression\n",
      "  n_iter_i = _check_optimize_result(\n"
     ]
    }
   ],
   "source": [
    "logreg = LogisticRegression()\n",
    "X_train,X_test,y_train,y_test = train_test_split(X,y,random_state = 42, stratify=y)\n",
    "logreg.fit(X_train,y_train)\n",
    "print(f'train acc score: {logreg.score(X_train,y_train)}\\ntest acc score: {logreg.score(X_test,y_test)}')"
   ]
  },
  {
   "cell_type": "code",
   "execution_count": null,
   "metadata": {},
   "outputs": [],
   "source": []
  },
  {
   "cell_type": "markdown",
   "metadata": {},
   "source": [
    "`Model 2`\n",
    "---\n",
    "`LogReg parameters: solver='liblinear', max_iter=500`\n",
    "\n",
    "`Data: df_dummies_small (200,000)`\n"
   ]
  },
  {
   "cell_type": "code",
   "execution_count": null,
   "metadata": {},
   "outputs": [],
   "source": [
    "## Liblinear tends to work better with small datasets"
   ]
  },
  {
   "cell_type": "code",
   "execution_count": 38,
   "metadata": {},
   "outputs": [],
   "source": [
    "X = df_dummies_small.drop(columns = ['STATUS','DESCRIPTION_TRANSLATED','TAGS','LOAN_USE'])\n",
    "y = df_dummies_small['STATUS']"
   ]
  },
  {
   "cell_type": "code",
   "execution_count": 41,
   "metadata": {},
   "outputs": [
    {
     "name": "stdout",
     "output_type": "stream",
     "text": [
      "train acc score: 0.8341266666666667\n",
      "test acc score: 0.83406\n"
     ]
    }
   ],
   "source": [
    "logreg = LogisticRegression(solver='liblinear', max_iter=500)\n",
    "X_train,X_test,y_train,y_test = train_test_split(X,y,random_state = 42, stratify=y)\n",
    "logreg.fit(X_train,y_train)\n",
    "print(f'train acc score: {logreg.score(X_train,y_train)}\\ntest acc score: {logreg.score(X_test,y_test)}')"
   ]
  },
  {
   "cell_type": "code",
   "execution_count": null,
   "metadata": {},
   "outputs": [],
   "source": []
  },
  {
   "cell_type": "markdown",
   "metadata": {},
   "source": [
    "`Model 3`\n",
    "---\n",
    "`Mutliple Regressors: All default parameters`"
   ]
  },
  {
   "cell_type": "code",
   "execution_count": 33,
   "metadata": {},
   "outputs": [],
   "source": [
    "X = df_dummies_small.drop(columns = ['STATUS','DESCRIPTION_TRANSLATED','TAGS','LOAN_USE'])\n",
    "y = df_dummies_small['STATUS']\n",
    "X_train,X_test,y_train,y_test = train_test_split(X,y,random_state = 42, stratify=y)"
   ]
  },
  {
   "cell_type": "code",
   "execution_count": 34,
   "metadata": {},
   "outputs": [],
   "source": [
    "lr = LogisticRegression()\n",
    "knn = KNeighborsClassifier()\n",
    "dt = DecisionTreeClassifier()\n",
    "bdt = BaggingClassifier()\n",
    "rf = RandomForestClassifier()\n",
    "adb = AdaBoostClassifier()\n",
    "svr = SVC()"
   ]
  },
  {
   "cell_type": "code",
   "execution_count": 35,
   "metadata": {},
   "outputs": [],
   "source": [
    "sc = StandardScaler()\n",
    "X_train_sc = sc.fit_transform(X_train)\n",
    "X_test_sc = sc.transform(X_test)"
   ]
  },
  {
   "cell_type": "code",
   "execution_count": 39,
   "metadata": {},
   "outputs": [],
   "source": [
    "reg = [\n",
    "#         LogisticRegression(),\n",
    "#        KNeighborsClassifier(),\n",
    "#        DecisionTreeClassifier(),\n",
    "#        BaggingClassifier(),\n",
    "       RandomForestClassifier()\n",
    "#        AdaBoostClassifier(),\n",
    "#        SVC()\n",
    "]"
   ]
  },
  {
   "cell_type": "code",
   "execution_count": 40,
   "metadata": {},
   "outputs": [],
   "source": [
    "def models(X_train,X_test,y_train,y_test,reg_list):   \n",
    "    \n",
    "    train_score=[]\n",
    "    test_score=[]\n",
    "    train_RMSE=[]\n",
    "    test_RMSE=[]\n",
    "    \n",
    "    for reg in reg_list:\n",
    "        \n",
    "        reg.fit(X_train,y_train)\n",
    "        train_score.append(reg.score(X_train,y_train))\n",
    "        test_score.append(reg.score(X_test,y_test))\n",
    "        train_pred = reg.predict(X_train)\n",
    "        train_RMSE.append(mean_squared_error(y_train,train_pred))\n",
    "        test_pred = reg.predict(X_test)\n",
    "        test_RMSE.append(mean_squared_error(y_test,test_pred))\n",
    "        \n",
    "    return pd.DataFrame(data=[train_score, test_score, train_RMSE, test_RMSE],\n",
    "                 index=['train_score', 'test_score','train_RMSE','test_RMSE'],\n",
    "                 columns=[str(c) for c in reg_list]).T"
   ]
  },
  {
   "cell_type": "code",
   "execution_count": 41,
   "metadata": {},
   "outputs": [
    {
     "data": {
      "text/html": [
       "<div>\n",
       "<style scoped>\n",
       "    .dataframe tbody tr th:only-of-type {\n",
       "        vertical-align: middle;\n",
       "    }\n",
       "\n",
       "    .dataframe tbody tr th {\n",
       "        vertical-align: top;\n",
       "    }\n",
       "\n",
       "    .dataframe thead th {\n",
       "        text-align: right;\n",
       "    }\n",
       "</style>\n",
       "<table border=\"1\" class=\"dataframe\">\n",
       "  <thead>\n",
       "    <tr style=\"text-align: right;\">\n",
       "      <th></th>\n",
       "      <th>train_score</th>\n",
       "      <th>test_score</th>\n",
       "      <th>train_RMSE</th>\n",
       "      <th>test_RMSE</th>\n",
       "    </tr>\n",
       "  </thead>\n",
       "  <tbody>\n",
       "    <tr>\n",
       "      <th>RandomForestRegressor()</th>\n",
       "      <td>0.912567</td>\n",
       "      <td>0.381234</td>\n",
       "      <td>0.013632</td>\n",
       "      <td>0.096472</td>\n",
       "    </tr>\n",
       "  </tbody>\n",
       "</table>\n",
       "</div>"
      ],
      "text/plain": [
       "                         train_score  test_score  train_RMSE  test_RMSE\n",
       "RandomForestRegressor()     0.912567    0.381234    0.013632   0.096472"
      ]
     },
     "execution_count": 41,
     "metadata": {},
     "output_type": "execute_result"
    }
   ],
   "source": [
    "models(X_train,X_test, y_train,y_test, reg_list)"
   ]
  },
  {
   "cell_type": "code",
   "execution_count": null,
   "metadata": {},
   "outputs": [],
   "source": []
  },
  {
   "cell_type": "code",
   "execution_count": null,
   "metadata": {},
   "outputs": [],
   "source": []
  },
  {
   "cell_type": "code",
   "execution_count": null,
   "metadata": {},
   "outputs": [],
   "source": []
  },
  {
   "cell_type": "code",
   "execution_count": 42,
   "metadata": {},
   "outputs": [
    {
     "data": {
      "text/plain": [
       "Farming                      41986\n",
       "General Store                27200\n",
       "Personal Housing Expenses    21719\n",
       "Food Production/Sales        13892\n",
       "Retail                       12806\n",
       "                             ...  \n",
       "Celebrations                    10\n",
       "Bookbinding                      8\n",
       "Patchwork                        6\n",
       "Film                             4\n",
       "Adult Care                       3\n",
       "Name: ACTIVITY_NAME, Length: 163, dtype: int64"
      ]
     },
     "execution_count": 42,
     "metadata": {},
     "output_type": "execute_result"
    }
   ],
   "source": [
    "df['ACTIVITY_NAME'].value_counts()"
   ]
  },
  {
   "cell_type": "code",
   "execution_count": 44,
   "metadata": {},
   "outputs": [
    {
     "data": {
      "text/html": [
       "<div>\n",
       "<style scoped>\n",
       "    .dataframe tbody tr th:only-of-type {\n",
       "        vertical-align: middle;\n",
       "    }\n",
       "\n",
       "    .dataframe tbody tr th {\n",
       "        vertical-align: top;\n",
       "    }\n",
       "\n",
       "    .dataframe thead th {\n",
       "        text-align: right;\n",
       "    }\n",
       "</style>\n",
       "<table border=\"1\" class=\"dataframe\">\n",
       "  <thead>\n",
       "    <tr style=\"text-align: right;\">\n",
       "      <th></th>\n",
       "      <th>ACTIVITY_NAME</th>\n",
       "    </tr>\n",
       "  </thead>\n",
       "  <tbody>\n",
       "    <tr>\n",
       "      <th>count</th>\n",
       "      <td>344588</td>\n",
       "    </tr>\n",
       "    <tr>\n",
       "      <th>unique</th>\n",
       "      <td>163</td>\n",
       "    </tr>\n",
       "    <tr>\n",
       "      <th>top</th>\n",
       "      <td>Farming</td>\n",
       "    </tr>\n",
       "    <tr>\n",
       "      <th>freq</th>\n",
       "      <td>41986</td>\n",
       "    </tr>\n",
       "  </tbody>\n",
       "</table>\n",
       "</div>"
      ],
      "text/plain": [
       "       ACTIVITY_NAME\n",
       "count         344588\n",
       "unique           163\n",
       "top          Farming\n",
       "freq           41986"
      ]
     },
     "execution_count": 44,
     "metadata": {},
     "output_type": "execute_result"
    }
   ],
   "source": [
    "df[['ACTIVITY_NAME']].describe()"
   ]
  },
  {
   "cell_type": "code",
   "execution_count": 47,
   "metadata": {},
   "outputs": [
    {
     "data": {
      "text/html": [
       "<div>\n",
       "<style scoped>\n",
       "    .dataframe tbody tr th:only-of-type {\n",
       "        vertical-align: middle;\n",
       "    }\n",
       "\n",
       "    .dataframe tbody tr th {\n",
       "        vertical-align: top;\n",
       "    }\n",
       "\n",
       "    .dataframe thead th {\n",
       "        text-align: right;\n",
       "    }\n",
       "</style>\n",
       "<table border=\"1\" class=\"dataframe\">\n",
       "  <thead>\n",
       "    <tr style=\"text-align: right;\">\n",
       "      <th></th>\n",
       "      <th>COUNTRY_CODE</th>\n",
       "    </tr>\n",
       "  </thead>\n",
       "  <tbody>\n",
       "    <tr>\n",
       "      <th>count</th>\n",
       "      <td>344588</td>\n",
       "    </tr>\n",
       "    <tr>\n",
       "      <th>unique</th>\n",
       "      <td>84</td>\n",
       "    </tr>\n",
       "    <tr>\n",
       "      <th>top</th>\n",
       "      <td>PH</td>\n",
       "    </tr>\n",
       "    <tr>\n",
       "      <th>freq</th>\n",
       "      <td>59281</td>\n",
       "    </tr>\n",
       "  </tbody>\n",
       "</table>\n",
       "</div>"
      ],
      "text/plain": [
       "       COUNTRY_CODE\n",
       "count        344588\n",
       "unique           84\n",
       "top              PH\n",
       "freq          59281"
      ]
     },
     "execution_count": 47,
     "metadata": {},
     "output_type": "execute_result"
    }
   ],
   "source": [
    "df[['COUNTRY_CODE']].describe()"
   ]
  },
  {
   "cell_type": "code",
   "execution_count": 7,
   "metadata": {},
   "outputs": [
    {
     "data": {
      "text/html": [
       "<div>\n",
       "<style scoped>\n",
       "    .dataframe tbody tr th:only-of-type {\n",
       "        vertical-align: middle;\n",
       "    }\n",
       "\n",
       "    .dataframe tbody tr th {\n",
       "        vertical-align: top;\n",
       "    }\n",
       "\n",
       "    .dataframe thead th {\n",
       "        text-align: right;\n",
       "    }\n",
       "</style>\n",
       "<table border=\"1\" class=\"dataframe\">\n",
       "  <thead>\n",
       "    <tr style=\"text-align: right;\">\n",
       "      <th></th>\n",
       "      <th>ORIGINAL_LANGUAGE</th>\n",
       "      <th>DESCRIPTION_TRANSLATED</th>\n",
       "      <th>LOAN_AMOUNT</th>\n",
       "      <th>STATUS</th>\n",
       "      <th>IMAGE_ID</th>\n",
       "      <th>VIDEO_ID</th>\n",
       "      <th>ACTIVITY_NAME</th>\n",
       "      <th>SECTOR_NAME</th>\n",
       "      <th>LOAN_USE</th>\n",
       "      <th>COUNTRY_CODE</th>\n",
       "      <th>...</th>\n",
       "      <th>DISTRIBUTION_MODEL</th>\n",
       "      <th>word_count_DT</th>\n",
       "      <th>word_count_LU</th>\n",
       "      <th>word_count_tags</th>\n",
       "      <th>char_count_DT</th>\n",
       "      <th>char_count_LU</th>\n",
       "      <th>char_count_tags</th>\n",
       "      <th>FEM_COUNT</th>\n",
       "      <th>MALE_COUNT</th>\n",
       "      <th>month</th>\n",
       "    </tr>\n",
       "  </thead>\n",
       "  <tbody>\n",
       "    <tr>\n",
       "      <th>27198</th>\n",
       "      <td>English</td>\n",
       "      <td>Abdeljabbar is a 28-year-old single Syrian ref...</td>\n",
       "      <td>1500.0</td>\n",
       "      <td>1</td>\n",
       "      <td>1</td>\n",
       "      <td>0</td>\n",
       "      <td>Celebrations</td>\n",
       "      <td>Personal Use</td>\n",
       "      <td>to pay for the expenses of his engagement cere...</td>\n",
       "      <td>LB</td>\n",
       "      <td>...</td>\n",
       "      <td>field_partner</td>\n",
       "      <td>106</td>\n",
       "      <td>9</td>\n",
       "      <td>5</td>\n",
       "      <td>482</td>\n",
       "      <td>43</td>\n",
       "      <td>59</td>\n",
       "      <td>0</td>\n",
       "      <td>1</td>\n",
       "      <td>1</td>\n",
       "    </tr>\n",
       "    <tr>\n",
       "      <th>59686</th>\n",
       "      <td>English</td>\n",
       "      <td>Wadhah is a hardworking young man who lives wi...</td>\n",
       "      <td>200.0</td>\n",
       "      <td>1</td>\n",
       "      <td>1</td>\n",
       "      <td>0</td>\n",
       "      <td>Celebrations</td>\n",
       "      <td>Personal Use</td>\n",
       "      <td>to purchase different foodstuffs for his famil...</td>\n",
       "      <td>YE</td>\n",
       "      <td>...</td>\n",
       "      <td>field_partner</td>\n",
       "      <td>215</td>\n",
       "      <td>18</td>\n",
       "      <td>1</td>\n",
       "      <td>1021</td>\n",
       "      <td>101</td>\n",
       "      <td>7</td>\n",
       "      <td>0</td>\n",
       "      <td>1</td>\n",
       "      <td>6</td>\n",
       "    </tr>\n",
       "    <tr>\n",
       "      <th>74292</th>\n",
       "      <td>English</td>\n",
       "      <td>Chanle is 22 years old and single. He is a gar...</td>\n",
       "      <td>1300.0</td>\n",
       "      <td>1</td>\n",
       "      <td>1</td>\n",
       "      <td>0</td>\n",
       "      <td>Celebrations</td>\n",
       "      <td>Personal Use</td>\n",
       "      <td>to pay for wedding celebrations for his family.</td>\n",
       "      <td>KH</td>\n",
       "      <td>...</td>\n",
       "      <td>field_partner</td>\n",
       "      <td>100</td>\n",
       "      <td>8</td>\n",
       "      <td>5</td>\n",
       "      <td>457</td>\n",
       "      <td>40</td>\n",
       "      <td>57</td>\n",
       "      <td>0</td>\n",
       "      <td>1</td>\n",
       "      <td>4</td>\n",
       "    </tr>\n",
       "    <tr>\n",
       "      <th>102918</th>\n",
       "      <td>English</td>\n",
       "      <td>Marina is 49 years old. She is a happy mother ...</td>\n",
       "      <td>1875.0</td>\n",
       "      <td>1</td>\n",
       "      <td>1</td>\n",
       "      <td>0</td>\n",
       "      <td>Celebrations</td>\n",
       "      <td>Personal Use</td>\n",
       "      <td>a divorced mother to organize a party for her ...</td>\n",
       "      <td>AL</td>\n",
       "      <td>...</td>\n",
       "      <td>field_partner</td>\n",
       "      <td>197</td>\n",
       "      <td>21</td>\n",
       "      <td>5</td>\n",
       "      <td>869</td>\n",
       "      <td>99</td>\n",
       "      <td>49</td>\n",
       "      <td>1</td>\n",
       "      <td>1</td>\n",
       "      <td>6</td>\n",
       "    </tr>\n",
       "    <tr>\n",
       "      <th>125185</th>\n",
       "      <td>English</td>\n",
       "      <td>Leonard is a 26-year-old man from the vulnerab...</td>\n",
       "      <td>1400.0</td>\n",
       "      <td>1</td>\n",
       "      <td>1</td>\n",
       "      <td>0</td>\n",
       "      <td>Celebrations</td>\n",
       "      <td>Personal Use</td>\n",
       "      <td>to help a member of the vulnerable Roma commun...</td>\n",
       "      <td>AL</td>\n",
       "      <td>...</td>\n",
       "      <td>field_partner</td>\n",
       "      <td>154</td>\n",
       "      <td>16</td>\n",
       "      <td>4</td>\n",
       "      <td>711</td>\n",
       "      <td>76</td>\n",
       "      <td>44</td>\n",
       "      <td>0</td>\n",
       "      <td>1</td>\n",
       "      <td>7</td>\n",
       "    </tr>\n",
       "    <tr>\n",
       "      <th>176139</th>\n",
       "      <td>English</td>\n",
       "      <td>Kabibi is a married mother of one child, who a...</td>\n",
       "      <td>100.0</td>\n",
       "      <td>1</td>\n",
       "      <td>1</td>\n",
       "      <td>0</td>\n",
       "      <td>Celebrations</td>\n",
       "      <td>Personal Use</td>\n",
       "      <td>to purchase some foodstuffs for the Ramadan ce...</td>\n",
       "      <td>KE</td>\n",
       "      <td>...</td>\n",
       "      <td>field_partner</td>\n",
       "      <td>111</td>\n",
       "      <td>8</td>\n",
       "      <td>1</td>\n",
       "      <td>540</td>\n",
       "      <td>50</td>\n",
       "      <td>7</td>\n",
       "      <td>1</td>\n",
       "      <td>1</td>\n",
       "      <td>7</td>\n",
       "    </tr>\n",
       "    <tr>\n",
       "      <th>221851</th>\n",
       "      <td>English</td>\n",
       "      <td>Greetings from Huwaida! She is a 30-year-old m...</td>\n",
       "      <td>1025.0</td>\n",
       "      <td>1</td>\n",
       "      <td>1</td>\n",
       "      <td>0</td>\n",
       "      <td>Celebrations</td>\n",
       "      <td>Personal Use</td>\n",
       "      <td>to prepare for the birth of her first child, w...</td>\n",
       "      <td>LB</td>\n",
       "      <td>...</td>\n",
       "      <td>field_partner</td>\n",
       "      <td>160</td>\n",
       "      <td>13</td>\n",
       "      <td>1</td>\n",
       "      <td>760</td>\n",
       "      <td>62</td>\n",
       "      <td>13</td>\n",
       "      <td>1</td>\n",
       "      <td>1</td>\n",
       "      <td>2</td>\n",
       "    </tr>\n",
       "    <tr>\n",
       "      <th>242755</th>\n",
       "      <td>English</td>\n",
       "      <td>Naomi is a single mother of 2 children and she...</td>\n",
       "      <td>100.0</td>\n",
       "      <td>1</td>\n",
       "      <td>1</td>\n",
       "      <td>0</td>\n",
       "      <td>Celebrations</td>\n",
       "      <td>Personal Use</td>\n",
       "      <td>to buy a goat for a celebration during the Eas...</td>\n",
       "      <td>KE</td>\n",
       "      <td>...</td>\n",
       "      <td>field_partner</td>\n",
       "      <td>108</td>\n",
       "      <td>14</td>\n",
       "      <td>4</td>\n",
       "      <td>475</td>\n",
       "      <td>61</td>\n",
       "      <td>30</td>\n",
       "      <td>1</td>\n",
       "      <td>1</td>\n",
       "      <td>5</td>\n",
       "    </tr>\n",
       "    <tr>\n",
       "      <th>277316</th>\n",
       "      <td>English</td>\n",
       "      <td>Raafat is a 30-year-old single Palestinian who...</td>\n",
       "      <td>1000.0</td>\n",
       "      <td>1</td>\n",
       "      <td>1</td>\n",
       "      <td>0</td>\n",
       "      <td>Celebrations</td>\n",
       "      <td>Personal Use</td>\n",
       "      <td>to pay for his engagement expenses.</td>\n",
       "      <td>LB</td>\n",
       "      <td>...</td>\n",
       "      <td>field_partner</td>\n",
       "      <td>91</td>\n",
       "      <td>6</td>\n",
       "      <td>3</td>\n",
       "      <td>416</td>\n",
       "      <td>30</td>\n",
       "      <td>41</td>\n",
       "      <td>0</td>\n",
       "      <td>1</td>\n",
       "      <td>0</td>\n",
       "    </tr>\n",
       "    <tr>\n",
       "      <th>338753</th>\n",
       "      <td>English</td>\n",
       "      <td>Estela is 65 years old, married and a mother o...</td>\n",
       "      <td>800.0</td>\n",
       "      <td>1</td>\n",
       "      <td>1</td>\n",
       "      <td>0</td>\n",
       "      <td>Celebrations</td>\n",
       "      <td>Personal Use</td>\n",
       "      <td>to pay for the upcoming wedding of her son, an...</td>\n",
       "      <td>PH</td>\n",
       "      <td>...</td>\n",
       "      <td>field_partner</td>\n",
       "      <td>145</td>\n",
       "      <td>19</td>\n",
       "      <td>3</td>\n",
       "      <td>692</td>\n",
       "      <td>82</td>\n",
       "      <td>24</td>\n",
       "      <td>1</td>\n",
       "      <td>1</td>\n",
       "      <td>1</td>\n",
       "    </tr>\n",
       "  </tbody>\n",
       "</table>\n",
       "<p>10 rows × 23 columns</p>\n",
       "</div>"
      ],
      "text/plain": [
       "       ORIGINAL_LANGUAGE                             DESCRIPTION_TRANSLATED  \\\n",
       "27198            English  Abdeljabbar is a 28-year-old single Syrian ref...   \n",
       "59686            English  Wadhah is a hardworking young man who lives wi...   \n",
       "74292            English  Chanle is 22 years old and single. He is a gar...   \n",
       "102918           English  Marina is 49 years old. She is a happy mother ...   \n",
       "125185           English  Leonard is a 26-year-old man from the vulnerab...   \n",
       "176139           English  Kabibi is a married mother of one child, who a...   \n",
       "221851           English  Greetings from Huwaida! She is a 30-year-old m...   \n",
       "242755           English  Naomi is a single mother of 2 children and she...   \n",
       "277316           English  Raafat is a 30-year-old single Palestinian who...   \n",
       "338753           English  Estela is 65 years old, married and a mother o...   \n",
       "\n",
       "        LOAN_AMOUNT  STATUS  IMAGE_ID  VIDEO_ID ACTIVITY_NAME   SECTOR_NAME  \\\n",
       "27198        1500.0       1         1         0  Celebrations  Personal Use   \n",
       "59686         200.0       1         1         0  Celebrations  Personal Use   \n",
       "74292        1300.0       1         1         0  Celebrations  Personal Use   \n",
       "102918       1875.0       1         1         0  Celebrations  Personal Use   \n",
       "125185       1400.0       1         1         0  Celebrations  Personal Use   \n",
       "176139        100.0       1         1         0  Celebrations  Personal Use   \n",
       "221851       1025.0       1         1         0  Celebrations  Personal Use   \n",
       "242755        100.0       1         1         0  Celebrations  Personal Use   \n",
       "277316       1000.0       1         1         0  Celebrations  Personal Use   \n",
       "338753        800.0       1         1         0  Celebrations  Personal Use   \n",
       "\n",
       "                                                 LOAN_USE COUNTRY_CODE  ...  \\\n",
       "27198   to pay for the expenses of his engagement cere...           LB  ...   \n",
       "59686   to purchase different foodstuffs for his famil...           YE  ...   \n",
       "74292     to pay for wedding celebrations for his family.           KH  ...   \n",
       "102918  a divorced mother to organize a party for her ...           AL  ...   \n",
       "125185  to help a member of the vulnerable Roma commun...           AL  ...   \n",
       "176139  to purchase some foodstuffs for the Ramadan ce...           KE  ...   \n",
       "221851  to prepare for the birth of her first child, w...           LB  ...   \n",
       "242755  to buy a goat for a celebration during the Eas...           KE  ...   \n",
       "277316               to pay for his engagement expenses.            LB  ...   \n",
       "338753  to pay for the upcoming wedding of her son, an...           PH  ...   \n",
       "\n",
       "        DISTRIBUTION_MODEL word_count_DT word_count_LU word_count_tags  \\\n",
       "27198        field_partner           106             9               5   \n",
       "59686        field_partner           215            18               1   \n",
       "74292        field_partner           100             8               5   \n",
       "102918       field_partner           197            21               5   \n",
       "125185       field_partner           154            16               4   \n",
       "176139       field_partner           111             8               1   \n",
       "221851       field_partner           160            13               1   \n",
       "242755       field_partner           108            14               4   \n",
       "277316       field_partner            91             6               3   \n",
       "338753       field_partner           145            19               3   \n",
       "\n",
       "        char_count_DT  char_count_LU  char_count_tags  FEM_COUNT  MALE_COUNT  \\\n",
       "27198             482             43               59          0           1   \n",
       "59686            1021            101                7          0           1   \n",
       "74292             457             40               57          0           1   \n",
       "102918            869             99               49          1           1   \n",
       "125185            711             76               44          0           1   \n",
       "176139            540             50                7          1           1   \n",
       "221851            760             62               13          1           1   \n",
       "242755            475             61               30          1           1   \n",
       "277316            416             30               41          0           1   \n",
       "338753            692             82               24          1           1   \n",
       "\n",
       "        month  \n",
       "27198       1  \n",
       "59686       6  \n",
       "74292       4  \n",
       "102918      6  \n",
       "125185      7  \n",
       "176139      7  \n",
       "221851      2  \n",
       "242755      5  \n",
       "277316      0  \n",
       "338753      1  \n",
       "\n",
       "[10 rows x 23 columns]"
      ]
     },
     "execution_count": 7,
     "metadata": {},
     "output_type": "execute_result"
    }
   ],
   "source": [
    "df.loc[df['ACTIVITY_NAME']=='Celebrations',:]"
   ]
  },
  {
   "cell_type": "code",
   "execution_count": null,
   "metadata": {},
   "outputs": [],
   "source": []
  }
 ],
 "metadata": {
  "kernelspec": {
   "display_name": "Python 3",
   "language": "python",
   "name": "python3"
  },
  "language_info": {
   "codemirror_mode": {
    "name": "ipython",
    "version": 3
   },
   "file_extension": ".py",
   "mimetype": "text/x-python",
   "name": "python",
   "nbconvert_exporter": "python",
   "pygments_lexer": "ipython3",
   "version": "3.8.5"
  }
 },
 "nbformat": 4,
 "nbformat_minor": 4
}
