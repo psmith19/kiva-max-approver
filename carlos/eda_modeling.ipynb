{
 "cells": [
  {
   "cell_type": "code",
   "execution_count": 1,
   "metadata": {},
   "outputs": [],
   "source": [
    "import pandas as pd\n",
    "import numpy as np\n",
    "import matplotlib.pyplot as plt\n",
    "\n",
    "\n",
    "from sklearn.model_selection import train_test_split\n",
    "from sklearn.neighbors import KNeighborsClassifier, KNeighborsRegressor\n",
    "from sklearn.naive_bayes import MultinomialNB, BernoulliNB\n",
    "import statsmodels.api as sm\n",
    "from sklearn.svm import LinearSVC, SVC, SVR\n",
    "from sklearn.tree import DecisionTreeClassifier, plot_tree\n",
    "from sklearn.ensemble import AdaBoostClassifier, RandomForestClassifier,BaggingRegressor, RandomForestRegressor, AdaBoostRegressor, BaggingClassifier\n",
    "from sklearn.linear_model import LinearRegression, LogisticRegression\n",
    "from sklearn.metrics import mean_squared_error, r2_score, f1_score\n",
    "from sklearn.tree import DecisionTreeRegressor\n",
    "from sklearn.preprocessing import StandardScaler"
   ]
  },
  {
   "cell_type": "code",
   "execution_count": 2,
   "metadata": {},
   "outputs": [],
   "source": [
    "df = pd.read_csv('~/dsi/Submissions/Projects/project-5-group-project-master/kiva_numeric_models.csv')"
   ]
  },
  {
   "cell_type": "code",
   "execution_count": 4,
   "metadata": {},
   "outputs": [
    {
     "data": {
      "text/html": [
       "<div>\n",
       "<style scoped>\n",
       "    .dataframe tbody tr th:only-of-type {\n",
       "        vertical-align: middle;\n",
       "    }\n",
       "\n",
       "    .dataframe tbody tr th {\n",
       "        vertical-align: top;\n",
       "    }\n",
       "\n",
       "    .dataframe thead th {\n",
       "        text-align: right;\n",
       "    }\n",
       "</style>\n",
       "<table border=\"1\" class=\"dataframe\">\n",
       "  <thead>\n",
       "    <tr style=\"text-align: right;\">\n",
       "      <th></th>\n",
       "      <th>ORIGINAL_LANGUAGE</th>\n",
       "      <th>DESCRIPTION_TRANSLATED</th>\n",
       "      <th>LOAN_AMOUNT</th>\n",
       "      <th>STATUS</th>\n",
       "      <th>IMAGE_ID</th>\n",
       "      <th>VIDEO_ID</th>\n",
       "      <th>ACTIVITY_NAME</th>\n",
       "      <th>SECTOR_NAME</th>\n",
       "      <th>LOAN_USE</th>\n",
       "      <th>COUNTRY_CODE</th>\n",
       "      <th>...</th>\n",
       "      <th>DISTRIBUTION_MODEL</th>\n",
       "      <th>word_count_DT</th>\n",
       "      <th>word_count_LU</th>\n",
       "      <th>word_count_tags</th>\n",
       "      <th>char_count_DT</th>\n",
       "      <th>char_count_LU</th>\n",
       "      <th>char_count_tags</th>\n",
       "      <th>FEM_COUNT</th>\n",
       "      <th>MALE_COUNT</th>\n",
       "      <th>month</th>\n",
       "    </tr>\n",
       "  </thead>\n",
       "  <tbody>\n",
       "    <tr>\n",
       "      <th>0</th>\n",
       "      <td>Spanish</td>\n",
       "      <td>The city of Portoviejo is located in the valle...</td>\n",
       "      <td>1075.0</td>\n",
       "      <td>1</td>\n",
       "      <td>1</td>\n",
       "      <td>0</td>\n",
       "      <td>Natural Medicines</td>\n",
       "      <td>Health</td>\n",
       "      <td>to purchase natural products.</td>\n",
       "      <td>EC</td>\n",
       "      <td>...</td>\n",
       "      <td>field_partner</td>\n",
       "      <td>192</td>\n",
       "      <td>4</td>\n",
       "      <td>5</td>\n",
       "      <td>924</td>\n",
       "      <td>26</td>\n",
       "      <td>36</td>\n",
       "      <td>1</td>\n",
       "      <td>1</td>\n",
       "      <td>1</td>\n",
       "    </tr>\n",
       "    <tr>\n",
       "      <th>1</th>\n",
       "      <td>English</td>\n",
       "      <td>Lorna is a married woman, 39 years old with fi...</td>\n",
       "      <td>400.0</td>\n",
       "      <td>0</td>\n",
       "      <td>1</td>\n",
       "      <td>0</td>\n",
       "      <td>Personal Products Sales</td>\n",
       "      <td>Retail</td>\n",
       "      <td>to purchase additional stocks of Avon, Natasha...</td>\n",
       "      <td>PH</td>\n",
       "      <td>...</td>\n",
       "      <td>field_partner</td>\n",
       "      <td>75</td>\n",
       "      <td>12</td>\n",
       "      <td>3</td>\n",
       "      <td>371</td>\n",
       "      <td>69</td>\n",
       "      <td>28</td>\n",
       "      <td>1</td>\n",
       "      <td>1</td>\n",
       "      <td>3</td>\n",
       "    </tr>\n",
       "  </tbody>\n",
       "</table>\n",
       "<p>2 rows × 23 columns</p>\n",
       "</div>"
      ],
      "text/plain": [
       "  ORIGINAL_LANGUAGE                             DESCRIPTION_TRANSLATED  \\\n",
       "0           Spanish  The city of Portoviejo is located in the valle...   \n",
       "1           English  Lorna is a married woman, 39 years old with fi...   \n",
       "\n",
       "   LOAN_AMOUNT  STATUS  IMAGE_ID  VIDEO_ID            ACTIVITY_NAME  \\\n",
       "0       1075.0       1         1         0        Natural Medicines   \n",
       "1        400.0       0         1         0  Personal Products Sales   \n",
       "\n",
       "  SECTOR_NAME                                           LOAN_USE COUNTRY_CODE  \\\n",
       "0      Health                      to purchase natural products.           EC   \n",
       "1      Retail  to purchase additional stocks of Avon, Natasha...           PH   \n",
       "\n",
       "   ...  DISTRIBUTION_MODEL word_count_DT word_count_LU word_count_tags  \\\n",
       "0  ...       field_partner           192             4               5   \n",
       "1  ...       field_partner            75            12               3   \n",
       "\n",
       "   char_count_DT  char_count_LU  char_count_tags  FEM_COUNT  MALE_COUNT  month  \n",
       "0            924             26               36          1           1      1  \n",
       "1            371             69               28          1           1      3  \n",
       "\n",
       "[2 rows x 23 columns]"
      ]
     },
     "execution_count": 4,
     "metadata": {},
     "output_type": "execute_result"
    }
   ],
   "source": [
    "df.head(2)"
   ]
  },
  {
   "cell_type": "code",
   "execution_count": 5,
   "metadata": {},
   "outputs": [
    {
     "data": {
      "text/plain": [
       "(344588, 23)"
      ]
     },
     "execution_count": 5,
     "metadata": {},
     "output_type": "execute_result"
    }
   ],
   "source": [
    "df.shape"
   ]
  },
  {
   "cell_type": "code",
   "execution_count": 6,
   "metadata": {},
   "outputs": [
    {
     "data": {
      "text/plain": [
       "ORIGINAL_LANGUAGE         0\n",
       "DESCRIPTION_TRANSLATED    0\n",
       "LOAN_AMOUNT               0\n",
       "STATUS                    0\n",
       "IMAGE_ID                  0\n",
       "VIDEO_ID                  0\n",
       "ACTIVITY_NAME             0\n",
       "SECTOR_NAME               0\n",
       "LOAN_USE                  0\n",
       "COUNTRY_CODE              0\n",
       "LENDER_TERM               0\n",
       "TAGS                      0\n",
       "REPAYMENT_INTERVAL        0\n",
       "DISTRIBUTION_MODEL        0\n",
       "word_count_DT             0\n",
       "word_count_LU             0\n",
       "word_count_tags           0\n",
       "char_count_DT             0\n",
       "char_count_LU             0\n",
       "char_count_tags           0\n",
       "FEM_COUNT                 0\n",
       "MALE_COUNT                0\n",
       "month                     0\n",
       "dtype: int64"
      ]
     },
     "execution_count": 6,
     "metadata": {},
     "output_type": "execute_result"
    }
   ],
   "source": [
    "df.isnull().sum()"
   ]
  },
  {
   "cell_type": "code",
   "execution_count": 26,
   "metadata": {},
   "outputs": [
    {
     "data": {
      "text/plain": [
       "ORIGINAL_LANGUAGE          object\n",
       "DESCRIPTION_TRANSLATED     object\n",
       "LOAN_AMOUNT               float64\n",
       "STATUS                      int64\n",
       "IMAGE_ID                    int64\n",
       "VIDEO_ID                    int64\n",
       "ACTIVITY_NAME              object\n",
       "SECTOR_NAME                object\n",
       "LOAN_USE                   object\n",
       "COUNTRY_CODE               object\n",
       "LENDER_TERM               float64\n",
       "TAGS                       object\n",
       "REPAYMENT_INTERVAL         object\n",
       "DISTRIBUTION_MODEL         object\n",
       "word_count_DT               int64\n",
       "word_count_LU               int64\n",
       "word_count_tags             int64\n",
       "char_count_DT               int64\n",
       "char_count_LU               int64\n",
       "char_count_tags             int64\n",
       "FEM_COUNT                   int64\n",
       "MALE_COUNT                  int64\n",
       "month                       int64\n",
       "dtype: object"
      ]
     },
     "execution_count": 26,
     "metadata": {},
     "output_type": "execute_result"
    }
   ],
   "source": [
    "df.dtypes"
   ]
  },
  {
   "cell_type": "code",
   "execution_count": 3,
   "metadata": {},
   "outputs": [
    {
     "data": {
      "text/plain": [
       "['ORIGINAL_LANGUAGE',\n",
       " 'DESCRIPTION_TRANSLATED',\n",
       " 'ACTIVITY_NAME',\n",
       " 'SECTOR_NAME',\n",
       " 'LOAN_USE',\n",
       " 'COUNTRY_CODE',\n",
       " 'TAGS',\n",
       " 'REPAYMENT_INTERVAL',\n",
       " 'DISTRIBUTION_MODEL']"
      ]
     },
     "execution_count": 3,
     "metadata": {},
     "output_type": "execute_result"
    }
   ],
   "source": [
    "## Seperating catigorical features\n",
    "\n",
    "cato_features = [feature for feature in df.columns if df[feature].dtypes=='object']\n",
    "cato_features"
   ]
  },
  {
   "cell_type": "code",
   "execution_count": 4,
   "metadata": {},
   "outputs": [
    {
     "data": {
      "text/plain": [
       "['LOAN_AMOUNT',\n",
       " 'STATUS',\n",
       " 'IMAGE_ID',\n",
       " 'VIDEO_ID',\n",
       " 'LENDER_TERM',\n",
       " 'word_count_DT',\n",
       " 'word_count_LU',\n",
       " 'word_count_tags',\n",
       " 'char_count_DT',\n",
       " 'char_count_LU',\n",
       " 'char_count_tags',\n",
       " 'FEM_COUNT',\n",
       " 'MALE_COUNT',\n",
       " 'month']"
      ]
     },
     "execution_count": 4,
     "metadata": {},
     "output_type": "execute_result"
    }
   ],
   "source": [
    "## Seperating numerical features\n",
    "\n",
    "num_features = [feature for feature in df.columns if df[feature].dtypes!='object']\n",
    "num_features"
   ]
  },
  {
   "cell_type": "code",
   "execution_count": 9,
   "metadata": {
    "scrolled": true
   },
   "outputs": [
    {
     "data": {
      "text/html": [
       "<div>\n",
       "<style scoped>\n",
       "    .dataframe tbody tr th:only-of-type {\n",
       "        vertical-align: middle;\n",
       "    }\n",
       "\n",
       "    .dataframe tbody tr th {\n",
       "        vertical-align: top;\n",
       "    }\n",
       "\n",
       "    .dataframe thead th {\n",
       "        text-align: right;\n",
       "    }\n",
       "</style>\n",
       "<table border=\"1\" class=\"dataframe\">\n",
       "  <thead>\n",
       "    <tr style=\"text-align: right;\">\n",
       "      <th></th>\n",
       "      <th>DESCRIPTION_TRANSLATED</th>\n",
       "      <th>LOAN_AMOUNT</th>\n",
       "      <th>STATUS</th>\n",
       "      <th>IMAGE_ID</th>\n",
       "      <th>VIDEO_ID</th>\n",
       "      <th>LOAN_USE</th>\n",
       "      <th>LENDER_TERM</th>\n",
       "      <th>TAGS</th>\n",
       "      <th>word_count_DT</th>\n",
       "      <th>word_count_LU</th>\n",
       "      <th>...</th>\n",
       "      <th>SECTOR_NAME_Food</th>\n",
       "      <th>SECTOR_NAME_Health</th>\n",
       "      <th>SECTOR_NAME_Housing</th>\n",
       "      <th>SECTOR_NAME_Manufacturing</th>\n",
       "      <th>SECTOR_NAME_Personal Use</th>\n",
       "      <th>SECTOR_NAME_Retail</th>\n",
       "      <th>SECTOR_NAME_Services</th>\n",
       "      <th>SECTOR_NAME_Transportation</th>\n",
       "      <th>SECTOR_NAME_Wholesale</th>\n",
       "      <th>DISTRIBUTION_MODEL_field_partner</th>\n",
       "    </tr>\n",
       "  </thead>\n",
       "  <tbody>\n",
       "    <tr>\n",
       "      <th>0</th>\n",
       "      <td>The city of Portoviejo is located in the valle...</td>\n",
       "      <td>1075.0</td>\n",
       "      <td>1</td>\n",
       "      <td>1</td>\n",
       "      <td>0</td>\n",
       "      <td>to purchase natural products.</td>\n",
       "      <td>6.0</td>\n",
       "      <td>#Repeat Borrower, #Health and Sanitation</td>\n",
       "      <td>192</td>\n",
       "      <td>4</td>\n",
       "      <td>...</td>\n",
       "      <td>0</td>\n",
       "      <td>1</td>\n",
       "      <td>0</td>\n",
       "      <td>0</td>\n",
       "      <td>0</td>\n",
       "      <td>0</td>\n",
       "      <td>0</td>\n",
       "      <td>0</td>\n",
       "      <td>0</td>\n",
       "      <td>1</td>\n",
       "    </tr>\n",
       "    <tr>\n",
       "      <th>1</th>\n",
       "      <td>Lorna is a married woman, 39 years old with fi...</td>\n",
       "      <td>400.0</td>\n",
       "      <td>0</td>\n",
       "      <td>1</td>\n",
       "      <td>0</td>\n",
       "      <td>to purchase additional stocks of Avon, Natasha...</td>\n",
       "      <td>14.0</td>\n",
       "      <td>#Woman-Owned Business, #Parent</td>\n",
       "      <td>75</td>\n",
       "      <td>12</td>\n",
       "      <td>...</td>\n",
       "      <td>0</td>\n",
       "      <td>0</td>\n",
       "      <td>0</td>\n",
       "      <td>0</td>\n",
       "      <td>0</td>\n",
       "      <td>1</td>\n",
       "      <td>0</td>\n",
       "      <td>0</td>\n",
       "      <td>0</td>\n",
       "      <td>1</td>\n",
       "    </tr>\n",
       "  </tbody>\n",
       "</table>\n",
       "<p>2 rows × 120 columns</p>\n",
       "</div>"
      ],
      "text/plain": [
       "                              DESCRIPTION_TRANSLATED  LOAN_AMOUNT  STATUS  \\\n",
       "0  The city of Portoviejo is located in the valle...       1075.0       1   \n",
       "1  Lorna is a married woman, 39 years old with fi...        400.0       0   \n",
       "\n",
       "   IMAGE_ID  VIDEO_ID                                           LOAN_USE  \\\n",
       "0         1         0                      to purchase natural products.   \n",
       "1         1         0  to purchase additional stocks of Avon, Natasha...   \n",
       "\n",
       "   LENDER_TERM                                      TAGS  word_count_DT  \\\n",
       "0          6.0  #Repeat Borrower, #Health and Sanitation            192   \n",
       "1         14.0            #Woman-Owned Business, #Parent             75   \n",
       "\n",
       "   word_count_LU  ...  SECTOR_NAME_Food  SECTOR_NAME_Health  \\\n",
       "0              4  ...                 0                   1   \n",
       "1             12  ...                 0                   0   \n",
       "\n",
       "   SECTOR_NAME_Housing  SECTOR_NAME_Manufacturing  SECTOR_NAME_Personal Use  \\\n",
       "0                    0                          0                         0   \n",
       "1                    0                          0                         0   \n",
       "\n",
       "   SECTOR_NAME_Retail  SECTOR_NAME_Services  SECTOR_NAME_Transportation  \\\n",
       "0                   0                     0                           0   \n",
       "1                   1                     0                           0   \n",
       "\n",
       "   SECTOR_NAME_Wholesale  DISTRIBUTION_MODEL_field_partner  \n",
       "0                      0                                 1  \n",
       "1                      0                                 1  \n",
       "\n",
       "[2 rows x 120 columns]"
      ]
     },
     "execution_count": 9,
     "metadata": {},
     "output_type": "execute_result"
    }
   ],
   "source": [
    "# Dummies for some of the catigorical\n",
    "\n",
    "df_dummies = pd.get_dummies(df, columns=['month','ORIGINAL_LANGUAGE','ACTIVITY_NAME','COUNTRY_CODE','REPAYMENT_INTERVAL','SECTOR_NAME','DISTRIBUTION_MODEL'],drop_first=True)\n",
    "df_dummies.head(2)"
   ]
  },
  {
   "cell_type": "code",
   "execution_count": 32,
   "metadata": {},
   "outputs": [
    {
     "data": {
      "text/plain": [
       "Farming                      41986\n",
       "General Store                27200\n",
       "Personal Housing Expenses    21719\n",
       "Food Production/Sales        13892\n",
       "Retail                       12806\n",
       "                             ...  \n",
       "Celebrations                    10\n",
       "Bookbinding                      8\n",
       "Patchwork                        6\n",
       "Film                             4\n",
       "Adult Care                       3\n",
       "Name: ACTIVITY_NAME, Length: 163, dtype: int64"
      ]
     },
     "execution_count": 32,
     "metadata": {},
     "output_type": "execute_result"
    }
   ],
   "source": [
    "df['ACTIVITY_NAME'].value_counts()"
   ]
  },
  {
   "cell_type": "code",
   "execution_count": 6,
   "metadata": {},
   "outputs": [
    {
     "data": {
      "text/plain": [
       "(200000, 291)"
      ]
     },
     "execution_count": 6,
     "metadata": {},
     "output_type": "execute_result"
    }
   ],
   "source": [
    "# Small sample of df with dummies columns=['month','ORIGINAL_LANGUAGE','ACTIVITY_NAME','COUNTRY_CODE','REPAYMENT_INTERVAL',\n",
    "# 'SECTOR_NAME','DISTRIBUTION_MODEL']\n",
    "\n",
    "df_dummies_small = df_dummies.sample(200_000)\n",
    "df_dummies_small.shape"
   ]
  },
  {
   "cell_type": "code",
   "execution_count": 23,
   "metadata": {},
   "outputs": [
    {
     "data": {
      "text/plain": [
       "(200000, 14)"
      ]
     },
     "execution_count": 23,
     "metadata": {},
     "output_type": "execute_result"
    }
   ],
   "source": [
    "# Small sample of numerical values\n",
    "\n",
    "df_num_small = df[num_features].sample(200_000)\n",
    "df_num_small.shape"
   ]
  },
  {
   "cell_type": "markdown",
   "metadata": {},
   "source": [
    "`Model 1`\n",
    "---\n",
    "`LogReg parameters: Default`\n",
    "\n",
    "`Data: df_num_small (200,000)`"
   ]
  },
  {
   "cell_type": "code",
   "execution_count": 24,
   "metadata": {},
   "outputs": [],
   "source": [
    "X = df_num_small.drop(columns = ['STATUS'])\n",
    "y = df_num_small['STATUS']"
   ]
  },
  {
   "cell_type": "code",
   "execution_count": 25,
   "metadata": {},
   "outputs": [
    {
     "name": "stdout",
     "output_type": "stream",
     "text": [
      "train acc score: 0.8081266666666667\n",
      "test acc score: 0.8088\n"
     ]
    },
    {
     "name": "stderr",
     "output_type": "stream",
     "text": [
      "/Users/crivera/opt/anaconda3/lib/python3.8/site-packages/sklearn/linear_model/_logistic.py:762: ConvergenceWarning: lbfgs failed to converge (status=1):\n",
      "STOP: TOTAL NO. of ITERATIONS REACHED LIMIT.\n",
      "\n",
      "Increase the number of iterations (max_iter) or scale the data as shown in:\n",
      "    https://scikit-learn.org/stable/modules/preprocessing.html\n",
      "Please also refer to the documentation for alternative solver options:\n",
      "    https://scikit-learn.org/stable/modules/linear_model.html#logistic-regression\n",
      "  n_iter_i = _check_optimize_result(\n"
     ]
    }
   ],
   "source": [
    "logreg = LogisticRegression()\n",
    "X_train,X_test,y_train,y_test = train_test_split(X,y,random_state = 42, stratify=y)\n",
    "logreg.fit(X_train,y_train)\n",
    "print(f'train acc score: {logreg.score(X_train,y_train)}\\ntest acc score: {logreg.score(X_test,y_test)}')"
   ]
  },
  {
   "cell_type": "code",
   "execution_count": null,
   "metadata": {},
   "outputs": [],
   "source": []
  },
  {
   "cell_type": "markdown",
   "metadata": {},
   "source": [
    "`Model 2`\n",
    "---\n",
    "`LogReg parameters: solver='liblinear', max_iter=500`\n",
    "\n",
    "`Data: df_dummies_small (200,000)`\n"
   ]
  },
  {
   "cell_type": "code",
   "execution_count": null,
   "metadata": {},
   "outputs": [],
   "source": [
    "## Liblinear tends to work better with small datasets"
   ]
  },
  {
   "cell_type": "code",
   "execution_count": 38,
   "metadata": {},
   "outputs": [],
   "source": [
    "X = df_dummies_small.drop(columns = ['STATUS','DESCRIPTION_TRANSLATED','TAGS','LOAN_USE'])\n",
    "y = df_dummies_small['STATUS']"
   ]
  },
  {
   "cell_type": "code",
   "execution_count": 41,
   "metadata": {},
   "outputs": [
    {
     "name": "stdout",
     "output_type": "stream",
     "text": [
      "train acc score: 0.8341266666666667\n",
      "test acc score: 0.83406\n"
     ]
    }
   ],
   "source": [
    "logreg = LogisticRegression(solver='liblinear', max_iter=500)\n",
    "X_train,X_test,y_train,y_test = train_test_split(X,y,random_state = 42, stratify=y)\n",
    "logreg.fit(X_train,y_train)\n",
    "print(f'train acc score: {logreg.score(X_train,y_train)}\\ntest acc score: {logreg.score(X_test,y_test)}')"
   ]
  },
  {
   "cell_type": "code",
   "execution_count": null,
   "metadata": {},
   "outputs": [],
   "source": []
  },
  {
   "cell_type": "markdown",
   "metadata": {},
   "source": [
    "`Model 3`\n",
    "---\n",
    "`Mutliple Regressors: All default parameters`"
   ]
  },
  {
   "cell_type": "code",
   "execution_count": 16,
   "metadata": {},
   "outputs": [],
   "source": [
    "X = df_dummies_small.drop(columns = ['STATUS','DESCRIPTION_TRANSLATED','TAGS','LOAN_USE'])\n",
    "y = df_dummies_small['STATUS']\n",
    "X_train,X_test,y_train,y_test = train_test_split(X,y,random_state = 42, stratify=y)"
   ]
  },
  {
   "cell_type": "code",
   "execution_count": 17,
   "metadata": {},
   "outputs": [],
   "source": [
    "lr = LogisticRegression()\n",
    "knn = KNeighborsClassifier()\n",
    "dt = DecisionTreeClassifier()\n",
    "bdt = BaggingClassifier()\n",
    "rf = RandomForestClassifier()\n",
    "adb = AdaBoostClassifier()\n",
    "svr = SVC()"
   ]
  },
  {
   "cell_type": "code",
   "execution_count": 18,
   "metadata": {},
   "outputs": [],
   "source": [
    "sc = StandardScaler()\n",
    "X_train_sc = sc.fit_transform(X_train)\n",
    "X_test_sc = sc.transform(X_test)"
   ]
  },
  {
   "cell_type": "code",
   "execution_count": 19,
   "metadata": {},
   "outputs": [],
   "source": [
    "reg = [\n",
    "#         LogisticRegression(),\n",
    "       KNeighborsClassifier(),\n",
    "       DecisionTreeClassifier(),\n",
    "#        BaggingClassifier(),\n",
    "       RandomForestClassifier(),\n",
    "       AdaBoostClassifier()\n",
    "#        SVC()\n",
    "]"
   ]
  },
  {
   "cell_type": "code",
   "execution_count": 20,
   "metadata": {},
   "outputs": [],
   "source": [
    "def models(X_train,X_test,y_train,y_test,reg_list):   \n",
    "    \n",
    "    train_score=[]\n",
    "    test_score=[]\n",
    "    train_RMSE=[]\n",
    "    test_RMSE=[]\n",
    "    \n",
    "    for reg in reg_list:\n",
    "        \n",
    "        reg.fit(X_train,y_train)\n",
    "        train_score.append(reg.score(X_train,y_train))\n",
    "        test_score.append(reg.score(X_test,y_test))\n",
    "        train_pred = reg.predict(X_train)\n",
    "        train_RMSE.append(mean_squared_error(y_train,train_pred))\n",
    "        test_pred = reg.predict(X_test)\n",
    "        test_RMSE.append(mean_squared_error(y_test,test_pred))\n",
    "        \n",
    "    return pd.DataFrame(data=[train_score, test_score, train_RMSE, test_RMSE],\n",
    "                 index=['train_score', 'test_score','train_RMSE','test_RMSE'],\n",
    "                 columns=[str(c) for c in reg_list]).T"
   ]
  },
  {
   "cell_type": "code",
   "execution_count": 21,
   "metadata": {},
   "outputs": [
    {
     "data": {
      "text/html": [
       "<div>\n",
       "<style scoped>\n",
       "    .dataframe tbody tr th:only-of-type {\n",
       "        vertical-align: middle;\n",
       "    }\n",
       "\n",
       "    .dataframe tbody tr th {\n",
       "        vertical-align: top;\n",
       "    }\n",
       "\n",
       "    .dataframe thead th {\n",
       "        text-align: right;\n",
       "    }\n",
       "</style>\n",
       "<table border=\"1\" class=\"dataframe\">\n",
       "  <thead>\n",
       "    <tr style=\"text-align: right;\">\n",
       "      <th></th>\n",
       "      <th>train_score</th>\n",
       "      <th>test_score</th>\n",
       "      <th>train_RMSE</th>\n",
       "      <th>test_RMSE</th>\n",
       "    </tr>\n",
       "  </thead>\n",
       "  <tbody>\n",
       "    <tr>\n",
       "      <th>KNeighborsClassifier()</th>\n",
       "      <td>0.850020</td>\n",
       "      <td>0.78812</td>\n",
       "      <td>0.149980</td>\n",
       "      <td>0.21188</td>\n",
       "    </tr>\n",
       "    <tr>\n",
       "      <th>DecisionTreeClassifier()</th>\n",
       "      <td>0.999993</td>\n",
       "      <td>0.81466</td>\n",
       "      <td>0.000007</td>\n",
       "      <td>0.18534</td>\n",
       "    </tr>\n",
       "    <tr>\n",
       "      <th>RandomForestClassifier()</th>\n",
       "      <td>0.999987</td>\n",
       "      <td>0.86398</td>\n",
       "      <td>0.000013</td>\n",
       "      <td>0.13602</td>\n",
       "    </tr>\n",
       "    <tr>\n",
       "      <th>AdaBoostClassifier()</th>\n",
       "      <td>0.843253</td>\n",
       "      <td>0.84330</td>\n",
       "      <td>0.156747</td>\n",
       "      <td>0.15670</td>\n",
       "    </tr>\n",
       "  </tbody>\n",
       "</table>\n",
       "</div>"
      ],
      "text/plain": [
       "                          train_score  test_score  train_RMSE  test_RMSE\n",
       "KNeighborsClassifier()       0.850020     0.78812    0.149980    0.21188\n",
       "DecisionTreeClassifier()     0.999993     0.81466    0.000007    0.18534\n",
       "RandomForestClassifier()     0.999987     0.86398    0.000013    0.13602\n",
       "AdaBoostClassifier()         0.843253     0.84330    0.156747    0.15670"
      ]
     },
     "execution_count": 21,
     "metadata": {},
     "output_type": "execute_result"
    }
   ],
   "source": [
    "models(X_train,X_test, y_train,y_test, reg)"
   ]
  },
  {
   "cell_type": "code",
   "execution_count": null,
   "metadata": {},
   "outputs": [],
   "source": []
  },
  {
   "cell_type": "code",
   "execution_count": null,
   "metadata": {},
   "outputs": [],
   "source": []
  },
  {
   "cell_type": "code",
   "execution_count": 118,
   "metadata": {},
   "outputs": [
    {
     "data": {
      "image/png": "[encoded data removed]",
      "text/plain": [
       "<Figure size 432x288 with 1 Axes>"
      ]
     },
     "metadata": {
      "needs_background": "light"
     },
     "output_type": "display_data"
    }
   ],
   "source": [
    "df['ACTIVITY_NAME'].value_counts().plot.barh();"
   ]
  },
  {
   "cell_type": "code",
   "execution_count": 40,
   "metadata": {},
   "outputs": [
    {
     "name": "stdout",
     "output_type": "stream",
     "text": [
      "4884.134099292447\n",
      "2114.036809815951\n",
      "41986\n",
      "3\n"
     ]
    }
   ],
   "source": [
    "print(df['ACTIVITY_NAME'].value_counts().std())\n",
    "print(df['ACTIVITY_NAME'].value_counts().mean())\n",
    "print(df['ACTIVITY_NAME'].value_counts().max())\n",
    "print(df['ACTIVITY_NAME'].value_counts().min())"
   ]
  },
  {
   "cell_type": "code",
   "execution_count": 24,
   "metadata": {},
   "outputs": [
    {
     "data": {
      "image/png": "[encoded data removed]",
      "text/plain": [
       "<Figure size 432x288 with 1 Axes>"
      ]
     },
     "metadata": {
      "needs_background": "light"
     },
     "output_type": "display_data"
    }
   ],
   "source": [
    "df['COUNTRY_CODE'].value_counts().plot.barh();"
   ]
  },
  {
   "cell_type": "code",
   "execution_count": 41,
   "metadata": {},
   "outputs": [
    {
     "name": "stdout",
     "output_type": "stream",
     "text": [
      "8521.289265000243\n",
      "4102.238095238095\n",
      "59281\n",
      "1\n"
     ]
    }
   ],
   "source": [
    "print(df['COUNTRY_CODE'].value_counts().std())\n",
    "print(df['COUNTRY_CODE'].value_counts().mean())\n",
    "print(df['COUNTRY_CODE'].value_counts().max())\n",
    "print(df['COUNTRY_CODE'].value_counts().min())"
   ]
  },
  {
   "cell_type": "code",
   "execution_count": 113,
   "metadata": {},
   "outputs": [
    {
     "data": {
      "text/plain": [
       "35"
      ]
     },
     "execution_count": 113,
     "metadata": {},
     "output_type": "execute_result"
    }
   ],
   "source": [
    "sum(df['COUNTRY_CODE'].value_counts()>=2000)"
   ]
  },
  {
   "cell_type": "code",
   "execution_count": 114,
   "metadata": {},
   "outputs": [
    {
     "data": {
      "text/plain": [
       "37"
      ]
     },
     "execution_count": 114,
     "metadata": {},
     "output_type": "execute_result"
    }
   ],
   "source": [
    "sum(df['ACTIVITY_NAME'].value_counts()>=2000)"
   ]
  },
  {
   "cell_type": "code",
   "execution_count": 7,
   "metadata": {},
   "outputs": [],
   "source": [
    "cond = df['ACTIVITY_NAME'].value_counts()\n",
    "threshold = 2000\n",
    "df['ACTIVITY_NAME'] = np.where(df['ACTIVITY_NAME'].isin(cond.index[cond >= threshold ]), df['ACTIVITY_NAME'], 'misc_activity_name')"
   ]
  },
  {
   "cell_type": "code",
   "execution_count": 8,
   "metadata": {},
   "outputs": [],
   "source": [
    "cond = df['COUNTRY_CODE'].value_counts()\n",
    "threshold = 2000\n",
    "df['COUNTRY_CODE'] = np.where(df['COUNTRY_CODE'].isin(cond.index[cond >= threshold ]), df['COUNTRY_CODE'], 'misc_country_code')"
   ]
  },
  {
   "cell_type": "code",
   "execution_count": 127,
   "metadata": {},
   "outputs": [
    {
     "data": {
      "image/png": "[encoded data removed]",
      "text/plain": [
       "<Figure size 720x504 with 1 Axes>"
      ]
     },
     "metadata": {
      "needs_background": "light"
     },
     "output_type": "display_data"
    }
   ],
   "source": [
    "plt.figure(figsize = (10,7))\n",
    "df['ACTIVITY_NAME'].value_counts().plot.barh();"
   ]
  },
  {
   "cell_type": "code",
   "execution_count": 129,
   "metadata": {},
   "outputs": [
    {
     "data": {
      "image/png": "[encoded data removed]",
      "text/plain": [
       "<Figure size 720x504 with 1 Axes>"
      ]
     },
     "metadata": {
      "needs_background": "light"
     },
     "output_type": "display_data"
    }
   ],
   "source": [
    "plt.figure(figsize = (10,7))\n",
    "df['COUNTRY_CODE'].value_counts().plot.barh();"
   ]
  },
  {
   "cell_type": "code",
   "execution_count": 131,
   "metadata": {},
   "outputs": [
    {
     "data": {
      "text/html": [
       "<div>\n",
       "<style scoped>\n",
       "    .dataframe tbody tr th:only-of-type {\n",
       "        vertical-align: middle;\n",
       "    }\n",
       "\n",
       "    .dataframe tbody tr th {\n",
       "        vertical-align: top;\n",
       "    }\n",
       "\n",
       "    .dataframe thead th {\n",
       "        text-align: right;\n",
       "    }\n",
       "</style>\n",
       "<table border=\"1\" class=\"dataframe\">\n",
       "  <thead>\n",
       "    <tr style=\"text-align: right;\">\n",
       "      <th></th>\n",
       "      <th>ORIGINAL_LANGUAGE</th>\n",
       "      <th>DESCRIPTION_TRANSLATED</th>\n",
       "      <th>LOAN_AMOUNT</th>\n",
       "      <th>STATUS</th>\n",
       "      <th>IMAGE_ID</th>\n",
       "      <th>VIDEO_ID</th>\n",
       "      <th>ACTIVITY_NAME</th>\n",
       "      <th>SECTOR_NAME</th>\n",
       "      <th>LOAN_USE</th>\n",
       "      <th>COUNTRY_CODE</th>\n",
       "      <th>...</th>\n",
       "      <th>DISTRIBUTION_MODEL</th>\n",
       "      <th>word_count_DT</th>\n",
       "      <th>word_count_LU</th>\n",
       "      <th>word_count_tags</th>\n",
       "      <th>char_count_DT</th>\n",
       "      <th>char_count_LU</th>\n",
       "      <th>char_count_tags</th>\n",
       "      <th>FEM_COUNT</th>\n",
       "      <th>MALE_COUNT</th>\n",
       "      <th>month</th>\n",
       "    </tr>\n",
       "  </thead>\n",
       "  <tbody>\n",
       "    <tr>\n",
       "      <th>0</th>\n",
       "      <td>Spanish</td>\n",
       "      <td>The city of Portoviejo is located in the valle...</td>\n",
       "      <td>1075.0</td>\n",
       "      <td>1</td>\n",
       "      <td>1</td>\n",
       "      <td>0</td>\n",
       "      <td>misc_activity_name</td>\n",
       "      <td>Health</td>\n",
       "      <td>to purchase natural products.</td>\n",
       "      <td>EC</td>\n",
       "      <td>...</td>\n",
       "      <td>field_partner</td>\n",
       "      <td>192</td>\n",
       "      <td>4</td>\n",
       "      <td>5</td>\n",
       "      <td>924</td>\n",
       "      <td>26</td>\n",
       "      <td>36</td>\n",
       "      <td>1</td>\n",
       "      <td>1</td>\n",
       "      <td>1</td>\n",
       "    </tr>\n",
       "    <tr>\n",
       "      <th>1</th>\n",
       "      <td>English</td>\n",
       "      <td>Lorna is a married woman, 39 years old with fi...</td>\n",
       "      <td>400.0</td>\n",
       "      <td>0</td>\n",
       "      <td>1</td>\n",
       "      <td>0</td>\n",
       "      <td>misc_activity_name</td>\n",
       "      <td>Retail</td>\n",
       "      <td>to purchase additional stocks of Avon, Natasha...</td>\n",
       "      <td>PH</td>\n",
       "      <td>...</td>\n",
       "      <td>field_partner</td>\n",
       "      <td>75</td>\n",
       "      <td>12</td>\n",
       "      <td>3</td>\n",
       "      <td>371</td>\n",
       "      <td>69</td>\n",
       "      <td>28</td>\n",
       "      <td>1</td>\n",
       "      <td>1</td>\n",
       "      <td>3</td>\n",
       "    </tr>\n",
       "  </tbody>\n",
       "</table>\n",
       "<p>2 rows × 23 columns</p>\n",
       "</div>"
      ],
      "text/plain": [
       "  ORIGINAL_LANGUAGE                             DESCRIPTION_TRANSLATED  \\\n",
       "0           Spanish  The city of Portoviejo is located in the valle...   \n",
       "1           English  Lorna is a married woman, 39 years old with fi...   \n",
       "\n",
       "   LOAN_AMOUNT  STATUS  IMAGE_ID  VIDEO_ID       ACTIVITY_NAME SECTOR_NAME  \\\n",
       "0       1075.0       1         1         0  misc_activity_name      Health   \n",
       "1        400.0       0         1         0  misc_activity_name      Retail   \n",
       "\n",
       "                                            LOAN_USE COUNTRY_CODE  ...  \\\n",
       "0                      to purchase natural products.           EC  ...   \n",
       "1  to purchase additional stocks of Avon, Natasha...           PH  ...   \n",
       "\n",
       "   DISTRIBUTION_MODEL word_count_DT word_count_LU word_count_tags  \\\n",
       "0       field_partner           192             4               5   \n",
       "1       field_partner            75            12               3   \n",
       "\n",
       "   char_count_DT  char_count_LU  char_count_tags  FEM_COUNT  MALE_COUNT  month  \n",
       "0            924             26               36          1           1      1  \n",
       "1            371             69               28          1           1      3  \n",
       "\n",
       "[2 rows x 23 columns]"
      ]
     },
     "execution_count": 131,
     "metadata": {},
     "output_type": "execute_result"
    }
   ],
   "source": [
    "df.loc[df['ACTIVITY_NAME']=='misc_activity_name',:].head(2)"
   ]
  },
  {
   "cell_type": "code",
   "execution_count": 132,
   "metadata": {},
   "outputs": [
    {
     "data": {
      "text/html": [
       "<div>\n",
       "<style scoped>\n",
       "    .dataframe tbody tr th:only-of-type {\n",
       "        vertical-align: middle;\n",
       "    }\n",
       "\n",
       "    .dataframe tbody tr th {\n",
       "        vertical-align: top;\n",
       "    }\n",
       "\n",
       "    .dataframe thead th {\n",
       "        text-align: right;\n",
       "    }\n",
       "</style>\n",
       "<table border=\"1\" class=\"dataframe\">\n",
       "  <thead>\n",
       "    <tr style=\"text-align: right;\">\n",
       "      <th></th>\n",
       "      <th>ORIGINAL_LANGUAGE</th>\n",
       "      <th>DESCRIPTION_TRANSLATED</th>\n",
       "      <th>LOAN_AMOUNT</th>\n",
       "      <th>STATUS</th>\n",
       "      <th>IMAGE_ID</th>\n",
       "      <th>VIDEO_ID</th>\n",
       "      <th>ACTIVITY_NAME</th>\n",
       "      <th>SECTOR_NAME</th>\n",
       "      <th>LOAN_USE</th>\n",
       "      <th>COUNTRY_CODE</th>\n",
       "      <th>...</th>\n",
       "      <th>DISTRIBUTION_MODEL</th>\n",
       "      <th>word_count_DT</th>\n",
       "      <th>word_count_LU</th>\n",
       "      <th>word_count_tags</th>\n",
       "      <th>char_count_DT</th>\n",
       "      <th>char_count_LU</th>\n",
       "      <th>char_count_tags</th>\n",
       "      <th>FEM_COUNT</th>\n",
       "      <th>MALE_COUNT</th>\n",
       "      <th>month</th>\n",
       "    </tr>\n",
       "  </thead>\n",
       "  <tbody>\n",
       "    <tr>\n",
       "      <th>36</th>\n",
       "      <td>English</td>\n",
       "      <td>Laila is 39, married, and has four children. H...</td>\n",
       "      <td>575.0</td>\n",
       "      <td>1</td>\n",
       "      <td>1</td>\n",
       "      <td>0</td>\n",
       "      <td>Cattle</td>\n",
       "      <td>Agriculture</td>\n",
       "      <td>to buy a head of cattle</td>\n",
       "      <td>misc_country_code</td>\n",
       "      <td>...</td>\n",
       "      <td>field_partner</td>\n",
       "      <td>72</td>\n",
       "      <td>6</td>\n",
       "      <td>8</td>\n",
       "      <td>322</td>\n",
       "      <td>18</td>\n",
       "      <td>68</td>\n",
       "      <td>1</td>\n",
       "      <td>1</td>\n",
       "      <td>2</td>\n",
       "    </tr>\n",
       "    <tr>\n",
       "      <th>70</th>\n",
       "      <td>English</td>\n",
       "      <td>Esmat is 23, married and has a child. His wife...</td>\n",
       "      <td>625.0</td>\n",
       "      <td>1</td>\n",
       "      <td>1</td>\n",
       "      <td>0</td>\n",
       "      <td>Cattle</td>\n",
       "      <td>Agriculture</td>\n",
       "      <td>to buy a head of cattle to develop his busines...</td>\n",
       "      <td>misc_country_code</td>\n",
       "      <td>...</td>\n",
       "      <td>field_partner</td>\n",
       "      <td>97</td>\n",
       "      <td>23</td>\n",
       "      <td>7</td>\n",
       "      <td>426</td>\n",
       "      <td>97</td>\n",
       "      <td>76</td>\n",
       "      <td>0</td>\n",
       "      <td>1</td>\n",
       "      <td>9</td>\n",
       "    </tr>\n",
       "  </tbody>\n",
       "</table>\n",
       "<p>2 rows × 23 columns</p>\n",
       "</div>"
      ],
      "text/plain": [
       "   ORIGINAL_LANGUAGE                             DESCRIPTION_TRANSLATED  \\\n",
       "36           English  Laila is 39, married, and has four children. H...   \n",
       "70           English  Esmat is 23, married and has a child. His wife...   \n",
       "\n",
       "    LOAN_AMOUNT  STATUS  IMAGE_ID  VIDEO_ID ACTIVITY_NAME  SECTOR_NAME  \\\n",
       "36        575.0       1         1         0        Cattle  Agriculture   \n",
       "70        625.0       1         1         0        Cattle  Agriculture   \n",
       "\n",
       "                                             LOAN_USE       COUNTRY_CODE  ...  \\\n",
       "36                            to buy a head of cattle  misc_country_code  ...   \n",
       "70  to buy a head of cattle to develop his busines...  misc_country_code  ...   \n",
       "\n",
       "    DISTRIBUTION_MODEL word_count_DT word_count_LU word_count_tags  \\\n",
       "36       field_partner            72             6               8   \n",
       "70       field_partner            97            23               7   \n",
       "\n",
       "    char_count_DT  char_count_LU  char_count_tags  FEM_COUNT  MALE_COUNT  \\\n",
       "36            322             18               68          1           1   \n",
       "70            426             97               76          0           1   \n",
       "\n",
       "    month  \n",
       "36      2  \n",
       "70      9  \n",
       "\n",
       "[2 rows x 23 columns]"
      ]
     },
     "execution_count": 132,
     "metadata": {},
     "output_type": "execute_result"
    }
   ],
   "source": [
    "df.loc[df['COUNTRY_CODE']=='misc_country_code',:].head(2)"
   ]
  },
  {
   "cell_type": "code",
   "execution_count": null,
   "metadata": {},
   "outputs": [],
   "source": []
  }
 ],
 "metadata": {
  "kernelspec": {
   "display_name": "Python 3",
   "language": "python",
   "name": "python3"
  },
  "language_info": {
   "codemirror_mode": {
    "name": "ipython",
    "version": 3
   },
   "file_extension": ".py",
   "mimetype": "text/x-python",
   "name": "python",
   "nbconvert_exporter": "python",
   "pygments_lexer": "ipython3",
   "version": "3.8.5"
  }
 },
 "nbformat": 4,
 "nbformat_minor": 4
}
