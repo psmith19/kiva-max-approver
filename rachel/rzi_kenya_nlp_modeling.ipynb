{
 "cells": [
  {
   "cell_type": "markdown",
   "metadata": {
    "id": "TmCUBJsxNS-K"
   },
   "source": [
    "# Bag-of-Words Modeling: Kenya Focus"
   ]
  },
  {
   "cell_type": "markdown",
   "metadata": {
    "id": "_U8Qj2L7NSxK"
   },
   "source": [
    "This notebook uses preprocessed .csv files from the Kiva Max Approver project, and uses word frequency analysis to attempt to predict loan funding status, with a focus on loans in Kenya. "
   ]
  },
  {
   "cell_type": "code",
   "execution_count": 5,
   "metadata": {
    "colab": {
     "base_uri": "https://localhost:8080/"
    },
    "executionInfo": {
     "elapsed": 2022,
     "status": "ok",
     "timestamp": 1618400810616,
     "user": {
      "displayName": "Rachel Zoe Insler",
      "photoUrl": "https://lh3.googleusercontent.com/a-/AOh14GhmK2r7xxWnYN1Ct_QTmn12EjwUhd--V_NCFfbtLw=s64",
      "userId": "07749460636815525214"
     },
     "user_tz": 240
    },
    "id": "PJj-pyWbNoIG",
    "outputId": "f7d25a41-2b13-47f0-ad66-c8b8d3a20a04"
   },
   "outputs": [],
   "source": [
    "#imports\n",
    "import pandas as pd\n",
    "import numpy as np\n",
    "import matplotlib.pyplot as plt\n",
    "import seaborn as sns\n",
    "\n",
    "#nlp\n",
    "import nltk\n",
    "from nltk.corpus import stopwords\n",
    "from nltk.stem import WordNetLemmatizer\n",
    "from nltk.sentiment.vader import SentimentIntensityAnalyzer\n",
    "from sklearn.feature_extraction import text\n",
    "\n",
    "#modeling\n",
    "from sklearn.model_selection import train_test_split, GridSearchCV, cross_val_score\n",
    "from sklearn.pipeline import Pipeline\n",
    "from sklearn.naive_bayes import MultinomialNB, BernoulliNB\n",
    "from sklearn.linear_model import LogisticRegression\n",
    "from sklearn.metrics import confusion_matrix, ConfusionMatrixDisplay, classification_report, accuracy_score\n",
    "from sklearn.ensemble import RandomForestClassifier, AdaBoostClassifier, ExtraTreesClassifier, BaggingClassifier, GradientBoostingClassifier\n",
    "from sklearn.svm import SVC\n",
    "\n",
    "# Import CountVectorizer and TFIDFVectorizer from feature_extraction.text.\n",
    "from sklearn.feature_extraction.text import CountVectorizer, TfidfVectorizer, TfidfTransformer"
   ]
  },
  {
   "cell_type": "code",
   "execution_count": 6,
   "metadata": {
    "colab": {
     "base_uri": "https://localhost:8080/"
    },
    "executionInfo": {
     "elapsed": 2015,
     "status": "ok",
     "timestamp": 1618400810616,
     "user": {
      "displayName": "Rachel Zoe Insler",
      "photoUrl": "https://lh3.googleusercontent.com/a-/AOh14GhmK2r7xxWnYN1Ct_QTmn12EjwUhd--V_NCFfbtLw=s64",
      "userId": "07749460636815525214"
     },
     "user_tz": 240
    },
    "id": "UKjpFzQuUmdS",
    "outputId": "3000f215-d838-408f-ab85-a2df442c3111"
   },
   "outputs": [
    {
     "name": "stderr",
     "output_type": "stream",
     "text": [
      "[nltk_data] Downloading package vader_lexicon to\n",
      "[nltk_data]     /Users/rachelinsler/nltk_data...\n",
      "[nltk_data]   Package vader_lexicon is already up-to-date!\n",
      "[nltk_data] Downloading package wordnet to\n",
      "[nltk_data]     /Users/rachelinsler/nltk_data...\n",
      "[nltk_data]   Package wordnet is already up-to-date!\n"
     ]
    },
    {
     "data": {
      "text/plain": [
       "True"
      ]
     },
     "execution_count": 6,
     "metadata": {},
     "output_type": "execute_result"
    }
   ],
   "source": [
    "# #downloads\n",
    "nltk.download('vader_lexicon')\n",
    "nltk.download('wordnet')"
   ]
  },
  {
   "cell_type": "code",
   "execution_count": 12,
   "metadata": {
    "executionInfo": {
     "elapsed": 6108,
     "status": "ok",
     "timestamp": 1618400814714,
     "user": {
      "displayName": "Rachel Zoe Insler",
      "photoUrl": "https://lh3.googleusercontent.com/a-/AOh14GhmK2r7xxWnYN1Ct_QTmn12EjwUhd--V_NCFfbtLw=s64",
      "userId": "07749460636815525214"
     },
     "user_tz": 240
    },
    "id": "-E_uyEKWPhzH"
   },
   "outputs": [],
   "source": [
    "# read in kenya data\n",
    "\n",
    "kiva = pd.read_csv('data/kenya_pre_processed_nlp.csv').drop(columns='Unnamed: 0').set_index('LOAN_ID')"
   ]
  },
  {
   "cell_type": "code",
   "execution_count": 13,
   "metadata": {
    "colab": {
     "base_uri": "https://localhost:8080/",
     "height": 204
    },
    "executionInfo": {
     "elapsed": 6105,
     "status": "ok",
     "timestamp": 1618400814715,
     "user": {
      "displayName": "Rachel Zoe Insler",
      "photoUrl": "https://lh3.googleusercontent.com/a-/AOh14GhmK2r7xxWnYN1Ct_QTmn12EjwUhd--V_NCFfbtLw=s64",
      "userId": "07749460636815525214"
     },
     "user_tz": 240
    },
    "id": "PFxWGFcTPsdv",
    "outputId": "ca8f2866-5083-40f8-d043-02204cf4c9a0"
   },
   "outputs": [
    {
     "data": {
      "text/html": [
       "<div>\n",
       "<style scoped>\n",
       "    .dataframe tbody tr th:only-of-type {\n",
       "        vertical-align: middle;\n",
       "    }\n",
       "\n",
       "    .dataframe tbody tr th {\n",
       "        vertical-align: top;\n",
       "    }\n",
       "\n",
       "    .dataframe thead th {\n",
       "        text-align: right;\n",
       "    }\n",
       "</style>\n",
       "<table border=\"1\" class=\"dataframe\">\n",
       "  <thead>\n",
       "    <tr style=\"text-align: right;\">\n",
       "      <th></th>\n",
       "      <th>DESCRIPTION_TRANSLATED</th>\n",
       "      <th>LOAN_USE</th>\n",
       "      <th>TAGS</th>\n",
       "      <th>STATUS</th>\n",
       "    </tr>\n",
       "    <tr>\n",
       "      <th>LOAN_ID</th>\n",
       "      <th></th>\n",
       "      <th></th>\n",
       "      <th></th>\n",
       "      <th></th>\n",
       "    </tr>\n",
       "  </thead>\n",
       "  <tbody>\n",
       "    <tr>\n",
       "      <th>1799331</th>\n",
       "      <td>['dinnah', '43', 'years', 'age', 'proud', 'mot...</td>\n",
       "      <td>['buy', 'farm', 'inputs', 'seeds', 'fertilizer...</td>\n",
       "      <td>['parent']</td>\n",
       "      <td>1</td>\n",
       "    </tr>\n",
       "    <tr>\n",
       "      <th>1294719</th>\n",
       "      <td>['resy', 'married', 'woman', 'blessed', 'kids'...</td>\n",
       "      <td>['purchase', 'chicks', 'poultry', 'feed']</td>\n",
       "      <td>['animals', 'womanowned', 'business', 'volunte...</td>\n",
       "      <td>1</td>\n",
       "    </tr>\n",
       "    <tr>\n",
       "      <th>1595847</th>\n",
       "      <td>['lavenda', 'happily', 'married', 'blessed', '...</td>\n",
       "      <td>['add', 'stock', 'beauty', 'products', 'salon']</td>\n",
       "      <td>['user_favorite', 'parent', 'womanowned', 'bus...</td>\n",
       "      <td>0</td>\n",
       "    </tr>\n",
       "    <tr>\n",
       "      <th>1139606</th>\n",
       "      <td>['hadija', 'kiva', 'borrower', 'describes', 'h...</td>\n",
       "      <td>['buy', 'stock', 'vegetables', 'flour', 'sugar...</td>\n",
       "      <td>['repeat', 'borrower', 'womanowned', 'business']</td>\n",
       "      <td>1</td>\n",
       "    </tr>\n",
       "    <tr>\n",
       "      <th>1813411</th>\n",
       "      <td>['purity', 'aged', '28', 'lovely', 'mother', '...</td>\n",
       "      <td>['purchase', 'highquality', 'seeds', 'nutrient...</td>\n",
       "      <td>['nan']</td>\n",
       "      <td>1</td>\n",
       "    </tr>\n",
       "  </tbody>\n",
       "</table>\n",
       "</div>"
      ],
      "text/plain": [
       "                                    DESCRIPTION_TRANSLATED  \\\n",
       "LOAN_ID                                                      \n",
       "1799331  ['dinnah', '43', 'years', 'age', 'proud', 'mot...   \n",
       "1294719  ['resy', 'married', 'woman', 'blessed', 'kids'...   \n",
       "1595847  ['lavenda', 'happily', 'married', 'blessed', '...   \n",
       "1139606  ['hadija', 'kiva', 'borrower', 'describes', 'h...   \n",
       "1813411  ['purity', 'aged', '28', 'lovely', 'mother', '...   \n",
       "\n",
       "                                                  LOAN_USE  \\\n",
       "LOAN_ID                                                      \n",
       "1799331  ['buy', 'farm', 'inputs', 'seeds', 'fertilizer...   \n",
       "1294719          ['purchase', 'chicks', 'poultry', 'feed']   \n",
       "1595847    ['add', 'stock', 'beauty', 'products', 'salon']   \n",
       "1139606  ['buy', 'stock', 'vegetables', 'flour', 'sugar...   \n",
       "1813411  ['purchase', 'highquality', 'seeds', 'nutrient...   \n",
       "\n",
       "                                                      TAGS  STATUS  \n",
       "LOAN_ID                                                             \n",
       "1799331                                         ['parent']       1  \n",
       "1294719  ['animals', 'womanowned', 'business', 'volunte...       1  \n",
       "1595847  ['user_favorite', 'parent', 'womanowned', 'bus...       0  \n",
       "1139606   ['repeat', 'borrower', 'womanowned', 'business']       1  \n",
       "1813411                                            ['nan']       1  "
      ]
     },
     "execution_count": 13,
     "metadata": {},
     "output_type": "execute_result"
    }
   ],
   "source": [
    "kiva.head()"
   ]
  },
  {
   "cell_type": "code",
   "execution_count": 14,
   "metadata": {
    "colab": {
     "base_uri": "https://localhost:8080/"
    },
    "executionInfo": {
     "elapsed": 6299,
     "status": "ok",
     "timestamp": 1618400814914,
     "user": {
      "displayName": "Rachel Zoe Insler",
      "photoUrl": "https://lh3.googleusercontent.com/a-/AOh14GhmK2r7xxWnYN1Ct_QTmn12EjwUhd--V_NCFfbtLw=s64",
      "userId": "07749460636815525214"
     },
     "user_tz": 240
    },
    "id": "YSu0y548Aehs",
    "outputId": "b146bfca-f88a-4d75-f89b-00101638b48b"
   },
   "outputs": [
    {
     "name": "stdout",
     "output_type": "stream",
     "text": [
      "<class 'pandas.core.frame.DataFrame'>\n",
      "Int64Index: 50689 entries, 1799331 to 1767038\n",
      "Data columns (total 4 columns):\n",
      " #   Column                  Non-Null Count  Dtype \n",
      "---  ------                  --------------  ----- \n",
      " 0   DESCRIPTION_TRANSLATED  50689 non-null  object\n",
      " 1   LOAN_USE                50689 non-null  object\n",
      " 2   TAGS                    50689 non-null  object\n",
      " 3   STATUS                  50689 non-null  int64 \n",
      "dtypes: int64(1), object(3)\n",
      "memory usage: 1.9+ MB\n"
     ]
    }
   ],
   "source": [
    "kiva.info()"
   ]
  },
  {
   "cell_type": "code",
   "execution_count": 15,
   "metadata": {
    "colab": {
     "base_uri": "https://localhost:8080/"
    },
    "executionInfo": {
     "elapsed": 6294,
     "status": "ok",
     "timestamp": 1618400814914,
     "user": {
      "displayName": "Rachel Zoe Insler",
      "photoUrl": "https://lh3.googleusercontent.com/a-/AOh14GhmK2r7xxWnYN1Ct_QTmn12EjwUhd--V_NCFfbtLw=s64",
      "userId": "07749460636815525214"
     },
     "user_tz": 240
    },
    "id": "AvLWQa3oAeYc",
    "outputId": "9d1b9856-ed1e-4fef-d39f-97c305086bc2"
   },
   "outputs": [
    {
     "data": {
      "text/plain": [
       "1    39671\n",
       "0    11018\n",
       "Name: STATUS, dtype: int64"
      ]
     },
     "execution_count": 15,
     "metadata": {},
     "output_type": "execute_result"
    }
   ],
   "source": [
    "kiva['STATUS'].value_counts()"
   ]
  },
  {
   "cell_type": "code",
   "execution_count": 16,
   "metadata": {
    "colab": {
     "base_uri": "https://localhost:8080/"
    },
    "executionInfo": {
     "elapsed": 6290,
     "status": "ok",
     "timestamp": 1618400814914,
     "user": {
      "displayName": "Rachel Zoe Insler",
      "photoUrl": "https://lh3.googleusercontent.com/a-/AOh14GhmK2r7xxWnYN1Ct_QTmn12EjwUhd--V_NCFfbtLw=s64",
      "userId": "07749460636815525214"
     },
     "user_tz": 240
    },
    "id": "vX0kPRmmArT5",
    "outputId": "53c60617-4dc4-44e0-bd71-894ce894fe46"
   },
   "outputs": [
    {
     "data": {
      "text/plain": [
       "1    0.782635\n",
       "0    0.217365\n",
       "Name: STATUS, dtype: float64"
      ]
     },
     "execution_count": 16,
     "metadata": {},
     "output_type": "execute_result"
    }
   ],
   "source": [
    "kiva['STATUS'].value_counts(normalize=True)"
   ]
  },
  {
   "cell_type": "markdown",
   "metadata": {
    "id": "Z50Y1pXjnjqR"
   },
   "source": [
    "## Model Description_Translated Column"
   ]
  },
  {
   "cell_type": "markdown",
   "metadata": {
    "id": "09H2npk4_-rK"
   },
   "source": [
    "#### Lemmatize for Bag of Words Model"
   ]
  },
  {
   "cell_type": "code",
   "execution_count": 17,
   "metadata": {
    "executionInfo": {
     "elapsed": 6283,
     "status": "ok",
     "timestamp": 1618400814915,
     "user": {
      "displayName": "Rachel Zoe Insler",
      "photoUrl": "https://lh3.googleusercontent.com/a-/AOh14GhmK2r7xxWnYN1Ct_QTmn12EjwUhd--V_NCFfbtLw=s64",
      "userId": "07749460636815525214"
     },
     "user_tz": 240
    },
    "id": "HBz-RivTAEn-"
   },
   "outputs": [],
   "source": [
    "lemmatizer = WordNetLemmatizer()"
   ]
  },
  {
   "cell_type": "code",
   "execution_count": 18,
   "metadata": {
    "executionInfo": {
     "elapsed": 8226,
     "status": "ok",
     "timestamp": 1618400816860,
     "user": {
      "displayName": "Rachel Zoe Insler",
      "photoUrl": "https://lh3.googleusercontent.com/a-/AOh14GhmK2r7xxWnYN1Ct_QTmn12EjwUhd--V_NCFfbtLw=s64",
      "userId": "07749460636815525214"
     },
     "user_tz": 240
    },
    "id": "Qoih7OTRBNCx"
   },
   "outputs": [],
   "source": [
    "kiva['DESCRIPTION_TRANSLATED']  = kiva['DESCRIPTION_TRANSLATED'].apply(lambda x: lemmatizer.lemmatize(x))"
   ]
  },
  {
   "cell_type": "markdown",
   "metadata": {
    "id": "YX-8BoWeDhfh"
   },
   "source": [
    "#### Model"
   ]
  },
  {
   "cell_type": "code",
   "execution_count": 19,
   "metadata": {
    "executionInfo": {
     "elapsed": 8224,
     "status": "ok",
     "timestamp": 1618400816860,
     "user": {
      "displayName": "Rachel Zoe Insler",
      "photoUrl": "https://lh3.googleusercontent.com/a-/AOh14GhmK2r7xxWnYN1Ct_QTmn12EjwUhd--V_NCFfbtLw=s64",
      "userId": "07749460636815525214"
     },
     "user_tz": 240
    },
    "id": "JNKvt8UHl0LG"
   },
   "outputs": [],
   "source": [
    "#set up X and y\n",
    "\n",
    "X = kiva['DESCRIPTION_TRANSLATED']\n",
    "y = kiva['STATUS']"
   ]
  },
  {
   "cell_type": "code",
   "execution_count": 20,
   "metadata": {
    "colab": {
     "base_uri": "https://localhost:8080/"
    },
    "executionInfo": {
     "elapsed": 8222,
     "status": "ok",
     "timestamp": 1618400816861,
     "user": {
      "displayName": "Rachel Zoe Insler",
      "photoUrl": "https://lh3.googleusercontent.com/a-/AOh14GhmK2r7xxWnYN1Ct_QTmn12EjwUhd--V_NCFfbtLw=s64",
      "userId": "07749460636815525214"
     },
     "user_tz": 240
    },
    "id": "5dz28Od3nv70",
    "outputId": "ea63e502-114c-4c32-e3ad-f4345dff2421"
   },
   "outputs": [
    {
     "data": {
      "text/plain": [
       "1    0.782635\n",
       "0    0.217365\n",
       "Name: STATUS, dtype: float64"
      ]
     },
     "execution_count": 20,
     "metadata": {},
     "output_type": "execute_result"
    }
   ],
   "source": [
    "#check for baseline\n",
    "y.value_counts(normalize=True)"
   ]
  },
  {
   "cell_type": "code",
   "execution_count": 21,
   "metadata": {
    "executionInfo": {
     "elapsed": 8219,
     "status": "ok",
     "timestamp": 1618400816861,
     "user": {
      "displayName": "Rachel Zoe Insler",
      "photoUrl": "https://lh3.googleusercontent.com/a-/AOh14GhmK2r7xxWnYN1Ct_QTmn12EjwUhd--V_NCFfbtLw=s64",
      "userId": "07749460636815525214"
     },
     "user_tz": 240
    },
    "id": "fLjTahwhnyxk"
   },
   "outputs": [],
   "source": [
    "#train-test split\n",
    "X_train, X_test, y_train, y_test=train_test_split(X,\n",
    "                                                 y,\n",
    "                                                 test_size=.2,\n",
    "                                                 stratify=y,\n",
    "                                                 random_state=42)"
   ]
  },
  {
   "cell_type": "markdown",
   "metadata": {
    "id": "rsUVmuxRosZH"
   },
   "source": [
    "#### Check Out Top Occuring Words with Count Vectorizer"
   ]
  },
  {
   "cell_type": "code",
   "execution_count": 22,
   "metadata": {
    "executionInfo": {
     "elapsed": 8219,
     "status": "ok",
     "timestamp": 1618400816862,
     "user": {
      "displayName": "Rachel Zoe Insler",
      "photoUrl": "https://lh3.googleusercontent.com/a-/AOh14GhmK2r7xxWnYN1Ct_QTmn12EjwUhd--V_NCFfbtLw=s64",
      "userId": "07749460636815525214"
     },
     "user_tz": 240
    },
    "id": "FZun8A-2oAL6"
   },
   "outputs": [],
   "source": [
    "cvec = CountVectorizer()"
   ]
  },
  {
   "cell_type": "code",
   "execution_count": 23,
   "metadata": {
    "colab": {
     "base_uri": "https://localhost:8080/",
     "height": 265
    },
    "executionInfo": {
     "elapsed": 13081,
     "status": "ok",
     "timestamp": 1618400821727,
     "user": {
      "displayName": "Rachel Zoe Insler",
      "photoUrl": "https://lh3.googleusercontent.com/a-/AOh14GhmK2r7xxWnYN1Ct_QTmn12EjwUhd--V_NCFfbtLw=s64",
      "userId": "07749460636815525214"
     },
     "user_tz": 240
    },
    "id": "KPum8OM5oHlb",
    "outputId": "327fa53b-6467-48d7-f415-1ad5a4848389"
   },
   "outputs": [
    {
     "data": {
      "image/png": "[encoded data removed]",
      "text/plain": [
       "<Figure size 432x288 with 1 Axes>"
      ]
     },
     "metadata": {
      "needs_background": "light"
     },
     "output_type": "display_data"
    }
   ],
   "source": [
    "# convert training data to dataframe\n",
    "X_train_df_cvec = pd.DataFrame(cvec.fit_transform(X_train).todense(),\n",
    "                         columns=cvec.get_feature_names())\n",
    "\n",
    "\n",
    "# plot top occurring words\n",
    "X_train_df_cvec.sum().sort_values(ascending = False).head(10).plot(kind='barh');"
   ]
  },
  {
   "cell_type": "code",
   "execution_count": 60,
   "metadata": {
    "executionInfo": {
     "elapsed": 13078,
     "status": "ok",
     "timestamp": 1618400821728,
     "user": {
      "displayName": "Rachel Zoe Insler",
      "photoUrl": "https://lh3.googleusercontent.com/a-/AOh14GhmK2r7xxWnYN1Ct_QTmn12EjwUhd--V_NCFfbtLw=s64",
      "userId": "07749460636815525214"
     },
     "user_tz": 240
    },
    "id": "VIbjC45coJ9a"
   },
   "outputs": [],
   "source": [
    "## add in some stopwords - code inspired by varun\n",
    "my_stop = ['br', 'nan']\n",
    "stop_words = my_stop"
   ]
  },
  {
   "cell_type": "markdown",
   "metadata": {
    "id": "fIbJkh0Qrs6K"
   },
   "source": [
    "### Run Through Classifiers"
   ]
  },
  {
   "cell_type": "code",
   "execution_count": 25,
   "metadata": {
    "executionInfo": {
     "elapsed": 13076,
     "status": "ok",
     "timestamp": 1618400821728,
     "user": {
      "displayName": "Rachel Zoe Insler",
      "photoUrl": "https://lh3.googleusercontent.com/a-/AOh14GhmK2r7xxWnYN1Ct_QTmn12EjwUhd--V_NCFfbtLw=s64",
      "userId": "07749460636815525214"
     },
     "user_tz": 240
    },
    "id": "rjQvc7fQrYcc"
   },
   "outputs": [],
   "source": [
    "#create a list of the model classes to test\n",
    "model_list = [\n",
    "    LogisticRegression(),\n",
    "    GradientBoostingClassifier(),\n",
    "    RandomForestClassifier()\n",
    "]"
   ]
  },
  {
   "cell_type": "markdown",
   "metadata": {
    "id": "bX1ChLJrLCLm"
   },
   "source": [
    "#### CVEC"
   ]
  },
  {
   "cell_type": "code",
   "execution_count": 26,
   "metadata": {
    "colab": {
     "base_uri": "https://localhost:8080/",
     "height": 717
    },
    "executionInfo": {
     "elapsed": 438408,
     "status": "ok",
     "timestamp": 1618401247063,
     "user": {
      "displayName": "Rachel Zoe Insler",
      "photoUrl": "https://lh3.googleusercontent.com/a-/AOh14GhmK2r7xxWnYN1Ct_QTmn12EjwUhd--V_NCFfbtLw=s64",
      "userId": "07749460636815525214"
     },
     "user_tz": 240
    },
    "id": "MmSWIhWYr9V2",
    "outputId": "fd13349f-5681-42de-9501-ec0888d81bd9"
   },
   "outputs": [
    {
     "name": "stderr",
     "output_type": "stream",
     "text": [
      "/Users/rachelinsler/ENTER/lib/python3.8/site-packages/sklearn/linear_model/_logistic.py:762: ConvergenceWarning: lbfgs failed to converge (status=1):\n",
      "STOP: TOTAL NO. of ITERATIONS REACHED LIMIT.\n",
      "\n",
      "Increase the number of iterations (max_iter) or scale the data as shown in:\n",
      "    https://scikit-learn.org/stable/modules/preprocessing.html\n",
      "Please also refer to the documentation for alternative solver options:\n",
      "    https://scikit-learn.org/stable/modules/linear_model.html#logistic-regression\n",
      "  n_iter_i = _check_optimize_result(\n",
      "/Users/rachelinsler/ENTER/lib/python3.8/site-packages/sklearn/linear_model/_logistic.py:762: ConvergenceWarning: lbfgs failed to converge (status=1):\n",
      "STOP: TOTAL NO. of ITERATIONS REACHED LIMIT.\n",
      "\n",
      "Increase the number of iterations (max_iter) or scale the data as shown in:\n",
      "    https://scikit-learn.org/stable/modules/preprocessing.html\n",
      "Please also refer to the documentation for alternative solver options:\n",
      "    https://scikit-learn.org/stable/modules/linear_model.html#logistic-regression\n",
      "  n_iter_i = _check_optimize_result(\n",
      "/Users/rachelinsler/ENTER/lib/python3.8/site-packages/sklearn/linear_model/_logistic.py:762: ConvergenceWarning: lbfgs failed to converge (status=1):\n",
      "STOP: TOTAL NO. of ITERATIONS REACHED LIMIT.\n",
      "\n",
      "Increase the number of iterations (max_iter) or scale the data as shown in:\n",
      "    https://scikit-learn.org/stable/modules/preprocessing.html\n",
      "Please also refer to the documentation for alternative solver options:\n",
      "    https://scikit-learn.org/stable/modules/linear_model.html#logistic-regression\n",
      "  n_iter_i = _check_optimize_result(\n",
      "/Users/rachelinsler/ENTER/lib/python3.8/site-packages/sklearn/linear_model/_logistic.py:762: ConvergenceWarning: lbfgs failed to converge (status=1):\n",
      "STOP: TOTAL NO. of ITERATIONS REACHED LIMIT.\n",
      "\n",
      "Increase the number of iterations (max_iter) or scale the data as shown in:\n",
      "    https://scikit-learn.org/stable/modules/preprocessing.html\n",
      "Please also refer to the documentation for alternative solver options:\n",
      "    https://scikit-learn.org/stable/modules/linear_model.html#logistic-regression\n",
      "  n_iter_i = _check_optimize_result(\n"
     ]
    },
    {
     "data": {
      "text/html": [
       "<div>\n",
       "<style scoped>\n",
       "    .dataframe tbody tr th:only-of-type {\n",
       "        vertical-align: middle;\n",
       "    }\n",
       "\n",
       "    .dataframe tbody tr th {\n",
       "        vertical-align: top;\n",
       "    }\n",
       "\n",
       "    .dataframe thead th {\n",
       "        text-align: right;\n",
       "    }\n",
       "</style>\n",
       "<table border=\"1\" class=\"dataframe\">\n",
       "  <thead>\n",
       "    <tr style=\"text-align: right;\">\n",
       "      <th></th>\n",
       "      <th>model_name</th>\n",
       "      <th>train_score</th>\n",
       "      <th>test_score</th>\n",
       "      <th>cv_score</th>\n",
       "    </tr>\n",
       "  </thead>\n",
       "  <tbody>\n",
       "    <tr>\n",
       "      <th>0</th>\n",
       "      <td>LogisticRegression()</td>\n",
       "      <td>0.810905</td>\n",
       "      <td>0.799862</td>\n",
       "      <td>0.800079</td>\n",
       "    </tr>\n",
       "    <tr>\n",
       "      <th>1</th>\n",
       "      <td>GradientBoostingClassifier()</td>\n",
       "      <td>0.806491</td>\n",
       "      <td>0.803018</td>\n",
       "      <td>0.801879</td>\n",
       "    </tr>\n",
       "    <tr>\n",
       "      <th>2</th>\n",
       "      <td>RandomForestClassifier()</td>\n",
       "      <td>0.998249</td>\n",
       "      <td>0.798185</td>\n",
       "      <td>0.794999</td>\n",
       "    </tr>\n",
       "  </tbody>\n",
       "</table>\n",
       "</div>"
      ],
      "text/plain": [
       "                     model_name  train_score  test_score  cv_score\n",
       "0          LogisticRegression()     0.810905    0.799862  0.800079\n",
       "1  GradientBoostingClassifier()     0.806491    0.803018  0.801879\n",
       "2      RandomForestClassifier()     0.998249    0.798185  0.794999"
      ]
     },
     "execution_count": 26,
     "metadata": {},
     "output_type": "execute_result"
    }
   ],
   "source": [
    "#vectorize features with ngram range 1,3\n",
    "cvec = CountVectorizer(stop_words=stop_words, max_features = 1_000, max_df=.98, min_df = 2, ngram_range =(1, 3))\n",
    "X_train_cvec = cvec.fit_transform(X_train)\n",
    "X_test_cvec = cvec.transform(X_test)\n",
    "\n",
    "#create a list to store each model's results in a dictionary\n",
    "classifier_list = []\n",
    "\n",
    "for model_obj in model_list:\n",
    "    #instantiate each model \n",
    "    model = model_obj\n",
    "\n",
    "    #fit the model\n",
    "    model.fit(X_train_cvec, y_train) \n",
    "  \n",
    "    #create a dictionary with scores and evaluation metrics for each model\n",
    "    results_dict = {}    \n",
    "    results_dict['model_name'] = str(model_obj)\n",
    "    results_dict['train_score'] = model.score(X_train_cvec, y_train)\n",
    "    results_dict['test_score'] = model.score(X_test_cvec, y_test)\n",
    "    results_dict['cv_score'] = cross_val_score(model, X_train_cvec, y_train, cv = 3).mean()\n",
    "        \n",
    "    #add the dictionary to the list\n",
    "    classifier_list.append(results_dict)\n",
    "\n",
    "#create a dataframe and display dictionary\n",
    "desc_results = pd.DataFrame(classifier_list)\n",
    "desc_results"
   ]
  },
  {
   "cell_type": "markdown",
   "metadata": {},
   "source": [
    "Null Model is: 0.782635."
   ]
  },
  {
   "cell_type": "markdown",
   "metadata": {
    "id": "kZ240bJjLE4E"
   },
   "source": [
    "#### TVEC"
   ]
  },
  {
   "cell_type": "code",
   "execution_count": 27,
   "metadata": {
    "colab": {
     "base_uri": "https://localhost:8080/",
     "height": 173
    },
    "executionInfo": {
     "elapsed": 1347402,
     "status": "ok",
     "timestamp": 1618402156060,
     "user": {
      "displayName": "Rachel Zoe Insler",
      "photoUrl": "https://lh3.googleusercontent.com/a-/AOh14GhmK2r7xxWnYN1Ct_QTmn12EjwUhd--V_NCFfbtLw=s64",
      "userId": "07749460636815525214"
     },
     "user_tz": 240
    },
    "id": "r7gahMpULGva",
    "outputId": "6359c9e8-0c09-42c0-a64e-890e98772616"
   },
   "outputs": [
    {
     "name": "stderr",
     "output_type": "stream",
     "text": [
      "/Users/rachelinsler/ENTER/lib/python3.8/site-packages/sklearn/linear_model/_logistic.py:762: ConvergenceWarning: lbfgs failed to converge (status=1):\n",
      "STOP: TOTAL NO. of ITERATIONS REACHED LIMIT.\n",
      "\n",
      "Increase the number of iterations (max_iter) or scale the data as shown in:\n",
      "    https://scikit-learn.org/stable/modules/preprocessing.html\n",
      "Please also refer to the documentation for alternative solver options:\n",
      "    https://scikit-learn.org/stable/modules/linear_model.html#logistic-regression\n",
      "  n_iter_i = _check_optimize_result(\n",
      "/Users/rachelinsler/ENTER/lib/python3.8/site-packages/sklearn/linear_model/_logistic.py:762: ConvergenceWarning: lbfgs failed to converge (status=1):\n",
      "STOP: TOTAL NO. of ITERATIONS REACHED LIMIT.\n",
      "\n",
      "Increase the number of iterations (max_iter) or scale the data as shown in:\n",
      "    https://scikit-learn.org/stable/modules/preprocessing.html\n",
      "Please also refer to the documentation for alternative solver options:\n",
      "    https://scikit-learn.org/stable/modules/linear_model.html#logistic-regression\n",
      "  n_iter_i = _check_optimize_result(\n",
      "/Users/rachelinsler/ENTER/lib/python3.8/site-packages/sklearn/linear_model/_logistic.py:762: ConvergenceWarning: lbfgs failed to converge (status=1):\n",
      "STOP: TOTAL NO. of ITERATIONS REACHED LIMIT.\n",
      "\n",
      "Increase the number of iterations (max_iter) or scale the data as shown in:\n",
      "    https://scikit-learn.org/stable/modules/preprocessing.html\n",
      "Please also refer to the documentation for alternative solver options:\n",
      "    https://scikit-learn.org/stable/modules/linear_model.html#logistic-regression\n",
      "  n_iter_i = _check_optimize_result(\n",
      "/Users/rachelinsler/ENTER/lib/python3.8/site-packages/sklearn/linear_model/_logistic.py:762: ConvergenceWarning: lbfgs failed to converge (status=1):\n",
      "STOP: TOTAL NO. of ITERATIONS REACHED LIMIT.\n",
      "\n",
      "Increase the number of iterations (max_iter) or scale the data as shown in:\n",
      "    https://scikit-learn.org/stable/modules/preprocessing.html\n",
      "Please also refer to the documentation for alternative solver options:\n",
      "    https://scikit-learn.org/stable/modules/linear_model.html#logistic-regression\n",
      "  n_iter_i = _check_optimize_result(\n"
     ]
    },
    {
     "data": {
      "text/html": [
       "<div>\n",
       "<style scoped>\n",
       "    .dataframe tbody tr th:only-of-type {\n",
       "        vertical-align: middle;\n",
       "    }\n",
       "\n",
       "    .dataframe tbody tr th {\n",
       "        vertical-align: top;\n",
       "    }\n",
       "\n",
       "    .dataframe thead th {\n",
       "        text-align: right;\n",
       "    }\n",
       "</style>\n",
       "<table border=\"1\" class=\"dataframe\">\n",
       "  <thead>\n",
       "    <tr style=\"text-align: right;\">\n",
       "      <th></th>\n",
       "      <th>model_name</th>\n",
       "      <th>train_score</th>\n",
       "      <th>test_score</th>\n",
       "      <th>cv_score</th>\n",
       "    </tr>\n",
       "  </thead>\n",
       "  <tbody>\n",
       "    <tr>\n",
       "      <th>0</th>\n",
       "      <td>LogisticRegression()</td>\n",
       "      <td>0.832261</td>\n",
       "      <td>0.813080</td>\n",
       "      <td>0.810288</td>\n",
       "    </tr>\n",
       "    <tr>\n",
       "      <th>1</th>\n",
       "      <td>GradientBoostingClassifier()</td>\n",
       "      <td>0.813963</td>\n",
       "      <td>0.804399</td>\n",
       "      <td>0.807403</td>\n",
       "    </tr>\n",
       "    <tr>\n",
       "      <th>2</th>\n",
       "      <td>RandomForestClassifier()</td>\n",
       "      <td>0.999877</td>\n",
       "      <td>0.797495</td>\n",
       "      <td>0.798205</td>\n",
       "    </tr>\n",
       "  </tbody>\n",
       "</table>\n",
       "</div>"
      ],
      "text/plain": [
       "                     model_name  train_score  test_score  cv_score\n",
       "0          LogisticRegression()     0.832261    0.813080  0.810288\n",
       "1  GradientBoostingClassifier()     0.813963    0.804399  0.807403\n",
       "2      RandomForestClassifier()     0.999877    0.797495  0.798205"
      ]
     },
     "execution_count": 27,
     "metadata": {},
     "output_type": "execute_result"
    }
   ],
   "source": [
    "#vectorize features with TF-IDF\n",
    "tvec = TfidfVectorizer()\n",
    "X_train_tvec = tvec.fit_transform(X_train)\n",
    "X_test_tvec = tvec.transform(X_test)\n",
    "\n",
    "#create a list to store each model's results in a dictionary\n",
    "classifier_list = []\n",
    "\n",
    "for model_obj in model_list:\n",
    "    #instantiate each model \n",
    "    model = model_obj\n",
    "\n",
    "    #fit the model\n",
    "    model.fit(X_train_tvec, y_train) \n",
    "  \n",
    "    #create a dictionary with scores and evaluation metrics for each model\n",
    "    results_dict = {}    \n",
    "    results_dict['model_name'] = str(model_obj)\n",
    "    results_dict['train_score'] = model.score(X_train_tvec, y_train)\n",
    "    results_dict['test_score'] = model.score(X_test_tvec, y_test)\n",
    "    results_dict['cv_score'] = cross_val_score(model, X_train_tvec, y_train, cv = 3).mean()\n",
    "        \n",
    "    #add the dictionary to the list\n",
    "    classifier_list.append(results_dict)\n",
    "\n",
    "#create a dataframe and display dictionary\n",
    "desc_tvec_results = pd.DataFrame(classifier_list)\n",
    "desc_tvec_results"
   ]
  },
  {
   "cell_type": "markdown",
   "metadata": {
    "id": "YRIOAKJuqCmb"
   },
   "source": [
    "## Model LOAN_USE\n"
   ]
  },
  {
   "cell_type": "markdown",
   "metadata": {
    "id": "yGD36rzYDRQY"
   },
   "source": [
    "#### Lemmatize for Bag of Words Model"
   ]
  },
  {
   "cell_type": "code",
   "execution_count": 28,
   "metadata": {
    "executionInfo": {
     "elapsed": 1347399,
     "status": "ok",
     "timestamp": 1618402156061,
     "user": {
      "displayName": "Rachel Zoe Insler",
      "photoUrl": "https://lh3.googleusercontent.com/a-/AOh14GhmK2r7xxWnYN1Ct_QTmn12EjwUhd--V_NCFfbtLw=s64",
      "userId": "07749460636815525214"
     },
     "user_tz": 240
    },
    "id": "ndkmD3mYD2vm"
   },
   "outputs": [],
   "source": [
    "#instantiate lemmatizer\n",
    "lemmatizer = WordNetLemmatizer()"
   ]
  },
  {
   "cell_type": "code",
   "execution_count": 29,
   "metadata": {
    "executionInfo": {
     "elapsed": 1347399,
     "status": "ok",
     "timestamp": 1618402156062,
     "user": {
      "displayName": "Rachel Zoe Insler",
      "photoUrl": "https://lh3.googleusercontent.com/a-/AOh14GhmK2r7xxWnYN1Ct_QTmn12EjwUhd--V_NCFfbtLw=s64",
      "userId": "07749460636815525214"
     },
     "user_tz": 240
    },
    "id": "tx7pCuvSDQov"
   },
   "outputs": [],
   "source": [
    "#lemmatize LOAN_USE column\n",
    "kiva['LOAN_USE']  = kiva['LOAN_USE'].apply(lambda x: lemmatizer.lemmatize(x))"
   ]
  },
  {
   "cell_type": "code",
   "execution_count": 30,
   "metadata": {
    "executionInfo": {
     "elapsed": 1347397,
     "status": "ok",
     "timestamp": 1618402156062,
     "user": {
      "displayName": "Rachel Zoe Insler",
      "photoUrl": "https://lh3.googleusercontent.com/a-/AOh14GhmK2r7xxWnYN1Ct_QTmn12EjwUhd--V_NCFfbtLw=s64",
      "userId": "07749460636815525214"
     },
     "user_tz": 240
    },
    "id": "hDPxqJNLqHVW"
   },
   "outputs": [],
   "source": [
    "#set up X and y\n",
    "\n",
    "X = kiva['LOAN_USE']\n",
    "y = kiva['STATUS']"
   ]
  },
  {
   "cell_type": "code",
   "execution_count": 31,
   "metadata": {
    "executionInfo": {
     "elapsed": 1347396,
     "status": "ok",
     "timestamp": 1618402156063,
     "user": {
      "displayName": "Rachel Zoe Insler",
      "photoUrl": "https://lh3.googleusercontent.com/a-/AOh14GhmK2r7xxWnYN1Ct_QTmn12EjwUhd--V_NCFfbtLw=s64",
      "userId": "07749460636815525214"
     },
     "user_tz": 240
    },
    "id": "cJ-rpf4KqMi_"
   },
   "outputs": [],
   "source": [
    "#train-test split\n",
    "X_train, X_test, y_train, y_test=train_test_split(X,\n",
    "                                                 y,\n",
    "                                                 test_size=.2,\n",
    "                                                 stratify=y,\n",
    "                                                 random_state=42)"
   ]
  },
  {
   "cell_type": "markdown",
   "metadata": {
    "id": "vtl7T_pXrCLZ"
   },
   "source": [
    "### Check Out Top Occurring Words With CountVectorizer\n"
   ]
  },
  {
   "cell_type": "code",
   "execution_count": 32,
   "metadata": {
    "executionInfo": {
     "elapsed": 1347617,
     "status": "ok",
     "timestamp": 1618402156285,
     "user": {
      "displayName": "Rachel Zoe Insler",
      "photoUrl": "https://lh3.googleusercontent.com/a-/AOh14GhmK2r7xxWnYN1Ct_QTmn12EjwUhd--V_NCFfbtLw=s64",
      "userId": "07749460636815525214"
     },
     "user_tz": 240
    },
    "id": "yegvWXRupsOh"
   },
   "outputs": [],
   "source": [
    "cvec = CountVectorizer()"
   ]
  },
  {
   "cell_type": "code",
   "execution_count": 33,
   "metadata": {
    "colab": {
     "base_uri": "https://localhost:8080/",
     "height": 0
    },
    "executionInfo": {
     "elapsed": 1348837,
     "status": "ok",
     "timestamp": 1618402157507,
     "user": {
      "displayName": "Rachel Zoe Insler",
      "photoUrl": "https://lh3.googleusercontent.com/a-/AOh14GhmK2r7xxWnYN1Ct_QTmn12EjwUhd--V_NCFfbtLw=s64",
      "userId": "07749460636815525214"
     },
     "user_tz": 240
    },
    "id": "u4oQMdivp_I0",
    "outputId": "32e558bd-badc-4342-ad29-33f12a9f69bd"
   },
   "outputs": [
    {
     "data": {
      "image/png": "[encoded data removed]",
      "text/plain": [
       "<Figure size 432x288 with 1 Axes>"
      ]
     },
     "metadata": {
      "needs_background": "light"
     },
     "output_type": "display_data"
    }
   ],
   "source": [
    "# convert training data to dataframe\n",
    "X_train_df_cvec = pd.DataFrame(cvec.fit_transform(X_train).todense(),\n",
    "                         columns=cvec.get_feature_names())\n",
    "\n",
    "\n",
    "# plot top occurring words\n",
    "X_train_df_cvec.sum().sort_values(ascending = False).head(10).plot(kind='barh');"
   ]
  },
  {
   "cell_type": "markdown",
   "metadata": {
    "id": "-m0ZiVlxukqA"
   },
   "source": [
    "### Run Through the Classifiers"
   ]
  },
  {
   "cell_type": "markdown",
   "metadata": {
    "id": "_-3dVoEtKPWp"
   },
   "source": [
    "#### CVEC"
   ]
  },
  {
   "cell_type": "code",
   "execution_count": 34,
   "metadata": {
    "colab": {
     "base_uri": "https://localhost:8080/",
     "height": 0
    },
    "executionInfo": {
     "elapsed": 1442420,
     "status": "ok",
     "timestamp": 1618402251091,
     "user": {
      "displayName": "Rachel Zoe Insler",
      "photoUrl": "https://lh3.googleusercontent.com/a-/AOh14GhmK2r7xxWnYN1Ct_QTmn12EjwUhd--V_NCFfbtLw=s64",
      "userId": "07749460636815525214"
     },
     "user_tz": 240
    },
    "id": "3tXYpb_EtcuU",
    "outputId": "d09c1f6e-aed3-4c53-cb85-d9e5b4e5783a"
   },
   "outputs": [
    {
     "name": "stderr",
     "output_type": "stream",
     "text": [
      "/Users/rachelinsler/ENTER/lib/python3.8/site-packages/sklearn/linear_model/_logistic.py:762: ConvergenceWarning: lbfgs failed to converge (status=1):\n",
      "STOP: TOTAL NO. of ITERATIONS REACHED LIMIT.\n",
      "\n",
      "Increase the number of iterations (max_iter) or scale the data as shown in:\n",
      "    https://scikit-learn.org/stable/modules/preprocessing.html\n",
      "Please also refer to the documentation for alternative solver options:\n",
      "    https://scikit-learn.org/stable/modules/linear_model.html#logistic-regression\n",
      "  n_iter_i = _check_optimize_result(\n",
      "/Users/rachelinsler/ENTER/lib/python3.8/site-packages/sklearn/linear_model/_logistic.py:762: ConvergenceWarning: lbfgs failed to converge (status=1):\n",
      "STOP: TOTAL NO. of ITERATIONS REACHED LIMIT.\n",
      "\n",
      "Increase the number of iterations (max_iter) or scale the data as shown in:\n",
      "    https://scikit-learn.org/stable/modules/preprocessing.html\n",
      "Please also refer to the documentation for alternative solver options:\n",
      "    https://scikit-learn.org/stable/modules/linear_model.html#logistic-regression\n",
      "  n_iter_i = _check_optimize_result(\n",
      "/Users/rachelinsler/ENTER/lib/python3.8/site-packages/sklearn/linear_model/_logistic.py:762: ConvergenceWarning: lbfgs failed to converge (status=1):\n",
      "STOP: TOTAL NO. of ITERATIONS REACHED LIMIT.\n",
      "\n",
      "Increase the number of iterations (max_iter) or scale the data as shown in:\n",
      "    https://scikit-learn.org/stable/modules/preprocessing.html\n",
      "Please also refer to the documentation for alternative solver options:\n",
      "    https://scikit-learn.org/stable/modules/linear_model.html#logistic-regression\n",
      "  n_iter_i = _check_optimize_result(\n",
      "/Users/rachelinsler/ENTER/lib/python3.8/site-packages/sklearn/linear_model/_logistic.py:762: ConvergenceWarning: lbfgs failed to converge (status=1):\n",
      "STOP: TOTAL NO. of ITERATIONS REACHED LIMIT.\n",
      "\n",
      "Increase the number of iterations (max_iter) or scale the data as shown in:\n",
      "    https://scikit-learn.org/stable/modules/preprocessing.html\n",
      "Please also refer to the documentation for alternative solver options:\n",
      "    https://scikit-learn.org/stable/modules/linear_model.html#logistic-regression\n",
      "  n_iter_i = _check_optimize_result(\n"
     ]
    },
    {
     "data": {
      "text/html": [
       "<div>\n",
       "<style scoped>\n",
       "    .dataframe tbody tr th:only-of-type {\n",
       "        vertical-align: middle;\n",
       "    }\n",
       "\n",
       "    .dataframe tbody tr th {\n",
       "        vertical-align: top;\n",
       "    }\n",
       "\n",
       "    .dataframe thead th {\n",
       "        text-align: right;\n",
       "    }\n",
       "</style>\n",
       "<table border=\"1\" class=\"dataframe\">\n",
       "  <thead>\n",
       "    <tr style=\"text-align: right;\">\n",
       "      <th></th>\n",
       "      <th>model_name</th>\n",
       "      <th>train_score</th>\n",
       "      <th>test_score</th>\n",
       "      <th>cv_score</th>\n",
       "    </tr>\n",
       "  </thead>\n",
       "  <tbody>\n",
       "    <tr>\n",
       "      <th>0</th>\n",
       "      <td>LogisticRegression()</td>\n",
       "      <td>0.792064</td>\n",
       "      <td>0.790688</td>\n",
       "      <td>0.785480</td>\n",
       "    </tr>\n",
       "    <tr>\n",
       "      <th>1</th>\n",
       "      <td>GradientBoostingClassifier()</td>\n",
       "      <td>0.789894</td>\n",
       "      <td>0.786250</td>\n",
       "      <td>0.786392</td>\n",
       "    </tr>\n",
       "    <tr>\n",
       "      <th>2</th>\n",
       "      <td>RandomForestClassifier()</td>\n",
       "      <td>0.887870</td>\n",
       "      <td>0.770468</td>\n",
       "      <td>0.767700</td>\n",
       "    </tr>\n",
       "  </tbody>\n",
       "</table>\n",
       "</div>"
      ],
      "text/plain": [
       "                     model_name  train_score  test_score  cv_score\n",
       "0          LogisticRegression()     0.792064    0.790688  0.785480\n",
       "1  GradientBoostingClassifier()     0.789894    0.786250  0.786392\n",
       "2      RandomForestClassifier()     0.887870    0.770468  0.767700"
      ]
     },
     "execution_count": 34,
     "metadata": {},
     "output_type": "execute_result"
    }
   ],
   "source": [
    "#vectorize features\n",
    "cvec = CountVectorizer(stop_words=stop_words, max_features = 1_000, max_df=.98, min_df = 2, ngram_range =(1, 3))\n",
    "X_train_cvec = cvec.fit_transform(X_train)\n",
    "X_test_cvec = cvec.transform(X_test)\n",
    "\n",
    "#create a list to store each model's results in a dictionary\n",
    "classifier_list = []\n",
    "\n",
    "for model_obj in model_list:\n",
    "    #instantiate each model \n",
    "    model = model_obj\n",
    "\n",
    "    #fit the model\n",
    "    model.fit(X_train_cvec, y_train) \n",
    "  \n",
    "    #create a dictionary with scores and evaluation metrics for each model\n",
    "    results_dict = {}    \n",
    "    results_dict['model_name'] = str(model_obj)\n",
    "    results_dict['train_score'] = model.score(X_train_cvec, y_train)\n",
    "    results_dict['test_score'] = model.score(X_test_cvec, y_test)\n",
    "    results_dict['cv_score'] = cross_val_score(model, X_train_cvec, y_train, cv = 3).mean()\n",
    "        \n",
    "    #add the dictionary to the list\n",
    "    classifier_list.append(results_dict)\n",
    "\n",
    "#create a dataframe and display dictionary\n",
    "loan_use_results = pd.DataFrame(classifier_list)\n",
    "loan_use_results"
   ]
  },
  {
   "cell_type": "markdown",
   "metadata": {
    "id": "R_FLSe7HKT7M"
   },
   "source": [
    "#### TVEC"
   ]
  },
  {
   "cell_type": "code",
   "execution_count": 35,
   "metadata": {
    "colab": {
     "base_uri": "https://localhost:8080/",
     "height": 0
    },
    "executionInfo": {
     "elapsed": 1569949,
     "status": "ok",
     "timestamp": 1618402378622,
     "user": {
      "displayName": "Rachel Zoe Insler",
      "photoUrl": "https://lh3.googleusercontent.com/a-/AOh14GhmK2r7xxWnYN1Ct_QTmn12EjwUhd--V_NCFfbtLw=s64",
      "userId": "07749460636815525214"
     },
     "user_tz": 240
    },
    "id": "llAh-n6lKXrd",
    "outputId": "f3641001-9ca5-4c05-f895-eca5211bf126"
   },
   "outputs": [
    {
     "name": "stderr",
     "output_type": "stream",
     "text": [
      "/Users/rachelinsler/ENTER/lib/python3.8/site-packages/sklearn/linear_model/_logistic.py:762: ConvergenceWarning: lbfgs failed to converge (status=1):\n",
      "STOP: TOTAL NO. of ITERATIONS REACHED LIMIT.\n",
      "\n",
      "Increase the number of iterations (max_iter) or scale the data as shown in:\n",
      "    https://scikit-learn.org/stable/modules/preprocessing.html\n",
      "Please also refer to the documentation for alternative solver options:\n",
      "    https://scikit-learn.org/stable/modules/linear_model.html#logistic-regression\n",
      "  n_iter_i = _check_optimize_result(\n",
      "/Users/rachelinsler/ENTER/lib/python3.8/site-packages/sklearn/linear_model/_logistic.py:762: ConvergenceWarning: lbfgs failed to converge (status=1):\n",
      "STOP: TOTAL NO. of ITERATIONS REACHED LIMIT.\n",
      "\n",
      "Increase the number of iterations (max_iter) or scale the data as shown in:\n",
      "    https://scikit-learn.org/stable/modules/preprocessing.html\n",
      "Please also refer to the documentation for alternative solver options:\n",
      "    https://scikit-learn.org/stable/modules/linear_model.html#logistic-regression\n",
      "  n_iter_i = _check_optimize_result(\n",
      "/Users/rachelinsler/ENTER/lib/python3.8/site-packages/sklearn/linear_model/_logistic.py:762: ConvergenceWarning: lbfgs failed to converge (status=1):\n",
      "STOP: TOTAL NO. of ITERATIONS REACHED LIMIT.\n",
      "\n",
      "Increase the number of iterations (max_iter) or scale the data as shown in:\n",
      "    https://scikit-learn.org/stable/modules/preprocessing.html\n",
      "Please also refer to the documentation for alternative solver options:\n",
      "    https://scikit-learn.org/stable/modules/linear_model.html#logistic-regression\n",
      "  n_iter_i = _check_optimize_result(\n",
      "/Users/rachelinsler/ENTER/lib/python3.8/site-packages/sklearn/linear_model/_logistic.py:762: ConvergenceWarning: lbfgs failed to converge (status=1):\n",
      "STOP: TOTAL NO. of ITERATIONS REACHED LIMIT.\n",
      "\n",
      "Increase the number of iterations (max_iter) or scale the data as shown in:\n",
      "    https://scikit-learn.org/stable/modules/preprocessing.html\n",
      "Please also refer to the documentation for alternative solver options:\n",
      "    https://scikit-learn.org/stable/modules/linear_model.html#logistic-regression\n",
      "  n_iter_i = _check_optimize_result(\n"
     ]
    },
    {
     "data": {
      "text/html": [
       "<div>\n",
       "<style scoped>\n",
       "    .dataframe tbody tr th:only-of-type {\n",
       "        vertical-align: middle;\n",
       "    }\n",
       "\n",
       "    .dataframe tbody tr th {\n",
       "        vertical-align: top;\n",
       "    }\n",
       "\n",
       "    .dataframe thead th {\n",
       "        text-align: right;\n",
       "    }\n",
       "</style>\n",
       "<table border=\"1\" class=\"dataframe\">\n",
       "  <thead>\n",
       "    <tr style=\"text-align: right;\">\n",
       "      <th></th>\n",
       "      <th>model_name</th>\n",
       "      <th>train_score</th>\n",
       "      <th>test_score</th>\n",
       "      <th>cv_score</th>\n",
       "    </tr>\n",
       "  </thead>\n",
       "  <tbody>\n",
       "    <tr>\n",
       "      <th>0</th>\n",
       "      <td>LogisticRegression()</td>\n",
       "      <td>0.795591</td>\n",
       "      <td>0.789110</td>\n",
       "      <td>0.788784</td>\n",
       "    </tr>\n",
       "    <tr>\n",
       "      <th>1</th>\n",
       "      <td>GradientBoostingClassifier()</td>\n",
       "      <td>0.791818</td>\n",
       "      <td>0.789505</td>\n",
       "      <td>0.786491</td>\n",
       "    </tr>\n",
       "    <tr>\n",
       "      <th>2</th>\n",
       "      <td>RandomForestClassifier()</td>\n",
       "      <td>0.902468</td>\n",
       "      <td>0.778655</td>\n",
       "      <td>0.775887</td>\n",
       "    </tr>\n",
       "  </tbody>\n",
       "</table>\n",
       "</div>"
      ],
      "text/plain": [
       "                     model_name  train_score  test_score  cv_score\n",
       "0          LogisticRegression()     0.795591    0.789110  0.788784\n",
       "1  GradientBoostingClassifier()     0.791818    0.789505  0.786491\n",
       "2      RandomForestClassifier()     0.902468    0.778655  0.775887"
      ]
     },
     "execution_count": 35,
     "metadata": {},
     "output_type": "execute_result"
    }
   ],
   "source": [
    "#vectorize features with TF-IDF\n",
    "tvec = TfidfVectorizer()\n",
    "X_train_tvec = tvec.fit_transform(X_train)\n",
    "X_test_tvec = tvec.transform(X_test)\n",
    "\n",
    "#create a list to store each model's results in a dictionary\n",
    "classifier_list = []\n",
    "\n",
    "for model_obj in model_list:\n",
    "    #instantiate each model \n",
    "    model = model_obj\n",
    "\n",
    "    #fit the model\n",
    "    model.fit(X_train_tvec, y_train) \n",
    "  \n",
    "    #create a dictionary with scores and evaluation metrics for each model\n",
    "    results_dict = {}    \n",
    "    results_dict['model_name'] = str(model_obj)\n",
    "    results_dict['train_score'] = model.score(X_train_tvec, y_train)\n",
    "    results_dict['test_score'] = model.score(X_test_tvec, y_test)\n",
    "    results_dict['cv_score'] = cross_val_score(model, X_train_tvec, y_train, cv = 3).mean()\n",
    "        \n",
    "    #add the dictionary to the list\n",
    "    classifier_list.append(results_dict)\n",
    "\n",
    "#create a dataframe and display dictionary\n",
    "loan_use_tvec_results = pd.DataFrame(classifier_list)\n",
    "loan_use_tvec_results"
   ]
  },
  {
   "cell_type": "markdown",
   "metadata": {
    "id": "AAOdYuveGnf-"
   },
   "source": [
    "# Interpretation and Next Steps\n",
    "\n",
    "*  The LOAN_USE column does not appear to be predictive. \n",
    "\n",
    "*  For the 'DESCRIPTION_TRANSLATED' column, the logistic regression model with TVEC produced a slight improvement over the null model, without dramatic overfitting like RF. \n",
    "     *  Next steps are to tune this model. "
   ]
  },
  {
   "cell_type": "markdown",
   "metadata": {},
   "source": [
    "### Logistic Regression with TVEC"
   ]
  },
  {
   "cell_type": "code",
   "execution_count": 40,
   "metadata": {
    "executionInfo": {
     "elapsed": 8224,
     "status": "ok",
     "timestamp": 1618400816860,
     "user": {
      "displayName": "Rachel Zoe Insler",
      "photoUrl": "https://lh3.googleusercontent.com/a-/AOh14GhmK2r7xxWnYN1Ct_QTmn12EjwUhd--V_NCFfbtLw=s64",
      "userId": "07749460636815525214"
     },
     "user_tz": 240
    },
    "id": "JNKvt8UHl0LG"
   },
   "outputs": [],
   "source": [
    "#set up X and y\n",
    "\n",
    "X = kiva['DESCRIPTION_TRANSLATED']\n",
    "y = kiva['STATUS']"
   ]
  },
  {
   "cell_type": "code",
   "execution_count": 41,
   "metadata": {
    "colab": {
     "base_uri": "https://localhost:8080/"
    },
    "executionInfo": {
     "elapsed": 8222,
     "status": "ok",
     "timestamp": 1618400816861,
     "user": {
      "displayName": "Rachel Zoe Insler",
      "photoUrl": "https://lh3.googleusercontent.com/a-/AOh14GhmK2r7xxWnYN1Ct_QTmn12EjwUhd--V_NCFfbtLw=s64",
      "userId": "07749460636815525214"
     },
     "user_tz": 240
    },
    "id": "5dz28Od3nv70",
    "outputId": "ea63e502-114c-4c32-e3ad-f4345dff2421"
   },
   "outputs": [
    {
     "data": {
      "text/plain": [
       "1    0.782635\n",
       "0    0.217365\n",
       "Name: STATUS, dtype: float64"
      ]
     },
     "execution_count": 41,
     "metadata": {},
     "output_type": "execute_result"
    }
   ],
   "source": [
    "#check for baseline\n",
    "y.value_counts(normalize=True)"
   ]
  },
  {
   "cell_type": "code",
   "execution_count": 42,
   "metadata": {
    "executionInfo": {
     "elapsed": 8219,
     "status": "ok",
     "timestamp": 1618400816861,
     "user": {
      "displayName": "Rachel Zoe Insler",
      "photoUrl": "https://lh3.googleusercontent.com/a-/AOh14GhmK2r7xxWnYN1Ct_QTmn12EjwUhd--V_NCFfbtLw=s64",
      "userId": "07749460636815525214"
     },
     "user_tz": 240
    },
    "id": "fLjTahwhnyxk"
   },
   "outputs": [],
   "source": [
    "#train-test split\n",
    "X_train, X_test, y_train, y_test=train_test_split(X,\n",
    "                                                 y,\n",
    "                                                 test_size=.2,\n",
    "                                                 stratify=y,\n",
    "                                                 random_state=42)"
   ]
  },
  {
   "cell_type": "code",
   "execution_count": 43,
   "metadata": {},
   "outputs": [],
   "source": [
    "#vectorize features with TF-IDF\n",
    "tvec = TfidfVectorizer()\n",
    "X_train_tvec = tvec.fit_transform(X_train)\n",
    "X_test_tvec = tvec.transform(X_test)"
   ]
  },
  {
   "cell_type": "code",
   "execution_count": 46,
   "metadata": {},
   "outputs": [
    {
     "name": "stdout",
     "output_type": "stream",
     "text": [
      "0.8320633276614633 0.8126849477214441\n"
     ]
    }
   ],
   "source": [
    "logreg = LogisticRegression(solver='liblinear', max_iter=800)\n",
    "logreg.fit(X_train_tvec, y_train)\n",
    "print(logreg.score(X_train_tvec,y_train), logreg.score(X_test_tvec,y_test))"
   ]
  },
  {
   "cell_type": "code",
   "execution_count": 49,
   "metadata": {
    "executionInfo": {
     "elapsed": 1705357,
     "status": "ok",
     "timestamp": 1618402514039,
     "user": {
      "displayName": "Rachel Zoe Insler",
      "photoUrl": "https://lh3.googleusercontent.com/a-/AOh14GhmK2r7xxWnYN1Ct_QTmn12EjwUhd--V_NCFfbtLw=s64",
      "userId": "07749460636815525214"
     },
     "user_tz": 240
    },
    "id": "g1sSzh8GHZAj"
   },
   "outputs": [],
   "source": [
    "#explore words and their coefficients \n",
    "coef_dict = {'coefficient': logreg.coef_[0], 'words': tvec.get_feature_names()}\n",
    "coef_df = pd.DataFrame(coef_dict)\n",
    "coef_df.sort_values(by = 'coefficient', ascending=False, inplace=True)"
   ]
  },
  {
   "cell_type": "code",
   "execution_count": 50,
   "metadata": {},
   "outputs": [
    {
     "data": {
      "text/html": [
       "<div>\n",
       "<style scoped>\n",
       "    .dataframe tbody tr th:only-of-type {\n",
       "        vertical-align: middle;\n",
       "    }\n",
       "\n",
       "    .dataframe tbody tr th {\n",
       "        vertical-align: top;\n",
       "    }\n",
       "\n",
       "    .dataframe thead th {\n",
       "        text-align: right;\n",
       "    }\n",
       "</style>\n",
       "<table border=\"1\" class=\"dataframe\">\n",
       "  <thead>\n",
       "    <tr style=\"text-align: right;\">\n",
       "      <th></th>\n",
       "      <th>coefficient</th>\n",
       "      <th>words</th>\n",
       "    </tr>\n",
       "  </thead>\n",
       "  <tbody>\n",
       "    <tr>\n",
       "      <th>264</th>\n",
       "      <td>9.313969</td>\n",
       "      <td>20000</td>\n",
       "    </tr>\n",
       "    <tr>\n",
       "      <th>448</th>\n",
       "      <td>5.485393</td>\n",
       "      <td>30000</td>\n",
       "    </tr>\n",
       "    <tr>\n",
       "      <th>26022</th>\n",
       "      <td>3.693703</td>\n",
       "      <td>widow</td>\n",
       "    </tr>\n",
       "    <tr>\n",
       "      <th>22762</th>\n",
       "      <td>3.525157</td>\n",
       "      <td>single</td>\n",
       "    </tr>\n",
       "    <tr>\n",
       "      <th>10002</th>\n",
       "      <td>3.391801</td>\n",
       "      <td>grew</td>\n",
       "    </tr>\n",
       "    <tr>\n",
       "      <th>...</th>\n",
       "      <td>...</td>\n",
       "      <td>...</td>\n",
       "    </tr>\n",
       "    <tr>\n",
       "      <th>14635</th>\n",
       "      <td>-3.546532</td>\n",
       "      <td>man</td>\n",
       "    </tr>\n",
       "    <tr>\n",
       "      <th>834</th>\n",
       "      <td>-4.400946</td>\n",
       "      <td>80000</td>\n",
       "    </tr>\n",
       "    <tr>\n",
       "      <th>85</th>\n",
       "      <td>-4.553032</td>\n",
       "      <td>120000</td>\n",
       "    </tr>\n",
       "    <tr>\n",
       "      <th>140</th>\n",
       "      <td>-4.692798</td>\n",
       "      <td>150000</td>\n",
       "    </tr>\n",
       "    <tr>\n",
       "      <th>13</th>\n",
       "      <td>-6.715762</td>\n",
       "      <td>100000</td>\n",
       "    </tr>\n",
       "  </tbody>\n",
       "</table>\n",
       "<p>26634 rows × 2 columns</p>\n",
       "</div>"
      ],
      "text/plain": [
       "       coefficient   words\n",
       "264       9.313969   20000\n",
       "448       5.485393   30000\n",
       "26022     3.693703   widow\n",
       "22762     3.525157  single\n",
       "10002     3.391801    grew\n",
       "...            ...     ...\n",
       "14635    -3.546532     man\n",
       "834      -4.400946   80000\n",
       "85       -4.553032  120000\n",
       "140      -4.692798  150000\n",
       "13       -6.715762  100000\n",
       "\n",
       "[26634 rows x 2 columns]"
      ]
     },
     "execution_count": 50,
     "metadata": {},
     "output_type": "execute_result"
    }
   ],
   "source": [
    "coef_df"
   ]
  },
  {
   "cell_type": "code",
   "execution_count": 78,
   "metadata": {},
   "outputs": [
    {
     "name": "stderr",
     "output_type": "stream",
     "text": [
      "<ipython-input-78-88e79c778b65>:2: FutureWarning: The default value of regex will change from True to False in a future version.\n",
      "  kiva['DESCRIPTION_TRANSLATED'] = kiva['DESCRIPTION_TRANSLATED'].str.replace('\\d+', '')\n"
     ]
    }
   ],
   "source": [
    "#remove numbers from column\n",
    "kiva['DESCRIPTION_TRANSLATED'] = kiva['DESCRIPTION_TRANSLATED'].str.replace('\\d+', '')\n",
    "kiva['DESCRIPTION_TRANSLATED'] = kiva['DESCRIPTION_TRANSLATED'].str.replace('trainingbr', 'training')"
   ]
  },
  {
   "cell_type": "code",
   "execution_count": 79,
   "metadata": {
    "executionInfo": {
     "elapsed": 8224,
     "status": "ok",
     "timestamp": 1618400816860,
     "user": {
      "displayName": "Rachel Zoe Insler",
      "photoUrl": "https://lh3.googleusercontent.com/a-/AOh14GhmK2r7xxWnYN1Ct_QTmn12EjwUhd--V_NCFfbtLw=s64",
      "userId": "07749460636815525214"
     },
     "user_tz": 240
    },
    "id": "JNKvt8UHl0LG"
   },
   "outputs": [],
   "source": [
    "#set up X and y\n",
    "\n",
    "X = kiva['DESCRIPTION_TRANSLATED']\n",
    "y = kiva['STATUS']"
   ]
  },
  {
   "cell_type": "code",
   "execution_count": 80,
   "metadata": {
    "colab": {
     "base_uri": "https://localhost:8080/"
    },
    "executionInfo": {
     "elapsed": 8222,
     "status": "ok",
     "timestamp": 1618400816861,
     "user": {
      "displayName": "Rachel Zoe Insler",
      "photoUrl": "https://lh3.googleusercontent.com/a-/AOh14GhmK2r7xxWnYN1Ct_QTmn12EjwUhd--V_NCFfbtLw=s64",
      "userId": "07749460636815525214"
     },
     "user_tz": 240
    },
    "id": "5dz28Od3nv70",
    "outputId": "ea63e502-114c-4c32-e3ad-f4345dff2421"
   },
   "outputs": [
    {
     "data": {
      "text/plain": [
       "1    0.782635\n",
       "0    0.217365\n",
       "Name: STATUS, dtype: float64"
      ]
     },
     "execution_count": 80,
     "metadata": {},
     "output_type": "execute_result"
    }
   ],
   "source": [
    "#check for baseline\n",
    "y.value_counts(normalize=True)"
   ]
  },
  {
   "cell_type": "code",
   "execution_count": 81,
   "metadata": {
    "executionInfo": {
     "elapsed": 8219,
     "status": "ok",
     "timestamp": 1618400816861,
     "user": {
      "displayName": "Rachel Zoe Insler",
      "photoUrl": "https://lh3.googleusercontent.com/a-/AOh14GhmK2r7xxWnYN1Ct_QTmn12EjwUhd--V_NCFfbtLw=s64",
      "userId": "07749460636815525214"
     },
     "user_tz": 240
    },
    "id": "fLjTahwhnyxk"
   },
   "outputs": [],
   "source": [
    "#train-test split\n",
    "X_train, X_test, y_train, y_test=train_test_split(X,\n",
    "                                                 y,\n",
    "                                                 test_size=.2,\n",
    "                                                 stratify=y,\n",
    "                                                 random_state=42)"
   ]
  },
  {
   "cell_type": "code",
   "execution_count": 82,
   "metadata": {},
   "outputs": [],
   "source": [
    "## update stopwords\n",
    "my_stop = ['br', 'nan','rnrnhe']\n",
    "stop_words = my_stop"
   ]
  },
  {
   "cell_type": "code",
   "execution_count": 83,
   "metadata": {},
   "outputs": [],
   "source": [
    "#vectorize features with TF-IDF\n",
    "tvec = TfidfVectorizer(stop_words=stop_words)\n",
    "X_train_tvec = tvec.fit_transform(X_train)\n",
    "X_test_tvec = tvec.transform(X_test)"
   ]
  },
  {
   "cell_type": "code",
   "execution_count": 84,
   "metadata": {},
   "outputs": [
    {
     "name": "stdout",
     "output_type": "stream",
     "text": [
      "0.8204483243323223 0.8064707042809233\n"
     ]
    }
   ],
   "source": [
    "logreg = LogisticRegression(solver='liblinear', max_iter=800)\n",
    "logreg.fit(X_train_tvec, y_train)\n",
    "print(logreg.score(X_train_tvec,y_train), logreg.score(X_test_tvec,y_test))"
   ]
  },
  {
   "cell_type": "code",
   "execution_count": 85,
   "metadata": {
    "executionInfo": {
     "elapsed": 1705357,
     "status": "ok",
     "timestamp": 1618402514039,
     "user": {
      "displayName": "Rachel Zoe Insler",
      "photoUrl": "https://lh3.googleusercontent.com/a-/AOh14GhmK2r7xxWnYN1Ct_QTmn12EjwUhd--V_NCFfbtLw=s64",
      "userId": "07749460636815525214"
     },
     "user_tz": 240
    },
    "id": "g1sSzh8GHZAj"
   },
   "outputs": [],
   "source": [
    "#explore words and their coefficients \n",
    "coef_dict = {'coefficient': logreg.coef_[0], 'words': tvec.get_feature_names()}\n",
    "coef_df = pd.DataFrame(coef_dict)\n",
    "coef_df.sort_values(by = 'coefficient', ascending=False, inplace=True, key = abs)"
   ]
  },
  {
   "cell_type": "code",
   "execution_count": 86,
   "metadata": {},
   "outputs": [
    {
     "data": {
      "text/html": [
       "<div>\n",
       "<style scoped>\n",
       "    .dataframe tbody tr th:only-of-type {\n",
       "        vertical-align: middle;\n",
       "    }\n",
       "\n",
       "    .dataframe tbody tr th {\n",
       "        vertical-align: top;\n",
       "    }\n",
       "\n",
       "    .dataframe thead th {\n",
       "        text-align: right;\n",
       "    }\n",
       "</style>\n",
       "<table border=\"1\" class=\"dataframe\">\n",
       "  <thead>\n",
       "    <tr style=\"text-align: right;\">\n",
       "      <th></th>\n",
       "      <th>coefficient</th>\n",
       "      <th>words</th>\n",
       "    </tr>\n",
       "  </thead>\n",
       "  <tbody>\n",
       "    <tr>\n",
       "      <th>13641</th>\n",
       "      <td>-3.817638</td>\n",
       "      <td>man</td>\n",
       "    </tr>\n",
       "    <tr>\n",
       "      <th>25041</th>\n",
       "      <td>3.596605</td>\n",
       "      <td>widow</td>\n",
       "    </tr>\n",
       "    <tr>\n",
       "      <th>21782</th>\n",
       "      <td>3.301123</td>\n",
       "      <td>single</td>\n",
       "    </tr>\n",
       "    <tr>\n",
       "      <th>9080</th>\n",
       "      <td>3.163030</td>\n",
       "      <td>grew</td>\n",
       "    </tr>\n",
       "    <tr>\n",
       "      <th>16303</th>\n",
       "      <td>3.033246</td>\n",
       "      <td>north</td>\n",
       "    </tr>\n",
       "    <tr>\n",
       "      <th>25043</th>\n",
       "      <td>2.907011</td>\n",
       "      <td>widowed</td>\n",
       "    </tr>\n",
       "    <tr>\n",
       "      <th>24801</th>\n",
       "      <td>2.598028</td>\n",
       "      <td>water</td>\n",
       "    </tr>\n",
       "    <tr>\n",
       "      <th>8267</th>\n",
       "      <td>-2.573642</td>\n",
       "      <td>fourth</td>\n",
       "    </tr>\n",
       "    <tr>\n",
       "      <th>13167</th>\n",
       "      <td>-2.513684</td>\n",
       "      <td>loans</td>\n",
       "    </tr>\n",
       "    <tr>\n",
       "      <th>21577</th>\n",
       "      <td>-2.500201</td>\n",
       "      <td>shop</td>\n",
       "    </tr>\n",
       "    <tr>\n",
       "      <th>18397</th>\n",
       "      <td>-2.445786</td>\n",
       "      <td>profits</td>\n",
       "    </tr>\n",
       "    <tr>\n",
       "      <th>14911</th>\n",
       "      <td>-2.398666</td>\n",
       "      <td>mothers</td>\n",
       "    </tr>\n",
       "    <tr>\n",
       "      <th>21248</th>\n",
       "      <td>-2.363021</td>\n",
       "      <td>sells</td>\n",
       "    </tr>\n",
       "    <tr>\n",
       "      <th>7851</th>\n",
       "      <td>-2.279204</td>\n",
       "      <td>fifth</td>\n",
       "    </tr>\n",
       "    <tr>\n",
       "      <th>21860</th>\n",
       "      <td>-2.211119</td>\n",
       "      <td>sixth</td>\n",
       "    </tr>\n",
       "    <tr>\n",
       "      <th>14946</th>\n",
       "      <td>-2.138789</td>\n",
       "      <td>motorcycle</td>\n",
       "    </tr>\n",
       "    <tr>\n",
       "      <th>1924</th>\n",
       "      <td>2.117531</td>\n",
       "      <td>biodigester</td>\n",
       "    </tr>\n",
       "    <tr>\n",
       "      <th>2794</th>\n",
       "      <td>2.088008</td>\n",
       "      <td>carpentry</td>\n",
       "    </tr>\n",
       "    <tr>\n",
       "      <th>22303</th>\n",
       "      <td>-2.028463</td>\n",
       "      <td>stable</td>\n",
       "    </tr>\n",
       "    <tr>\n",
       "      <th>11063</th>\n",
       "      <td>2.009300</td>\n",
       "      <td>jiko</td>\n",
       "    </tr>\n",
       "    <tr>\n",
       "      <th>577</th>\n",
       "      <td>1.990725</td>\n",
       "      <td>alego</td>\n",
       "    </tr>\n",
       "    <tr>\n",
       "      <th>247</th>\n",
       "      <td>-1.986901</td>\n",
       "      <td>add</td>\n",
       "    </tr>\n",
       "    <tr>\n",
       "      <th>21976</th>\n",
       "      <td>1.982184</td>\n",
       "      <td>smep</td>\n",
       "    </tr>\n",
       "    <tr>\n",
       "      <th>14005</th>\n",
       "      <td>-1.964468</td>\n",
       "      <td>matete</td>\n",
       "    </tr>\n",
       "    <tr>\n",
       "      <th>9533</th>\n",
       "      <td>1.939103</td>\n",
       "      <td>hello</td>\n",
       "    </tr>\n",
       "  </tbody>\n",
       "</table>\n",
       "</div>"
      ],
      "text/plain": [
       "       coefficient        words\n",
       "13641    -3.817638          man\n",
       "25041     3.596605        widow\n",
       "21782     3.301123       single\n",
       "9080      3.163030         grew\n",
       "16303     3.033246        north\n",
       "25043     2.907011      widowed\n",
       "24801     2.598028        water\n",
       "8267     -2.573642       fourth\n",
       "13167    -2.513684        loans\n",
       "21577    -2.500201         shop\n",
       "18397    -2.445786      profits\n",
       "14911    -2.398666      mothers\n",
       "21248    -2.363021        sells\n",
       "7851     -2.279204        fifth\n",
       "21860    -2.211119        sixth\n",
       "14946    -2.138789   motorcycle\n",
       "1924      2.117531  biodigester\n",
       "2794      2.088008    carpentry\n",
       "22303    -2.028463       stable\n",
       "11063     2.009300         jiko\n",
       "577       1.990725        alego\n",
       "247      -1.986901          add\n",
       "21976     1.982184         smep\n",
       "14005    -1.964468       matete\n",
       "9533      1.939103        hello"
      ]
     },
     "execution_count": 86,
     "metadata": {},
     "output_type": "execute_result"
    }
   ],
   "source": [
    "coef_df.head(25)"
   ]
  },
  {
   "cell_type": "code",
   "execution_count": null,
   "metadata": {},
   "outputs": [],
   "source": []
  },
  {
   "cell_type": "code",
   "execution_count": null,
   "metadata": {},
   "outputs": [],
   "source": []
  }
 ],
 "metadata": {
  "accelerator": "GPU",
  "colab": {
   "authorship_tag": "ABX9TyNY1c/G4xv601jGrOwU05jU",
   "collapsed_sections": [
    "YRIOAKJuqCmb",
    "_-3dVoEtKPWp",
    "R_FLSe7HKT7M"
   ],
   "mount_file_id": "1b0GuJ9EXpmMKJ7ygc2ftB__gm5BHPcU0",
   "name": "rzi_early_eda_bag_of_words_modeling.ipynb",
   "provenance": []
  },
  "kernelspec": {
   "display_name": "Python 3",
   "language": "python",
   "name": "python3"
  },
  "language_info": {
   "codemirror_mode": {
    "name": "ipython",
    "version": 3
   },
   "file_extension": ".py",
   "mimetype": "text/x-python",
   "name": "python",
   "nbconvert_exporter": "python",
   "pygments_lexer": "ipython3",
   "version": "3.8.5"
  }
 },
 "nbformat": 4,
 "nbformat_minor": 4
}
