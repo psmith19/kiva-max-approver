{
 "cells": [
  {
   "cell_type": "markdown",
   "metadata": {
    "id": "EDWM1G28NkzD"
   },
   "source": [
    "# Pre-Processing\n",
    "This notebook will pre-process a cleaned KivaMaxApprover project .csv dataset."
   ]
  },
  {
   "cell_type": "code",
   "execution_count": 1,
   "metadata": {
    "id": "PJj-pyWbNoIG"
   },
   "outputs": [],
   "source": [
    "#imports\n",
    "import pandas as pd\n",
    "import numpy as np\n",
    "import matplotlib.pyplot as plt\n",
    "import seaborn as sns\n",
    "\n",
    "#nlp\n",
    "import nltk\n",
    "from nltk.tokenize import word_tokenize, RegexpTokenizer, WhitespaceTokenizer\n",
    "from nltk.stem import WordNetLemmatizer, PorterStemmer\n",
    "from nltk.corpus import stopwords\n",
    "from nltk import FreqDist, pos_tag\n",
    "from sklearn.feature_extraction import text"
   ]
  },
  {
   "cell_type": "code",
   "execution_count": 2,
   "metadata": {
    "id": "-E_uyEKWPhzH"
   },
   "outputs": [],
   "source": [
    "# #read in data on colab\n",
    "# kiva = pd.read_csv('/content/drive/MyDrive/Colab/group_project/cleaned_nlp.csv')\n",
    "\n",
    "#read in data on drive\n",
    "kiva = pd.read_csv('data/cleaned_nlp.csv')"
   ]
  },
  {
   "cell_type": "code",
   "execution_count": 3,
   "metadata": {
    "colab": {
     "base_uri": "https://localhost:8080/",
     "height": 204
    },
    "executionInfo": {
     "elapsed": 6601,
     "status": "ok",
     "timestamp": 1618359629344,
     "user": {
      "displayName": "Rachel Zoe Insler",
      "photoUrl": "https://lh3.googleusercontent.com/a-/AOh14GhmK2r7xxWnYN1Ct_QTmn12EjwUhd--V_NCFfbtLw=s64",
      "userId": "07749460636815525214"
     },
     "user_tz": 240
    },
    "id": "PFxWGFcTPsdv",
    "outputId": "bf7f3b7d-c44e-4c3b-ef95-d6c180313ff2"
   },
   "outputs": [
    {
     "data": {
      "text/html": [
       "<div>\n",
       "<style scoped>\n",
       "    .dataframe tbody tr th:only-of-type {\n",
       "        vertical-align: middle;\n",
       "    }\n",
       "\n",
       "    .dataframe tbody tr th {\n",
       "        vertical-align: top;\n",
       "    }\n",
       "\n",
       "    .dataframe thead th {\n",
       "        text-align: right;\n",
       "    }\n",
       "</style>\n",
       "<table border=\"1\" class=\"dataframe\">\n",
       "  <thead>\n",
       "    <tr style=\"text-align: right;\">\n",
       "      <th></th>\n",
       "      <th>LOAN_ID</th>\n",
       "      <th>DESCRIPTION_TRANSLATED</th>\n",
       "      <th>LOAN_USE</th>\n",
       "      <th>TAGS</th>\n",
       "      <th>STATUS</th>\n",
       "    </tr>\n",
       "  </thead>\n",
       "  <tbody>\n",
       "    <tr>\n",
       "      <th>0</th>\n",
       "      <td>1455352</td>\n",
       "      <td>The city of Portoviejo is located in the valle...</td>\n",
       "      <td>to purchase natural products.</td>\n",
       "      <td>#Repeat Borrower, #Health and Sanitation</td>\n",
       "      <td>1</td>\n",
       "    </tr>\n",
       "    <tr>\n",
       "      <th>1</th>\n",
       "      <td>1727469</td>\n",
       "      <td>Lorna is a married woman, 39 years old with fi...</td>\n",
       "      <td>to purchase additional stocks of Avon, Natasha...</td>\n",
       "      <td>#Woman-Owned Business, #Parent</td>\n",
       "      <td>0</td>\n",
       "    </tr>\n",
       "    <tr>\n",
       "      <th>2</th>\n",
       "      <td>1747998</td>\n",
       "      <td>Anita is a 32-year-old married woman residing ...</td>\n",
       "      <td>to purchase lentils, oil, salt, etc. in bulk i...</td>\n",
       "      <td>#Woman-Owned Business</td>\n",
       "      <td>1</td>\n",
       "    </tr>\n",
       "    <tr>\n",
       "      <th>3</th>\n",
       "      <td>1342372</td>\n",
       "      <td>Saeeda is a 45-year-old woman, living with her...</td>\n",
       "      <td>to buy embroidery raw materials such as thread...</td>\n",
       "      <td>#Fabrics, #Woman-Owned Business, user_favorite...</td>\n",
       "      <td>1</td>\n",
       "    </tr>\n",
       "    <tr>\n",
       "      <th>4</th>\n",
       "      <td>1632606</td>\n",
       "      <td>Pablo is an enterprising young man who has the...</td>\n",
       "      <td>to buy a POS (point of sale) terminal that wil...</td>\n",
       "      <td>#Single, #Technology, #Biz Durable Asset</td>\n",
       "      <td>0</td>\n",
       "    </tr>\n",
       "  </tbody>\n",
       "</table>\n",
       "</div>"
      ],
      "text/plain": [
       "   LOAN_ID                             DESCRIPTION_TRANSLATED  \\\n",
       "0  1455352  The city of Portoviejo is located in the valle...   \n",
       "1  1727469  Lorna is a married woman, 39 years old with fi...   \n",
       "2  1747998  Anita is a 32-year-old married woman residing ...   \n",
       "3  1342372  Saeeda is a 45-year-old woman, living with her...   \n",
       "4  1632606  Pablo is an enterprising young man who has the...   \n",
       "\n",
       "                                            LOAN_USE  \\\n",
       "0                      to purchase natural products.   \n",
       "1  to purchase additional stocks of Avon, Natasha...   \n",
       "2  to purchase lentils, oil, salt, etc. in bulk i...   \n",
       "3  to buy embroidery raw materials such as thread...   \n",
       "4  to buy a POS (point of sale) terminal that wil...   \n",
       "\n",
       "                                                TAGS  STATUS  \n",
       "0           #Repeat Borrower, #Health and Sanitation       1  \n",
       "1                     #Woman-Owned Business, #Parent       0  \n",
       "2                              #Woman-Owned Business       1  \n",
       "3  #Fabrics, #Woman-Owned Business, user_favorite...       1  \n",
       "4           #Single, #Technology, #Biz Durable Asset       0  "
      ]
     },
     "execution_count": 3,
     "metadata": {},
     "output_type": "execute_result"
    }
   ],
   "source": [
    "kiva.head()"
   ]
  },
  {
   "cell_type": "code",
   "execution_count": 4,
   "metadata": {},
   "outputs": [],
   "source": [
    "text_columns = ['DESCRIPTION_TRANSLATED', 'LOAN_USE', 'TAGS']\n"
   ]
  },
  {
   "cell_type": "code",
   "execution_count": 5,
   "metadata": {
    "id": "37WHQUz6daUU"
   },
   "outputs": [],
   "source": [
    "# #ensure that all text fields are strings\n",
    "\n",
    "# for column in text_columns:\n",
    "#   kiva[column] = kiva[column].astype(str)\n"
   ]
  },
  {
   "cell_type": "markdown",
   "metadata": {
    "id": "JohY3KCFiVZG"
   },
   "source": [
    "### Remove Special Characters"
   ]
  },
  {
   "cell_type": "code",
   "execution_count": 6,
   "metadata": {
    "id": "BaYkB4f5iZSI"
   },
   "outputs": [],
   "source": [
    "for column in text_columns:\n",
    "    kiva[column] = kiva[column].replace('[^\\w ]','',regex=True).astype(str) "
   ]
  },
  {
   "cell_type": "markdown",
   "metadata": {
    "id": "ulFJUBflitEz"
   },
   "source": [
    "### Tokenizer & Lowercase"
   ]
  },
  {
   "cell_type": "code",
   "execution_count": 7,
   "metadata": {
    "id": "wZAzNu6Aiyuk"
   },
   "outputs": [],
   "source": [
    "w_tokenizer = WhitespaceTokenizer()"
   ]
  },
  {
   "cell_type": "code",
   "execution_count": 8,
   "metadata": {
    "id": "MZDsv3OSi-OU"
   },
   "outputs": [],
   "source": [
    "for column in text_columns: \n",
    "    kiva[column] = kiva[column].apply(lambda x: w_tokenizer.tokenize(x.lower()))"
   ]
  },
  {
   "cell_type": "markdown",
   "metadata": {
    "id": "YXTuBJdKj60A"
   },
   "source": [
    "### Remove English Stopwords"
   ]
  },
  {
   "cell_type": "code",
   "execution_count": 9,
   "metadata": {
    "id": "xY6rqnzejtaB"
   },
   "outputs": [],
   "source": [
    "stop_words = text.ENGLISH_STOP_WORDS\n",
    "# Remove stopwords function\n",
    "\n",
    "def remove_stopwords(text):\n",
    "    return [word for word in text if word not in stop_words]"
   ]
  },
  {
   "cell_type": "code",
   "execution_count": 10,
   "metadata": {
    "id": "MLBAKIdSkDKP"
   },
   "outputs": [],
   "source": [
    "for column in ['DESCRIPTION_TRANSLATED', 'LOAN_USE']:\n",
    "    kiva[column] = kiva[column].apply(lambda x: remove_stopwords(x))"
   ]
  },
  {
   "cell_type": "code",
   "execution_count": 11,
   "metadata": {},
   "outputs": [
    {
     "data": {
      "text/plain": [
       "['city',\n",
       " 'portoviejo',\n",
       " 'located',\n",
       " 'valley',\n",
       " 'portoviejo',\n",
       " 'river',\n",
       " 'known',\n",
       " 'city',\n",
       " 'royal',\n",
       " 'tamarinds',\n",
       " 'affected',\n",
       " 'earthquake',\n",
       " 'april',\n",
       " '16',\n",
       " '2016',\n",
       " 'city',\n",
       " 'rich',\n",
       " 'production',\n",
       " 'vegetables',\n",
       " 'legumes',\n",
       " 'tropical',\n",
       " 'fruits',\n",
       " 'local',\n",
       " 'consumptionbr',\n",
       " 'br',\n",
       " 'raisa',\n",
       " '25',\n",
       " 'years',\n",
       " 'old',\n",
       " 'commonlaw',\n",
       " 'relationship',\n",
       " 'fouryearold',\n",
       " 'child',\n",
       " 'school',\n",
       " 'partner',\n",
       " 'locksmith',\n",
       " 'live',\n",
       " 'family',\n",
       " 'home',\n",
       " 'br',\n",
       " 'br',\n",
       " 'raisa',\n",
       " 'works',\n",
       " 'selling',\n",
       " 'natures',\n",
       " 'garden',\n",
       " 'natural',\n",
       " 'products',\n",
       " 'natural',\n",
       " 'health',\n",
       " 'beauty',\n",
       " 'products',\n",
       " 'father',\n",
       " 'goes',\n",
       " 'make',\n",
       " 'sales',\n",
       " 'saturdays',\n",
       " 'sundays',\n",
       " 'lowincome',\n",
       " 'neighborhoods',\n",
       " 'offering',\n",
       " 'products',\n",
       " 'credit',\n",
       " 'collecting',\n",
       " 'payments',\n",
       " 'week',\n",
       " 'customers',\n",
       " 'buses',\n",
       " 'carrying',\n",
       " 'merchandise',\n",
       " 'br',\n",
       " 'br',\n",
       " 'business',\n",
       " 'years',\n",
       " 'works',\n",
       " 'monday',\n",
       " 'friday',\n",
       " 'private',\n",
       " 'business',\n",
       " 'new',\n",
       " 'loan',\n",
       " 'buy',\n",
       " 'natural',\n",
       " 'products',\n",
       " 'br',\n",
       " 'br',\n",
       " 'likes',\n",
       " 'loans',\n",
       " 'rates',\n",
       " 'low',\n",
       " 'dream',\n",
       " 'vehicle',\n",
       " 'order',\n",
       " 'new',\n",
       " 'places']"
      ]
     },
     "execution_count": 11,
     "metadata": {},
     "output_type": "execute_result"
    }
   ],
   "source": [
    "kiva['DESCRIPTION_TRANSLATED'][0]"
   ]
  },
  {
   "cell_type": "code",
   "execution_count": 12,
   "metadata": {},
   "outputs": [
    {
     "data": {
      "text/html": [
       "<div>\n",
       "<style scoped>\n",
       "    .dataframe tbody tr th:only-of-type {\n",
       "        vertical-align: middle;\n",
       "    }\n",
       "\n",
       "    .dataframe tbody tr th {\n",
       "        vertical-align: top;\n",
       "    }\n",
       "\n",
       "    .dataframe thead th {\n",
       "        text-align: right;\n",
       "    }\n",
       "</style>\n",
       "<table border=\"1\" class=\"dataframe\">\n",
       "  <thead>\n",
       "    <tr style=\"text-align: right;\">\n",
       "      <th></th>\n",
       "      <th>LOAN_ID</th>\n",
       "      <th>DESCRIPTION_TRANSLATED</th>\n",
       "      <th>LOAN_USE</th>\n",
       "      <th>TAGS</th>\n",
       "      <th>STATUS</th>\n",
       "    </tr>\n",
       "  </thead>\n",
       "  <tbody>\n",
       "    <tr>\n",
       "      <th>0</th>\n",
       "      <td>1455352</td>\n",
       "      <td>[city, portoviejo, located, valley, portoviejo...</td>\n",
       "      <td>[purchase, natural, products]</td>\n",
       "      <td>[repeat, borrower, health, and, sanitation]</td>\n",
       "      <td>1</td>\n",
       "    </tr>\n",
       "    <tr>\n",
       "      <th>1</th>\n",
       "      <td>1727469</td>\n",
       "      <td>[lorna, married, woman, 39, years, old, childr...</td>\n",
       "      <td>[purchase, additional, stocks, avon, natasha, ...</td>\n",
       "      <td>[womanowned, business, parent]</td>\n",
       "      <td>0</td>\n",
       "    </tr>\n",
       "    <tr>\n",
       "      <th>2</th>\n",
       "      <td>1747998</td>\n",
       "      <td>[anita, 32yearold, married, woman, residing, j...</td>\n",
       "      <td>[purchase, lentils, oil, salt, bulk, order, ex...</td>\n",
       "      <td>[womanowned, business]</td>\n",
       "      <td>1</td>\n",
       "    </tr>\n",
       "    <tr>\n",
       "      <th>3</th>\n",
       "      <td>1342372</td>\n",
       "      <td>[saeeda, 45yearold, woman, living, spouse, are...</td>\n",
       "      <td>[buy, embroidery, raw, materials, thread, fanc...</td>\n",
       "      <td>[fabrics, womanowned, business, user_favorite,...</td>\n",
       "      <td>1</td>\n",
       "    </tr>\n",
       "    <tr>\n",
       "      <th>4</th>\n",
       "      <td>1632606</td>\n",
       "      <td>[pablo, enterprising, young, man, drive, forwa...</td>\n",
       "      <td>[buy, pos, point, sale, terminal, make, transa...</td>\n",
       "      <td>[single, technology, biz, durable, asset]</td>\n",
       "      <td>0</td>\n",
       "    </tr>\n",
       "  </tbody>\n",
       "</table>\n",
       "</div>"
      ],
      "text/plain": [
       "   LOAN_ID                             DESCRIPTION_TRANSLATED  \\\n",
       "0  1455352  [city, portoviejo, located, valley, portoviejo...   \n",
       "1  1727469  [lorna, married, woman, 39, years, old, childr...   \n",
       "2  1747998  [anita, 32yearold, married, woman, residing, j...   \n",
       "3  1342372  [saeeda, 45yearold, woman, living, spouse, are...   \n",
       "4  1632606  [pablo, enterprising, young, man, drive, forwa...   \n",
       "\n",
       "                                            LOAN_USE  \\\n",
       "0                      [purchase, natural, products]   \n",
       "1  [purchase, additional, stocks, avon, natasha, ...   \n",
       "2  [purchase, lentils, oil, salt, bulk, order, ex...   \n",
       "3  [buy, embroidery, raw, materials, thread, fanc...   \n",
       "4  [buy, pos, point, sale, terminal, make, transa...   \n",
       "\n",
       "                                                TAGS  STATUS  \n",
       "0        [repeat, borrower, health, and, sanitation]       1  \n",
       "1                     [womanowned, business, parent]       0  \n",
       "2                             [womanowned, business]       1  \n",
       "3  [fabrics, womanowned, business, user_favorite,...       1  \n",
       "4          [single, technology, biz, durable, asset]       0  "
      ]
     },
     "execution_count": 12,
     "metadata": {},
     "output_type": "execute_result"
    }
   ],
   "source": [
    "kiva.head()"
   ]
  },
  {
   "cell_type": "code",
   "execution_count": 13,
   "metadata": {
    "colab": {
     "base_uri": "https://localhost:8080/",
     "height": 0
    },
    "executionInfo": {
     "elapsed": 593,
     "status": "error",
     "timestamp": 1618401047459,
     "user": {
      "displayName": "Rachel Zoe Insler",
      "photoUrl": "https://lh3.googleusercontent.com/a-/AOh14GhmK2r7xxWnYN1Ct_QTmn12EjwUhd--V_NCFfbtLw=s64",
      "userId": "07749460636815525214"
     },
     "user_tz": 240
    },
    "id": "TMzxe_e2kUOS",
    "outputId": "636b9313-e33c-4420-c263-61a34649f7c0"
   },
   "outputs": [],
   "source": [
    "# # save the entire dataset\n",
    "# kiva.to_csv('/content/drive/MyDrive/Colab/group_project/pre_processed_kiva.csv')\n",
    "\n",
    "#save data on local machine\n",
    "kiva.to_csv('data/pre_processed_nlp.csv')"
   ]
  },
  {
   "cell_type": "code",
   "execution_count": null,
   "metadata": {
    "id": "3YDrnvuBkX7a"
   },
   "outputs": [],
   "source": []
  }
 ],
 "metadata": {
  "colab": {
   "authorship_tag": "ABX9TyMAf5QRISoXKk+Yd6PnqUE8",
   "collapsed_sections": [],
   "mount_file_id": "1mhkaxdNsoGWD13C7-h1WRbspUH0h3wzy",
   "name": "rzi_preprocessing.ipynb",
   "provenance": [],
   "toc_visible": true
  },
  "kernelspec": {
   "display_name": "Python 3",
   "language": "python",
   "name": "python3"
  },
  "language_info": {
   "codemirror_mode": {
    "name": "ipython",
    "version": 3
   },
   "file_extension": ".py",
   "mimetype": "text/x-python",
   "name": "python",
   "nbconvert_exporter": "python",
   "pygments_lexer": "ipython3",
   "version": "3.8.5"
  }
 },
 "nbformat": 4,
 "nbformat_minor": 4
}
