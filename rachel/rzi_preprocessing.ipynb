{
 "cells": [
  {
   "cell_type": "markdown",
   "metadata": {
    "id": "EDWM1G28NkzD"
   },
   "source": [
    "# Pre-Processing\n",
    "This notebook will pre-process a cleaned KivaMaxApprover project .csv dataset."
   ]
  },
  {
   "cell_type": "code",
   "execution_count": 1,
   "metadata": {
    "id": "PJj-pyWbNoIG"
   },
   "outputs": [],
   "source": [
    "#imports\n",
    "import pandas as pd\n",
    "import numpy as np\n",
    "import matplotlib.pyplot as plt\n",
    "import seaborn as sns\n",
    "\n",
    "#nlp\n",
    "import nltk\n",
    "from nltk.tokenize import word_tokenize, RegexpTokenizer, WhitespaceTokenizer\n",
    "from nltk.stem import WordNetLemmatizer, PorterStemmer\n",
    "from nltk.corpus import stopwords\n",
    "from nltk import FreqDist, pos_tag\n",
    "from sklearn.feature_extraction import text"
   ]
  },
  {
   "cell_type": "code",
   "execution_count": 2,
   "metadata": {},
   "outputs": [],
   "source": [
    "#establish input & output filenames\n",
    "\n",
    "filename = ('data/kenya_cleaned_nlp.csv')\n",
    "op_filename = ('data/kenya_pre_processed_nlp.csv')"
   ]
  },
  {
   "cell_type": "code",
   "execution_count": 3,
   "metadata": {
    "id": "-E_uyEKWPhzH"
   },
   "outputs": [],
   "source": [
    "# read in data \n",
    "kiva = pd.read_csv(filename)"
   ]
  },
  {
   "cell_type": "code",
   "execution_count": 4,
   "metadata": {
    "colab": {
     "base_uri": "https://localhost:8080/",
     "height": 204
    },
    "executionInfo": {
     "elapsed": 6601,
     "status": "ok",
     "timestamp": 1618359629344,
     "user": {
      "displayName": "Rachel Zoe Insler",
      "photoUrl": "https://lh3.googleusercontent.com/a-/AOh14GhmK2r7xxWnYN1Ct_QTmn12EjwUhd--V_NCFfbtLw=s64",
      "userId": "07749460636815525214"
     },
     "user_tz": 240
    },
    "id": "PFxWGFcTPsdv",
    "outputId": "bf7f3b7d-c44e-4c3b-ef95-d6c180313ff2"
   },
   "outputs": [
    {
     "data": {
      "text/html": [
       "<div>\n",
       "<style scoped>\n",
       "    .dataframe tbody tr th:only-of-type {\n",
       "        vertical-align: middle;\n",
       "    }\n",
       "\n",
       "    .dataframe tbody tr th {\n",
       "        vertical-align: top;\n",
       "    }\n",
       "\n",
       "    .dataframe thead th {\n",
       "        text-align: right;\n",
       "    }\n",
       "</style>\n",
       "<table border=\"1\" class=\"dataframe\">\n",
       "  <thead>\n",
       "    <tr style=\"text-align: right;\">\n",
       "      <th></th>\n",
       "      <th>LOAN_ID</th>\n",
       "      <th>DESCRIPTION_TRANSLATED</th>\n",
       "      <th>LOAN_USE</th>\n",
       "      <th>TAGS</th>\n",
       "      <th>STATUS</th>\n",
       "    </tr>\n",
       "  </thead>\n",
       "  <tbody>\n",
       "    <tr>\n",
       "      <th>0</th>\n",
       "      <td>1799331</td>\n",
       "      <td>Dinnah is 43 years of age and a proud mother o...</td>\n",
       "      <td>to buy farm inputs such as seeds and fertilize...</td>\n",
       "      <td>#Parent</td>\n",
       "      <td>1</td>\n",
       "    </tr>\n",
       "    <tr>\n",
       "      <th>1</th>\n",
       "      <td>1294719</td>\n",
       "      <td>Resy is a married woman and has been blessed w...</td>\n",
       "      <td>to purchase chicks and poultry feed.</td>\n",
       "      <td>#Animals, #Woman-Owned Business, volunteer_pic...</td>\n",
       "      <td>1</td>\n",
       "    </tr>\n",
       "    <tr>\n",
       "      <th>2</th>\n",
       "      <td>1595847</td>\n",
       "      <td>Lavenda is happily married and has been blesse...</td>\n",
       "      <td>to add stock of beauty products to her salon</td>\n",
       "      <td>user_favorite, #Parent, #Woman-Owned Business</td>\n",
       "      <td>0</td>\n",
       "    </tr>\n",
       "    <tr>\n",
       "      <th>3</th>\n",
       "      <td>1139606</td>\n",
       "      <td>Hadija is a Kiva borrower. She describes herse...</td>\n",
       "      <td>to buy more stock of vegetables, flour, sugar,...</td>\n",
       "      <td>#Repeat Borrower, #Woman-Owned Business</td>\n",
       "      <td>1</td>\n",
       "    </tr>\n",
       "    <tr>\n",
       "      <th>4</th>\n",
       "      <td>1813411</td>\n",
       "      <td>Purity, aged 28, is a lovely mother of two chi...</td>\n",
       "      <td>to purchase high-quality seeds and nutrient-ri...</td>\n",
       "      <td>NaN</td>\n",
       "      <td>1</td>\n",
       "    </tr>\n",
       "  </tbody>\n",
       "</table>\n",
       "</div>"
      ],
      "text/plain": [
       "   LOAN_ID                             DESCRIPTION_TRANSLATED  \\\n",
       "0  1799331  Dinnah is 43 years of age and a proud mother o...   \n",
       "1  1294719  Resy is a married woman and has been blessed w...   \n",
       "2  1595847  Lavenda is happily married and has been blesse...   \n",
       "3  1139606  Hadija is a Kiva borrower. She describes herse...   \n",
       "4  1813411  Purity, aged 28, is a lovely mother of two chi...   \n",
       "\n",
       "                                            LOAN_USE  \\\n",
       "0  to buy farm inputs such as seeds and fertilize...   \n",
       "1               to purchase chicks and poultry feed.   \n",
       "2       to add stock of beauty products to her salon   \n",
       "3  to buy more stock of vegetables, flour, sugar,...   \n",
       "4  to purchase high-quality seeds and nutrient-ri...   \n",
       "\n",
       "                                                TAGS  STATUS  \n",
       "0                                            #Parent       1  \n",
       "1  #Animals, #Woman-Owned Business, volunteer_pic...       1  \n",
       "2      user_favorite, #Parent, #Woman-Owned Business       0  \n",
       "3            #Repeat Borrower, #Woman-Owned Business       1  \n",
       "4                                                NaN       1  "
      ]
     },
     "execution_count": 4,
     "metadata": {},
     "output_type": "execute_result"
    }
   ],
   "source": [
    "kiva.head()"
   ]
  },
  {
   "cell_type": "code",
   "execution_count": 5,
   "metadata": {},
   "outputs": [],
   "source": [
    "text_columns = ['DESCRIPTION_TRANSLATED', 'LOAN_USE', 'TAGS']\n"
   ]
  },
  {
   "cell_type": "code",
   "execution_count": 6,
   "metadata": {
    "id": "37WHQUz6daUU"
   },
   "outputs": [],
   "source": [
    "# #ensure that all text fields are strings\n",
    "\n",
    "# for column in text_columns:\n",
    "#   kiva[column] = kiva[column].astype(str)\n"
   ]
  },
  {
   "cell_type": "markdown",
   "metadata": {
    "id": "JohY3KCFiVZG"
   },
   "source": [
    "### Remove Special Characters"
   ]
  },
  {
   "cell_type": "code",
   "execution_count": 7,
   "metadata": {
    "id": "BaYkB4f5iZSI"
   },
   "outputs": [],
   "source": [
    "for column in text_columns:\n",
    "    kiva[column] = kiva[column].replace('[^\\w ]','',regex=True).astype(str) "
   ]
  },
  {
   "cell_type": "markdown",
   "metadata": {
    "id": "ulFJUBflitEz"
   },
   "source": [
    "### Tokenizer & Lowercase"
   ]
  },
  {
   "cell_type": "code",
   "execution_count": 8,
   "metadata": {
    "id": "wZAzNu6Aiyuk"
   },
   "outputs": [],
   "source": [
    "w_tokenizer = WhitespaceTokenizer()"
   ]
  },
  {
   "cell_type": "code",
   "execution_count": 9,
   "metadata": {
    "id": "MZDsv3OSi-OU"
   },
   "outputs": [],
   "source": [
    "for column in text_columns: \n",
    "    kiva[column] = kiva[column].apply(lambda x: w_tokenizer.tokenize(x.lower()))"
   ]
  },
  {
   "cell_type": "markdown",
   "metadata": {
    "id": "YXTuBJdKj60A"
   },
   "source": [
    "### Remove English Stopwords"
   ]
  },
  {
   "cell_type": "code",
   "execution_count": 10,
   "metadata": {
    "id": "xY6rqnzejtaB"
   },
   "outputs": [],
   "source": [
    "stop_words = text.ENGLISH_STOP_WORDS\n",
    "# Remove stopwords function\n",
    "\n",
    "def remove_stopwords(text):\n",
    "    return [word for word in text if word not in stop_words]"
   ]
  },
  {
   "cell_type": "code",
   "execution_count": 11,
   "metadata": {
    "id": "MLBAKIdSkDKP"
   },
   "outputs": [],
   "source": [
    "for column in ['DESCRIPTION_TRANSLATED', 'LOAN_USE']:\n",
    "    kiva[column] = kiva[column].apply(lambda x: remove_stopwords(x))"
   ]
  },
  {
   "cell_type": "code",
   "execution_count": 12,
   "metadata": {},
   "outputs": [
    {
     "data": {
      "text/plain": [
       "['dinnah',\n",
       " '43',\n",
       " 'years',\n",
       " 'age',\n",
       " 'proud',\n",
       " 'mother',\n",
       " '5',\n",
       " '4',\n",
       " 'schoolgoing',\n",
       " 'active',\n",
       " 'woman',\n",
       " 'works',\n",
       " 'agriculture',\n",
       " 'skill',\n",
       " 'inherited',\n",
       " 'parents',\n",
       " 'br',\n",
       " 'br',\n",
       " 'addition',\n",
       " 'engaging',\n",
       " 'small',\n",
       " 'business',\n",
       " 'activities',\n",
       " 'dinnah',\n",
       " 'hardworking',\n",
       " 'mixed',\n",
       " 'farmer',\n",
       " 'past',\n",
       " 'years',\n",
       " 'growing',\n",
       " 'vegetables',\n",
       " 'maize',\n",
       " 'keeping',\n",
       " 'dairy',\n",
       " 'cows',\n",
       " 'activities',\n",
       " 'able',\n",
       " 'earn',\n",
       " 'decent',\n",
       " 'honest',\n",
       " 'income',\n",
       " 'br',\n",
       " 'br',\n",
       " 'dinnah',\n",
       " 'making',\n",
       " 'profits',\n",
       " 'farming',\n",
       " 'easy',\n",
       " 'humble',\n",
       " 'industrious',\n",
       " 'mother',\n",
       " 'farm',\n",
       " 'producing',\n",
       " 'harvest',\n",
       " 'lately',\n",
       " 'lack',\n",
       " 'fertilizer',\n",
       " 'good',\n",
       " 'seeds',\n",
       " 'presence',\n",
       " 'pests',\n",
       " 'diseases',\n",
       " 'br',\n",
       " 'br',\n",
       " 'seeking',\n",
       " 'loan',\n",
       " 'buy',\n",
       " 'farm',\n",
       " 'inputs',\n",
       " 'fertilizers',\n",
       " 'seeds',\n",
       " 'expand',\n",
       " 'crop',\n",
       " 'farm',\n",
       " 'br',\n",
       " 'br',\n",
       " 'loan',\n",
       " 'dinnah',\n",
       " 'assured',\n",
       " 'bumper',\n",
       " 'harvest',\n",
       " 'mean',\n",
       " 'profits',\n",
       " 'income',\n",
       " 'using',\n",
       " 'loan',\n",
       " 'able',\n",
       " 'expand',\n",
       " 'enterprise',\n",
       " 'br',\n",
       " 'br',\n",
       " 'dinnah',\n",
       " 'hopes',\n",
       " 'consider',\n",
       " 'appeal',\n",
       " 'loan',\n",
       " 'mean',\n",
       " 'lot',\n",
       " 'family']"
      ]
     },
     "execution_count": 12,
     "metadata": {},
     "output_type": "execute_result"
    }
   ],
   "source": [
    "kiva['DESCRIPTION_TRANSLATED'][0]"
   ]
  },
  {
   "cell_type": "code",
   "execution_count": 13,
   "metadata": {},
   "outputs": [
    {
     "data": {
      "text/html": [
       "<div>\n",
       "<style scoped>\n",
       "    .dataframe tbody tr th:only-of-type {\n",
       "        vertical-align: middle;\n",
       "    }\n",
       "\n",
       "    .dataframe tbody tr th {\n",
       "        vertical-align: top;\n",
       "    }\n",
       "\n",
       "    .dataframe thead th {\n",
       "        text-align: right;\n",
       "    }\n",
       "</style>\n",
       "<table border=\"1\" class=\"dataframe\">\n",
       "  <thead>\n",
       "    <tr style=\"text-align: right;\">\n",
       "      <th></th>\n",
       "      <th>LOAN_ID</th>\n",
       "      <th>DESCRIPTION_TRANSLATED</th>\n",
       "      <th>LOAN_USE</th>\n",
       "      <th>TAGS</th>\n",
       "      <th>STATUS</th>\n",
       "    </tr>\n",
       "  </thead>\n",
       "  <tbody>\n",
       "    <tr>\n",
       "      <th>0</th>\n",
       "      <td>1799331</td>\n",
       "      <td>[dinnah, 43, years, age, proud, mother, 5, 4, ...</td>\n",
       "      <td>[buy, farm, inputs, seeds, fertilizer, expand,...</td>\n",
       "      <td>[parent]</td>\n",
       "      <td>1</td>\n",
       "    </tr>\n",
       "    <tr>\n",
       "      <th>1</th>\n",
       "      <td>1294719</td>\n",
       "      <td>[resy, married, woman, blessed, kids, attend, ...</td>\n",
       "      <td>[purchase, chicks, poultry, feed]</td>\n",
       "      <td>[animals, womanowned, business, volunteer_pick...</td>\n",
       "      <td>1</td>\n",
       "    </tr>\n",
       "    <tr>\n",
       "      <th>2</th>\n",
       "      <td>1595847</td>\n",
       "      <td>[lavenda, happily, married, blessed, children,...</td>\n",
       "      <td>[add, stock, beauty, products, salon]</td>\n",
       "      <td>[user_favorite, parent, womanowned, business]</td>\n",
       "      <td>0</td>\n",
       "    </tr>\n",
       "    <tr>\n",
       "      <th>3</th>\n",
       "      <td>1139606</td>\n",
       "      <td>[hadija, kiva, borrower, describes, honest, op...</td>\n",
       "      <td>[buy, stock, vegetables, flour, sugar, soap, i...</td>\n",
       "      <td>[repeat, borrower, womanowned, business]</td>\n",
       "      <td>1</td>\n",
       "    </tr>\n",
       "    <tr>\n",
       "      <th>4</th>\n",
       "      <td>1813411</td>\n",
       "      <td>[purity, aged, 28, lovely, mother, children, c...</td>\n",
       "      <td>[purchase, highquality, seeds, nutrientrich, f...</td>\n",
       "      <td>[nan]</td>\n",
       "      <td>1</td>\n",
       "    </tr>\n",
       "  </tbody>\n",
       "</table>\n",
       "</div>"
      ],
      "text/plain": [
       "   LOAN_ID                             DESCRIPTION_TRANSLATED  \\\n",
       "0  1799331  [dinnah, 43, years, age, proud, mother, 5, 4, ...   \n",
       "1  1294719  [resy, married, woman, blessed, kids, attend, ...   \n",
       "2  1595847  [lavenda, happily, married, blessed, children,...   \n",
       "3  1139606  [hadija, kiva, borrower, describes, honest, op...   \n",
       "4  1813411  [purity, aged, 28, lovely, mother, children, c...   \n",
       "\n",
       "                                            LOAN_USE  \\\n",
       "0  [buy, farm, inputs, seeds, fertilizer, expand,...   \n",
       "1                  [purchase, chicks, poultry, feed]   \n",
       "2              [add, stock, beauty, products, salon]   \n",
       "3  [buy, stock, vegetables, flour, sugar, soap, i...   \n",
       "4  [purchase, highquality, seeds, nutrientrich, f...   \n",
       "\n",
       "                                                TAGS  STATUS  \n",
       "0                                           [parent]       1  \n",
       "1  [animals, womanowned, business, volunteer_pick...       1  \n",
       "2      [user_favorite, parent, womanowned, business]       0  \n",
       "3           [repeat, borrower, womanowned, business]       1  \n",
       "4                                              [nan]       1  "
      ]
     },
     "execution_count": 13,
     "metadata": {},
     "output_type": "execute_result"
    }
   ],
   "source": [
    "kiva.head()"
   ]
  },
  {
   "cell_type": "markdown",
   "metadata": {},
   "source": [
    "#### Save File"
   ]
  },
  {
   "cell_type": "code",
   "execution_count": 14,
   "metadata": {
    "colab": {
     "base_uri": "https://localhost:8080/",
     "height": 0
    },
    "executionInfo": {
     "elapsed": 593,
     "status": "error",
     "timestamp": 1618401047459,
     "user": {
      "displayName": "Rachel Zoe Insler",
      "photoUrl": "https://lh3.googleusercontent.com/a-/AOh14GhmK2r7xxWnYN1Ct_QTmn12EjwUhd--V_NCFfbtLw=s64",
      "userId": "07749460636815525214"
     },
     "user_tz": 240
    },
    "id": "TMzxe_e2kUOS",
    "outputId": "636b9313-e33c-4420-c263-61a34649f7c0"
   },
   "outputs": [],
   "source": [
    "#save data \n",
    "kiva.to_csv(op_filename)"
   ]
  },
  {
   "cell_type": "code",
   "execution_count": null,
   "metadata": {},
   "outputs": [],
   "source": []
  }
 ],
 "metadata": {
  "colab": {
   "authorship_tag": "ABX9TyMAf5QRISoXKk+Yd6PnqUE8",
   "collapsed_sections": [],
   "mount_file_id": "1mhkaxdNsoGWD13C7-h1WRbspUH0h3wzy",
   "name": "rzi_preprocessing.ipynb",
   "provenance": [],
   "toc_visible": true
  },
  "kernelspec": {
   "display_name": "Python 3",
   "language": "python",
   "name": "python3"
  },
  "language_info": {
   "codemirror_mode": {
    "name": "ipython",
    "version": 3
   },
   "file_extension": ".py",
   "mimetype": "text/x-python",
   "name": "python",
   "nbconvert_exporter": "python",
   "pygments_lexer": "ipython3",
   "version": "3.8.5"
  }
 },
 "nbformat": 4,
 "nbformat_minor": 4
}
