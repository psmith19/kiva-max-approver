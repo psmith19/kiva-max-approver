{
 "cells": [
  {
   "cell_type": "markdown",
   "metadata": {},
   "source": [
    "## Model Selection & Interpretation"
   ]
  },
  {
   "cell_type": "code",
   "execution_count": 4,
   "metadata": {},
   "outputs": [],
   "source": [
    "# imports\n",
    "import pandas as pd\n",
    "import numpy as np\n",
    "import matplotlib.pyplot as plt\n",
    "import seaborn as sns\n",
    "\n",
    "from sklearn.model_selection import train_test_split, GridSearchCV, cross_val_score\n",
    "from sklearn.pipeline import Pipeline\n",
    "from sklearn.naive_bayes import MultinomialNB, BernoulliNB\n",
    "from sklearn.linear_model import LogisticRegression\n",
    "from sklearn.metrics import confusion_matrix, ConfusionMatrixDisplay, classification_report, accuracy_score\n",
    "from sklearn.ensemble import RandomForestClassifier, AdaBoostClassifier, ExtraTreesClassifier\n",
    "\n",
    "from nltk.stem import WordNetLemmatizer\n",
    "from nltk.corpus import wordnet\n",
    "from nltk.tokenize import WhitespaceTokenizer\n",
    "\n",
    "# Import CountVectorizer and TFIDFVectorizer from feature_extraction.text.\n",
    "from sklearn.feature_extraction import text\n",
    "from sklearn.feature_extraction.text import CountVectorizer, TfidfVectorizer"
   ]
  },
  {
   "cell_type": "code",
   "execution_count": 5,
   "metadata": {},
   "outputs": [],
   "source": [
    "# set filenames\n",
    "\n",
    "filename = ('data/kenya_pre_processed_nlp.csv')"
   ]
  },
  {
   "cell_type": "code",
   "execution_count": 6,
   "metadata": {},
   "outputs": [],
   "source": [
    "# read in kenya data\n",
    "\n",
    "df = pd.read_csv(filename).set_index('LOAN_ID').drop(columns = 'Unnamed: 0')"
   ]
  },
  {
   "cell_type": "code",
   "execution_count": 7,
   "metadata": {},
   "outputs": [
    {
     "data": {
      "text/html": [
       "<div>\n",
       "<style scoped>\n",
       "    .dataframe tbody tr th:only-of-type {\n",
       "        vertical-align: middle;\n",
       "    }\n",
       "\n",
       "    .dataframe tbody tr th {\n",
       "        vertical-align: top;\n",
       "    }\n",
       "\n",
       "    .dataframe thead th {\n",
       "        text-align: right;\n",
       "    }\n",
       "</style>\n",
       "<table border=\"1\" class=\"dataframe\">\n",
       "  <thead>\n",
       "    <tr style=\"text-align: right;\">\n",
       "      <th></th>\n",
       "      <th>DESCRIPTION_TRANSLATED</th>\n",
       "      <th>LOAN_USE</th>\n",
       "      <th>TAGS</th>\n",
       "      <th>STATUS</th>\n",
       "    </tr>\n",
       "    <tr>\n",
       "      <th>LOAN_ID</th>\n",
       "      <th></th>\n",
       "      <th></th>\n",
       "      <th></th>\n",
       "      <th></th>\n",
       "    </tr>\n",
       "  </thead>\n",
       "  <tbody>\n",
       "    <tr>\n",
       "      <th>1799331</th>\n",
       "      <td>['dinnah', 'year', 'age', 'proud', 'mother', '...</td>\n",
       "      <td>['buy', 'farm', 'input', 'seed', 'fertilizer',...</td>\n",
       "      <td>['parent']</td>\n",
       "      <td>1</td>\n",
       "    </tr>\n",
       "    <tr>\n",
       "      <th>1294719</th>\n",
       "      <td>['resy', 'married', 'woman', 'blessed', 'kid',...</td>\n",
       "      <td>['purchase', 'chick', 'poultry', 'feed']</td>\n",
       "      <td>['animal', 'womanowned', 'business', 'voluntee...</td>\n",
       "      <td>1</td>\n",
       "    </tr>\n",
       "    <tr>\n",
       "      <th>1595847</th>\n",
       "      <td>['lavenda', 'happily', 'married', 'blessed', '...</td>\n",
       "      <td>['add', 'stock', 'beauty', 'product', 'salon']</td>\n",
       "      <td>['user_favorite', 'parent', 'womanowned', 'bus...</td>\n",
       "      <td>0</td>\n",
       "    </tr>\n",
       "    <tr>\n",
       "      <th>1139606</th>\n",
       "      <td>['hadija', 'kiva', 'borrower', 'describes', 'h...</td>\n",
       "      <td>['buy', 'stock', 'vegetable', 'flour', 'sugar'...</td>\n",
       "      <td>['repeat', 'borrower', 'womanowned', 'business']</td>\n",
       "      <td>1</td>\n",
       "    </tr>\n",
       "    <tr>\n",
       "      <th>1813411</th>\n",
       "      <td>['purity', 'aged', 'lovely', 'mother', 'child'...</td>\n",
       "      <td>['purchase', 'highquality', 'seed', 'nutrientr...</td>\n",
       "      <td>['nan']</td>\n",
       "      <td>1</td>\n",
       "    </tr>\n",
       "  </tbody>\n",
       "</table>\n",
       "</div>"
      ],
      "text/plain": [
       "                                    DESCRIPTION_TRANSLATED  \\\n",
       "LOAN_ID                                                      \n",
       "1799331  ['dinnah', 'year', 'age', 'proud', 'mother', '...   \n",
       "1294719  ['resy', 'married', 'woman', 'blessed', 'kid',...   \n",
       "1595847  ['lavenda', 'happily', 'married', 'blessed', '...   \n",
       "1139606  ['hadija', 'kiva', 'borrower', 'describes', 'h...   \n",
       "1813411  ['purity', 'aged', 'lovely', 'mother', 'child'...   \n",
       "\n",
       "                                                  LOAN_USE  \\\n",
       "LOAN_ID                                                      \n",
       "1799331  ['buy', 'farm', 'input', 'seed', 'fertilizer',...   \n",
       "1294719           ['purchase', 'chick', 'poultry', 'feed']   \n",
       "1595847     ['add', 'stock', 'beauty', 'product', 'salon']   \n",
       "1139606  ['buy', 'stock', 'vegetable', 'flour', 'sugar'...   \n",
       "1813411  ['purchase', 'highquality', 'seed', 'nutrientr...   \n",
       "\n",
       "                                                      TAGS  STATUS  \n",
       "LOAN_ID                                                             \n",
       "1799331                                         ['parent']       1  \n",
       "1294719  ['animal', 'womanowned', 'business', 'voluntee...       1  \n",
       "1595847  ['user_favorite', 'parent', 'womanowned', 'bus...       0  \n",
       "1139606   ['repeat', 'borrower', 'womanowned', 'business']       1  \n",
       "1813411                                            ['nan']       1  "
      ]
     },
     "execution_count": 7,
     "metadata": {},
     "output_type": "execute_result"
    }
   ],
   "source": [
    "#make sure we have what we expect.\n",
    "df.head()"
   ]
  },
  {
   "cell_type": "code",
   "execution_count": 8,
   "metadata": {},
   "outputs": [
    {
     "data": {
      "text/plain": [
       "(50011, 4)"
      ]
     },
     "execution_count": 8,
     "metadata": {},
     "output_type": "execute_result"
    }
   ],
   "source": [
    "#check out the shape\n",
    "df.shape"
   ]
  },
  {
   "cell_type": "markdown",
   "metadata": {},
   "source": [
    "### Set up Variables"
   ]
  },
  {
   "cell_type": "code",
   "execution_count": 9,
   "metadata": {},
   "outputs": [],
   "source": [
    "#set up X and y\n",
    "\n",
    "X = df['DESCRIPTION_TRANSLATED']\n",
    "y = df['STATUS']"
   ]
  },
  {
   "cell_type": "code",
   "execution_count": 10,
   "metadata": {},
   "outputs": [
    {
     "data": {
      "text/plain": [
       "1    0.779688\n",
       "0    0.220312\n",
       "Name: STATUS, dtype: float64"
      ]
     },
     "execution_count": 10,
     "metadata": {},
     "output_type": "execute_result"
    }
   ],
   "source": [
    "#check for baseline\n",
    "y.value_counts(normalize=True)"
   ]
  },
  {
   "cell_type": "code",
   "execution_count": 11,
   "metadata": {},
   "outputs": [],
   "source": [
    "#train-test split\n",
    "X_train, X_test, y_train, y_test=train_test_split(X,\n",
    "                                                 y,\n",
    "                                                 test_size=.2,\n",
    "                                                 stratify=y,\n",
    "                                                 random_state=42)"
   ]
  },
  {
   "cell_type": "markdown",
   "metadata": {},
   "source": [
    "### Visualize Top Occurring Words/Phrases with Tuned Parameters"
   ]
  },
  {
   "cell_type": "code",
   "execution_count": 12,
   "metadata": {},
   "outputs": [],
   "source": [
    "tvec = TfidfVectorizer(ngram_range=(1,2), max_features=6_000)"
   ]
  },
  {
   "cell_type": "code",
   "execution_count": 13,
   "metadata": {},
   "outputs": [],
   "source": [
    "tvec.fit(X_train)\n",
    "X_train_tvec = tvec.transform(X_train)\n",
    "X_test_tvec = tvec.transform(X_test)"
   ]
  },
  {
   "cell_type": "code",
   "execution_count": 14,
   "metadata": {},
   "outputs": [
    {
     "data": {
      "text/plain": [
       "(40008, 6000)"
      ]
     },
     "execution_count": 14,
     "metadata": {},
     "output_type": "execute_result"
    }
   ],
   "source": [
    "X_train_tvec.shape"
   ]
  },
  {
   "cell_type": "code",
   "execution_count": 15,
   "metadata": {},
   "outputs": [
    {
     "data": {
      "image/png": "[encoded data removed]",
      "text/plain": [
       "<Figure size 432x288 with 1 Axes>"
      ]
     },
     "metadata": {
      "needs_background": "light"
     },
     "output_type": "display_data"
    }
   ],
   "source": [
    "# top-occurring words\n",
    "X_train_df_tvec = pd.DataFrame(tvec.fit_transform(X_train).todense(),\n",
    "                         columns=tvec.get_feature_names())\n",
    "\n",
    "X_train_df_tvec.sum().sort_values(ascending = False).head(10).plot(kind='barh');"
   ]
  },
  {
   "cell_type": "code",
   "execution_count": 16,
   "metadata": {},
   "outputs": [],
   "source": [
    "# top-occurring words\n",
    "success_df = pd.DataFrame(tvec.fit_transform(df['DESCRIPTION_TRANSLATED'][df['STATUS'] == 1]).todense(),\n",
    "                         columns=tvec.get_feature_names())\n",
    "\n",
    "expired_df = pd.DataFrame(tvec.fit_transform(df['DESCRIPTION_TRANSLATED'][df['STATUS'] == 0]).todense(),\n",
    "                         columns=tvec.get_feature_names())"
   ]
  },
  {
   "cell_type": "code",
   "execution_count": 17,
   "metadata": {},
   "outputs": [],
   "source": [
    "top_success = success_df.sum().sort_values(ascending = False).head(15)\n",
    "top_expired = expired_df.sum().sort_values(ascending = False).head(15)"
   ]
  },
  {
   "cell_type": "code",
   "execution_count": 18,
   "metadata": {},
   "outputs": [
    {
     "data": {
      "image/png": "[encoded data removed]",
      "text/plain": [
       "<Figure size 1440x360 with 2 Axes>"
      ]
     },
     "metadata": {
      "needs_background": "light"
     },
     "output_type": "display_data"
    }
   ],
   "source": [
    "fig, (ax1, ax2) = plt.subplots(nrows=1, ncols=2, figsize=(20,5));\n",
    "fig.tight_layout(pad =3)\n",
    "\n",
    "ax1.bar(top_success.index, top_success);\n",
    "ax1.set(title='Successful Loans', ylabel='doc. frequency');\n",
    "ax1.tick_params('x', labelrotation=-45); \n",
    "ax1.set_ylim([0, 2500]);\n",
    "ax2.bar(top_expired.index, top_expired);\n",
    "ax2.set(title='Expired Loans', ylabel = 'doc. frequency');\n",
    "ax2.tick_params('x', labelrotation=-45); \n",
    "ax2.set_ylim([0, 2500]);\n"
   ]
  },
  {
   "cell_type": "markdown",
   "metadata": {},
   "source": [
    "# FINAL MODEL\n",
    "\n",
    "-\n",
    "Do final model \n",
    "plot confusion matrix\n",
    "classification report\n",
    "explore coefficients\n",
    "top occuring phrases with ngram range"
   ]
  },
  {
   "cell_type": "code",
   "execution_count": 19,
   "metadata": {},
   "outputs": [],
   "source": [
    "logreg = LogisticRegression(C=1)"
   ]
  },
  {
   "cell_type": "code",
   "execution_count": 20,
   "metadata": {
    "scrolled": true
   },
   "outputs": [
    {
     "name": "stderr",
     "output_type": "stream",
     "text": [
      "/Users/rachelinsler/ENTER/lib/python3.8/site-packages/sklearn/linear_model/_logistic.py:762: ConvergenceWarning: lbfgs failed to converge (status=1):\n",
      "STOP: TOTAL NO. of ITERATIONS REACHED LIMIT.\n",
      "\n",
      "Increase the number of iterations (max_iter) or scale the data as shown in:\n",
      "    https://scikit-learn.org/stable/modules/preprocessing.html\n",
      "Please also refer to the documentation for alternative solver options:\n",
      "    https://scikit-learn.org/stable/modules/linear_model.html#logistic-regression\n",
      "  n_iter_i = _check_optimize_result(\n"
     ]
    },
    {
     "data": {
      "text/plain": [
       "LogisticRegression(C=1)"
      ]
     },
     "execution_count": 20,
     "metadata": {},
     "output_type": "execute_result"
    }
   ],
   "source": [
    "logreg.fit(X_train_tvec, y_train)"
   ]
  },
  {
   "cell_type": "code",
   "execution_count": 21,
   "metadata": {
    "scrolled": true
   },
   "outputs": [
    {
     "name": "stderr",
     "output_type": "stream",
     "text": [
      "/Users/rachelinsler/ENTER/lib/python3.8/site-packages/sklearn/linear_model/_logistic.py:762: ConvergenceWarning: lbfgs failed to converge (status=1):\n",
      "STOP: TOTAL NO. of ITERATIONS REACHED LIMIT.\n",
      "\n",
      "Increase the number of iterations (max_iter) or scale the data as shown in:\n",
      "    https://scikit-learn.org/stable/modules/preprocessing.html\n",
      "Please also refer to the documentation for alternative solver options:\n",
      "    https://scikit-learn.org/stable/modules/linear_model.html#logistic-regression\n",
      "  n_iter_i = _check_optimize_result(\n",
      "/Users/rachelinsler/ENTER/lib/python3.8/site-packages/sklearn/linear_model/_logistic.py:762: ConvergenceWarning: lbfgs failed to converge (status=1):\n",
      "STOP: TOTAL NO. of ITERATIONS REACHED LIMIT.\n",
      "\n",
      "Increase the number of iterations (max_iter) or scale the data as shown in:\n",
      "    https://scikit-learn.org/stable/modules/preprocessing.html\n",
      "Please also refer to the documentation for alternative solver options:\n",
      "    https://scikit-learn.org/stable/modules/linear_model.html#logistic-regression\n",
      "  n_iter_i = _check_optimize_result(\n"
     ]
    },
    {
     "name": "stdout",
     "output_type": "stream",
     "text": [
      "Training Score is:  0.8140371925614877\n",
      "Testing Score is:  0.803558932320304\n",
      "Cross-val score is: 0.7996900619876025.\n"
     ]
    },
    {
     "name": "stderr",
     "output_type": "stream",
     "text": [
      "/Users/rachelinsler/ENTER/lib/python3.8/site-packages/sklearn/linear_model/_logistic.py:762: ConvergenceWarning: lbfgs failed to converge (status=1):\n",
      "STOP: TOTAL NO. of ITERATIONS REACHED LIMIT.\n",
      "\n",
      "Increase the number of iterations (max_iter) or scale the data as shown in:\n",
      "    https://scikit-learn.org/stable/modules/preprocessing.html\n",
      "Please also refer to the documentation for alternative solver options:\n",
      "    https://scikit-learn.org/stable/modules/linear_model.html#logistic-regression\n",
      "  n_iter_i = _check_optimize_result(\n"
     ]
    }
   ],
   "source": [
    "training_score = logreg.score(X_train_tvec, y_train)\n",
    "testing_score = logreg.score(X_test_tvec, y_test)\n",
    "cv_score = cross_val_score(logreg, X_train_tvec, y_train, cv=3).mean()\n",
    "print(f'Training Score is:  {training_score}')\n",
    "print(f'Testing Score is:  {testing_score}')\n",
    "print(f'Cross-val score is: {cv_score}.')"
   ]
  },
  {
   "cell_type": "markdown",
   "metadata": {},
   "source": [
    "|  \t| Value \t|\n",
    "|-\t|-\t|\n",
    "| Training Score \t| 0.8140371925614877 \t|\n",
    "| Testing Score \t| 0.803558932320304 \t|\n",
    "| Cross-val score \t| 0.7996900619876025 \t|\n",
    "| Model Params \t| C = 1, ngram_range = (1,2), max_features = 6_000  \t|"
   ]
  },
  {
   "cell_type": "code",
   "execution_count": 22,
   "metadata": {},
   "outputs": [],
   "source": [
    "# Get Predictions\n",
    "\n",
    "preds = logreg.predict(X_test_tvec)\n",
    "\n",
    "# plot confusion matrix\n",
    "cm = confusion_matrix(y_test, preds)"
   ]
  },
  {
   "cell_type": "code",
   "execution_count": 23,
   "metadata": {},
   "outputs": [
    {
     "data": {
      "image/png": "[encoded data removed]",
      "text/plain": [
       "<Figure size 432x288 with 2 Axes>"
      ]
     },
     "metadata": {
      "needs_background": "light"
     },
     "output_type": "display_data"
    }
   ],
   "source": [
    "ConfusionMatrixDisplay(cm, display_labels = ['expired', 'funded']).plot();"
   ]
  },
  {
   "cell_type": "code",
   "execution_count": 24,
   "metadata": {},
   "outputs": [
    {
     "name": "stdout",
     "output_type": "stream",
     "text": [
      "              precision    recall  f1-score   support\n",
      "\n",
      "           0       0.63      0.27      0.38      2204\n",
      "           1       0.82      0.95      0.88      7799\n",
      "\n",
      "    accuracy                           0.80     10003\n",
      "   macro avg       0.72      0.61      0.63     10003\n",
      "weighted avg       0.78      0.80      0.77     10003\n",
      "\n"
     ]
    }
   ],
   "source": [
    "print(classification_report(y_test, preds))"
   ]
  },
  {
   "cell_type": "markdown",
   "metadata": {},
   "source": [
    "The model is much better at predicting successful loans than it is at expired loans. "
   ]
  },
  {
   "cell_type": "markdown",
   "metadata": {},
   "source": [
    "### Exploring Coefficients"
   ]
  },
  {
   "cell_type": "code",
   "execution_count": 31,
   "metadata": {},
   "outputs": [],
   "source": [
    "#explore words and their coefficients \n",
    "coef_dict = {'coefficient': logreg.coef_[0], 'words': tvec.get_feature_names()}\n",
    "coef_df = pd.DataFrame(coef_dict)\n",
    "coef_df.sort_values(by = 'coefficient', ascending=False, inplace=True)"
   ]
  },
  {
   "cell_type": "code",
   "execution_count": 32,
   "metadata": {},
   "outputs": [
    {
     "data": {
      "text/html": [
       "<div>\n",
       "<style scoped>\n",
       "    .dataframe tbody tr th:only-of-type {\n",
       "        vertical-align: middle;\n",
       "    }\n",
       "\n",
       "    .dataframe tbody tr th {\n",
       "        vertical-align: top;\n",
       "    }\n",
       "\n",
       "    .dataframe thead th {\n",
       "        text-align: right;\n",
       "    }\n",
       "</style>\n",
       "<table border=\"1\" class=\"dataframe\">\n",
       "  <thead>\n",
       "    <tr style=\"text-align: right;\">\n",
       "      <th></th>\n",
       "      <th>coefficient</th>\n",
       "      <th>words</th>\n",
       "    </tr>\n",
       "  </thead>\n",
       "  <tbody>\n",
       "    <tr>\n",
       "      <th>5849</th>\n",
       "      <td>3.308462</td>\n",
       "      <td>wife farmer</td>\n",
       "    </tr>\n",
       "    <tr>\n",
       "      <th>5183</th>\n",
       "      <td>3.282797</td>\n",
       "      <td>simple house</td>\n",
       "    </tr>\n",
       "    <tr>\n",
       "      <th>2402</th>\n",
       "      <td>3.108813</td>\n",
       "      <td>grows sell</td>\n",
       "    </tr>\n",
       "    <tr>\n",
       "      <th>5178</th>\n",
       "      <td>3.022905</td>\n",
       "      <td>significant improvement</td>\n",
       "    </tr>\n",
       "    <tr>\n",
       "      <th>5850</th>\n",
       "      <td>2.668986</td>\n",
       "      <td>wife run</td>\n",
       "    </tr>\n",
       "    <tr>\n",
       "      <th>5807</th>\n",
       "      <td>2.287940</td>\n",
       "      <td>water</td>\n",
       "    </tr>\n",
       "    <tr>\n",
       "      <th>5182</th>\n",
       "      <td>2.138017</td>\n",
       "      <td>simple</td>\n",
       "    </tr>\n",
       "    <tr>\n",
       "      <th>3902</th>\n",
       "      <td>2.099856</td>\n",
       "      <td>mpesa shop</td>\n",
       "    </tr>\n",
       "    <tr>\n",
       "      <th>681</th>\n",
       "      <td>1.962727</td>\n",
       "      <td>capital expand</td>\n",
       "    </tr>\n",
       "    <tr>\n",
       "      <th>4877</th>\n",
       "      <td>1.927301</td>\n",
       "      <td>rural community</td>\n",
       "    </tr>\n",
       "  </tbody>\n",
       "</table>\n",
       "</div>"
      ],
      "text/plain": [
       "      coefficient                    words\n",
       "5849     3.308462              wife farmer\n",
       "5183     3.282797             simple house\n",
       "2402     3.108813               grows sell\n",
       "5178     3.022905  significant improvement\n",
       "5850     2.668986                 wife run\n",
       "5807     2.287940                    water\n",
       "5182     2.138017                   simple\n",
       "3902     2.099856               mpesa shop\n",
       "681      1.962727           capital expand\n",
       "4877     1.927301          rural community"
      ]
     },
     "execution_count": 32,
     "metadata": {},
     "output_type": "execute_result"
    }
   ],
   "source": [
    "#check out the strongest positively correlated words \n",
    "coef_df.head(10)"
   ]
  },
  {
   "cell_type": "code",
   "execution_count": 33,
   "metadata": {},
   "outputs": [
    {
     "data": {
      "text/html": [
       "<div>\n",
       "<style scoped>\n",
       "    .dataframe tbody tr th:only-of-type {\n",
       "        vertical-align: middle;\n",
       "    }\n",
       "\n",
       "    .dataframe tbody tr th {\n",
       "        vertical-align: top;\n",
       "    }\n",
       "\n",
       "    .dataframe thead th {\n",
       "        text-align: right;\n",
       "    }\n",
       "</style>\n",
       "<table border=\"1\" class=\"dataframe\">\n",
       "  <thead>\n",
       "    <tr style=\"text-align: right;\">\n",
       "      <th></th>\n",
       "      <th>coefficient</th>\n",
       "      <th>words</th>\n",
       "    </tr>\n",
       "  </thead>\n",
       "  <tbody>\n",
       "    <tr>\n",
       "      <th>2183</th>\n",
       "      <td>-2.047216</td>\n",
       "      <td>future</td>\n",
       "    </tr>\n",
       "    <tr>\n",
       "      <th>4567</th>\n",
       "      <td>-2.122257</td>\n",
       "      <td>pull poverty</td>\n",
       "    </tr>\n",
       "    <tr>\n",
       "      <th>2187</th>\n",
       "      <td>-2.157397</td>\n",
       "      <td>future big</td>\n",
       "    </tr>\n",
       "    <tr>\n",
       "      <th>5285</th>\n",
       "      <td>-2.165366</td>\n",
       "      <td>stable family</td>\n",
       "    </tr>\n",
       "    <tr>\n",
       "      <th>5156</th>\n",
       "      <td>-2.231648</td>\n",
       "      <td>shop hope</td>\n",
       "    </tr>\n",
       "    <tr>\n",
       "      <th>2024</th>\n",
       "      <td>-2.280516</td>\n",
       "      <td>ferry</td>\n",
       "    </tr>\n",
       "    <tr>\n",
       "      <th>327</th>\n",
       "      <td>-2.318794</td>\n",
       "      <td>basic need</td>\n",
       "    </tr>\n",
       "    <tr>\n",
       "      <th>3080</th>\n",
       "      <td>-2.397770</td>\n",
       "      <td>kenyan farmer</td>\n",
       "    </tr>\n",
       "    <tr>\n",
       "      <th>3926</th>\n",
       "      <td>-2.467690</td>\n",
       "      <td>near</td>\n",
       "    </tr>\n",
       "    <tr>\n",
       "      <th>3667</th>\n",
       "      <td>-3.132816</td>\n",
       "      <td>marketing</td>\n",
       "    </tr>\n",
       "  </tbody>\n",
       "</table>\n",
       "</div>"
      ],
      "text/plain": [
       "      coefficient          words\n",
       "2183    -2.047216         future\n",
       "4567    -2.122257   pull poverty\n",
       "2187    -2.157397     future big\n",
       "5285    -2.165366  stable family\n",
       "5156    -2.231648      shop hope\n",
       "2024    -2.280516          ferry\n",
       "327     -2.318794     basic need\n",
       "3080    -2.397770  kenyan farmer\n",
       "3926    -2.467690           near\n",
       "3667    -3.132816      marketing"
      ]
     },
     "execution_count": 33,
     "metadata": {},
     "output_type": "execute_result"
    }
   ],
   "source": [
    "#check out the strongest negatively correlated words \n",
    "coef_df.tail(10)"
   ]
  },
  {
   "cell_type": "markdown",
   "metadata": {},
   "source": [
    "### Exploring Where and When Classification Errors Happen"
   ]
  },
  {
   "cell_type": "code",
   "execution_count": 25,
   "metadata": {},
   "outputs": [
    {
     "data": {
      "text/html": [
       "<div>\n",
       "<style scoped>\n",
       "    .dataframe tbody tr th:only-of-type {\n",
       "        vertical-align: middle;\n",
       "    }\n",
       "\n",
       "    .dataframe tbody tr th {\n",
       "        vertical-align: top;\n",
       "    }\n",
       "\n",
       "    .dataframe thead th {\n",
       "        text-align: right;\n",
       "    }\n",
       "</style>\n",
       "<table border=\"1\" class=\"dataframe\">\n",
       "  <thead>\n",
       "    <tr style=\"text-align: right;\">\n",
       "      <th></th>\n",
       "      <th>STATUS</th>\n",
       "      <th>preds</th>\n",
       "    </tr>\n",
       "    <tr>\n",
       "      <th>LOAN_ID</th>\n",
       "      <th></th>\n",
       "      <th></th>\n",
       "    </tr>\n",
       "  </thead>\n",
       "  <tbody>\n",
       "    <tr>\n",
       "      <th>1226723</th>\n",
       "      <td>0</td>\n",
       "      <td>1</td>\n",
       "    </tr>\n",
       "    <tr>\n",
       "      <th>1419240</th>\n",
       "      <td>1</td>\n",
       "      <td>1</td>\n",
       "    </tr>\n",
       "    <tr>\n",
       "      <th>1841898</th>\n",
       "      <td>1</td>\n",
       "      <td>1</td>\n",
       "    </tr>\n",
       "    <tr>\n",
       "      <th>1076280</th>\n",
       "      <td>1</td>\n",
       "      <td>0</td>\n",
       "    </tr>\n",
       "    <tr>\n",
       "      <th>1009880</th>\n",
       "      <td>0</td>\n",
       "      <td>1</td>\n",
       "    </tr>\n",
       "  </tbody>\n",
       "</table>\n",
       "</div>"
      ],
      "text/plain": [
       "         STATUS  preds\n",
       "LOAN_ID               \n",
       "1226723       0      1\n",
       "1419240       1      1\n",
       "1841898       1      1\n",
       "1076280       1      0\n",
       "1009880       0      1"
      ]
     },
     "execution_count": 25,
     "metadata": {},
     "output_type": "execute_result"
    }
   ],
   "source": [
    "# Create DataFrame with column for true values.\n",
    "results = pd.DataFrame(y_test)\n",
    "\n",
    "#add in predictions\n",
    "results['preds'] = (logreg.predict(X_test_tvec))\n",
    "results.head()"
   ]
  },
  {
   "cell_type": "code",
   "execution_count": 26,
   "metadata": {},
   "outputs": [
    {
     "name": "stdout",
     "output_type": "stream",
     "text": [
      "Int64Index([1226723, 1076280, 1009880, 1396076, 1565193, 1651852, 1544429,\n",
      "            1859127, 1092472,  828202, 1011734, 1740174, 1143012,  825434,\n",
      "            1564254],\n",
      "           dtype='int64', name='LOAN_ID')\n"
     ]
    }
   ],
   "source": [
    "# Find all indices where predicted and true results \n",
    "# aren't the same, then save in an array.\n",
    "\n",
    "row_ids = results[results['STATUS'] != results['preds']].index\n",
    "print(row_ids[0:15])"
   ]
  },
  {
   "cell_type": "code",
   "execution_count": 27,
   "metadata": {},
   "outputs": [],
   "source": [
    "#Create a dataframe of the misclassified descriptions  \n",
    "misclassified = df.loc[row_ids]"
   ]
  },
  {
   "cell_type": "code",
   "execution_count": 28,
   "metadata": {},
   "outputs": [
    {
     "data": {
      "text/plain": [
       "(1965, 4)"
      ]
     },
     "execution_count": 28,
     "metadata": {},
     "output_type": "execute_result"
    }
   ],
   "source": [
    "misclassified.shape"
   ]
  },
  {
   "cell_type": "markdown",
   "metadata": {},
   "source": [
    "There are 1965 total misclassified loans."
   ]
  },
  {
   "cell_type": "code",
   "execution_count": 29,
   "metadata": {},
   "outputs": [
    {
     "data": {
      "text/html": [
       "<div>\n",
       "<style scoped>\n",
       "    .dataframe tbody tr th:only-of-type {\n",
       "        vertical-align: middle;\n",
       "    }\n",
       "\n",
       "    .dataframe tbody tr th {\n",
       "        vertical-align: top;\n",
       "    }\n",
       "\n",
       "    .dataframe thead th {\n",
       "        text-align: right;\n",
       "    }\n",
       "</style>\n",
       "<table border=\"1\" class=\"dataframe\">\n",
       "  <thead>\n",
       "    <tr style=\"text-align: right;\">\n",
       "      <th></th>\n",
       "      <th>DESCRIPTION_TRANSLATED</th>\n",
       "      <th>LOAN_USE</th>\n",
       "      <th>TAGS</th>\n",
       "      <th>STATUS</th>\n",
       "    </tr>\n",
       "    <tr>\n",
       "      <th>LOAN_ID</th>\n",
       "      <th></th>\n",
       "      <th></th>\n",
       "      <th></th>\n",
       "      <th></th>\n",
       "    </tr>\n",
       "  </thead>\n",
       "  <tbody>\n",
       "    <tr>\n",
       "      <th>1226723</th>\n",
       "      <td>['small', 'scale', 'farmer', 'given', 'access'...</td>\n",
       "      <td>['laban', 'buy', 'farm', 'implement', 'highqua...</td>\n",
       "      <td>['parent']</td>\n",
       "      <td>0</td>\n",
       "    </tr>\n",
       "    <tr>\n",
       "      <th>1076280</th>\n",
       "      <td>['maureen', 'year', 'old', 'married', 'child',...</td>\n",
       "      <td>['add', 'stock', 'stall']</td>\n",
       "      <td>['womanowned', 'business', 'parent']</td>\n",
       "      <td>1</td>\n",
       "    </tr>\n",
       "    <tr>\n",
       "      <th>1009880</th>\n",
       "      <td>['hello', 'lender', 'evans', 'smiling', 'proud...</td>\n",
       "      <td>['buy', 'cereal', 'sell']</td>\n",
       "      <td>['supporting', 'family']</td>\n",
       "      <td>0</td>\n",
       "    </tr>\n",
       "    <tr>\n",
       "      <th>1396076</th>\n",
       "      <td>['lina', 'woman', 'year', 'age', 'passionate',...</td>\n",
       "      <td>['pay', 'farm', 'input', 'hire', 'labor', 'gro...</td>\n",
       "      <td>['elderly', 'womanowned', 'business', 'job', '...</td>\n",
       "      <td>0</td>\n",
       "    </tr>\n",
       "    <tr>\n",
       "      <th>1565193</th>\n",
       "      <td>['suan', 'married', 'woman', 'child', 'describ...</td>\n",
       "      <td>['purchase', 'fruit', 'result', 'increasing', ...</td>\n",
       "      <td>['womanowned', 'business', 'repeat', 'borrower...</td>\n",
       "      <td>0</td>\n",
       "    </tr>\n",
       "  </tbody>\n",
       "</table>\n",
       "</div>"
      ],
      "text/plain": [
       "                                    DESCRIPTION_TRANSLATED  \\\n",
       "LOAN_ID                                                      \n",
       "1226723  ['small', 'scale', 'farmer', 'given', 'access'...   \n",
       "1076280  ['maureen', 'year', 'old', 'married', 'child',...   \n",
       "1009880  ['hello', 'lender', 'evans', 'smiling', 'proud...   \n",
       "1396076  ['lina', 'woman', 'year', 'age', 'passionate',...   \n",
       "1565193  ['suan', 'married', 'woman', 'child', 'describ...   \n",
       "\n",
       "                                                  LOAN_USE  \\\n",
       "LOAN_ID                                                      \n",
       "1226723  ['laban', 'buy', 'farm', 'implement', 'highqua...   \n",
       "1076280                          ['add', 'stock', 'stall']   \n",
       "1009880                          ['buy', 'cereal', 'sell']   \n",
       "1396076  ['pay', 'farm', 'input', 'hire', 'labor', 'gro...   \n",
       "1565193  ['purchase', 'fruit', 'result', 'increasing', ...   \n",
       "\n",
       "                                                      TAGS  STATUS  \n",
       "LOAN_ID                                                             \n",
       "1226723                                         ['parent']       0  \n",
       "1076280               ['womanowned', 'business', 'parent']       1  \n",
       "1009880                           ['supporting', 'family']       0  \n",
       "1396076  ['elderly', 'womanowned', 'business', 'job', '...       0  \n",
       "1565193  ['womanowned', 'business', 'repeat', 'borrower...       0  "
      ]
     },
     "execution_count": 29,
     "metadata": {},
     "output_type": "execute_result"
    }
   ],
   "source": [
    "misclassified.head()"
   ]
  },
  {
   "cell_type": "code",
   "execution_count": 30,
   "metadata": {},
   "outputs": [
    {
     "data": {
      "text/plain": [
       "0    0.817812\n",
       "1    0.182188\n",
       "Name: STATUS, dtype: float64"
      ]
     },
     "execution_count": 30,
     "metadata": {},
     "output_type": "execute_result"
    }
   ],
   "source": [
    "misclassified['STATUS'].value_counts(normalize=True)"
   ]
  },
  {
   "cell_type": "markdown",
   "metadata": {},
   "source": [
    "This model misclassifies expired loans more often than it does successful, as evidenced by the over-representation of expired loans in \"misclassified\" relative to its prevalence in the dataset overall ('df')."
   ]
  },
  {
   "cell_type": "code",
   "execution_count": 34,
   "metadata": {},
   "outputs": [],
   "source": [
    "#create a dictionary with the probability that a loan will be funded\n",
    "predict_proba_dict = {'probability (success)' : logreg.predict_proba(X_test_tvec)[:,1],\n",
    "                     'prediction' : logreg.predict(X_test_tvec),\n",
    "                     'actual' : y_test,\n",
    "                     'post_text' : X_test}"
   ]
  },
  {
   "cell_type": "code",
   "execution_count": 35,
   "metadata": {},
   "outputs": [],
   "source": [
    "#turn it into a dataframe \n",
    "predict_proba_df = pd.DataFrame(predict_proba_dict)"
   ]
  },
  {
   "cell_type": "markdown",
   "metadata": {},
   "source": [
    "#### False Negatives"
   ]
  },
  {
   "cell_type": "code",
   "execution_count": 36,
   "metadata": {},
   "outputs": [
    {
     "data": {
      "text/html": [
       "<div>\n",
       "<style scoped>\n",
       "    .dataframe tbody tr th:only-of-type {\n",
       "        vertical-align: middle;\n",
       "    }\n",
       "\n",
       "    .dataframe tbody tr th {\n",
       "        vertical-align: top;\n",
       "    }\n",
       "\n",
       "    .dataframe thead th {\n",
       "        text-align: right;\n",
       "    }\n",
       "</style>\n",
       "<table border=\"1\" class=\"dataframe\">\n",
       "  <thead>\n",
       "    <tr style=\"text-align: right;\">\n",
       "      <th></th>\n",
       "      <th>probability (success)</th>\n",
       "      <th>prediction</th>\n",
       "      <th>actual</th>\n",
       "      <th>post_text</th>\n",
       "    </tr>\n",
       "    <tr>\n",
       "      <th>LOAN_ID</th>\n",
       "      <th></th>\n",
       "      <th></th>\n",
       "      <th></th>\n",
       "      <th></th>\n",
       "    </tr>\n",
       "  </thead>\n",
       "  <tbody>\n",
       "    <tr>\n",
       "      <th>1710632</th>\n",
       "      <td>0.057981</td>\n",
       "      <td>0</td>\n",
       "      <td>1</td>\n",
       "      <td>['evans', 'married', 'man', 'child', 'describe...</td>\n",
       "    </tr>\n",
       "    <tr>\n",
       "      <th>1598391</th>\n",
       "      <td>0.137942</td>\n",
       "      <td>0</td>\n",
       "      <td>1</td>\n",
       "      <td>['stanley', 'married', 'man', 'child', 'descri...</td>\n",
       "    </tr>\n",
       "    <tr>\n",
       "      <th>960563</th>\n",
       "      <td>0.145749</td>\n",
       "      <td>0</td>\n",
       "      <td>1</td>\n",
       "      <td>['william', 'yearold', 'retail', 'shop', 'prop...</td>\n",
       "    </tr>\n",
       "    <tr>\n",
       "      <th>1701564</th>\n",
       "      <td>0.181157</td>\n",
       "      <td>0</td>\n",
       "      <td>1</td>\n",
       "      <td>['zaina', 'yearold', 'married', 'woman', 'chil...</td>\n",
       "    </tr>\n",
       "    <tr>\n",
       "      <th>1620179</th>\n",
       "      <td>0.199417</td>\n",
       "      <td>0</td>\n",
       "      <td>1</td>\n",
       "      <td>['joshua', 'married', 'man', 'child', 'describ...</td>\n",
       "    </tr>\n",
       "    <tr>\n",
       "      <th>1377715</th>\n",
       "      <td>0.201978</td>\n",
       "      <td>0</td>\n",
       "      <td>1</td>\n",
       "      <td>['richard', 'married', 'man', 'describes', 'am...</td>\n",
       "    </tr>\n",
       "    <tr>\n",
       "      <th>1467239</th>\n",
       "      <td>0.213950</td>\n",
       "      <td>0</td>\n",
       "      <td>1</td>\n",
       "      <td>['samuel', 'married', 'man', 'child', 'describ...</td>\n",
       "    </tr>\n",
       "    <tr>\n",
       "      <th>1192044</th>\n",
       "      <td>0.216643</td>\n",
       "      <td>0</td>\n",
       "      <td>1</td>\n",
       "      <td>['daniel', 'year', 'old', 'married', 'blessed'...</td>\n",
       "    </tr>\n",
       "    <tr>\n",
       "      <th>953029</th>\n",
       "      <td>0.219719</td>\n",
       "      <td>0</td>\n",
       "      <td>1</td>\n",
       "      <td>['paul', 'married', 'man', 'child', 'asked', '...</td>\n",
       "    </tr>\n",
       "    <tr>\n",
       "      <th>1006869</th>\n",
       "      <td>0.221439</td>\n",
       "      <td>0</td>\n",
       "      <td>1</td>\n",
       "      <td>['patrick', 'married', 'man', 'child', 'descri...</td>\n",
       "    </tr>\n",
       "  </tbody>\n",
       "</table>\n",
       "</div>"
      ],
      "text/plain": [
       "         probability (success)  prediction  actual  \\\n",
       "LOAN_ID                                              \n",
       "1710632               0.057981           0       1   \n",
       "1598391               0.137942           0       1   \n",
       "960563                0.145749           0       1   \n",
       "1701564               0.181157           0       1   \n",
       "1620179               0.199417           0       1   \n",
       "1377715               0.201978           0       1   \n",
       "1467239               0.213950           0       1   \n",
       "1192044               0.216643           0       1   \n",
       "953029                0.219719           0       1   \n",
       "1006869               0.221439           0       1   \n",
       "\n",
       "                                                 post_text  \n",
       "LOAN_ID                                                     \n",
       "1710632  ['evans', 'married', 'man', 'child', 'describe...  \n",
       "1598391  ['stanley', 'married', 'man', 'child', 'descri...  \n",
       "960563   ['william', 'yearold', 'retail', 'shop', 'prop...  \n",
       "1701564  ['zaina', 'yearold', 'married', 'woman', 'chil...  \n",
       "1620179  ['joshua', 'married', 'man', 'child', 'describ...  \n",
       "1377715  ['richard', 'married', 'man', 'describes', 'am...  \n",
       "1467239  ['samuel', 'married', 'man', 'child', 'describ...  \n",
       "1192044  ['daniel', 'year', 'old', 'married', 'blessed'...  \n",
       "953029   ['paul', 'married', 'man', 'child', 'asked', '...  \n",
       "1006869  ['patrick', 'married', 'man', 'child', 'descri...  "
      ]
     },
     "execution_count": 36,
     "metadata": {},
     "output_type": "execute_result"
    }
   ],
   "source": [
    "#look at misclassified loans with the lowest probability of being funded\n",
    "predict_proba_df.query('prediction != actual').sort_values(by='probability (success)').head(10)"
   ]
  },
  {
   "cell_type": "code",
   "execution_count": 95,
   "metadata": {},
   "outputs": [],
   "source": [
    "fns = predict_proba_df.query('prediction != actual').sort_values(by='probability (success)').head(10).index"
   ]
  },
  {
   "cell_type": "markdown",
   "metadata": {},
   "source": [
    "#### False Positives"
   ]
  },
  {
   "cell_type": "code",
   "execution_count": 37,
   "metadata": {},
   "outputs": [
    {
     "data": {
      "text/html": [
       "<div>\n",
       "<style scoped>\n",
       "    .dataframe tbody tr th:only-of-type {\n",
       "        vertical-align: middle;\n",
       "    }\n",
       "\n",
       "    .dataframe tbody tr th {\n",
       "        vertical-align: top;\n",
       "    }\n",
       "\n",
       "    .dataframe thead th {\n",
       "        text-align: right;\n",
       "    }\n",
       "</style>\n",
       "<table border=\"1\" class=\"dataframe\">\n",
       "  <thead>\n",
       "    <tr style=\"text-align: right;\">\n",
       "      <th></th>\n",
       "      <th>probability (success)</th>\n",
       "      <th>prediction</th>\n",
       "      <th>actual</th>\n",
       "      <th>post_text</th>\n",
       "    </tr>\n",
       "    <tr>\n",
       "      <th>LOAN_ID</th>\n",
       "      <th></th>\n",
       "      <th></th>\n",
       "      <th></th>\n",
       "      <th></th>\n",
       "    </tr>\n",
       "  </thead>\n",
       "  <tbody>\n",
       "    <tr>\n",
       "      <th>1393293</th>\n",
       "      <td>0.957913</td>\n",
       "      <td>1</td>\n",
       "      <td>0</td>\n",
       "      <td>['lady', 'raising', 'hand', 'photo', 'salome',...</td>\n",
       "    </tr>\n",
       "    <tr>\n",
       "      <th>1686981</th>\n",
       "      <td>0.958089</td>\n",
       "      <td>1</td>\n",
       "      <td>0</td>\n",
       "      <td>['lilian', 'hardworking', 'woman', 'defied', '...</td>\n",
       "    </tr>\n",
       "    <tr>\n",
       "      <th>1667373</th>\n",
       "      <td>0.960412</td>\n",
       "      <td>1</td>\n",
       "      <td>0</td>\n",
       "      <td>['carren', 'single', 'mother', 'adorable', 'ch...</td>\n",
       "    </tr>\n",
       "    <tr>\n",
       "      <th>1093975</th>\n",
       "      <td>0.961062</td>\n",
       "      <td>1</td>\n",
       "      <td>0</td>\n",
       "      <td>['pahe', 'married', 'woman', 'seven', 'kid', '...</td>\n",
       "    </tr>\n",
       "    <tr>\n",
       "      <th>1094379</th>\n",
       "      <td>0.961886</td>\n",
       "      <td>1</td>\n",
       "      <td>0</td>\n",
       "      <td>['rosemary', 'married', 'woman', 'child', 'att...</td>\n",
       "    </tr>\n",
       "    <tr>\n",
       "      <th>1011121</th>\n",
       "      <td>0.961934</td>\n",
       "      <td>1</td>\n",
       "      <td>0</td>\n",
       "      <td>['person', 'raising', 'hand', 'photo', 'joshua...</td>\n",
       "    </tr>\n",
       "    <tr>\n",
       "      <th>1575297</th>\n",
       "      <td>0.962011</td>\n",
       "      <td>1</td>\n",
       "      <td>0</td>\n",
       "      <td>['irene', 'farmer', 'remote', 'town', 'nandihi...</td>\n",
       "    </tr>\n",
       "    <tr>\n",
       "      <th>1682924</th>\n",
       "      <td>0.963137</td>\n",
       "      <td>1</td>\n",
       "      <td>0</td>\n",
       "      <td>['priscah', 'single', 'mom', 'known', 'custome...</td>\n",
       "    </tr>\n",
       "    <tr>\n",
       "      <th>910596</th>\n",
       "      <td>0.966340</td>\n",
       "      <td>1</td>\n",
       "      <td>0</td>\n",
       "      <td>['mike', 'year', 'old', 'married', 'life', 'wi...</td>\n",
       "    </tr>\n",
       "    <tr>\n",
       "      <th>956321</th>\n",
       "      <td>0.970563</td>\n",
       "      <td>1</td>\n",
       "      <td>0</td>\n",
       "      <td>['santa', 'single', 'woman', 'child', 'owns', ...</td>\n",
       "    </tr>\n",
       "  </tbody>\n",
       "</table>\n",
       "</div>"
      ],
      "text/plain": [
       "         probability (success)  prediction  actual  \\\n",
       "LOAN_ID                                              \n",
       "1393293               0.957913           1       0   \n",
       "1686981               0.958089           1       0   \n",
       "1667373               0.960412           1       0   \n",
       "1093975               0.961062           1       0   \n",
       "1094379               0.961886           1       0   \n",
       "1011121               0.961934           1       0   \n",
       "1575297               0.962011           1       0   \n",
       "1682924               0.963137           1       0   \n",
       "910596                0.966340           1       0   \n",
       "956321                0.970563           1       0   \n",
       "\n",
       "                                                 post_text  \n",
       "LOAN_ID                                                     \n",
       "1393293  ['lady', 'raising', 'hand', 'photo', 'salome',...  \n",
       "1686981  ['lilian', 'hardworking', 'woman', 'defied', '...  \n",
       "1667373  ['carren', 'single', 'mother', 'adorable', 'ch...  \n",
       "1093975  ['pahe', 'married', 'woman', 'seven', 'kid', '...  \n",
       "1094379  ['rosemary', 'married', 'woman', 'child', 'att...  \n",
       "1011121  ['person', 'raising', 'hand', 'photo', 'joshua...  \n",
       "1575297  ['irene', 'farmer', 'remote', 'town', 'nandihi...  \n",
       "1682924  ['priscah', 'single', 'mom', 'known', 'custome...  \n",
       "910596   ['mike', 'year', 'old', 'married', 'life', 'wi...  \n",
       "956321   ['santa', 'single', 'woman', 'child', 'owns', ...  "
      ]
     },
     "execution_count": 37,
     "metadata": {},
     "output_type": "execute_result"
    }
   ],
   "source": [
    "#look at misclassified loans with the highest probability of being funded\n",
    "predict_proba_df.query('prediction != actual').sort_values(by='probability (success)').tail(10)"
   ]
  },
  {
   "cell_type": "code",
   "execution_count": 96,
   "metadata": {},
   "outputs": [],
   "source": [
    "fps = predict_proba_df.query('prediction != actual').sort_values(by='probability (success)').tail(10).index"
   ]
  },
  {
   "cell_type": "markdown",
   "metadata": {},
   "source": [
    "#### Explore Complete Text of Misclassified Loan Desciptions"
   ]
  },
  {
   "cell_type": "code",
   "execution_count": 88,
   "metadata": {},
   "outputs": [],
   "source": [
    "#load in the data \n",
    "filename = ('data/kenya_cleaned_nlp.csv')"
   ]
  },
  {
   "cell_type": "code",
   "execution_count": 42,
   "metadata": {},
   "outputs": [],
   "source": [
    "df = pd.read_csv(filename).set_index('LOAN_ID')"
   ]
  },
  {
   "cell_type": "code",
   "execution_count": 79,
   "metadata": {},
   "outputs": [],
   "source": [
    "desc_list = [df['DESCRIPTION_TRANSLATED'][i] for i in df.index if  i in  misclassified.index]\n",
    "index_list = [i for i in df.index if i in misclassified.index]\n",
    "status_list = [df['STATUS'][i] for i in df.index if  i in  misclassified.index]"
   ]
  },
  {
   "cell_type": "code",
   "execution_count": 83,
   "metadata": {},
   "outputs": [],
   "source": [
    "misclassified_df = pd.DataFrame(list(zip(index_list, desc_list, status_list)),columns=['LOAN_ID','DESCRIPTION_TRANSLATED', 'TRUE_STATUS']).set_index('LOAN_ID')"
   ]
  },
  {
   "cell_type": "code",
   "execution_count": 84,
   "metadata": {},
   "outputs": [
    {
     "data": {
      "text/html": [
       "<div>\n",
       "<style scoped>\n",
       "    .dataframe tbody tr th:only-of-type {\n",
       "        vertical-align: middle;\n",
       "    }\n",
       "\n",
       "    .dataframe tbody tr th {\n",
       "        vertical-align: top;\n",
       "    }\n",
       "\n",
       "    .dataframe thead th {\n",
       "        text-align: right;\n",
       "    }\n",
       "</style>\n",
       "<table border=\"1\" class=\"dataframe\">\n",
       "  <thead>\n",
       "    <tr style=\"text-align: right;\">\n",
       "      <th></th>\n",
       "      <th>DESCRIPTION_TRANSLATED</th>\n",
       "      <th>TRUE_STATUS</th>\n",
       "    </tr>\n",
       "    <tr>\n",
       "      <th>LOAN_ID</th>\n",
       "      <th></th>\n",
       "      <th></th>\n",
       "    </tr>\n",
       "  </thead>\n",
       "  <tbody>\n",
       "    <tr>\n",
       "      <th>909048</th>\n",
       "      <td>Constantine is a smallholder farmer residing i...</td>\n",
       "      <td>0</td>\n",
       "    </tr>\n",
       "    <tr>\n",
       "      <th>1038206</th>\n",
       "      <td>Featured in the above picture is Alfred, who h...</td>\n",
       "      <td>0</td>\n",
       "    </tr>\n",
       "    <tr>\n",
       "      <th>1605480</th>\n",
       "      <td>Emmanuel is a 28-year-old married man. He has ...</td>\n",
       "      <td>1</td>\n",
       "    </tr>\n",
       "    <tr>\n",
       "      <th>1236109</th>\n",
       "      <td>Victor is in his second year of his studies at...</td>\n",
       "      <td>0</td>\n",
       "    </tr>\n",
       "    <tr>\n",
       "      <th>1736095</th>\n",
       "      <td>Margaret (51) has always emerged victorious de...</td>\n",
       "      <td>0</td>\n",
       "    </tr>\n",
       "  </tbody>\n",
       "</table>\n",
       "</div>"
      ],
      "text/plain": [
       "                                    DESCRIPTION_TRANSLATED  TRUE_STATUS\n",
       "LOAN_ID                                                                \n",
       "909048   Constantine is a smallholder farmer residing i...            0\n",
       "1038206  Featured in the above picture is Alfred, who h...            0\n",
       "1605480  Emmanuel is a 28-year-old married man. He has ...            1\n",
       "1236109  Victor is in his second year of his studies at...            0\n",
       "1736095  Margaret (51) has always emerged victorious de...            0"
      ]
     },
     "execution_count": 84,
     "metadata": {},
     "output_type": "execute_result"
    }
   ],
   "source": [
    "misclassified_df.head()"
   ]
  },
  {
   "cell_type": "markdown",
   "metadata": {},
   "source": [
    "#### False Negatives"
   ]
  },
  {
   "cell_type": "code",
   "execution_count": 105,
   "metadata": {},
   "outputs": [
    {
     "name": "stdout",
     "output_type": "stream",
     "text": [
      "Evans is a married man.  He has one child.  He describes himself as honest and ambitious.  He operates a retail business where he sells clothes.  He has been involved in this business for over six years.  His business is located in a good area, and his primary customers are locals from Nakuru, Kenya.  He describes his biggest business challenge as inadequate working capital. <br /><br />He will use the KES 30,000 loan to purchase additional stock of clothes for more sales.  His business goal is to have a bigger boutique within five years.  He hopes that in the future, he will be financially stable. This is his fifth loan with SMEP Microfinance Bank.  His previous loans were repaid successfully. He will use the anticipated profits to buy more stock of clothes.\n",
      " \n",
      "Stanley is a married man. He has 3 children. He describes himself to be honest. He operates a m-pesa shop where he provides money transfer services. He has been involved in this business for 6 years. His business is located in a good area and his primary customers are locals. He describes his biggest business challenge to be inadequate working capital. He will use the Kes 50,000 loan to add more float to facilitate money transfer services. His business goal is to have a bigger m-pesa shop within 5 years. This is his eighth loan with SMEP Microfinance Bank. Previous loans were repaid successfully. He will use the anticipated profits to add more float\n",
      " \n",
      "William is a 74-year-old retail shop proprietor in Kenya. He is a father of two adults.  His wife provides for additional income, and for the past sixteen years he has been doing well in this business.<br /><br />This is William's fourth loan from VisionFund to finance his asset purchase. He will use the money to purchase a motorcycle for additional profit and use the anticipated profit to repay his loan and purchase a second motorcycle. He hopes to own a fleet of several motorcycles in the future.\n",
      " \n",
      "Zaina is a 53-year-old married woman. She has three children. She describes herself to be ambitious. She operates a rental house business and a tailoring shop  where she provides rental services and sells clothes.  Her business is located in a good area and her primary customers are locals from Murang'a, Kenya. She describes her biggest business challenge to be inadequate working capital. <br /><br />She will use the KES 98,000 loan to renovate the houses to attract more tenants and add more tailoring materials. Her business goal is to have more rental units within five years. She hopes that in the future, she will be financially stable. This is her fourth loan with SMEP Microfinance Bank. Her previous loans were repaid successfully. She will use the anticipated profits to build more rental units.\n",
      " \n",
      "Joshua is a married man and has four children. He describes himself to be honest. <br /><br />He operates a retail business where he sells utensils. He has been involved in this business for five years. His business is located in a good area and his primary customers are locals. He describes his biggest business challenge to be inadequate working capital. <br /><br />He will use the KES 100,000 loan to purchase additional stock of utensils to generate more sales.  He will use the anticipated profits to add more stock of utensils.\n",
      " \n",
      "Richard is a married man. He describes himself to be ambitious. <br /><br />He operates a retail business where he sells milk. He has been involved in this business for 2 years. His business is located in a good area and his primary customers are locals. <br /><br />Richard describes his biggest business challenge to be inadequate working capital. He will use the KES 100,000 loan to buy more stock of milk. <br /><br />This is his fourth loan with SMEP Microfinance Bank. Previous loans were repaid successfully. He will use the anticipated profits to purchase additional stock.\n",
      " \n",
      "Samuel is a married man. He has five children. He describes himself as ambitious. <br /><br />Samuel operates a restaurant, and has been involved in this business for 15 years. His business is located in a good area and his primary customers are locals. <br /><br />He describes his biggest business challenge to be inadequate working capital. He will use the KES 50,000 loan to buy stock of ingredients for preparing food. <br /><br />This is his fourth loan with SMEP Microfinance Bank. Previous loans were repaid successfully. He will use the anticipated profits to purchase additional stock.\n",
      " \n",
      "Daniel is 41 years old. He is married and blessed with three children. His business is operating a motorcycle taxi, which he has done for four years and has been profitable.<br /><br />This is his second loan, which he will use to buy another motorcycle. He will use the profits from his expanded business to save and buy another motorcycle. <br /><br />His hopes and dreams are to own a fleet of motorcycle taxis.\n",
      " \n",
      "Paul is a married man with six children. When he was asked, he described himself as honest. <br /><br />For the past six years Paul has had a shop where he sells clothes, sandals and bags. His store is located in a good place and is patronized by local customers. He says his biggest business challenge is inadequate working capital. <br /><br />Paul took out and successfully repaid a previous loan through Kiva's field partner SMEP Microfinance Bank. He has now applied for a 30,000 KES loan to buy more inventory for his shop. His business goal is to operate a wholesale business within five years.\n",
      " \n",
      "Patrick is a married man. He has 3 children. He describes himself as ambitious. He operates a retail business where he sells clothes. He has been involved in this business for 6 years. His business is located in a good area and his primary customers are locals. <br /><br />He will use the KES 51,000 loan to buy more stock of clothes. His business goal is to expand his business within 5 years. This is his fifth loan with SMEP Microfinance Bank. His previous loans were repaid successfully. He will use the anticipated profits to expand his business.\n",
      " \n"
     ]
    }
   ],
   "source": [
    "fn_df = pd.DataFrame(misclassified_df['DESCRIPTION_TRANSLATED'][fns])\n",
    "for i in fn_df['DESCRIPTION_TRANSLATED']:\n",
    "    print(i)\n",
    "    print(\" \")"
   ]
  },
  {
   "cell_type": "markdown",
   "metadata": {},
   "source": [
    "#### False Positives"
   ]
  },
  {
   "cell_type": "code",
   "execution_count": 104,
   "metadata": {},
   "outputs": [
    {
     "name": "stdout",
     "output_type": "stream",
     "text": [
      "The lady raising her hand in the photo is Salome. She is 52 years old, married, and the mother of three children. She is a member of Rwema Shg Group, which joined Hand in Hand Eastern Africa in the year 2016, and has benefited from enterprise development and financial management training. <br /><br />Salome does goat farming. She is borrowing a Kiva loan to buy more goats for resale. She hopes this will meet her customers' demands, hence increasing her income. She will therefore use the anticipated income to provide food and clothing for her family.<br /><br />She is grateful to Kiva and its lenders for the financial support and promises to repay promptly.\n",
      " \n",
      "Lilian is a hardworking woman. She has defied the common thinking among most Kenyans that having proper learning and being born into a wealthy home are the only ways to become successful in life. She is a humble mother of lovely children. Her primary source of income is milk, and she plants different varieties of food crops. <br /><br />Lilian sells eggs and milk to her neighbors, enabling her to earn an income. Of all her enterprises, she loves poultry farming the most because it is the most profitable. Through continuous involvement in poultry farming, she has learned how to make her own chicken feed. Lilian has also learned how to keep poultry farming records and this makes her feel accomplished as a poultry farmer. <br /><br />Lilian's children are very proud of their mother. Lilian lacks funds to increase her poultry business and that is why she is asking for this loan. She will buy quality breeds of poultry to enable her to make more profit and improve her family's living conditions. <br /><br />Lilian has been inspired by the efforts of Juhudi Kilimo and Kiva in improving the lives of rural farmers. She is patiently awaiting your positive response.\n",
      " \n",
      "Carren is a single mother of one adorable child whom she adores. She is a hardworking and devoted woman when it comes to her business. Her positive attitude has earned her customers in her retail business. Her dream is to grow her business from a retailer to a wholesaler. She also aspires to educate her child to university level for a brighter future ahead. Carren is pleading for a fourth Kiva loan of KES 120,000 to make her dream come true. She promises to repay the loan with the earned profit from her business.\n",
      " \n",
      "Pahe is a married woman with seven kids, all of whom attend school. She owns a house that has neither electricity nor piped water. Her greatest monthly expense is school fees.<br /><br />Pahe operates a grocery vegetable stall. She sells at the market to town dwellers and neighbors. She faces a challenge of the high cost of seasonality in her place of operation. <br /><br />With the KES 50,000, she wants to purchase green vegetables, two crates of tomatoes, and onions for resale. She decided to join Yehu to access loans to boost her business.\n",
      " \n",
      "Rosemary is a married woman with three children,  all of whom attend school .She  lives in a rental house that  that has electricity  but no piped water .Her greatest monthly expense is  school fees .<br /><br />She has operated a  plastic sales items , selling from the market to neighbors and passersby, for the past two years .Rosemary mentioned  seasonality as a major challenge in her business.<br /><br />With the loan she is requesting, Rosemary wants to purchase plastic basins for resale .She decided to join yehu to access loans and boost her business.\n",
      " \n",
      "The person raising his hand in the photo is Joshua, a member of Morning Star Women Group in Nakuru County. He is 22 years old, married and blessed with two children. Joshua joined Hand in Hand Eastern Africa (HiH EA) in 2014.<br /><br />Joshua raises maize, beans, vegetables and poultry. HiH EA enterprise training has enabled him to manage his enterprise well, and hence earn more profit. He is taking out a Kiva loan to buy fertilizer and seeds that will improve the quality and quantity of his yields, thus maximizing profit. Income from this enterprise will help him meet his family's basic needs, such as education and medical care.<br /><br />He is grateful to Kiva and its lenders and promises to repay promptly.\n",
      " \n",
      "Irene is a farmer from a remote town in the Nandihills area of Kenya. She resides with her husband and family. She has been actively involved in farming for the last five years and has never regretted or looked back. She practices mixed farming and sells milk, eggs, and various food crops at the local market. Irene passionately loves poultry farming, but the biggest challenge she faces is a lack of capital to buy quality breeds of poultry that are resistant to diseases and lay more eggs. <br /><br />Irene is seeking a loan to purchase additional poultry. <br /><br />She will use her excess maize to feed the poultry, and will provide sorghum to give the poultry energy and green grams (beans) for protein. Through better feeding, the poultry will increase their egg production and will lay more eggs that are of good quality, which will translate to more income. <br /><br />Apart from an increase in egg production, she will get increased output from poultry meat, and this will further increase her income and profit margins. Through increased profits, she intends to turn around her living conditions and live a better life. <br /><br />In addition to profits, Irene will benefit from chicken manure. She will be able to save money that would have been spent to buy fertilizer. <br /><br />Thanks to your support, Irene will succeed in making her dreams come true\n",
      " \n",
      "Priscah, a single mom, is known amongst her customers as a lovable and charismatic woman. She works by looking after her own farm. Living in a poor and third-world country has never been an excuse for Priscah, who has been practicing mixed farming for the past five years. She is a single mom eager to get ahead. After deriving profit from her first harvest, Priscah felt encouraged and elevated to invest more in agribusiness. Through agriculture, she has made her life meaningful, and she feels she is now deriving maximum pleasure. <br />                       Priscah is seeking a loan to purchase fertilizer and foliar spray to improve the quality of her produce and elevate her standard of living. Priscah hopes you will consider her appeal for this loan. It would mean a lot to her and her family. Be part of the success of a single mother this year 2019.\n",
      " \n",
      "Mike is 32 years old and married. He lives with his wife and three children in the Obwari location of Kenya. He practices dairy, poultry, goat and tree farming on his one acre of land. Mostly, his activities meet subsistence levels.  \\r\\n\\r\\nThrough Juhudi Kilimo, a micro-finance partner that seeks to make Kenyan subsistence farmers more 'commercial minded', Mike is seeking a KES 40,000 loan to start commercial poultry farming.\\r\\n\\r\\nWith your loan, he will move from having six hens on his farm to over 40 of them. He has budgeted KES 20,000 for this move. The remaining KES 20,000 will be used to buy a water tank that will store water for his animals and crops during dry seasons.\\r\\n\\r\\nMike will use the income that he hopes to earn from poultry farming to look after his family’s well-being and his children’s education. He also wants to continue investing in poultry in the future. \\r\\n\n",
      " \n",
      "Santa is a single woman who has no children. She owns a house that has neither electricity nor piped water. Her greatest monthly expense is food.<br /><br />Santa operates a grocery vegetables selling stall. She sells at the market to town dwellers and neighbors. She faces a challenge of seasonality in her place of operation. <br /><br />With the KES 30,000, she wants to purchase green vegetables, two crates of tomatoes, and onions for resale. She decided to join Yehu to access loans to boost her business.\n",
      " \n"
     ]
    }
   ],
   "source": [
    "fp_df = pd.DataFrame(misclassified_df['DESCRIPTION_TRANSLATED'][fps])\n",
    "for i in fp_df['DESCRIPTION_TRANSLATED']:\n",
    "    print(i)\n",
    "    print(\" \")"
   ]
  },
  {
   "cell_type": "code",
   "execution_count": null,
   "metadata": {},
   "outputs": [],
   "source": []
  }
 ],
 "metadata": {
  "kernelspec": {
   "display_name": "Python 3",
   "language": "python",
   "name": "python3"
  },
  "language_info": {
   "codemirror_mode": {
    "name": "ipython",
    "version": 3
   },
   "file_extension": ".py",
   "mimetype": "text/x-python",
   "name": "python",
   "nbconvert_exporter": "python",
   "pygments_lexer": "ipython3",
   "version": "3.8.5"
  }
 },
 "nbformat": 4,
 "nbformat_minor": 4
}
